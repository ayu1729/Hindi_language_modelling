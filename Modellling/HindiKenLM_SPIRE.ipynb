{
  "nbformat": 4,
  "nbformat_minor": 0,
  "metadata": {
    "colab": {
      "name": "HindiKenLM_SPIRE.ipynb",
      "provenance": [],
      "collapsed_sections": [],
      "include_colab_link": true
    },
    "kernelspec": {
      "name": "python3",
      "display_name": "Python 3"
    },
    "language_info": {
      "name": "python"
    }
  },
  "cells": [
    {
      "cell_type": "markdown",
      "metadata": {
        "id": "view-in-github",
        "colab_type": "text"
      },
      "source": [
        "<a href=\"https://colab.research.google.com/github/ayu1729/Hindi_language_modelling/blob/main/Modellling/HindiKenLM_SPIRE.ipynb\" target=\"_parent\"><img src=\"https://colab.research.google.com/assets/colab-badge.svg\" alt=\"Open In Colab\"/></a>"
      ]
    },
    {
      "cell_type": "code",
      "execution_count": null,
      "metadata": {
        "colab": {
          "base_uri": "https://localhost:8080/"
        },
        "id": "-NbPLHv11woK",
        "outputId": "bf9239f9-b51c-483e-c2b0-029df0423d03"
      },
      "outputs": [
        {
          "output_type": "stream",
          "name": "stdout",
          "text": [
            "Reading package lists... Done\n",
            "Building dependency tree       \n",
            "Reading state information... Done\n",
            "build-essential is already the newest version (12.4ubuntu1).\n",
            "libboost-all-dev is already the newest version (1.65.1.0ubuntu1).\n",
            "cmake is already the newest version (3.10.2-1ubuntu2.18.04.2).\n",
            "libbz2-dev is already the newest version (1.0.6-8.1ubuntu0.2).\n",
            "libbz2-dev set to manually installed.\n",
            "liblzma-dev is already the newest version (5.2.2-1.3ubuntu0.1).\n",
            "liblzma-dev set to manually installed.\n",
            "zlib1g-dev is already the newest version (1:1.2.11.dfsg-0ubuntu2.1).\n",
            "zlib1g-dev set to manually installed.\n",
            "The following package was automatically installed and is no longer required:\n",
            "  libnvidia-common-460\n",
            "Use 'apt autoremove' to remove it.\n",
            "0 upgraded, 0 newly installed, 0 to remove and 42 not upgraded.\n",
            "Cloning into 'kenlm'...\n",
            "remote: Enumerating objects: 7307, done.\u001b[K\n",
            "remote: Total 7307 (delta 0), reused 0 (delta 0), pack-reused 7307\u001b[K\n",
            "Receiving objects: 100% (7307/7307), 3.39 MiB | 17.11 MiB/s, done.\n",
            "Resolving deltas: 100% (3234/3234), done.\n",
            "/content/kenlm\n",
            "warning: No toolsets are configured.\n",
            "warning: Configuring default toolset \"gcc\".\n",
            "warning: If the default is wrong, your build may not work correctly.\n",
            "warning: Use the \"toolset=xxxxx\" option to override our guess.\n",
            "warning: For more configuration options, please consult\n",
            "warning: http://boost.org/boost-build2/doc/html/bbv2/advanced/configuration.html\n",
            "...patience...\n",
            "...found 574 targets...\n",
            "...updating 149 targets...\n",
            "common.mkdir lm/filter/bin\n",
            "common.mkdir lm/filter/bin/gcc-7\n",
            "common.mkdir lm/filter/bin/gcc-7/release\n",
            "common.mkdir lm/filter/bin/gcc-7/release/threading-multi\n",
            "gcc.compile.c++ lm/filter/bin/gcc-7/release/threading-multi/main.o\n",
            "common.mkdir util/bin\n",
            "common.mkdir util/bin/gcc-7\n",
            "common.mkdir util/bin/gcc-7/release\n",
            "common.mkdir util/bin/gcc-7/release/threading-multi\n",
            "gcc.compile.c++ util/bin/gcc-7/release/threading-multi/read_compressed.o\n",
            "common.mkdir util/double-conversion/bin\n",
            "common.mkdir util/double-conversion/bin/gcc-7\n",
            "common.mkdir util/double-conversion/bin/gcc-7/release\n",
            "common.mkdir util/double-conversion/bin/gcc-7/release/threading-multi\n",
            "gcc.compile.c++ util/double-conversion/bin/gcc-7/release/threading-multi/strtod.o\n",
            "gcc.compile.c++ util/double-conversion/bin/gcc-7/release/threading-multi/fixed-dtoa.o\n",
            "gcc.compile.c++ util/double-conversion/bin/gcc-7/release/threading-multi/fast-dtoa.o\n",
            "gcc.compile.c++ util/double-conversion/bin/gcc-7/release/threading-multi/double-conversion.o\n",
            "gcc.compile.c++ util/double-conversion/bin/gcc-7/release/threading-multi/diy-fp.o\n",
            "gcc.compile.c++ util/double-conversion/bin/gcc-7/release/threading-multi/cached-powers.o\n",
            "gcc.compile.c++ util/double-conversion/bin/gcc-7/release/threading-multi/bignum.o\n",
            "gcc.compile.c++ util/double-conversion/bin/gcc-7/release/threading-multi/bignum-dtoa.o\n",
            "gcc.compile.c++ util/bin/gcc-7/release/threading-multi/bit_packing.o\n",
            "gcc.compile.c++ util/bin/gcc-7/release/threading-multi/ersatz_progress.o\n",
            "gcc.compile.c++ util/bin/gcc-7/release/threading-multi/exception.o\n",
            "util/exception.cc:55:13: warning: ‘const char* util::{anonymous}::HandleStrerror(int, const char*)’ defined but not used [-Wunused-function]\n",
            " const char *HandleStrerror(int ret, const char *buf) {\n",
            "             ^~~~~~~~~~~~~~\n",
            "gcc.compile.c++ util/bin/gcc-7/release/threading-multi/file.o\n",
            "gcc.compile.c++ util/bin/gcc-7/release/threading-multi/file_piece.o\n",
            "gcc.compile.c++ util/bin/gcc-7/release/threading-multi/mmap.o\n",
            "gcc.compile.c++ util/bin/gcc-7/release/threading-multi/murmur_hash.o\n",
            "gcc.compile.c++ util/bin/gcc-7/release/threading-multi/pool.o\n",
            "gcc.compile.c++ util/bin/gcc-7/release/threading-multi/scoped.o\n",
            "gcc.compile.c++ util/bin/gcc-7/release/threading-multi/string_piece.o\n",
            "gcc.compile.c++ util/bin/gcc-7/release/threading-multi/usage.o\n",
            "gcc.compile.c++ lm/filter/bin/gcc-7/release/threading-multi/phrase.o\n",
            "gcc.compile.c++ lm/filter/bin/gcc-7/release/threading-multi/vocab.o\n",
            "gcc.compile.c++ lm/filter/bin/gcc-7/release/threading-multi/arpa_io.o\n",
            "common.mkdir lm/bin\n",
            "common.mkdir lm/bin/gcc-7\n",
            "common.mkdir lm/bin/gcc-7/release\n",
            "common.mkdir lm/bin/gcc-7/release/threading-multi\n",
            "common.mkdir /content/kenlm/lm/bin\n",
            "Jamfile</content/kenlm>.write-options /content/kenlm/lm/bin/order.log\n",
            "gcc.compile.c++ lm/bin/gcc-7/release/threading-multi/vocab.o\n",
            "In file included from lm/vocab.cc:1:0:\n",
            "./lm/vocab.hh:173:43: warning: dynamic exception specifications are deprecated in C++11 [-Wdeprecated]\n",
            " void MissingUnknown(const Config &config) throw(SpecialWordMissingException);\n",
            "                                           ^~~~~\n",
            "./lm/vocab.hh:174:67: warning: dynamic exception specifications are deprecated in C++11 [-Wdeprecated]\n",
            " void MissingSentenceMarker(const Config &config, const char *str) throw(SpecialWordMissingException);\n",
            "                                                                   ^~~~~\n",
            "./lm/vocab.hh:176:85: warning: dynamic exception specifications are deprecated in C++11 [-Wdeprecated]\n",
            " template <class Vocab> void CheckSpecials(const Config &config, const Vocab &vocab) throw(SpecialWordMissingException) {\n",
            "                                                                                     ^~~~~\n",
            "lm/vocab.cc:217:43: warning: dynamic exception specifications are deprecated in C++11 [-Wdeprecated]\n",
            " void MissingUnknown(const Config &config) throw(SpecialWordMissingException) {\n",
            "                                           ^~~~~\n",
            "lm/vocab.cc:229:67: warning: dynamic exception specifications are deprecated in C++11 [-Wdeprecated]\n",
            " void MissingSentenceMarker(const Config &config, const char *str) throw(SpecialWordMissingException) {\n",
            "                                                                   ^~~~~\n",
            "gcc.compile.c++ lm/bin/gcc-7/release/threading-multi/virtual_interface.o\n",
            "gcc.compile.c++ lm/bin/gcc-7/release/threading-multi/value_build.o\n",
            "In file included from ./lm/model.hh:13:0,\n",
            "                 from lm/value_build.cc:3:\n",
            "./lm/vocab.hh:173:43: warning: dynamic exception specifications are deprecated in C++11 [-Wdeprecated]\n",
            " void MissingUnknown(const Config &config) throw(SpecialWordMissingException);\n",
            "                                           ^~~~~\n",
            "./lm/vocab.hh:174:67: warning: dynamic exception specifications are deprecated in C++11 [-Wdeprecated]\n",
            " void MissingSentenceMarker(const Config &config, const char *str) throw(SpecialWordMissingException);\n",
            "                                                                   ^~~~~\n",
            "./lm/vocab.hh:176:85: warning: dynamic exception specifications are deprecated in C++11 [-Wdeprecated]\n",
            " template <class Vocab> void CheckSpecials(const Config &config, const Vocab &vocab) throw(SpecialWordMissingException) {\n",
            "                                                                                     ^~~~~\n",
            "gcc.compile.c++ lm/bin/gcc-7/release/threading-multi/trie_sort.o\n",
            "In file included from lm/trie_sort.cc:6:0:\n",
            "./lm/vocab.hh:173:43: warning: dynamic exception specifications are deprecated in C++11 [-Wdeprecated]\n",
            " void MissingUnknown(const Config &config) throw(SpecialWordMissingException);\n",
            "                                           ^~~~~\n",
            "./lm/vocab.hh:174:67: warning: dynamic exception specifications are deprecated in C++11 [-Wdeprecated]\n",
            " void MissingSentenceMarker(const Config &config, const char *str) throw(SpecialWordMissingException);\n",
            "                                                                   ^~~~~\n",
            "./lm/vocab.hh:176:85: warning: dynamic exception specifications are deprecated in C++11 [-Wdeprecated]\n",
            " template <class Vocab> void CheckSpecials(const Config &config, const Vocab &vocab) throw(SpecialWordMissingException) {\n",
            "                                                                                     ^~~~~\n",
            "gcc.compile.c++ lm/bin/gcc-7/release/threading-multi/trie.o\n",
            "gcc.compile.c++ lm/bin/gcc-7/release/threading-multi/sizes.o\n",
            "In file included from ./lm/model.hh:13:0,\n",
            "                 from lm/sizes.cc:2:\n",
            "./lm/vocab.hh:173:43: warning: dynamic exception specifications are deprecated in C++11 [-Wdeprecated]\n",
            " void MissingUnknown(const Config &config) throw(SpecialWordMissingException);\n",
            "                                           ^~~~~\n",
            "./lm/vocab.hh:174:67: warning: dynamic exception specifications are deprecated in C++11 [-Wdeprecated]\n",
            " void MissingSentenceMarker(const Config &config, const char *str) throw(SpecialWordMissingException);\n",
            "                                                                   ^~~~~\n",
            "./lm/vocab.hh:176:85: warning: dynamic exception specifications are deprecated in C++11 [-Wdeprecated]\n",
            " template <class Vocab> void CheckSpecials(const Config &config, const Vocab &vocab) throw(SpecialWordMissingException) {\n",
            "                                                                                     ^~~~~\n",
            "gcc.compile.c++ lm/bin/gcc-7/release/threading-multi/search_trie.o\n",
            "In file included from lm/search_trie.cc:12:0:\n",
            "./lm/vocab.hh:173:43: warning: dynamic exception specifications are deprecated in C++11 [-Wdeprecated]\n",
            " void MissingUnknown(const Config &config) throw(SpecialWordMissingException);\n",
            "                                           ^~~~~\n",
            "./lm/vocab.hh:174:67: warning: dynamic exception specifications are deprecated in C++11 [-Wdeprecated]\n",
            " void MissingSentenceMarker(const Config &config, const char *str) throw(SpecialWordMissingException);\n",
            "                                                                   ^~~~~\n",
            "./lm/vocab.hh:176:85: warning: dynamic exception specifications are deprecated in C++11 [-Wdeprecated]\n",
            " template <class Vocab> void CheckSpecials(const Config &config, const Vocab &vocab) throw(SpecialWordMissingException) {\n",
            "                                                                                     ^~~~~\n",
            "gcc.compile.c++ lm/bin/gcc-7/release/threading-multi/search_hashed.o\n",
            "In file included from ./lm/model.hh:13:0,\n",
            "                 from lm/search_hashed.cc:6:\n",
            "./lm/vocab.hh:173:43: warning: dynamic exception specifications are deprecated in C++11 [-Wdeprecated]\n",
            " void MissingUnknown(const Config &config) throw(SpecialWordMissingException);\n",
            "                                           ^~~~~\n",
            "./lm/vocab.hh:174:67: warning: dynamic exception specifications are deprecated in C++11 [-Wdeprecated]\n",
            " void MissingSentenceMarker(const Config &config, const char *str) throw(SpecialWordMissingException);\n",
            "                                                                   ^~~~~\n",
            "./lm/vocab.hh:176:85: warning: dynamic exception specifications are deprecated in C++11 [-Wdeprecated]\n",
            " template <class Vocab> void CheckSpecials(const Config &config, const Vocab &vocab) throw(SpecialWordMissingException) {\n",
            "                                                                                     ^~~~~\n",
            "gcc.compile.c++ lm/bin/gcc-7/release/threading-multi/read_arpa.o\n",
            "gcc.compile.c++ lm/bin/gcc-7/release/threading-multi/quantize.o\n",
            "gcc.compile.c++ lm/bin/gcc-7/release/threading-multi/model.o\n",
            "In file included from ./lm/model.hh:13:0,\n",
            "                 from lm/model.cc:1:\n",
            "./lm/vocab.hh:173:43: warning: dynamic exception specifications are deprecated in C++11 [-Wdeprecated]\n",
            " void MissingUnknown(const Config &config) throw(SpecialWordMissingException);\n",
            "                                           ^~~~~\n",
            "./lm/vocab.hh:174:67: warning: dynamic exception specifications are deprecated in C++11 [-Wdeprecated]\n",
            " void MissingSentenceMarker(const Config &config, const char *str) throw(SpecialWordMissingException);\n",
            "                                                                   ^~~~~\n",
            "./lm/vocab.hh:176:85: warning: dynamic exception specifications are deprecated in C++11 [-Wdeprecated]\n",
            " template <class Vocab> void CheckSpecials(const Config &config, const Vocab &vocab) throw(SpecialWordMissingException) {\n",
            "                                                                                     ^~~~~\n",
            "gcc.compile.c++ lm/bin/gcc-7/release/threading-multi/lm_exception.o\n",
            "gcc.compile.c++ lm/bin/gcc-7/release/threading-multi/config.o\n",
            "gcc.compile.c++ lm/bin/gcc-7/release/threading-multi/binary_format.o\n",
            "gcc.compile.c++ lm/bin/gcc-7/release/threading-multi/bhiksha.o\n",
            "gcc.link /content/kenlm/bin/filter\n",
            "common.mkdir /content/kenlm/lib\n",
            "gcc.link.dll /content/kenlm/lib/libkenlm.so\n",
            "common.mkdir lm/bin/left_test.test\n",
            "common.mkdir lm/bin/left_test.test/gcc-7\n",
            "common.mkdir lm/bin/left_test.test/gcc-7/release\n",
            "common.mkdir lm/bin/left_test.test/gcc-7/release/threading-multi\n",
            "gcc.compile.c++ lm/bin/left_test.test/gcc-7/release/threading-multi/left_test.o\n",
            "In file included from ./lm/model.hh:13:0,\n",
            "                 from lm/left_test.cc:2:\n",
            "./lm/vocab.hh:173:43: warning: dynamic exception specifications are deprecated in C++11 [-Wdeprecated]\n",
            " void MissingUnknown(const Config &config) throw(SpecialWordMissingException);\n",
            "                                           ^~~~~\n",
            "./lm/vocab.hh:174:67: warning: dynamic exception specifications are deprecated in C++11 [-Wdeprecated]\n",
            " void MissingSentenceMarker(const Config &config, const char *str) throw(SpecialWordMissingException);\n",
            "                                                                   ^~~~~\n",
            "./lm/vocab.hh:176:85: warning: dynamic exception specifications are deprecated in C++11 [-Wdeprecated]\n",
            " template <class Vocab> void CheckSpecials(const Config &config, const Vocab &vocab) throw(SpecialWordMissingException) {\n",
            "                                                                                     ^~~~~\n",
            "gcc.link lm/bin/left_test.test/gcc-7/release/threading-multi/left_test\n",
            "testing.capture-output lm/bin/left_test.test/gcc-7/release/threading-multi/left_test.run\n",
            "====== BEGIN OUTPUT ======\n",
            "Boost.Test WARNING: token \"lm/test.arpa\" does not correspond to the Boost.Test argument \n",
            "                    and should be placed after all Boost.Test arguments and the -- separator.\n",
            "                    For example: left_test --random -- lm/test.arpa\n",
            "Running 6 test cases...\n",
            "unknown location(0): fatal error: in \"TrieAll\": lm::SpecialWordMissingException: lm/vocab.cc:237 in void lm::ngram::MissingSentenceMarker(const lm::ngram::Config&, const char*) threw SpecialWordMissingException'.\n",
            "The ARPA file is missing </s> and the model is configured to reject these models.  Run build_binary -s to disable this check. Byte: 955 File: lm/test.arpa\n",
            "lm/left_test.cc(375): last checkpoint: \"TrieAll\" test entry\n",
            "unknown location(0): fatal error: in \"QuantTrieAll\": lm::SpecialWordMissingException: lm/vocab.cc:237 in void lm::ngram::MissingSentenceMarker(const lm::ngram::Config&, const char*) threw SpecialWordMissingException'.\n",
            "The ARPA file is missing </s> and the model is configured to reject these models.  Run build_binary -s to disable this check. Byte: 955 File: lm/test.arpa\n",
            "lm/left_test.cc(378): last checkpoint: \"QuantTrieAll\" test entry\n",
            "unknown location(0): fatal error: in \"ArrayQuantTrieAll\": lm::SpecialWordMissingException: lm/vocab.cc:237 in void lm::ngram::MissingSentenceMarker(const lm::ngram::Config&, const char*) threw SpecialWordMissingException'.\n",
            "The ARPA file is missing </s> and the model is configured to reject these models.  Run build_binary -s to disable this check. Byte: 955 File: lm/test.arpa\n",
            "lm/left_test.cc(381): last checkpoint: \"ArrayQuantTrieAll\" test entry\n",
            "unknown location(0): fatal error: in \"ArrayTrieAll\": lm::SpecialWordMissingException: lm/vocab.cc:237 in void lm::ngram::MissingSentenceMarker(const lm::ngram::Config&, const char*) threw SpecialWordMissingException'.\n",
            "The ARPA file is missing </s> and the model is configured to reject these models.  Run build_binary -s to disable this check. Byte: 955 File: lm/test.arpa\n",
            "lm/left_test.cc(384): last checkpoint: \"ArrayTrieAll\" test entry\n",
            "\n",
            "*** 4 failures are detected in the test module \"LeftTest\"\n",
            "\n",
            "EXIT STATUS: 201\n",
            "====== END OUTPUT ======\n",
            "\n",
            "    LD_LIBRARY_PATH=\"/usr/bin:/usr/lib:/usr/lib32:/usr/lib64:$LD_LIBRARY_PATH\"\n",
            "export LD_LIBRARY_PATH\n",
            "\n",
            "    status=0\n",
            "    if test $status -ne 0 ; then\n",
            "        echo Skipping test execution due to testing.execute=off\n",
            "        exit 0\n",
            "    fi\n",
            "     \"lm/bin/left_test.test/gcc-7/release/threading-multi/left_test\"  \"lm/test.arpa\" > \"lm/bin/left_test.test/gcc-7/release/threading-multi/left_test.output\" 2>&1 < /dev/null\n",
            "    status=$?\n",
            "    echo >> \"lm/bin/left_test.test/gcc-7/release/threading-multi/left_test.output\"\n",
            "    echo EXIT STATUS: $status >> \"lm/bin/left_test.test/gcc-7/release/threading-multi/left_test.output\"\n",
            "    if test $status -eq 0 ; then\n",
            "        cp \"lm/bin/left_test.test/gcc-7/release/threading-multi/left_test.output\" \"lm/bin/left_test.test/gcc-7/release/threading-multi/left_test.run\"\n",
            "    fi\n",
            "    verbose=0\n",
            "    if test $status -ne 0 ; then\n",
            "        verbose=1\n",
            "    fi\n",
            "    if test $verbose -eq 1 ; then\n",
            "        echo ====== BEGIN OUTPUT ======\n",
            "        cat \"lm/bin/left_test.test/gcc-7/release/threading-multi/left_test.output\"\n",
            "        echo ====== END OUTPUT ======\n",
            "    fi\n",
            "    exit $status\n",
            "\n",
            "...failed testing.capture-output lm/bin/left_test.test/gcc-7/release/threading-multi/left_test.run...\n",
            "common.mkdir lm/bin/model_test.test\n",
            "common.mkdir lm/bin/model_test.test/gcc-7\n",
            "common.mkdir lm/bin/model_test.test/gcc-7/release\n",
            "common.mkdir lm/bin/model_test.test/gcc-7/release/threading-multi\n",
            "gcc.compile.c++ lm/bin/model_test.test/gcc-7/release/threading-multi/model_test.o\n",
            "In file included from ./lm/model.hh:13:0,\n",
            "                 from lm/model_test.cc:1:\n",
            "./lm/vocab.hh:173:43: warning: dynamic exception specifications are deprecated in C++11 [-Wdeprecated]\n",
            " void MissingUnknown(const Config &config) throw(SpecialWordMissingException);\n",
            "                                           ^~~~~\n",
            "./lm/vocab.hh:174:67: warning: dynamic exception specifications are deprecated in C++11 [-Wdeprecated]\n",
            " void MissingSentenceMarker(const Config &config, const char *str) throw(SpecialWordMissingException);\n",
            "                                                                   ^~~~~\n",
            "./lm/vocab.hh:176:85: warning: dynamic exception specifications are deprecated in C++11 [-Wdeprecated]\n",
            " template <class Vocab> void CheckSpecials(const Config &config, const Vocab &vocab) throw(SpecialWordMissingException) {\n",
            "                                                                                     ^~~~~\n",
            "gcc.link lm/bin/model_test.test/gcc-7/release/threading-multi/model_test\n",
            "testing.capture-output lm/bin/model_test.test/gcc-7/release/threading-multi/model_test.run\n",
            "====== BEGIN OUTPUT ======\n",
            "Boost.Test WARNING: token \"lm/test.arpa\" does not correspond to the Boost.Test argument \n",
            "                    and should be placed after all Boost.Test arguments and the -- separator.\n",
            "                    For example: model_test --random -- lm/test.arpa\n",
            "Boost.Test WARNING: token \"lm/test_nounk.arpa\" does not correspond to the Boost.Test argument \n",
            "                    and should be placed after all Boost.Test arguments and the -- separator.\n",
            "                    For example: model_test --random -- lm/test_nounk.arpa\n",
            "Running 12 test cases...\n",
            "unknown location(0): fatal error: in \"trie\": lm::SpecialWordMissingException: lm/vocab.cc:237 in void lm::ngram::MissingSentenceMarker(const lm::ngram::Config&, const char*) threw SpecialWordMissingException'.\n",
            "The ARPA file is missing </s> and the model is configured to reject these models.  Run build_binary -s to disable this check. Byte: 955 File: lm/test.arpa\n",
            "lm/model_test.cc(304): last checkpoint\n",
            "unknown location(0): fatal error: in \"quant_trie\": lm::SpecialWordMissingException: lm/vocab.cc:237 in void lm::ngram::MissingSentenceMarker(const lm::ngram::Config&, const char*) threw SpecialWordMissingException'.\n",
            "The ARPA file is missing </s> and the model is configured to reject these models.  Run build_binary -s to disable this check. Byte: 955 File: lm/test.arpa\n",
            "lm/model_test.cc(304): last checkpoint\n",
            "unknown location(0): fatal error: in \"bhiksha_trie\": lm::SpecialWordMissingException: lm/vocab.cc:237 in void lm::ngram::MissingSentenceMarker(const lm::ngram::Config&, const char*) threw SpecialWordMissingException'.\n",
            "The ARPA file is missing </s> and the model is configured to reject these models.  Run build_binary -s to disable this check. Byte: 955 File: lm/test.arpa\n",
            "lm/model_test.cc(304): last checkpoint\n",
            "unknown location(0): fatal error: in \"quant_bhiksha_trie\": lm::SpecialWordMissingException: lm/vocab.cc:237 in void lm::ngram::MissingSentenceMarker(const lm::ngram::Config&, const char*) threw SpecialWordMissingException'.\n",
            "The ARPA file is missing </s> and the model is configured to reject these models.  Run build_binary -s to disable this check. Byte: 955 File: lm/test.arpa\n",
            "lm/model_test.cc(304): last checkpoint\n",
            "unknown location(0): fatal error: in \"write_and_read_trie\": lm::SpecialWordMissingException: lm/vocab.cc:237 in void lm::ngram::MissingSentenceMarker(const lm::ngram::Config&, const char*) threw SpecialWordMissingException'.\n",
            "The ARPA file is missing </s> and the model is configured to reject these models.  Run build_binary -s to disable this check. Byte: 955 File: lm/test.arpa\n",
            "lm/model_test.cc(304): last checkpoint\n",
            "unknown location(0): fatal error: in \"write_and_read_quant_trie\": lm::SpecialWordMissingException: lm/vocab.cc:237 in void lm::ngram::MissingSentenceMarker(const lm::ngram::Config&, const char*) threw SpecialWordMissingException'.\n",
            "The ARPA file is missing </s> and the model is configured to reject these models.  Run build_binary -s to disable this check. Byte: 955 File: lm/test.arpa\n",
            "lm/model_test.cc(304): last checkpoint\n",
            "unknown location(0): fatal error: in \"write_and_read_array_trie\": lm::SpecialWordMissingException: lm/vocab.cc:237 in void lm::ngram::MissingSentenceMarker(const lm::ngram::Config&, const char*) threw SpecialWordMissingException'.\n",
            "The ARPA file is missing </s> and the model is configured to reject these models.  Run build_binary -s to disable this check. Byte: 955 File: lm/test.arpa\n",
            "lm/model_test.cc(304): last checkpoint\n",
            "unknown location(0): fatal error: in \"write_and_read_quant_array_trie\": lm::SpecialWordMissingException: lm/vocab.cc:237 in void lm::ngram::MissingSentenceMarker(const lm::ngram::Config&, const char*) threw SpecialWordMissingException'.\n",
            "The ARPA file is missing </s> and the model is configured to reject these models.  Run build_binary -s to disable this check. Byte: 955 File: lm/test.arpa\n",
            "lm/model_test.cc(304): last checkpoint\n",
            "\n",
            "*** 8 failures are detected in the test module \"ModelTest\"\n",
            "\n",
            "EXIT STATUS: 201\n",
            "====== END OUTPUT ======\n",
            "\n",
            "    LD_LIBRARY_PATH=\"/usr/bin:/usr/lib:/usr/lib32:/usr/lib64:$LD_LIBRARY_PATH\"\n",
            "export LD_LIBRARY_PATH\n",
            "\n",
            "    status=0\n",
            "    if test $status -ne 0 ; then\n",
            "        echo Skipping test execution due to testing.execute=off\n",
            "        exit 0\n",
            "    fi\n",
            "     \"lm/bin/model_test.test/gcc-7/release/threading-multi/model_test\"  \"lm/test.arpa\" \"lm/test_nounk.arpa\" > \"lm/bin/model_test.test/gcc-7/release/threading-multi/model_test.output\" 2>&1 < /dev/null\n",
            "    status=$?\n",
            "    echo >> \"lm/bin/model_test.test/gcc-7/release/threading-multi/model_test.output\"\n",
            "    echo EXIT STATUS: $status >> \"lm/bin/model_test.test/gcc-7/release/threading-multi/model_test.output\"\n",
            "    if test $status -eq 0 ; then\n",
            "        cp \"lm/bin/model_test.test/gcc-7/release/threading-multi/model_test.output\" \"lm/bin/model_test.test/gcc-7/release/threading-multi/model_test.run\"\n",
            "    fi\n",
            "    verbose=0\n",
            "    if test $status -ne 0 ; then\n",
            "        verbose=1\n",
            "    fi\n",
            "    if test $verbose -eq 1 ; then\n",
            "        echo ====== BEGIN OUTPUT ======\n",
            "        cat \"lm/bin/model_test.test/gcc-7/release/threading-multi/model_test.output\"\n",
            "        echo ====== END OUTPUT ======\n",
            "    fi\n",
            "    exit $status\n",
            "\n",
            "...failed testing.capture-output lm/bin/model_test.test/gcc-7/release/threading-multi/model_test.run...\n",
            "common.mkdir lm/bin/partial_test.test\n",
            "common.mkdir lm/bin/partial_test.test/gcc-7\n",
            "common.mkdir lm/bin/partial_test.test/gcc-7/release\n",
            "common.mkdir lm/bin/partial_test.test/gcc-7/release/threading-multi\n",
            "gcc.compile.c++ lm/bin/partial_test.test/gcc-7/release/threading-multi/partial_test.o\n",
            "In file included from ./lm/model.hh:13:0,\n",
            "                 from lm/partial_test.cc:4:\n",
            "./lm/vocab.hh:173:43: warning: dynamic exception specifications are deprecated in C++11 [-Wdeprecated]\n",
            " void MissingUnknown(const Config &config) throw(SpecialWordMissingException);\n",
            "                                           ^~~~~\n",
            "./lm/vocab.hh:174:67: warning: dynamic exception specifications are deprecated in C++11 [-Wdeprecated]\n",
            " void MissingSentenceMarker(const Config &config, const char *str) throw(SpecialWordMissingException);\n",
            "                                                                   ^~~~~\n",
            "./lm/vocab.hh:176:85: warning: dynamic exception specifications are deprecated in C++11 [-Wdeprecated]\n",
            " template <class Vocab> void CheckSpecials(const Config &config, const Vocab &vocab) throw(SpecialWordMissingException) {\n",
            "                                                                                     ^~~~~\n",
            "gcc.link lm/bin/partial_test.test/gcc-7/release/threading-multi/partial_test\n",
            "testing.capture-output lm/bin/partial_test.test/gcc-7/release/threading-multi/partial_test.run\n",
            "**passed** lm/bin/partial_test.test/gcc-7/release/threading-multi/partial_test.test\n",
            "gcc.compile.c++ util/bin/gcc-7/release/threading-multi/read_compressed_test.o\n",
            "gcc.compile.c++ util/bin/gcc-7/release/threading-multi/file_piece_test.o\n",
            "gcc.compile.c++ util/bin/gcc-7/release/threading-multi/bit_packing_test.o\n",
            "gcc.link util/bin/gcc-7/release/threading-multi/bit_packing_test\n",
            "testing.unit-test util/bin/gcc-7/release/threading-multi/bit_packing_test.passed\n",
            "Running 5 test cases...\n",
            "\n",
            "*** No errors detected\n",
            "common.mkdir util/bin/file_piece_test.test\n",
            "common.mkdir util/bin/file_piece_test.test/gcc-7\n",
            "common.mkdir util/bin/file_piece_test.test/gcc-7/release\n",
            "common.mkdir util/bin/file_piece_test.test/gcc-7/release/threading-multi\n",
            "gcc.link util/bin/file_piece_test.test/gcc-7/release/threading-multi/file_piece_test\n",
            "testing.capture-output util/bin/file_piece_test.test/gcc-7/release/threading-multi/file_piece_test.run\n",
            "**passed** util/bin/file_piece_test.test/gcc-7/release/threading-multi/file_piece_test.test\n",
            "gcc.link util/bin/gcc-7/release/threading-multi/read_compressed_test\n",
            "testing.unit-test util/bin/gcc-7/release/threading-multi/read_compressed_test.passed\n",
            "Running 5 test cases...\n",
            "\n",
            "*** No errors detected\n",
            "gcc.compile.c++ util/bin/gcc-7/release/threading-multi/joint_sort_test.o\n",
            "gcc.link util/bin/gcc-7/release/threading-multi/joint_sort_test\n",
            "testing.unit-test util/bin/gcc-7/release/threading-multi/joint_sort_test.passed\n",
            "Running 3 test cases...\n",
            "\n",
            "*** No errors detected\n",
            "...on 100th target...\n",
            "gcc.compile.c++ util/bin/gcc-7/release/threading-multi/probing_hash_table_test.o\n",
            "gcc.link util/bin/gcc-7/release/threading-multi/probing_hash_table_test\n",
            "testing.unit-test util/bin/gcc-7/release/threading-multi/probing_hash_table_test.passed\n",
            "Running 2 test cases...\n",
            "\n",
            "*** No errors detected\n",
            "gcc.compile.c++ util/bin/gcc-7/release/threading-multi/sorted_uniform_test.o\n",
            "gcc.link util/bin/gcc-7/release/threading-multi/sorted_uniform_test\n",
            "testing.unit-test util/bin/gcc-7/release/threading-multi/sorted_uniform_test.passed\n",
            "Running 7 test cases...\n",
            "\n",
            "*** No errors detected\n",
            "gcc.compile.c++ util/bin/gcc-7/release/threading-multi/tokenize_piece_test.o\n",
            "gcc.link util/bin/gcc-7/release/threading-multi/tokenize_piece_test\n",
            "testing.unit-test util/bin/gcc-7/release/threading-multi/tokenize_piece_test.passed\n",
            "Running 4 test cases...\n",
            "\n",
            "*** No errors detected\n",
            "gcc.compile.c++ util/bin/gcc-7/release/threading-multi/multi_intersection_test.o\n",
            "gcc.link util/bin/gcc-7/release/threading-multi/multi_intersection_test\n",
            "testing.unit-test util/bin/gcc-7/release/threading-multi/multi_intersection_test.passed\n",
            "Running 4 test cases...\n",
            "\n",
            "*** No errors detected\n",
            "common.mkdir bin\n",
            "common.mkdir bin/gcc-7\n",
            "common.mkdir bin/gcc-7/release\n",
            "common.mkdir bin/gcc-7/release/threading-multi\n",
            "gcc.link.dll bin/gcc-7/release/threading-multi/libkenlm.so\n",
            "common.mkdir /content/kenlm/lm/builder/bin\n",
            "common.mkdir /content/kenlm/lm/builder/bin/gcc-7\n",
            "common.mkdir /content/kenlm/lm/builder/bin/gcc-7/release\n",
            "common.mkdir /content/kenlm/lm/builder/bin/gcc-7/release/threading-multi\n",
            "gcc.compile.c++ /content/kenlm/lm/builder/bin/gcc-7/release/threading-multi/lmplz_main.o\n",
            "common.mkdir /content/kenlm/util/stream/bin\n",
            "common.mkdir /content/kenlm/util/stream/bin/gcc-7\n",
            "common.mkdir /content/kenlm/util/stream/bin/gcc-7/release\n",
            "common.mkdir /content/kenlm/util/stream/bin/gcc-7/release/threading-multi\n",
            "gcc.compile.c++ /content/kenlm/util/stream/bin/gcc-7/release/threading-multi/chain.o\n",
            "gcc.compile.c++ /content/kenlm/util/stream/bin/gcc-7/release/threading-multi/io.o\n",
            "gcc.compile.c++ /content/kenlm/util/stream/bin/gcc-7/release/threading-multi/line_input.o\n",
            "gcc.compile.c++ /content/kenlm/util/stream/bin/gcc-7/release/threading-multi/multi_progress.o\n",
            "gcc.compile.c++ /content/kenlm/lm/builder/bin/gcc-7/release/threading-multi/print.o\n",
            "gcc.compile.c++ /content/kenlm/lm/builder/bin/gcc-7/release/threading-multi/pipeline.o\n",
            "gcc.compile.c++ /content/kenlm/lm/builder/bin/gcc-7/release/threading-multi/interpolate.o\n",
            "gcc.compile.c++ /content/kenlm/lm/builder/bin/gcc-7/release/threading-multi/initial_probabilities.o\n",
            "gcc.compile.c++ /content/kenlm/lm/builder/bin/gcc-7/release/threading-multi/corpus_count.o\n",
            "gcc.compile.c++ /content/kenlm/lm/builder/bin/gcc-7/release/threading-multi/adjust_counts.o\n",
            "gcc.link /content/kenlm/lm/builder/bin/gcc-7/release/threading-multi/lmplz\n",
            "gcc.compile.c++ lm/bin/gcc-7/release/threading-multi/query_main.o\n",
            "In file included from ./lm/model.hh:13:0,\n",
            "                 from ./lm/ngram_query.hh:5,\n",
            "                 from lm/query_main.cc:1:\n",
            "./lm/vocab.hh:173:43: warning: dynamic exception specifications are deprecated in C++11 [-Wdeprecated]\n",
            " void MissingUnknown(const Config &config) throw(SpecialWordMissingException);\n",
            "                                           ^~~~~\n",
            "./lm/vocab.hh:174:67: warning: dynamic exception specifications are deprecated in C++11 [-Wdeprecated]\n",
            " void MissingSentenceMarker(const Config &config, const char *str) throw(SpecialWordMissingException);\n",
            "                                                                   ^~~~~\n",
            "./lm/vocab.hh:176:85: warning: dynamic exception specifications are deprecated in C++11 [-Wdeprecated]\n",
            " template <class Vocab> void CheckSpecials(const Config &config, const Vocab &vocab) throw(SpecialWordMissingException) {\n",
            "                                                                                     ^~~~~\n",
            "gcc.link lm/bin/gcc-7/release/threading-multi/query\n",
            "gcc.compile.c++ lm/bin/gcc-7/release/threading-multi/fragment_main.o\n",
            "In file included from ./lm/model.hh:13:0,\n",
            "                 from lm/fragment_main.cc:2:\n",
            "./lm/vocab.hh:173:43: warning: dynamic exception specifications are deprecated in C++11 [-Wdeprecated]\n",
            " void MissingUnknown(const Config &config) throw(SpecialWordMissingException);\n",
            "                                           ^~~~~\n",
            "./lm/vocab.hh:174:67: warning: dynamic exception specifications are deprecated in C++11 [-Wdeprecated]\n",
            " void MissingSentenceMarker(const Config &config, const char *str) throw(SpecialWordMissingException);\n",
            "                                                                   ^~~~~\n",
            "./lm/vocab.hh:176:85: warning: dynamic exception specifications are deprecated in C++11 [-Wdeprecated]\n",
            " template <class Vocab> void CheckSpecials(const Config &config, const Vocab &vocab) throw(SpecialWordMissingException) {\n",
            "                                                                                     ^~~~~\n",
            "gcc.link lm/bin/gcc-7/release/threading-multi/fragment\n",
            "gcc.compile.c++ lm/bin/gcc-7/release/threading-multi/build_binary_main.o\n",
            "In file included from ./lm/model.hh:13:0,\n",
            "                 from lm/build_binary_main.cc:1:\n",
            "./lm/vocab.hh:173:43: warning: dynamic exception specifications are deprecated in C++11 [-Wdeprecated]\n",
            " void MissingUnknown(const Config &config) throw(SpecialWordMissingException);\n",
            "                                           ^~~~~\n",
            "./lm/vocab.hh:174:67: warning: dynamic exception specifications are deprecated in C++11 [-Wdeprecated]\n",
            " void MissingSentenceMarker(const Config &config, const char *str) throw(SpecialWordMissingException);\n",
            "                                                                   ^~~~~\n",
            "./lm/vocab.hh:176:85: warning: dynamic exception specifications are deprecated in C++11 [-Wdeprecated]\n",
            " template <class Vocab> void CheckSpecials(const Config &config, const Vocab &vocab) throw(SpecialWordMissingException) {\n",
            "                                                                                     ^~~~~\n",
            "gcc.link lm/bin/gcc-7/release/threading-multi/build_binary\n",
            "gcc.link lm/filter/bin/gcc-7/release/threading-multi/filter\n",
            "gcc.link /content/kenlm/bin/lmplz\n",
            "gcc.link /content/kenlm/bin/query\n",
            "gcc.link /content/kenlm/bin/fragment\n",
            "gcc.link /content/kenlm/bin/build_binary\n",
            "...failed updating 2 targets...\n",
            "...skipped 2 targets...\n",
            "...updated 145 targets...\n"
          ]
        }
      ],
      "source": [
        "!apt-get install build-essential libboost-all-dev cmake zlib1g-dev libbz2-dev liblzma-dev\n",
        "!git clone --recursive https://github.com/vchahun/kenlm.git\n",
        "%cd kenlm\n",
        "!./bjam "
      ]
    },
    {
      "cell_type": "markdown",
      "source": [
        "Prepare text so that every line contains one sentence. Eg:"
      ],
      "metadata": {
        "id": "Y6cxz6p84oEx"
      }
    },
    {
      "cell_type": "code",
      "source": [
        "import numpy as np\n",
        "corpus=np.load('/content/drive/MyDrive/SPIRE/Dataset/Data_csv/Final/Corpus_no_eng_no_punc.npy',allow_pickle=True)#address of the npy file where sentences are stored"
      ],
      "metadata": {
        "id": "IDcIjad9v7nL"
      },
      "execution_count": null,
      "outputs": []
    },
    {
      "cell_type": "code",
      "source": [
        "import numpy as np\n",
        "corpus1=np.load('/content/drive/MyDrive/SPIRE/Dataset/Data_csv/Final/Corpus_no_eng_punc.npy',allow_pickle=True)#address of the npy file where sentences are stored"
      ],
      "metadata": {
        "id": "f2kkbsS41XTM"
      },
      "execution_count": null,
      "outputs": []
    },
    {
      "cell_type": "code",
      "source": [
        "import csv#importong sentence_dict\n",
        "reader = csv.reader(open('/content/drive/MyDrive/SPIRE/Dataset/Data_csv/Final/final_filter_no_eng.csv', 'r'))\n",
        "final_data1 = {}\n",
        "for row in reader:\n",
        "   k, v = row\n",
        "   final_data1[k] = v"
      ],
      "metadata": {
        "id": "d_1NIGfN2eLi"
      },
      "execution_count": null,
      "outputs": []
    },
    {
      "cell_type": "code",
      "source": [
        "np.save('/content/drive/MyDrive/SPIRE/Dataset/Data_csv/Final/train_without_punc.npy',np.array(train_without_punc))"
      ],
      "metadata": {
        "id": "6iS_DKWxA_O-"
      },
      "execution_count": null,
      "outputs": []
    },
    {
      "cell_type": "code",
      "source": [
        "np.save('/content/drive/MyDrive/SPIRE/Dataset/Data_csv/Final/test_without_punc.npy',np.array(test_without_punc))"
      ],
      "metadata": {
        "id": "FO3_dx4TBo5d"
      },
      "execution_count": null,
      "outputs": []
    },
    {
      "cell_type": "code",
      "source": [
        "np.save('/content/drive/MyDrive/SPIRE/Dataset/Data_csv/Final/train_with_punc.npy',np.array(train_with_punc))"
      ],
      "metadata": {
        "id": "7smm-cqSBzYY"
      },
      "execution_count": null,
      "outputs": []
    },
    {
      "cell_type": "code",
      "source": [
        "np.save('/content/drive/MyDrive/SPIRE/Dataset/Data_csv/Final/test_with_punc.npy',np.array(test_with_punc))"
      ],
      "metadata": {
        "id": "UavSnAWuCBaE"
      },
      "execution_count": null,
      "outputs": []
    },
    {
      "cell_type": "code",
      "source": [
        "vocab_train_with_punc=[]\n",
        "for k in train_with_punc:\n",
        "  vocab_train_with_punc.extend(k.split(' '))"
      ],
      "metadata": {
        "id": "OuGtpUT8CxXE"
      },
      "execution_count": null,
      "outputs": []
    },
    {
      "cell_type": "code",
      "source": [
        "len(vocab_train_with_punc)"
      ],
      "metadata": {
        "colab": {
          "base_uri": "https://localhost:8080/"
        },
        "id": "S4nuXtB1DObu",
        "outputId": "c3fa7c4a-81dc-40e7-efff-059a4a61f5ed"
      },
      "execution_count": null,
      "outputs": [
        {
          "output_type": "execute_result",
          "data": {
            "text/plain": [
              "170627"
            ]
          },
          "metadata": {},
          "execution_count": 115
        }
      ]
    },
    {
      "cell_type": "code",
      "source": [
        "vocab_train_with_punc=set(vocab_train_with_punc)"
      ],
      "metadata": {
        "id": "t-XDUMVkDVrV"
      },
      "execution_count": null,
      "outputs": []
    },
    {
      "cell_type": "code",
      "source": [
        "vocab_test_with_punc=[]\n",
        "for k in test_with_punc:\n",
        "  vocab_test_with_punc.extend(k.split(' '))"
      ],
      "metadata": {
        "id": "1bJJqZLGDdm2"
      },
      "execution_count": null,
      "outputs": []
    },
    {
      "cell_type": "code",
      "source": [
        "vocab_test_with_punc=set(vocab_test_with_punc)"
      ],
      "metadata": {
        "id": "Sh3DemW1DnGF"
      },
      "execution_count": null,
      "outputs": []
    },
    {
      "cell_type": "code",
      "source": [
        "len(vocab_test_with_punc)#total test vocab"
      ],
      "metadata": {
        "colab": {
          "base_uri": "https://localhost:8080/"
        },
        "id": "R_FbI8oHDrYA",
        "outputId": "6bf810c7-ce5c-41d5-d9cd-62416063cb70"
      },
      "execution_count": null,
      "outputs": [
        {
          "output_type": "execute_result",
          "data": {
            "text/plain": [
              "19376"
            ]
          },
          "metadata": {},
          "execution_count": 118
        }
      ]
    },
    {
      "cell_type": "code",
      "source": [
        "difference=vocab_test_with_punc-vocab_train_with_punc"
      ],
      "metadata": {
        "id": "9WdIvuCCDu0b"
      },
      "execution_count": null,
      "outputs": []
    },
    {
      "cell_type": "code",
      "source": [
        "len(difference)#unk in test with punc"
      ],
      "metadata": {
        "colab": {
          "base_uri": "https://localhost:8080/"
        },
        "id": "Vbfc1THeEmm5",
        "outputId": "d4abf705-76c7-4edc-fb2a-f3571b1c4cf1"
      },
      "execution_count": null,
      "outputs": [
        {
          "output_type": "execute_result",
          "data": {
            "text/plain": [
              "2395"
            ]
          },
          "metadata": {},
          "execution_count": 121
        }
      ]
    },
    {
      "cell_type": "code",
      "source": [
        "vocab_train_without_punc=[]\n",
        "for k in train_without_punc:\n",
        "  vocab_train_without_punc.extend(k.split(' '))"
      ],
      "metadata": {
        "id": "6jB44IeLEx5T"
      },
      "execution_count": null,
      "outputs": []
    },
    {
      "cell_type": "code",
      "source": [
        "vocab_train_without_punc=set(vocab_train_without_punc)"
      ],
      "metadata": {
        "id": "Ui1LejK9FFNe"
      },
      "execution_count": null,
      "outputs": []
    },
    {
      "cell_type": "code",
      "source": [
        "len(train_without_punc)"
      ],
      "metadata": {
        "colab": {
          "base_uri": "https://localhost:8080/"
        },
        "id": "Gnc8SCG4FVgZ",
        "outputId": "bc37d7f4-bd30-4ffc-a340-144df25ef7b0"
      },
      "execution_count": null,
      "outputs": [
        {
          "output_type": "execute_result",
          "data": {
            "text/plain": [
              "391109"
            ]
          },
          "metadata": {},
          "execution_count": 128
        }
      ]
    },
    {
      "cell_type": "code",
      "source": [
        "len(vocab_train_without_punc)"
      ],
      "metadata": {
        "colab": {
          "base_uri": "https://localhost:8080/"
        },
        "id": "AnHuAoNqFABo",
        "outputId": "3bf2bca2-9e2d-429b-82f4-8c073e16ac5c"
      },
      "execution_count": null,
      "outputs": [
        {
          "output_type": "execute_result",
          "data": {
            "text/plain": [
              "134353"
            ]
          },
          "metadata": {},
          "execution_count": 125
        }
      ]
    },
    {
      "cell_type": "code",
      "source": [
        "vocab_test_without_punc=[]\n",
        "for k in test_without_punc:\n",
        "  vocab_test_without_punc.extend(k.split(' '))"
      ],
      "metadata": {
        "id": "EEXTnJARFmVs"
      },
      "execution_count": null,
      "outputs": []
    },
    {
      "cell_type": "code",
      "source": [
        "vocab_test_without_punc=set(vocab_test_without_punc)"
      ],
      "metadata": {
        "id": "17z__QsoFqvo"
      },
      "execution_count": null,
      "outputs": []
    },
    {
      "cell_type": "code",
      "source": [
        "len(vocab_test_without_punc)"
      ],
      "metadata": {
        "colab": {
          "base_uri": "https://localhost:8080/"
        },
        "id": "b9tP1k3VF0A5",
        "outputId": "9b3571e9-41c6-4d31-aba5-c381182243de"
      },
      "execution_count": null,
      "outputs": [
        {
          "output_type": "execute_result",
          "data": {
            "text/plain": [
              "16964"
            ]
          },
          "metadata": {},
          "execution_count": 131
        }
      ]
    },
    {
      "cell_type": "code",
      "source": [
        "difference1=vocab_test_without_punc-vocab_train_without_punc"
      ],
      "metadata": {
        "id": "s80k6Iz8F7FS"
      },
      "execution_count": null,
      "outputs": []
    },
    {
      "cell_type": "code",
      "source": [
        "len(difference1)#unk in test in without punc"
      ],
      "metadata": {
        "colab": {
          "base_uri": "https://localhost:8080/"
        },
        "id": "GS-tjFv9GBaJ",
        "outputId": "9a5cecc2-786b-4566-814d-64e04a1e952f"
      },
      "execution_count": null,
      "outputs": [
        {
          "output_type": "execute_result",
          "data": {
            "text/plain": [
              "1890"
            ]
          },
          "metadata": {},
          "execution_count": 133
        }
      ]
    },
    {
      "cell_type": "code",
      "source": [
        "test_without_punc"
      ],
      "metadata": {
        "colab": {
          "base_uri": "https://localhost:8080/"
        },
        "id": "CsCkzVRJB7J9",
        "outputId": "a1bcf3be-54f8-40ce-cf36-6ba59b732302"
      },
      "execution_count": null,
      "outputs": [
        {
          "output_type": "execute_result",
          "data": {
            "text/plain": [
              "['बैंकों के माध्यम से उपलब्ध होने के अलावा जमा बैग सीधे आपूर्तिकर्ताओं से भी खरीदे जा सकते हैं जो चेकबुक सिक्का रोलिंग आपूर्ति और इसके बाद की चीजों की आपूर्ति करते हैं',\n",
              " 'इस तरह जो दूषित वातावरण निर्मित हुआ उसके चलते ही कम आयु के लड़कों द्वारा नाबालिग लड़कियों के साथ यौनिक अत्याचार अथवा बलात्कार के मामले लगातार बढ़ रहे हैं',\n",
              " 'वहीं आक्रामक निवेशक केवल रिटर्न के पीछे भागते हैं',\n",
              " 'हालांकि अगर नकद इक्विटी इंगित करता है कि वर्तमान निवेश के साथ क्रेडिट की तुलना में अधिक डेबिट शामिल हैं तो यह स्पष्ट है कि कुछ बदलाव क्रम में हैं',\n",
              " 'अक्षर बनाने के लिए उन्होंने सीसा धातु का प्रयोग किया',\n",
              " 'इन प्रयासों में कई अमानवीय तरीकों का उपयोग किया गया',\n",
              " 'पौधों की पक्तियों के साथ साथ नीम खली 250 किलोग्राम प्रति है की दर से खेत में मिलाएं',\n",
              " 'कई बच्चे अभी भी अधिक संक्रामक बचपन की बीमारियों को प्राप्त करते हैं जैसे कि चिकन पॉक्स कण्ठमाला और खसरा लेकिन उनके लक्षण आमतौर पर गंभीर नहीं होते हैं और उनके ठीक होने का समय बहुत कम होता है',\n",
              " 'प्रति एकड़ दर से देना चाहिए',\n",
              " 'आस्थगित प्रीमियम पॉलिसी बीमा कंपनियों को अधिक पॉलिसी बेचने में मदद कर सकती है क्योंकि ग्राहक एकमुश्त के बजाय इन किस्तों के भुगतान को वहन करने के लिए बेहतर हैं',\n",
              " 'कई महिलाएं अपने मासिक चक्र के दौरान मासिक धर्म और दस्त के लक्षणों का एक साथ अनुभव करती हैं',\n",
              " 'ऐसे में राज्य के करीब सात फीसद लोग इस दायरे में आते हैं',\n",
              " 'जैसा कि पहले ही उल्लेख किया गया है पुरुषों की दरों की तुलना में महिलाओं के लिए औसत पल्स दर इस सीमा में थोड़ी अधिक हो सकती है',\n",
              " 'हाइपरट्रॉफिक कार्डियोमायोपैथी में वेंट्रिकल दीवारें और कभी-कभी दिल की माइट्रल वाल्व की दीवारें मोटी हो जाती हैं',\n",
              " 'पूर्वोत्तर भारत में 7 राज्य शामिल हैं आसाम मेघालय त्रिपुरा अरुणाचल प्रदेश मिजोरम मणिपुर और नगालैंड',\n",
              " 'दूसरी ओर यदि बंद-समाप्ति निधि में शामिल शेयरों को स्वीकार्य समय के भीतर बाजार मूल्य में वृद्धि की आशंका नहीं है तो निवेशक कहीं और अवसरों की तलाश कर सकता है',\n",
              " 'तैयार बेड में केंचुएँ छोड़ने का उपयुक्त समय',\n",
              " 'भारतीय इतिहास के वैदिक युग में जनों अथवा गणों की प्रतिनिधि संस्थाएँ थीं विदथ सभा और समिति',\n",
              " 'कैरोटिडिनिया चेहरे गर्दन कान या सिर में दर्द को भड़का सकता है जो तब बढ़ सकता है जब कोई व्यक्ति भोजन निगल रहा हो या चबा रहा हो',\n",
              " 'जबकि एक वास्तविक उद्धरण या वाचा को नहीं माना जाता है यह अनुमान यह निर्धारित करने के लिए एक दिशानिर्देश के रूप में कार्य करता है कि क्या किसी परियोजना के साथ आगे बढ़ना है या इसे किसी अन्य गतिविधि के पक्ष में छोड़ देना है',\n",
              " 'यह समझना महत्वपूर्ण है कि सदन मूल्य सूचकांक हमेशा पिछले स्तरों की तुलना में मापा जाता है',\n",
              " 'संस्था की सचिव सुमन सिंह बताती हैं कि यह प्रोजेक्ट सन् 1990 में शुरू किया गया था',\n",
              " 'जब भी वे उत्पन्न हों इन लागतों पर विचार किया जाना चाहिए',\n",
              " 'रामतिल की बोनी हमेशा थायरम 3 ग्राम/किलो बीज या ट्राइकोडर्मा बिरडी की 5 ग्राम/किलो बीज की दर से अवश्य करें',\n",
              " 'अगर वो समझ चुके है या सिर्फ प्रतिभूतियों को ही समझना है तो फिर जारी रखें',\n",
              " 'स्टॉकब्रोकर कमीशन सभी ईएफटी ट्रेडों पर लागू होते हैं',\n",
              " 'अधिक बार छोटे भोजन खाने से पाचन क्रिया दुरस्त नहीं हो पाती है',\n",
              " 'लेखा परीक्षक विश्लेषण और अपने ग्राहक की वित्तीय जानकारी को साबित करने के लिए विभिन्न ऑडिट परीक्षणों का उपयोग करते हैं',\n",
              " 'यह वह जगह है जहां पंजीकरण और रिपोर्टिंग आवश्यकताएं आती हैं बिक्री के लिए प्रतिभूतियों के साथ मूल कंपनी के बारे में जानकारी प्रतिभूतियों का विवरण और उन्हें पेश करने वाली कंपनी की वित्तीय स्थिति के साथ पंजीकृत होने की आवश्यकता होती है',\n",
              " 'इसके अलावा फाइटोफ्थोरा मैक्रोफोमिना और कई अन्य कीट फसल कटाई के बाद फलों को खेत भंडारण और संक्रमण में खराब कर देते हैं',\n",
              " 'मशीन डायालाइजेट का तापमान उसमें क्षार बाइकार्बोनेट इत्यादि को उचित मात्रा में बनाए रखती है',\n",
              " 'विनिमय दरों का जोखिम ऊपर या संभवतः नीचे जाएगा',\n",
              " 'इस्केमिक स्ट्रोक के दो सामान्य प्रकार हैं एथेरोथ्रोमबोटिक और एम्बोलिक साथ ही अन्य कम सामान्य कारण',\n",
              " 'सबसे आम प्रकार के क्रेडिट कार्ड भुगतान सुरक्षा कवर विकलांगता अनैच्छिक बेरोजगारी मृत्यु और संपत्ति',\n",
              " 'यह निष्क्रिय दृष्टिकोण निवेशकों को अन्य मामलों पर ध्यान केंद्रित करने की अनुमति देता है जो निवेश के साथ जुड़े नहीं हैं',\n",
              " 'आमतौर पर रोगी को एक शारीरिक परीक्षा से गुजरना होगा और चिकित्सा इतिहास के बारे में सवालों के जवाब देने होंगे',\n",
              " 'पहली जुताई मिट्टी पलटने वाले हल से करें ताकि पिछली फसल के अवशेष अच्छी तरह जमीन में मिल जायें',\n",
              " 'बढ़े हुए पेट और पेट में दर्द जैसे लक्षण अंततः विकसित हो सकते हैं',\n",
              " 'यदि सूजन और सूजन परीक्षा में गंभीर होती है तो दंत चिकित्सक सीधे कॉर्टिकोस्टेरॉइड को मसूड़े की दीवार में इंजेक्ट करने का निर्णय ले सकता है',\n",
              " 'ये सैनिटाइज़र अस्पतालों स्कूलों और व्यवसाय के स्थानों में पाए जाने वाले वाणिज्यिक डिस्पेंसर की तुलना में निजी या घरेलू बाथरूम फोम हैंड सेनिटाइज़र डिस्पेंसर में अधिक उपलब्ध होते हैं',\n",
              " 'विनिर्माण प्रक्रिया का मूल्यांकन और वृद्धि जारी रखने से प्रति घंटे अधिक माल का उत्पादन करना संभव है और एक ही समय में संसाधनों की कम बर्बादी संभव है',\n",
              " 'प्राकृतिक विधि– प्राकृतिक तरीके में मुर्गी प्राकृतिक ढंग से अपने चूजों को पालती है',\n",
              " 'यदि लोग काम से बाहर हैं और उत्पाद नहीं खरीद रहे हैं तो शहर का राजस्व कम हो जाएगा जैसा कि बांड का मूल्य होगा',\n",
              " 'प्रति एकड़ 5 किलो मोटे दाने वाला नमक डालने से कतला व अन्य मछलियों को वर्षा पश्चात् मछली में अन्य होने वाले रोग से सुरक्षा की जा सकती है',\n",
              " 'आपकी कोलेस्ट्रॉल की दैनिक खपत एक दिन में 200 मिलीग्राम से अधिक नहीं होनी चाहिए',\n",
              " 'योजना के लिए बजट हुुआ निर्धारित',\n",
              " 'टाइप 2 मधुमेह से पीड़ित लोगों में तीन-चौथाई से अधिक मौतें हृदय और हृदय रोग से संबंधित हैं',\n",
              " 'किन्तु सूखा का ही अधिक प्रचलन है',\n",
              " 'चोटें हर खेल में कम बार होती हैं जब खेलने से पहले और बाद में उचित स्ट्रेचिंग अभ्यास किया जाता है',\n",
              " 'नये युग में भी उपयोगी हैं',\n",
              " 'ऐसे मामलों में जहां बैंक डिपॉजिट बैग के लिए शुल्क लेते हैं डिपॉजिट बैग ऑर्डर करना कभी-कभी कम खर्चीला विकल्प हो सकता है',\n",
              " 'छिड़कते समय वह 20 लीटर पानी के साथ आधे लीटर फ़िल्टर किए गए मिश्रण मिलाकर फसल में कीट और बीमारियों को नियंत्रित करने के लिए फसल पर छिड़काव करता है',\n",
              " 'कभी-कभी बहुत कुछ कृत्रिम रूप से फुलाया जा सकता है और इससे मालिक के लिए समस्याएं पैदा हो सकती हैं',\n",
              " 'डेट्रैक्टर्स कभी-कभी इस तथ्य का हवाला देते हैं कि विभिन्न वस्तुओं और सेवाओं पर छूट लागू करने से विक्रेता प्रभावी रूप से उपभोक्ताओं को बता रहा है कि उत्पाद मूल इकाई मूल्य के लायक नहीं हैं',\n",
              " 'जबकि डेज़ी चेनिंग का प्रचलन एक बार बहुत सामान्य था अब ऐसा नहीं है',\n",
              " 'हालांकि सौम्य लिम्फैंगियोमा जटिलताओं को सुविधाजनक बना सकता है',\n",
              " 'मशरूम के साथ किए गए चिकित्सा अध्ययनों से पता चलता है कि इसमें कुछ औषधीय अनुप्रयोग हैं लेकिन यह क्यों काम करता है या क्या व्यवहार करता है इसकी समझ एक रहस्य बनी हुई है',\n",
              " 'बिहार में मिर्च की खेती मुख्यतः नगदी फसल के रूप में की जाती है',\n",
              " 'इसके पश्चात शेष मिट्टी में 15 से 20 किलो ग्राम गोबर मिला कर भूमि की सतह से 6 इंच ऊपर एक गड्ढा भरे',\n",
              " 'इसके अलावा कुछ भौतिक चिकित्सा क्लीनिक पैराफिन मोम स्नान का उपयोग करते हैं',\n",
              " 'यदि कंपनी के पास महत्वपूर्ण संपत्ति है और बकाया ऋण के रूप में बहुत कम है तो इसका मतलब है कि व्यवसाय में शेयरधारक या स्वामित्व इक्विटी का स्तर होने की संभावना है जो शेयरों पर अधिक रिटर्न अर्जित करना संभव बनाता है',\n",
              " 'वैज्ञानिक विधि को पूर्णत समझ कर विभाग से बीज प्राप्त कर अपने प्लाट पर प्रत्यक्षण करने का मन बना लिया',\n",
              " 'उस संस्था को कहते हैं जो ऐसे लोगों की सहायता एवं मार्गदर्शन करती है जो ज्ञान की सीमाओं को विकसित करने में कार्यरत हैं',\n",
              " 'विभिन्न प्रकार के कमोडिटी डेरिवेटिव्स ऊर्जा स्रोतों और खनन धातुओं से लेकर वस्त्रों तक हो सकते हैं',\n",
              " 'एंजियोलिपोमा एक उपचर्म नोड्यूल है जिसका अर्थ है कि ट्यूमर त्वचा के नीचे स्थित है',\n",
              " 'जो लोग तत्काल सेवानिवृत्ति के लिए अर्हता प्राप्त करने से पहले छोड़ देते हैं वे स्थगित सेवानिवृत्ति प्राप्त कर सकते हैं जिसका अर्थ है कि भुगतान बाद में शुरू होता है',\n",
              " 'अन्य लोग कई देशों में उपयोग में आने वाली कर प्रणाली को देखना पसंद करेंगे जो कोष्ठक में आयकर वसूलते हैं जिससे कम आय वाले व्यक्तियों को कर में कम प्रतिशत का भुगतान करने की अनुमति मिलती है जबकि उच्च आय वाले व्यक्ति अधिक भुगतान करते हैं',\n",
              " 'मुँहासे को समझने के लिए कम से कम मूल रूप से यह समझना महत्वपूर्ण है कि बाल कूप कैसा दिखता है',\n",
              " 'खीस पानी की तरह पतला होता है',\n",
              " 'कुछ मामलों में एक निवेश बैंक अनिच्छुक हो सकता है या परियोजना को निधि देने के लिए आवश्यक संसाधनों की आपूर्ति करने में असमर्थ हो सकता है',\n",
              " 'अन्य संभावित पाचन विकारों में चिड़चिड़ा आंत्र सिंड्रोम शामिल है',\n",
              " 'हालांकि इसका प्रक्षेपण स्पेश-एक्स नामक अमेरिकी कंपनी ने किया',\n",
              " 'बैंकों में एक संकीर्ण अर्थ में इसका मतलब केवल शहर के बैंक हैं लेकिन व्यापक रूप से यह शहर के बैंकों में क्षेत्रीय बैंकों सहित सामान्य बैंकों को संदर्भित कर सकता है',\n",
              " 'मांसपेशियों को आपूर्ति करने वाली रक्त वाहिकाएं पूरे शरीर में दवा वितरित करेंगी जिससे इंजेक्शन साइट से फैल सकता है',\n",
              " 'कुछ वाहक कुछ स्थितियों में कवरेज से इनकार करेंगे जैसे शराब या नशीली दवाओं का दुरुपयोग',\n",
              " 'टोक्सोप्लाज्मोसिस एक बीमारी है जो एक परजीवी के साथ संक्रमण के परिणामस्वरूप होती है एक सूक्ष्म जीव जो केवल अपने मेजबान के ऊतक में जीवित रह सकता है जिसे टोक्सोप्लाज्मा गोंडी के रूप में जाना जाता है',\n",
              " 'बीमा विशेषज्ञों का सुझाव है कि सबसे अच्छा सौदा खोजने के लिए शोध में कुछ समय निवेश करना और विभिन्न प्रकार की योजनाओं की तुलना करना',\n",
              " 'रसीद देने वालों को आम तौर पर प्रतियां रखनी चाहिए हालांकि यह सुनिश्चित करने के लिए कि दूसरों को बदला नहीं जाए',\n",
              " 'ट्रंकल मोटापे का सबसे आम कारण बहुत अधिक प्रसंस्कृत या उच्च वसा वाले खाद्य पदार्थ और शारीरिक गतिविधि की कमी है',\n",
              " 'कई बड़ी बिल्लियों के मुंह में घाव हो जाते हैं क्योंकि उनके दांत उम्र के साथ टूट जाते हैं',\n",
              " 'ये आवश्यक ब्लोफ्रोस्पैम की तरह आंख की खाई से अधिक गंभीर हैं',\n",
              " 'मधुमेह वाले लोगों में एक महत्वपूर्ण चयापचय हार्मोन इंसुलिन का उत्पादन या उपयोग करने की शरीर की क्षमता क्षीण होती है',\n",
              " 'एक नाखून के लिए आघात जो इसे नाखून बिस्तर में संकुचित करता है जिससे नाजुक रक्त वाहिकाएं फट जाती हैं',\n",
              " 'ये लोग दर्द को पुरानी चोट का कारण बनने की अधिक संभावना हो सकते हैं दर्द के परिवर्तनों को अलग कारण के संकेत में नहीं देख सकते हैं',\n",
              " 'जब आप इक्विटी फ्यूचर में ट्रेड कर रहे होते हैं तो आप किसी विशेष वित्तीय उत्पाद में सीधे ट्रेडनहीं करते हैं',\n",
              " 'इसमें सभी विटामिन और खनिज पदार्थ प्रचुर मात्रा में होत्र हैं जैसे – विटामिन ए बी – 1 बी – 2 सी और लौह',\n",
              " 'उदाहरण के लिए कुछ उद्यमी घर से काम करते हैं और उन्हें ऑफिस स्पेस या किसी बिल्डिंग को किराए पर देने के लिए पैसे खर्च करने की जरूरत नहीं होती है',\n",
              " 'नमस्कार दोस्तों आपका स्वागत हैं',\n",
              " 'इससे मस्तिष्क के अंदर जलशीर्ष या द्रव का संचय हो सकता है जिसके परिणामस्वरूप खोपड़ी के अंदर दबाव बढ़ जाता है और मस्तिष्क के ऊतकों को अधिक चोट लगती है',\n",
              " 'चोर-तंत्र दोस्तवाद धन-तंत्र पारिवारिकवाद भ्रष्टाचार घूस वंशवाद',\n",
              " 'यदि वे संदर्भ संपत्ति के प्रदर्शन पर पीछे पड़ जाते हैं उदाहरण के लिए वे खुद को प्रतिकूल व्युत्पन्न अनुबंध पकड़ सकते हैं',\n",
              " 'किसानों को खेती के लिए बाजार पर भी निर्भर नहीं रहना पड़ता',\n",
              " 'परिवर्तनीय पसंदीदा स्टॉक के मामले में निवेश का निश्चित आय तत्व नियमित रूप से निर्धारित लाभांश भुगतान से आता है',\n",
              " 'शोध परीक्षण में पाया गया है कि लेव लगाने के 5-6 घंटे के अन्दर ही ड्रम सीडर द्वारा धान की सीधी बुआई कर देनी चाहिए',\n",
              " 'ठेठ बॉन्ड सर्कुलर में पेशकश के जारीकर्ता का नाम और संभवतः जारीकर्ता की पृष्ठभूमि और प्रतिष्ठा के बारे में कुछ सहायक दस्तावेज शामिल होंगे',\n",
              " 'जैव उर्वरकों से बीजोपचार हेतु छाया वाले स्थान का चयन करना चाहिये',\n",
              " 'उन्होंने कहा कि पोषण ज्ञान डिजिटल मंच मानवीय व्यवहार में सकारात्मक बदलाव लाने के माध्यम से उस उद्देश्य को प्राप्त करने की दिशा में सकारात्मक प्रभाव डाल सकता है',\n",
              " 'माता-पिता को यह भी पता होना चाहिए कि छोटे बच्चों में छोटी वस्तुओं को उनकी नाक में डालने की प्रवृत्ति होती है यदि बच्चे की नाक का एक हिस्सा लगातार चल रहा है या नाक से टपकने का प्रदर्शन कर रहा है तो बच्चे के नाक में कोई वस्तु फंस सकती है',\n",
              " 'ग्रीन साबुन टिंचर का उपयोग करते समय कुछ चेतावनी को ध्यान में रखा जाना चाहिए',\n",
              " 'बायोगैस को संग्रहित कर उसका अन्यत्र उपयोग करने के लिए बायोगैस बैलून बायोगैस सिलेण्डर या बायो सी एन जी सिलेण्डर का उपयोग किया जा सकता है',\n",
              " 'स्टिग्मास्टरोल एक रासायनिक यौगिक है जो कई पौधे वसा में पाया जाता है',\n",
              " 'क्रेडिट के एक परिक्रामी पत्र के साथ प्राथमिक अंतर यह है कि बैंक को एक निश्चित लेनदेन को कवर करने के लिए आयातक को कुछ स्थापित व्यवसाय क्रेडेंशियल्स और आवश्यक क्रेडिट की तुलना में बेहतर क्रेडिट की आवश्यकता होती है',\n",
              " 'ख देश में सूक्ष्म सिंचाई को बढ़ावा देने के लिए माइक्रो सिंचाई फंड',\n",
              " 'अन्य मौसा के विपरीत जो अक्सर गुंबद के आकार के होते हैं इन उभरी हुई त्वचा की असामान्यताएं आमतौर पर सपाट सतह होती हैं',\n",
              " 'दोहरे उद्देश्यः घरेलू विनिर्माताओं को प्रोत्साहन देना और भारत को वैश्विक स्तर पर अच्छे उत्पादों की श्रृंखला में शामिल करना तथा बेहतर निर्यात',\n",
              " 'नियंत्रक आदि सभी किसानों द्वारा या ग्राम स्तर पर बनाये जा सकते हैं',\n",
              " 'हालांकि यह स्पष्ट नहीं है कि केल्टनर ने यह विश्लेषण बनाया है लेकिन अब इसे केल्टनर चैनल के रूप में जाना जाता है',\n",
              " 'तवेदार पेड़ी प्रबंधन यंत्र वाली मशीन भी विकसित की गई जो कि 75 व 90 सें मी की डोरदूरी पर लगाईं गई फसल के लिए उपयोगी है',\n",
              " 'यह निर्वाचन संबंधी कार्यनीतियों दृष्टिकोणों अभिनव सोच सामग्रियों दस्तावेजों और रिपोर्टों के लिए विशिष्ट संसाधन केंद्र के रूप में कार्य करता है',\n",
              " 'तार 175 ईस्वी में चिकित्सक गैलेन द्वारा वर्णित सबसे पुराना पहले इस्तेमाल किया गया था',\n",
              " 'इसके अतिरिक्त दलहनी फसलें अपने विशेष गुणों जैसे भूमि की उपजाऊ शक्ति बढ़ाने प्रोटीन की प्रचुर मात्रा के कारण पोषकीय चारा उपलब्ध कराने तथा मृदा क्षरण के अवरोधक के रूप में विशेष स्थान रखती है',\n",
              " 'इन मामलों में एक लेखा नोट का उपयोग इस तरह से जानकारी प्रदान करने के लिए किया जाता है जिसे पाठकों द्वारा समझा जाएगा',\n",
              " 'साप्ताहिक या द्वि-साप्ताहिक भुगतानों में ऋण का भुगतान करने के लिए कुछ महत्वपूर्ण फायदे हैं यदि परिशोधन अनुसूची की सही गणना की जाती है तो ऋण के जीवन पर पर्याप्त बचत उत्पन्न की जा सकती है',\n",
              " 'इस विधि द्वारा पशु को खिलाने के लिए दाने का मिश्रण उचित अवयवों को ठीक अनुपात में मिलाकर बना होना आवश्यक है',\n",
              " 'मुख्यमंत्री भावान्तर भुगतान योजना लागू की गयी फसल',\n",
              " 'एक मांसपेशी तनाव तब होता है जब एक मांसपेशी बनाने वाले छोटे तंतुओं को फाड़ना शुरू हो जाता है जिससे प्रभावित क्षेत्र में तेज दर्द होता है',\n",
              " 'अतिरिक्त परीक्षणों में एक कम्प्यूटरीकृत टोमोग्राफी स्कैन और चुंबकीय अनुनाद इमेजिंग सहित इमेजिंग परीक्षण शामिल हो सकते हैं जो अंग की कार्यक्षमता का मूल्यांकन करने और किसी भी स्थिति की उपस्थिति का पता लगाने में मदद कर सकते हैं जो एडिमा में योगदान कर सकते हैं',\n",
              " 'अच्छे पाचन मूल्य के कारण पशुधन इसे आसानी से स्वीकारते हुए जुगाली करने वाले पशु पूरी तरह से पेड़ की पत्तियों पर जीवित रह सकते हैं',\n",
              " 'आमतौर पर सामाजिक सुरक्षा कर की दरें साल-दर-साल स्थिर रहती हैं लेकिन वे परिवर्तन के अधीन हैं',\n",
              " 'वाणिज्यिक ज़मानत बांड कहा जाता है वे आम तौर पर तीन श्रेणियों में से एक में आते हैं लाइसेंस और परमिट बांड लाइसेंस या परमिट जारी करने से पहले सरकारों द्वारा आवश्यक कोर्ट बॉन्ड जैसे कि जमानत बांड और फिदुकरी बॉन्ड और सार्वजनिक आधिकारिक बांड जो निर्वाचित और नियुक्त सार्वजनिक अधिकारियों जैसे कानून प्रवर्तन अधिकारियों और ट्रेजरी अधिकारियों द्वारा वफादार और ईमानदार नौकरी के प्रदर्शन की गारंटी के लिए जारी किए गए',\n",
              " 'एक टर्म एंडोमेंट एक निर्दिष्ट प्राप्तकर्ता को भुगतान करता है लेकिन केवल एक पूर्व निर्धारित राशि के लिए या जब तक कि कोई विशिष्ट घटना नहीं होती है',\n",
              " 'दाने में हाईब्लेंड मिलाकर खिलाना चाहिए',\n",
              " 'डबल गिरावट संतुलन मूल्यह्रास विधि थोड़ा अधिक जटिल है और संपत्ति के जीवन के शुरुआती वर्षों में बुक किए गए उच्च मूल्यह्रास में परिणाम है',\n",
              " 'हम आपको बताते हैं कि कैसे प्राप्त करना हैयह',\n",
              " 'वास्तव में इसका सबसे परेशान हिस्सा अभी भी झूठ हो सकता है यदि आपके पास बेचैन होने की प्रवृत्ति है',\n",
              " 'इसी तरह के सौदे जिन्हें रिवर्स मॉर्टगेज कहा जाता है गृहस्वामी को अपने बिल से प्रभावी रूप से पैसा निकालने के लिए वर्तमान बिलों का भुगतान करने के लिए अधिक नकदी प्राप्त करने की अनुमति देते हैं',\n",
              " 'वर्ष में जब भी भूमि कि स्थिति नमूने लेने योग्य हो नमूने अवश्य एकत्रित कर लेने चाहिए',\n",
              " 'नियोक्ता स्टॉक विकल्पों का भी उपयोग कर सकते हैं जो शीर्ष अधिकारियों या अन्य स्टाफ सदस्यों को व्यवसाय में स्वामित्व का एक प्रतिशत प्रदान करते हैं',\n",
              " 'जीवन सुधा घोल बनाने की विधि',\n",
              " 'अग्नि मिसाइल और पृथ्वी मिसाइल का सफल परीक्षण का श्रेय काफी कुछ उन्हीं को है',\n",
              " 'इस बर्तन को ज़मीन से सपाट चिपका कर ना गाड़ा जाए नहीं तो इसमें दूसरे अच्छे कीट भी गिर सकते हैं',\n",
              " 'अन्य सामान्य लक्षणों में चेहरा शामिल है और इसमें डोलिंग अनैच्छिक आंख आंदोलन और एक आवेगी मुखौटा जैसी चेहरे की अभिव्यक्ति शामिल हो सकती है',\n",
              " 'अधिक जटिल मॉडल जो इलेक्ट्रोड को हाथ और पैर से जोड़ते हैं आमतौर पर एक चिकित्सा कार्यालय या अन्य पेशेवर सेटिंग में पाए जाते हैं',\n",
              " 'जीवाणु पर्ण अंगमारी की तरह',\n",
              " 'डायाफ्राम की मांसपेशी रिब पिंजरे के नीचे स्थित होती है',\n",
              " 'कुछ मामलों में स्थिति में बड़ी आंत के अन्य भागों की सूजन भी शामिल होती है',\n",
              " 'कभी-कभी ऐसा भी होता है कि कोई तत्व जरूरत से अधिक खेत में डाला जाता है तो दूसरे तत्वों की पौधों को कमी हो जातीहै',\n",
              " 'वैनिशिंग व्हाइट मैटर विकार मस्तिष्क के श्वेत पदार्थ के विघटन का कारण बनता है जो कि माइलिन नामक फैटी इन्सुलेटर द्वारा कवर तंत्रिका तंतुओं का एक संग्रह है',\n",
              " 'राजनीतिक नेता ही धार्मिक सामाजिक आर्थिक व राजनीतिक भूमिकाओं का एक साथ निर्वहन करते हैं',\n",
              " 'पुरुष बैक्टीरिया की उपस्थिति के कारण मूत्रमार्ग में मूत्रमार्ग सख्त रुकावट या टूटना विकसित कर सकते हैं',\n",
              " 'कई उदाहरणों में एक वाणिज्यिक बैंक ग्राहकों के लिए एक मध्यस्थ के रूप में कार्य करता है जो ट्यूशन गृह बंधक गृह सुधार या व्यावसायिक प्रयासों जैसी चीजों के लिए ऋण प्राप्त करता है',\n",
              " 'मौसम – 10 डिग्री सेंटीग्रेट तापमान उपयुक्त होता है',\n",
              " 'मिट्टी नमूने की जाँच कौन और कहां करेगा',\n",
              " 'विशेषज्ञों का मानना है कि पूर्व डिप्टी गवर्नर आर गांधी की अध्यक्षता में गठित शहरी सहकारी बैंकों पर उच्चाधिकार प्राप्त समिति के सुझावों पर भी ध्यान दिया जाना चाहिये',\n",
              " 'अम्लीय मिट्टी में चूना डालने के लिए सहायता 500 रुपये प्रति हेक्टेयर या मूल्य के 50प्रतिशत तक सहायता इनमें से जो भी कम हों',\n",
              " 'अब प्रश्न उठता है कि कितना पोषक तत्व पौधों के लिए मिट्टी में प्रयोग किया जाय',\n",
              " 'आराम की हृदय गति अक्सर शरीर की प्रतिक्रिया अपेक्षाकृत सामान्य शारीरिक प्रतिक्रियाओं के परिणामस्वरूप होती है',\n",
              " 'आमतौर पर छात्र को यह प्रदर्शित करने में सक्षम होना चाहिए कि वह छात्रवृत्ति प्राप्त करने के लिए उन लागतों को कवर नहीं कर सकता है',\n",
              " 'इस अवधारणा का उपयोग अक्सर यह निर्धारित करने के लिए किया जाता है कि भविष्य में भुगतान की एक श्रृंखला का मूल्य क्या होगा',\n",
              " 'इस दृष्टिकोण से वार्षिकी को एक आय स्रोत के रूप में देखा जा सकता है जो उस समय खींचा जा सकता है जब आय के अन्य साधन अब व्यवहार्य नहीं हैं',\n",
              " 'लक्ष्य बाजारों की पहचान करने के लिए कदम आम तौर पर अधिकांश बड़े व्यवसाय मार्केटिंग रिसर्च सलाहकारों में निवेश करते हैं ताकि वे लक्ष्य बाजारों का अध्ययन पहचान और निर्माण कर सकें',\n",
              " 'शिव कॉलोनी गली नंबर-1 में रहने वाले सोमवीर ने बताया कि उनकी गली में एक व्यक्ति ने गेहूं साफ करने वाली मशीन लगाई है',\n",
              " 'रिडेम्पशन यील्ड एक आनुपातिक रिटर्न है जिसे कोई बॉन्ड खरीदते हुए आज प्राप्त करेगा यदि वह अपनी परिपक्वता तक बॉन्ड रखता है',\n",
              " 'किसान बाही अगर इन सारी बातों को ठीक से अनुसरण करेंगे तो प्रति हेक्टेयर तकरीबन 7-8 रुपया का शुद्ध लाभ उठा सकते हैं',\n",
              " 'सावधि जमा खाते ऐसे होते हैं जिनमें कभी-कभी कई वर्षों की लंबी प्रतिबद्धता की आवश्यकता होती है',\n",
              " 'छिड़काव की पुराने उपाय की जगह अब समग्र मलेरिया उल्मूलन उपायों ने ले ली है',\n",
              " 'कम से कम पांच मुख्य प्रकार के ध्यान हैं जो स्मृति और ध्यान के क्षेत्र में विशेषज्ञों द्वारा पहचाने गए हैं',\n",
              " 'यदि आप मासिक धर्म को लंबे समय तक स्थगित करना चाहते हैं हालांकि एक प्रकार जिसमें निष्क्रिय गोलियां शामिल नहीं हैं आसान हो सकता है',\n",
              " 'योनि संक्रमण के कई प्रकार हैं लेकिन लक्षण अधिकांश के लिए समान हैं',\n",
              " 'प्राचीन ग्रंथों के आलोक में वर्तमान कर-व्यवस्था',\n",
              " '2008 में एक अग्रणी जमा संरक्षण सेवा द्वारा किए गए सर्वेक्षण से पता चला कि 62 प्रतिशत जमींदारों ने कानूनी आवश्यकता के बावजूद खुले तौर पर जमा संरक्षण योजना का उपयोग नहीं किया',\n",
              " 'मड़िया की खेती का गुड़ाई करता किसानइसके बाद 20-25 दिन में पहली गुड़ाई करनी चाहिए और हल्के हाथ से पौधे को सुला देना चाहिए',\n",
              " 'खुद जॉर्ज लेन के अनुसार स्टोकेस्टिक थरथरानवाला के पीछे की मूल अवधारणा को एक रॉकेट को हवा में ऊपर जाने की कल्पना करके समझा जा सकता है  इससे पहले कि यह नीचे मुड़ सकता है इसे धीमा करना होगा',\n",
              " 'यह वर्तमान देनदारियों द्वारा विभाजित संपत्ति है',\n",
              " 'यह सुनिश्चित करने से कि जारीकर्ता के अंतर्निहित दर्शन निवेशक के अनुरूप हैं निवेश द्वारा उत्पन्न संतुष्टि केवल मौद्रिक रिटर्न की तुलना में व्यापक है',\n",
              " 'सामान्य बुखार का तापमान सामान्य तापमान से लगभग तीन से चार डिग्री अधिक होना चाहिए',\n",
              " 'इसके बदले में किसी सेवा प्राप्ति की आशा नहीं की जा सकती है',\n",
              " 'एक डॉक्टर लैक्टेज की कमी का सही निदान कर सकता है और पाचन संबंधी बीमारियों जैसे अन्य संभावित कारणों का पता लगा सकता है',\n",
              " 'मॉ के मर जाने की स्थिति में अथवा बच्चा गोद लेने की स्थिति में देख-रेख करने वाले को दूध पिलाने के विकल्पों के बारे में डॉक्टर से बात करनी चाहिए',\n",
              " 'ये जटिल हैं और दवाइयों का उपयोग करके जोखिम को कम करने में मदद करते हैं जबकि स्थिति वाले व्यक्ति को शैक्षिक और भावनात्मक समर्थन प्रदान करते हैं',\n",
              " 'लघु कृषक कृषि व्यवसाय संघ तथा निजी क्षेत्र को बाजार प्रबन्धन हेतु सह ठेका',\n",
              " 'अपने पशु को अच्छे पोषण वाला आहार ही दें',\n",
              " 'इस स्थिति को कभी-कभी  प्रारंभिक गर्भावस्था की विफलता  के रूप में भी जाना जाता है क्योंकि ब्लाइटेड बल्कि पीजोरेटिव लगता है और डिंब का एक नैदानिक स्वर है',\n",
              " 'दरअसल अरस्तू की मान्यता है कि ‘ राज्य जीवन के लिए अस्तित्व में आता है और अच्छे जीवन के निरंतर बना रहता है',\n",
              " 'इसके अलावा शरीर में अधिवृक्क अंडाशय या अन्य जगहों पर सौम्य या कैंसर ट्यूमर ट्यूमर को एंड्रोजेन से आगे निकल सकता है',\n",
              " 'एक्सचेंज अप-टू-मिनट डेटा रखता है और वायदा लेनदेन और एक्सचेंज के लिए एक मंजिल के रूप में कार्य करता है',\n",
              " 'एक अच्छा मॉइस्चराइजर आमतौर पर इन लक्षणों को कम करेगा',\n",
              " 'ऊपरी बांह में ह्यूमरस अग्र भाग में त्रिज्या और उल्ना उंगलियों और पैर की उंगलियों में फालानक्स हड्डियां जांघ में फीमर और पिंडली में टिबिया और फाइब्यूला इस तरह की चोट के लिए सभी अतिसंवेदनशील होते हैं',\n",
              " 'यद्यपि अन्नप्रणाली के स्वास्थ्य का निदान करने का एकमात्र तरीका नहीं है कुछ रोगियों में मौजूदा लक्षणों के कारण को निर्धारित करने में मोनोमेट्री उपयोगी है',\n",
              " 'वे देख सकते हैं कि उनकी हृदय गति अचानक बढ़ जाती है या उन्हें कंपकंपी या पसीना आने लगता है',\n",
              " 'आमतौर पर स्वस्थ व्यक्ति में ये स्तर मुश्किल से ही पता चल पाते हैं लेकिन जब दिल की क्षति हुई है तो प्रोटीन रक्त प्रवाह में जारी होते हैं और रक्त के नमूने में देखे जा सकते हैं',\n",
              " 'शुक्र ग्रह के वायुमंडल में 96.5 कार्बन डाइऑक्साइड,3.5 नाइट्रोजन और बहुत ही कम मात्रा में सल्फर डाइऑक्साइड हाइड्रोजन क्लोराइड मौजूद है',\n",
              " 'जैसे ये बाज़ार उसी हद तक विनियमन के अधीन नहीं हैं कि स्टॉक एक्सचेंज हैं',\n",
              " 'ये विचारक विभिन्न तरीकों की पेशकश करते हैं जिनके माध्यम से एक नई वैश्विक मुद्रा विकसित की जा सकती है',\n",
              " 'क्षेत्रफल में किसान सहभागिता मोड़ में किया गया',\n",
              " 'उदाहरण के लिए यदि कोई बच्चा अपना सारा होमवर्क पूरा कर लेता है तो उसे स्टिकर मिल सकता है',\n",
              " 'अतः इन्हें प्रांरभ में कम छाया दार स्थान में सुखाएं तत्पश्चात धूप में सुखाना चाहिए',\n",
              " 'क्रीम स्प्रेटर से अच्छी तरह क्रीम कैसे निकालें',\n",
              " 'एक पूर्ण रक्त गणना एनीमिया की पहचान करती है जबकि औसत लाल रक्त कोशिकाओं और अन्य असामान्यताओं की तुलना में छोटी होती है जो रक्त विकार की विशेषता होती हैं जिन्हें एक माइक्रोस्कोप के तहत देखा जा सकता है',\n",
              " 'विचार यह है कि कम तरलता की अस्थायी स्थिति का इंतजार करें और गतिविधि को फिर से शुरू करने के लिए तैयार रहें जब आर्थिक संकेतक उन स्थितियों की ओर संकेत करते हैं जो बाजार में वसूली के लिए अनुकूल हैं',\n",
              " 'सीओपीडी विकलांगता आमतौर पर सिगरेट पीने के कारण होती है',\n",
              " 'कुछ संपत्ति उच्च मूल्य के साथ समाप्त हो सकती हैं क्योंकि वे समय के साथ सराहना करते हैं घर उदाहरण के लिए पुनर्विक्रय के समय अक्सर खरीद के समय की तुलना में अधिक मूल्य के होते हैं',\n",
              " 'आश्चर्य इस सिद्धांत द्वारा वर्णित एकमात्र तटस्थ प्रभाव है',\n",
              " 'नेत्रगोलक की तुलना में कम होना चाहिए और प्रकाश की किरणें रेटिना के ठीक पीछे होती हैं',\n",
              " 'विसंगतियाँ असामान्य हैं लेकिन जरूरी नहीं कि हानिकारक हों छठी उंगली बढ़ाना उदाहरण के लिए एक विसंगति है',\n",
              " 'शराबी के साथ रहना कई बार छोटे बच्चे की तरह लग सकता है क्योंकि पीने की गंभीर समस्या वाला व्यक्ति अपने कपड़े धोने या अन्य बुनियादी रोजमर्रा के काम भी नहीं कर सकता है',\n",
              " 'आमतौर पर भुगतान करने की मांग करने की क्षमता व्यवस्था से संबंधित कुछ जिम्मेदारियों को निभाने के लिए व्यवस्था में विफलता के लिए पहले से ही प्रस्तावित परिपक्वता तिथि की तुलना में भुगतान की मांग के अधिकार के साथ उपबंध प्रदान करने और अनुबंध का निपटान करने की व्यवस्था में पूर्व निर्धारित है',\n",
              " 'यदि आप गर्भवती नहीं हैं और स्वस्थ हैं तो एक महीने के भीतर टॉक्सोप्लाज्मोसिस के लक्षण गायब हो जाने चाहिए',\n",
              " 'गन्ना और चीनी उत्पादन के वर्तमान स्तर में उपलब्ध अधिकतम शीरा लगभग 13 एमएमटी है जो लगभग 300 करोड़ लीटर अल्कोहल एथेनॉल का उत्पादन करने के लिए पर्याप्त है',\n",
              " 'निचले पैरों और पैरों में झुनझुनी की अनुभूति कभी-कभी लूम्बेगो के साथ भी होती है और रोगी एक रीढ़ की हड्डी को विकसित कर सकते हैं क्योंकि उनके शरीर दर्द का जवाब देते हैं',\n",
              " 'माइग्रेन का एक अन्य रूप जिसे एक तीव्र भ्रमपूर्ण प्रकरण कहा जाता है लगभग विशेष रूप से छोटे बच्चों द्वारा अनुभव किया जाता है',\n",
              " 'निदा 5 का दुरुपयोग की पांच मुख्य दवाओं को क्या कहा जाता है इस पर शासन करता है लेकिन बहुत सारी दवाएं हैं जो इसके लिए स्कैन नहीं करती हैं फिर भी नियमित रूप से दुरुपयोग किया जा सकता है',\n",
              " 'यूरोपीय संघ सीपीआई पर आधारित मुद्रास्फीति को कम करने और यूरोपीय संघ के भीतर आर्थिक विकास को प्रोत्साहित करने के लिए बैंक ब्याज दरों में बदलाव करते हैं',\n",
              " 'इसका मतलब यह है कि बाजार कितना खराब प्रदर्शन करता है इसकी परवाह किए बिना नुकसान सीमित है',\n",
              " 'इनमें प्रतियोगियों के लिए प्रायोजन या प्रतिज्ञा शामिल हो सकती है या गेंदबाजी एलीस को समय की एक निर्धारित अवधि के लिए अपनी फीस का हिस्सा दान करके भाग लेने के लिए कह सकते हैं',\n",
              " 'हम जानते हैं कि मिट्टी का अपरदन रोकने एवं जल-सन्तुलन बनाए रखने के लिये पृथ्वी पर पर्याप्त मात्रा में पेड़ों का होना आवश्यक है',\n",
              " 'यह एक हाइपोग्लाइसेमिक व्यक्ति के लिए एक अच्छा विचार हो सकता है कि वह प्रत्येक भोजन से पहले अपने रक्त शर्करा की जांच करे ताकि वह सही भोजन विकल्प बनाने में मदद कर सके',\n",
              " 'कम सामान्य लक्षणों में सिरदर्द पेट में दर्द और मतली जैसी चीजें शामिल हो सकती हैं',\n",
              " 'पतले दस्त होते हैं जिस से बदबू आती है',\n",
              " 'यदि कोई पाया जाता है तो स्पाइन विशेषज्ञ निदान में उपयोग और उपचार योजना के विकास के लिए अधिक जानकारी एकत्र करने के लिए फिल्मों को देख सकते हैं',\n",
              " 'नतीजतन एक्सचेंज के व्यक्तिगत सदस्य संयुक्त देयता का आनंद लेने के बजाय उत्तरदायी होते हैं जो कि इकाई को शामिल किए जाने पर मौजूद होंगे',\n",
              " 'मूंगफली की एलर्जी अक्सर बहुत गंभीर प्रतिक्रिया का कारण बनती है भले ही कोई व्यक्ति केवल बहुत कम मात्रा में मूंगफली या मूंगफली का मक्खन के संपर्क में हो',\n",
              " 'लर्निंग के बाद ही परमानेंट लाइसेंस बनता है',\n",
              " 'यदि नेवस कैंसर है हालांकि तो एक सर्जन इसे एक ऑपरेशन में निकाल सकता है या रोगी को विकिरण उपचार से गुजरना पड़ सकता है',\n",
              " 'रक्त वाहिकाओं को सख्त या संकुचित करने के परिणामस्वरूप ऐसी चोट लगना अक्सर उच्च रक्तचाप धमनियों के सख्त होने और हृदय रोग के साथ-साथ एक समवर्ती स्थिति होती है',\n",
              " 'इस घटना में कि ब्रोकर को सद्भाव में आदेशों को निष्पादित करने के लिए पाया जाता है तो उसके व्यापारिक विशेषाधिकार बहाल किए जाते हैं',\n",
              " 'भूजल स्तर में गिरावट के कारण पैदावार घट रही है और भूजल लवणता बढ़ रही है',\n",
              " 'सीमांत लागत एक इकाई की औसत लागत के समान नहीं है क्योंकि निश्चित लागत और अर्थव्यवस्था या पैमाने की विसंगतियों जैसी चीजों का मतलब है कि प्रत्येक अतिरिक्त इकाई की सीमांत लागत कुल मात्रा में परिवर्तन के रूप में बदल सकती है',\n",
              " 'हालांकि कुछ भूरी काली धब्बे वाली भी होती हैं',\n",
              " 'बुखार नापने के लिये डिजिटल या पारद थर्मामीटर इस्तेमाल करते है',\n",
              " 'वितरण केंद्रों की मरम्मत एक सीधा नुकसान है लेकिन यह निर्धारित करना कठिन हो सकता है कि अन्य जिम्मेदारियां कहां हैं',\n",
              " 'परिणामों की तुलना पुरुषों और महिलाओं के लिए अच्छी तरह से स्थापित औसत से की जा सकती है जो यह देखते हैं कि वे सामान्य हैं',\n",
              " 'क्योंकि एक आस्थगित शेयर रणनीति में स्टॉक के शेयर जारी करना शामिल होता है जो अनिवार्य रूप से प्राप्तकर्ताओं द्वारा सक्रिय ट्रेडिंग से बंद होते हैं वे सामान्य स्टॉक या पसंदीदा स्टॉक की तुलना में बड़े लाभांश भुगतान प्रदान करते हैं',\n",
              " 'जब इन दुर्लभ लक्षणों को संयोजित किया जाता है जैसे कि धीमी गति से धड़कन और सांस लेने में कठिनाई तो व्यक्ति कोमा का अनुभव करने का जोखिम उठाते हैं',\n",
              " 'ये बिक्री बहुत रचनात्मक हो सकती है जिससे उन संपत्तियों की अनुमति मिलती है जो अब एक उद्योग में दूसरे में नया जीवन लेने के लिए उपयोगी नहीं हैं',\n",
              " 'अंत में यह ध्यान दिया जाना चाहिए कि ऑटिस्टिक स्पेक्ट्रम परिपूर्ण से बहुत दूर है',\n",
              " 'यह आमतौर पर एक घनास्त्रता के लिए उपयोग नहीं किया जाता है लेकिन बस इसे काटने की तुलना में अधिक प्रभावी है',\n",
              " 'किसी भी तरह से निष्क्रिय निवेश के माध्यम से आर्थिक विकास को प्रोत्साहित करने के लिए मजबूत व्यापारिक बाजार आवश्यक हैं',\n",
              " 'इस परिदृश्य में व्यवसाय सबसे अधिक कवरेज प्राप्त करने में सक्षम होगा जो सुविधा में मूल निवेश दोनों की वसूली की गारंटी देता है और कम से कम प्रयास के साथ जुड़े प्रत्याशित रिटर्न का एक हिस्सा होता है',\n",
              " 'ज्यादातर लोग जो बेहोशी के लक्षण पहले से अनुभव करते हैं',\n",
              " 'पुरानी खराब पाचन क्रिया से बदहज़मी हो सकती है जिसके परिणामस्वरूप लोगों को अपने आहार से आवश्यक पोषक तत्व नहीं मिल पाते हैं और परिणामस्वरूप स्वास्थ्य समस्याओं का अनुभव होता है',\n",
              " 'दरअसल इसमें फाइबर की भरपूर मात्रा होती है जो बवासीर की समस्या से कुछ हद तक राहत दिला सकता है',\n",
              " 'आपके हाथ में एक मुद्रा नोट होने का मतलब यह नहीं है कि आप मुद्रा नोट पर मुद्रित मूल्यवर्ग के पैसे का स्वामित्व रखते हैं',\n",
              " 'इस वर्ग के वसा को कम से कम उपयोग करना चाहिए क्योंकि हृदय रोग होने के खतरे को बढ़ाते हैं',\n",
              " 'मुद्रा प्रबंधन योजना को सबसे खराब संभव परिदृश्य को ध्यान में रखते हुए विकसित किया जाना चाहिए',\n",
              " 'धारा 55 और प्रथम अनुसूची के स्थान पर निम्नलिखित धारा रखी जाएगी अर्थात्',\n",
              " 'अधिक वजन वाले रोगी अपना वजन घटा कर रक्तचाप को कम कर सकते हैं',\n",
              " 'इकोटेक्स पिगौवियन करों के उदाहरण हैं जो करों को शामिल करते हैं जो निजी पार्टियों को शामिल करने का प्रयास करते हैं उनके कार्यों का सामाजिक बोझ महसूस करते हैं',\n",
              " 'बकरी ब्याने के बाद जल्दी पुनः गर्भधारण कर ले',\n",
              " 'एक साल बाद निवेशक ने स्टॉक को बेच दिया ऐसा करने के लिए ब्रोकर को कमीशन में 50 अमरीकी डालर का भुगतान किया',\n",
              " 'केडेवर किडनी प्रत्यारोपण के कार्य में किन-किन व्यक्तियों का समावेश होता है',\n",
              " 'ग्राम-नेगेटिव बैक्टीरिया में एक कोशिका झिल्ली होती है जिसमें लिपोपॉलीसेकेराइड होता है जिसे शरीर एक प्रतिरक्षा प्रतिक्रिया के भाग के रूप में अस्वीकार करता है',\n",
              " 'इसका इलाज एंटीबायोटिक्स से भी किया जाता है',\n",
              " 'दाँतेदार जबड़े ऊतक पोत या अंग को कसकर पकड़ लेते हैं',\n",
              " 'इस जानकारी का उपयोग निवेशकों और विश्लेषकों द्वारा इस बारे में निर्णय लेने के लिए किया जा सकता है कि किसी विकास कंपनी में निवेश करना है और स्टॉक मूल्य शुरू होने से पहले मूल्य में वृद्धि का लाभ लेने के लिए स्टॉक को बेचना है या नहीं',\n",
              " 'इस विधि का उपयोग कृषि व औद्योगिक क्षेत्र में करें',\n",
              " 'एक और अधिक गंभीर प्रकार के ढह गए फेफड़े को तनाव न्यूमोथोरैक्स कहा जाता है',\n",
              " 'एपोलिपोप्रोटीन ई एक विशेष प्रकार का लिपोप्रोटीन मस्तिष्क में एक प्रमुख भूमिका है',\n",
              " 'हेपेटाइटिस सहित कुछ विशिष्ट चिकित्सा शर्तों को हेपेटोटॉक्सिसिटी के लेबल के तहत वर्गीकृत किया गया है',\n",
              " 'अक्सर क्लियरिंगहाउस एक ट्रेडिंग अवधि से अगले तक या एक कैलेंडर दिन से अगले प्रदर्शन में परिवर्तन के आधार पर निर्धारण करेगा',\n",
              " 'विक्रेता आमतौर पर इससे अधिक की मांग कर सकते हैं और खरीदार आमतौर पर समझौता करने की उम्मीद में काउंटरऑफर्स के साथ प्रतिक्रिया करते हैं',\n",
              " 'क्योंकि संचित आय कंपनी के सामान्य परिचालन खर्चों को पूरा करने के लिए आवश्यक धन का प्रतिनिधित्व नहीं करती है इसलिए बकाया ऋण का भुगतान करने के लिए कमाई का उपयोग करना अक्सर एक अच्छी स्थिति को और भी बेहतर बना सकता है',\n",
              " 'क्लौस्टीडियम जनित अन्य रोगों की तरह यह भी अपने एक्सोटोक्सिन के द्वारा भारी क्षति पहुंचाता है खासकर जब भोजन में बड़ी मात्रा में पहुंच गया हो',\n",
              " 'फ्यूल लाईन में पानी आ गया है',\n",
              " 'सामान्यतः शुरू के दो महीनों में चार प्रकार की दवाईयाँ और उसके बाद तीन प्रकार की दवाईयाँ दी जाती हैं',\n",
              " 'शेष अंगों के बगल में मानव फेफड़े छाती के अंदर स्थित होते हैं',\n",
              " 'एक बार यह नई जानकारी सीखने के बाद अनुभूति बिल्ली को भविष्य की स्थितियों के लिए जानकारी को लागू करने में मदद करके खेल में आती है',\n",
              " 'यदि वेस्टिबुलर परीक्षण एक आंतरिक कान की समस्या को इंगित करने में विफल रहता है तो रोगी मस्तिष्क के विकारों की जांच करने के लिए अधिक महंगी प्रक्रियाओं जैसे चुंबकीय अनुनाद इमेजिंग के साथ जारी रख सकता है',\n",
              " 'मिशन निदेशक ने प्रक्षेपण के लिए वाहन निदेशक को अधिकृत किया',\n",
              " 'अंत में प्रोटीन का एंजाइम पाचन मुक्त अमीनों एसिड और पेप्टाइड्स रिलीज करने के लिए करते हैं',\n",
              " 'आदमी कितनी पेशाब पैदा करता है यह उम्र और मौसम के अनुसार बदलता है',\n",
              " 'हालांकि अन्य लोगों को मस्तिष्क शोष द्वारा लाया जा सकता है',\n",
              " 'पारंपरिक सतही सिंचाई की तुलना में जल की औसतन 40 से 50 प्रतिशत बचत की जा सकती है वहीं उत्पादन में 20 से 25 प्रतिशत तक की वृद्धि की जा सकती है',\n",
              " 'अंतरपणन के द्वारा प्रतिभूतियों वस्तुओं या विदेशी विनिमय के मूल्य संसार भर में लगभग समान हो जाते हैं',\n",
              " 'टेंडोनाइटिस आमतौर पर अक्सर दोहराए जाने वाले आंदोलनों द्वारा लाया जाता है और सुप्रास्पिनैटस टेंडोनाइटिस अक्सर उन एथलीटों में देखा जाता है जिनके खेल में बेसबॉल पिचर्स की तरह ओवरहेड थ्रोइंग गति की आवश्यकता होती है',\n",
              " 'नमक का सेवन कम करने से न केवल आपकी अवधि के आसपास सूजन कम होगी बल्कि उच्च रक्तचाप को रोकने में भी मदद मिलेगी',\n",
              " 'यह उपाय नदियों में मत्स्यजीवियों की आर्थिक स्तिथि को मजबूत करेगा',\n",
              " 'प्रभावित विकार ज्यादातर उन्माद या अवसाद या दोनों के बीच अचानक बदलाव हो सकते हैं',\n",
              " 'एक अन्य प्रारंभिक अमेरिकी म्यूचुअल इंश्योरेंस कंपनी की स्थापना 1752 में फिलाडेल्फिया में बेंजामिन फ्रैंकलिन द्वारा की गई थी और आज भी एक म्यूचुअल इंश्योरेंस कंपनी के रूप में काम करती है',\n",
              " 'छोट्टी कंपनीया हो सकता सिर्फ कम पढे-लिखे लोगो को ही अपना लक्ष्य बना सकती हैजो गरीब परन्तु जनसंख्या में ज्यादा हो वो उन्हें अपना लक्ष्य इसलिए बनाते क्योंकि वो उन लोगो की सेवन की रणनीतियां देखते है जो उनके बाजार विभाग से मिलती है इसलिए ठेले वाले भी कम आमदनी वाले इल्लाको में अपना ठेला रखते है ताकि वो उन इल्लाको में इस खाना बिमारियों का कारण भी बन सकता है',\n",
              " 'पशुओं के लिए रोज़ घर में दाना मिश्रण बनाने की कोई सामान्य विधि बताएं',\n",
              " 'अमेरिका में दो प्राथमिक शासी निकाय हैं जो डेरिवेटिव नियमों को लागू करते हैं जिनमें प्रतिभूति और विनिमय आयोग और कमोडिटी फ्यूचर्स ट्रेडिंग कमीशन शामिल हैं',\n",
              " 'आईआरएस निधियों को वसूलने के बारे में बेहद आक्रामक है जिसे नियोक्ताओं को विश्वास में रखा जाना चाहिए',\n",
              " 'मस्तिष्क की चोट सेरेबेलम क्षति का एक सामान्य कारण है',\n",
              " 'जलीय फर्न के नाम से विख्यात या एक ऐसा शैवाल है जो छोटे-बड़े तालाब गड्ढे आदि में एक हरी मोटी परत के रूप में बिछा हुआ दिखाई पड़ता है',\n",
              " 'प्रत्याशित प्रतिफल आमतौर पर स्टॉक चार्ट और पूर्व प्रवृत्तियों के करीबी विश्लेषण द्वारा निर्धारित किया जाता है',\n",
              " 'सेरेब्रल पाल्सी की अन्य सामान्य जटिलताओं में स्कोलियोसिस खराब आंखें और स्कोलियोसिस जैसी रीढ़ की समस्याएं शामिल हो सकती हैं',\n",
              " 'स्वर को अपनी प्रकृति से ही आकृति प्राप्त होती है',\n",
              " 'चूंकि एक औसत आई माइग्रेन तकनीकी रूप से मस्तिष्क की शिथिलता है और आंख का विकार नहीं है इसलिए उपचार अधिक कठिन है और ज्यादातर मामलों में लक्षण समय के साथ समाप्त हो जाएंगे',\n",
              " 'इसे खान से निकालकर साफ किया जाता है और परिशुद्ध लवण उर्वरक के रूप में म्यूरेट ऑफ पोटाश के नाम से बाजार में मिलता है',\n",
              " 'विश्व व्यापार संगठन करार के अंतर्गत व्यापार उन्मुक्तीकरण के कारण भारत को अपने आपको तैयार करना है और ज्यादा प्रजातियों को शामिल करने से जुड़े संभावी परिस्थितिकी तथा रोग खतरे को कम करना है',\n",
              " 'इसका मूल काम होता है कि शरीर के उपापचय को नियंत्रित करे',\n",
              " 'इससे कम से कम 3 से 4.5 किग्रा फैब्रिक तैयार किया जा सकता है और ये अपने चिकने और कोमल फाइबर की वजह से भी जाना जाता है',\n",
              " 'चेक जारी करने वाली कंपनी और उन्हें संभालने वाले बैंकों के बीच सेवा नियमित संचार पर निर्भर करती है',\n",
              " 'वित्त कंपनी तुरंत व्यापार के लिए बकाया पैसे का भुगतान करती है एक शुल्क घटाती है',\n",
              " 'गर्भावस्था के दौरान लार उत्पादन में वृद्धि कभी-कभी ध्यान देने योग्य होती है',\n",
              " '3500 का अनुदान जो भी कम हो सामान्य एवं अन्य पिछड़ा वर्ग के लिए',\n",
              " 'इसके बजाय सेवाओं की पेशकश जारी रखने के लिए जिन्हें अंततः खराब ऋण के रूप में लिखना होगा इस तरह की समस्या से बचने के लिए प्राप्य उम्र बढ़ने का उपयोग करें',\n",
              " 'प्रेस्कॉट और रजनीश मेहरा ने इस घटना को  इक्विटी प्रीमियम पहेली  कहा जिसे समझने के लिए अर्थशास्त्रियों ने संघर्ष किया है',\n",
              " 'यही नहीं आवेदक को यह बताना होगा कि भांग के पौधे का प्रयोग केवल बीज और रेशा प्राप्त करने के लिए किया जाएगा',\n",
              " '5 किलो नीम के पत्ते 3 लीटर पानी में डालकर उबाल ली तब आधा रह जावे तब उसे छानकर 150 लीटर पानी में घोल तैयार करें',\n",
              " 'यह बदले में इसका मतलब है कि उत्पन्न किए गए रिटर्न से इन खर्चों में कटौती करने की आवश्यकता नहीं है प्रभावी रूप से निवेशक को अधिक मुनाफे को बनाए रखने की अनुमति देता है',\n",
              " 'खुजली को कम से कम रखने के लिए एंटीथिस्टेमाइंस जैसी दवाओं की भी सिफारिश की जा सकती है',\n",
              " 'इस सीमा में एक व्यक्ति आदर्श शरीर के वजन से कम से कम 20 प्रतिशत अधिक होगा',\n",
              " 'इसके अतिरिक्त उसका नवजात शिशु',\n",
              " 'एनीमिया के कई प्रभाव हो सकते हैं हल्के अल्पकालिक लक्षण जैसे कि थकान और पीला त्वचा लंबे समय तक दिल की विफलता जैसे अधिक गंभीर जटिलताएं',\n",
              " 'एक गर्भित कोशिका जो डिम्ब एवं शुक्राणु के सम्मिलन से निर्मित होती है उसमें समस्त अनुवांशिक सूचनाएं कूट संकेतित रहती हैं जिससे कुछ समयांतराल के पश्चात एक पूर्ण मानव का निर्माण होता है',\n",
              " 'पिस्सू बाजार काफी कम कीमतों पर नए और इस्तेमाल किए गए माल खोजने के लिए काफी लोकप्रिय हैं',\n",
              " 'अनिवार्य रूप से ऋण देने वाली वित्तीय संस्था तब तक संपत्ति में ब्याज को बरकरार रखती है जब तक कि गृहस्वामी द्वारा बंधक का पूरा भुगतान नहीं किया जाता है',\n",
              " 'सर्दियों में गुड़ सरसों का तेल अदरक खिलाएं',\n",
              " 'भूरे रंग के वैरागी मकड़ी की तरह मकड़ियों में साइटोटॉक्सिक विष होता है',\n",
              " 'सीमित जल स्थितियों में वैकल्पिक फरो सिंचाई अथवा बड़े अन्तराल की फरो सिंचाई और डरियो सिंचाई प्रणालियां अपनाई जा सकती हैं',\n",
              " 'अन्य मामलों में पेरिटोनियल द्रव्यमान को शल्य चिकित्सा द्वारा हटाने की आवश्यकता हो सकती है',\n",
              " 'स्थिति आमतौर पर दर्द रहित होती है हालांकि केंद्रीय दृष्टि काफी बिगड़ा हो सकती है',\n",
              " 'जारीकर्ता को बाजार में बदलाव के खिलाफ अधिक सुरक्षा देने के लिए अक्सर एक संरचित नोट जारी किया जाएगा',\n",
              " 'खरीफ फसल कटने के बाद नमी संरक्षण के लिए खेत में पुआल या पत्तियाँ बिछा दें ताकि खेत की नमी नहीं उड़ पाये',\n",
              " 'इन मामलों में सिद्धांत हमेशा बहुत मायने नहीं रखेगा',\n",
              " 'अंग अस्वीकृति एक विदेशी वस्तु की उपस्थिति के लिए शरीर की प्राकृतिक प्रतिक्रिया है जिसमें प्रतिरक्षा प्रणाली प्रतिरोपित अंग के खिलाफ बचाव का प्रयास करती है',\n",
              " 'राइजोबियम कल्चर से बीजोपचार करना फायदेमन्द रहता है',\n",
              " 'खास बात है कि उत्तर प्रदेश की सरकार अपनी कृषि यंत्रीकरण योजना के तहत डिस्क हैरो यंत्र पर करीब 25 प्रतिशत तक की छूट देती है',\n",
              " 'अंतर्निहित कारण के उपचार के साथ लक्षण कभी-कभी हल हो जाते हैं',\n",
              " 'यह कार्यालय प्रधानमन्त्री तथा उनके द्वारा प्रशासनिक सेवाओं के कुछ गिने-चुने वरिष्ठ अधिकारियों की मेज़बानी करता है',\n",
              " 'खाता खोलने में आमतौर पर कुछ कागजी कार्रवाई को भरना और प्रारंभिक जमा करना शामिल होता है',\n",
              " 'जब आप ऋण समझौते पर हस्ताक्षर करते हैं तो आप हर महीने या निर्दिष्ट दिन पर पुनर्भुगतान की अनुमति देते हैं',\n",
              " 'वे पसीना तेजी से सांस लेने या हृदय गति और आतंक हमलों में शामिल हो सकते हैं',\n",
              " 'अन्य कारकों जैसे कि पहले से मौजूद स्थितियों को तत्काल उपचार और कवरेज की आवश्यकता होती है स्वास्थ्य योजना की लागत पर भी विचार किया जाता है',\n",
              " 'आमतौर पर रिटायरमेंट के लिए निवेश करने वाला व्यक्ति रिटायरमेंट फंड बढ़ाने में मदद करने के साथ-साथ निवेश में पैसा भी लगाता है',\n",
              " 'गोपनीयता और गोपनीयता की इस उच्च प्राथमिकता ने हालांकि यह गलतफहमी पैदा कर दी है कि विदेशी अमेरिकी सरकार और स्विस बैंक में आंतरिक राजस्व सेवा से अपना पैसा छिपा सकते हैं',\n",
              " 'इस प्रक्रिया में हवा ठण्डी होती है परिणामस्वरूप वायु का संघनीकरण और तदुपरान्त वर्षा होती है',\n",
              " 'फिर वे बुलेट लोन से जुड़े छोटे मासिक भुगतान का लाभ उठाते हैं',\n",
              " 'इन कंपनों को मध्य कान में तीन छोटी हड्डियों को पास किया जाता है जिन्हें ओस्कल्स कहा जाता है',\n",
              " 'ऋण जारी करने के लिए प्राथमिक नकारात्मक पक्ष यह है कि बॉन्ड बेचने से शेयरधारकों को इकाई का स्वामित्व नहीं मिलता है जारीकर्ता को अनुबंध के जीवन पर उन शेयरधारकों को जारी ब्याज भुगतान करना होगा',\n",
              " 'इसके लगभग २४ वंश भारत में पाए जाते हैं',\n",
              " 'दाने भी खुल जाते हैं और फिर खुजाने लगते हैं लेकिन वर्तमान में खुजली और दर्द महसूस कर सकते हैं',\n",
              " 'यदि ब्याज दर गिरने की उम्मीद है तो एक निश्चित जमा एक अच्छा विचार हो सकता है लेकिन यदि ब्याज दरें बढ़ती हैं तो निश्चित जमा लाभहीन हो सकता है',\n",
              " 'चिकन एक सभ्य स्रोत प्रदान करता है जैसा कि बीफ़ और पोर्क करता है',\n",
              " 'जो लोग आम तौर पर स्वस्थ होते हैं हालांकि और नियमित जांच के लिए प्रति वर्ष केवल एक या दो बार डॉक्टर के पास जाते हैं अक्सर एक उच्च कटौती योग्य स्वास्थ्य योजना का चयन करते हैं इसलिए वे डॉक्टर के पास जाने पर जेब से अधिक भुगतान करते हैं लेकिन कम उनका मासिक प्रीमियम',\n",
              " 'यदि कंपनी अपने भुगतान करने में विफल रहती है तो पूरा सिंडिकेट प्रभाव को अवशोषित कर लेता है इसलिए प्रत्येक ऋण संस्थान को केवल नुकसान का एक हिस्सा वहन करना पड़ता है',\n",
              " 'खंड में कंपनी  शब्द के पश्चात् सहकारी सोसाइटी  शब्द अंतःस्थापित किए जाएंगे',\n",
              " 'यह जालसाज ग्राहकों को बैंक के नाम पर फर्जी कॉल करके एफडी बनवाने के नाम पर एकलिंक देते है कि जिसमें ग्राहकों से उनकी पर्सनल जानकारी जैस नाम मोबाइल नंबर कार्ड नंबर सीवीवी आदि मांगी जाती है',\n",
              " 'सकल लाभ और शुद्ध लाभ एक विशेष कंपनी के राजस्व का वर्णन करने के लिए शर्तें हैं',\n",
              " 'इस पद्धति के प्रयोग से फल को नुकसान करने वाले कीटों की पहचान उनके आगमन की सूचना तथा प्रकोप के स्तर की जानकारी प्राप्त होती है जो अंतत कीट प्रबंधन तकनीकों के क्रियान्वयन में सहायक होता है',\n",
              " 'इसका मतलब यह है कि जब जीव का जीवन शुरू हुआ तो उसकी हालत में कोई प्राकृतिक प्रतिरक्षा नहीं थी',\n",
              " 'वर्तमान में नासा अंतर्राष्ट्रीय अंतरिक्ष स्टेशन को समर्थन दे रही है चाँद पर फिर से मानव को भेजने के लिये आर्टेमिस कार्यक्रम चला रही है और ओरायन बहु-उपयोगी कर्मीदल वाहन व व्यापारिक कर्मीदल वाहन के निर्माण व विकास पर ध्यान केंद्रित कर रही है',\n",
              " 'जो पुरुष नोटिस करते हैं कि उनका वीर्य अचानक से गाढ़ा होता है उन्हें तरल पदार्थों का सेवन बढ़ाने के लिए प्रोत्साहित किया जाता है विशेषकर पानी को',\n",
              " 'सही ढंग से निवेश की कमाई की संभावना का अनुमान लगाते हुए प्रतिभूतियों पर एक महत्वपूर्ण उपज की संभावना बढ़ाने में मदद करता है जबकि नुकसान को कम करने की संभावना को कम करता है',\n",
              " 'विष चाहे मकड़ी या सांप का जहर दो प्रकारों में वर्गीकृत किया जा सकता है न्यूरोटॉक्सिक या साइटोटोक्सिक',\n",
              " 'जिंक फास्फाइड बेरियम कार्बोनेट',\n",
              " 'रूढ़िवादी बीमा प्राप्त करने का प्राथमिक कारण यह है कि ब्रेसिज़ की कीमत बहुत अधिक है और इसे कई बच्चों वाले परिवार में गुणा किया जा सकता है',\n",
              " 'इन सब समस्याओं से उबरने के लिए जलीय कृषि क्षेत्र में एक विशेष तकनीक विकसित हुई है',\n",
              " 'अवसर पर असामान्यता जननांग क्षेत्र में सूजन का कारण हो सकती है जिसे निरीक्षण पर देखा जा सकता है',\n",
              " 'डिस्पोजेबल जीभ अवसादों का उपयोग करने के लिए यह अधिक कुशल और प्रभावी है क्योंकि वे नियमित रूप से रोगी परीक्षाओं में उपयोग किए जाते हैं',\n",
              " 'अच्छे फूल उत्पादन के लिए 1000 वर्ग मीटर जगह में 13 कि ग्रा यूरिया 25 कि',\n",
              " 'अक्सर सुविधा स्टोर पर जाना एक आदत बन सकता है और हर बार आवेग वाली वस्तुओं को खरीदना वास्तव में आपके नकदी को हाथ से काटने या आपकी डेबिट कार्ड की फीस में जोड़ सकता है',\n",
              " 'प्रत्येक क्षेत्र व भूमि में इसकी संस्तुती ठीक से कर पाना कठिन है',\n",
              " 'इनके प्रकोप से पत्तियां चिपचिपी दिखाई देती हैं तथा उन पर कवकों की पर्त चढ़ जाती हैं',\n",
              " 'सबसे पहले संभव सर्वोत्तम ब्याज दर प्राप्त करना उपलब्ध वित्त का प्रबंधन करने का एक अच्छा तरीका है',\n",
              " 'विधि विधान से हुई शिल्पदेव भगवान विश्वकर्मा की पूजा',\n",
              " 'उस राष्ट्र के बुनियादी ढांचे की स्थिरता में योगदान करके कम कीमत पर उस राष्ट्र में आधारित निवेशों को सुरक्षित करना संभव है जब तक कि विदेशी मुद्रा बाजार में मुद्रा में सुधार नहीं होता है और उन अर्जित शेयरों का मूल्य एक बिंदु तक बढ़ जाता है निवेशक वांछनीय समझता है',\n",
              " 'पौधें एवं पंक्ति की दूरी',\n",
              " 'तीन सबसे कनिष्ठ बैच के आईएएस और आईएफएस अधिकारियों दवारा जिला सिंचाई योजना तैयार की जाएगी',\n",
              " 'पुनर्जलीकरण समाधान के उपयोग के बारे में माता-पिता को शिक्षित करने के लिए अंतरराष्ट्रीय स्वास्थ्य संगठनों द्वारा किए गए प्रयासों ने इस सामान्य जोखिम कारक को कम कर दिया है',\n",
              " 'एरोपोनिक प्रणाली में पौधों की वृद्धि अन्य हाइड्रोपोनिक प्रणालियों की तुलना में अधिक कुशल होती है क्योंकि पौधे अधिक ऑक्सीजन प्राप्त करते हैं और पोषक तत्व कुशलता से',\n",
              " 'आयोडीन हमें समुद्री खाद्य पदार्थ और पानी में मिल सकता है',\n",
              " 'होम केयर रोगियों की निगरानी के लिए ईईजी उपकरणों का भी उपयोग किया जाता है',\n",
              " 'सूखे गले के कारणों में गले में खराश एलर्जी और मुखर तनाव शामिल हो सकते हैं',\n",
              " 'फलों में रेशे एवं बीज की मात्रा काफी कम होती है',\n",
              " 'हरी खाद के लिए उपयुक्त पौधे का चुनाव बहुत आवश्यक है',\n",
              " 'पीसीओएस के निदान के लिए कोई एकल परीक्षण डिज़ाइन या उपयोग नहीं किया गया है',\n",
              " 'निश्चित रूप से कॉर्पोरेट करों में काफी कटौती की गई थी और कुछ टैक्स ब्रैकेट में व्यक्तिगत आय करों में भी कटौती की गई थी',\n",
              " 'कई कारक विकार में योगदान कर सकते हैं जिसमें मां में मधुमेह और उच्च रक्तचाप लंबी कठिन प्रसव या विभिन्न प्रकार के भ्रूण संकट शामिल हैं',\n",
              " 'क़सार पूरे विद्युत-चुम्बकीय स्पेक्ट्रम में शक्तिशाली उत्सर्जन उत्पन्न करते हैं जिसमें शामिल हैं यूवी एक्स-रे और गामा-किरण और अपनी उच्च चमक के कारण ये काफी दूरी से भी दिखाई देते हैं',\n",
              " 'लगभग २ वर्ष आयु वाली स्वस्थ कल्म का चयन किया जाए और इसे स्टम्प के साथ सतह से अलग किया जाए या कल्म को नीचे से काटा जाए',\n",
              " 'उदासीन अर्थव्यवस्था में उदाहरण के लिए एक बड़ी क्रेडिट रेटिंग जारी करने की कोशिश कर रही खराब क्रेडिट रेटिंग वाली नगरपालिका कठिनाइयों का सामना कर सकती है',\n",
              " 'एक साधारण वार्षिकी को कभी-कभी बकाए में वार्षिकी कहा जाता है',\n",
              " 'इसका कारण यह है कि घर की कीमतें जबकि एक छोटी अवधि में अस्थिर आमतौर पर 30-साल के एक बंधक के निष्कर्ष से बढ़ी होगी',\n",
              " 'जैसे-जैसे अर्थव्यवस्था कमजोर होती है वैसे-वैसे बेरोजगारी दर बढ़ती जाती है',\n",
              " 'सबसे आम स्टॉक इंडेक्स फंड्स हैं जो एस एंड पी 500 जैसे किसी विशेष स्टॉक मार्केट इंडेक्स का अनुसरण करते हैं',\n",
              " 'हरा चारा खिलाएं तथा दाने में चोकर की मात्रा बढ़ा दें',\n",
              " 'यदि आइटम को वर्ष के पहले के अलावा किसी भी समय सेवा में खरीदा जाता है या रखा जाता है तो परिसंपत्ति जीवन के पहले और अंतिम वर्षों में समायोजन किया जाना चाहिए',\n",
              " 'यदि एक निश्चित क्षेत्र में रहने वाले लोगों की इतिहाससिक यादे जीत-हार गाथांए और जीवन संघर्ष आदि समान्य है तो उनके भीतर एकता की एक मजबूत भावना का विकसित होना बिल्कुल स्वाभाविक है',\n",
              " 'फल गोल कुछ अंडाकार मध्यम आकार के पकने पर लाल चित्तियाँयुक्त हल्का पीला होता है',\n",
              " 'जैसा कि तकनीशियन त्वचा पर ट्रांसड्यूसर के चारों ओर घूमता है रोगी को रक्त के प्रवाह का अध्ययन करने के साथ कुछ उच्च पिचिंग पल्सिंग ध्वनियां सुनाई दे सकती हैं',\n",
              " 'एक पारंपरिक इरा के साथ उनकी कमाई की संपूर्णता यहां तक कि वे जो 15 ब्रैकेट में डालते हैं उन पर 40 का कर लगाया जाएगा यदि वे ब्रैकेट हैं तो वे अपने इरा को कैश आउट करते हैं',\n",
              " 'भारत में यह हिसार में पाई जाती है',\n",
              " 'ऐसा इसलिए है क्योंकि चेक को अभी भी क्लियर करना है और यदि आपका बैंक में खाता नहीं है और चेक फर्जी निकला तो बैंक में कम मंदी है',\n",
              " 'पूर्ण विकसित सफेद लट्ट अच्छी गहराई में जाकर प्यूपा में बदल जाते हैं',\n",
              " 'विलेख में एक अचल संपत्ति लेनदेन के लिए बहुत प्रासंगिक जानकारी होती है',\n",
              " 'भर्ती प्रक्रिया के जरिए चयनित अभ्यर्थियों को 34,900 रुपये तक का वेतन दिया जाएगा',\n",
              " 'वह एक लड़का है जो कभी बड़ा नहीं होना चाहता कभी-कभी लैंड करने के लिए उड़ान भरता है और कई तरह के कारनामों को अंजाम देता है और उसने कई आने वाली पीढ़ियों की कल्पना को पकड़ लिया है जो कई पुस्तकों और नाटकों जैसे प्रदर्शनों में दिखाई देता है',\n",
              " 'इसी तरह पके हुए दानों को दाल बनाने भुना हुआ दाना बनाने इत्यादि प्रयोग में लाया जाता है',\n",
              " 'कभी-कभी हालांकि ये संकुचन आवश्यक अपशिष्ट हटाने की अनुपस्थिति में होते हैं',\n",
              " 'कुछ संक्रमण रोगी को सूजन प्रक्रिया में वृद्धि के लिए प्रेरित कर सकते हैं जिसमें अन्नप्रणाली की सूजन भी शामिल है',\n",
              " 'इसके अलावा नैदानिक चिकित्सा अनुसंधान काफी हद तक तुलना-आधारित है और एक प्लेसबो के विपरीत उत्पाद या दवा द्वारा शुरू किए गए परिणामों का विश्लेषण करके संचालित होता है',\n",
              " 'एक बर्तन में गर्भवती माताओं ने उबलते पानी के लगभग 2 कप के साथ कटा हुआ लाल गोभी का आधा सिर मिलाया सब्जियों को पूरी तरह से विसर्जित करने के लिए बस पर्याप्त गोभी का उपयोग किया',\n",
              " 'पुरानी अग्नाशयशोथ का निदान करने के लिए सामान्य परीक्षणों में रक्त परीक्षण जैसे सीरम लाइपेस और सीरम एमाइलेज परीक्षण शामिल हैं जो अग्नाशय के कार्य का मूल्यांकन करते हैं',\n",
              " 'इसके लिए 10-15 क्विंटल गोबर की सड़ी खाद नेत्रजन फास्फोरस एवं पोटाश 80:60:80 किग्रा हे के अनुपात में प्रयोग करें',\n",
              " 'फफूंदनाशक दवाओं में घोल तैयार करने वास्ते इमिशान-6 सस्ता पड़ता है',\n",
              " 'यदि अंतर्निहित कीमत बढ़ जाती है तो अनुबंध मूल्य कम होने के बाद से अनुबंध अधिक मूल्यवान है यदि अंतर्निहित मूल्य गिरता है तो अनुबंध मूल्य खो देता है',\n",
              " 'एक ही समय में एक निगम जो एक नया कॉर्पोरेट मुख्यालय बनाने के लिए ऋण ले रहा है इसमें बहुत दिलचस्पी होगी कि क्या शर्तें साधारण या सटीक ब्याज के आवेदन के लिए अनुमति देती हैं क्योंकि बीस की शर्तों के साथ उस बड़े ऋण पर भुगतान की गई ब्याज की राशि तीस साल काफी अधिक हो सकते हैं जिसके आधार पर दृष्टिकोण का उपयोग किया जाता है',\n",
              " 'मालिक-ऑपरेटरों के लिए अक्सर एक बंडल पॉलिसी खरीदना संभव होता है जो ट्रक चालक को ट्रक पर ही बीमा और बीमा प्रदान करता है',\n",
              " 'अब हम उसकी बाहरी सतह पर विशेष टाइलें लगाने की प्रक्रिया में हैं जो पृथ्वी के वायुमंडल में पुनः प्रवेश के दौरान तीव्र गर्मी को बर्दाश्त करने के लिए आवश्यक है  वीएसएससी के निदेशक एम चंद्रनाथन ने कहा',\n",
              " 'यह सुनिश्चित करने की जरूरत है कि इस प्रक्रिया में पारंपरिक चावल जीन पूल नष्ट न हो जाये',\n",
              " 'कुछ लोगों में कंपकंपी का पारिवारिक इतिहास होता है विशेष रूप से सौम्य आवश्यक कंपन के मामले में',\n",
              " 'वे अपने स्वयं के भाषण के बारे में भी जानते हैं और दूसरे उन्हें कैसे सुनते हैं',\n",
              " 'बकाया ऋणों की वसूली के संबंध में राज्य सरकारों को समय-समय पर अनेक सुझाव दिए गए किन्तु इनमें से अनेक सीमित ऋण-पात्रता और वित्तीय समस्या केवल भूमि-विकास बैंकों या अन्य सहकारी संस्थाओं की ही नहीं है अनेक व्यापारिक बैंक भी इससे ग्रसित है',\n",
              " 'हल्के मामलों को अक्सर एक स्वस्थ आहार खाने जैसे समाधान के साथ संबोधित किया जा सकता है जिसमें पर्याप्त मात्रा में विटामिन डी कैल्शियम और जस्ता होता है',\n",
              " 'इसके विपरीत यदि यह एक श्रृंखला में पहला भुगतान है तो कागजी कार्रवाई यह दिखाएगी और शेष राशि का संकेत देगी और जब यह देय होगा',\n",
              " 'इस तरह से अगर ऋणदाता यह सुनता है कि उधारकर्ता अन्य वित्तीय दायित्वों पर चूक करने लगा है तो ऋणदाता ऋण लेने के लिए कॉल कर सकता है इससे पहले कि उधारकर्ता बकाया लेनदारों से दिवालियापन संरक्षण प्राप्त कर सके',\n",
              " 'पके हुए पौधों को काटकर धूप में सुखाकर दौनी करके दाना अलग कर लें',\n",
              " 'अच्छी किस्म वाली उत्पादन सामग्री का उत्पादन',\n",
              " 'यदि इस अवस्था में खर-पतवार नियंत्रित नहीं किये गये तो ये सर्पगंधा के पौधे को ढक लेते हैं जिससे पौधे मर भी जाते हैं',\n",
              " 'प्रत्येक पेड़ की अंगूठी इसके दो भाग होते हैं आंतरिक हल्का और ढीला और बाहरी गहरा और सघन',\n",
              " 'नतीजतन मांग आमतौर पर धातु के लिए उच्च है जिसका अर्थ है कि इसकी कीमत काफी अधिक है',\n",
              " 'यदि अनुमानित राजस्व अनुमानित लागत से अधिक है तो निवेश को आमतौर पर एक सुरक्षित निवेश माना जाता है जिसका अर्थ है कि निवेशक को पैसा खोने की संभावना नहीं है',\n",
              " 'आम तौर पर एक प्रतिशत के रूप में प्रस्तुत किया जाता है एक कर्मचारी बल के भीतर परिवर्तन का वर्णन करने के लिए एक टर्नओवर की गणना की जा सकती है फिर एक निवेश पोर्टफोलियो के भीतर होल्डिंग या एक म्यूचुअल फंड या किसी प्रकार के एक्सचेंज-ट्रेडेड फंड द्वारा आयोजित निवेश के साथ बदलाव',\n",
              " 'छेद का उपयोग किया जा सकता हैगीली घास छेद निर्माताओं',\n",
              " 'यह जनसंख्या के मध्य न केवल पोषकता संबंधी सुरक्षा सुनिश्चित करती है बल्कि कृषि संबंधी निर्यातों में महत्वपूर्ण रूप से अंशदान भी करती है',\n",
              " 'जैसा कि वे कम लोचदार हो जाते हैं वे टूटना शुरू कर सकते हैं',\n",
              " 'नतीजा यह है कि जिले सभी किसान जैविक खेती करने में लगे है',\n",
              " 'इस स्थिति के साथ कुछ मस्तिष्क में रक्तस्राव के जोखिम में वृद्धि हो सकती है विशेष रूप से या तो रक्त के थक्के या धमनीविस्फार के कारण',\n",
              " '25 एच पी ट्रैक्टर पेग टाइप एक ब्लोवर',\n",
              " 'सर्जिकल पिन अक्सर जोड़ों को शामिल करने वाली हड्डियों के ऑस्टियोसिंथिथेसिस में उपयोग किया जाता है',\n",
              " 'कोकीन जैसे उत्तेजक पदार्थों को सूंघने वाले नशेड़ी नाक के उपास्थि में एक नेत्रहीन क्षतिग्रस्त सेप्टम और छेद दिखा सकते हैं',\n",
              " 'लंघन भोजन के साथ अपर्याप्त आहार के परिणामस्वरूप रक्त शर्करा का स्तर गिर सकता है और मधुमेह वाले लोग इसके लिए विशेष रूप से कमजोर होते हैं',\n",
              " 'गेंदा फूल की वैज्ञानिक खेतीभूमिकागेंदा के औषधीय गुणभूमि की तैयारीव्यवसायिक किस्मेंखाद एवं उर्वरकप्रसारणरोपाईसिंचाईपिंचिगनिकाई-गुडाईफूल की तोड़ाईफूलों की पैकिंगकीड़ेबीमारीभूमिका',\n",
              " 'कई अलग-अलग खाद्य पदार्थ हैं जो इन लक्षणों को ट्रिगर कर सकते हैं जैसे शराब पुदीना खट्टे फल या रस और टमाटर',\n",
              " 'वे दफन भूखंडों पर जमीन पर सपाट रहते हैं जबकि सिर पत्थर उठाए जाते हैं और आमतौर पर पत्थर से बने होते हैं जिनमें धातु शामिल हो सकता है',\n",
              " 'यह कई चिकित्सा पेशेवरों द्वारा माना जाता है कि शराब की लत को दूर करने के कई प्रयास लक्षणों को हर बार अधिक गंभीर हो जाते हैं',\n",
              " 'इस क्षेत्र में बहुत ही कम वर्षा होती है और वह भी मुख्यत बर्फ के रूप में होती है',\n",
              " 'उदाहरण के लिए कई रोगी अपनी उपस्थिति में सुधार करना चाहते हैं',\n",
              " 'बजट प्रक्रिया पर प्रतिबंध लगाने से यह सुनिश्चित करने में मदद मिल सकती है कि कोई भी कचरा बजट में प्रवेश न करे',\n",
              " 'रजोनिवृत्ति के कारण महिलाओं को तनाव चिंता चिड़चिड़ापन कम स्मरणशक्ति और बैचेनी जैसे मानिसक परेशानी से गुजरना पड़ता हैं',\n",
              " 'परिपक्वता तिथि से तात्पर्य उस तिथि से है जिस पर ऋण दायित्व या बांड जारी करने वाले को ऋण की मूल राशि का भुगतान करना चाहिए जिन्होंने इसे खरीदा है',\n",
              " 'बीज प्रति पौधा प्राप्त होता है',\n",
              " 'कुछ विशेषज्ञों का मानना है कि जो लोग इसे किशोर के रूप में करना शुरू करते हैं वे संभवतः किसी तरह से तनाव से प्रेरित होते हैं',\n",
              " 'आपके खाते में मौजूद धन आपको ऋण के माध्यम से अपने आप से अधिक स्टॉक खरीदने के लिए उत्तोलन देता है',\n",
              " 'इस स्प्रेयर के प्रेशर चेम्बर में 14-18 कि ग्रा वर्ग से',\n",
              " 'इस प्रकार के मत्स्यपालन में न तो जलक्षेत्र में कोई अलग से खाद डालने की आवश्यकता पड़ती है और न ही पूरक आहार देने की',\n",
              " 'आमतौर पर प्रायोजक के पास इस प्रकार के खरीदेंआउट्स के साथ पूर्व अनुभव होता है जो समय के साथ विकसित विशेषज्ञता पर आकर्षित करना संभव बनाता है जिसमें एक व्यवसाय के स्वामित्व के परिणामस्वरूप विकसित किए गए कौशल भी शामिल हैं',\n",
              " 'इसके अलावे प्राइवेअ कम्पनी के बीज भी बाजार में उपलब्ध हैं',\n",
              " 'स्कर्वी रोग है जो आहार में विटामिन सी या एस्कॉर्बिक एसिड की अपर्याप्त मात्रा के कारण होता है',\n",
              " 'उचित एवं सुरक्षित भंडारण के लिए निम्न उपाय अपनाने की संस्तुति की जाती है',\n",
              " 'इस कारण इन्हें भारत का स्वर्णिम त्रिभुज इंडियन गोल्डन ट्रायंगल कहते हैं',\n",
              " 'नाखून बिस्तर में जो कोशिकाएं होती हैं वे केराटिन का उत्पादन करती हैं जो परतों में बनती हैं और कठोर नाखून प्लेटों में विकसित होती हैं जो हमारे पैर की उंगलियों और उंगलियों पर होती हैं',\n",
              " 'सेल्युलाइटिस का दूसरा प्रमुख कारण स्टैफिलोकोकस बैक्टीरिया है जिसे स्टैफ के रूप में जाना जाता है',\n",
              " 'इससे राशन का घनत्व बढ़ जाएगा यहाँ पर एक बात और बताने योग्य है अलग-अलग प्रकृति के खाद्य पदार्थ पचने के दौरान अलग-अलग मात्रा में गर्मी उत्पन्न करते हैं जिसे ताप वृद्धि कहते हैं',\n",
              " 'हालांकि असुरक्षित व्यक्तिगत ऋण के साथ ऐसी कोई सुरक्षा नहीं है',\n",
              " 'आलिंद के बीच इस छेद को बंद करना सबसे अधिक बार कार्डियक कैथीटेराइजेशन सुविधा में किया जाता है',\n",
              " 'यह आवयशक नहीं है हर समुदाय में ये सभी स्तर उपस्थित हों',\n",
              " 'खिलौना उद्योग से जुड़ी प्रमुख बातें',\n",
              " 'फागोसाइट्स या मैक्रोफेज प्रतिरक्षा जटिल अणुओं का उपभोग और पाचन करते हैं',\n",
              " 'जैसे ही एस्ट्रोजेन उत्पादन में गिरावट आती है योनि में ऊतक शुष्क पतले और सिकुड़े हुए हो जाते हैं',\n",
              " 'म प्र में मूंगफली प्रमुख रूप से शिवपुरी छिंदवाड़ा बड़वानी टीकमगढ झाबुआ खरगोन जिलों में लगभग 220 हजार हैक्टेयरक्षेत्रफल में होती है',\n",
              " 'इसके विपरीत एक छोटी स्थिति के लिए उलट बिंदु आमतौर पर ट्रेडिंग अवधि के दौरान प्राप्त की जाने वाली उच्चतम कीमत है',\n",
              " 'यह परीक्षण आमतौर पर यह निर्धारित करने के लिए किया जाता है कि क्या कुछ प्रकार की बीमारी मौजूद है यदि कोई मरीज एक निश्चित स्थिति के लिए वाहक है और हीमोग्लोबिन विकारों के लिए उपचार की प्रभावशीलता का मूल्यांकन करने के लिए',\n",
              " 'इन चीज़ों को बचाकर रखने के लिए सुखाना नमक लगाकर रखना और चीनी का इस्तेमाल आदि तरीके हैं',\n",
              " 'यह विभिन्न प्रकार के जीवाणुओं के कारण भी हो सकता है जो एक ऐसी बीमारी है जो बच्चों को तब होती है जब वे दूसरों के साथ अक्सर मिलते हैं',\n",
              " 'मांसपेशियों और प्रावरणी को भी दर्द को छोड़ने और उचित मस्कुलोस्केलेटल संरेखण को प्रोत्साहित करने के लिए हेरफेर किया जाएगा',\n",
              " 'नतीजतन यह एक व्यक्ति के लिए एक मुखर व्यक्तित्व के लिए मददगार होता है जिसके पास ऐसे ग्राहक होते हैं जिनके पास अनुचित शुल्क हैं',\n",
              " 'महिलाओं को उनके द्वारा किये जाने वाले कार्यों से उत्पन्न स्वास्थ्य खतरों का प्रतिदिन सामना करना पड़ता है',\n",
              " 'कुछ पाठ्यक्रम केवल कुछ घंटे लंबे होते हैं जबकि अन्य कई हफ्तों या महीनों की श्रृंखला में आयोजित किए जाते हैं',\n",
              " 'भारतीय मसाला फसल अनुसंधान संस्थान कोझीकोड केरल',\n",
              " 'उत्पाद दायित्व के मामले धारक की कोई वास्तविक गलती के माध्यम से उत्पन्न हो सकते हैं क्योंकि वह सख्त दायित्व के लिए आयोजित किया जाएगा',\n",
              " '700-900 मिमी वर्षा वाले क्षेत्रों में उड़द को सफलता पूर्वक उगाया जाता है',\n",
              " 'यह प्रत्येक वर्ग या तरह की पूंजी के लिए अलग से कहा गया है यानी वरीयता शेयर के लिए अधिकतम सीमा और इक्विटी शेयर के लिए अधिकतम सीमा अपनी शेयर पूंजी जारी करने के लिए',\n",
              " 'टर्की के माँस का पतला होने के कारण लोग इसे काफी पसंद करते हैं',\n",
              " 'इस बोर्ड में निम्न शामिल होंगे',\n",
              " 'जिससे मुख्य तने का उचित विकास हो सके',\n",
              " 'रक्त में ग्लूकोस के स्तर लक्षण तथा दवा के आधार पर ही आहार का आयोजन करना होता है',\n",
              " 'क्रय पक्ष पर कई पार्टियां हैं जिनके पास शीर्षक में हिस्सेदारी है जिसमें खरीदार ऋणदाता और शीर्षक बीमा कंपनी शामिल हैं',\n",
              " 'चाहे कोई संपूर्ण नवीकरणीय ऊर्जा विद्युत उत्पादन संयंत्र या पवन टरबाइन निर्माण सुविधा जैसे एक छोटे व्यवसाय की योजना बना रहा हो लेकिन लागत अभी भी सभी कंपनियों और व्यक्तियों के सबसे अमीर से निषेधात्मक होने वाली है',\n",
              " 'बेटर्स प्रसार पर सट्टेबाजी के अलावा द्विआधारी दांव भी लगा सकते हैं',\n",
              " 'अस्थायी रूप से 50 तक वीर्य में मौजूद शुक्राणु की मात्रा को कम करने के लिए मारिजुआना और कोकीन दोनों अलग-अलग वैज्ञानिक अध्ययनों में साबित हुए हैं',\n",
              " 'पाईप या फूटबाल्व पूरी तरह से गन्दगी',\n",
              " 'यदि कंपनी का अंतिम लक्ष्य अपने लाभ मार्जिन को अधिकतम करना है तो अपने उत्पादों का उत्पादन करने का सबसे सस्ता तरीका समझ में आता है',\n",
              " 'यह लेखा प्रणाली प्राप्य खातों पर भी निर्भर करती है और देय खातों पर निर्भर करती है जो विक्रेताओं और ग्राहकों से ऋण का विस्तार करके बिक्री और संग्रह का प्रतिनिधित्व करते हैं',\n",
              " 'एक अन्य विकल्प कॉर्नियल रिंग है जिसमें प्लास्टिक के छल्ले को उसके आकार को बदलने के लिए आंख में प्रत्यारोपित किया जाता है',\n",
              " 'खरपतवार के विकास को नियंत्रित करें गीली फिल्म',\n",
              " 'एक वित्तीय शब्द के रूप में दोहरी ट्रेडिंग आमतौर पर उन व्यक्तियों के कार्यों को संदर्भित करती है जो स्टॉक एक्सचेंज या इसी तरह के बाजार से जुड़े होते हैं',\n",
              " 'एक व्यक्ति के लिए दिवालियापन संरक्षण में अधिकांश ऋणों को रद्द करना शामिल हो सकता है साथ ही उनकी कुछ संपत्तियों की बिक्री बंद हो सकती है या उन ऋणों का भुगतान करने के लिए एक संरचित योजना है जो बकाया हैं',\n",
              " 'यदि कोई ऐसे एटीएम का उपयोग करता है जो एक बैंक द्वारा प्रदान किया जाता है जिसके साथ उसका कोई खाता नहीं है तो अक्सर लेनदेन में शुल्क जोड़ा जाता है',\n",
              " 'स्क्लेरोडर्मा शरीर के संयोजी ऊतक का एक स्वप्रतिरक्षी रोग जिसके परिणामस्वरूप जोड़ों में दर्द मांसपेशियों में कमजोरी और त्वचा को चमकदार तंग दिखता है',\n",
              " 'मध्यम लक्षणों वाले रोगियों में उच्च रक्तचाप का पता लगाया जा सकता है',\n",
              " 'ज्यादातर मामलों में यह सुनिश्चित करने के लिए कि यह लेन-देन सुचारू रूप से चल रहा है यह ब्रोकर के साथ-साथ अपने ब्रोकर के हित में है',\n",
              " 'संयुक्त राज्य अमेरिका के रूप में कुछ स्थानों में एक गंभीर रूप से अपराधी ऋण एक क्रेडिट रिपोर्ट पर दो बार रिपोर्ट किया जा सकता है एक बार मूल लेनदार द्वारा और एक बार संग्रह एजेंसी द्वारा',\n",
              " 'न्यूयॉर्क स्टॉक एक्सचेंज में क्लोजिंग बेल को एक बड़ा सम्मान माना जाता है और किसी राजनेता या अन्य उल्लेखनीय व्यक्ति को प्रतीकात्मक रूप से व्यापारिक दिन को बंद करते देखना असामान्य नहीं है',\n",
              " 'ज्यादा तापक्रम कम समय वाली विधि',\n",
              " 'एनेस्थीसिया के कई खतरे हैं लेकिन महत्वपूर्ण लाभों से जोखिम अक्सर कम हो जाते हैं',\n",
              " 'यदि कान नहीं निकल सकता है तो तरल पदार्थ का निर्माण होता है जिससे कान के भीतर सूजन और अंततः संक्रमण हो सकता है',\n",
              " 'इसका मतलब है कि कई वैकल्पिक ऊर्जा अवधारणाएं अभी भी अनुसंधान चरण में हैं क्योंकि वैज्ञानिक अधिक प्रभावी और कुशल उत्पादों को विकसित करने का प्रयास करते हैं',\n",
              " 'इस स्थिति का एक शांत विवरण अक्सर दर्द की दवा की उच्च खुराक पर उन लोगों के लिए सहायक होता है इसलिए ऐसे लक्षण पूरी तरह से अप्रत्याशित नहीं हैं',\n",
              " 'अनिवार्य रूप से यह प्रारूप समूह के प्रत्येक सदस्य द्वारा प्रदान किए गए संसाधनों की मात्रा के लिए उद्यम से जुड़े दायित्व को सीमित करने में मदद करता है',\n",
              " 'उदाहरण के लिए यदि निर्देशक के पास बहुत अधिक अनुभव है और उसने ऐसी अन्य फ़िल्में बनाई हैं जिन्हें कोई पसंद करता है तो वह संकेत दे सकता है कि फ़िल्म एक अच्छा निवेश है',\n",
              " 'सघन वायुमंडल पर ज्वारीय प्रभाव और ग्रहीय उद्विग्नता द्वारा प्रेरित अस्तव्यस्त घूर्णन बदलाव के कारण वह वहां से अपनी वर्तमान स्थिति तक पहुंचा है',\n",
              " 'ट्रेजरी स्टॉक भी कर्मचारी स्टॉक विकल्प योजनाओं में उपयोग के लिए एक प्रोत्साहन प्रदान करके निगम को लाभान्वित कर सकता है',\n",
              " 'श्री जगदीप सिंह पशुओं के लिए आवास व्यवस्था है साथ ही पशुओं को काफी खुला स्थान भी दिया गया जहाँ पशु समय-समय पर आराम कर सकें',\n",
              " 'विभिन्न स्त्रियों में अपने स्वास्थ्य के परिवर्तनों से निपटने की विभिन्न क्षमताएं होती हैं',\n",
              " 'चिकुनगुनिया याने झुका हुआ आदमी',\n",
              " 'सामान्यतया बैक्टीरिया अन्य जीवित जीवों से भिन्न होते हैं वे एकल कोशिका वाले होते हैं और उनमें माइटोकॉन्ड्रिया और क्लोरोप्लास्ट की कमी होती है',\n",
              " 'ओवर-द-काउंटर एनाल्जेसिक अस्थायी दर्द से राहत देते हैं',\n",
              " 'डाई गर्भाशय में होने के बाद यह फैलोपियन ट्यूब में जाती है',\n",
              " 'ग्रामीण इलाकों क्षेत्र सूखी फांकों को ही बेच दिया जाता है जिससे अधिक लाभ नहीं मिलता',\n",
              " 'इसलिए यह कितना प्रतिरोध पेश किया जाता है यह माप कर शरीर में वसा का सटीक माप प्रदान कर सकता है',\n",
              " 'व्यवसायी प्रारंभिक पाठ का अध्ययन करता है कि सभी दैनिक और बड़े पैमाने पर सतही विचार मन के भीतर चेतना के एक गहरे स्रोत से आते हैं',\n",
              " 'अधिकांश बिजनेस स्कूल स्नातक शब्द विपणन मिश्रण से परिचित हैं',\n",
              " 'लेखाकार नवीनतम मानकों और नीतिगत परिवर्तनों के साथ रहते हैं ताकि वे अपने ग्राहकों को यथासंभव प्रभावी तरीके से सेवा दे सकें',\n",
              " 'शारीरिक शिथिलता दूर करने में बलवर्धक दवाओं टॉनिक मधुमेह गठिया प्रसवोपरांत होने वाली बीमारियों में उत्तेजक के रूप में प्रसवोपरांत माताओं का दूध बढ़ाने में',\n",
              " 'ऑस्ट्रेलिया चीन और अमेरिका जैसे देशों से दुनिया भर से सभी डेटा एकत्र किए गए हैं जिससे फ्लिन इफेक्ट को वैश्विक रूप से प्रभावित किया गया है',\n",
              " 'प्राकृतिक एस्ट्रोजेन रिप्लेसमेंट थेरेपी एक नया विकल्प है जिसे कई महिलाएं और चिकित्सक शरीर पर सुरक्षित और सौम्य मानते हैं',\n",
              " 'फिर झटसे उठा सिर अपना तानता हूं सीना नहीं सिसकेंगे और अब नहीं है होंठ सीना',\n",
              " 'वे बैंक से क्रेडिट मांगने के लिए संपर्क करते हैं जिसका उपयोग विदेशों में होने वाले लेनदेन के लिए किया जा सकता है',\n",
              " 'स्थिति आमतौर पर तीव्र होती है जिसका अर्थ है कि यह केवल कुछ हफ्तों तक चलेगा',\n",
              " 'लोगों को विभिन्न नस्लों का प्रतिनिधित्व करने वाले चेहरों की तस्वीरों के साथ प्रस्तुत किया जाता है और उन चेहरों के साथ मिलान करने के लिए उनके पास विशेषताओं की एक सूची होती है',\n",
              " 'अन्य क्षेत्रों के लिए लिपोमा आमतौर पर केवल तभी हटाए जाते हैं यदि वे असामान्य रूप से बड़े दर्दनाक या प्रतिबंधित आंदोलन होते हैं',\n",
              " 'हालांकि थर्मल रसीदें अभी भी अन्य प्रकार की प्राप्तियों की तुलना में अधिक कुशल हैं',\n",
              " 'वहां से उत्पादन की मात्रा की पहचान करना जो कि खर्च के उन स्तरों पर प्राप्त होती है भविष्य की अवधि के लिए लागत फ़ंक्शन अनुमान के साथ आना संभव बना सकती है',\n",
              " 'नीदरलैंड में दुनिया के कुछ सबसे बड़े ग्रीनहाउस हैं',\n",
              " 'नतीजतन निवेशकों को आमतौर पर संभावित बड़े नुकसान से खुद को बचाने के लिए सावधानी बरतनी चाहिए',\n",
              " 'ये स्थितियां अक्सर आनुवंशिक होती हैं जिसमें अनुचित रूप से कोडित प्रोटीन शामिल होता है लेकिन उन्हें अधिग्रहित भी किया जा सकता है',\n",
              " 'स्वस्थ नाखून बेड पूरे नाखून को सहज और सुचारू रखने में मदद करते हैं जिसके परिणामस्वरूप नाखून दिखने में अच्छा होता है और उंगलियों में सनसनी और निपुणता में सुधार होता है',\n",
              " 'लातेहार जिले की मिट्टी का स्वास्थ्यभूमिकामृदा पी एच जैविक कार्बनउपलब्ध नेत्रजनउपलब्ध स्फूर उपलब्ध पोटाशउपलब्ध सल्फरलातेहार जिले की भूमि में सूक्ष्म पोषक तत्वों की स्थिति',\n",
              " 'आगामी फसल हेतु मूसली के बीज का संग्रहण कैसे किया जाए',\n",
              " 'अन्य मामलों में गहने निर्मित क्रिस्टल से बने होते हैं',\n",
              " 'कंपनी की निवेश क्षमता का निर्धारण करने के लिए नकद ईपीएस शायद सबसे अच्छी गणना है क्योंकि इसकी गणना कंपनी के परिचालन नकदी प्रवाह को पतला शेयरों के साथ विभाजित करके की जाती है जिसमें बाजार में उपलब्ध स्टॉक के अलावा इन्वेंट्री जैसी परिसंपत्तियां शामिल होती हैं',\n",
              " 'दुर्भाग्य से यह गुण भी है जो इस पदार्थ को जानबूझकर दुरुपयोग किया जाता है',\n",
              " 'एक व्यक्ति के शंकु का 40 मध्यम तरंग दैर्ध्य प्रकाश के प्रति संवेदनशील हो सकता है जबकि किसी और के पास केवल उस संख्या का आधा हिस्सा हो सकता है लेकिन दोनों लोग एक ही तरह से रंग का अनुभव करेंगे जो दृढ़ता से सुझाव देता है कि रंग धारणा के प्रमुख पहलू मस्तिष्क में होते हैं आंख नहीं',\n",
              " 'हेज फंड सुरक्षित लोगों के साथ उच्च जोखिम निवेश हेजिंग द्वारा जोखिम को कम करते हैं',\n",
              " 'एयरोपोनिक प्रणाली का मुख्य लाभ यह है कि पौधों की जड़ें ऑक्सीजनकृत होती हैं जिससे मेटाबोलिज्म और विकास दर बढ़ जाती है',\n",
              " 'माइट्रल स्टेनोसिस की तरह फुफ्फुसीय स्टेनोसिस एक दिल क्लिक करता है जब फुफ्फुसीय वाल्व पूरी तरह से नहीं खुलता है',\n",
              " 'प्रोप डेस्क पर ट्रेडर्स स्टॉक बॉन्ड कमोडिटी या क्षेत्रीय मुद्राओं सहित परिसंपत्ति वर्गों के एक मेजबान में सक्रिय हो सकते हैं',\n",
              " 'केला के लिए समेकित कीट प्रबन्धन मुख्य क्षतिकारकराष्ट्रीय महत्व के क्षतिकारकक्षेत्रीय/कम महव के क्षतिकारकराष्ट्रीय एवं क्षेत्रीय महत्व की व्याधियांकीट अनुश्रवणसमेकित कीट प्रबन्धन रणनीतियांकृषीय प्रक्रियायांत्रिक प्रबन्धन प्रक्रियारसायनिक नियंत्रण केला धड़ विभिलसूत्रकृमि प्रबन्धनरोग-व्याधि प्रबन्धनखरपतवार नियंत्रणकेला की फसल के लिए चरणबद्ध समेकित कीट प्रबन्धन प्रक्रियाकीटनाशक प्रयोग में सुरक्षा की सीमाएंकीटनाशक उपयोग के लिए मौलिक सावधानियाँकीटनाशक क्रयभण्डारणहस्तलनछिड़काव हेतु घोल निर्माण में सावधानियाँउपकरणकीटनाशक छिड़काव हेतु सावधानियाँनिपटान',\n",
              " 'निवेशक उम्मीद में शेयरों की राशि के लिए निर्दिष्ट मूल्य का भुगतान करते हैं कि समय के साथ मूल्य बढ़ जाएगा',\n",
              " 'यदि व्यक्ति चिकित्सा सहायता नहीं चाहता है और उसके पास आत्मघाती विचार है या दूसरों के लिए खतरा है तो प्रियजनों को आपातकालीन स्वास्थ्य सेवा नेटवर्क को कॉल करना चाहिए और व्यक्ति को अनपेक्षित रूप से प्रतिबद्ध होने पर विचार करना चाहिए',\n",
              " 'इस स्थिति में नीम के प्रमुख गुणकारी तत्व अजाडीरेक्टन की मात्रा सर्वाधिक होती है',\n",
              " 'इसके अन्तर्गत मनुष्य या किसी अन्य प्राणी/पादप के शरीर में मौजूद भिन्न-भिन्न अंगों एवं तन्त्रों के कार्यों और उन कार्यों के होने के कारणों के साथ-साथ उनसे सम्बन्धित चिकित्सा विज्ञान के नियमों का भी ज्ञान दिया जाता है',\n",
              " 'इस प्रकार के कृषि के बड़े बागान गरीब देशों में पाए जाते हैं',\n",
              " 'जब अनुपात अधिक होता है तो यह इंगित करता है कि नगरपालिका बांडों के लिए बाजार मजबूत है और अंडरराइटरों के बीच बहुत रुचि है',\n",
              " 'उनमें से रोगजनक कवक या रोगजनकों के कारण होने वाले रोग प्रबंधन के लिए चुनौतीपूर्ण कार्य बने हुए हैं',\n",
              " 'बुआई के ठीक पहले फफूंदनाशक दवा से उपचारित बीज को उचित राइजोबियम कल्चर एवं पी एस बी से उपचारित कर बुआई करनी चाहिए',\n",
              " 'दुनिया भर में नकद मनीऑर्डर चेक डेबिट कार्ड क्रेडिट कार्ड वायर ट्रांसफर और क्रेडिट की लाइनें भुगतान के सभी तरीके हैं',\n",
              " 'कार्यक्रमों में धर्मशाला निवासियों घर की स्वास्थ्य एजेंसियों की जानकारी और सहायता प्राप्त रहने वाले और नर्सिंग होम के लिए उपभोक्ता वकालत कार्यक्रम शामिल हो सकते हैं',\n",
              " 'जरूरी नहीं कि यह एक या दो साल की लीज व्यवस्था के साथ हो इसमें हमेशा यह मौका होता है कि संपत्ति किरायेदारों के बीच खाली हो जाए',\n",
              " 'यह हाथ में सुन्नता या झुनझुनी सनसनी का कारण बनता है आमतौर पर तर्जनी मध्यमा और अंगूठे में बाद में पकड़ की ताकत और हाथ में समग्र कमजोरी के साथ',\n",
              " 'उदाहरण के लिए एक पारंपरिक बैंक ऋण में अक्सर कंपनियों को एक सख्त पुनर्भुगतान अनुसूची का पालन करना पड़ता है जिसमें ऋण के सिद्धांत और निश्चित अंतराल में ब्याज पर भुगतान करना शामिल होता है',\n",
              " 'जिससे अरहर में कीट प्रबंधन के लिए किसानों की योग्यता विश्वास एवं निर्णय लेने की क्षमता बढ़ रही है',\n",
              " 'ये फंड कंपनियां पारंपरिक उधारदाताओं की तुलना में अधिक ब्याज दर चार्ज करके शामिल जोखिमों को कम करती हैं',\n",
              " 'अन्य मामलों में संगठन विभिन्न कॉफी मिश्रणों की एक विस्तृत विविधता का विपणन करते हैं',\n",
              " 'यदि कर्नल का आकार बढ़ा हो तो बीज दर 7 से 10 कि ग्रा हे बढ़ा देनी चाहिए',\n",
              " 'इस प्रकृति के ऋण इक्विटी स्वैप कर्ज में डूबे देशों को बचाने के लिए बहुत ही सामान्य उपकरण हैं',\n",
              " 'हल्की जमीन में चूहों का अधिक प्रकोप होता है',\n",
              " 'यद्यपि प्रत्येक बैंक अपने अनूठे फॉर्मूले का उपयोग करके दर निर्धारित कर सकता है लेकिन बैंक संयुक्त राज्य अमेरिका ट्रेजरी बिल ब्याज दर के साथ आय भत्ते की दर को जोड़ता है',\n",
              " 'अक्सर दिए गए स्टॉक का अनियमित प्रदर्शन बाज़ार में कुछ बदलावों को दूर करता है जो जल्द ही व्यापक हो सकते हैं',\n",
              " 'सरकार द्वारा जारी किए गए चित्र पहचान पत्र भी ऐसे रूप हैं जो बैंक और चेक कैशिंग संस्थान स्वीकार करते हैं',\n",
              " 'उदाहरण के लिए इन्फ्लुएंजा एक सामान्य वायरल संक्रमण है जो मुख्य रूप से नाक गले और फेफड़ों को प्रभावित करता है और कई प्रकार के लक्षण पैदा कर सकता है जिसमें खांसी सिरदर्द शरीर में दर्द गले में खराश मतली और उल्टी और ऊर्जा की कमी शामिल है',\n",
              " 'प्रोलैप्स की गंभीरता के आधार पर उपचार के कई दृष्टिकोण हैं',\n",
              " 'गुर्दो में इकट्ठा होने वाला द्रव पेशाब होता है',\n",
              " 'ऐसा करने में विफलता किसी वित्तीय दुःस्वप्न में सुरक्षा-आधारित हस्तांतरण बनाने में यह प्रयास कर सकती है क्योंकि किसी दिए गए देश में परिसंपत्तियों को स्थानांतरित करना बाद की तारीख में उन्हें स्थानांतरित करने की तुलना में बहुत आसान हो सकता है',\n",
              " 'लेटेक्स को केंद्रित लेटेक्स में चीनी मिट्टी के बरतन या सफेद जिप्सम मोल्ड्स डालकर रबर के दस्ताने जैसे आइटम बनाने के लिए ढाला जा सकता है',\n",
              " 'मधुमेह योनिशोथ में योगदान कर सकता है खासकर जब रक्त शर्करा का स्तर खराब रूप से नियंत्रित होता है',\n",
              " 'स्टाम्प पेंडीगोल्ड पेंडीलीन धानुटाप पेनिडा पेंडीहर्ब',\n",
              " 'उपभोक्ता संयुक्त राज्य में फेडरल डिपॉज़िट इंश्योरेंस कॉरपोरेशन जैसे बीमा संगठनों के साथ यह निर्धारित करने के लिए जांच कर सकते हैं कि क्या उनके बैंक सूचीबद्ध हैं और अच्छी स्थिति में हैं',\n",
              " 'इससे मुर्गियां अपनी कलगी गीली कर लेती हैं जिससे पूरे शरीर का तापमान नियंत्रित रहता है',\n",
              " 'रॉकी माउंटेन स्पॉटेड फीवर को इस दाने द्वारा आसानी से पहचाना जाता है',\n",
              " 'बकरी पालन व्यवसाय से लाभ कमाने के लिए बकरियों में पोषण स्वास्थ्य एवं पज्रनन पर विशेष ध्यान देने की आवश्यकता है',\n",
              " 'सभी उपचार धीरे-धीरे परिणाम देते हैं',\n",
              " 'एक खतरनाक बीमा योजना से जुड़े वास्तविक नियमों और शर्तों का मूल्यांकन करना बहुत महत्वपूर्ण है क्योंकि हर योजना खतरों या आपदाओं की एक विस्तृत श्रृंखला को कवर नहीं करेगी',\n",
              " 'जबकि गर्भवती महिलाओं में टखने की सूजन आम है आमतौर पर दोनों टखनों में सूजन होती है',\n",
              " 'बुनियादी स्वास्थ्य कवरेज के साथ कई योजनाओं में प्रमुख दवा लाभ शामिल होंगे जो लागत को कवर करने में मदद करते हैं एक बीमारी को अस्पताल या अन्य प्रकार की चिकित्सा देखभाल सुविधा में उपचार की आवश्यकता होती है',\n",
              " 'थोड़ा शोध करके आप एक व्यक्तिगत अपतटीय बैंक पा सकते हैं जो आपकी आवश्यकताओं को पूरा करता है',\n",
              " 'कभी-कभी एक सशर्त ट्रस्ट के रूप में जाना जाता है एक प्रोत्साहन ट्रस्ट लाभार्थियों को विशिष्ट लक्ष्यों या गतिविधियों को आगे बढ़ाने के लिए प्रेरित करने के लिए डिज़ाइन किया गया है जो अनुदानकर्ता को उनके सर्वोत्तम हित में माना जाता है',\n",
              " 'भारतीय उपमहाद्वीप में खेती की भूमि के एक चौथाई से अधिक में चावल बोया जाता है',\n",
              " 'अतः यह वांछनीय है कि सक्रिय टीकाकरण के दौरान रोगी को अत्यधिक शराब नहीं पीना चाहिए',\n",
              " 'प्रभावित बेरियां कवक की भूरी गोथ उपस्थिति को दर्शाते हुए सूखी सड़ी और गहरी भूरी हो जाती है',\n",
              " 'सोमवार को चेक जमा करने वाला कोई व्यक्ति गुरुवार को धनराशि देखता है उदाहरण के लिए भले ही बैंक ने वास्तव में चेक को मंजूरी नहीं दी थी',\n",
              " 'कुछ उच्च-जोखिम वाली बीमा योजनाओं में एक कटौती योग्य है जो आपको बीमा क्लेम से पहले भुगतान करने के लिए आवश्यक है',\n",
              " 'ब्लोट की स्थिति कई अलग-अलग कारकों के लिए हो सकती है और सबसे अधिक बार मनुष्यों कैनाइन और मवेशियों द्वारा अनुभव की जाती है हालांकि अन्य जानवर भी समय-समय पर गैस्ट्रिक मरोड़ से गुजर सकते हैं',\n",
              " 'एक अनुपचारित संक्रमण यकृत से अन्य महत्वपूर्ण अंगों विशेष रूप से फेफड़ों और हृदय में फैल सकता है',\n",
              " 'विभागीय कार्यकर्ताओं की तकनीकी सलाह के अनुसार डीएपी कॉम्प्लेक्स पोटाश और जिप्सम के अलावा फार्म यार्ड खाद के रूप में गाय गोबर और भेड़ के गोबर का उपयोग करना',\n",
              " 'कई बार सिज़ोफ्रेनिया के लक्षण सबसे पहले किशोर अवस्था के दौरान या शुरुआती वयस्कता में होते हैं',\n",
              " 'उत्तरार्द्ध के मामले में पूर्ण प्रतिस्थापन बीमा प्राप्त करना हमेशा बेहतर होता है और दुर्घटना में कार चोरी या क्षतिग्रस्त होने की स्थिति में पूरी तरह से सुरक्षित होना चाहिए',\n",
              " 'नर्सरी में कलम करने का कार्य पूरा कर लें',\n",
              " 'सामान्यतः मधुमक्खियां हरियाणा राज्य में एक आंतरिक रूप से विभिन्न कृषि जलवायु वाले मौसम में अलग-अलग मौसमों में सक्रिय रूप से भ्रमण करती हैं',\n",
              " 'कारण यह है कि भूमि-विकास बैंक अनेक समस्या से पीडित हैं',\n",
              " 'वाटिका के 2 कोनों पर कहद के गड्ढे होने चाहिए जिन में से एक तरफ वर्मीकंपोस्ट यूनिट और दूसरी उर कंपोस्ट खाद का गड्ढा हो जिस में घर का कूड़ाकरकट व फसल अवशेष डाल कर खाद तैयार की जा सके',\n",
              " 'अनिवार्य रूप से एक लाभ मॉडल एक रणनीति है जो व्यवसाय ऑपरेटिंग सिस्टम के सभी मुख्य तत्वों को संबोधित करता है जो कंपनी को व्यवहार्य और लाभदायक बनाने में जाते हैं',\n",
              " 'इसके साथ-साथ विभन्न प्रकार के कीटनाशी जो कि सब्जी उत्पादक भारी मात्रा में डालते है उन्हें खाने से हम बच सकते हैं',\n",
              " 'इसके लिए खादी एवं ग्रामोद्योग आयोग/बोर्ड की नजदीकी शाखा से संपर्क किया जा सकता है अथवा खाड़ी एवं ग्रामोद्योग आयोग 3 इरला मार्ग विले पारले मुम्बई – 400058 से नजदीकी खरीद केंद्र के बारे में जानकारी ली जा सकती है',\n",
              " 'यहाँ की मिट्टी में 0.36 से 47.38 मि ग्रा प्रति किलो उपलब्ध सल्फर विद्यमान पाया गया है जिनमें क्षेत्र की 28.1 प्रतिशत भूमि निम्न 38.3 प्रतिशत मध्यम तथा 32.7 प्रतिशत भूमि में उपलब्ध सल्फर का स्तर अधिक पाया गया है',\n",
              " 'महाराष्ट्र में सबसे पहले अंगूर यहीं तैयार होता है',\n",
              " 'यद्यपि एक मूर्ख विधि नहीं है इन मूल्य चार्टों का उपयोग वर्तमान मूल्य आंदोलनों को समझने के लिए अभिन्न अंग है',\n",
              " 'क्राउन रूट निकलते समय कल्ले पूर्ण होने पर बालियाँ निकलते समय तथा दानों में दूध भरते समय',\n",
              " 'आमतौर पर इस राशि के आधार पर प्रति माह प्रीमियम भुगतान किया जाता है कुछ कंपनियां ग्राहकों को प्रति माह ड्राइव या किलोमीटर की दूरी का अनुमान लगाने की अनुमति देती हैं और उस पर प्रीमियम का आधार बनाती हैं जबकि अन्य को कार में एक निगरानी उपकरण की स्थापना की आवश्यकता होगी ताकि वह दूरी को ट्रैक कर सके',\n",
              " 'यदि रिटायर पहले से ही एक छोटे से घर का मालिक है तो उन मासिक किस्त भुगतान से उत्पन्न आय घरेलू और अन्य खर्चों के लिए भुगतान करने के लिए संसाधन प्रदान कर सकती है',\n",
              " 'एनपीडी वाले लोगों में अक्सर उपेक्षित माता-पिता का एक पैटर्न होता है जो बदले में बहुत ध्यान आकर्षित कर सकता है',\n",
              " 'यह संख्या इंगित करती है कि कंपनी ने कैलेंडर वर्ष के दौरान अपने खुले खातों को प्राप्य शेष साढ़े नौ गुना एकत्र किया है',\n",
              " 'दोनों में कुछ समानताएं हैं क्योंकि वे आसानी से हस्तांतरणीय हैं और कभी-कभी छुटकारा पाने में मुश्किल होती है',\n",
              " 'मस्तिष्क शोष के विकास के लिए संभावित जोखिम कारकों में तंबाकू का उपयोग शराब का उपयोग सिर पर चोट और एक आनुवंशिक प्रवृत्ति शामिल है',\n",
              " 'पौधे के विकास के दौरान बीज खाद्य भंडार के रूप में कार्य करते हैं जिसमें स्टार्च और प्रोटीन होते हैं',\n",
              " 'एलोजेनिक बोन मैरो ट्रांसप्लांट या ऑर्गन ट्रांसप्लांट जैसी चीजों के लिए अधिक सटीक मिलान की आवश्यकता हो सकती है',\n",
              " 'किसी भी सतही जल तंत्र का उसके जलविभाजक के अन्दर प्राकृतिक निवेश अवक्षेपण है लेकिन उस तंत्र में किसी भी समय पर जल की कुल मात्रा दूसरे बहुत से घटकों पर निर्भर करती है',\n",
              " 'लेडी बर्ड भृंग को संरक्षण करें',\n",
              " 'शरीर में सोडियम पानी को और खून के दबाव को उचित मात्रा में कायम रखने में सहायक होता है',\n",
              " 'एक अंतिम चरण में यह अनुमान लगाना शामिल है कि बजट अधिशेष का उपयोग घर या कंपनी को कैसे लाभ प्रदान करेगा',\n",
              " 'उससे खर्च समय और खतरा कईं गुना बढ जाता है',\n",
              " 'इन सभी सामग्रियों को निम्न अनूपा में सूखे वजन के अनुसार मिला कर गड्ढों में भरें',\n",
              " 'पीटीआई की खबर के मुताबिक भारत ऐसा करने वाला एशिया में पहला देश होगा और दुनिया में कुछ ही देशों में इसकी इजाजत है',\n",
              " 'भौतिक जाँच के रूप में इलेक्ट्रॉनिक चेक स्कैन की प्रक्रिया करें',\n",
              " 'आरक्षित आवश्यकताओं को पूरा करने और दिन-प्रतिदिन की तरलता की जरूरतों को प्रबंधित करने के लिए बैंक संघीय निधि बाजार में अल्पकालिक गैर-संपार्श्विक ऋण खरीदते और बेचते हैं',\n",
              " 'कसैला बादाम की अपेक्षा खुबानी की गिरी सस्ती होती है और इससे 0.8–1.6 प्रतिशत तक तेल प्राप्त होता है जो कि बादाम से प्राप्त होने वाले तेल की मात्रा से अधिक भी है इसलिए वाणिज्यिक रूप से यह अधिक फायदेमंद है',\n",
              " 'आम तौर पर एक फ्लाइट डेटा प्रोसेसिंग सिस्टम सभी फ्लाइट प्लान से संबंधित डेटा का प्रबंधन करता है जिसमें निम्न या उच्च डिग्री शामिल होती है – एक बार ट्रैक की जानकारी के बीच सहसंबंध स्थापित होता है',\n",
              " 'भले ही एबिन्थे के वास्तविक प्रभाव काफी हद तक अज्ञात हैं चमकती हुई हरी शराब जो कभी गैरकानूनी थी आज भी दुनिया भर में लोकप्रिय है',\n",
              " 'लागू कानूनों के आधार पर इसमें विरासत या जुआ के माध्यम से अर्जित आय भी शामिल हो सकती है जैसे लॉटरी जीत',\n",
              " 'साधारण नुकसान के कई कारण हो सकते हैं जैसे कि एक महत्वपूर्ण चोरी या इन्वेंट्री खराब होना और नगण्य हो जाना',\n",
              " 'इनमें ज्यादातर बच्चे अपने माता – पिता दादा दादी की तुलना में अधिक लम्बे एवं अधिक लम्बे एवं अधिक भार वाले पाये गये',\n",
              " 'यह नस्ल सबसे ऊँची नस्ल मानी जाती है',\n",
              " 'इस राशि को आप तब तक नहीं निकाल सकते हैं जब तक कि व्यापार पूरा न',\n",
              " 'कृषि ऋण प्रदान करने वाले बैंक',\n",
              " 'परिवर्तनीय पसंदीदा स्टॉक के मुद्दे की वास्तविक संरचना में निवेशक को आमतौर पर एक लाभांश प्राप्त होता है जिसे एक बांड मुद्दे के समान तरीके से कॉन्फ़िगर किया जाता है',\n",
              " 'एक व्यक्तिगत बैलेंस शीट आइटम एक संगठन की पूरी वित्तीय तस्वीर को चित्रित नहीं करता है लेकिन संयुक्त यह डेटा यह निर्धारित कर सकता है कि भविष्य में लाभ और बिक्री कैसे प्राप्त की जा सकती है',\n",
              " 'अमेरिकी मूल-निवासियों का उल्लेख करने के लिए प्रयुक्त शब्दावलियाँ विवादास्पद हैं यूएस सेंसस ब्यूरो के सन 1995 के घरेलू साक्षात्कारों के एक समुच्चय के अनुसार अभिव्यक्त प्राथमिकता वाले उत्तरदाताओं में से अनेक ने अपना उल्लेख अमेरिकन इन्डियन्स अथवा इन्डियन्स के रूप में किया',\n",
              " 'अधिकांश कार खर्चों को निवारक रखरखाव मरम्मत और विविध परिचालन खर्चों में वर्गीकृत किया जा सकता है',\n",
              " 'महिलाओं व समाज में गर्भपात के कानूनी होने व समय रहते गर्भपात के निर्णय लेने संबंधी जानकारी की कमी राज्य होने वाले गर्भपात में से काफी संख्या में निजी स्वास्थ्य केन्द्रों द्वारा किए जाते हैं',\n",
              " 'क्रोनिक लिम्फोसाइटिक ल्यूकेमिया के शुरुआती चरण में केवल तीन में से एक रोगी कभी उस बिंदु पर प्रगति करेगा जहां उन्हें उपचार की आवश्यकता होती है और कैंसर की प्रगति को बदलने के लिए शुरुआती उपचार बहुत कम होता है',\n",
              " 'इस प्रकार प्रति हेक्टर प्रतिवर्ष 1 हजार किलोग्राम से डे़ढ़ हजार किलो ग्राम विष्ठा प्राप्त हो जाएगी',\n",
              " 'अकेले शुद्ध आय पर विचार करते समय यह विचार मिलता है कि क्या यह लक्ष्य प्राप्त किया जा रहा है यह पूरी तस्वीर प्रदान नहीं करता है',\n",
              " 'रोग के प्राथमिक लक्षण पत्तियों पर दिखाई देते हैं पत्तियों पर वृत्ताकार लाल भूरे रंग के उभार लिए हुए दाग बनते हैं जिन्हें पस्चूल कहते हैं',\n",
              " 'क्रैनबेरी जूस का सेवन करने से भी सकारात्मक लाभ होता है',\n",
              " 'व्यवसाय की लेखा बही कहां और कितनी अवधि के लिए रखी जानी होती हैं',\n",
              " 'शुक्राणु ओं का योनि में पहूँचना',\n",
              " 'एनवाईएसई जैसे केंद्रीकृत बाजार की तुलना में अधिक लोग वैकल्पिक व्यापारिक प्रणालियों के माध्यम से बाजार तक पहुंच सकते हैं',\n",
              " 'इस स्थिति वाले व्यक्ति को अक्सर एक तरफ दर्द होता है हालांकि कुछ लोग इसे दोनों तरफ अनुभव कर सकते हैं',\n",
              " 'कीमोथेरेपी के मौखिक और अंतःशिरा प्रशासन दोनों दुष्प्रभावों के लिए एक महत्वपूर्ण जोखिम उठाते हैं जिसमें स्पष्ट थकान मतली और उल्टी शामिल हो सकती है',\n",
              " 'अगर छूने से दर्द होता है तो बिस्तर पर नर्म चादर या तकिए लगाएं',\n",
              " 'कई स्वास्थ्य खाद्य और विटामिन स्टोरों में मिश्रित तेल खरीदना संभव है',\n",
              " 'वायुमंडल की गैसें सूर्य की रश्मियों में से अपनी अनुवादी रश्मियों को चुनकर सोख लेती हैं',\n",
              " 'पहले वर्ग में वे गाएँ आती हैं जो दूध तो खूब देती हैं लेकिन उनकी पुंसंतान अकर्मण्य अत कृषि में अनुपयोगी होती है',\n",
              " '1952 में उन्होंने एक प्रयोग किया जिसमें खरगोश की हड्डी में टाइटेनियम इम्प्लांट का इस्तेमाल किया गया',\n",
              " 'यदि सौदा आगे बढ़ता है तो पैसा विक्रेता को जाता है और खरीदार के कुल भुगतान का हिस्सा बनता है',\n",
              " 'अनुसंधान से पता चलता है कि त्वचा की समस्याओं के लिए विरासत में मिली प्रवृत्ति वाले लोग जैसे कि एटोपिक जिल्द की सूजन पोम्फॉलीक्स एक्जिमा से पीड़ित होने का अधिक खतरा है',\n",
              " 'आवश्यकता होने पर धान रोपने के 35 एवं 55 दिनों के बाद मिथाइल डिमेटोन का छिड़काव करना चाहिए',\n",
              " 'यह प्रत्येक शेयर के मूल्य द्वारा प्रत्येक कंपनी के बकाया शेयरों की संख्या को गुणा करके निर्धारित किया जाता है',\n",
              " 'ख सौर ऊर्जा संचालित/विद्युत उर्जा संचालित पशु निवारक बयोअकौस्टिक उपकरण',\n",
              " 'छात्र ऋण को ऊपर बताया गया है और नियमित रूप से सरकारी प्रायोजन ऋण के साथ अंतर मुख्य रूप से पुनर्भुगतान की लंबाई और ब्याज दरों पर लगाया जाता है',\n",
              " 'फाईबर के रूप में कुल उत्पादन का एक तिहाई भाग विश्व बाजार में निर्यात हो रहा है',\n",
              " 'ऐसे मामले में आपको इसे पुनः प्राप्त करने के लिए आम तौर पर अपनी पहचान का प्रमाण या अपने खाते की प्रासंगिक जानकारी के जवाब देने होंगे',\n",
              " 'वास्तविकता से यह टुकड़ी द्विध्रुवी विकार का एक लक्षण भी हो सकता है जिसमें मूड नाटकीय रूप से अवसाद से उन्माद में बदल जाता है लेकिन यह विकार की विशेषता नहीं है क्योंकि यह सिज़ोफ्रेनिया के साथ है',\n",
              " 'प्रसव के समय जिन महिलाओं के हाथ में पैड नहीं होते हैं वे अस्पताल के कर्मचारियों से नमूने के लिए पूछ सकती हैं ताकि जन्म के बाद पहले कुछ दिनों के लिए उन्हें पैड मिलें',\n",
              " 'अतः क्लोनियों के विद्यमान स्टॉक की छंटाई करना सर्वाधिक महत्वपूर्ण हो जाता है ताकि उन क्लोनियों को चुना जा सके जिनसे अधिक शहद उत्पन्न हुआ है ज्यादा छत्ते बने हैं अधिक मधुमक्खी झुण्डों का पालन हुआ है मधुमक्खियों के रोगों तथा शत्रुओं की अपेक्षाकृत कम समस्याएं सामने आई हैं तथा पिछले वर्ष की तुलना में मधुमक्खियों के उड़ जाने की कम घटनाएं हुई हैं',\n",
              " 'जिन व्यक्तियों में पेरोनियल तंत्रिका के साथ समस्या होती है वे अक्सर तंत्रिका शिथिलता नामक चीज से पीड़ित होते हैं जिन्हें परिधीय न्यूरोपैथी भी कहा जाता है',\n",
              " 'इक्विटी निवेशकों को ऋण धारकों और पसंदीदा स्टॉक निवेशकों के पीछे मुआवजे के लिए अंतिम प्राथमिकता मिलती है जिनमें से सभी का भुगतान केवल आपूर्तिकर्ताओं द्वारा नुकसान के लिए प्रतिपूर्ति के बाद किया जाता है',\n",
              " 'एक प्रबंधक को यह मूल्यांकन करने में सक्षम होना चाहिए कि इन विकल्पों में से प्रत्येक तीन महीने एक वर्ष या दो साल में विभाजन की लाभप्रदता को कैसे प्रभावित करता है',\n",
              " 'ऐसे सॉफ्टवेयर पैकेज हैं जो एक विशेषज्ञ को विभिन्न लेनदेन में प्रवेश करने के लिए अलग-अलग स्क्रीन पर फ़्लिप करने के बजाय एक स्क्रीन से प्रविष्टियां पोस्ट करने की अनुमति दे सकते हैं',\n",
              " 'उन्हें खर्च अनुपात या प्रबंधन शुल्क के रूप में लागतों को देखना होगा',\n",
              " 'मछलियों के साथ अन्य विलुप्त होने वाले जल जीवों को भी यहां संरिक्षत रखा जाएगा',\n",
              " 'ऐसी महिलाओं को यह रोग होता है जिनके बहुत बच्चे हुए हैं या प्रसव के समय कठिनाई हुई हो',\n",
              " 'इनमें से कई व्यक्ति जिनके पास पूंजी उपलब्ध है वे विभिन्न प्रकार के जोखिमों से एक पोर्टफोलियो को कैसे ढालें इस बारे में अधिक बात करने के लिए पेशेवर वित्त प्रबंधकों से परामर्श करें',\n",
              " 'वार्षिकी जारीकर्ता दिवालिया हो जाते हैं यदि भुगतान प्राप्त करने वालों को अनुबंध खरीदने के लिए भुगतान करने वाले एन्युइटी क्रेताओं द्वारा दिए गए प्रीमियम से अधिक हो जाते हैं',\n",
              " 'मौलिक सामाजिक तथा बौद्धिक कार्यों में प्रवीणता मित्र मण्डली द्वारा स्वीकृति',\n",
              " 'सौर पवन में सूर्य के वायुमंडल से बहती गैस होती है',\n",
              " 'खर्च के मुकाबले वसूली होगी महज दोगुनी',\n",
              " 'केंचुओं की कुछ प्रजातियां भोजन के रूप में प्रायः अपघटनषील व्यर्थ कार्बनिक पदार्थों का ही उपयोग करती हैं',\n",
              " 'संपूर्ण विश्व में बढ़ती हुई जनसंख्या एक गंभीर समस्या है बढ़ती हुई जनसंख्या के साथ भोजन की आपूर्ति के लिए मानव द्वारा खाद्य उत्पादन की होड़ में अधिक से अधिक उत्पादन प्राप्त करने के लिए तरह-तरह की रासायनिक खादों जहरीले कीटनाशकों का उपयोग प्रकृति के जैविक और अजैविक पदार्थो के बीच आदान-प्रदान के चक्र को प्रभावित करता है जिससे भूमि की उर्वरा शक्ति खराब हो जाती है साथ ही वातावरण प्रदूषित होता है तथा मनुष्य के स्वास्थ्य में गिरावट आती है',\n",
              " 'ऐसे के स्वास्थ्य में गिरावट जल्दी-जल्दी पानी पीना खुराक कम होना पशुओं की वाहक क्षमता में कमी श्वसन दर में वृद्धि इत्यादि असर देखे जा सकते हैं',\n",
              " 'इस विधि में ८०-८५ प्रतिशत सफलता मिलती है',\n",
              " 'रु 75 प्रति प्रशिक्षणार्थी दिवस की दर से कार्यान्वयन करने वाले अभिकरण को सहायता',\n",
              " 'सेरेब्रल लक्षणों में चक्कर आना पतला भाषण खाली-बाहरी और सिंकोप शामिल हैं',\n",
              " 'व्यक्ति को अन्धेरे शांत जगह में लिटा दें',\n",
              " 'कार्बोहाइड्रेट के अभाव की भांति ही ऊर्जा आवश्यकताओं की तब तक संपूर्ति नहीं होगी जब तक आहार में वसा पदार्थों की कमीहै',\n",
              " 'अधिकांश निर्माण बीमा नीतियां युद्ध या बड़े पैमाने पर प्राकृतिक आपदाओं जैसे भूकंप और बाढ़ से होने वाले नुकसानों को कवर नहीं करती हैं',\n",
              " 'अधिकांश माउथ स्वैब परीक्षण उसी तरह से काम करते हैं जिसमें केवल अंतर होता है जो ड्रग्स का पता लगाता है और परीक्षक परिणाम कैसे प्राप्त करता है',\n",
              " 'लीन फिश को छ महीनों तक तथा वसायुक्त मछली को 3 महीने तक फ्रीजर में रखा जा सकता है',\n",
              " 'इन-हाउस मालिश व्यवसाय के लिए एक हल्के पोर्टेबल टेबल आमतौर पर सबसे अच्छा विकल्प होता है जबकि सार्वजनिक मालिश व्यवसाय के लिए जैसे कि हवाई अड्डों में पाए जाने वाले एक आरामदायक कुर्सी सबसे अच्छा विकल्प है',\n",
              " 'उन कारकों में से एक को उस दर के साथ करना होगा जिस पर स्टॉक पिछले दिन बंद हुआ था',\n",
              " 'क्षेत्र की अधिकाधिक भूमि में उपलब्ध नेत्रजन का स्तर मध्यम तथा 8.6 प्रतिशत भूमि में निम्न पाई गई है',\n",
              " 'निवेशक स्वामित्व या लेनदार का दर्जा प्राप्त नहीं करता है',\n",
              " 'संक्रामक रोग से लड़ने में न्यूट्रोफिल विशेष रूप से आवश्यक हैं और सभी श्वेत रक्त कोशिकाओं में से रक्तप्रवाह में सबसे भरपूर हैं',\n",
              " 'निगम को स्थापित हुए लगभग 67 वर्ष हो गए हैं और इस कल में निगम ने निरन्तर प्रगति की है',\n",
              " 'मछलियों के लैंडिंग केंद्र को स्वच्छ और कीटाणुरहित करने हेतु नियमित अंतराल पर ब्लीचिंग पाउडर सोडियम हाइपोक्लोराइट या अन्य किसी प्रक्षालक के साथ साफ किया जा सकता है',\n",
              " 'प्रकाश की अनुपस्थिति आमतौर पर आंख में किसी प्रकार के रक्तस्राव या रक्तस्राव के कारण होती है लेकिन आंख में किसी बड़ी विदेशी वस्तु के कारण भी हो सकती है जो प्रकाश संचरण को रोकती है',\n",
              " 'बढ़ोत्तरी ऊतक निर्माण अंडा एवं मांस उत्पादन',\n",
              " 'आधुनिक अनाज व्यापार को वैश्वीकरण विकसित करने की विशेषता है जिसमें खेतों का आकार बढ़ रहा है और अंतरराष्ट्रीय स्तर पर अनाज का परिवहन और निर्यात बढ़ रहा है',\n",
              " 'जुकाम खॉंसी टॉन्सिल या कंठशालूक का शोथ गला खराब होना वायुविविर शोथ श्वसनिका शोथ निमोनिया तपेदिक क़मि परजीवी से होने वाली खॉंसी दमा',\n",
              " 'कुछ स्थानों पर आपको बैंक के साथ एस्क्रो अधिकारी रखने की आवश्यकता होती है लेकिन अन्य स्थान आपको स्वतंत्र रूप से एस्क्रो खाते के प्रबंधन का विकल्प देते हैं',\n",
              " 'नंबर अक्सर प्रत्येक चेक पर छपा होता है जब किसी व्यक्ति का चेकिंग खाता होता है',\n",
              " 'यदि आपको फावड़े या खुरपे का प्रयोग करना हो तो के आकार का 15 सें मी गहरा गड्ढा बनायें',\n",
              " 'स्पास्टिक हेमटेरियागिया के एक मामूली रूप के साथ कोई व्यक्ति केवल मामूली चलने की कठिनाइयों से पीड़ित हो सकता है और एक स्वतंत्र जीवन जी सकता है जबकि गंभीर स्पास्टिक क्वाड्रिप्जिया वाले व्यक्ति को घूमने के लिए व्हीलचेयर पर निर्भर होना पड़ सकता है',\n",
              " 'फटे दूध में फिल्टर पेपर से छानकर फिल्ट्रेट अलग कर लेते है',\n",
              " 'दुर्भाग्यपूर्ण सूत्र प्राप्त करने वाले शिशुओं को विटामिन के युक्त पूरक लेना चाहिए',\n",
              " 'यदि तनाव को समाप्त नहीं किया जाता है तो गर्दन की ऐंठन खराब होती रहेगी',\n",
              " 'उसके बाद जिंकबोरिक मरहम दूध निकालने के बाद सुबह – शाम लगायें तथा थन को साफ रखें एवं गंदगी से बचाएं',\n",
              " 'व्यवसायों को वित्तीय बेंचमार्किंग करने वाले संगठन के आकार के समान होना चाहिए',\n",
              " 'नामांकन में परिवर्तन निर्धारित शुल्क के साथ संबंधित डाकघर में निर्धारित आवेदन पत्र जमा करके किया जा सकता है',\n",
              " 'आपको गर्भाशय ग्रीवा का कैंसर होने का जोखिम अधिक हो',\n",
              " 'जिसकी वजह से मावट नहीं होने पर पौधों में शीर्ष नमी तनाव की गंभीर अवस्था आ जाती है',\n",
              " 'मनोवैज्ञानिक विकास सिगमंड फ्रायड के लिए एक सिद्धांत है जो एक न्यूरोलॉजिस्ट है जो अपने मनोवैज्ञानिक सिद्धांतों के लिए अच्छी तरह से जाना जाता है',\n",
              " 'खून में हीमोग्लोबिन की मात्रा कम हो जाना',\n",
              " 'जैसा कि कैशेक्सिया आमतौर पर एक अन्य बीमारी का परिणाम है जैसे कि कैंसर या ऑटो-इम्यून डेफिशिएंसी सिंड्रोम इसका अक्सर निदान करना आसान हो सकता है',\n",
              " 'इस डेरी के उत्पाद अपनी उच्च गुणवत्ता के कारण केवल करनाल में ही नहीं और आसपास के क्षेत्रों में भी उपभोक्ताओं द्वारा पसंद किये जा रहे हैं',\n",
              " 'इसके विपरीत किसी भी समय क्रेडिट की एक पंक्ति का उपयोग किया जा सकता है और प्राप्त किया जा सकता है प्राप्तकर्ता को उतना या जितना कम की आवश्यकता होती है और मासिक भुगतान सेट नहीं किया जाता है',\n",
              " 'पशु के खुर की और उचित देखभाल की जानी चाहिए तथा फुटपाथ का उपयोग करना चाहिए',\n",
              " 'यह ध्यान रखना महत्वपूर्ण है कि कुछ हर्बल दवाएं डॉक्टर द्वारा लिखी जाने वाली दवाओं के साथ हस्तक्षेप कर सकती हैं',\n",
              " 'संघीय निवेशों में ऊर्जा उद्योग में अक्सर नए वित्त पोषित बुनियादी ढाँचे वाले आइटम शामिल होते हैं',\n",
              " 'उनका कहना है कि जैविक खेती ने तो उनकी किस्मत बदल दी है',\n",
              " 'उचित जलयोजन सुनिश्चित करता है कि ये अंतरालीय श्रृंखलाएं पर्याप्त रूप से कार्य करती हैं',\n",
              " 'इसके अलावा गुर्दे और मूत्राशय में संक्रमण के इलाज के लिए उपयोग की जाने वाली कई दवाएं गुर्दे के कार्यों में परिवर्तन का कारण बन सकती हैं',\n",
              " 'उदाहरण के लिए एक महिला बैक्टीरियल वेजिनोसिस का विकास कर सकती है जिसे खुजली से चिह्नित किया जाता है योनि से एक दूधिया सफेद या भूरा निर्वहन होता है और एक अप्रिय गंध जिसे अक्सर एक गड़बड़ गंध के रूप में वर्णित किया जाता है',\n",
              " 'लेकिन राजनीति विज्ञान की यह व्याख्या उसकी प्रकृति को संकुचित करती है',\n",
              " 'वर्मीकम्पोस्ट में मनुष्य तथा पौधों को नुकसान पहुँचाने वाले किसी भी तरह के जीवाणु उपस्थित नहीं होते',\n",
              " 'इसकी नसों के प्रेमियों के लिए सबसे सुंदर माना जाने वाला लकड़ी का एक प्रकार अखरोट है',\n",
              " 'यदि संग्रह की अवधि बढ़ रही है तो इसका मतलब यह हो सकता है कि कंपनी को अपनी ऋण नीतियों को कसना चाहिए या नकदी प्रवाह में परिवर्तन की भरपाई के लिए अतिरिक्त इन्वेंट्री वित्तपोषण की व्यवस्था करनी चाहिए',\n",
              " 'जब अंडा इसे गर्भाशय में बनाने में असमर्थ होता है तो यह फैलोपियन ट्यूब में प्रत्यारोपित हो सकता है एक प्रकार का अस्थानिक गर्भावस्था जिसे ट्यूबल गर्भावस्था कहा जाता है',\n",
              " 'बकरियों की देखरेख घर की औरत तथा बच्चों द्वारा की जायेगी एवं सभी बकरियों को 8-10 घंटे प्रतिदिन चराया जायेगा',\n",
              " 'स्टॉक के लिए स्टॉक सेंटर के तकनीकी विश्लेषण के उपकरण स्टॉक के लिए मूल्य में उतार-चढ़ाव और विशिष्ट अवधि में कारोबार करने वाले शेयरों की मात्रा के लिए उपकरण',\n",
              " ' जब भी आइंस्टाइन को मौक़ा मिला उन्होंने अपने बच्चों से मुलाक़ातें कीं',\n",
              " 'कमजोरी महसूस होना उल्टी आना उबकाई आना जी मिचलना इत्यादि शामिल हैं',\n",
              " 'इसके अतिरिक्त राष्ट्रिय सह्करिकता विकास निगम के तहत सहकारी समितियाँ जल क्रय विपणन केंद्र हैचरी निर्माण इत्यादि के लिए ऋण भी प्राप्त कर सकते हैं',\n",
              " 'सीधे चिकित्सा देखभाल के बिना कुछ दिनों में जलन और सीधी चोट अपने आप ठीक हो जाती है और अधिकांश संक्रमणों का इलाज मौखिक एंटीबायोटिक दवाओं के साथ किया जा सकता है',\n",
              " 'वर्तमान में किसान आग लगाने की बजाय गेहूं की कटाई के बाद खेत में खड़े फानों में किसान जीरो टिलेज मशीन या टर्बो हैप्पी सीडर से मूंग या ढैंचा की बुआई कर फसल अवशेष प्रबंधन कर सकते हैं',\n",
              " 'फिर ब्याज दर और भुगतान की जाने वाली ब्याज की राशि की गणना करें',\n",
              " 'श्रम उत्पादकता जीवन स्तर के बारे में जानकारी भी बता सकती है',\n",
              " 'तथापि अपने सीमित साधनों के कारण हम विश्व के वास्तविक रूप को नहीं जान सके हैं',\n",
              " 'जबकि वरीयता वाले शेयरों वाले निवेशकों को आम शेयरों वाले निवेशकों को कोई भुगतान करने से पहले लाभांश प्राप्त होगा पसंदीदा स्टॉक रखने से स्वचालित रूप से यह गारंटी नहीं मिलती है कि सभी उदाहरणों में लाभांश जारी किए जाएंगे',\n",
              " 'यह जानकारी रोगी चार्ट में भी दर्ज की जानी चाहिए ताकि डॉक्टरों को केमिकल युक्त दवाओं के लिए नुस्खे से बचने और उन स्थितियों को रोकने के लिए पता चले जहां अस्पताल के वातावरण में मरीजों को मिथाइलोक्लोरोजोथियाज़ोलिनोन के साथ सामयिक अनुप्रयोग लागू होते हैं',\n",
              " 'वास्तव में बाजारों में प्रतिभागियों की सीमित संख्या होती है इसलिए प्रत्येक खरीदार और विक्रेता समग्र बाजार स्थितियों को प्रभावित करते हैं',\n",
              " 'पूर्ण सख्त फूल बनने तक',\n",
              " 'अतिरिक्त तरल पदार्थ ऊतक को अधिक प्रफुल्लित कर देता है जिससे मरीज को उठने तक चलना मुश्किल हो जाता है और धीरे-धीरे अंग को हिलाना शुरू कर देता है परिसंचरण को बहाल करता है और अतिरिक्त द्रव को फैलने देता है',\n",
              " 'वीज़ायदि आप यूएस यूके यूरोप या कनाडा जैसे देशों की यात्रा करने का इरादा रखते हैं तो विदेशी सलाहकार आपको अपना वीज़ा स्वीकार करने के लिए पिछले कुछ वर्षों की आयकर रिटर्न रसीदें पेश करने के लिए कहते हैं',\n",
              " 'जब डायाफ्राम हवा से भर जाता है तो पेट बाहर की ओर निकलता है और छाती बिल्कुल नहीं चलती है',\n",
              " 'मूत्राशय के संक्रमण के लक्षण काफी विशिष्ट हैं जिससे कई मामलों में स्थिति का निदान करना बहुत आसान हो जाता है',\n",
              " 'दोनों शरीर में कहीं भी बन सकते हैं और वे या तो सौम्य या कैंसर हो सकते हैं',\n",
              " 'शरीर के अंगों के लिए एक सुरक्षित नींव प्रदान करने के साथ श्रोणि मंजिल भी निरंतरता बनाए रखने में महत्वपूर्ण भूमिका निभाता है',\n",
              " 'लेकिन ऐसा माना जाता है कि हजारों साल पहले जब मनुष्य ने जंगल काटकर खेती करना प्रारंभ किया होगा और बस्तियां बनाकर रहते होंगे तब उन्होंने मांस व दूध के लिए भेड़ और बकरियों को पाला होगा',\n",
              " 'हर महीने स्तनों की स्वयं जाँच करें',\n",
              " 'बथुआ सेन्जी कृष्णनील हिरनखुरी चटरी-मटरी अकरा-अकरी जंगली गाजर गजरी प्याजी खरतुआ सत्यानाशी आदि',\n",
              " 'इसलिए नियमित रूप से चलने वाली विकसित अर्थव्यवस्थाओं में केन्द्रीय बैंक स्वायत्त होता है और इसमें अर्थशास्त्र समझने वाले सक्षम लोग मुद्रा नीति तय करते हैं',\n",
              " 'सेक्टर निवेश जोखिमों में एक घटना घटित होने की संभावना होती है जो एक ही समय में अर्थव्यवस्था के एक ही क्षेत्र के व्यवसायों को प्रतिकूल रूप से प्रभावित कर सकती है',\n",
              " 'यह निरंतरता के लिए उपयोगी हो सकता है जब लोग किसी परियोजना पर काम करते समय एक ही व्यक्ति के साथ संचार में रहना चाहते हैं',\n",
              " 'होती है तथा इसका जीवनचक्र निम्न प्रकार है',\n",
              " 'अगर कोई व्यवसायी या परिंदों का शौकीन व्यक्ति यूपी में कोई भी पक्षी लेकर आता है तो कड़ी कार्रवाई की जाएगी',\n",
              " 'डॉक्टर नियमित रूप से एक शक्तिशाली सनब्लॉक का उपयोग करके यूवी किरणों से त्वचा की रक्षा करने का सुझाव देते हैं खासकर जब सीधे धूप में कई घंटे बिताते हैं',\n",
              " 'राष्ट्रीय कृषि विस्तार प्रबंधन संस्थान कृषि एवं किसान कल्याण मंत्रालय भारत सरकार का संगठन',\n",
              " 'यदि लोगों ने नोटिस किया कि वे सामान्य से अधिक लार का उत्पादन करते दिखाई देते हैं या उन्हें इसे बनाए रखने में परेशानी होती है तो वे संभावित कारणों और उपचार विकल्पों पर चर्चा करने के लिए इसे चिकित्सा पेशेवर के साथ लाना चाह सकते हैं',\n",
              " 'शुक्राणुनाशक योनि में लागक से संभोग से पहले लगाना चाहिए',\n",
              " 'कुछ रोगी बेहोश हो सकते हैं या आंशिक रूप से चेतना खो सकते हैं',\n",
              " 'कुछ चिकित्सा उपचार हैं जैसे कि कीमोथेरेपी जो समस्या का कारण बन सकता है लेकिन बाल आमतौर पर उपचार के समापन पर बढ़ते हैं',\n",
              " 'अधिकारी आयुक्त सर्वेक्षण व्यवस्थापन/निदेशक भूमि अभिलेख',\n",
              " 'जैव ईंधन पौधों को लगाने के लिए एकल खिड़की की मंजूरी देने हेतु राज्यों को भी प्रोत्साहित किया जाएगा',\n",
              " 'जबकि प्रसव और प्रसव बहुत लंबे समय तक चल सकते हैं कुछ महिलाओं के पास अवक्षेपित श्रम कहा जाता है',\n",
              " 'आंत्र में जलन या रुकावट पैदा करने के लिए कैंसर कोशिकाओं का आकार और संख्या आमतौर पर बहुत छोटी होती है',\n",
              " 'दूध उत्पादन तब तक लाभदायक व्यवसाय नहीं बन सकता जब तक कि हम दूध की गुणवत्ता में कमी करने रहेंगे',\n",
              " 'प्रकोष्ठ में दूसरी हड्डी त्रिज्या है',\n",
              " 'उत्तर सुरक्षित मातृत्व दिवस पर स्त्रीरोग विशेषज्ञ से जांच के बाद विशेषज्ञ की सलाहानुसार चिन्हित उपयुक्त उच्च चिकित्सा संस्थान पर प्रसव कराने की योजना बनाई जायेगी',\n",
              " 'अनिवार्य रूप से उभार ब्रैकेट एक सामूहिक शब्द है जिसका उपयोग अंडरराइटिंग सिंडिकेट में निवेश फर्मों की पहचान करने के लिए किया जाता है जो विभिन्न निवेशकों के साथ सबसे बड़ी संख्या में मुद्दों को रखने का प्रबंधन करते हैं',\n",
              " 'कृषि संवर्धन एवं प्राकृतिक संसाधन केंद्र',\n",
              " 'हालाँकि प्रत्यक्ष कर को प्रायः सभी सरकारों द्वारा एक समान तरीके से परिभाषित किया जाता है लेकिन प्रत्येक राष्ट्र अपने स्वयं के प्रतिबंधों को लागू कर सकता है कि कौन भुगतान करता है',\n",
              " 'संकट की रोकथाम के लिए कुछ सफल रणनीतियों में आसन्न संकटों के शुरुआती चेतावनी संकेतों को पहचानना सभी संघर्षों के अहिंसक संकल्पों को बढ़ावा देना और सहायक और संचार परिवार और सामुदायिक संबंधों का निर्माण करना शामिल है',\n",
              " 'एक कैलेंडर स्प्रेड में दो विकल्पों के लिए समय मूल्य के क्षय की अलग-अलग दरें उनके मूल्यों के बीच अंतर को बढ़ाएंगी जिससे व्यापारी के लिए लाभ होगा',\n",
              " 'जबकि ये उपचार अधिकांश व्यक्तियों की मदद करते हैं कुछ लोगों को दूसरों की तुलना में अत्यधिक गैस होने का खतरा होता है',\n",
              " 'शिपर एक्सपेडिटर और अन्य तृतीय पक्षों के साथ काम करने वाली कंपनियों को यह सुनिश्चित करने की आवश्यकता होती है कि उन्हें पता हो कि किस प्रकार के प्रलेखन को जारी करना है ताकि विक्रेताओं को भुगतान मिल सके',\n",
              " 'इसमें 500 मिली लीटर पानी डालें इसे अच्छी तरह मिलाएँ तथा रस को छान लें छाने हुए तरल पदार्थ को अलग रख दें',\n",
              " 'सरकारों द्वारा पेश किए जाने वाले बांड आम तौर पर इस तरह की चूक से सुरक्षित होते हैं क्योंकि सरकारें आमतौर पर अपने राष्ट्रीय खजाने के अंदर संसाधनों के साथ बंधनों का समर्थन करती हैं',\n",
              " 'बाल्सा अधिकांश सॉफ्टवुड की तुलना में नरम होते हैं जबकि सबसे कठिन दृढ़ लकड़ी किसी भी सॉफ्टवुड की तुलना में बहुत कठिन होते हैं',\n",
              " 'फ्लैशबैक रोगियों के लिए अत्यधिक भावनात्मक संकट पैदा कर सकता है और वे अत्यधिक विघटनकारी हो सकते हैं',\n",
              " 'वहां से यह केवल उन लाभांशों की कुल राशि में कटौती करने का मामला है जो कि विचाराधीन अवधि के लिए निवेशकों को भुगतान किए जाते हैं और शुद्ध आय द्वारा उस आंकड़े को विभाजित करते हैं',\n",
              " 'जब 40 से अधिक शुक्राणुओं में खराबी होती है तो यह प्रजनन क्षमता में बाधा डाल सकता है और पुरुष को अपने साथी को गर्भवती करने में परेशानी हो सकती है',\n",
              " 'जापान में रेमन आम तौर पर प्रतिष्ठानों के वर्गीकरण में उपलब्ध है जिसमें छोटे नूडल स्टॉल से लेकर बड़े सिट-डाउन रेस्तरां तक शामिल हैं',\n",
              " 'कुछ मामलों में जब पत्थर अंत में मूत्राशय से मूत्रवाहिनी से बाहर निकल जाता है तो दर्द वास्तव में काफी कम हो जाएगा या पूरी तरह से चला जाएगा',\n",
              " 'पूर्व एक शराब पीने को रोकने में मदद कर सकता है क्योंकि यदि कोई पीता है तो वे अत्यधिक बीमारी का कारण बनते हैं',\n",
              " 'प्लुराइटिस के कारण कुछ स्थितियों में इन्फ्लूएंजा या अन्य तीव्र वायरल संक्रमण शामिल हो सकते हैं',\n",
              " 'एकीकृत प्रणाली का बजट और नकदी प्रबंधन हिस्सा भविष्य की व्यावसायिक अवधि में राजकोषीय योजना के लिए डेटा प्रदान कर सकता है',\n",
              " 'साक्षात्कारकर्ता संभावित सीपीए के बारे में जानने के लिए कि लेखाकार के पास आपके लिए कितना समय है यह सुनिश्चित करने के लिए पेशेवर कितना सुलभ होगा',\n",
              " 'भोजन की जानकारी होना अति आवश्यक है आज के जमाने में आर्थिक लाभ ही यह सुनिश्चित कर रहा है कि खाद्य पदार्थ बाजार में किस मूल्य पर मिलेंगे',\n",
              " 'विस्तार अभिकर्ता जो सूचना प्रौद्योगिकीको नहीं जानते हैं प्रशिक्षण पाठ्यक्रम में भाग लेने के पश्चात इनके विषय में जान जाते हैं',\n",
              " 'मूल्य नेतृत्व तब होता है जब एक विशिष्ट उद्योग में एक अग्रणी कंपनी माल और सेवाओं के लिए मूल्य निर्धारित करती है फिर उद्योग में अन्य फर्म इस नेता द्वारा निर्धारित मूल्य से मेल खाती हैं',\n",
              " 'इस प्रक्रिया में कर्मचारी मौद्रिक मुआवजे को स्थिर रखना शामिल है जिसमें कोई भी लागत नहीं है या वेतन में वृद्धि नहीं होती है',\n",
              " 'एक व्यवसाय को कर्मचारियों द्वारा की जाने वाली खरीद पर भी ध्यान देना चाहिए',\n",
              " 'ये लाल व गहरे भूरे रंग के सूक्ष्मजीवी अष्टपदी प्राणी हैं जो पत्तियों के प्राय नीचली सतहों पर अनगिनत संख्या में रहकर उनका रस चूसते हैं',\n",
              " 'ऐसी फर्मों के आकार का परिसीमन किया जाना चाहिये जिनके लिये रोज़गार को समाप्त करने से पहले श्रम विभाग से अनुमति लेने की आवश्यकता नहीं है और सभी फर्मों की दक्षता को प्रोत्साहित करने के मामले में निर्णय लेने की छूट दी जानी चाहिये',\n",
              " 'डंठल से सबसे पहले फाइबर निकाला गया',\n",
              " 'चूँकि दोनों अपने प्रोफेशनल कैपेसिटी से आय अर्जित कर रहे हैं अतः धारा 64 से धारा 70 के आय क्लबिंग के प्रावधान इन पर लागू नहीं होगा',\n",
              " 'सेवा प्रदाता प्रमाणीकरण तथा निरीक्षण संस्थाओं हेतु प्रशिक्षण 135 प्रशिक्षण सत्रों में 2700 से अधिक सेवा प्रदाता प्रतिनिधियों तथा आंतरिक नरीक्षण कर्त्ताओं को प्रमाणीकरण प्रकिया तथा आंतरिक नियंत्रण प्रणाली में प्रशिक्षित किया गया',\n",
              " 'यद्यपि शिशु उनके साथ पैदा होते हैं लेकिन कम उम्र में उनका निदान नहीं किया जा सकता है',\n",
              " 'अधिक उपज और भूमि की उर्वरता शक्ति बनाये रखने के लिए हरी खाद या गोबर या कम्पोस्ट का प्रयोग करना चाहिए',\n",
              " 'टेनोटॉमी कैंची एक प्रकार की सर्जिकल कैंची होती है जिसका उपयोग छोटे ऊतकों को काटने और नाजुक क्षेत्रों में पैंतरेबाज़ी करने के लिए किया जाता है',\n",
              " 'वार्ता में आतंकवाद नशीले पदार्थों की तस्करी संयुक्त राष्ट्र में सुधार और अफगानिस्तान ईरान इराक तथा उत्तरी कोरिया में सुरक्षा की स्थिति पर चर्चा हुई',\n",
              " 'गर्भवती या स्तनपान करने वाली महिलाओं को किसी भी प्रकार के डिकंजेस्टेंट लेने से पहले अपने डॉक्टरों से पूछना चाहिए क्योंकि कुछ को गर्भावस्था के दौरान सुरक्षित नहीं माना जा सकता है और जो डिकॉन्गेस्टेंट सुरक्षित हैं उन्हें अलग-अलग खुराक में लेने की आवश्यकता होती है जो लेबल का सुझाव देते हैं',\n",
              " 'ब्रोकरिंग और वित्तपोषण कुछ ऐसे विभाजन या व्यावसायिक गतिविधियां हैं जो एक फर्म अपने स्वयं के कर्मचारियों का उपयोग करके घर में रखती है',\n",
              " 'यह सुझाव नहीं है कि दुनिया के कई अलग-अलग हिस्सों में कई ठीक-ठाक सीआरओ नहीं हैं',\n",
              " 'सही स्थिति में रहने सेः',\n",
              " 'रिकॉर्डिंग मूल्यह्रास परिशोधन के रूप में एक ही तरीके से काम करता है हालांकि भौतिक संपत्ति में अलग-अलग उपयोगी जीवन और मूल्यह्रास गणना हो सकती है',\n",
              " 'जबकि अभी भी एड्स का कारण बनने वाले वायरस के लिए कोई ज्ञात इलाज नहीं है एचआईवी को उचित चिकित्सा हस्तक्षेप और उपचार के साथ नियंत्रित किया जा सकता है',\n",
              " 'आंदोलन तंत्रिका तंत्र द्वारा निर्मित होता है और प्रत्येक व्यक्ति में अद्वितीय आंदोलन व्यवहार होते हैं जो उसके या उसके आनुवंशिक मेकअप के लिए विशिष्ट होते हैं जिसे मोटर पैटर्न कहा जाता है',\n",
              " 'उसके अंग किसी अन्यम व्यक्ति के शरीर में जीवित बन रहते हैं',\n",
              " 'निर्माण उद्योग के लिए सामान्य ज़मानत बांड का उपयोग कई अन्य उद्योगों में भी किया जाता है',\n",
              " 'एक विधि एक अधिग्रहण है जिसमें मूल कंपनी किसी अन्य कंपनी में स्टॉक का कम से कम 51 प्राप्त करती है',\n",
              " 'चतुष्कोणीय प्लवमान पिंजरों में पालन किया जाता है',\n",
              " 'सोने को भंडारित करने और धन के माप के रूप में इसका उपयोग करने की प्रवृत्ति सदियों तक फैली हुई है',\n",
              " 'मक्का ज्वार बाजरा जैसी चारे वाली फसलों में इस घास को पनपने से रोकने के लिए बुवाई के तुरंत बाद प्रति एकड़ जमीन में 800 ग्राम एट्राजिन का छिड़काव करें',\n",
              " 'फिर सबसे हाल की कीमत को पिछली मूल्य सीमा के मुकाबले तौला जाता है',\n",
              " 'पीलिया ग्रंथियों के बुखार के सभी मामलों में मौजूद नहीं है और आमतौर पर मौजूद होने पर हल्का होता है',\n",
              " 'पूसा अगेती मसूर मसूर पूसा अगेती मसूर',\n",
              " 'इसके बजाय सभी ऋणों को एक पैकेज में समेकित किया जा सकता है',\n",
              " 'निवेशक के पास जितनी बार सुरक्षा होती है उतनी बार पूंजीगत लाभ उपचार पर प्रभाव पड़ता है',\n",
              " 'चित्रित सतहों में दीवार फर्श दरवाजे और खिड़की की दीवारें शामिल हो सकती हैं',\n",
              " 'रणनीतिक धन प्रबंधन के लिए आसान युक्तियों में जीवन में जल्दी बचत और निवेश शुरू करना विविध पोर्टफोलियो में निवेश करना और सेवानिवृत्ति और एस्टेट योजना का उपयोग करके लागत को कम करना शामिल है',\n",
              " 'चक्कर आना आम तौर पर एक अंतर्निहित स्थिति का एक लक्षण है और इसे एक बीमारी नहीं माना जाता है',\n",
              " 'नौपरिवहन नदियों नहरों तथा झीलों में स्थित सतही जल संसाधन का उपयोग नौपरिवहन में किया जाता है',\n",
              " 'सामान्य तौर पर महिलाओं को सुगंधित पाउच या टॉयलेट पेपर से बचना चाहिए ऐसी पैंटी पहनें जिनमें कोई सिंथेटिक फाइबर न हो और हमेशा कंडोम का उपयोग करें',\n",
              " 'इसके अलावा यदि ट्यूमर को संपीड़न का कारण पाया जाता है तो पहले बायोप्सी की जा सकती है',\n",
              " 'अगर देखा जाए तो आज कृषि और उससे संबंधित व्यवसाय में ज्यादा अवसर मिलते हैं',\n",
              " 'तथा दूसरे दिन से ही पौधों में वृद्धि दिखाई पड़ने लगती है',\n",
              " 'आम में फल झड़ने की समस्या एवं प्रबंधनपरिचयआम में फल झड़न की प्रक्रिया को तीन चरणों में बांटा गया हैपिन हैड अवस्था में फलों का गिरनाफल स्थापित होने के बाद झड़नमई में फलों का झड़नफल झड़न के कारणनमीपोषक तत्वों की कमीबीज का विकासकीट तथा बीमारियाँएवसिशन तह का बननाप्रबंधनदेख-भालहौरमोन्स का प्रयोगकीट तथा बीमारियों की रोकथाम',\n",
              " 'हालांकि डिस्काउंट नोट सभी के लिए नहीं है',\n",
              " 'अगर सही इलाज नही किया धीरे धीरे रोग पुराना होने के कारण जोड़ो का कार्य और लचीलापन नुकसान होता है और प्रभावित जोड़ निर्योग्यकारी और पीड़ादायक होता है',\n",
              " 'देश भर में अम्लीय भूमि पर हो रहे वैज्ञानिक शोधों से अब यह बात पैदावार बिलकुल तय है कि चूने के प्रयोग से भूमि की अम्लीयता खत्म कर इसकी पैदावार में बढ़ोतरी की जा सकती है',\n",
              " 'सॉल्वेंसी स्तर की नीतियांबीमा कंपनियों को सभी जोखिमों को ध्यान में रखते हुए अपने व्यवसाय का प्रबंधन करना चाहिए',\n",
              " 'कार्यक्रम के दौरान प्रतिभागियों को संरक्षित और खुले खेतों के लिए उच्च मूल्य वाली सब्जियों की वैज्ञानिक खेती के तरीकों से अवगत कराया गया',\n",
              " 'गोनोरिया वीर्य में मवाद का एक और प्रमुख कारण है अकेले संयुक्त राज्य अमेरिका में प्रति वर्ष 700,000 से अधिक संक्रमण हैं',\n",
              " 'एंटी-प्लेटलेट दवाओं का भी इस संबंध में कुछ उपयोग है',\n",
              " 'अन्य लोग एक उपयोगकर्ता और एक गतिशीलता सहायता दोनों को समायोजित करते हैं जैसे कि पावर स्कूटर या व्हीलचेयर',\n",
              " 'एटोपिक जिल्द की सूजन के रूप में भी जाना जाता है एक्जिमा की विशेषता मोटी पपड़ीदार खुजली वाली त्वचा के पैच हैं',\n",
              " 'लक्षण लंबे समय तक गायब हो सकते हैं और फिर अचानक प्रकट हो सकते हैं',\n",
              " 'ऋण की राशि व्यक्तिगत वित्तीय वक्तव्यों में शामिल जानकारी की मात्रा पर भी कुछ प्रभाव डाल सकती है क्योंकि ऋणदाता स्वाभाविक रूप से बड़ी मात्रा में और लंबी अवधि के लिए ऋण प्रदान करते समय अधिक जोखिम ग्रहण करते हैं',\n",
              " 'कृपया खाली पेट दवा न खाएं',\n",
              " 'पहले रोल पर पांच के साथ आने से दूसरा रोल कमोबेश नहीं होता उदाहरण के लिए तीन होने की संभावना कम है',\n",
              " 'यदि निम्नलिखित सुरक्षा हाल के दिनों में कैसा प्रदर्शन करती है इसके आधार पर मूल्य में स्पाइक की वजह से प्रवृत्ति का यह अभ्यास असतत हो सकता है',\n",
              " 'वे जो 1938 में पैदा हुए थे जब वे 65 वर्ष के हो गए और दो महीने के थे जबकि 1939 में पैदा हुए लोग पात्र थे',\n",
              " 'सामान्य तंत्रिका सूजन के लक्षण आवाज के लिए भी बढ़ सकते हैं क्योंकि भाषण कुछ लोगों के लिए बिगड़ा हुआ नसों से पीड़ित हो सकता है',\n",
              " 'कृषकों व व्यापारियों को प्रशिक्षण के साथ साथ स्थानीय किस्मों से निर्यात योग्य किस्म विकसित करने का कार्य कृषि विश्वविद्यालय के अनुसंधान केन्द्र उम्मेदगंज द्वारा किया जा रहा है',\n",
              " 'उदाहरण के लिए अगर आपके पास एक ही प्रतिभूति में 10 प्रतिशत हिस्सा है और इसमें चूक हो जाती हैं तो फंड का शुद्ध सम्पत्ति मूल्य उसी सीमा तक गिरेगा',\n",
              " 'म्लानि रोग में पत्तियाँ पीली जड़ जाती हैं एवं पौधे सुख जाते हैं',\n",
              " 'अधिक गंभीर मामलों के लिए पर्चे दर्द निवारक और स्टेरॉयड इंजेक्शन अक्सर राहत लाते हैं',\n",
              " 'आइसोप्रोटयूरान प्रतिरोधी फेलेरिस माइनर के लिए कारगर',\n",
              " 'गायों के दूध निकालने के लिए श्री राजबीर सिहं ने अपने फार्म पर मशीने लगाईं हुई हैं',\n",
              " 'पुरानी खांसी मुंह में खून ला सकती है',\n",
              " 'प्रचलित किंवदंती के अनुसार गोभी के लिंग परीक्षण के कारण पानी का रंग गुलाबी या लाल हो जाता है यदि कोई लड़का रास्ते में है लेकिन अगर बच्चा लड़की है तो बैंगनी रहेगा',\n",
              " 'वे शरीर की कोशिकाओं के भीतर जमा नहीं होते हैं लेकिन स्रावित होने पर स्रावित होते हैं जैसे संक्रमण खुद को प्रस्तुत करता है',\n",
              " 'ये सूक्ष्म-जीव भूमि में मौजूद पेड़पौधों के अवषेष तथा अन्य जैविक कचरे को सड़ाने व पौधों की बढ़वार में सहायक होते हैं',\n",
              " 'प्रोबायोटिक मछलियों के रोग निरोधक क्षमता को काफी बढ़ा देते हैं',\n",
              " 'यदि एक यौन सक्रिय महिला मतली और भूख की हानि से पीड़ित होने लगती है तो उसे किसी भी जोखिम भरी और ज़ोरदार गतिविधियों से बचना चाहिए जब तक कि वह गर्भावस्था परीक्षण नहीं कर सकती',\n",
              " 'यद्यपि कुछ नवीकरणीय संसाधन ऐसे प्रतीत होते हैं जैसे वो प्राकृति में हमेशा के लिए रहेगें परन्तु इनमें से अधिकांश प्राकृतिक संसाधन ऐसे होते है जो सीमित होते हैं और अंततः भविष्य में समाप्त हो जाने की संभावना रखते हैं',\n",
              " 'दो ऋण प्रकार समान नहीं हैं हालांकि एक किस्त ऋण उधारकर्ता के रूप में आमतौर पर अपने ऋण के जीवन पर एक निर्धारित राशि का मासिक भुगतान करना पड़ता है',\n",
              " 'ग्रसित पौधों की जड़ों में मांठें बनने से पौधे बौने रह जाते हैं व पत्ते पीले होकर सूख जाते हैं',\n",
              " 'ईबे के मुकाबले ऑनलाइन पैसा कमाने का कोई आसान और तेज तरीका नहीं है',\n",
              " 'वहीं मनरेगा जैसी योजनाएं ग्रामीणों को साल में 150 दिन का रोजगार देने का दावा करता रहा है',\n",
              " 'तेजी से जैसा कि मंच पर खुजली होती है चरम खुजली को दूर करना चाहिए',\n",
              " 'सोयाबीन प्रसंस्करण पर उद्यमिता विकास कार्यक्रम',\n",
              " 'कटाई पट्टी द्वारा फसल की कटाई के बाद फसल को लग्ड़ कन्वेयर पट्टी की सहायता से उर्वराधर स्थिति में मशीन के एक तरफ ले जाया जाता है और कटी फसल मशीन की चलने की दिशा से अधोलाम्बावत दिशा में एक कतार में जमीन पर गिर जाती है',\n",
              " 'चीन का अनुसरण करते हुए भारत सरकार को चाहिए कि वह बंजर भूमि और ढलान वाली जमीन में बांस के बागान लगाने में ग्रामीण किसानों को मदद दे',\n",
              " 'गर्भवती तथा स्तनपान कराने वाली माताएं',\n",
              " 'पानी का तल नीचे चला गया है',\n",
              " 'क्रोहन के अन्य लक्षणों में दस्त वजन में कमी और उल्टी शामिल हैं',\n",
              " 'निवेशक क्रमिक दिनों में प्रतिभूतियों का व्यापार करेगा क्योंकि आज किया गया व्यापार कल किए गए व्यापार से एक दिन पहले निपट जाएगा',\n",
              " 'आमतौर पर ये बहिष्करण उन शर्तों पर आधारित होते हैं जैसे खराब पैकेजिंग या सामानों के परित्याग के परिणामस्वरूप होने वाली हानि जहां स्पष्ट दोष सौंपा जा सकता है',\n",
              " 'पहला यह है कि स्थिति में देखभाल का एक कर्तव्य था प्रतिवादी वादी की ओर से कुछ सावधानी बरतने के लिए बाध्य था जैसे वादी के घर की दिशा में बेसबॉल न मारना',\n",
              " 'ये कम-जोखिम वाले म्युचुअल फंड लाभांश का भुगतान अल्पकालिक ब्याज दरों के बराबर करते हैं',\n",
              " 'गर्म पानी के गरारे और नमक के पानी के छींटे कभी-कभी गले में खराश के प्रबंधन में उपयोग किए जाते हैं साथ ही जलन और दर्द से राहत देने के लिए डिज़ाइन किए गए लोज़ेंगों के साथ',\n",
              " 'जितना कम खरीदो ऊंचा बेचो का पुराना निवेश कहावत का इस्तेमाल बहुत कम बार किया जाता है',\n",
              " 'अगर किसान भाई एक एकड़ जमीन में नर्सरी बनाते हैं तो 40,000-70,000 रुपुए का लाभ प्राप्त कर सकते हैं',\n",
              " 'कभी-कभी अल्सर भी फट जाते हैं और खून बहता है',\n",
              " 'कर दस्तावेज़ अक्सर बहुत जटिल रूप होते हैं जो कई लोगों को निराश करते हैं',\n",
              " 'बॉन्डहोल्डर्स से अनुरोध किया जाता है कि वे एक विशिष्ट तारीख तक जवाब दें यदि अधिकांश धारक बदलावों को मंजूरी नहीं देते हैं तो मूल शर्तें प्रभावी रहती हैं',\n",
              " 'दुकानदारों को पता होना चाहिए हालांकि अगर उनके मन में बदलाव होता है तो उन्हें रद्द करने की फीस हो सकती है और वे इस प्रकार की योजना का उपयोग करने पर बिक्री से चूक सकते हैं',\n",
              " 'देश के जोखिम विश्लेषण के प्रत्येक प्रयास में अंतिम निर्णय लेने से पहले धीरे-धीरे आगे बढ़ना और सभी प्रासंगिक कारकों की जांच करने की अनुमति देना महत्वपूर्ण है',\n",
              " 'इससे अनेक प्रकार की समस्याएं पैदा हो गई जैसे विषाक्तता की घटना जिसमें लोग जीवन भर के लिए अपंग हो गए तथा उन्हें अपने स्वास्थ्य पर काफी खर्च करना पड़ गया',\n",
              " 'सारणीः गोवंशीय पशुओं में टीकाकरण कृमिनाशन एवं सर्वांग नहलाने के लिए वार्षिक चक्र',\n",
              " 'इस स्थिति के कई अलग-अलग प्रकार हैं जिसमें डिस्टल क्लैविक्युलर ऑस्टियोलाइसिस शामिल है',\n",
              " 'प्रति हेक्टेयर खेत में रोपनी हेतु 50 किलोग्राम धान के बीज की आवश्यकता होती है',\n",
              " 'उचित बाजार मूल्य वह मूल्य है जो एक तैयार विक्रेता और एक इच्छुक खरीदार परिसंपत्ति के स्वामित्व को स्थानांतरित करने के लिए विनिमय करेगा',\n",
              " 'यहाँ प्राचीन भारत में राजतंत्र होने के बावजूद प्रजा पर अत्याचार नहीं था',\n",
              " 'यदि आपने पहले कभी सोने के परीक्षक का उपयोग नहीं किया है तो कुछ सरल और उपयोग में आसान चुनें',\n",
              " 'चीनी उद्योग के लिये सहायक भारत में इथेनॉल उत्पादन के लिये प्रयोग किया जाने वाला प्रमुख कच्चा माल गन्ना और इसके उप-उत्पाद हैं जो ‘ इथेनॉल सम्मिश्रण कार्यक्रम के तहत 90 तेल उत्पादन के लिये उत्तरदायी है',\n",
              " 'वित्तीय सेवाएं उसके उपभोक्ताओं तक प्रभावी ढंग से पहुंचनी चाहिए ऋण समय पर उपलब्ध होनी चाहिए और वह भी जरुरी मात्रा में और उचित ब्याज दर पर',\n",
              " 'हल के वर्षों में प्रदेश के कृषि विश्वविद्यालयों में कृषि वैज्ञानिकों द्वारा किय गये अग्रणीय कार्यों के कारण ही खाद्य सुरक्षा एवं उच्च कृषि उत्पादन की स्थिति बनी है',\n",
              " 'क्रायोथेरेपी में तरल नाइट्रोजन के आवेदन से मौसा जमे हुए हैं',\n",
              " 'अतःएच आई वी से प्रभावित व्यक्तियों को अपनी ऊर्जा और अन्य पौष्टिक तत्वों ग्रहण करने की मात्रा जल्द से जल्द बढ़ा लेनी चाहिए',\n",
              " 'वित्तीय स्थिरता बोर्ड जिसके पास कोई प्रत्यक्ष शक्ति नहीं है के पास दुनिया के नेताओं को सुरक्षित और कुशल नियामक नीति के बारे में प्रभावित करने या कम से कम शिक्षित करने का जबरदस्त अवसर है जो वित्तीय तबाही को रोक सकता है',\n",
              " 'इंटर्निस्ट्स में शल्यचिकित्सा की प्रक्रिया करने की क्षमता भी होती है जबकि सामान्य चिकित्सक सर्जरी में संलग्न नहीं होते हैं',\n",
              " 'एक स्वस्थ एवं उत्तरदायी माता-पिता बनना',\n",
              " 'बिस्तर पर पीठ के बल सीधे लेटे हुए धीरे-धीरे एक टांग ऊपर उठाएँ घुटने को मोड़ें',\n",
              " 'महाराष्ट्र और कर्नाटक में सामान्य परिस्थितियों के अंतर्गत छंटाई के बाद न्यूनतम तापमान सामान्यत 10 डिग्री सेंटीग्रेड से पार हो जाता है और इसलिए कलियां निष्क्रिय नहीं हो पाती है',\n",
              " 'मेन्डिबुलर हाइपोप्लासिया इसलिए निचले जबड़े का अधूरा या कम विकास है',\n",
              " 'लाभ उन श्रमिकों के लिए कम हो सकता है जो सामान्य सेवानिवृत्ति की आयु के बाद सेवानिवृत्त हुए लोगों के लिए जल्दी और उच्च सेवानिवृत्त हुए संयुक्त राज्य में सामान्य सेवानिवृत्ति की आयु प्रत्येक गुजरते साल के साथ बदल सकती है',\n",
              " 'प्रति शेयर संगणना आय कई श्रेणियों के अंतर्गत आ सकती है सतत संचालन परिचालन बंद करना असाधारण वस्तु और शुद्ध आय',\n",
              " 'बीज दर किलो प्रति एकड़',\n",
              " 'इस पिप्पली के बारे में कई भ्रांतियां हैं तथा कई वैज्ञानिक इसको चब्य का फल मानते हैं',\n",
              " 'भारतीय लोकतंत्र में चुनाव सुधार निष्कर्ष एवं सुझाव',\n",
              " 'जिन लोगों के पास संपत्ति है वसीयत की योजना बनाना प्रक्रिया में एक महत्वपूर्ण कदम है जबकि जो लोग विरासत प्राप्त करने या प्राप्त करने की अपेक्षा करते हैं उन्हें विशेष वित्तीय नियोजन सलाह लेनी चाहिए',\n",
              " 'रोपाई विधि में बीजोपचार इस प्रकार करें',\n",
              " 'वित्त और निवेश प्रकाशन आमतौर पर सार्वजनिक फाइलिंग के माध्यम से ठीक दांतेदार कंघी के माध्यम से जाते हैं ताकि वे जिन कंपनियों को कवर करते हैं उनके वित्तीय स्वास्थ्य के बारे में अधिक जानें',\n",
              " 'यह एक उभरता हुआ उद्योग है जिसमें निवेश की अपार संभावनाएँ हैं',\n",
              " 'यदि निर्धारिती उक्त योजना अपनाना नहीं चाहता है तो वह कम दर पर आय घोषित कर सकता है',\n",
              " 'भारत में राज्य का निर्माण करने वाली सबसे बड़ी सब्जियां हैं',\n",
              " 'धारणा अभ्यास ऐसी गतिविधियां हैं जो धारणा का परीक्षण करती हैं और लोगों को चीजों को देखने के तरीके में अंतर को उजागर करती हैं',\n",
              " 'इन इकाइयों के द्वारा पाश्चीराईज्ड खाद पंजीकृत खुम्ब उत्पादकों को शिमला सोलन सिरमौर किन्नौर कांगड़ा चंबा हमीरपुर ऊना और बिलासपुर जिलों में उपलब्ध करवाई जा रही है',\n",
              " 'भारी प्रकोप होने पर पत्तियों से रस चूसने के कारण वे मुड़ जाती हैं तथा फूल गिर जाते हैं जिससे उपज पर प्रतिकूल प्रभाव पड़ता है',\n",
              " 'सहित गर्भाशय के आकार में समान वृद्धि होती है उसमें भ्रूणपत्र नहीं होते जबकि गर्भ में एक ही हार्न का विकास होता है तथा भ्रूणपत्र पाए जाते है',\n",
              " 'मौसमी तालाबों में मत्स्य बीज संवर्धन',\n",
              " 'संविदात्मक दस्तावेजों तक पहुंच प्रदान करना ऑडिट प्रक्रियाओं का पालन करने का एक और तरीका है',\n",
              " 'प्लैटिनम की कीमत लगातार बदलती रहती है',\n",
              " 'आधुनिक मौन-पालन का मूल-मंत्र है कि बक्सों में जवान मौनों की संख्या मुख्य शहद उत्पादन समय से पहले अधिक से अधिक हो ताकि ज्यादा से ज्यादा शहद का उत्पादन किया जा सके',\n",
              " 'जबकि सामान्य आबादी के केवल 20 प्रतिशत में मौजूद है आनुवंशिक रूप से कोडित सेल मार्कर एचएलए-डीआर 4 कोकेशियान आरए रोगियों के दो तिहाई से अधिक में होता है',\n",
              " 'प्रतिक्रिया को मस्तिष्क में ऑप्टिक तंत्रिका के साथ भेजा जाता है और मस्तिष्क जानकारी को संसाधित करता है जिससे जीव को रंग में देखने की अनुमति मिलती है',\n",
              " 'इस कारण से निवेशक समय की लंबी अवधि के लिए बाजार में बदलाव की चपेट में हैं',\n",
              " 'यदि वर्ष के लिए वास्तविक ब्याज दर 1 है मुद्रास्फीति प्रीमियम 2 है और जोखिम प्रीमियम 3 है तो बांड या नाममात्र ब्याज दर के लिए वास्तविक रिटर्न केवल 2 होगा जैसा कि इन सभी अन्य कारकों ऐसे मूल्य हैं जो बांड के मूल्य को कम करते हैं',\n",
              " 'श्वान कोशिकाएं माइलिन म्यान के घटक हैं जो अक्षतंतु या तंत्रिका कोशिकाओं की शाखाओं को कवर करती हैं',\n",
              " 'आनुपातिक कर में कर की मात्रा समान रहती है',\n",
              " 'बांड अवधि के अंत में इसकी परिपक्वता के रूप में भी जाना जाता है बांडधारक को मूलधन की वापसी प्राप्त होती है',\n",
              " 'कुछ महिलाएं अपने स्तन पर एक दर्दनाक गांठ देख सकती हैं जिसे अक्सर पुटी कहा जाता है जो आमतौर पर द्रव से भरा होता है और कभी-कभी स्पर्श के लिए निविदा होती है',\n",
              " 'भांग का इस्तेमाल कई मानसिक बीमारियों में भी की जाती है',\n",
              " 'इसलिए डिम्बनालों में संक्रमण पुराना होकर गंभीर रूप ले सकता है',\n",
              " 'लेकिन ज़्यादा नमक खाने से त्वचा और बाल सूखे हो जाते हैं बाल झड़ने लगते हैं और बुढ़ापा जल्दी आता है',\n",
              " 'स्वर्ण श्री स्वर्ण मणि अर्का केशव अर्का निधि पन्त ऋतुराज पन्त सम्राट पूसा क्रांति',\n",
              " 'एक कैंसरग्रस्त ट्यूमर एक ट्यूमर है जिसे घातक माना जाता है जिसका अर्थ है कि यह पड़ोसी अंगों में फैलने की क्षमता रखता है जिससे इन क्षेत्रों में पोषक तत्वों की आपूर्ति में कटौती होती है और अंततः गंभीर लक्षण पैदा होते हैं',\n",
              " 'सामान्य तौर पर एक फेलोबोमीस्ट कला सीखने के लिए छह महीने से साल भर के कार्यक्रम में भाग लेता है और कौशल को चालू रखने के लिए प्रति वर्ष लगभग छह घंटे की आवधिक रिफ्रेशर पाठ्यक्रमों के साथ अनुसरण करता है और फेलोबोटॉमी में अग्रिमों के बारे में सीखता है',\n",
              " 'योनि को लाइन करने वाली ग्रंथियां नियमित रूप से एक तरल पदार्थ का उत्पादन करती हैं जो मृत कोशिकाओं को दूर करने योनि को लुब्रिकेट करने और संक्रमण को रोकने के लिए डिज़ाइन किया गया है',\n",
              " 'सीमांत अपरा प्रीविआ की कुछ संभावित जटिलताओं में एनीमिया और रक्तस्राव शामिल हैं यही वजह है कि इस स्थिति वाली महिलाओं को अक्सर प्रसव और प्रसव के बाद करीब से देखा जाता है',\n",
              " '40 से अधिक उम्र के पुरुषों और उत्तरी यूरोपीय विरासत वाले लोगों में ड्यूपिट्रेन की बीमारी अधिक आम है',\n",
              " 'प्रकृति के अनुकूल स्थानों पर बांधों का निर्माण करना',\n",
              " 'कपास और बड़वानी ज़िला · और देखें बाग़ानबाग़ान ऐसा भूक्षेत्र या जलक्षेत्र होता है जहाँ व्यापारिक ध्येय से एक ही प्रकार के पौधे की कृषि करी जाए',\n",
              " 'अधिक विदेशी निवेशक इस उम्मीद के कारण बांड में रुचि रखते हैं कि वे अमेरिकी डॉलर के साथ प्रतिस्पर्धी बन सकते हैं',\n",
              " 'हरी पत्तियां आधारित मत्स्य आहारवर्तमान स्थितिउच्च गुणवत्ता वाले मत्स्य आहार का निर्माणसुबबूलसोयाबीनअल्फाल्फासेस्बानियाकसावामत्स्य पालन वर्तमान में दुनिया भर में सबसे तेजी से बढ़ रहे खाद्य उत्पादक क्षेत्रों में से एक है',\n",
              " 'वास्तव में संतोषजनक प्रतिक्रिया मिलने से पहले इस प्रक्रिया को कई बार दोहराया जाना चाहिए',\n",
              " 'यह दक्षिण एशिया में मलेशिया तथा इंडोनेशिया के बीच में स्थित है',\n",
              " 'देवासंभारत की पहली महिलाएँराजनीति प्रशासनगुजरात की मुख्यमंत्री आनंदीबेन पटेल राष्ट्रपति-प्रतिभा पाटिल प्रधानमंत्री इंदिरा गाँधी केंद्रीय मंत्री राजकुमारी अमृत कौर लोकसभा अध्यक्ष मीरा कुमार राज्यसभा उपसभापति नजमा हेपतुल्ला लोकसभा प्रतिपक्ष नेता सुषमा स्वराज सांसद राधाबाई सुबरायण राज्यपाल-सरोजिनी नायडू मुख्यमंत्री-सुचेता कृपलानी मुस्लिम मुख्यमंत्री-सैयद अनवरा तैमूर दलित मुख्यमंत्री मायावती राजदूत विजय लक्ष्मी पण्डित नोबल पुरस्कार सम्मानित मदर टेरेसा सर्वोच्च न्यायालय में न्यायाधीश फातिमा बीबी आई ए',\n",
              " 'शब्द डिस्प्लेसिया गर्भाशय ग्रीवा के असामान्य सेल परिवर्तनों को संदर्भित करता है',\n",
              " 'मकई हटाने के लिए सामान्य उपचार में मकई को खुरचने के लिए एक प्यूमिस पत्थर का उपयोग करना शामिल है',\n",
              " 'कई बार स्थिति सूक्ष्म हो जाएगी और यहां तक कि समस्या वाले व्यक्ति द्वारा किसी का ध्यान नहीं दिया जाएगा',\n",
              " 'उनका सुधार हाथ द्वारा किया जाता है',\n",
              " 'टेपवर्म संक्रमण पेट के दर्द दस्त कब्ज और वजन घटाने जैसे अन्य कृमि संक्रमणों के लिए कुछ समान लक्षण सहन करता है',\n",
              " 'रेलमार्ग द्वारा गारंटीकृत स्टॉक तब जारी किए जाते हैं जब एक रेलमार्ग संपत्ति के पट्टे के लिए दूसरे के साथ अनुबंध करता है',\n",
              " 'पहली तिमाही में गर्भपात और रक्तस्राव एचपीई के संकेतक या लक्षण भी हो सकते हैं',\n",
              " 'इस चरण में यद्यपि उसका चलना प्रारंभ हो जाता है परंतु अभी पूर्ण शारीरिक संतूलन नहीं आ पाता',\n",
              " 'यदि  ऑफशोर बैंक अकाउंट  शब्द भगोड़े अरबपतियों और संगठित अपराध मालिकों की छवियों को मिलाता है तो वास्तविकता की जांच के लिए तैयार रहें',\n",
              " 'सात वर्ष तक ही बच्चा खिलौनों के साथ खेलना पसंद करता है उसके बाद खिलौनों के साथ खेलने की प्रवृति घटने लगती है',\n",
              " 'एक वर्ष में एक बड़ी खरीद अपने दायित्वों को पूरा करने में असमर्थ कंपनी को छोड़ सकती है भले ही इसके लेखा बयानों से पता चलता है कि इसमें पर्याप्त धन होना चाहिए',\n",
              " 'यह नियमित फलत देने वाली किस्म है जिसके पौधे मध्यम ओजस्वी होते हैं अत इन्हें 6 मी',\n",
              " 'इसके अलावा जो लोग कॉन्टेक्ट स्पोर्ट्स में एथलीटों जैसे बार-बार होने वाले कॉन्सुलेशन का अनुभव करते हैं उन्हें बाद में जीवन में न्यूरोलॉजिकल समस्याएं विकसित होने का खतरा होता है',\n",
              " 'गुलाबी क्रांति झींगा उत्पादन को बढ़ावा देना',\n",
              " 'स्टॉक के फायदे निश्चित भुगतान हैं जो नियमित अंतराल पर होते हैं',\n",
              " 'जल में घुलनशील ठोस उर्वरक',\n",
              " 'मैकमरे परीक्षण के दौरान घुटने के घूमने से उपास्थि में एक आंसू का निदान करने में मदद मिल सकती है',\n",
              " 'किसी भी प्रकार की बीमा योजना के साथ प्रदाताओं को एक राज्य नियामक एजेंसी द्वारा निजी बेरोजगारी बीमा की पेशकश करने के लिए अधिकृत किया जाना चाहिए',\n",
              " 'इंटरस्टीशियल सिस्टिटिस वाले लोग पेल्विक दर्द पेशाब के साथ कठिनाई और मूत्राशय में दर्द का अनुभव करते हैं क्योंकि उनका मूत्राशय भर जाता है या खाली हो जाता है',\n",
              " 'मेगा-ट्रॉपिक्सभ के कक्षा में सात वर्ष सफलतापूर्वक पूर्ण',\n",
              " 'बच्चों में एन्यूरिसिस का उपचार सबसे पहले गैर-औषधि उपायों जैसे कि नमी अलार्म और दिनचर्या बदलने या संज्ञानात्मक चिकित्सा के साथ किया जाता है',\n",
              " 'इन सेवाओं के लिए शुल्क के बारे में पूछते समय आपको सामान्य बैंकिंग शुल्क पर भी जांच करनी चाहिए क्योंकि ये बैंक के आधार पर मुफ्त में काफी भिन्न हो सकते हैं',\n",
              " 'यह गले में खराश पैदा होती है जब पेट के एसिड और पाचन रस शरीर के ऊतकों में दूर खाते हैं',\n",
              " 'पी के डी में यदि सिस्ट का आकार बहुत छोटा हो तो सोनोग्राफी से यह पकड़ में नहीं आती है',\n",
              " 'तरलता अनुपात जिसे कार्यशील पूंजी अनुपात के रूप में भी जाना जाता है वर्तमान व्यावसायिक परिसंपत्तियों और वर्तमान देनदारियों के बीच संबंध निर्धारित करता है',\n",
              " 'अनीमिया के अपने लक्षण हैं जिनमें तालू थकान और सांस फूलने की भावना शामिल है',\n",
              " 'क्योंकि अप्लास्टिक एनीमिया इतना दुर्लभ है कई रोगियों को इसके बारे में तब तक पता नहीं चलता है जब तक उनका निदान नहीं हो जाता है',\n",
              " 'कथन आम तौर पर सारांश होते हैं जिनमें प्रत्येक आय लेनदेन का केवल प्रमुख विवरण शामिल होता है',\n",
              " 'राज्य में बढ़ती जनसंख्या के दबाव एवं उसके अनुरूप रोजगार सृजन न हो पाने के कारण वन संपदा का ह्रास भी तीव्र गति से हो रहा है',\n",
              " 'प्रत्येक मुद्दे में व्यावसायिक दुनिया में व्यक्तियों की प्रोफाइल और कथाएं शामिल हैं उनकी नई परियोजनाएं पुरानी परियोजनाएं अनुभव और इतिहास',\n",
              " 'साथ ही अन्य विभाग उद्यानिकी एवं खाद्य प्रसंस्करण पशुपालन मत्स्य पालन को भी संबद्ध किया गया है',\n",
              " 'जबकि तनाव सामान्य रूप से शरीर के लिए खराब है यह सीधे अल्सर के गठन की ओर नहीं जाता है',\n",
              " 'कुछ देशों में पुनर्वसन ऋण कार्यक्रम सरकारी एजेंसियों के माध्यम से उपलब्ध होते हैं जो पड़ोस के पुनरुद्धार के लिए लक्षित होते हैं',\n",
              " 'मनुष्यों में एंटीबायोटिक दवाओं के सहारे कुछ हद तक इस रोग के चिकित्सा में सफलता पायी गयी है',\n",
              " 'डेरीवेटिव बाजारों में भाग लेने वालों को तीन श्रेणियों में अलग किया जा सकता है',\n",
              " 'परंतु रिजर्व बैंक किसी मामले में ऐसी विवरणियों के दिए जाने के लिए तीन मास की उक्त अवधि को इतनी अतिरिक्त अवधि के लिए बढ़ा सकेगा जो तीन मास से अधिक न हो',\n",
              " 'ऊर्जा फर्म एनरॉन के पतन में इसकी भूमिका के बाद आर्थर एंडरसन पर आरोप लगाया गया था',\n",
              " 'ऐसी किसी सूची के स्थिरीकरण के समय उच्च न्यायालय प्रत्येक ऋणी द्वारा देय रकम के संदाय के लिए आदेश देगा तथा दावा किए गए अनुतोष के बारे में जिसके अंतर्गत किसी प्रत्याभूतिदाता के विरुद्ध अथवा किसी प्रत्याभूति की वसूली के बारे में अनुतोष भी है ऐसे अतिरिक्त आदेश देगा जैसे आवश्यक हों',\n",
              " 'दर्द पेट क्षेत्र में कहीं भी दिखाई दे सकता है लेकिन आमतौर पर पेट के निचले हिस्से में महसूस किया जाता है',\n",
              " 'विटामिन डी और मल्टीपल स्केलेरोसिस के बीच एक अन्य लिंक में शोध से पता चला है कि विटामिन डी की कमी से प्रतिरक्षा प्रणाली खराब होती है',\n",
              " 'किसी मरीज में अगर किडनी संपूर्णरूप से खराब हो गई हो तो ऐसी किडनी को ऑपरेशन द्वारा निकाल दिया जाता है',\n",
              " 'सामान्य तौर पर ध्यान केंद्रित करने वाला व्यक्ति गतिविधि को रोकना नहीं चाहता है और इसलिए गतिविधि को दूर करने के लिए आवश्यक नियंत्रण का उपयोग नहीं करता है',\n",
              " 'अक्षय ऊर्जा परियोजनाएं अक्सर पूंजी-गहन उपक्रम होती हैं क्योंकि जमीन के साथ-साथ तकनीक और उपकरण भी शुरू करने की जरूरत होती है',\n",
              " 'योजना क्रियान्वयन का 50 प्रतिशत राज्य शासन एवं 50 प्रतिशत केन्द्र शासन द्वारा व्यय वहन किया जाता है',\n",
              " 'एक बार शेष राशि निकल जाने के बाद आप उस क्रेडिट कार्ड के लिए वित्त शुल्क का भुगतान नहीं करते हैं',\n",
              " 'यदि ग्राहक एक दंत टैटू चाहता है तो मोल्ड को एक प्रयोगशाला में भेजा जा सकता है जो ऐसी चीजों में माहिर है और एक कुशल कलाकार आमतौर पर टैटू का काम करता है ध्यान से सील होने से पहले दांत पर एक लघु डिजाइन को ध्यान से चित्रित करता है',\n",
              " 'ऑप्टोमेट्रिस्ट द्वारा उपयोग किया जाने वाला मुख्य परीक्षा उपकरण ऑप्टाल्मोस्कोप है',\n",
              " 'लीची की खेती हल्की अम्लीय एवं लेटराइट मिट्टी में भी सफलतापूर्वक की जा रही है',\n",
              " 'एक स्पाइनल टैप में स्पाइनल कैनाल से सुई के साथ स्पाइनल फ्लूड को ड्रॉ करना शामिल है',\n",
              " 'खेती में रासायनिक उर्वरकों का उपयोग न सिर्फ पर्यावरण को बल्कि किसानों को भी प्रभावित करता है',\n",
              " 'आवाजें सुनना और गुस्से में आना',\n",
              " 'बच्चे को पानी से नहीं नहलाना चाहिए',\n",
              " 'यह दस्तावेज़ खरीदार को भी बचाता है क्योंकि उसे माल के लिए पूर्व भुगतान नहीं करना पड़ता है जब तक कि यह पुष्टि न हो जाए कि माल वास्तव में भेज दिया गया है',\n",
              " 'आम्रपाली नियमित रूप से फलने वाली बौनी प्रजाति है',\n",
              " 'एक हामीदारी स्थिति में एक व्यवसाय वास्तव में सार्वजनिक निवेशकों को सीधे आम स्टॉक नहीं बेचता है',\n",
              " 'हालांकि आग लगने पर वे बेहद उपयोगी हो सकते हैं',\n",
              " 'इस परिदृश्य में धान-गेहूँ-मूंग फसल प्रणाली को संरक्षण खेती के सिद्धांतों को ध्यान में रखते हुये लगाया गया जिसमें सभी फसलों को जीरो-टिलेज के तहत उगाया जाता है',\n",
              " 'ऐसा करने से बढ़ती लागतों के लिए अस्पष्ट संदर्भ प्राप्त करने और नए मूल्य निर्धारण के आसन्न कार्यान्वयन की घोषणा को कम करने में मदद मिलेगी',\n",
              " 'इस योजनान्तर्गत भारत सरकार के नये दिशा-निर्देश के आलोक में नवीनतम प्रभेद के बीज की पहुँच ग्रामीण क्षेत्रों में करने हेतु धान एवं गेहूँ के 10 वर्षों से कम अवधि के प्रभेद के बीज पर अनुदान अनुमान्य किया गया है जबकि दलहन एव तेलहन फसलों हेतु 15 वर्षों से कम अवधि के प्रभेद के बीज पर अनुदान अनुमान्य किया गया है',\n",
              " 'दक्षिण भारतीय परिस्थितियों में जहां मानसून की शुरुआत जल्दी होती है इसके रोपण का समय फरवरी-अप्रैल है',\n",
              " 'यदि कोई शुद्ध लाभ है जो कि भुगतान की गई राशि है किसी अन्य अनुबंध सीमाओं के अधीन है',\n",
              " 'यह द्वितीयक बाजार की तुलना में बहुत कम सक्रिय बाजार है जहां निवेशक उन कंपनियों में व्यापार करते हैं जो पहले से ही सार्वजनिक रूप से आयोजित की जाती हैं',\n",
              " 'हालांकि फागोफोबियास एनोरेक्सिक के विकृत शरीर की छवि से ग्रस्त नहीं है और खाने के लिए नहीं चुनते हैं',\n",
              " 'इसलिए सभी हरी पत्तीदार सब्जियों को दूषित होने से रोकने के लिए उन्हें अच्छी तरह से पानी से धोना चाहिए ताकि अतिसार से बचा जा सके',\n",
              " 'रोगी को अस्पताल से रिहा करने के बाद चिकित्सा कर्मचारी स्व-देखभाल पर विस्तृत निर्देश प्रदान करेंगे',\n",
              " 'इन ट्यूमर को एक असंबद्ध चिकित्सा स्थिति के लिए एक परीक्षा के दौरान सबसे अधिक पहचाना जाता है हालांकि वे कभी-कभी लक्षणों का कारण बनते हैं जिसके कारण लक्षणों की वजह तलाशते हुए डॉक्टर उन्हें पहचानते हैं',\n",
              " 'अन्य शारीरिक दुष्प्रभावों में पीलिया स्तन कोमलता या वृद्धि और बालों का झड़ना शामिल हो सकता है',\n",
              " 'उदाहरण के लिए यदि बेचा गया स्टॉक लंबी दूरी की सेवा प्रदाता के साथ जुड़ा हुआ था तो निवेशक एक कॉन्फ्रेंस ब्यूरो में शेयर खरीदकर स्टॉक को बदलने का विकल्प चुन सकता है',\n",
              " 'मसूड़ों में उन्नत मसूड़ों की बीमारी भी हो सकती है',\n",
              " 'ये क्रिस्टल वैध रूप से विभिन्न उत्पादों में बेचे और उपयोग किए जाते हैं',\n",
              " 'वार्षिकी जारी करने वाली फर्म आम तौर पर खाताधारक को एक निर्दिष्ट भविष्य की तारीख पर एकमुश्त पैसा देने के लिए सहमत होती है',\n",
              " 'कैलाश चौधरी बताते हैं कि प्रोसेसिंग के लिए हम तैयार तो हो गए लेकिन जब तक पूरी तरह से ट्रेनिंग न ली गई हो उसकी सफलता पर सवाल खड़ा होता है',\n",
              " 'दलहनों में अन्य फसलों की तुलना में विपरीत वातावरण के प्रति अधिक अनुकूलता पाई जाती है',\n",
              " 'वास्तव में कुछ न्यायालयों को एक मकान मालिक को ब्याज-असर वाले खाते में पैसा लगाने की आवश्यकता होती है',\n",
              " 'आधुनिक समय में बड़ी मात्रा में मुद्रा धारण करने के विकल्प के रूप में सोना अधिक माना जाता है',\n",
              " 'अस्पताल आधारित पद्धति के बावजूद बहुत बड़े – बड़े अस्पतालों और नर्सिंग होमों के अपने रक्त बैंक नहीं है और इससे अकेले प्राइवेट रक्त बैंकों का प्रचुरोद्भाव हुआ है',\n",
              " 'जब रक्त में कार्बन डाइऑक्साइड का स्तर सामान्य से अधिक बढ़ जाता है तो इससे शरीर का पीएच बदल जाता है जिससे यह सामान्य से कम और अधिक अम्लीय हो जाता है',\n",
              " 'मिट्टी को बदलने के लिए डिस्क हैरो से आवधिक खेती करना और गहरी परतो में पोषक तत्वों को देना आवश्यक है',\n",
              " 'बहुत अधिक विविधीकरण से निवेश पर ध्यान देना मुश्किल हो सकता है जिससे निवेश में त्रुटियां हो सकती हैं जो कि बड़े पैसे खर्च कर सकती हैं',\n",
              " 'कई निवेशक मिड-कैप पसंद करते हैं क्योंकि उनके पास लंबे समय से स्थापित बड़े-कैप की तुलना में ऊपर की ओर बढ़ने की अधिक संभावना है',\n",
              " 'जब एक कंपनी उच्च नकदी संतुलन बनाए रखने या पूंजीगत उपकरणों में लाभ को पुनर्निवेश करने का फैसला करती है तो उच्च बिक्री की मात्रा वर्तमान परिसंपत्तियों को बढ़ा सकती है',\n",
              " 'सिंडिकेट बैंक सिंडिकेट बैंक भारत के सबसे पुराने और प्रमुख वाणिज्यिक बैंकों में से एक है जिसका मुख्यालय मणिपाल शहर के विश्वविद्यालय में है',\n",
              " 'सर्कुलेशन फैक्टर सहित कुल वर्गाकार फुटेज का अनुमान लगाना संभव है एक साधारण फार्मूले के साथ प्रयोग करने योग्य वर्गाकार फुटेज को 1.35 से गुणा करना',\n",
              " 'अंतर्निहित चिकित्सा समस्याओं के लिए उपचार प्रदान करना महत्वपूर्ण है या रक्तस्राव पुनरावृत्ति हो सकता है और आंख से समझौता किया जा सकता है',\n",
              " ...]"
            ]
          },
          "metadata": {},
          "execution_count": 109
        }
      ]
    },
    {
      "cell_type": "code",
      "source": [
        "corpus2=list(final_data1.values())"
      ],
      "metadata": {
        "id": "sk_fE1X22l9G"
      },
      "execution_count": null,
      "outputs": []
    },
    {
      "cell_type": "code",
      "source": [
        "corpus2"
      ],
      "metadata": {
        "colab": {
          "base_uri": "https://localhost:8080/"
        },
        "id": "lePIDwQA2usj",
        "outputId": "25e0a149-3ca0-4942-a616-947cbdf326b8"
      },
      "execution_count": null,
      "outputs": [
        {
          "output_type": "execute_result",
          "data": {
            "text/plain": [
              "['चरागाह चराई के लिए इस्तेमाल किया भूमि है.',\n",
              " 'संकीर्ण अर्थ में चरागाह भूमि खेतों की भूमि के संलग्न इलाके हैं, जो पशुधन, मवेशी, भेड़ या स्वाइन जैसे पालतू जानवरों द्वारा चराई जाती हैं.',\n",
              " 'टेंडेड चरागाह, फोरेज की वनस्पति, मुख्य रूप से घास के होते हैं, जिसमें फलियां और अन्य फोर्ब्स का अंतर होता है.',\n",
              " 'व्यापक अर्थ में चरागाह में अतिरिक्त रूप से रेंजेलैंड, अन्य अनन्य पादरी प्रणालियों, और जंगली जानवरों द्वारा चराई या ब्राउज़िंग के लिए उपयोग किए जाने वाले भूमि प्रकार शामिल हैं.',\n",
              " 'संकीर्ण भावनाओं में चरागाह भूमि को बीजिंग, सिंचाई, और उर्वरकों के उपयोग के अधिक गहन कृषि प्रथाओं के माध्यम से प्रबंधित किया जा रहा है, जबकि रेंजेलैंड मुख्य रूप से देशी वनस्पति विकसित करते हैं, जो नियंत्रित जलने और चराई के विनियमित तीव्रता जैसे व्यापक प्रथाओं के साथ प्रबंधित होते हैं.',\n",
              " 'मृदा प्रबंधन, मृदा प्रबंधन में न्यूनतम वार्षिक तापमान, और वर्षा महत्वपूर्ण कारक हैं.',\n",
              " 'भेड़ का बच्चा घास के मैदान का एक क्षेत्र है जहां भेड़ें स्वतंत्र रूप से घूम सकती हैं.',\n",
              " 'यह अंतर्निहित चट्टान पर, अन्य चीजों के साथ निर्भर है.',\n",
              " 'शीपवॉक काउंटी रोज़ॉमॉन, आयरलैंड और उत्तरी आयरलैंड के काउंटी फर्मनाघ में शहरों के नाम भी हैं.',\n",
              " 'जब तक फैक्ट्री खेती नहीं होती है, जो अपने सबसे गहन रूप में पूरी तरह से खाती है, पूरी तरह से खराब भोजन, प्रबंधित या अप्रबंधित चरागाह रोमिनेंट्स के लिए मुख्य खाद्य स्रोत है.',\n",
              " 'पशुधन भोजन पशुधन खेती पर हावी है जहां जमीन फसल बुवाई और / या कटाई मुश्किल बनाती है, जैसे कि शुष्क या पहाड़ी क्षेत्रों में, जहां ऊंट, बकरी, एंटीलोप, याक और अन्य रोमिनेंट्स रहते हैं जो अधिक शत्रुतापूर्ण इलाके के लिए उपयुक्त होते हैं और बहुत शायद ही कभी खेती की खेती.',\n",
              " 'अधिक आर्द्र क्षेत्रों में, चरागाह चराई मुक्त क्षेत्र और जैविक खेती के लिए एक बड़े वैश्विक क्षेत्र में प्रबंधित किया जाता है.',\n",
              " 'कुछ प्रकार के चरागाह सूट, विशेष जानवरों के आहार, विकास और चयापचय के अनुरूप हैं, और भूमि के उनके उर्वरक और झुकाव पीढ़ियों से अधिक हो सकते हैं जिसके परिणामस्वरूप रोशनी के साथ संयुक्त रूप से एक विशेष पारिस्थितिक तंत्र के अभिन्न अंग के साथ चिपकने वाला चरागाह होता है.',\n",
              " 'पशुधन प्रजनन द्वारा किए गए बहुत से ग्रामीनिया और लेगुमिनियाए जंगली घासों को पसंद करते हैं.',\n",
              " 'आम तौर पर बारहमासी घास चरागाह, घास के मैदान, प्रथम श्रेणी चरागाह अपलैंड फसलों और धान क्षेत्र फसलों के लिए उपयुक्त है.',\n",
              " 'चावल परिवार चडनी सूडान घास, इतालवी राइग्रास, बगीचे घास, टिमोथी, रोड्स घास, बरमूडा घास, जैसे केंटकी ब्लूग्रास , लेग्यूम चरागाह क्लोवर, कोमोनबेट्ची, अल्फाल्फा और रेंग्सौ चरागाह.',\n",
              " ' फसल फसल संबंधित आइटम ग्राज़िंग.',\n",
              " 'उपयोग का इतिहास पुराना है, हड्डियों से जुड़ी एक पत्थर ब्लेड वाला एक सिकल पश्चिम एशिया की नियोलिथिक कृषि स्थल में पाया गया था, और चीन में योंगसन संस्कृति , यिन के अवशेषों में पत्थर के सिकल और शेलफिश हैं.',\n",
              " 'राज्य युग के युद्ध के लिए बच्चों और लौह कैंची के लिए कांस्य कांटा.',\n",
              " 'जापान में एक पत्थर चाकू है, जो ययॉय युग के पत्थर के सिकल से मेल खाता है, प्राचीन मकबरे के युग को आज के आकार के करीब लौह सिकल की खोज की गई है.',\n",
              " 'जापान का सिकल मोटे तौर पर एक आरे ब्लेड में एक आरे और एक फ्लैट ब्लेड के ब्लेड में बांटा गया है, और बाद में सबसे अधिक भाग के लिए खाते हैं.',\n",
              " 'आकार से, एक सिकल, एक सिकल और एक किक के भेद होते हैं, लेकिन ब्लेड की मोटाई से इसे एक पतले सिकल, एक मध्यम मोटी बीमार और मोटी सिकल में विभाजित किया जाता है.',\n",
              " 'मध्य मोटी सिकल को शिबा कोडल कहा जाता है और मोटी सिकल को लकड़ी की सिकल कहा जाता है, जिसका उपयोग क्रमशः आर्चिस और वृक्ष शाखाओं के लिए किया जाता है.',\n",
              " 'पूर्व अनाज के लिए है, उत्तरार्द्ध घास के लिए घास के लिए.',\n",
              " 'क्रस्टेशियन समूह को आमतौर पर उप-मंडल मैंडिबुलता के तहत एक वर्ग के रूप में माना जाता है और हाल ही में आणविक अध्ययनों के कारण अब यह अच्छी तरह से स्वीकार किया जाता है कि क्रस्टेशियन समूह पैराफिलेलेटिक है, और हेक्सापोड्स के अलावा अन्य सभी पैनक्रिस्टेसिस क्लैड में सभी जानवर शामिल हैं.',\n",
              " 'कुछ क्रस्टेशियन कीटों और अन्य हेक्सापोड्स से अधिक निकटता से संबंधित होते हैं, क्योंकि वे कुछ अन्य क्रस्टेशियन हैं.',\n",
              " 'अन्य आर्थ्रोपोड्स की तरह, क्रस्टेशियंस में एक एक्सोस्केलेटन होता है, जिसे वे बढ़ने के लिए मोल्ट करते हैं.',\n",
              " 'अधिकांश क्रस्टेशियन मुक्त रहने वाले जलीय जानवर हैं, लेकिन कुछ स्थलीय हैं, कुछ परजीवी हैं और कुछ सेसाइल हैं.',\n",
              " 'समूह का एक व्यापक जीवाश्म रिकॉर्ड है, जो वापस कैंब्रियन तक पहुंचता है, और इसमें जीवित जीवाश्म जैसे कि ट्रूप्स कैन्क्रिफ़ॉर्मिस शामिल हैं , जो ट्रायसिक काल के बाद से अपरिवर्तित रूप से अस्तित्व में है.',\n",
              " 'प्रति वर्ष 7.9 मिलियन टन से अधिक क्रस्टेशियन का उत्पादन मानव उपभोग के लिए मत्स्य पालन या खेती द्वारा किया जाता है, इसका अधिकांश हिस्सा झींगा और झींगे हैं.',\n",
              " 'क्रिल और कोपपोड व्यापक रूप से मछली नहीं हैं, लेकिन ग्रह पर सबसे बड़े बायोमास वाले जानवर हो सकते हैं, और खाद्य श्रृंखला का एक महत्वपूर्ण हिस्सा बन सकते हैं.',\n",
              " 'क्रस्टेशियंस के वैज्ञानिक अध्ययन को कार्सिनोलॉजी के रूप में जाना जाता है, और एक वैज्ञानिक जो कार्सिनोलॉजी में काम करता है, एक कार्सिनोलॉजिस्ट है.',\n",
              " 'जानवरों का एक समूह जो कि फेलुम क्रस्टेशिया के क्रस्टेशिया का निर्माण करता है, जो मूल रूप से पानी में रहता है और गलफड़ सांस लेता है.',\n",
              " 'यद्यपि लगभग 50,000 प्रजातियां हैं, उनमें से ज्यादातर समुद्री प्रजातियां हैं, और वे कीटों और अरचिन्ड्स के साथ आर्थ्रोपोड्स का मुख्य हिस्सा बनाते हैं जो मुख्य रूप से जमीन पर रहते हैं और श्वासनली के माध्यम से हवा में सांस लेते हैं.',\n",
              " 'वितरण में सभी हाइड्रोसफ़ेर्स शामिल हैं, और आकृति विज्ञान और पारिस्थितिकी में काफी विविधता है.',\n",
              " 'रूप और कार्य शरीर को आम तौर पर तीन भागों में विभाजित किया जाता है, सिर, छाती और पेट, या सेफलोथोरैक्स और पेट, जिनमें से प्रत्येक का खंड होता है.',\n",
              " 'प्रोटोटाइप यह है कि प्रत्येक नोड में द्विभाजित उपांगों की एक जोड़ी होती है, लेकिन साइट और फ़ंक्शन के अनुसार उपांगों को विभेदित किया जाता है.',\n",
              " 'सिर उपांग 5 जोड़े 1 और 2 के एंटीना, अनिवार्य, 1 और 2 छोटे जबड़े हैं, और छाती उपांग 1 से 3 जबड़े पैर, पहली से 5 वीं तैराकी पैर या चलने वाले पैरों के 8 जोड़े हैं.',\n",
              " 'रासायनिक उत्तेजनाओं पर पहला एंटीना कार्य करता है और अक्सर एक संतुलन होता है.',\n",
              " 'दूसरा एंटीना मूल स्पर्श संवेदना के रूप में कार्य करता है, लेकिन इसके आधार पर उत्सर्जन अंग की एंटेना ग्रंथि होती है.',\n",
              " 'बड़े जबड़े और 1 और 2 छोटे जबड़े माउथपीस के रूप में काम करते हैं, और तथाकथित उच्च क्रस्टेशियन जैसे कि झींगा और केकड़े, 1 से 3 जबड़े के पैर भी मुखपत्र में शामिल होते हैं.',\n",
              " 'पेट के पीछे वाले हिस्से को टेल्सन कहा जाता है और इसमें एक खुला गुदा होता है लेकिन कोई उपांग नहीं होता है.',\n",
              " 'जठरांत्र संबंधी मार्ग सीधे चलता है, और मुंह के पीछे मौखिक गुहा , मिडगुट और हिंदगुट में विभाजित होता है.',\n",
              " 'कुछ निचले क्रस्टेशियंस एनेलिड जैसी सीढ़ी की नसों के आकार को बनाए रखते हैं, लेकिन कई मामलों में बाएं और दाएं गैन्ग्लिया पूर्वकाल और पश्चात विलय या ध्यान केंद्रित करते हैं.',\n",
              " 'संचार प्रणाली एक खुली संचार प्रणाली है, और जब इसका दिल नहीं होता है, तो यह शरीर या पाचन तंत्र को व्यायाम करके रक्त प्रवाह का कारण बनता है.',\n",
              " 'अंतःस्रावी ग्रंथियों में साइनस ग्रंथियां शामिल हैं, जो शरीर के रंग में परिवर्तन और पुरुष ग्रंथियों में शामिल हैं, जो माध्यमिक यौन विशेषताओं में शामिल हैं.',\n",
              " 'अधिकांश हेर्मैप्रोडिटिक हैं, लेकिन कुछ हेर्मैप्रोडिटिक हैं.',\n",
              " 'अंडे आम तौर पर नुप्लिअस लार्वा के रूप में हैच करते हैं, लेकिन प्रत्येक समूह के लिए स्वतंत्र लार्वा अजीब बन जाते हैं और एक जटिल कायापलट प्रक्रिया के माध्यम से वयस्क रूप बन जाते हैं.',\n",
              " 'वर्गीकरण पेलोजोइक कैम्ब्रियन के बाद से क्रस्टेशियन जीवाश्मों की खुदाई की गई है, लेकिन आधुनिक लोगों को निम्नलिखित आठ उपवर्गों में वर्गीकृत किया गया है.',\n",
              " 'सेफलोकारिडा सेफालोकारिडा सबसे कम क्रस्टेशियन है, जो इंटरटाइडल क्षेत्र की नरम मिट्टी में रहता है.',\n",
              " '4 उत्पत्ति से 9 प्रजातियां, जापान में उत्पादित सेफलोकारिडा केवल.',\n",
              " 'कुछ में एक अच्छी तरह से विकसित प्रवृत्ति है और कुछ में नहीं है.',\n",
              " 'मुख्य रूप से मीठे पानी डफ़निया वर्ग द्वारा प्रस्तुत.',\n",
              " 'ओस्ट्राकोड सबक्लास ओस्ट्राकोडा लगभग १३,००० प्रजातियाँ, लगभग २/३ मीठे पानी की होती हैं.',\n",
              " 'परजीवी जीवित प्रजातियों में काफी विकृति है.',\n",
              " 'मिस्टोकैरिडा मिस्टेकोकारिडा एक माइक्रोक्रिस्टेसन जिसकी लंबाई लगभग ०.५ मिमी है जो एक छड़ जैसा दिखता है.',\n",
              " 'केवल तीन प्रजातियां भूमध्यसागरीय और चिली तटों के इंटरटाइडल रेत से जानी जाती हैं.',\n",
              " 'मुख्य रूप से मछली की शारीरिक सतह पर ब्रांकिरा ब्रोंचीरा परजीवी तितली मेहरबान.',\n",
              " 'लगभग 150 प्रजातियाँ हैं, जिनमें से अधिकांश मीठे पानी की हैं.',\n",
              " 'शरीर सपाट है और दूसरा मैक्सिला एक चूसने वाले में बदल जाता है.',\n",
              " 'यह चट्टानों और अन्य जानवरों से चिपक जाता है, और 6 जोड़े छाती उपांग के साथ भोजन एकत्र करता है.',\n",
              " 'आकृति विज्ञान और पारिस्थितिकी में कई परिवर्तन हैं, और उनमें से कई खाद्य संसाधनों के रूप में महत्वपूर्ण हैं.',\n",
              " ' ओस्ट्राकोड ब्रांकिओपोड्स गिल की पूंछ कॉप्पोड मैलाकॉस्ट्रैकेन बार्नाकाल मात्सुने तकेदा.',\n",
              " 'यह अन्य आर्थ्रोपोडों के साथ आम है कि शरीर कई शरीर के वर्गों से बना होता है, लेकिन इसमें कैलोरीस युक्त एक्सोस्केलेटन होता है, जिनमें से अधिकांश निर्जीव पानी में रहते हैं, श्वसन गिल या शरीर की सतह पर होता है यह एक विशेषता है.',\n",
              " 'कई चीजें तैराकी या पैदल चल रही हैं, लेकिन कुछ चिपचिपा या परजीवी हैं.',\n",
              " 'संलग्न अंग स्वाभाविक रूप से विभाजित है.',\n",
              " 'संवेदी अंगों के रूप में आदिम चीजें नप्रस आंखें होती हैं, आमतौर पर यौगिक आंखों की एक जोड़ी होती है.',\n",
              " 'रासायनिक पदार्थों पर स्पर्श संवेदना और स्पर्श संवेदना इसके अनुरूप होती है, और कोई श्रवण अंग नहीं होता है.',\n",
              " 'वे सभी अंडे हैं, परिवर्तन के बाद वयस्क बन जाते हैं.',\n",
              " 'गिल पैरों के अलावा, खोल पतंग , रेडियल पैर , केनेडा प्रजातियां , बार्नकल्स, कैमेलिया, आई , दस पैर , ऑर्थोडोंटा और अन्य शामिल हैं.',\n",
              " 'गुजरने के दौरान ब्रश करने का कार्य.',\n",
              " 'ग्राजिंग खिलाने का एक तरीका है जिसमें एक जड़ी-बूटियां घास जैसे पौधों, या शैवाल जैसे अन्य बहुकोशिकीय जीवों पर फ़ीड करती हैं.',\n",
              " 'कृषि में, चराई एक विधि है जिसका उपयोग घरेलू पशुधन का उपयोग मांस, दूध और अन्य उत्पादों में घास और अन्य फोरेज को बदलने के लिए किया जाता है.',\n",
              " 'कई छोटे चुनिंदा जड़ी-बूटियों बड़े चरागाहों का पालन करते हैं, जो पौधों की उच्चतम, कठिन वृद्धि को छोड़ देते हैं, निविदात्मक शूटिंग का पर्दाफाश करते हैं.',\n",
              " 'ग्राजिंग परजीवी से अलग है क्योंकि दोनों जीव भौतिक बाह्यता की स्थिर स्थिति में एक साथ रहते हैं.',\n",
              " 'ग्राजर-स्क्रैपर्स विभिन्न सबस्ट्रेट्स पर सूक्ष्मजीवों और मृत जैविक पदार्थों पर भी फ़ीड करते हैं.',\n",
              " 'एक बर्न में पशुधन रखने और इसे घास के मैदान में रखने की एक प्रणाली.',\n",
              " 'यह मुख्य रूप से जापान में मवेशियों में किया जाता है.',\n",
              " 'घास काटने के लिए श्रम की बचत के अलावा, पशुधन घास को बहुत सारे पोषक तत्वों से पकड़ता है, इसलिए यह दूध उपज बढ़ाने और ध्यान बचाने के लिए प्रभावी है.',\n",
              " 'अन्य उचित अभ्यास और सनबाथिंग के अलावा पशुधन स्वास्थ्य के लिए अच्छा होने के फायदे हैं.',\n",
              " 'हालांकि, ऐसे नुकसान हैं जैसे घास के स्थानों को हराया जाना और सूजन करना प्रवण होता है, इसलिए उचित प्रबंधन आवश्यक है.',\n",
              " 'सालगिरह चराई और झुकाव चरागाह चरागाह मौजूद है.',\n",
              " ' माकी / मकिहाता / चरागाह संबंधित आइटम पशुधन.',\n",
              " 'परागण एजेंट एजेंट हैं जैसे कि कीड़े, पक्षियों और चमगादड़; पानी; हवा; और यहां तक कि पौधों को भी, जब एक बंद फूल के भीतर आत्म परागण होता है.',\n",
              " 'जब प्रजातियों के बीच परागण होता है तो यह प्रकृति में और पौधे प्रजनन कार्य में संकर संतान पैदा कर सकता है.',\n",
              " 'एंजियोस्पर्म में, पराग अनाज कलंक पर उतरा है, यह एक पराग ट्यूब विकसित करता है जो तब तक शैली को उगता है जब तक वह अंडाशय तक नहीं पहुंच जाता.',\n",
              " 'पराग अनाज से शुक्राणु कोशिकाएं तब पराग ट्यूब के साथ चली जाती हैं, माइक्रोवॉइल के माध्यम से एक अंडाम कोशिका दर्ज करती हैं और इसे उर्वरक बनाती हैं, जिसके परिणामस्वरूप बीज का उत्पादन होता है.',\n",
              " 'नर गैमेट्स युक्त एक सफल एंजियोस्पर्म पराग अनाज को कलंक में ले जाया जाता है, जहां यह अंकुरित होता है और इसकी पराग ट्यूब अंडाशय में शैली को बढ़ाती है.',\n",
              " 'इसके दो गैमेट ट्यूब के नीचे यात्रा करते हैं जहां मादा गैमेट युक्त गैमेटोफेट्स कार्पेल के भीतर रखे जाते हैं.',\n",
              " 'एक नाभिक ध्रुवीय निकायों के साथ एंडोस्पर्म ऊतकों का उत्पादन करने के लिए फ़्यूज़ करता है, और दूसरे भ्रूण का उत्पादन करने के लिए अंडाशय के साथ इसलिए शब्द: \"डबल निषेचन.',\n",
              " 'जिमनोस्पर्म में, अंडाकार एक कार्पेल में निहित नहीं होता है, लेकिन एक शंकु के पैमाने जैसे समर्पित समर्थन अंग की सतह पर उजागर होता है, ताकि कार्पेल ऊतक की पहुंच अनावश्यक हो.',\n",
              " 'प्रक्रिया में विवरण प्रश्न में जिमनोस्पर्म के विभाजन के अनुसार भिन्न होता है.',\n",
              " 'जिमनोस्पर्म में निषेचन के दो मुख्य तरीके पाए जाते हैं.',\n",
              " 'साइकाड्स और जिन्कगो में मस्तिष्क शुक्राणु है जो अंडाकार के अंदर सीधे अंडे में तैरता है, जबकि कनिष्ठ और जीनेटोफाइट्स में शुक्राणु होता है जो तैरने में असमर्थ होते हैं लेकिन पराग ट्यूब के साथ अंडा को व्यक्त किया जाता है.',\n",
              " 'परागण का अध्ययन वनस्पति विज्ञान, बागवानी, एंटोमोलॉजी, और पारिस्थितिकी जैसे कई विषयों को एक साथ लाता है.',\n",
              " 'बागवानी और कृषि में यह महत्वपूर्ण है, क्योंकि फलियां निषेचन पर निर्भर हैं: परागण का परिणाम.',\n",
              " 'बीज पौधों की प्रजनन प्रक्रियाओं में से एक.',\n",
              " 'स्वयं फूल परागण कि एक ही फूल के बाघ और मांस के बीच परागण होता है, उसी व्यक्ति में आत्म-परागण होता है, और अन्य विभिन्न परागण को पार परागण कहा जाता है.',\n",
              " 'कभी-कभी विशिष्ट व्यक्तियों के बीच परागण करते समय कृत्रिम रूप से परागण किया जाता है, लेकिन पराग को स्टैमेन से मांस में, कभी-कभी पक्षियों और पानी आदि से ले जाया जाता है, जिसे पाउडर), जिसे हवा, मध्यम, कीट, माध्यम कहा जाता है और क्रमशः पानी माध्यम.',\n",
              " 'फूल में ट्रांसपोर्टर के लिए उपयुक्त संरचना भी होती है.',\n",
              " 'कश्मीरी शब्द कश्मीर की पुरानी वर्तनी है, जो भारत के उत्तर में भौगोलिक क्षेत्र है.',\n",
              " 'सामान्य उपयोग फाइबर को ऊन के रूप में परिभाषित करता है लेकिन भेड़ के ऊन की तुलना में यह बेहतर और नरम होता है.',\n",
              " 'कुछ कहते हैं कि यह बाल है, लेकिन जैसा कि नीचे देखा गया है, कश्मीरी को ऊन से बाल हटाने की आवश्यकता है.',\n",
              " 'कश्मीरी बेहतर, मजबूत, हल्का, नरम, और भेड़ ऊन की तुलना में लगभग तीन गुना अधिक इन्सुलेटिंग है.',\n",
              " 'संयुक्त राज्य अमेरिका में, 1 9 3 9 के यूएस वूल प्रोडक्ट्स लेबलिंग एक्ट के तहत संशोधित, , कहता है कि ऊन या वस्त्र उत्पाद को केवल कश्मीरी के रूप में लेबल किया जा सकता है यदि निम्नलिखित मानदंड पूरा किया गया है.',\n",
              " 'भारत के कश्मीर क्षेत्र में बकरी के बालों को काटकर बनाया गया बेहतरीन ऊनी कपड़ा.',\n",
              " 'ज्यादातर पैटर्न भारतीय पाइन या हैं पैस्ले बादाम के आकार के पुष्प पैटर्न, और पैस्ले को एक अरबी शैली में व्यवस्थित किया गया.',\n",
              " 'दो प्रकार के कश्मीरी बुनाई हैं: एक बुना हुआ कश्मीरी और एक बुना अखरोट कश्मीरी.',\n",
              " 'इसके अलावा, \"सीना कश्मीरी\" है जो पैटर्न के प्रत्येक भाग को अलग-अलग बुनता है और एक टुकड़ा बनाने के लिए उन्हें एक साथ सिलाई करता है.',\n",
              " 'अधिक परिष्कृत, दरारें जितनी अधिक हो सकती हैं, उतनी ही सिलना भी हो सकता है.',\n",
              " 'उनमें से कुछ इस से अधिक हैं.',\n",
              " 'फिनिश में प्रत्येक भाग के लिए अलग-अलग ग्राउंड रंगों जैसे सिलाई की विशेषताएं हैं.',\n",
              " 'कश्मीरी शॉल में जीवन की गुणवत्ता होती है, और कश्मीर लद्दाख क्षेत्र से बकरी के बाल का उपयोग करता है.',\n",
              " 'विशेष रूप से, पश्मीना नामक एक बकरी, जो सबसे नरम फुलाना के साथ घूमती है, में रेशमी चमक होती है और सबसे बेशकीमती होती है.',\n",
              " 'कश्मीरी शॉल का इतिहास स्पष्ट नहीं है, लेकिन यह मुगल साम्राज्य की 17 वीं और 18 वीं शताब्दी में कम से कम अपने चरम पर है, और 18 वीं शताब्दी की शुरुआत में ईरान के करमान क्षेत्र में कश्मीर के समान तकनीक और डिजाइन है.',\n",
              " '19 वीं शताब्दी की शुरुआत में, इंग्लैंड में नॉर्विच, पैस्ले जैसी जगहों पर जैकर्ड मशीन द्वारा बुने गए नकली सामानों की एक बड़ी मात्रा उपलब्ध हो गई.',\n",
              " 'पैस्ले नाम, जिसके पास आज कश्मीरी बुनाई में सबसे बादाम के आकार का पैटर्न है, उस शहर के नाम से लिया गया है जिसने यूके में कश्मीरी बुनाई का उत्पादन किया था.',\n",
              " 'श्रीनगर से लगभग 50 किलोमीटर दूर क्रैब हामा गाँव में एकमात्र शेष बुनी हुई कश्मीरी तकनीक उतनी विस्तृत और श्रेष्ठ नहीं है जितनी एक बार थी.',\n",
              " 'हालांकि, यह अत्यंत मूल्यवान है कि यह पारंपरिक वर्तनी तकनीकों का अनुसरण करता है.',\n",
              " 'आज, न केवल तिब्बत, मध्य एशिया और ईरान में रहने वाले बकरियों को, बल्कि कश्मीरी टवील में बुने गए सभी ऊनी कपड़ों को कश्मीरी बुनाई कहा जाता है और उनका उपयोग लक्जरी कपड़े और मफलर के लिए किया जाता है.',\n",
              " 'प्रारंभिक रूप से उत्पादित होने के रूप में प्राकृतिक रबर , जिसे भारत रबड़ या कैउथचौक भी कहा जाता है , कार्बनिक यौगिक आइसोप्रीन के बहुलक होते हैं, जिसमें अन्य कार्बनिक यौगिकों के साथ-साथ पानी की मामूली अशुद्धता होती है.',\n",
              " 'मलेशिया और इंडोनेशिया प्रमुख रबर उत्पादकों में से दो हैं.',\n",
              " 'पॉलीसोप्रीन के रूपों का उपयोग प्राकृतिक रबर के रूप में किया जाता है जिन्हें एलिस्टोमर के रूप में वर्गीकृत किया जाता है.',\n",
              " 'लेटेक्स छाल में चीजें बनाकर और टैपिंग नामक प्रक्रिया में जहाजों में तरल पदार्थ एकत्र करके एक चिपचिपा, दूधिया कोलाइड खींचा जाता है.',\n",
              " 'लेटेक्स को वाणिज्यिक प्रसंस्करण के लिए तैयार रबड़ में परिष्कृत किया जाता है.',\n",
              " 'कोगलेटेड गांठों को विपणन के लिए शुष्क रूपों में एकत्रित और संसाधित किया जाता है.',\n",
              " 'प्राकृतिक रबर का उपयोग कई अनुप्रयोगों और उत्पादों में बड़े पैमाने पर किया जाता है, या तो अकेले या अन्य सामग्रियों के संयोजन में.',\n",
              " 'इसके अधिकांश उपयोगी रूपों में, इसका एक बड़ा खिंचाव अनुपात और उच्च लचीलापन होता है, और यह बेहद निविड़ अंधकार है.',\n",
              " 'प्राकृतिक रबड़ का कच्चा रबड़ औद्योगिक रूप से एसिटिक एसिड के साथ लेटेक्स को संकलित करता है, इसमें धूम्रपान करके इलाज की जाने वाली भूरे रंग की स्मोक्ड शीट होती है, और एक पीला पीला पीला क्रेप सीधे सूख जाता है.',\n",
              " 'कच्चे रबड़ पानी में अघुलनशील है, लंबे समय तक विसर्जित होने पर लगभग 25% अवशोषित करके सूजन.',\n",
              " 'बेंजीन, क्लोरोफॉर्म, कार्बन डाइसल्फाइड में घुलनशील.',\n",
              " 'यह लगभग प्राकृतिक रबड़ और सिंथेटिक रबड़ में बांटा गया है.',\n",
              " 'कच्चे रबड़ को रबड़ उत्पादों में मास्टिकेशन, विभिन्न कंपाउंडिंग एजेंटों, रोलिंग, मोल्डिंग, वल्कनाइजेशन और फिनिशिंग चरणों के मिश्रण के माध्यम से बनाया जाता है.',\n",
              " 'पैरा गम नोकी दक्षिण अमेरिका के मूल निवासी हैं, लेकिन इसे 1 9 06 से मलय प्रायद्वीप में ट्रांसप्लांट करना शुरू हुआ, मुख्य उत्पादक स्थान मलय प्रायद्वीप में स्थानांतरित हो गया.',\n",
              " 'स्थिर लोचदार रबर का उत्पादन 1839 में संयुक्त राज्य अमेरिका में गुडइयर द्वारा वल्केनाइजेशन विधि के आविष्कार से संभव हो गया, और तब से यह मोटर वाहन टायर, नली और अन्य रबर उत्पादों उद्योगों की वृद्धि देखने के लिए शुरू कर दिया.',\n",
              " ' रबड़ उद्योग संबंधित आइटम कच्चे रबड़.',\n",
              " '18 वीं शताब्दी के उत्तरार्ध में, थ्रेसिंग मशीनीकृत होने से पहले, लगभग एक-चौथाई कृषि श्रम इसे समर्पित था.',\n",
              " 'स्कॉट्समैन एंड्रयू मीकल द्वारा थ्रेसिंग मशीन के आविष्कार के साथ 1786 में थ्रेसिंग का औद्योगिकीकरण शुरू हुआ.',\n",
              " 'आज, विकसित क्षेत्रों में, यह अब ज्यादातर मशीन द्वारा किया जाता है, आमतौर पर एक गठबंधन हारवेस्टर द्वारा, जो उपज, थ्रेस, और अनाज जीतता है, जबकि यह अभी भी क्षेत्र में है.',\n",
              " 'इस तरह के मधुमक्खी कभी-कभी त्यौहार या बड़े फसल त्यौहारों के भीतर घटनाएं होती थीं.',\n",
              " 'आज मूल उद्देश्य काफी हद तक अप्रचलित है, लेकिन त्यौहार परंपरा कुछ आधुनिक उदाहरणों में रहती है जो अतीत को याद करते हैं और पिस्सू बाजार, हॉग कुश्ती और नृत्य शामिल करते हैं.',\n",
              " 'अनाज फसल और बीज शेड करने के लिए.',\n",
              " 'पुराने दिनों में, यह अनाज की हड़ताल पर हमला करने के बाद टूट रहा था, लेकिन उसके बाद यह एक हजार दांत क्रेन बन गया, और फिर बिजली की थ्रेसिंग मशीन एक पैर कदम उठाने वाली अनाज मशीन के माध्यम से सामान्यीकृत हो गई.',\n",
              " 'अनाज के पेडस्टल के बाद से, हजार दांत उपचार, पैर से बाहर निकलने वाली मशीन पीसने वाली मशीन केवल विलुप्त होने के बाद, एक चलनी या सांगवो का उपयोग करके निकलना आवश्यक था.',\n",
              " 'जिप्सम मिट्टी कंडीशनर के रूप में इस्तेमाल किया जा सकता है.',\n",
              " 'संयुक्त राज्य अमेरिका के कृषि विभाग प्राकृतिक संसाधन संरक्षण सेवा के अनुसार, \"मृदा गुणवत्ता प्राकृतिक या प्रबंधित पारिस्थितिक तंत्र सीमाओं के भीतर, पौधे और पशु उत्पादकता को बनाए रखने, पानी और वायु गुणवत्ता को बनाए रखने या बढ़ाने के लिए एक विशिष्ट प्रकार की मिट्टी की कार्य करने की क्षमता है, और मानव स्वास्थ्य और आवास का समर्थन करते हैं.',\n",
              " 'यूरोपीय आयोग के संयुक्त शोध केंद्र ने एक परिभाषा का प्रस्ताव दिया, जिसमें कहा गया है कि \"मृदा गुणवत्ता बदलती स्थितियों के तहत अपने कार्यों को करने के लिए अपनी क्षमताओं के माध्यम से पारिस्थितिक तंत्र और सामाजिक सेवाओं को प्रदान करने की मिट्टी की क्षमता का एक खाता है.',\n",
              " '\" मृदा गुणवत्ता दर्शाती है कि मिट्टी जैव विविधता और उत्पादकता को बनाए रखने, पानी और घुलनशील प्रवाह, फ़िल्टरिंग और बफरिंग, पोषक तत्व साइकलिंग, और पौधों और अन्य संरचनाओं के लिए समर्थन प्रदान करने के कार्यों को कितनी अच्छी तरह से करता है.',\n",
              " 'कृषि शर्तों में मृदा गुणवत्ता जर्मनी में मिट्टी के मूल्य के पैमाने पर मापा जाता है.',\n",
              " 'पानी या हवा के विपरीत, जिसके लिए स्थापित मानकों को स्थापित किया गया है, मिट्टी की गुणवत्ता को परिभाषित करना या मात्रा बनाना मुश्किल है.',\n",
              " 'मृदा गुणवत्ता का आकलन मृदा प्रबंधन आकलन ढांचे का उपयोग करके किया जा सकता है.',\n",
              " 'मिट्टी के सुधार के लिए प्रशासित दवा.',\n",
              " 'अम्लीय मिट्टी के लिए नींबू, वृद्ध धान के खेतों के लिए लौह युक्त पृथ्वी, मिट्टी बेस प्रतिस्थापन क्षमता और रिसाव की रोकथाम बढ़ाने के लिए बेंटोनाइट, और एकत्रीकरण एजेंट के रूप में पॉलीविनाइल अल्कोहल जैसी दवाओं का भी उपयोग किया जाता है.',\n",
              " 'तरल कीटनाशक आवेदन के लिए इस्तेमाल किया उपकरण.',\n",
              " 'मैन्युअल और पावर प्रकार वाले, पोर्टेबल प्रकार और पूर्व में मोबाइल प्रकार, और बाद में स्थिर प्रकार हैं.',\n",
              " 'इसके अलावा, एक प्रकार के उन लोगों को जो तेज हवा से तरल एजेंट को छिड़कते हैं उन्हें धुंध मशीन कहा जाता है.',\n",
              " 'पौधों के विकास के लिए आवश्यक नाइट्रोजन आधारित उर्वरक.',\n",
              " 'यह मिर्च मिर्च के अलावा कच्चे माल के रूप में हवा में नाइट्रोजन का उपयोग करके औद्योगिक रूप से संश्लेषित किया जाता है.',\n",
              " 'अमोनिया पानी जैसे कार्बनिक उर्वरकों में बड़ी मात्रा में नाइट्रोजन, सोयाबीन केक, रैपसीड भोजन और मछली अवशेष शामिल हैं.',\n",
              " 'हरे पौधे नाइट्रोजन एसिड, अमोनिया के रूप में नाइट्रोजन को अवशोषित और आत्मसात करते हैं.',\n",
              " 'पशु फाइबर प्राकृतिक फाइबर होते हैं जिनमें काफी हद तक विशेष प्रोटीन होते हैं.',\n",
              " 'उदाहरण रेशम, बाल / फर और पंख हैं.',\n",
              " 'जानवरों के तंतुओं का निर्माण आमतौर पर विनिर्माण दुनिया में होता है और हाथ से स्पिनर घरेलू भेड़ और रेशम से ऊन होते हैं.',\n",
              " 'अंगोरा बकरियों से अल्पाका फाइबर और मोहर भी बहुत लोकप्रिय हैं.',\n",
              " 'खरगोशों से अंगोरा ऊन और कुत्तों से चींगेंगो जैसे असामान्य फाइबर भी मौजूद हैं, लेकिन बड़े पैमाने पर उत्पादन के लिए शायद ही कभी उपयोग किया जाता है.',\n",
              " 'सभी पशु फाइबरों में समान गुण नहीं होते हैं, और यहां तक कि एक प्रजाति के भीतर फाइबर सुसंगत नहीं है.',\n",
              " 'मेरिनो बहुत नरम, ठीक ऊन है, जबकि कॉट्सवॉल्ड कोरसर है, और फिर भी मेरिनो और कोट्सवॉल्ड दोनों भेड़ के प्रकार हैं.',\n",
              " 'पशु फाइबर, और सामान्य रूप से प्राकृतिक फाइबर के साथ, व्यक्तिगत फाइबर अलग दिखते हैं, जबकि सभी सिंथेटिक फाइबर समान दिखते हैं.',\n",
              " 'मुख्य रूप से कपड़े के लिए प्रयोग किया जाता है.',\n",
              " 'आम तौर पर इस्तेमाल किए जाने वाले स्राव घरेलू रेशम की रस्सी रेशम, रेशम की किरण रेशम, रेशम की रेशम रेशम आदि होते हैं, मुख्य घटक प्रोटीन फाइब्रॉइन होता है.',\n",
              " 'व्यापक रूप से उपयोग किए जाने वाले शरीर के बाल ऊन, बकरी के बाल, मोहर , कश्मीरी बकरी, अल्पाका , ऊंट, खरगोश, बीवर, सुअर बाल आदि हैं, मुख्य घटक प्रोटीन केराटिन है.',\n",
              " 'चूंकि यह बेक्ड होने पर एक अनोखी गंध निकलता है, इसलिए इसे पौधे फाइबर के रूप में प्रतिष्ठित किया जाता है, इसमें उच्च गर्मी प्रतिधारण और लोच होती है.',\n",
              " 'कताई मशीन जो खींचती है, मोड़ती है, और हवाएं यार्न.',\n",
              " 'कताई जेनी एक बहु-स्पिंडल कताई फ्रेम है, और प्रारंभिक औद्योगिक क्रांति के दौरान बुनाई के औद्योगीकरण में महत्वपूर्ण घटनाओं में से एक था.',\n",
              " '1764 में इंग्लैंड में लंकाशायर, ओस्वाल्डटविस्टल, स्टेनहिल में जेम्स हरग्रेव्स ने इसका आविष्कार किया था.',\n",
              " 'डिवाइस ने कपड़े बनाने के लिए आवश्यक काम की मात्रा को कम कर दिया, एक कर्मचारी एक बार में आठ या अधिक स्पूल काम करने में सक्षम था.',\n",
              " \"जेनी द्वारा उत्पादित धागा बहुत मजबूत नहीं था जब तक रिचर्ड आर्क्राइट ने पानी से चलने वाले 'पानी के फ्रेम' का आविष्कार नहीं किया, जिसने प्रारंभिक कताई जेनी की तुलना में यार्न को कड़ी मेहनत और मजबूत बनाया.\",\n",
              " 'इसने फैक्ट्री सिस्टम शुरू किया.',\n",
              " 'ड्राफ्ट रोलर्स के 4 और 6 जोड़े के बीच किए जाते हैं, लेकिन कई प्रकार के घुमावदार तंत्र होते हैं, और ऐसे मतभेदों के कारण, फ्लायर कताई मशीन के प्रकार, खंभे कताई मशीन, टोपी कताई मशीन, अंगूठी कताई मशीन , वायु कताई मशीन इत्यादि.',\n",
              " 'एक यात्री कार जहां पारगमन में भोजन परोसा जाता है.',\n",
              " 'ऐसी जगह जहां भोजन जरूरतमंदों को पहुंचाया जाता है.',\n",
              " 'चिटिन एन , एन- एसिटाइलग्लुकोसामाइन का एक लंबी श्रृंखला बहुलक, ग्लूकोज का व्युत्पन्न है.',\n",
              " 'यह कवक में सेल दीवारों का एक प्रमुख घटक है, आर्थ्रोपोड्स के एक्सोस्केलेट्स, जैसे क्रस्टेसियन और कीड़े, मॉलसैक्स का रेडुला, सेफलोपॉड बीक, और मछली और लिसाम्फिबियन के तराजू.',\n",
              " 'कार्य के संदर्भ में, इसकी तुलना प्रोटीन केराटिन से की जा सकती है.',\n",
              " 'कई औषधीय, औद्योगिक और जैव प्रौद्योगिकी उद्देश्यों के लिए चिटिन उपयोगी साबित हुआ है.',\n",
              " 'कीड़े और मोलस्क के बाहरी गोले में मौजूद पॉलीसेकेराइड.',\n",
              " 'एन- एसेटाइलग्लुकोसमाइन में एक 1,-1,4-बंधुआ संरचना होती है, और यूरिडिन डिपहॉस्फेट- एन- एसिटाइलग्लुकोसामाइन एक चिटिन सिंटेज़ द्वारा पॉलिमराइज़ किया जाता है.',\n",
              " 'चिटिन एक स्थिर पदार्थ है, लेकिन यह मजबूत एसिड और मजबूत क्षार द्वारा विघटित होता है.',\n",
              " 'यद्यपि कीड़ों के बाहरी खोल को कभी-कभी चिटिन के रूप में जाना जाता है, यह रासायनिक रूप से केवल चिटिन ही नहीं बल्कि कठोर प्रोटीन आदि भी होता है.',\n",
              " 'टिकाऊ और लचीला दोनों, मोहर अपने उच्च चमक और शीन के लिए उल्लेखनीय है, जिसने इसे \"डायमंड फाइबर\" उपनाम प्राप्त करने में मदद की है, और अक्सर इन गुणों को कपड़ा में जोड़ने के लिए फाइबर मिश्रणों में प्रयोग किया जाता है.',\n",
              " 'मोहायर असाधारण रूप से अच्छी तरह से डाई लेता है.',\n",
              " 'मोहरियर सर्दी में गर्म है क्योंकि इसमें उत्कृष्ट इन्सुलेट गुण हैं, जबकि गर्मी में ठंडी रहती है क्योंकि इसकी नमी की कीमतें निकलती हैं.',\n",
              " 'इसे एक लक्जरी फाइबर माना जाता है, जैसे कश्मीरी, एंगोरा और रेशम, और आम तौर पर भेड़ द्वारा उत्पादित अधिकांश ऊन की तुलना में अधिक महंगा होता है.',\n",
              " 'मोहरर ज्यादातर केराटिन, बालों, ऊन, सींग और सभी स्तनधारियों की त्वचा में पाए जाने वाले प्रोटीन से बना है, लेकिन यह विशेष गुण अंगोरा बकरी के लिए अद्वितीय हैं.',\n",
              " 'हालांकि यह ऊन की तरह तराजू है, तराजू पूरी तरह से विकसित नहीं हैं, केवल संकेत दिया.',\n",
              " 'इस प्रकार, मोहर को ऊन के रूप में महसूस नहीं होता है.',\n",
              " 'मोहर फाइबर व्यास में लगभग 25-45 माइक्रोन है.',\n",
              " 'छोटे जानवरों के अच्छे बाल कपड़ों जैसे बेहतर अनुप्रयोगों के लिए उपयोग किए जाते हैं, और पुराने जानवरों के मोटे बाल अक्सर कार्पेट और बाहरी वस्त्रों के लिए भारी कपड़े के लिए उपयोग किए जाते हैं.',\n",
              " 'मोहायर शब्द को कभी-कभी परिवर्तनीय कारों पर तह छत के लिए उपयोग की जाने वाली सामग्री का वर्णन करने के लिए प्रयोग किया जाता है.',\n",
              " 'इस उदाहरण में, मोहर डेनिम-कैनवास के रूप में संदर्भित करता है.',\n",
              " 'मोहर को एंगोरा खरगोश से फर के साथ भ्रमित नहीं किया जाना चाहिए, जिसे एंगोरा ऊन कहा जाता है.',\n",
              " 'फाइबर लंबे और थोड़ा मोटे कठोर और सिकुड़ने में मुश्किल होते हैं, लेकिन वे चमकदार और गर्मी प्रतिधारण में समृद्ध होते हैं.',\n",
              " 'धागे धागे के लिए धागे और मोहर के लिए कपास या कृत्रिम थ्रेड का उपयोग करके बुना हुआ कपड़ा बुना हुआ कपड़ा तंग है और गर्मी के कपड़ों की जगह है.',\n",
              " 'जूट बहु उपयोगी फसलों में से एक है.',\n",
              " 'इसका इस्तेमाल हरा चारा, हरी खाद और रस्सी जैसे विभिन्न वस्तुओं के निर्माण के लिए किया जाता है.',\n",
              " 'जूट की खेती से पहले जान लें कुछ प्रमुख किस्में.',\n",
              " 'इन दोनों किस्मों की कई प्रजातियां होती हैं.',\n",
              " 'इसकी पत्तियां स्वाद में कड़वी होती हैं.',\n",
              " 'कैपसुलेरिस की प्रजातियां जे. आर. सी. 321 : यह जल्दी तैयार होने वाली प्रजातियों में से एक है.',\n",
              " 'फरवरी - मार्च में इसकी बुवाई कर के जुलाई महीने में इसकी कटाई की जा सकती है.',\n",
              " ' जे. आर. सी. 212 : मार्च - अप्रैल में बुवाई कर के जुलाई महीने में इसकी कटाई कर के फसल प्राप्त कर सकते हैं.',\n",
              " 'इसकी बुवाई मध्य और ऊपरी जमीन में की जाती है.',\n",
              " ' इसकी खेती पूरे भारत में की जा सकती है.',\n",
              " 'मध्य फरवरी से मध्य मार्च तक का समय इसकी खेती के लिए उपयुक्त है.',\n",
              " 'इस किस्म में कैपसुलेरिस से अधिक मात्रा में रेशे पाए जाते हैं.',\n",
              " 'इस किस्म की खेती करने वाले किसान अन्य किस्मों की तुलना में अधिक पैदावार प्राप्त कर सकते हैं.',\n",
              " ' इसकी बुवाई मार्च के तीसरे सप्ताह से ले कर अप्रैल महीने तक की जाती है.',\n",
              " 'बुवाई के करीब 100 दिनों बाद किसान इसकी कटाई कर के फसल प्राप्त कर सकते हैं.',\n",
              " 'अल्पाका दक्षिण अमेरिकी ऊंट की एक प्रजाति है, जो समान रूप से लामा के साथ उलझन में होती है.',\n",
              " 'हालांकि, अल्पाका अक्सर ल्लामा से छोटे होते हैं.',\n",
              " 'अल्पाका की दो नस्लें हैं: सूरी अल्पाका और हुआकाया अल्पाका.',\n",
              " 'अल्पाकास लामा से काफी छोटे होते हैं, और लामा के विपरीत, वे काम करने वाले जानवर होने के लिए पैदा नहीं होते थे, लेकिन विशेष रूप से उनके फाइबर के लिए पैदा होते हैं.',\n",
              " 'अल्पाका फाइबर का उपयोग ऊन के समान बुने हुए और बुने हुए सामान बनाने के लिए किया जाता है.',\n",
              " 'इन वस्तुओं में कंबल, स्वेटर, टोपी, दस्ताने, स्कार्फ, दक्षिण अमेरिका में कपड़ा और पोन्कोस की एक विस्तृत विविधता, और दुनिया के अन्य हिस्सों में स्वेटर, मोजे, कोट और बिस्तर शामिल हैं.',\n",
              " 'पेपर पेरू में वर्गीकृत 52 से अधिक प्राकृतिक रंगों में आता है, 12 ऑस्ट्रेलिया में वर्गीकृत और 16 संयुक्त राज्य अमेरिका में वर्गीकृत के रूप में.',\n",
              " 'अल्पाका शरीर की भाषा के माध्यम से संवाद करते हैं.',\n",
              " 'नर अल्पाका महिलाओं की तुलना में अधिक आक्रामक हैं, और अपने झुंड समूह का प्रभुत्व स्थापित करते हैं.',\n",
              " 'वस्त्र उद्योग में, अल्पाका मुख्य रूप से पेरूवियन अल्पाकास के बालों को संदर्भित करता है, लेकिन अधिक व्यापक रूप से यह मूल रूप से अल्पाका बालों से बने कपड़े की शैली को संदर्भित करता है, जैसे मोहर, आइसलैंडिक भेड़ ऊन, या यहां तक कि उच्च गुणवत्ता वाले ऊन.',\n",
              " 'व्यापार में, अल्पाका और मोहर और चमक की कई शैलियों के बीच भेद किए जाते हैं.',\n",
              " 'अल्पाका के बालों और सादे बुनाई या आया बुनाई ऊनी कपड़े से बने धागे से बने वर्स्टेड वार्प यार्न.',\n",
              " 'हल्के, पतले, चमकदार और स्थायित्व में समृद्ध, इसलिए इसे गर्मियों के कपड़ों के क्षेत्र, अस्तर आदि बनाते हैं.',\n",
              " 'वरिष्ठ वस्तुओं के लिए, केवल अल्पाका बाल का उपयोग किया जाता है, लेकिन कपास यार्न आमतौर पर युद्ध के लिए उपयोग किया जाता है.',\n",
              " 'अन्य ऊनी धागा या सिंथेटिक यार्न का उपयोग कर भी इसी तरह के उत्पाद हैं.',\n",
              " 'सूक्ष्म पोषक तत्व प्रदर्शन तथा जैव उर्वरक वितरण मृदा में सूक्ष्म पोषक तत्वों की पर्याप्त उपलब्धता व संतुलित उर्वरक उपयोग से कृषि उत्पादन में गुणोत्तर वृद्धि के कारक है.',\n",
              " 'जैव उर्वरक सस्ते, प्रदूषण रहित तथा आसानी से उपयोग योग्य है.',\n",
              " '- सूक्ष्म पोषक तत्व प्रदर्शन:-विभिन्न योजनान्तर्गत यथा- राष्ट्रीय कृषि विकास योजना/राष्ट्रीय खाद सुरक्षा मिशन के अन्तर्गत कुल लागत का 50 प्रतिशत या अधिकतम 500 रूपये तक प्रति हैक्टेयर जैव उर्वरक वितरण:- विभिन्न योजनान्तर्गत यथा- राष्ट्रीय कृषि विकास योजना/राष्ट्रीय खाद सुरक्षा मिशन/एमएनओओपी के अन्तर्गत कुल लागत का 50 प्रतिशत या अधिकतम 65 से 300 रूपये तक प्रति हैक्टेयर पात्रता :- समस्त कृषक आवेदन प्रक्रिया :- इच्छुक कृषकों द्वारा स्थानीय कृषि पर्यवेक्षक को आवेदन.',\n",
              " 'अनुदानित आदान की प्राप्ति :- सूक्ष्म पोषक तत्व हेतु स्थानीय सहकारी समिति तथा जैव उर्वरक वितरण हेतु स्थानीय सहकारी समिति व अनुमोदित आपूर्तिकर्ताओं के निजी क्षेत्र के अधिकृत विक्रेता कहां सम्पर्क करें :- ग्राम पंचायत स्तर पर :- कृषि पर्यवेक्षक कार्यालय पंचायत समिति स्तर पर :- सहायक कृषि अधिकारी कार्यालय उप जिला स्तर पर :- सहायक निदेशक कृषि कार्यालय जिला स्तर पर :- उप निदेशक कृषि जिला परिषद कार्यालय.',\n",
              " 'काष्ठ शिल्प लकड़ी को विभिन्न आकृतियों में काट कर की जाती है या मूर्तिकला हेतु लकड़ी को विशेष रूप से तराशा जाता है.',\n",
              " 'यहाँ पर बनाई जाने वाली लकड़ी की वस्तुओं में मुख्य रूप से दरवाज़े, कुर्सियां, बेड तथा कलात्मक चीज़ें जैसे खिलौने और कलाकृतियाँ हैं.',\n",
              " 'इस कार्य में प्रयुक्त होने वाला कच्चा माल स्थानीय स्तर पर सरलता से उपलब्ध है.',\n",
              " 'मान्यता है कि इसकी स्थापना “भर” वंश ने की थी तथा ये “भरौली” अथवा “बरौली” के नाम से जाना जाता था जो कि कालांतर में बरेली हो गया.',\n",
              " 'उप्सर्ग “राय” के बारे में कहा जाता है कि ये “राही” का अपभ्रंश है , जो कि एक ग्राम है और यहाँ से 5 किमी दूर स्थित है.',\n",
              " 'भौगोलिक कालक्रमानुसार यह जनपद जनपद गंगा के मैदान में स्थित है जिसकी पुष्टि यहाँ की मिट्टी द्वारा भी होती है.',\n",
              " 'यहाँ पाये जाने वाले खनिजों में रेह और काली मिट्टी प्रमुख है.',\n",
              " 'यहा पर लगभग 90 ईंट भठ्ठे हैं जो ईंट उत्पादन में संलिप्त हैं.',\n",
              " 'रायबरेली जनपद में औद्योगिक कार्यों हेतु कोई खनिज उपलब्ध नहीं है.',\n",
              " 'ऊनी, रेशमी, एवं कृत्रिम धागों से वस्त्र निर्माण.',\n",
              " 'रबर, प्लास्टिक एवं पेट्रो आधारित.',\n",
              " 'विभिन्न प्रकार के मशीनी निर्माण कार्य.',\n",
              " 'राजीव गांधी शिल्पी स्वास्थ्य बीमा योजना.',\n",
              " 'मुद्रा योजना के अंतर्गत हस्तशिल्पियों हेतु मार्जिन मनी स्कीम.',\n",
              " 'सूक्ष्म, लघु एवं मध्यम उद्यम एवं निर्यात संवर्धन विभाग.',\n",
              " 'सूक्ष्म, लघु एवं मध्यम उद्यम योजनाएँ.',\n",
              " 'निर्यात संवर्धन ब्यूरो, उत्तर प्रदेश सरकार.',\n",
              " 'सूक्ष्म, लघु एवं मध्यम उद्यम नीति - 2017.',\n",
              " 'बुनियादी ढांचा एवं औद्योगिक निवेश नीति - 2012.',\n",
              " 'क्षमता विकास एवं टूल किट वितरण योजना.',\n",
              " 'उद्यम एवं क्षमता विकास मंत्रालय.',\n",
              " 'प्रधान मंत्री कौशल विकास योजना.',\n",
              " 'वाणिज्य एवं उद्योग मंत्रालय, वाणिज्य विभाग.',\n",
              " 'विश्व जैव ईंधन दिवस प्रतिवर्ष 10 अगस्त को ईंधन के अपरम्परागत स्रोतों के बारे में जागरूकता फैलाने के लिए मनाया जाता है.',\n",
              " 'ऐसे जीवाश्म स्रोत जो ईंधन के विकल्प के रूप में काम कर सकते हैं.',\n",
              " 'पारम्परिक जीवाश्म ईंधन की तुलना में जैव ईंधन में सल्फर नहीं होता है और कार्बन मोनोऑक्साइड और विषाक्त उत्सर्जन भी कम होता है.',\n",
              " 'आइए विश्व जैव ईंधन दिवस पर इसके महत्त्व , इतिहास और इस वर्ष की थीम जैसी महत्त्वपूर्ण जानकारी इस लेख से प्राप्त करते हैं.',\n",
              " 'विश्व जैव ईंधन दिवस की शुरुआत.',\n",
              " 'इसी प्रयोग की स्मृति में 10 अगस्त को विश्व जैव ईंधन दिवस के रूप में चिह्नित किया गया.',\n",
              " 'उनके प्रयोगों से अनुमान लगा कि वनस्पति तेल बाद की शताब्दी में विभिन्न यांत्रिक इंजनों को ईंधन देने के लिए जीवाश्म ईंधन की जगह लेगा.',\n",
              " 'विश्व जैव ईंधन दिवस: थीम 2021.',\n",
              " 'इस वर्ष विश्व जैव ईंधन दिवस की थीम “बेहतर पर्यावरण के लिए जैव ईंधन को बढ़ावा देना” रखी गई.',\n",
              " 'जिससे पर्यावरण पर उनके प्रतिकूल प्रभावों को कम से कम रखा जाए और जैव ईंधन का इष्टतम तरीके से उपयोग करने पर ध्यान केंद्रित किया जाए.',\n",
              " 'विश्व जैव ईंधन दिवस का महत्त्व.',\n",
              " 'इस दिन गैर-जीवाश्म ईंधन के महत्त्व के बारे में जागरूकता पैदा करने के लिए सरकारी और निजी संगठन ऊर्जा संसाधन कार्य करते हैं.',\n",
              " 'जैव ईंधन नवीकरणीय संसाधनों से बना है और जीवाश्म डीजल की तुलना में अपेक्षाकृत कम ज्वलनशील है.',\n",
              " 'इसमें काफी बेहतर चिकनाई गुण होते हैं.',\n",
              " 'इसके विपरीत जैव ईंधन ग्रीनहाउस गैसों के प्रभाव को कम करते हैं.',\n",
              " 'जैव ईंधन के क्षेत्र में राजस्थान की उपलब्धता.',\n",
              " 'इस साल मई में केंद्र द्वारा अनावरण की गई जैव ईंधन पर राष्ट्रीय नीति को लागू करने वाला पहला भारतीय राज्य बन गया है.',\n",
              " 'उच्च शक्ति जैव ईंधन प्राधिकरण ने इस कार्यान्वयन को मंजूरी दी है.',\n",
              " 'राजस्थान जैव ईधन नियम लागू करने वाला देश का पहला राज्य है.',\n",
              " 'वर्तमान तक राज्य में बायोडीज़ल विक्रय हेतु 11 बायोफ्यूल निर्माता एवं 40 रिटेल विक्रेता पंजीकृत हैं.',\n",
              " 'राज्य सरकार वैकल्पिक ईंधन और ऊर्जा संसाधनों के क्षेत्र में अनुसंधान को बढ़ावा दे रही हैइसके बारे में जागरूकता पैदा करने के लिए राज्य सरकार द्वारा जैव ईंधन विज्ञापनों पर और जोर दिया जाएगा.',\n",
              " 'भारत में महत्त्वपूर्ण जैव ईंधन श्रेणियाँ.',\n",
              " 'बायो-एथेनॉल – चीनी युक्त सामग्री, स्टार्च युक्त सामग्री और सेल्यूलोसिक सामग्री बायोमास से उत्पादित इथेनॉल.',\n",
              " 'बायो-डीजल – गैर-खाद्य वनस्पति तेलों, एसिड तेल, प्रयुक्त खाना पकाने के तेल/पशु वसा और जैव-तेल से उत्पादित फैटी एसिड का मिथाइल या एथिल एस्टर.',\n",
              " 'बायो-सीएनजी – यह बायो-गैस का शुद्ध रूप है जिसकी ऊर्जा क्षमता और संरचना जीवाश्म आधारित प्राकृतिक गैस के समान है.',\n",
              " 'भारत में उपर्युक्त जैव ईधन श्रेणियाँ है.',\n",
              " 'यह हमारे लिए फायदे की बात है कि तेजी से घट रहे पारम्परिक ईंधनों की जगह जैव ईंधन बेहतर विकल्प के रूप में उपलब्ध हैं.',\n",
              " 'अतः हमें इस क्षेत्र हमारे अथक प्रयास जारी रखते हुए अधिक से अधिक लोगों को इसके प्रति जागरूक करना है.',\n",
              " 'सरकार ने कहा- फास्फेट, पोटास उर्वरक उचित मूल्य पर आयात के लिए कूटनीतिक हस्तक्षेप करेगी.',\n",
              " 'कंपनियों ने कहा कि आने वाले दिनों में किसानों को समय पर, पर्याप्त रूप से और सस्ती कीमतों पर उर्वरक उपलब्ध कराए जाएंगे.',\n",
              " 'बैठक में कंपनियों से कहा गया कि डाई अमोनियम फॉस्फेट जैसे पी और के उर्वरकों के खुदरा मूल्य में वृद्धि नहीं की जाए और उन्हें मूल्य में बदलाव से पहले, उर्वरक विभाग से परामर्श करने का निर्देश दिया गया.',\n",
              " 'देश में यूरिया के बाद सबसे ज्यादा उपयोग डीएपी का ही होता है.',\n",
              " 'उर्वरक मंत्री डी वी सदानंद गौड़ा की अध्यक्षता में हुई बैठक में पी एंड के उर्वरकों की कीमतों में वृद्धि के मुद्दे पर विस्तार से चर्चा हुई.',\n",
              " 'बैठक में वैश्विक स्तर पर कच्चे माल की कीमतों में वृद्धि से जुड़ी कंपनियों की चिंताओं को समझा गया.',\n",
              " 'सभी प्रमुख कंपनियों ने साफ किया कि खुदरा केंद्रों, थोक केंद्रों, भंडार केंद्रों,गोदाम आदि स्तरों पर उपलब्ध मौजूदा भंडार पुरानी दरों पर उपलब्ध कराए जाएंगे.',\n",
              " 'इस पर गौड़ा और रसायन एवं उर्वरक राज्य मंत्री मनसुख एल मंडाविया ने कहा कि वर्तमान परिदृश्य में उनके प्रयासों में मदद करने के लिए सरकार सभी जरूरी कदम उठाएगी.',\n",
              " 'अंतर्राष्ट्रीय स्रोतों से कच्चे माल, तैयार उर्वरक की समय पर आपूर्ति सुनिश्चित करने के लिए कूटनीतिक माध्यमों के जरिए जरूरी हस्तक्षेप किया जाएगा.',\n",
              " 'देहरादून, 21 अक्टूबर :भाषा: उत्तराखंड राज्य के निर्माण के शुरूआती वर्षों में तत्कालीन ग्राम्य विकास आयुक्त रघुनंदन सहाय टोलिया ने भांग की औद्योगिक खेती की परिकल्पना की थी, जिसके लिये उन्होंने एक शासनादेश जारी करते हुए पॉयलट परियोजना के तौर पर गढ़वाल और कुमांऊ के दूरस्थ क्षेत्रों को भांग उत्पादन के लिये मुफीद बताया था.',\n",
              " 'टोलिया की यह मुहिम हालांकि उस वक्त कारगर नहीं हुई और उनके मुख्य सचिव पद पर आसीन होने के बाद भी इसे खास तवज्जो नहीं मिल पायी.',\n",
              " 'लेकिन बाद में कांग्रेस नेता हरीश रावत के मुख्यमंत्री बनने पर तत्कालीन सरकार ने औद्योगिक भांग की खेती के प्रयासों को फिर से पंख लगाने की कोशिश की जिसे उनके उत्तराधिकारी और वर्तमान मुख्यमंत्री त्रिवेंद्र सिंह रावत ने मंजिल तक पहुंचाते हुए औद्योगिक भांग की खेती के लिये प्रदेश में एक पॉयलट परियोजना की शुरूआत की है.',\n",
              " 'इस पॉयलट परियोजना के लिये उत्तराखंड सरकार ने भारत में भांग की औद्योगिक खेती का पहला लाइसेंस भारतीय औद्योगिक भांग संघ :आईआईएचए: को दिया है.',\n",
              " 'इसके लिये आईआईएचए और उत्तराखंड सरकार के बीच 1100 करोड़ रूपये के एक समझौता ज्ञापन :एमओयू: पर दस्तखत किये गये हैं जिसमें अगले पांच वर्षों के दौरान प्रदेश में औद्योगिक भांग की खेती, भंडारण, परिवहन और प्रसंस्करण आदि क्षेत्रों में निवेश किया जायेगा.',\n",
              " 'यह पॉयलट परियोजना पौडी जिले में बिलखेत नामक गांव में शुरू की गयी है जहां साढे़ तीन हैक्टेअर भूमि पर औद्योगिक भांग उगायी जा रही है.',\n",
              " 'उत्तराखंड औद्योगिकी विभाग के पूर्व निदेशक और औद्योगिक भांग के क्षेत्र के विशेषज्ञ बीएस नेगी ने बताया कि औद्योगिक भांग की खेती के वैध हो जाने के बाद इसमें बेहतर मुनाफे की संभावना को देखते हुए बड़ी संख्या में किसान इस ओर आकर्षित होंगे.',\n",
              " 'नेगी ने बताया कि इस खेती को अपनाने में किसान को काफी फायदा है और यदि किसान इसमें एक रूपया लगाता है तो केवल तीन महीने में उसे तीन रूपये मिल जाते हैं.',\n",
              " 'इसके अलावा, औद्योगिक भांग की फसल ऊसर जमीन पर भी उगाई जा सकती है और जानवर तथा कीट पतंगे भी उसे नुकसान नहीं पहुंचाते हैं.',\n",
              " 'अब तक हुए शोध से पता चला है कि औद्योगिक भांग के कपास से तीन गुना ज्यादा मजबूत, चार गुना ज्यादा गर्म और सात गुना ज्यादा टिकाऊ होने के अलावा इसमें कपास या फलैक्स के मुकाबले 100 प्रतिशत ज्यादा फाइबर निकलता है.',\n",
              " 'आईआईएचए के अध्यक्ष रोहित शर्मा ने कहा कि उत्तराखंड में औद्योगिक भांग को वैधता देकर राज्य सरकार ने भारत में अभी शैशव काल में चल रहे भांग उद्योग को तेज गति दी है.',\n",
              " 'औद्योगिक भांग से कागज, बोर्ड, ईंट, फाइबर, इत्र, फर्नीचर, कॉस्मेटिक्स, कपड़ा, तेल, ऑटोमोबाइल कंपोनेट आदि सहित करीब ढाई हजार तरह के उत्पाद तैयार हो सकते हैं.',\n",
              " 'औद्योगिक भांग से बायोइथेनॉल तैयार करने की भी योजना है.',\n",
              " 'विशेष संवाददाता राजधानी में हाल में दो बार हुई तेज बारिश और ओलों की मार ने किसानों को गंभीर परेशानी में डाल दिया है.',\n",
              " 'बर्बाद होने वाली खेती में गेहूं, सरसों के अलावा मौसमी सब्जियां भी शामिल हैं.',\n",
              " 'खेती पर आश्रित किसान खासे परेशान हैं और इस उम्मीद है कि संकट की इस घड़ी में सरकार उन्हें मुआवजा देकर आर्थिक जख्म पर मरहम लगाएगी.',\n",
              " 'सरकार का कहना है कि बर्बाद फसलों का मुआयना किया जाएगा और नियमों के अनुसार किसानों को मुआवजा अवश्य दिया जाएगा.',\n",
              " 'लेकिन पिछले दिनों तीन दिन तक लगातार हुई बारिश ने किसानों के लिए आफत पैदा कर दी है.',\n",
              " 'उनकी खेतों में खड़ी करीब 50 प्रतिशत खेती नष्ट हो चुकी है.',\n",
              " 'दिल्ली में अभी भी करीब 200 ऐसे गांव हैं जहां कम-ज्यादा खेती हो रही है.',\n",
              " 'इनमें नजफगढ़ क्षेत्र के ईसापुर, मलिकपुर खुर्द, दिचाऊं, कैर, झटिकरा, कंझवला क्षेत्र के माजरा डबास, रानी खेड़ा, घेवरा, जौंती, बवाना क्षेत्र के दरियापुर कलां, बाजीतपुर, कुतुबगड़, जटखोड़, नरेला जोन के सन्नोठ, बांकनेर, होलंबी कलां, अलीपुर क्षेत्र के बख्तावरपुर, अलीपुर, हमीदपुर आदि प्रमुख गांव शामिल हैं.',\n",
              " 'निगम की स्थायी समिति के पूर्व अध्यक्ष व किसान नेता मोहन प्रसाद भारद्वाज ने उपराज्यपाल, सीएम अरविंद केजरीवाल, केंद्र सरकार के कृषि मंत्री आदि को बर्बाद हुई फसलों के मुआवजे और कर्ज माफी की मांग के लिए पत्र लिखा है.',\n",
              " 'उन्होंने कहा कि गत दिनों हुई बारिश और ओलावृष्टि से सब्जियों, गेहूं, सरसों, अनाज, तिलहन, फूल की खेती सहित पशुओं के चारे की फसलों व आगामी फसलों को लेकर लगाई गई पौध खराब हो गई है.',\n",
              " 'किसानों की हालत बेहद खराब हो गई है.',\n",
              " 'इसे देखते हुए किसानों को तुरंत मुआवजा व बैंकों से लिए गया कर्ज माफ किया जाए.',\n",
              " 'पल्ला गांव के चौधरी सुरेंद्र व तिगीपुर के कुणाल गहलोत ने जानकरी दी कि खेतों में खड़ी फसलों में गेहूं की खेती में दाना पड़ चुका है और सरसों की खेती काटी जानी थी.',\n",
              " 'जो हाल चल रहा है, उससे लगता है कि यह खेती आगामी दिनों में पूरी तरह खराब न हो जाए.',\n",
              " 'किसान परेशान हैं कि करें तो क्या करें.',\n",
              " 'अभी उन्हें कुछ सूझ नहीं रहा है.',\n",
              " 'लेकिन वे सरकार की ओर आशा भरी निगाहों से देख रहे हैं कि शायद उन्हें बर्बाद फसल का मुआवजा मिल जाए.',\n",
              " 'अगर मुआवजा नहीं मिला तो किसानों को भारी परेशानी का सामना करना पड़ सकता है.',\n",
              " 'इस बार भी सरकार किसानों से भी संपर्क में हैं.',\n",
              " 'लेख बताता है कि वार्षिक अंगूठी क्या है, यह कैसे बनती है, यह कहां पाया जा सकता है, विज्ञान क्या छल्ले का अध्ययन करने में लगा हुआ है.',\n",
              " 'वे हमें ऐसे पौधे प्रदान करते हैं जो अधिकांश जीवित प्राणियों द्वारा उत्सर्जित कार्बन डाइऑक्साइड को अवशोषित करते हैं.',\n",
              " 'वर्तमान में, अधिकांश विकसित और सभ्य देश अपने जंगलों की स्थिति की सख्त निगरानी करते हैं, जिसमें राष्ट्रीय उद्यान बनाना शामिल है, जहाँ आप बहुत पुराने पेड़ पा सकते हैं.',\n",
              " 'लेकिन वार्षिक रिंग क्या है, यह क्यों बनता है और पेड़ों के अलावा कहां, क्या अभी भी है.',\n",
              " 'इसमें हम इस लेख में समझते हैं.',\n",
              " 'परिभाषावार्षिक छल्ले, या वार्षिक परतों, पौधों और जीवित प्राणियों की कुछ अन्य प्रजातियों में चक्रीय ऊतक विकास के क्षेत्रों को कहा जाता है, उदाहरण के लिए, कवक और मोलस्क.',\n",
              " 'लेकिन सबसे अधिक विशेषता और स्पष्ट वार्षिक छल्ले बारहमासी प्रकार में देखे गए हैं.',\n",
              " 'विशेष रूप से वे जो मध्यम अक्षांश के क्षेत्र में विकसित होते हैं, जब कैम्बियम की गर्मियों-वसंत की अवधि में वर्ष के शरद ऋतु-सर्दियों के हिस्से में बाकी समय के साथ वैकल्पिक होता है.',\n",
              " 'यदि हम छल्लों की उपस्थिति के बारे में बात करते हैं, तो उनमें से प्रत्येक को दो भागों में विभाजित किया जाता है: अंधेरे और प्रकाश.',\n",
              " 'शंकुधारी पेड़ दिलचस्प हैं कि उनके विकास के छल्ले सबसे स्पष्ट रूप से दिखाई देते हैं, क्योंकि लकड़ी जो बाद में बनाई गई थी, एक स्पष्ट अंधेरा छाया है.',\n",
              " 'उनका अध्ययन इस तरह के विज्ञान में डेंड्रोकॉलॉजी के रूप में जुड़ा हुआ है.',\n",
              " 'यह विज्ञान क्या है और यह क्या करता है, इसके बारे में हमने सोचा.',\n",
              " 'अब देखते हैं कि छल्ले कैसे बनते हैं.',\n",
              " 'शिक्षा प्रक्रियाजैसा कि हम पहले से ही जानते हैं, वे उन पेड़ों में दिखाई देते हैं जो स्पष्ट मौसम के साथ क्षेत्रों में बढ़ते हैं.',\n",
              " 'सीधे शब्दों में कहें, गर्मियों और सर्दियों में वे तापमान में उतार-चढ़ाव और अन्य स्थितियों के कारण समान रूप से विकसित नहीं होते हैं.',\n",
              " 'यह इस तथ्य की ओर जाता है कि लकड़ी की परत, सर्दियों में बढ़ रही है, गर्मियों में संकेतों के द्रव्यमान से भिन्न होती है: रंग, घनत्व, बनावट, आदि.',\n",
              " 'यदि हम दृश्य अभिव्यक्ति के बारे में बात करते हैं, तो अनुप्रस्थ आरी कट पर आप एक स्पष्ट संरचना देख सकते हैं जिसमें गाढ़ा छल्ले का रूप होता है.',\n",
              " 'वार्षिक छल्ले द्वारा क्या निर्धारित किया जा सकता है.',\n",
              " 'मूल रूप से - यह उम्र है.',\n",
              " 'प्रत्येक अंगूठी एक वर्ष से मेल खाती है, इसकी मोटाई और बनावट से यह निर्धारित करना संभव है कि तब जलवायु के दृष्टिकोण से वर्ष क्या था: अनुमानित तापमान, वर्षा की मात्रा, उनकी आवृत्ति, और इसी तरह.',\n",
              " 'इस पद्धति का उपयोग कुछ प्राचीन लकड़ी के उत्पादों की आयु निर्धारित करने के लिए भी किया जाता है: उन्हें काट दिया जाता है, उन्हें छल्ले की संख्या पर ध्यान दिया जाता है, और फिर एक नमूने के साथ तुलना की जाती है, जिनकी उम्र ज्ञात है.',\n",
              " 'पशु जगतजैसा कि पहले ही उल्लेख किया गया है, पेड़ के छल्ले न केवल पेड़ों में पाए जाते हैं, बल्कि जानवरों की दुनिया में भी पाए जाते हैं.',\n",
              " 'आप उन्हें उन ऊतकों या कंकाल की संरचनाओं में पा सकते हैं जो लगातार बढ़ते हैं, लेकिन जलवायु प्रभाव, मौसमी तापमान परिवर्तन के अधीन हैं.',\n",
              " 'तो अब हम जानते हैं कि जीव विज्ञान में पेड़ के छल्ले क्या हैं.',\n",
              " 'उनके अनुसार, वैज्ञानिक पेड़ों के मामले में सब कुछ उसी तरह निर्धारित करते हैं जैसे: उम्र, अवधि की जलवायु विशेषताएं, और इसी तरह.',\n",
              " 'पत्ती का स्थान सरल और जटिल पत्ते.',\n",
              " 'प्रयोगशाला उपकरणों, प्राकृतिक वस्तुओं, एक पाठ्यपुस्तक और एक नोटबुक के साथ काम करने के लिए कौशल विकसित करना जारी रखें.',\n",
              " 'छात्रों के व्यक्तिगत गुणों के गठन को जारी रखने के लिए: अवलोकन, स्मृति का प्रशिक्षण, कार्य करने में सटीकता, जैविक भाषण, मानसिक गतिविधि के तरीके.',\n",
              " 'विश्लेषण करना, संश्लेषण करना , तुलना करना, संक्षेप करना.',\n",
              " 'इनडोर पौधों सरल और जटिल पत्तियों के साथ.',\n",
              " 'सरल और जटिल पत्तियों की हर्बेरिक सामग्री.',\n",
              " 'हर्बेरियम अलग-अलग पत्रक के साथ नमूना देता है.',\n",
              " 'स्टेम की आंतरिक संरचना क्या है.',\n",
              " 'दस साल के ओक के पेड़ के तने में कितने पेड़ होते हैं.',\n",
              " 'शिक्षक विद्यार्थियों को समस्या-संज्ञानात्मक कार्य के साथ सेट करता है.',\n",
              " '“पौधे के पत्ते एक दूसरे से कैसे भिन्न होते हैं.',\n",
              " 'कृपया याद रखें कि क्या पत्ते वास्तव में शूट का हिस्सा हैं या नहीं.',\n",
              " 'यह एक विशेष अंग होता है जिसमें कोशिकाएं होती हैं जो जाल होती हैं सूरज की रोशनीप्रकाश संश्लेषण के कार्यान्वयन के लिए आवश्यक है.',\n",
              " 'यद्यपि विभिन्न पौधों की पत्तियाँ बहुत भिन्न होती हैं दिखावटउनके बीच आम संकेत हैं.',\n",
              " 'अधिकांश पत्ते हरे होते हैं.',\n",
              " 'स्टेम के आधार पर, कुछ पौधे हो सकते हैं.',\n",
              " '- आपस में पत्तियों में क्या अंतर है.',\n",
              " 'इनडोर पौधों को देखें - वे सभी पत्तियों के आकार और रंग में भिन्न हैं, लेकिन वे सभी समान हैं.',\n",
              " 'पत्तियों को महसूस करें - आप क्या देखते हैं.',\n",
              " 'अलग-अलग दिशाओं में सच में शीट प्लेट्स परवान चढ़े.',\n",
              " 'यह पूर्ण रूप से एक दूसरे से सटे हुए पूर्णांक ऊतक के पारदर्शी कोशिकाओं की एक परत द्वारा बनता है.',\n",
              " 'पत्ती की निचली सतह पर, त्वचा की पारदर्शी कोशिकाओं के बीच, बहुत छोटी युग्मित हरी कोशिकाएँ होती हैं, जिनके बीच एक गैप होता है.',\n",
              " 'गार्ड कोशिकाओं की एक जोड़ी और उनके बीच की बाह्य दूरी कहा जाता हैरंध्र.',\n",
              " 'फैलाना और बंद होना, ये दोनों कोशिकाएं या तो स्टोमेटा को खोलती हैं या बंद करती हैं.',\n",
              " 'अपर्याप्त जल आपूर्ति संयंत्रों के साथ रंध्र बंद हो गए.',\n",
              " 'पौधे में पानी के प्रवाह के साथ, वे खुलते हैं.',\n",
              " 'पत्तियां 3 मुख्य कार्य करती हैं.',\n",
              " 'लीफ फॉल एक उपयोगी अनुकूलन है जो पौधों में प्रतिकूल जलवायु परिस्थितियों को सहन करने के लिए विकसित हुआ है जो सालाना पुनरावृत्ति करते हैं.',\n",
              " 'पत्ती गिरना - बारहमासी पौधों की पत्तियों का एक साथ गिरना . . पत्ती गिरने से पहले पत्तियों में कई परिवर्तन होते हैं.',\n",
              " 'उनमें से कुछ पोषक तत्व स्टेम और जड़ के मोजा ऊतक में प्रवाहित होते हैं.',\n",
              " 'हरे पत्ते रंग बदलते हैं, वे पीले या लाल हो जाते हैं.',\n",
              " 'यह इस तथ्य के कारण है कि क्लोरोप्लास्ट, क्लोरोफिल के साथ-साथ पीले-नारंगी-लाल वर्णक - कैरोटीनॉइड होते हैं.',\n",
              " 'लेकिन आमतौर पर हम उन्हें नहीं देखते हैं, क्योंकि हरा - क्लोरोफिल का रंग प्रबल होता है.',\n",
              " 'जब गिरावट में क्लोरोफिल नष्ट हो जाता है, तो कैरोटीनॉयड दाग दिखाई देते हैं और पत्तियां पीले या लाल हो जाती हैं.',\n",
              " 'गिर पर्णसमूह प्रतिकूल सर्दियों की स्थिति में पौधों का अनुकूलन है.',\n",
              " 'सर्दियों में, जड़ें ठंड को अवशोषित नहीं करती हैं मिट्टी से पानी, और पौधों को नमी की कमी से मर सकता है अगर पत्तियां पानी का वाष्पीकरण करती रहें.',\n",
              " 'डंपिंग पत्तियां, पेड़ तेजी से वाष्पीकरण क्षेत्र को कम करते हैं और यह खुद को सूखने से बचाएं चतुर्थ.',\n",
              " 'पहचानें कि सरल पत्तियां जटिल से अलग कैसे होती हैं.',\n",
              " 'जहां निर्देश दिए गए हैं.',\n",
              " 'तालिका में, नीचे 2 पौधे लिखें.',\n",
              " ' मुख्य प्रकार के पत्रक को सूचीबद्ध करें.',\n",
              " ' एक साधारण शीट और एक जटिल के बीच क्या अंतर है.',\n",
              " 'विभिन्न प्रकार के स्थानों के साथ पौधों के उदाहरण दें.',\n",
              " 'पेड़ की उम्र कैसे पता चलेगी.',\n",
              " 'क्या बाहरी संकेतों से यह तय करना संभव है कि पेड़ कितना पुराना है.',\n",
              " 'वर्षों से, पेड़ बढ़ता है और मात्रा में बढ़ता है.',\n",
              " 'लेकिन इसका विकास असमान है.',\n",
              " 'लेकिन एक पेड़ की ऊंचाई और मोटाई जानना उसकी उम्र निर्धारित करने के लिए पर्याप्त नहीं है.',\n",
              " 'किस प्रकार देखें, उदाहरण के लिए, पाइन एक दलदल में बढ़ता है, जहां बहुत कम भोजन होता है, जहां अतिरिक्त नमी और घने काई कवर मुश्किल बनाते हैं.',\n",
              " 'यह चीड़ साधारण-सा दिखने वाला है, जिसकी ऊंचाई केवल दो मीटर है, ट्रंक एक मानव हाथ की तरह पतला है.',\n",
              " 'वर्षों से, पेड़ न केवल बढ़ता है और घना होता है.',\n",
              " 'जैसे उम्र बढ़ने वाले व्यक्ति के चेहरे पर झुर्रियाँ दिखाई देती हैं, वैसे ही पेड़ की छाल उम्र के साथ बदल जाती है.',\n",
              " 'युवा बर्च की छाल सफेद, पतली, चिकनी होती है, जबकि पुराने में एक गहरा, लगभग काला रंग होता है, विशेष रूप से ट्रंक के आधार पर.',\n",
              " 'एक पुराने सन्टी की छाल मोटी, खुरदरी, सभी दरार वाली होती है.',\n",
              " 'युवा ट्रंक पीले-भूरे रंग की छाल को कवर करता है.',\n",
              " 'पुराने में यह ट्रंक के ऊपरी हिस्से में तांबा-लाल होता है, पतली परतों में छीलता है, और इसके नीचे भूरी-ईंट, मोटी होती है, जिसमें गहरी अनुदैर्ध्य दरारें होती हैं.',\n",
              " 'एक युवा देवदार के पेड़ में, उदाहरण के लिए, मुकुट सुरुचिपूर्ण, अंडाकार होता है, और पुराने लंबे देवदार के पेड़ में यह विशाल, गोल हो जाता है.',\n",
              " 'कोई आश्चर्य नहीं कि इसे टोपी कहा जाता है.',\n",
              " 'उनकी संख्या पर विचार करते हुए, हम यह पता लगाएंगे कि देवदार कितने वर्षों तक जीवित रहा है.',\n",
              " 'कुछ नस्लों में, वृद्धावस्था अक्सर आंतरिक परतों के सड़ने के साथ होती है, एक खोखले का गठन.',\n",
              " 'यदि खोखला बड़ा है, तो पेड़ अब हवा के तेज झोंके का सामना करने में सक्षम नहीं है, और पहला तूफान जो नीचे आया है, वह टूट जाता है.',\n",
              " 'अन्य नस्लों अधिक स्थिर हैं, और उनका जीवन लंबा है.',\n",
              " 'इस नस्ल के कुछ पेड़ दो हजार साल पुराने हैं.',\n",
              " 'उत्तरी अमेरिकी के पृथक नमूने शंकुधारी वृक्ष सेक्वियस सात हजार साल की उम्र तक पहुंचते हैं.',\n",
              " 'उनमें से कुछ में, द्वार के माध्यम से देखा जाता है, जहां दो कारें स्वतंत्र रूप से फैल सकती हैं.',\n",
              " 'गाढ़ा हलकों के रूप में प्रतिवर्ष बढ़ते हुए, लकड़ी की परतें एक पेड़ के तने का निर्माण करती हैं.',\n",
              " 'प्रत्येक वार्षिक रिंग में दो भाग होते हैं: आंतरिक, हल्का और ढीला, और बाहरी, गहरा और घना.',\n",
              " 'रिंग के दोनों हिस्से साल के अलग-अलग समय पर होते हैं: प्रकाश और तपेदिक - वसंत में, अंधेरे - गर्मियों में.',\n",
              " 'लेकिन क्या हमेशा वे छल्ले होते हैं.',\n",
              " 'हमारे जलवायु में - हाँ, क्योंकि पेड़ सर्दियों में नहीं बढ़ता है.',\n",
              " 'उष्णकटिबंधीय जलवायु वाले देशों में एक मौसम से दूसरे मौसम में अचानक संक्रमण नहीं होता है, इसलिए आँखों के लिए कोई वार्षिक परतें नहीं दिखाई देती हैं.',\n",
              " 'आप शायद जानते हैं कि पेड़ की छाल को जीवित कोशिकाओं के एक विशेष कपड़े द्वारा लकड़ी से अलग किया जाता है जिसे कैम्बियम कहा जाता है.',\n",
              " 'कैम्बियम की कोशिकाएं, साझा करना और बढ़ना, फ्लोएम की कोशिकाएं उत्पन्न करती हैं और लकड़ी.',\n",
              " 'वसंत में, जब ठंढ बंद हो जाती है और भूमि पिघलती है, तो रसों की आवाजाही शुरू होती है, पेड़ पर पत्ते निकलते हैं, नए अंकुर दिखाई देते हैं.',\n",
              " 'वसंत में बहुत अधिक नमी होती है, इसलिए कोशिकाएं पतली-दीवार वाली होती हैं, जिसमें व्यापक गुहाएं होती हैं.',\n",
              " 'वार्षिक रिंग का आंतरिक, वसंत हिस्सा उनसे बनता है.',\n",
              " 'गिरने के करीब, रसों की गति बंद हो जाती है, और फिर ट्रंक को मजबूत करने के लिए कैम्बियम मुख्य रूप से यांत्रिक ऊतक पैदा करता है.',\n",
              " 'मोटी दीवारों और छोटी क्षमता के गुहाओं वाले यांत्रिक ऊतक की कोशिकाएं वार्षिक वलय के बाहरी, संकुचित भाग का निर्माण करती हैं.',\n",
              " 'तो प्रत्येक वर्ष वसंत और गर्मियों में पेड़ के छल्ले के घटक होते हैं.',\n",
              " 'ग्रीष्म ऋतु में दिखाई देने वाली कोशिकाएं वसंत में अगले वर्ष के लिए रखी गई कोशिकाओं के साथ इंटरलॉक होती हैं, और उनके संपर्क की रेखा लकड़ी की परतों के बीच की सीमा को चिह्नित करती है जो अगले दो वर्षों में बढ़ी हैं.',\n",
              " 'ओक और राख के वार्षिक छल्ले आसानी से प्रतिष्ठित होते हैं: वसंत में उनकी लकड़ी के कई बड़े हिस्से होते हैं.',\n",
              " 'अन्य दृढ़ लकड़ी में छोटे बर्तन होते हैं, और वार्षिक छल्ले के बीच की सीमा को और अधिक तेजी से बनाने के लिए, लकड़ी को चित्रित किया जाता है.',\n",
              " 'एक ड्रिल की कल्पना करें जिसमें सामान्य सर्पिल काटने एक खोखले धातु सिलेंडर की जगह लेता है.',\n",
              " 'इस प्रकार, न केवल गणना करना संभव है, बल्कि वार्षिक परतों को भी मापना संभव है.',\n",
              " 'पेड़ में छोड़े गए छेद को एक कॉर्क या एक शाखा के साथ सील किया जाता है, या ऊपर ढंक दिया जाता है.',\n",
              " 'वह उपकरण जिसके द्वारा लकड़ी का एक स्तंभ निकाला जाता है, उसे आयु ड्रिल कहा जाता है.',\n",
              " 'खट्टा क्रीम और प्याज के साथ मशरूम को कैसे भूनें.',\n",
              " ' आदमी के बारे में आश्चर्यजनक तथ्य.',\n",
              " 'रूसी सन्टी के बारे में.',\n",
              " 'कोच्चिदेश में सबसे ज्यादा रबड़ उत्पादन केरल में होता है, लेकिन अब धीरे-धीरे त्रिपुरा और दूसरे नार्थ ईस्ट राज्यों से इसे चुनौती मिलनी शुरू हो गई है.',\n",
              " 'इसके पीछे रबड़ की खेती में ज्यादा मजदूरी और कम कीमत अहम वजहें हैं.',\n",
              " 'त्रिपुरा देश का दूसरा सबसे बड़ा रबड़ उत्पादक राज्य है.',\n",
              " 'पिछले एक साल में इसका हिस्सेदारी एक पर्सेंट बढ़ी है.',\n",
              " 'त्रिपुरा के बाद 7 पर्सेंट की हिस्सेदारी के साथ असम तीसरा सबसे बड़ा रबड़ उत्पादक राज्य है.',\n",
              " 'रबड़ बोर्ड के डेटा के मुताबिक, रबड़ उत्पादन में सभी नार्थ ईस्ट राज्यों की कुलमिलाकर 23 पर्सेंट हिस्सेदारी है.',\n",
              " 'यह केरल में उत्पादन लागत के आधे से भी कम है.',\n",
              " 'वहीं नॉर्थ ईस्ट राज्यों में यह लागत सिर्फ 80 रुपये है.',\n",
              " 'केरल में दैनिक मजदूरी 408.38 रुपये है, जो पूरे देश में सबसे ज्यादा है.',\n",
              " \"'इसके अलावा एक अहम पहलू कीमत है.\",\n",
              " \"अजित ने बताया, 'इस कीमत पर केरल में रबड़ प्लांटेशन फायदेमंद नहीं रह गया है.\",\n",
              " 'पिछले तीन सालों में करीब 22 से 27 पर्सेंट एरिया में रबड़ की टैपिंग नहीं हुई है.',\n",
              " 'ट्रांसपोर्टेशन की कम लागत और कीमतों का कम रहना नार्थ ईस्ट राज्यों में मौजूद टायर और गैर-टायर यूनिट्स के लिए फायदेमंद है.',\n",
              " 'कागज पर हम जब चाहें जो चाहें वह लिख सकते हैं, जब हम सभी स्कूल जाया करते थें तो इन्ही कागजों से बने कापियों को खरीदते थे और उसपर लिखते थें, कागज का इस्तेमाल प्रिंट करने के लिए, अख़बार के लिएऔर कैर्री बैगजैसे अन्य कामों के लिए भी इसका इस्तेमालकिया जाता है.',\n",
              " 'लेकिन क्या आप यह जानतें हैं की कागज कैसे बनता है अगर नहीं जानतें तो आज आप इस आर्टिकल में जान जाओगे की पेपर कैसे बनता है .',\n",
              " 'कागज का इतिहासकागज का इस्तेमाल कहाँ होता है.',\n",
              " 'कागज को बनाने के लिए मुख्य रूप से सेल्यूलोस का इस्तेमाल किया जाता है जो की पेड़ के लकड़ियों में मौजूद रहता है, सेल्यूलोसचिपचिपा पदार्थ होता है जो की अक्सर पेड़ पौधों में पाया जाता है.',\n",
              " 'सेल्यूलोस के रेसों को जोड़कर कागज की पतली परत का निर्माण किया जाता है.',\n",
              " 'वैसे तो रुई में शुद्ध रूप से सेल्यूलोस पाया जाता है जिससे की कागज बनाया जा सकता है, लेकिन रुई कासेल्यूलोस काफी महँगा होता है इसीलिए इसका इस्तेमाल कपड़ों को बनाने के लिए किया जाता है.',\n",
              " 'कागज की गुणवत्ता सेल्यूलोस के शुद्धता पर निर्भर करती है.',\n",
              " 'हालांकि रेशम और ऊन में भी सेल्यूलोस पाया जाता है लेकिन इसके सेल्यूलोस में काफी ज्यादा अशुद्धत्ता रहती है इसलिए इनके सेल्यूलोस का इस्तेमाल कागज बनाने के लिए नहीं किया जाता है.',\n",
              " 'पेड़ का चयन : कागज को बनाने के लिए सबसे पहले ऐसे पेड़ों का चयन किया जाता है जिसमे लकड़ी के रेशे की मात्रा काफी अधिक होती है.',\n",
              " 'टुकड़ों में अलग करना : जब पेड़ का चयन हो जाता है उसके बाद उन पेड़ों को टुकड़ों में काटकर अलग कर दिया जाता है और फिर इन्हे फैक्ट्री में भेज दिया जाता है जहाँ इसके छिलके को साफ़ कर दिया जाता है.',\n",
              " 'उसके बाद पेड़ के टुकड़ों को काफी छोटे छोटे टुकड़ों में काट दिया जाता है.',\n",
              " 'कैल्शियम कार्बोनेट का मिश्रण : जब लकड़ी के टुकड़ों का ब्लीचिंग होजाता है उसके बाद इसे और भी सघन बनाने के लिए इसेकैल्शियम कार्बोनेट के साथ मिक्स किया जाता है.',\n",
              " 'पेपर की इन लम्बी परतों को बाद में छोटे छोटे टुकड़ों में काट दिया जाता है और इसी से ही कॉपी, मैगज़ीन और न्यूज़ पेपर का निर्माण किया जाता है.',\n",
              " 'ऊपर बताये गए विधि से ही कागज का निर्माण किया जाता है और अंत में इसका इस्तेमाल न्यूज़ पेपर, नोट बुक, टेक्स्ट बुक, मैगज़ीन, पैकिंग बैग जैसे कई चीज़ों को बनाने के लिए किया जाता है.',\n",
              " 'अगर बात करें कागज के इतिहास की तो सबसे पहले इसका इस्तेमाल चीन में किया गया था, सन 105 में चीन में रहने वाले व्यक्ति काई लुन ने पेपर का अविष्कार किया था.',\n",
              " 'कागज के अविष्कार से पहले लेखनी के लिए बांस औररेशम का इस्तेमाल किया जाता था.',\n",
              " 'काई लुन ने पेड़ के छाल, भांग, शहतूत तथा अन्य प्रकार के रेशों का इस्तेमाल करके कागज का निर्माण किया था, पहला कागज दिखने में चमकीला, लचीला, और काफी मुलायम था इसी के साथ इसपर लिखनाभी काफी आसान था.',\n",
              " 'कागज का इस्तेमाल कहाँ होता है.',\n",
              " ' गिफ्ट कार्ड बनाने के लिए.',\n",
              " ' न्यूज़ पेपर बनाने के लिए.',\n",
              " ' टिश्यू पेपर बनाने के लिए.',\n",
              " ' पैकिंग बैग बनाने के लिए.',\n",
              " 'हमें आशा है की यह आर्टिकल पढ़ने के बाद आपके सवाल पेपर कैसे बनता है , कागज का उपयोग, इतिहास और न्यूज़ पेपर किससे बनता हैइसका जवाब आपको मिल गया होगा.',\n",
              " 'अब जब आप किसी पुस्तक पर कुछ लिखोगे तो ज़रा सा यह भी याद कर लेना की कागजबनता कैसे है.',\n",
              " 'अगर यह आर्टिकल आपको अच्छा लगा हो तो इसे अपने दोस्तों को भी शेयर करें, आप अपने विचार और सुझाव निचे कमेंट में लिखकर हमें बता सकते हैं.',\n",
              " 'अंगूर एक ऐसा फल है जो आपको सभी मौसम में बड़ी आसानी से मिल जाता है.',\n",
              " 'विशेष तौर पर देखा जाए तो यह गर्मियों में आपको हर फ्रूट मार्केट में बहुत ही सस्ते दाम में मिल जाएगा.',\n",
              " 'इसका सेवन करने वाले लोगों की संख्या बहुत ज्यादा है लेकिन आज हम आपको गर्मियों में अंगूर खाने से होने वाले कुछ ऐसे फायदे के बारे में बताएंगे जो आपको सेहतमंद बनाए रखने के लिए बहुत मददगार साबित होंगे.',\n",
              " 'आइए इसके बारे में विस्तार पूर्वक जानते हैं.',\n",
              " 'विटामिन-सी की मिलेगी भरपूर मात्राविटामिन-सी एक ऐसा पोषक तत्व होता है जिसकी नियमित रूप से हमारे शरीर को जरूरत पड़ती है.',\n",
              " 'एंटी कैंसर गुणकैंसर जैसी गंभीर बीमारी की चपेट में आने से हर कोई बचे रहना चाहता है.',\n",
              " 'इसलिए खान-पान पर विशेष ध्यान देना बहुत जरूरी है.',\n",
              " 'इसमें कई प्रकार के ऐसे कंपाउंड पाए जाते हैं जो एंटी कैंसर गुण रखते हैं.',\n",
              " 'इन सब की समस्या से बचे रहने के लिए अंगूर बेहतरीन भूमिका निभा सकता है.',\n",
              " 'इसमें पोटेशियम की मात्रा पाई जाती है जो ब्लड प्रेशर को कम करने का दूर रखता है.',\n",
              " 'डायबिटीज से बचाए रखेडायबिटीज से बचे रहने में भी अंगूर का सेवन करना काफी फायदेमंद साबित होगा.',\n",
              " 'अंगूर खाने से शरीर में ब्लड शुगर लेवल का स्तर काफी कम होता है.',\n",
              " 'इसके साथ ही साथ यह फल शरीर में ब्लड शुगर लेवल को मेंटेन करता है, जिसके कारण आप डायबिटीज की चपेट में आने से बचे रह सकते हैं.',\n",
              " 'आंखों की रोशनी बढ़ाएआंखों की देखने की क्षमता अगर मेंटेन बनी रहेगी तो लंबे समय तक चश्मा नहीं लगेगा.',\n",
              " 'इसके लिए सबसे जरूरी है कि आप अपने खान-पान पर विशेष ध्यान दें और विटामिन-ए युक्त खाद्य पदार्थों को अपने खाने में अवश्य शामिल करें.',\n",
              " 'इसलिए अंगूर का सेवन आपके आंखों के लिए भी फायदेमंद रहेगा.',\n",
              " 'कुक्कुट पालन मौर्य साम्राज्य का एक प्रमुख उद्योग था.',\n",
              " 'हालांकि इसे 19वीं शताब्दी से ही वाणिज्यिक उद्योग के रूप में देखा जाने लगा था.',\n",
              " 'कुक्कुट पालन में मुर्गियों की विभिन्न प्रकार की नस्लों का पालन कर उनके अंडे एवं चिकन का व्यवसाय किया जाता है.',\n",
              " 'इस व्यवसाय में लोगो की बढ़ती रुचिता को देखते हुए मैं इस लेख के द्वारा भारत मे पायी जाने वाली चिकन नस्लों के बारे में बताने जा रहा हूँ जिससे आपको चिकन की अच्छी नस्लों को पहचानने और अपने व्यवसाय को बढ़ाने में आसानी होंगी.',\n",
              " 'भारत के अलावा यह नस्ल ईरान में भी पाई जाती है जहाँ इसे किसी अन्य नाम से जाना जाता है.',\n",
              " 'इस नस्ल के मुर्गे-मुर्गियों की गर्दन और पैर लंबे होते हैं तथा बाल चमकीले होते हैं.',\n",
              " 'इस नस्ल का मूल नाम कलामासी है, जिसका अर्थ काले मांस वाला पक्षी होता है.',\n",
              " 'कड़कनाथ नस्ल मूलतः मध्य प्रदेश में पाई जाती है.',\n",
              " 'ग्रामप्रिया को भारत सरकार द्वारा हैदराबाद स्थित अखिल भारतीय समन्वय अनुसंधान परियोजना के तहत विकसित किया गया है.',\n",
              " 'इसे ख़ास तौर पर ग्रामीण किसान और जनजातीय कृषि विकल्पों के लिये विकसित गया है.',\n",
              " 'इनके मीट का प्रयोग तंदूरी चिकन बनाने में अधिक किया जाता है.',\n",
              " 'इनके अण्डों का रंग भूरा होता है और उसका वज़न 57 से 60 ग्राम होता है.',\n",
              " 'स्वरनाथ कर्नाटक पशु चिकित्सा एवं मत्स्य विज्ञान और विश्वविद्यालय, बंगलौर द्वारा विकसित चिकन की एक नस्ल है.',\n",
              " 'ये 22 से 23 सप्ताह में पूर्ण परिपक्व हो जाती है और तब इनका वज़न 3 से 4 किलोग्राम होता है.',\n",
              " 'इनकी प्रतिवर्ष अण्डे उत्पादन करने की क्षमता लगभग 180-190 होती है.',\n",
              " 'यह बहुआयामी चिकन नस्ल है जिसे असम में कुक्कुट प्रजनन को बढ़ाने के लिए अखिल भारतीय समन्वय अनुसंधान परियोजना द्वारा विकसित किया गया है.',\n",
              " 'यह नस्ल तीन अलग-अलग चिकन नस्लों का क्रॉस नस्ल है, असम स्थानीय, रंगीन ब्रोइलर और ढेलम लाल.',\n",
              " 'यह नस्ल सबसे ऊँची नस्ल मानी जाती है.',\n",
              " 'इसे मलय चिकन के नाम से भी जाना जाता है.',\n",
              " 'इनकी गर्दन और पैर बाकी नस्ल की अपेक्षा लंबे होते है.',\n",
              " 'इस किस्म के आंतरिक अंगों में भी एक गहरा रंगद्रव्य होता है, जिसे मानवीय बीमारियों के इलाज़ के लिए जनजातीय समुदाय द्वारा प्राथमिकता दी जाती है.',\n",
              " 'यह ज्यादातर मध्यप्रदेश, गुजरात और राजस्थान में पायी जाती है.',\n",
              " 'इनकी प्रजनन क्षमता प्रतिवर्ष लगभग 85 अण्डे होती है.',\n",
              " '12 सप्ताह में इसका शरीरिक वज़न 1800 ग्राम होता है.',\n",
              " 'इनकी वार्षिक अण्डा उत्पादन क्षमता 200 है.',\n",
              " 'यह कुछ अन्य मुर्गियों की प्रजाति है जो भारत में पायी जाती है –आप भी चाहें तो अपने घर पर भी ब्रायलर मुर्गी फार्म या देसी मुर्गियों का पालन करके अपना छोटा सा व्यापार आज ही शुरू कर सकते हैं.',\n",
              " 'इसे ही औद्योगिक क्रान्ति के नाम से जाना जाता है.',\n",
              " 'यह सिलसिला ब्रिटेन से आरम्भ होकर पूरे विश्व में फैल गया.',\n",
              " 'औद्योगिक क्रान्ति का सूत्रपात वस्त्र उद्योग के मशीनीकरण के साथ आरम्भ हुआ.',\n",
              " 'उन्नीसवी सदी के प्रथम दो दशकों में पूरी तरह से धातु से बने औजारों का विकास हुआ.',\n",
              " 'इसके परिणामस्वरूप दूसरे उद्योगों में काम आने वाली मशीनों के निर्माण को गति मिली.',\n",
              " '19वी शताब्दी में यह पूरे पश्चिमी यूरोप और उत्तरी अमेरिका में फैल गयी.',\n",
              " 'घोड़ा द्वारा चलाए जाने वाला करघा का कार्ट राइट ने किया.',\n",
              " 'इसकी विधि समय के साथ विकसित हुई है.',\n",
              " 'पूर्व में थ्रेशिंग हाथ से की जाती हैलेकिन समय के माध्यम से, अच्छे दिमाग एक मशीन का आविष्कार करने में सक्षम थे – एक थ्रेशर, जो थ्रेशिंग में हाथ का काम करता है जिसके परिणामस्वरूप अधिक कुशल फसल प्रक्रिया होती है.',\n",
              " 'आमतौर पर, सपने में किसान को थिरकते देखना अच्छी खबर है.',\n",
              " 'यदि आप थ्रेसिंग के लिए एक उपकरण देखते हैं तो इसका मतलब है कि अन्य लोग आपके साथ संवाद करने जा रहे हैं.',\n",
              " 'हो सकता है कि आपको जल्द ही एक टेलीफोन कॉल मिलेगा.',\n",
              " 'इससपनेसे सलाह यहहै कि किसी को भी अपनेमौजूदा आर्थिक गतिविधियोंमें जो कुछ भी हासिल करना है, उसे बनाए रखना चाहिए, अपने आप को अपनी क्षमता के बारे में सोचने और उन्हें कौशल में बदलने का समय देना चाहिए.',\n",
              " 'अपने आप को अपनी सीमा से परे रखें और आपनिश्चित रूप से असफल नहींहोंगे.',\n",
              " 'आमतौर पर, हम अपने परिवारों के लिए प्रदान करने के लिए हमारी नौकरियों में अच्छा करते हैं.',\n",
              " 'इस प्रकार, थ्रेसिंग हमारी नौकरियों में सफलता और पदोन्नति पाने के लिए है, ताकि हमारे परिवारों की जरूरतों के प्रति प्रतिक्रिया हो.',\n",
              " 'यदि ऐसा होता है, तो खुशी किसी के परिवार द्वारा महसूस की जाएगी.',\n",
              " 'मंत्रालय ने एक बयान में कहा, कई राज्य अन्य राज्यों से मुर्गी व्यवसाय पर प्रतिबंध लगा रहे हैं.',\n",
              " 'राज्यों से इस तरह के निर्णय पर पुनर्विचार करने का अनुरोध किया गया है.',\n",
              " 'इससे पहले दिन में उत्तरी दिल्ली नगर निगम ने इस संबंध में आदेश जारी किया था.',\n",
              " 'अब पूर्वी दिल्ली नगर निगम और दक्षिणी दिल्ली नगर निगम ने भी ऐसा ही निर्णय किया है.',\n",
              " 'उत्तरी दिल्ली नगर निगम के पशु चिकित्सा सेवा विभाग की ओर से जारी आदेश में कहा गया है कि ग्राहकों को अंडा आधारित व्यंजन या पोल्ट्री मांस और अन्य संबंधित उत्पाद परोसे जाने पर रेस्तराओं और होटलों के मालिकों को कार्रवाई का सामना करना होगा.',\n",
              " 'इसमें कहा गया है कि आदेश जनहित में जारी किया गया है और इसका पालन किया जाना चाहिए.',\n",
              " 'यूपी में जीवित पक्षियों के आयात पर रोक.',\n",
              " \"दो दिन पहले ही यूपी सरकार ने राज्य को 'कंट्रोल्ड एरिया' घोषित किया है.\",\n",
              " 'इसी के साथ राज्य में जीवित पक्षियों के आयात पर रोक लगा दी गई.',\n",
              " 'अगर कोई व्यवसायी या परिंदों का शौकीन व्यक्ति यूपी में कोई भी पक्षी लेकर आता है तो कड़ी कार्रवाई की जाएगी.',\n",
              " 'अबतक केरल, राजस्थान, मध्यप्रदेश, हिमाचल प्रदेश, हरियाणा, गुजरात, उत्तर प्रदेश, दिल्ली, उत्तराखंड और महाराष्ट्र में इस वायरस संक्रमण की पुष्टि की गई है.',\n",
              " 'केंद्र सरकार ने फ्लू की रोकथाम के लिए तमाम कदम उठाने के बीच राज्यों से मुर्गा मंडियों को बंद नहीं करने या कुक्कुट उत्पादों की बिक्री प्रतिबंधित नहीं करने को भी कहा, क्योंकि मानव में बर्ड फ्लू संचरण की कोई वैज्ञानिक रिपोर्ट सामने नहीं आई है.',\n",
              " ' बर्ड फ्लू के डर से 30 फीसदी कम हुए नॉनवेजिटेरियन ग्राहक, चिकन और अंडे के दामों में लगातार गिरावट.',\n",
              " 'जम्मू कश्मीर में बर्ड फ्लू का खतरा बढ़ा, उरी और कुलगाम में पक्षियों की मौत.',\n",
              " 'बांस एक ऐसा पेड़ है जो भारत के हर प्रांत में पाया जाता है.',\n",
              " 'ये लगभग 25 से 30 मीटर तक ऊंचा होता है और इसके पत्ते लंबे होते हैं.',\n",
              " 'लेकिन शायद आप ये जानकर आश्चर्य में पड़ जायेंगे कि बांस के भी स्वास्थ्यवर्द्धक गुण होते हैं.',\n",
              " 'इसके अलावा बांस के गुण रोगों के उपचार के भी काम आते हैं.',\n",
              " 'बांस के कोंपलों में प्रचुर मात्रा में कैल्शियम, प्रोटीन, विटामिन ए, ई, बी6, मैग्निशियम, कॉपर जैसे पोषक तत्व होते हैं.',\n",
              " 'जिसके कारण आयुर्वेद में बांस को कई बीमारियों के लिए उपचार के तौर पर प्रयोग में लाया जाता है.',\n",
              " 'चलिये बिना समय नष्ट किये बांस के फायदे और उसके अनजाने गुणों के बारे में जानते हैं.',\n",
              " 'वर्षा ऋतु में बादलों के तेज गर्जना से बांस के पर्वों में दरारे पड़ जाती है मादा बांस पोला या मुलायम होता है तथा नर बांस ठोस होता है.',\n",
              " 'बांस की कई जातियां ऐसी हैं जिनमें पुष्प उनके जीवन-काल में एक ही बार आते हैं तथा फिर ये थोड़े-ही समय के बाद पूरी तरह से नष्ट हो जाते हैं.',\n",
              " 'कुछ जातियों में फूल प्रति 3 वर्ष में आता हैं तथा बहुत थोड़ी जाति के बांस ऐसे भी हैं, जिनमें प्रतिवर्ष आते रहते हैं.',\n",
              " 'ऊपर जिस वंश के बारे में बताया गया उसके मुख्य प्रजाति के अतिरिक्त एक और प्रजाति पाई जाती है जिसका प्रयोग चिकित्सा में किया जाता है.',\n",
              " 'इसका तना पोला या मुलायम तथा पीले रंग का होता है.',\n",
              " 'इसकी पत्तियां भाला के आकार की, रेखा की हुई तथा आगे की तरफ पर नुकीली होती है.',\n",
              " 'इसकी नई शाखाएं तथा जड़ मूत्र संबंधी बीमारी में फायदेमंद होती है.',\n",
              " 'लेकिन भारत के अन्य प्रांतों में बांस को कई नामों से पुकारा जाता है.',\n",
              " 'बांस प्रकृति से मीठा, एसिडिक, तीखा, कड़वा, भारी,रूखा और ठंडे तासीर का होता है.',\n",
              " 'यह कफ और पित्त कम करने में सहायता करता है.',\n",
              " 'बांस के फायदे के कारण कुष्ठ, व्रण या अल्सर, सूजन, मूत्रकृच्छ्र या मूत्र संबंधी बीमारी, प्रमेह या डायबिटीज, अर्श या पाइलस तथा जलन कम करने में मददगार होता है.',\n",
              " 'बांस का अंकुर कड़वा, मधुर, तीखा, अम्लिय या एसिडिक,रूखा, भारी, मल-मूत्र को निकालने वाला और कफ बढ़ाने वाला होता है.',\n",
              " 'यह जलन, रक्तपित्त यानि नाक या कान से खून बहने की बीमारी तथा मूत्र संबंधी बीमारियों में भी फायदेमंद होता है.',\n",
              " 'वंशलोचन भी कड़वा, मधुर, ठंडे तासीर का, रूखा, वात कम करने वाला, पौष्टिक, वीर्य या सीमेन बढ़ाने वाला, स्वादिष्ट, रक्त को शुद्ध करने वाला और शक्ति बढ़ाने वाला होता है.',\n",
              " 'यह प्यास, खांसी, बुखार, क्षय, रक्तपित्त यानि नाक या कान से खून बहने की बीमारी , कामला या पीलिया, कुष्ठ, पाण्डु या एनीमिया,मूत्रकृच्छ्र या मूत्र संबंधी बीमारी, अपच तथा जलन कम करने में मदद करता है.',\n",
              " 'यह उल्टी, अतिसार या दस्त, प्यास, जलन या गर्मी, कुष्ठ, कामला या पीलिया, रक्तछर्दि या खून की उल्टी, फूफ्फूस में सूजन, खाँसी, सांस लेने में तकलीफ, मूत्रकृच्छ्र या मूत्र संबंधी बीमारी, मुखपाक ,बुखार या फीवर, आँख संबंधी रोग एवं सामान्य कमजोरी में फायदेमंद होता है.',\n",
              " 'बांस की जड़ प्रकृति से ठंडी, विरेचक या शरीर से मल-मूत्र निकालने में मददगार, मूत्र संबंधी बीमारी में लाभकारी तथा शक्ति बढ़ाने में मददगार होती है.',\n",
              " 'इसके पत्ते भी प्रकृति से ठंडे, आँख के बीमारी में लाभकारी और बुखार से राहत दिलाने में सहायता करते हैं.',\n",
              " 'बांस में मैग्निशियम, सोडियम, जिंक, कॉपर, पोटाशियम, फॉस्फोरस होने के कारण ये आयुर्वेद में इसको औषधी के रूप में प्रयोग किया जाता है.',\n",
              " 'अगर आपको काम के तनाव और भागदौड़ भरी जिंदगी के वजह से सिरदर्द या आधे कपाल में दर्द की शिकायत रहती है तो बांस का घरेलू उपाय बहुत लाभकारी सिद्ध होगा.',\n",
              " 'चौलाई की जड़, अंकोल फल, लहसुन, अदरक तथा वंश आदि द्रव्यों को पीसकर पेस्ट बना लें.',\n",
              " 'फिर उसको सर्पि, तेल, वसा या फैट, मज्जा इन चार प्रकार के स्नेहों में या दही को, तक्र, सुरा, चुक्र आदि के रस में पकाकर 1-2 बूंद कान में डालने से कान का दर्द कम होता है.',\n",
              " 'इसके अलावा बांस के कल्क को बकरी तथा भेड़ के पेशाब या घी अथवा तेल में पकाकर, छानकर 1-2 बूंद कान में डालने से कान का दर्द कम होता है.',\n",
              " 'वंशलोचन को शहद में मिलाकर मुंह में लेप करने से मुंह के छाले मिटते हैं.',\n",
              " ' मुँह के छालों में आलू के फायदेअगर लंग्स में सूजन हुआ है तो बांस के गुण इसके इलाज में काम आयेगा.',\n",
              " 'वंशलोचन चूर्ण को शहद के साथ मिलाकर सेवन करने से कफ निकलता है तथा सूखी खांसी मिटती है.',\n",
              " 'अगर ज्यादा मसालेदार, तीखा खाने के आदि है तो पाइल्स के बीमारी में बांस का घरेलू उपाय बहुत ही फायदेमंद साबित होता है.',\n",
              " ' बवासीर में कुश के फायदेआजकल की भाग-दौड़ और तनाव भरी जिंदगी ऐसी हो गई है कि न खाने का नियम और न ही सोने का.',\n",
              " 'वंश यव से बने खाद्य पदार्थों का सेवन डायबिटीज को कंट्रोल करने में मदद करता है.',\n",
              " ' डायबिटीज के घरेलू उपचारमूत्र संबंधी बीमारी में बहुत तरह की समस्याएं आती हैं, जैसे- मूत्र करते वक्त दर्द या जलन होना, मूत्र रुक-रुक कर आना, मूत्र कम होना आदि.',\n",
              " 'बांस इस बीमारी में बहुत ही लाभकारी साबित होता है.',\n",
              " 'वंशांकुर तथा वंश की जड़ का काढ़ा बनाकर 10-20 मिली मात्रा में पीने से बिन्दुमूत्रकृच्छ्र में लाभ होता है.',\n",
              " 'मासिक धर्म या पीरियड्स होने के दौरान बहुत तरह की समस्याओं का सामना करना पड़ता है, जैसे- मासिक धर्म होने के दौरान दर्द होना, अनियमित मासिक धर्मचक्र, मासिक धर्म के दौरान रक्तस्राव या ब्लीडिंग कम होना या ज्यादा होना आदि.',\n",
              " '25 ग्राम वंशपत्र तथा 50 ग्राम शतपुष्पा को मिलाकर काढ़ा बनाकर इसमें गुड़ मिला कर पीने से मासिक-धर्म संबंधी कष्ट कम होता है.',\n",
              " 'और पढ़ें – माहवारी में कम ब्लीडिंग में तिल और गुड़ फायदेमंदआजकल के प्रदूषण भरे वातावरण में त्वचा संबंधी रोग होने का खतरा बढ़ता ही जा रहा है.',\n",
              " 'हर कोई किसी न किसी त्वचा संबंधी परेशानी से ग्रस्त हैं.',\n",
              " 'बांस इन सब परेशानियों को कम करने में मदद करता है.',\n",
              " 'वंश के पत्ते तथा जड़ को पीसकर लेप करने से कुष्ठ, त्वचा विकारों या रोगों तथा दाद से राहत मिलती है.',\n",
              " ' चर्मरोग रोग में गोखरू के प्रयोगकभी-कभी अल्सर का घाव सूखने में बहुत देर लगता है या फिर सूखने पर पास ही दूसरा घाव निकल आता है, ऐसे में बांस के पत्ते का सेवन बहुत ही फायदेमंद होता है.',\n",
              " 'बांस के पत्तों का काढ़ा बनाकर प्रभावित स्थान को धोने से घाव तथा सूजन में लाभ मिलता है.',\n",
              " 'अगर किसी चोट के कारण या बीमारी के वजह से किसी अंग में हुए सूजन से परेशान है तो बांस के द्वारा किया गया घरेलू इलाज बहुत ही फायदेमंद होता है.',\n",
              " 'वंश के अंकुरों को पीसकर लेप करने से घाव तथा सूजन में लाभ होता है.',\n",
              " 'वंशलोचन तथा गिलोय सत् को शहद में मिलाकर चटाने से जीर्ण ज्वर कम होता है.',\n",
              " ' बुखार की दवा है गिलोयबांस में शीत गुण पाए जाने के कारण यह शरीर में शीतलता बनाने में भी मदद करता है.',\n",
              " 'अक्सर मेनोपॉज के दौरान शरीर में बेचैनी या हॉट फ्लैशज की समस्या होती है.',\n",
              " 'इसके उपयोग से शरीर में ठंडक का एहसास होता है और हॉट फ्लाशैज या गरमी के एहसास से मुक्ति मिलने में आसानी होती है.',\n",
              " 'बैम्बू में पाए जाने वाले पित्त शामक गुण इस अवस्था को रोकने या कम करने में सहयोगी होते हैं.',\n",
              " 'बांस के कोमल अंकुर, आंवला, कपित्थ, सोंठ, मरिच, पीपल, वचा, कूठ आदि द्रव्यों को लेकर चूर्ण बनाकर लेप, नाक से लेने पर एवं काढ़े के रुप में प्रयोग करने से मकड़ी, चूहा, सांप के काटने आदि के विषाक्त प्रभावों को कम करने में मदद मिलती है.',\n",
              " 'इसके अलावा बांस के कोमल अंकुर, कुटकी, पाटला बीज, सोंठ, शिरीष आदि द्रव्यों को गोमूत्र के साथ पीसकर छानकर पीने तथा, 1-2 बूंद नाक में डालने व अञ्जन आदि के लिए प्रयोग करने से गोनस सर्प का काटने पर विष के प्रभाव को कम करने में सहायता मिलती है और इन्द्रवारुणी मूल तथा वंशनिर्लेखन को पीसकर लेप करने से काटे हुए स्थान पर उत्पन्न मस्सों पर लगाने से वह कम होता है.',\n",
              " 'भारत में सर्वत्र मैदानी एवं पहाड़ी वनों में लगभग 1500-2100 मी की ऊँचाई तक पाया जाता है.',\n",
              " 'यह जब पुष्पित होता है, तब देखने में सुन्दर लगता है.',\n",
              " 'इसका फूलना या प्रस्फुटित होना अशुभ सूचक माना जाता है.',\n",
              " 'सामाजिक मीडिया पर हमारा अनुसरण करें.',\n",
              " 'भारत में लगभग 50% जनसँख्या कृषि करती है और भारत को कृषि प्रधान भी माना जाता है.',\n",
              " 'आज इस आर्टिकल में हम आपको कृषि विज्ञान और इसकी शाखाओं के बारे में बताने जा रहे है.',\n",
              " 'तीन प्रकार की फसलों में अंतर.',\n",
              " 'भारत एक कृषि प्रधान देश है.',\n",
              " 'यहाँ की लगभग 50% जनसंख्या कृषि व उससें सम्बद्ध कार्यो में लगी है.',\n",
              " 'कृषि विज्ञान के जनक डॉ अनुज प्रताप सिंह है.',\n",
              " 'भारतीय कृषि अनुसन्धान परिषद् कृषि, पशुपालन एंव मत्स्य पालन के क्षेत्र में राष्ट्रीय स्तर की एक स्वायत सर्वोच्च संस्था है, जिसका प्रमुख कार्य इन क्षेत्रों में अनुसंधान करना, योजना बनाना एंव उन्हें खेतो तक क्रियान्वित कराना तथा प्राथमिक कृषि प्रसार शिक्षा की व्यवस्था करने में विज्ञान एंव कृषि प्रोघौगिकी कार्यक्रमों को प्रोत्साहन देना है.',\n",
              " 'शस्य विज्ञान , कृषि की एक महत्वपूर्ण शाखा है, जो फसल उत्पादन एंव भूमि प्रबन्धन से सम्बन्धित है.',\n",
              " 'अधिक ताप एंव आर्द्रता अधिक ताप तथा शुष्क.',\n",
              " 'कम तापक्रम व आर्द्रता शुष्क एंव गर्म वातावरण.',\n",
              " 'धान, ज्वार, बाजरा, मक्का, मूंगफली, अरहर, मूंग, कपास, सोयाबीन, आदि.',\n",
              " 'गेंहू, चना, मटर, बरसीम, आलू, तम्बाकू, आदि.',\n",
              " 'कद्दू वर्गीय अरहर, मूंग, उड़द, लोबिया, टमाटर आदि.',\n",
              " 'फसल चक्र किसी निशिचत समय में, निशिचत क्षेत्र पर तथा निशिचत क्रम में फसलों को उगाना ही फसल चक्र कहलाता है.',\n",
              " 'सघन खेती कृषि उत्पादन हेतु उपलब्ध किसी साधन स्तर पर वर्ष में खेत में अधिक-से-अधिक फसलें उगाना सघन खेती कहलाती है.',\n",
              " 'जीरो टिलेज प्रणाली में फसल को काटने के बाद अवशेष खेत में ही छोड़ दिया जाता है.',\n",
              " 'इससे जहाँ उर्वरक की बचत होती है, वही खेत को बार-बार जोतने की आवश्यकता नहीं पड़ती है.',\n",
              " 'फसल का उचित पादप घनत्व प्राप्त करने हेतु रोग, कीट एंव यांत्रिक क्षति से मुक्त लैंगिक अथवा वानस्पतिक सामग्री, जो फसल बोने अथवा रोकने के लिए प्रयोग की जाती है, बीज विज्ञान कहलाती है.',\n",
              " 'इसके अन्तर्गत पहली पीढ़ी के जो बीज प्राप्त किए जाते है, वह दो या अधिक स्वपरागित फसलों या शुद्ध वंशक्रमों के संकरण से प्राप्त होते है.',\n",
              " 'इन बीजों को प्रत्येक साल परिवर्तित करना पड़ता है.',\n",
              " 'जब किसी बीज के प्राकृतिक जीन में कृत्रिम उपायों द्वारा किसी दूसरे पौधे या जंतु के जीन का कोई भाग जोड़ दिया जाता है, जिसका उद्देश्य पौधों में किसी विशिष्ट गुण या क्षमता का विकास करना होता है.',\n",
              " 'यह वह बीज होता है, जिसे एक बार फसल लेने बाद अगली फसल के लिए किसानों को पुन: नया बीज खरीदना पड़ता है अर्थात् इस बीज से उत्पन्न पौधे तथा उस पौधे से उत्पन्न बीज को बीज के रूप में दोबारा प्रयोग में नहीं लाया जा सकता है.',\n",
              " 'पादप जनन वह कला व विज्ञान है, जिसमें आनुवंशिक सिद्धांतो का प्रयोग करके जीवों की वंशागतिक प्रणाली में स्वेच्छा से परिवर्तन किया जाता है.',\n",
              " 'पादप जनन का प्रयोग अधिक पैदावार या उच्च उत्पादन क्षमता युक्त पौधों को उत्पन्न करने में किया जाता है.',\n",
              " 'पादप जनन की विधियों को पाँच वर्गों में बाँट सकते है.',\n",
              " 'पृथककृत भ्रूण, पादपांगो, ऊतको व कोशिकाओं का किसी पात्र में निजर्म विवर्धन.',\n",
              " 'जूट के रेशे काफी मजबूत होते हैं, और इसे किसी भी रंग में रंगा जा सकता है.',\n",
              " 'गहरे रंग, आधुनिक प्रिंट तथा डिज़ाइन से बने जूट के बेग , स्लींगबेग तथा क्लच की बात करे तो यह आज कल के छात्रों में काफी लोकप्रिय है.',\n",
              " 'जूट की मुख्य दो किस्में टॉस और व्हाइट जूट हैं.',\n",
              " 'इसकी मुलायम पत्तियां सब्जियों के लिये उपयोग की जाती हैं.',\n",
              " 'तथा पौधों से गिरने वाली पत्तियां मिट्टी को उपजाऊ बनाती हैं.',\n",
              " 'जूट से रेशे निकालने के बाद जो लकड़ी बच जाती है, उसका उपयोग ईधन, भवन निर्माण सामग्री में किया जा सकता है.',\n",
              " '19वीं शताब्दी में ब्रिटिश ईस्ट इंडिया कंपनी द्वारा इसका व्यापार किया गया.',\n",
              " 'जूट की पहली मिल 1855 में कोलकाता के पास हुगली नदी के तट पर, ऋष्रा में स्थापित की गई.',\n",
              " 'यह पूर्वी क्षेत्र में विशेष रूप से पश्चिम बंगाल के प्रमुख उद्योगों में से एक है.',\n",
              " 'जूट प्राकृतिक, नवीकरणीय, बायोडिग्रेडेबल और सुरक्षित लिए सभी मानकों को पूरा करती है, जूट उद्योग 0.37 मिलियन श्रमिकों को प्रत्यक्ष रोजगार प्रदान करता है और लगभग 4.0 मिलियन खेत में कार्य करने वाले परिवारों की आजीविका का निर्वाह करता है.',\n",
              " 'इसके अलावा जूट के व्यापार में बड़ी संख्या में लोग लगे हुए हैं.',\n",
              " 'प्रबंधन द्वारा जारी किया गया बंध समापन के अनुसार, मिलों के बंद होने के प्रमुख कारण श्रमिक अनुशासनहीनता, अनुपस्थिति और ट्रेड यूनियनवाद रहा था.',\n",
              " 'किसानों के लिए कच्ची जूट की फसल महत्वपूर्ण नकदी फसल होती है.',\n",
              " 'भारत में जूट की खेती में हमेशा साल दर साल उतार-चढ़ाव होता रहता है.',\n",
              " 'कच्चे जूट का उत्पादन मुख्य रूप से पश्चिम बंगाल, बिहार, असम, उड़ीसा, आंध्र प्रदेश, त्रिपुरा और मेघालय राज्य में किया जाता है.',\n",
              " 'गजब मशीन, सुपरफास्ट तरीके से काटेगी घास.',\n",
              " 'जबकि मशीन बनाने पर सिर्फ 18 हजार रुपये खर्च आते हैं.',\n",
              " 'मैकेनिकल विभाग के हेड इंजीनियर गुरप्रीत सिंह की अगुवाई वाली टीम ने मशीन को तैयार किया है.',\n",
              " 'टीम में वजिंदर सिंह, अंकित बिश्नोई, साहिल गहलोत, रोहित गुप्ता, सत्यन पटियाल एवं नंदन कुमार शामिल रहे.',\n",
              " 'विद्यार्थियों के मुताबिक हाथ से चलाने वाली मशीनों से बड़े पार्कों में घास काटने में अधिक समय लगता.',\n",
              " 'जो एक समय में काफी घेरा कवर करता है.',\n",
              " 'इसकी स्पीड भी एक मीटर प्रति सेकेंड है.',\n",
              " 'उन्होंने बताया कि विद्यार्थियों को इस संबंध में सारी टेक्निकल एवं वित्तीय सहायता ज्ञान ज्योति ग्रुप द्वारा ही दी गई थी.',\n",
              " 'अंगूर की बेल विटेसी कुल से संबंधित है, जबकि सबसे ज्यादा प्रयोग की जाने वाली किस्में विटिस विनिफेरा प्रजातियों से संबंधित होती हैं.',\n",
              " 'अन्य यूवाइटिस उप-प्रजातियों का प्रयोग व्यापक फिलॉक्सेरा समस्या वाले क्षेत्रों में रूटस्टॉक के रूप में किया जाता है.',\n",
              " 'अंगूर सदाबहार पौधे की एक झाड़ी है, जिसे इसकी घुमावदार बेलों और अनुगामी विकास से जाना जाता है.',\n",
              " 'इसकी बेलों के तंतु तने पर बढ़ते हैं और इसके फूल नीचे की ओर होते हैं.',\n",
              " 'इसकी पत्तियां बड़ी, विपरीत, दिल के आकार की होती हैं और ऊपर पुष्पक्रम उगते हैं.',\n",
              " 'कलियां धुरी के बीच पौधों के जोड़ों पर स्थित होती हैं, और इन्हें 2 श्रेणियों में बांटा जाता है:प्राथमिक और गौण कलियांवसंत ऋतु के दौरान, हम तने और डंठल के बीच एक विशेष उभार देख सकते हैं.',\n",
              " 'ये गौण कलियां होती हैं.',\n",
              " 'इस कली के बगल में, प्राथमिक कली होती है, जो आमतौर पर वर्तमान उगने की अवधि के दौरान अंकुरित होगी.',\n",
              " 'आमतौर पर सर्दी के पाले की वजह से प्राथमिक कली नष्ट होने की स्थिति में , गौण कली अंकुरित होगी.',\n",
              " 'कलियां डंठल देती हैं जो बड़े होने पर बेंत बन जाते हैं.',\n",
              " 'सामान्य फूल द्विलिंगी होते हैं.',\n",
              " 'ये फूल निषेचित होते हैं और अंगूर के गुच्छे पैदा करते हैं.',\n",
              " 'अंगूर गुच्छे के वजन से बड़ी संख्या में आते हैं.',\n",
              " 'अंगूर वानस्पतिक रूप से बेरी होते हैं.',\n",
              " 'इसके अलावा, इसमें बीज और बीज-रहित किस्में भी मौजूद हैं.',\n",
              " 'बीज वाली किस्मों में 4 बीज तक हो सकते हैं.',\n",
              " 'आमतौर पर, अंगूर के बेल के जीवनचक्र के 2 चरण होते हैं, विकास अवधि और निष्क्रियता अवधि.',\n",
              " 'विकास की अवधि तीन चरणों में विभाजित है.',\n",
              " 'पहला चरण अंकुरण के साथ शुरू होता है और फूल खिलने के साथ खत्म होता है.',\n",
              " 'दूसरा चरण खिलने के साथ शुरू होता है और वेरिज़न के साथ खत्म होता है.',\n",
              " 'तीसरा चरण वेरिज़न के साथ शुरू होता है और पकने के साथ खत्म होता है.',\n",
              " 'निष्क्रियता अवधि पत्ती गिरने के तुरंत बाद शुरू होती है और लैक्रिमेशन के साथ खत्म होती है.',\n",
              " 'इस चरण के दौरान, बेलें आराम करती हैं.',\n",
              " 'पौधे अपनी कोई भी सामान्य प्रक्रियाएं नहीं करते हैं.',\n",
              " 'हालाँकि, उष्णकटिबंधीय क्षेत्र में, निष्क्रियता नहीं होती है.',\n",
              " 'विटिकल्चर की परिभाषा – विटिकल्चर क्या है.',\n",
              " 'कृपया नीचे कमेंट में अपने अनुभव, विधियों और अभ्यासों के बारे में बताएं.',\n",
              " 'आपके द्वारा जोड़ी गयी सभी सामग्रियों की जल्द ही हमारे कृषि विज्ञानियों द्वारा समीक्षा की जाएगी.',\n",
              " 'यहाँ आप नया लेख जमा कर सकते हैं, पहले से मौजूद लेख को संपादित कर सकते हैं, छवियां और वीडियो जोड़ सकते हैं या सैकड़ों आधुनिक कृषि विकास मार्गदर्शकों की मुफ्त उपलब्धता का आनंद उठा सकते हैं.',\n",
              " 'किसान को पाठ संदेश एसएमएस या वॉयस संदेश जानकारी प्राप्त करने के लिए, अपने मोड को चुनने के लिए कहा जाता है.',\n",
              " 'निम्नलिखित व्यक्तिगत विवरण के रजिस्टर करने के लिए अनिवार्य हैं.',\n",
              " 'किसान से इस एसएमएस के लिए शुल्क लिया जाएगा.',\n",
              " 'हालांकि विशेषज्ञों और अधिकारियों से बाद में प्राप्त होने वाले एसएमएस के लिए कोई शुल्क नहीं होगा.',\n",
              " 'कृपया ध्यान दें कि अल्पविराम आवश्यक हैं.',\n",
              " 'जल संसाधन, नदी विकास एवं गंगा संरक्षण मंत्रालय.',\n",
              " 'सूक्ष्म सिंचाई पर नौवां अंतर्राष्ट्रीय सम्मेलन औरंगाबाद में आयोजित किया जाएगा.',\n",
              " 'भारत सरकार का जल संसाधन, नदी विकास एवं गंगा संरक्षण मंत्रालय 16-18 जनवरी, 2019 के दौरान औरंगाबाद में ‘आधुनिक कृषि पर नौवां अंतर्राष्ट्रीय सूक्ष्म सिंचाई सम्मेलन’ आयोजित करेगा.',\n",
              " 'इस सम्मेलन का आयोजन सिंचाई एवं जल निकासी पर अंतर्राष्ट्रीय आयोग , भूजल पर भारतीय राष्ट्रीय समिति और जल संसाधन, नदी विकास एवं गंगा संरक्षण मंत्रालय के अधीनस्थ केंद्रीय सार्वजनिक क्षेत्र उद्यम वैपकॉस लिमिटेड के सहयोग से किया जाएगा.',\n",
              " 'केंद्रीय सड़क परिवहन एवं राजमार्ग, शिपिंग और जल संसाधन, नदी विकास एवं गंगा संरक्षण मंत्री श्री नितिन गडकरी इस अवसर पर मुख्य अतिथि होंगे.',\n",
              " 'महाराष्ट्र के मुख्यमंत्री श्री देवेन्द्र फडणवीस इस सम्मेलन की अध्यक्षता करेंगे.',\n",
              " 'केंद्रीय कृषि एवं किसान कल्याण मंत्री श्री राधामोहन सिंह और फिजी सरकार के कृषि, ग्रामीण और नौवहन विकास व जलमार्ग तथा पर्यावरण मंत्री डॉ. महेन्द्र रेड्डी इस अवसर पर विशेष रूप से आमंत्रित किये जायेंगे.',\n",
              " 'जल संसाधन, नदी विकास एवं गंगा संरक्षण और संसदीय मामलों के राज्य मंत्री श्री अर्जुन राम मेघवाल तथा अनेक राज्य सरकारों के मंत्री इस अवसर पर सम्मानित अतिथि होंगे.',\n",
              " 'यह कार्यक्रम एक सम्मेलन के रूप में बहु-विषयक संवाद होगा जिस दौरान आधुनिक कृषि के लिए सूक्ष्म सिंचाई से जुड़े मुद्दों के साथ-साथ बेहतर फसल उत्पादकता के लिए सूक्ष्म सिंचाई में नई तकनीकों और क्लस्टर स्तरीय खेती में सूक्ष्म सिंचाई जैसे विभिन्न मुद्दों पर भी विचार-विमर्श किया जाएगा.',\n",
              " 'बड़ी संख्या में प्रख्यात अंतर्राष्ट्रीय एवं राष्ट्रीय विशेषज्ञ और स्थानीय किसान फसल उत्पादन बढ़ाने एवं कृषि में इष्टतम उपयोग के लिए जल प्रबंधन, टिकाऊ जल, खाद्य एवं कृषि हेतु तकनीकी एवं सामाजिक उपाय करने के लिए सूक्ष्म सिंचाई प्रौद्योगिकी संबंधी नवीनतम घटनाक्रमों से जुड़े अपने-अपने अनुभवों को साझा करेंगे.',\n",
              " 'इस अवसर पर राष्ट्रीय एवं अंतर्राष्ट्रीय संगठन, केंद्र/ राज्य सरकारों के संगठन, सार्वजनिक क्षेत्र उपक्रम, औद्योगिक संगठन, उपकरण निर्माता, उद्यमी, वित्तीय एवं वित्त पोषण करने वाले संस्थान और परामर्शदात्री एवं निर्माण संगठन इस क्षेत्र में अपनी तकनीकी क्षमताएं पेश करेंगे.',\n",
              " 'यह सम्मेलन दरअसल संगोष्ठियों, प्रदर्शनियों एवं विभिन्न सत्रों के जरिये विचार-विमर्श करने के लिए एक फोरम उपलब्ध कराएगा.',\n",
              " 'इसके साथ ही यह सम्मेलन सूक्ष्म सिंचाई के व्यापक उपयोग और जल संरक्षण, उन्नत फसल प्रौद्योगिकी, इंजीनियरिंग तकनीकों से जुड़ी रणनीतियों के बारे में जागरूकता पैदा करेगा.',\n",
              " 'इस सम्मेलन का उद्देश्य मौजूदा चुनौतियों के संदर्भ में विकासशील एवं विकसित दोनों ही राष्ट्रों की विभिन्न समस्याएं सुलझाना है.',\n",
              " 'सम्मेलन के दौरान सिंचाई मंत्री की गोलमेज बैठक, किसान पवेलियन एवं एनजीओ से जुड़े सत्र, हस्तशिल्प मेला, विशिष्ट फसलों और विशेष कृषि-जलवायु जोन पर कार्यशालाएं आयोजित की जायेंगी.',\n",
              " 'इसके अलावा किसानों, प्रोफेशनलों, कंपनियों और सरकार को सूक्ष्म सिंचाई पुरस्कार प्रदान किये जायेंगे.',\n",
              " 'मसूद हुसैन, सिंचाई एवं जल निकासी पर अंतर्राष्ट्रीय आयोग के अध्यक्ष श्री फेलिक्स रिइंडर्स , सिंचाई एवं जल निकासी पर अंतर्राष्ट्रीय आयोग के महानिदेशक श्री ए. बी. पांड्या भी इन कार्यक्रमों के दौरान उपस्थित रहेंगे.',\n",
              " 'मत्स्यपालन, पशुपालन और डेयरी मंत्रालय.',\n",
              " 'पशुपालन एवं डेयरी विभाग ने 20वीं पशुधन गणना रिपोर्ट जारी की.',\n",
              " 'कुल गोजातीय आबादी वर्ष 2019 में 302.79 मिलियन आंकी गई जो पिछली गणना की तुलना में लगभग 1 प्रतिशत अधिक है.',\n",
              " 'मादा मवेशी 145.12 मिलियन आंकी गई है जो पिछली गणना की तुलना में 18.0 प्रतिशत अधिक है.',\n",
              " 'देश में पशुधन गणना वर्ष 1919-20 से ही समय-समय पर की जाती रही है.',\n",
              " 'कृषि भूमि से क्या अभिप्राय है.',\n",
              " 'कृषि भूमि को आम तौर पर उस भूमि क्षेत्र के हिस्से के रूप में परिभाषित किया गया है जो भूमि स्थायी चरागाहों, फसलों और कृषि आदि के इस्तेमाल के लिए उपयोगी होती है.',\n",
              " 'कृषि भूमि को विभिन्न राज्य विभिन्न क़ानूनों के तहत समझाया गया है.',\n",
              " 'निचे आप देख सकते हैं हमारे महत्वपूर्ण सर्विसेज जैसे कि फ़ूड लाइसेंस के लिए कैसे अप्लाई करें, ट्रेडमार्क रेजिस्ट्रशन के लिए कितना वक़्त लगता है और उद्योग आधार रेजिस्ट्रेशन का क्या प्रोसेस है .',\n",
              " 'कृषि भूमि को गैर-कृषि भूमि में परिवर्तित करना.',\n",
              " 'कानून में संपत्ति के मालिक की परवाह किए बिना कृषि भूमि पर मकान, कारखाने, उद्योग आदि बनाने की अनुमति नहीं है.',\n",
              " 'आवासीय उद्देश्य के लिए संपत्ति खरीदने से पहले अतिरिक्त सतर्क रहना आवश्यक है.',\n",
              " 'अगर उस भूमि को शुरूआत में ही कृषि भूमि के रूप में आवंटित किया गया था तो इसे गैर-कृषि भूमि में परिवर्तित किया जाना चाहिए.',\n",
              " 'कृषि भूमि को गैर-कृषि भूमि में परिवर्तित करने की प्रक्रिया.',\n",
              " 'स्थानीय अधिकारियों से ‘भूमि उपयोग में परिवर्तन’ के लिए एक अनिवार्य सहमति आवश्यक है.',\n",
              " 'निम्नलिखित दस्तावेजों को आवेदन पत्र के साथ संलग्न किया जाना चाहिए.',\n",
              " ' जब कृषि भूमि को गैर-कृषि भूमि में परिवर्तित किया जाता है, तो संपत्ति और उसकी स्थानीयता के आधार पर एक अनिवार्य शुल्क का भुगतान किया जाना आवश्यक है.',\n",
              " ' विवरण जैसे कि भूमि की सीमा, बंधक, फसलों और मिट्टी के प्रकार, पिछले और वर्तमान मालिकों के नाम आदि का उल्लेख किया जाना चाहिए.',\n",
              " ' पहले वर्णित दस्तावेजों की प्रमाणित प्रतियां तहसीलदार या राजस्व कार्यालय से प्राप्त की जा सकती हैं.',\n",
              " 'सभी अवैतनिक बकाया का भुगतान किया जाना चाहिए, और भुगतान प्रमाण की प्रतियां जोड़ी जानी चाहिए.',\n",
              " 'उपायुक्त या कलेक्टर रूपांतरण की अनुमति तभी देंगे जब उन्हें आश्वस्त किया जाए कि आवश्यक शर्तें पूरी हो गई हैं और जमीन पर कोई बकाया या मुकदमे नहीं हैं.',\n",
              " ' भूमि के मास्टर प्लान के तहत रूपांतरण आज्ञा पाने योग्य होना चाहिए.',\n",
              " 'तब कृषि से गैर-कृषि के लिए भूमि में परिवर्तन की अनुमति वाला रूपांतरण आदेश जारी किया जाएगा.',\n",
              " ' एक बार रूपांतरण प्रमाणपत्र प्राप्त करने के बाद खेत को आधिकारिक तौर पर गैर-कृषि भूमि में बदल दिया जाता है.',\n",
              " 'आयुर्वेद के अंदर ऐसे बहुत से फल, फूलों, पौधों और अन्य वस्तुओं का जिक्र है जिसका मानव जीवन पर बहुत सकारात्मक प्रभाव पड़ता है.',\n",
              " 'आयुर्वेद के अनुसार पेड़ पौधों से प्राप्त सामग्रियों से हम ना केवल पूरी तरह स्वस्थ रह सकते हैं.',\n",
              " 'बल्कि भयंकर बीमारियों को भी इनके जरिए मात दी जा सकती है.',\n",
              " 'ऐसा ही कुछ आयुर्वेद में लाल चंदन की लकड़ी को लेकर लिखा गया है.',\n",
              " 'इसे लोग अलग अलग नाम से जानते हैं, रक्तचंदन, हर्टवुड, लाल चंदन, माणिक की लकड़ी, अगरू, अनुकम और लाल चंदन.',\n",
              " 'लाल चंदन के अंदर पॉलीफेनोलिक यौगिक, ग्लाइकोसाइड, जरूरी तेल, फ्लेवोनोइड, टैनिन और फेनोलिक एसिड जैसे कई फाइटोकेमिकल्स होते हैं.',\n",
              " 'इसके अलावा लाल चंदन के कुछ दूसरे फायदे भी हैं जिन पर हम विस्तार से चर्चा करेंगे.',\n",
              " 'स्किन समस्याओं मेंआज के समय में खराब खान पान और प्रदूषण का असर स्किन पर दिखने लगता है.',\n",
              " 'जिसकी वजह से कई तरह की स्किन संबंधित समस्याएं होती हैं, जैसे सन बर्न, पिंपल्स, एक्ने, प्रीमेच्योर एजिंग, टेन्नड स्किन ऑयली स्किन आदि.',\n",
              " 'आपको बता दें कि लाल चंदन के अंदर एंटी इंफ्लेमेटरी, एस्ट्रिजेंट और एंटी ऑक्सीडेटिव तत्व होते हैं, जो स्किन से जुड़ी समस्याओं का अंत करने में मदद करते हैं.',\n",
              " 'ऐसे में मधुमेह के रोगियों के घाव जल्दी से ठीक हो सके, इसके लिए लाल चंदन का उपयोग किया जाता है.',\n",
              " 'आपको बता दें कि लाल चंदन में एंजियोजेनेसिस गतिविधि होती हैं.',\n",
              " 'ऐसे में गुड कोलेस्ट्रॉल और बैड कोलेस्ट्रॉल का संतुलित होना बेहद जरूरी है.',\n",
              " 'इसके लिए लाल चंदन का उपयोग करना फायदेमंद हो सकता है.',\n",
              " 'दरअसल लाल चंदन के अंदर जेनेस्टिक, अल्फा, वैनेलिक एसिड, बीटा रीसोर्कलिक एसिड जैसे तत्व पाए जाते हैं जो बैड कोलेस्ट्रॉल को कम करते हैं और गुड कोलेस्ट्रॉल को बढ़ाते हैं.',\n",
              " 'सिर दर्द से राहतआपने अक्सर मंदिरों में भी लाल चंदन का टीका लगाते हुए देखा होगा.',\n",
              " 'दरअसल लाल चंदन का अस्तित्व केवल धर्म से बल्कि विज्ञान से भी है.',\n",
              " 'आपको बता दें कि लाल चंदन के अंदर ऐसे गुण होते हैं जो आपके पित्त को संतुलित करने का कार्य करते हैं.',\n",
              " 'ऐसे में सिर दर्द होने पर लाल चंदन का लेप लगाना दर्द से छुटकारा दिलाता है.',\n",
              " 'यह मन को शांत करता है जो कि सिर दर्द का मुख्य कारण है.',\n",
              " 'ऐसे में लाल चंदन का उपयोग किया जा सकता है.',\n",
              " 'दरअसल लाल चंदन के एंटी इंफ्लेमेटरी गुण होते हैं, जो आपको बलगम, गले की खराश और खांसी से राहत दिलाने में मदद करते हैं.',\n",
              " 'डायबिटीज में सुधारऐसे लोग जो डायबिटीज की समस्या से पीड़ित हैं.',\n",
              " 'उन्हें अक्सर खाने पीने से लेकर दवाइयों तक बहुत ध्यान रखना पड़ता है.',\n",
              " 'ताकि शरीर में ग्लूकोज लेवल भी सही रहें और शुगर लेवल भी ना बढ़े.',\n",
              " 'लाल चंदन के अंदर मौजूद पॉलीफेनोल्स शरीर में ग्लूकोज के लेवल को कम करते हैं और इंसुलिन के निर्माण में भी सुधार करते हैं.',\n",
              " 'यही नहीं लाल चंदन के अंदर जिंक के साथ साथ एंटी डायबिटीज प्रभाव भी होते हैं जो आपको डायबिटीज से बचाए रखने का कार्य भी करते हैं.',\n",
              " 'आपको बता दें कि लाल चंदन के अंदर फ्लेवोनोइड्स, और फेनोलिक एसिड होता है.',\n",
              " 'यह लिवर में फ्री रेडिकल्स की समस्या से मुक्त करते हैं.',\n",
              " 'किसी पदार्थ की ताप को संग्रह करने की क्षमता को उसकी विशिष्ट ऊष्मा क्षमता कहा जाता है.',\n",
              " ' पानी की विशिष्ट ऊष्मा क्षमता अधिक होती है.',\n",
              " 'विशिष्ट ऊष्मा क्षमता के कारण ही तटीय क्षेत्रों में मध्यम तापमान होते हैं.',\n",
              " 'सतही-तनाव तरल पदार्थ की सतह परत के भीतर मौजूद वह बल है जो परत एक लोचदार शीट के रूप में व्यवहार करने का कारण बनता है.',\n",
              " ' पानी में उच्च सतही तनाव होता है.',\n",
              " 'सतही तनाव का लाभ उठाकर ही छोटे कीड़े पानी पे चल लेते हैं.',\n",
              " ' पानी के एक अणु में दो हाइड्रोजन तत्व और एक ऑक्सीजन तत्व होता है जो आकृति में दिखाई गयी व्यवस्था में मौजूद होते हैं.',\n",
              " 'लगभग मिकी माउस की तरह.',\n",
              " 'शुद्ध पानी का पीएच 7 होता है, जिसका अर्थ है कि यह स्वादहीन है.',\n",
              " 'फूस की झोपड़ी में लगी आग चार लाख रूपये का नुकसान.',\n",
              " 'आग लगने से जली झोपड़ी देखते परिवारीजन.',\n",
              " 'विकासखंड क्षेत्र के गांव भैदपुर के मजरा परशुआ में बुधवार दोपहर चूल्हे की चिंगारी से झोपड़ी में आग लग गई.',\n",
              " 'गांव परशुआ निवासी साबिर के घर में बुधवार दोपहर तीन बजे चूल्हे पर खाना बनाया जा रहा था.',\n",
              " 'उसके जेवर भी जल गए.',\n",
              " 'आसपास मौजूद ग्रामीण पानी डालकर आग बुझाने मेें जुट गए.',\n",
              " 'सूचना पर पहुंचे दमकल कर्मियों ने आग बुझाई.',\n",
              " 'आदर्श रूप से, हम पूरी सर्दियों के दौरान अपने बेंच ग्राफ्ट की रोपाई कर सकते हैं.',\n",
              " 'हालाँकि, ज्यादातर मामलों में सर्दियों का दूसरा भाग ज्यादा उपयुक्त समय होता है.',\n",
              " 'किसान आमतौर पर 1 साल पहले रोपे गए पौधे पसंद करते हैं.',\n",
              " 'कुछ उत्पादक अपने से कटिंग हटाकर उन्हें रूटस्टॉक की किस्मों पर ग्राफ्ट करना पसंद करते हैं.',\n",
              " 'हालाँकि, किसी वैध विक्रेता से अपने पौधों को खरीदना हमेशा सबसे अच्छा समाधान होता है.',\n",
              " 'पिछले अध्यायों में वर्णित सभी तैयारी चरणों के बाद, हम रोपाई शुरू कर सकते हैं.',\n",
              " 'उत्पादक मिट्टी पर उन सटीक बिंदुओं को चिन्हित करते हैं जहाँ वे छोटे पौधे लगाएंगे.',\n",
              " 'आजकल, तकनीक से किसानों को मदद मिलती है, क्योंकि वे उच्च सटीकता वाले लेज़रों का प्रयोग कर सकते हैं.',\n",
              " 'हाथ से रोपाई करने की तुलना में लेज़र से रोपाई करना इसलिए ज्यादा फायदेमंद है क्योंकि इससे बहुत सटीकता के साथ और सही दूरी पर तेजी से रोपाई करना संभव होता है.',\n",
              " 'दूसरी ओर, ढलान वाले खेतों में रोपाई करने में उन्हें मुश्किलों का सामना करना पड़ता है.',\n",
              " 'जड़ वाले बेंच ग्राफ्ट्स की बात आने पर, उन्हें इतनी गहराई में रोपना जरूरी होता है कि जोड़ बिंदु को मिट्टी की सतह से 4-5 सेमी ऊपर तक रखा जा सके.',\n",
              " 'अगर हम जोड़ बिंदु को ढंक देते हैं तो साइअन से जड़ें निकलना शुरू हो सकती हैं.',\n",
              " 'यह एक बड़ी समस्या होगी.',\n",
              " 'हालाँकि, पाले के उच्च जोखिम वाले देशों में, कुछ किसान पौधों की सुरक्षा के लिए, रोपाई के बाद पूरे पौधे को मिट्टी से ढंक देते थे.',\n",
              " 'इसके कुछ हफ्ते बाद वो साइअन की किसी भी जड़ सहित अतिरिक्त मिट्टी हटा देते हैं.',\n",
              " 'उदाहरण के लिए, उपजाऊ मिट्टी वाले सींचे गए अंगूर के खेत में, आमतौर पर सीधे सेवन की जाने वाली अंगूर की किस्मों के संबंध में प्रति हेक्टेयर 2000-2500 पौधे के पैटर्न का प्रयोग किया जाता है, जबकि 10-12 टन प्रति हेक्टेयर की उपज वाली वाइन की किस्मों के लिए प्रति हेक्टेयर 3000-3500 पौधे लगाए जा सकते हैं.',\n",
              " 'इसका कारण यह है कि पंक्ति में पौधों के बीच इतनी कम दूरी रखने पर, दो आसपास के पौधों की जड़े आपस में हस्तक्षेप कर सकती हैं.',\n",
              " 'आमतौर पर, पौधों के बीच 1 मीटर से कम की दूरी से बचा जाना चाहिए, क्योंकि इसकी वजह से पत्ते एक-दूसरे के ऊपर चढ़ने लगेंगे और पौधों के जमावड़े को बढ़ावा देंगे, जिसकी वजह से फसल में खराब वातन और कम वायु संचार जैसी समस्याएं आ जाती हैं.',\n",
              " 'कुछ किसान ओला-रोधी जालियों का प्रयोग करते हैं.',\n",
              " 'ये जालियां पक्षियों से भी फसल की सुरक्षा करती हैं.',\n",
              " 'लेकिन तंबाकू और सिगरेट को छोड़कर अगर बाकी चीजों का बहुत सीमित सेवन किया जाए तो शरीर को लाभ भी पहुंचाती हैं. . . सीमित नशे के फायदे-जैसे कॉफी और चाय पीने से थकान उतारने और सिरदर्द में राहत मिलती है.',\n",
              " 'इसकी वजह होता है, इनके अंदर पाया जानेवाला कैफीन.',\n",
              " 'जो हमारे ब्रेन में जाकर हैपी हॉर्मोन्स को बढ़ाता है और कॉर्टिसोल जैसे निराशा बढ़ानेवाले हॉर्मोन्स को सीमित करता है.',\n",
              " '-वहीं, भांग और एल्कोहॉल को सीमित मात्रा में लेने से ये भी शरीर को कई लाभ पहुंचाते हैं.',\n",
              " 'जबकि भांग ब्रेन में जाकर खुशी का अहसास बढ़ानेवाले हॉर्मोन डोपामाइन की रिलीज करती है.',\n",
              " 'आज सिर्फ भांग की बात करेंगे-बाकी नशों को साइड में रखते हुए आज हम सिर्फ भांग के बारे में बात करेंगे.',\n",
              " 'आखिर लोग भांग पीते क्यों हैं.',\n",
              " 'क्या यह सिर्फ नुकसान करती है.',\n",
              " 'अगर ऐसा होता तो पौराणिक कथाओं के अनुसार, भगवान शिव तो कभी भांग का सेवन नहीं करते.',\n",
              " 'लेकिन शिवजी पर तो भांग चढ़ाई जाती है. . . -दअसल भांग एक आयुर्वेदिक औषधि भी है, जिसका अधिक मात्रा में सेवन करने से नशा होता है.',\n",
              " 'जबकि सीमित मात्रा में कई दूसरी औषधियों के साथ मिलाकर इसका उपयोग कई बीमारियों को दूर करने में किया जाता है.',\n",
              " 'क्यों खुशी देता है भांग पीना.',\n",
              " '-अब बात करते हैं कि भांग शिवजी पर क्यों चढ़ती है और इसे पीने से क्या फायदा मिलता है.',\n",
              " 'दरअसल, भांग तासीर में ठंडी होती है. . . यह शरीर को ठंडक देने का काम करती है.',\n",
              " 'मोटापा कम करने के लिए खाएं ऐसा खाना, पतली हो जाएगी कमरअधिक मात्रा में लेने का नुकसान-लेकिन अगर भांग को ही अधिक मात्रा में ले लिया जाए तो यह पेट में गर्मी या जलन भी कर सकती है.',\n",
              " 'इसलिए भांग का सेवन हमेशा सीमित मात्रा में करना चाहिए.',\n",
              " 'भांग के दूसरे नाम मैरिजुआना, कैनाबीस और वीड हैं.',\n",
              " 'क्यों करता है बार-बार लेने का मन.',\n",
              " '-भांग में टैट्राहाइड्रोकार्बनबिनोल पाया जाता है.',\n",
              " 'यह एक बड़ी वजह है कि लोग इसकी लत पाल लेते हैं.',\n",
              " 'लेकिन यह लत उनकी लाइफ पर भारी पड़ सकती है.',\n",
              " 'क्योंकि इसके सेवन के बाद दिमाग हाइपर ऐक्टिव हो जाता है.',\n",
              " 'आसान भाषा में कहें तो हमारे सोचने-समझने की शक्ति कमजोर हो जाती है और हम आस-पास की स्थितियों को भलि प्रकार समझ नहीं पाते हैं.',\n",
              " 'ऐसे मिलता है भांग का फायदा-एकाग्रता भंग करनेवाली भांग को यदि सही और सीमित मात्रा में लिया जाए तो यह एकाग्रता बढ़ाने का काम भी करती है.',\n",
              " 'यही वजह है कि मानसिक बीमारियों के इलाज में उपयोग की जानेवाली कई दवाओं में इसका सीमित उपयोग होता है.',\n",
              " \" भांग से दर्द दूर करने के फेर में लोग इस तरह बन रहे हैं 'कैनाबिस यूज डिसऑर्डर' के मरीज-यदि भांग को एक औषधि के रूप में लिया जाए तो यह यादाश्त बढ़ाने में मददगार साबित हो सकती है.\",\n",
              " 'लेकिन इसके लिए आपको इसका सेवन किसी अच्छे वैद्य की देखरेख में ही करना चाहिए.',\n",
              " \"इससे आप 'कैनाबिस यूज डिसऑर्डर' का शिकार हो सकते हैं.\",\n",
              " 'कीट प्रबंधन - रबी फसल -गेहूॅ.',\n",
              " 'ये रस चूसने वाले होते हैजिनकी एक मि. मी.',\n",
              " 'पत्तियों पर सिलवरी दाग बना देतेहै.',\n",
              " 'पौधा अकड़े हुए रहते है जिनकी बालियां.',\n",
              " 'बाद की अवस्थाओं में पौधे रोगग्रस्त.',\n",
              " 'फसल की अच्छी तरह देख-रेख करें.',\n",
              " 'रसायनिक कीटनाशकों का उपयोग उस समय करना.',\n",
              " 'मिथाइल प्रति हेक्टेयर का छिड़काव करें.',\n",
              " 'छिड़काव के लिए हॉलो कोननोज़ल का उपयोग करें.',\n",
              " 'वयस्क गंधी बग नुकसान पंहुचाती है, तना को.',\n",
              " 'बग की लार जहरीली होती है जो तने को मार.',\n",
              " 'यदि प्रारंभिक अवस्था में कर्नल खा लिए.',\n",
              " 'जाते है तो दाने पूरी तरह नष्ट हो जाते है.',\n",
              " 'बाद की अवस्था में आक्रमण होता है तो दाने.',\n",
              " 'फसल की अच्छी तरह देखरेख करें.',\n",
              " 'कीटनाशक का खेत के किनारे छिड़काव करें.',\n",
              " ' मि. ली. डाइमेथेएट की दर से छिड़काव करें.',\n",
              " 'प्रति हेक्टेयर 25 ई. सी. मिथाइल डिमाटन की दर से.',\n",
              " 'तना चबाया हुआ सा दिखाई पड़ता है.',\n",
              " 'सिसमेटिक कीटनाशकों का उपयोग करें.',\n",
              " ' कि. ग्रा. रेत उपचारित कर खेत में सिंचाई पूर्व छिड़कें.',\n",
              " 'यह कीट नवम्बर से फरवरी माह में सक्रिय.',\n",
              " 'जड़ों के आधार पर पीले भूरे एफिड दिखाई.',\n",
              " 'इसका प्रकोप धान-गेहँ की फसल में देखा गया.',\n",
              " 'फसल की प्रारंभिक अवस्था में प्रकोप देखा.',\n",
              " 'कीट पत्तियां चबाकर नुकसान पहुंचाते है.',\n",
              " 'नवजात लार्वा पत्तियां खाते है फिर तने.',\n",
              " 'लार्वा अधिकतर रात में आक्रमण करते है.',\n",
              " 'यदि मौसम गीला हो या बादल हो तो ये पूरे.',\n",
              " 'फौजी कीट के लिए आर्थिक देहली स्तर 4 से 5 लार्वा /लीटर पंक्ति.',\n",
              " 'शाम के समय निम्नलिखित का छिडकाव करें.',\n",
              " '750 ग्राम फेनीट्रोथीओन प्रति हेक्टेयर की दर से छिड़काव करें.',\n",
              " 'की दर से छिड़काव करें.',\n",
              " 'वयस्क कीट ज्यादा नुकसान पहुंचाता है.',\n",
              " 'कीड़ों की संख्या जितनी ज्यादा होगी.',\n",
              " 'नाइट्रोजन उर्वरकों का अत्यादिक उपयोग न करें.',\n",
              " 'मी प्रति हेक्टेयर की दर से छिड़काव.',\n",
              " 'नाम सफेद ग्रब/ गुवरेल/ कुरमुल/ भिडोला.',\n",
              " 'जड़े आंशिक रूप से नष्ट जाते है.',\n",
              " 'पौधे अकड़ जाते है और बाले नहीं आती है.',\n",
              " 'खेत में टूटे और मरे हुए पौधे दिखाई पड़ते.',\n",
              " 'खेत में कई जगह मुरझाये और मरे हुए पौधे.',\n",
              " 'नियंत्रण रसायनिक कीटनाशकों का उपयोग.',\n",
              " 'हेक्टेयर की दर से छिड़काव करें.',\n",
              " 'प्रति हेक्टेयर की दर से छिड़काव करें.',\n",
              " 'अच्छी तरह सड़ी खाद का उपयोग करें.',\n",
              " 'नियंत्रण निम्नलिखित कीटनाशकों का उपयोग.',\n",
              " 'बोनी के पहले4 मि. ली. क्लोरोपाइरीफॉस प्रति किलो से.',\n",
              " 'बोनी के पहले उपचारित करें.',\n",
              " 'चूहे फसल को सबसे ज्यादा नुकसान पहुंचाते.',\n",
              " 'चूहे पौधे को जमीन से कुछ ऊपर काटते है.',\n",
              " 'फिर पूरा पौधे या उसकी बाली अपने बिल में ले जाते है.',\n",
              " 'गेहूँ में एक हेक्टेयर में करीब 25 बिल.',\n",
              " 'खेत की जुताई करें जिससे बिल नष्ट हो जाए.',\n",
              " 'पानी भर के या मिट्टी भर के बिलों को भरे.',\n",
              " 'करना चाहिए जब कीट की संख्या आर्थिक क्षति स्तर.',\n",
              " 'गेहूँ के पौधे जिनमें अरोयेदार पत्तियां.',\n",
              " 'वयस्क और लार्वा दोनों ही नुकसान पहुंचाते.',\n",
              " 'वयस्क कीट का काला सिर, हल्का भूरा बीच.',\n",
              " 'इनकी नीले-हरे पंख होते है.',\n",
              " 'वयस्क 4 से 5 मि. मी. की लंबाई के होते.',\n",
              " 'पत्तियों में धारियां दिखती है.',\n",
              " 'गर्मी में गहरी जुताई करें.',\n",
              " 'प्रतिरोधक किस्मों का उपयोग करें.',\n",
              " 'अच्छी तरह सड़ी हुई खाद को उपयोग करें.',\n",
              " 'उर्वरक की अनुमोदित मात्रा का उपयोग करें.',\n",
              " 'चाहिए जब कीट की संख्या आर्थिक क्षति स्तर को पार.',\n",
              " 'करना चाहिए जब कीट की संख्या आर्थिक क्षति स्तर को.',\n",
              " '50 गाम साइपरमेथरीन प्रति हेक्टेयर की दर से छिड़काव करें और.',\n",
              " 'आवश्यकता हो तो दोबारा छिड़काव करें.',\n",
              " 'लार्वा ज्यादा नुकसान पहुंचाती है.',\n",
              " 'लेते है जिससे तृषार गिर जाते है.',\n",
              " 'वयस्क मक्खी हल्के हरे से पीले रंग की होती.',\n",
              " 'लार्वा सबसे ज्यादा नुकसान पहुंचाती है.',\n",
              " 'प्रकोप अधिक हो तो पौधा अकड़ जाता है.',\n",
              " 'उपज में कमी आती है.',\n",
              " 'हेसीयन मक्खी की लंबाई 3 से 4 मि. मी. होती.',\n",
              " 'सिर काला होता है और गुलाबी पीला पेट होता.',\n",
              " 'गांठे बनने के समय आक्रमण होता है.',\n",
              " 'तो पकने की अवस्था में तने टुट के गिर सकते.',\n",
              " 'यह कीट नवम्बर से दिसम्बर माह में असिंचित.',\n",
              " 'वयस्क कीट पत्तियों पर आक्रमण करता है.',\n",
              " '/हे की दर से छिड़काव करें.',\n",
              " 'ऑपरेटर सिंगल व्हील को चालू करेगा और एक साथ आठ थ्रेड्स स्पिन करेगा.',\n",
              " 'सबसे स्वीकृत दृश्य इंजन का संक्षिप्त नाम है.',\n",
              " 'हालांकि इनमें से किसी को भी स्वीकार नहीं किया गया है.',\n",
              " 'लेकिन यह एक समय में केवल एक ही सूत कात सकता था.',\n",
              " 'इसने तेजी से और व्यापक बुनाई को सक्षम किया.',\n",
              " 'जिन लोगों ने इस कारण के लिए एक प्रयास किया था उनमें से एक जेम्स हरग्रेव्स थे.',\n",
              " 'यह व्यापक रूप से माना जाता है कि एक दिन हरग्रेवेस की बेटी ने परिवार के घूमने के चक्कर में गलती से दस्तक दे दी और नुकीली सीधी स्थिति में धुरी घूमती रही.',\n",
              " '1764 में जेम्स हैरग्रेवस ने स्टैनहिल ओसवाल्डविस्टल लंकाशायर इंग्लैंड में अपनी मशीन बनाई.',\n",
              " 'उन्होंने और जेम्स ने मिल स्ट्रीट में एक कपड़ा व्यवसाय स्थापित किया.',\n",
              " 'स्पिनिंग जेनी के आविष्कार में विकास.',\n",
              " 'हालांकि इसने श्रम की आवश्यकता को बचाया कुछ कमियां और सीमाएं थीं.',\n",
              " 'इसने किसी भी तरह के वस्त्र के लिए उपयुक्त मजबूत पतले धागों का उत्पादन किया.',\n",
              " 'मानव जीवन के सुधार में स्पिनिंग जेनी के आविष्कार की भूमिका.',\n",
              " 'अब एक व्यक्ति के लिए एक ही समय में 12 या 24 धागे स्पिन करना संभव हो गया.',\n",
              " 'इसके आविष्कार ने औद्योगिक क्रांति की शुरुआत को भी गति दी.',\n",
              " 'भारत में कृषि योग्य भूमि के लगभग एक तिहाई भाग मेंशुष्क खेती अपनाई जाती है.',\n",
              " 'शुष्कतथा कमवर्षावाले क्षेत्रों में जहाँ पूर्ण वर्ष भरऔसत वार्षिक वर्षा 50 सेमी०या इससे भी कम होती है, वहाँ पर फसल की वृद्धि के लिये पर्याप्त मात्रा में पानी नहीं मिल पाता है, वहां शुष्क खेती की जाती है.',\n",
              " 'शुष्क खेती किसे कहते है - परिभाषा.',\n",
              " 'हमारे देश में कुल खेती योग्य भमि 1412.3 लाख हेक्टयर का 100 प्रतिशत भाग असिंचित है, तथा पूर्ण रूप से वर्षा पर ही निर्भर रहता है.',\n",
              " 'इस प्रकार के क्षेत्रों में मुख्य:विशेष प्रकारसे की जाती है,शुष्कतथा कम वर्षा वाले क्षेत्रों में खेती करने का क्रिया कोशुष्क खेती कहते हैं.',\n",
              " 'शुष्क खेती किसे कहते है इसके सिद्धांत एवं शुष्क खेती की विशेषताएं लिखिएइस प्रकार की खेती में भूमि प्रबन्ध की क्रियायें इस प्रकार अपनाई जाती है, कि भूमि से नमी की हानि कम से कम हो जिससे भूमि में वर्षा व ओस आदि से प्राप्त नमी अधिक से अधिक मात्रा में व लम्बे समय तक सुरक्षित रखी जा सके.',\n",
              " 'ये भी पढ़ेंखेती किसे कहते है खेती कितने प्रकार की होती है.',\n",
              " 'बहुप्रकरीय खेती किसे कहते है इसके लाभ एवं दोष.',\n",
              " 'किसानी खेती किसे कहते है इसके लाभ एवं दोष लिखिए.',\n",
              " 'खेती की एक उन्नत प्रणालीजिसके अन्तर्गत आर्थिक दृष्टि से फसलों से सामान्य उपज के लिये भूमि में नमीसंचितकी जाती है, जहाँ पर कम तथा असमय वर्षा होती हो,शुष्क खेती कहलाती है.',\n",
              " 'शुष्क खेती के लिये निम्नलिखित सिद्धान्त अनुकरणीय हैं.',\n",
              " 'भूमि कीजल धारण क्षमता को सुधार कर वर्षा के पानी को खेतों में एकत्र करना.',\n",
              " 'ऐसी फसलें उगाना जिन्हें कम पानी की आवश्यकता हो तथा जो अपनी बढ़वार वर्षा ऋतु में ही पूरी कर लें.',\n",
              " 'वर्षा ऋतु में खेतों में पानी एकत्र करना तथा वर्षा ऋतु के बाद फसल उगाना.',\n",
              " 'खाली पड़े खेतों में खरपतवारों को नष्ट करना जिससे जल का वाष्पीकरण न हो.',\n",
              " 'ये भी पढ़ेंफसल किसे कहते है यह कितने प्रकार की होती है.',\n",
              " 'फसल प्रणाली किसे कहा जाता है.',\n",
              " 'मिश्रित फसलें किसे कहते है इसके लाभ एवं दोष.',\n",
              " 'शुष्क खेती की निम्नलिखित विशेषताएं है.',\n",
              " 'रबी की फसल कटने के पश्चात् खेत को गर्मी में मिट्टी पलटने वाले हल से जोत देना चाहिये, ऐसा करने से वर्षा ऋतु का समस्त जल भूमि में सोख लिया जायेगा.',\n",
              " 'भूमि की तैयारी समय पर ठीक प्रकार से की जाये जिससे ओस आदि से नमी पर्याप्त मात्रा में प्राप्त हो जाये तथा यह संचित नमी नष्ट न हो.',\n",
              " 'भूमि परखरपतवार नहीं पनपने देना चाहिये.',\n",
              " 'खेतों को समतल करके उनकी डोलबन्दी कर देनी चाहिये.',\n",
              " 'भूमि में जीवांश पदार्थ पर्याप्त मात्रा में मिलाया जाता है.',\n",
              " 'बीजोंको कम मात्रा में व कुछ अधिक गहराई पर बोया जाना चाहिए.',\n",
              " 'कम पानी चाहने वाली फसलों - जौ, अलसी, चना, ज्वार व बाजरा आदि की हीखेतीकी जानी चाहिए.',\n",
              " 'भारतीय कृषि अनुसन्धान परिषद ने उत्तर प्रदेश व मध्य प्रदेश में किये गये अनसन्धानों के आधार पर शुष्क खेती करने वाले क्षेत्रों मेंमिश्रित - फसलें करने की सिफारिश की है.',\n",
              " 'कागज़सामग्रीआपको सबसे पहले पता होना चाहिए कि इसकी खोज तक, समर्थन का निर्माण जहां लेखन बहुत विस्तृत और महंगा हो सकता है.',\n",
              " 'लेकिन के साथ कागज का जन्म जैसा कि हम आज जानते हैं, चीज काफी हद तक बदल गई है.',\n",
              " 'कागज नहीं है लेखन समर्थन सबसे पुराना: पहला था पेपिरस, पांच हजार साल पहले मिस्र के लोगों द्वारा आविष्कार किया गया.',\n",
              " 'इसके बाद चर्मपत्र, त्वचा से प्राप्त किया गया था भेड़ का बच्चा, वील या बकरा.',\n",
              " 'लेकिन अगर आप इस सवाल के जवाब की तलाश में हैंजहां पेपर का आविष्कार किया गया था.',\n",
              " ', यह कहा जा सकता है कि चीन में पेपर का आविष्कार किया गया था.',\n",
              " 'आप हमारे लेख को देख सकते हैं चीनी इतिहास अधिक जानकारी के लिए.',\n",
              " 'इस खोज के सबूत के रूप में, एक चीनी क्रॉनिकल है हान राजवंश, पहली शताब्दी से, जहां कोई पढ़ सकता है कि कई साल पहले एक बांस या रेशम अवशेषों पर लेखन किया गया था.',\n",
              " 'लेकिन पहली प्रणाली बहुत भारी थी, और दूसरा बहुत महंगा था.',\n",
              " 'तब वह था काई लुन, यह नोट करते हुए कि ये सामग्री पांडुलिपियों के लिए सबसे उपयुक्त नहीं थी, उन्होंने अपना ध्यान बदल दिया पेड़ की छाल, में भांग और में कपड़े पूर्ववत करें.',\n",
              " 'उन्होंने इन सामग्रियों को एक नई सतह में बदलने के लिए सम्राट को एक नई प्रणाली के साथ प्रस्तुत किया: कागज.',\n",
              " 'उस पल से, लिखित दुनिया में पहले की तरह कुछ भी नहीं होगा.',\n",
              " 'इसलिए, हमने जो अभी समझाया है उसके मुताबिक, जिस व्यक्ति ने पेपर का आविष्कार किया वह कैन लुन था.',\n",
              " 'वर्तमान चीनी प्रांत गुयांग में पैदा हुए और पेपर के पिता के रूप में माना जाता है क्योंकि हम आज जानते हैं.',\n",
              " 'उन्होंने कहा कि, 77 और 110 के बीच रहते थे, हालांकि पूरी तरह से साबित नहीं, के रूप में वहाँ का दावा है कि ई 50 और 121 के बीच रहते थे क्या निश्चित है कि वह हान राजवंश के अदालत के लिए काम किया और के तहत कार्य किया है अध्ययन कर रहे हैं सम्राट हे डी हान.',\n",
              " 'इस अवधि में यह था जब कागज का आविष्कार किया गया था.',\n",
              " 'शाही अदालत के निर्देशों के तहत, कागज के आविष्कारक शोध किया और एक नया प्रकार बनाया जिस पर लिखना है.',\n",
              " 'उन्होंने कई बार अपनी विनिर्माण प्रणाली को भी सिद्ध और सुधार किया.',\n",
              " 'उस वर्ष, काई लून ने अपना विचार और एक नई प्रक्रिया को विस्तारित करने के लिए प्रस्तुत किया आधुनिक कागज.',\n",
              " 'तकनीक में सुधार हुआ, और एक बार उत्पाद को पूरा करने के बाद यह चीन, कोरिया, वियतनाम और जापान में फैल गया, जो पहले से ही था कागज पर लिखे दस्तावेज़ वर्ष 550 में.',\n",
              " 'अरब जल्द ही बगदाद चले गए पेपर मिल्स, चीनी कर्मचारियों के साथ शुरुआत में.',\n",
              " 'बाद में, वहां से वह दमिश्क और काहिरा गया.',\n",
              " 'यह जानने और उपयोग करने के लिए स्पेन पश्चिम में पहला देश था: सिलोस के मिसाल, वर्ष 1000 का है, है पुरानी पेपर पर लिखी गई यूरोपीय पांडुलिपि जिसे जाना जाता है.',\n",
              " 'पहला पेपर फैक्ट्री यूरोपीय जतिवा के वैलेंसियन शहर में था, जिसका कपास का पेपर या \"बमिसियाना पत्र\" 1150 में प्रसिद्धि थी.',\n",
              " 'इटली तेरहवीं शताब्दी में पहुंचा और एक शताब्दी बाद में तुस्कानी में बहुमूल्य उत्पाद की तीन कारखानों में शामिल थे, जिनकी तैयारी को हिलाकर एक प्रकार की जल मोटर पेश की गई थी.',\n",
              " 'इसी तरह के कारखानों ने अल्कोटे शहर के अल्कोई शहर में 13 9 0 के आसपास बसने लगे.',\n",
              " 'ऐसा लगता है कि इंग्लैंड 16 वीं शताब्दी से पहले नहीं आया था, जब इसाबेल मैंने अपने जौहरी लाइसेंस को स्थापित करने के लिए दिया था पेपर मिल.',\n",
              " '105 ईस्वी में चीन में पेपर का आविष्कार किया गया था.',\n",
              " 'भांग फाइबर और लिनन की एक छोटी राशि के साथ बनाया गया.',\n",
              " 'पहली शताब्दी में सम्राट हेदी के शासनकाल में बड़ी मात्रा में कागज का निर्माण हुआ, और यह एक था गुणवत्ता कागज, लेखन के लिए आदर्श.',\n",
              " 'जैसा कि हमने पहले कहा है, इसका आविष्कार काई लुन नामक एक नपुंसक द्वारा किया गया था, एक चरित्र जिसे सुदूर पूर्व में पूजा की जाती है कागज निर्माताओं के पैटर्न, और किसके मोर्टार जिसके साथ उसने पहला पेपर बनाया था, एक बहुमूल्य अवशेष के रूप में रखें.',\n",
              " 'प्रक्रिया शुरू में विचार किया लिबरया पेड़ की छाल का आंतरिक हिस्सा.',\n",
              " 'बाद में उन्होंने सभी प्रकार के लिनन कचरे या रैग का इस्तेमाल किया जो कि एक पास्ता कच्ची सामग्री उत्पन्न हुई थी, जो टुकड़े टुकड़े और सूखे कागज कहा जाता है.',\n",
              " 'लुगदी परत तब एक महसूस सतह पर रखी जाती है जिस पर पेपर का पालन किया जाता है, जिसे दबाए जाने के बाद सूखने के लिए लटका दिया जाता है.',\n",
              " 'यह पत्ते से टब के पत्ते में बनाया गया था.',\n",
              " '\"इस पेपर के साथ, निजी इस्तेमाल के लिए प्रिंटर और पेपर हैंडलर के लिए चीजें आसान बना दी गई थीं.',\n",
              " 'यदि आप अभी भी अधिक उत्सुक हैं, तो हम आपको श्रेणी में अधिक समान शैक्षणिक लेख प्रदान करते हैं इतिहास.',\n",
              " 'यदि आप चाहें तो आप सीधे अपने खोज इंजन में अपने प्रश्न भी लिख सकते हैं.',\n",
              " 'और याद रखें, अगर आप इसे अपने दोस्तों, परिवार या सामाजिक नेटवर्क के साथ साझा करना पसंद करते हैं.',\n",
              " 'मछली की आबादी में परिवर्तन को समझते हुए, प्रजातियों की संरचना, और पारिस्थितिकी तंत्र की स्थिति महत्वपूर्ण है सूचित निर्णय लेना, प्रभावी मत्स्य प्रबंधन में दो घटकों के साथ एक प्रबंधन रणनीति शामिल है: प्रबंधन उपकरण समुद्र से कितनी मछली ली जाती है, इसे विनियमित करने के लिए; फसल नियंत्रण नियम प्रबंधन को समायोजित करने के लिए कब और कितना ट्रिगर किया जाए.',\n",
              " 'मत्स्य पालन के विभिन्न पहलुओं को प्रबंधित करने के लिए प्रबंधन उपकरण डिजाइन और लागू किया जा सकता है, जिसमें प्रजातियों की संरचना भी शामिल है, पकड़ने के प्रति यूनिट प्रयास मछली पकड़ने, कटाई के स्थानिक पैटर्न और एकल या कई प्रजातियों की आबादी.',\n",
              " 'पोनपेई में समुदाय के सदस्य नाह्तिक समुद्री संरक्षित क्षेत्र और मत्स्य पालन के भविष्य पर चर्चा करते हैं.',\n",
              " 'फोटो निक हॉल के संकेतक में परिवर्तन के जवाब में हार्वेस्ट कंट्रोल नियम लागू किए जा सकते हैं स्टॉक स्थिति.',\n",
              " 'आदर्श रूप से, ये नियम आंकड़ों पर आधारित होते हैं जो यह दर्शाते हैं कि मछली पकड़ने का स्टॉक कैसे प्रभावित हो रहा है.',\n",
              " ...]"
            ]
          },
          "metadata": {},
          "execution_count": 57
        }
      ]
    },
    {
      "cell_type": "code",
      "source": [
        "corpus1=list[corpus]"
      ],
      "metadata": {
        "id": "XRFXCIZ01pL7"
      },
      "execution_count": null,
      "outputs": []
    },
    {
      "cell_type": "code",
      "source": [
        "corpus=list(corpus)"
      ],
      "metadata": {
        "id": "n-rwaJaGygwg"
      },
      "execution_count": null,
      "outputs": []
    },
    {
      "cell_type": "code",
      "source": [
        "' '.join(corpus[0])"
      ],
      "metadata": {
        "colab": {
          "base_uri": "https://localhost:8080/",
          "height": 35
        },
        "id": "YNvdSxXLzmtz",
        "outputId": "c31c7ea3-6e92-46ed-b817-0b13334126aa"
      },
      "execution_count": null,
      "outputs": [
        {
          "output_type": "execute_result",
          "data": {
            "text/plain": [
              "'चरागाह चराई के लिए इस्तेमाल किया भूमि है'"
            ],
            "application/vnd.google.colaboratory.intrinsic+json": {
              "type": "string"
            }
          },
          "metadata": {},
          "execution_count": 17
        }
      ]
    },
    {
      "cell_type": "code",
      "source": [
        ""
      ],
      "metadata": {
        "id": "k3OEVrWE0Hu1"
      },
      "execution_count": null,
      "outputs": []
    },
    {
      "cell_type": "code",
      "source": [
        "without_punc=[' '.join(t) for t in corpus]"
      ],
      "metadata": {
        "id": "8mlNQJkEz6EB"
      },
      "execution_count": null,
      "outputs": []
    },
    {
      "cell_type": "code",
      "source": [
        "with_punc=corpus2"
      ],
      "metadata": {
        "id": "6SkFl5GU1TmR"
      },
      "execution_count": null,
      "outputs": []
    },
    {
      "cell_type": "code",
      "source": [
        "without_punc"
      ],
      "metadata": {
        "colab": {
          "base_uri": "https://localhost:8080/"
        },
        "id": "CUgQQd1c0dBB",
        "outputId": "806bb7e0-a246-436e-a402-b209cd024937"
      },
      "execution_count": null,
      "outputs": [
        {
          "output_type": "execute_result",
          "data": {
            "text/plain": [
              "['बैंकों के माध्यम से उपलब्ध होने के अलावा जमा बैग सीधे आपूर्तिकर्ताओं से भी खरीदे जा सकते हैं जो चेकबुक सिक्का रोलिंग आपूर्ति और इसके बाद की चीजों की आपूर्ति करते हैं',\n",
              " 'इस तरह जो दूषित वातावरण निर्मित हुआ उसके चलते ही कम आयु के लड़कों द्वारा नाबालिग लड़कियों के साथ यौनिक अत्याचार अथवा बलात्कार के मामले लगातार बढ़ रहे हैं',\n",
              " 'वहीं आक्रामक निवेशक केवल रिटर्न के पीछे भागते हैं',\n",
              " 'हालांकि अगर नकद इक्विटी इंगित करता है कि वर्तमान निवेश के साथ क्रेडिट की तुलना में अधिक डेबिट शामिल हैं तो यह स्पष्ट है कि कुछ बदलाव क्रम में हैं',\n",
              " 'अक्षर बनाने के लिए उन्होंने सीसा धातु का प्रयोग किया',\n",
              " 'इन प्रयासों में कई अमानवीय तरीकों का उपयोग किया गया',\n",
              " 'पौधों की पक्तियों के साथ साथ नीम खली 250 किलोग्राम प्रति है की दर से खेत में मिलाएं',\n",
              " 'कई बच्चे अभी भी अधिक संक्रामक बचपन की बीमारियों को प्राप्त करते हैं जैसे कि चिकन पॉक्स कण्ठमाला और खसरा लेकिन उनके लक्षण आमतौर पर गंभीर नहीं होते हैं और उनके ठीक होने का समय बहुत कम होता है',\n",
              " 'प्रति एकड़ दर से देना चाहिए',\n",
              " 'आस्थगित प्रीमियम पॉलिसी बीमा कंपनियों को अधिक पॉलिसी बेचने में मदद कर सकती है क्योंकि ग्राहक एकमुश्त के बजाय इन किस्तों के भुगतान को वहन करने के लिए बेहतर हैं',\n",
              " 'कई महिलाएं अपने मासिक चक्र के दौरान मासिक धर्म और दस्त के लक्षणों का एक साथ अनुभव करती हैं',\n",
              " 'ऐसे में राज्य के करीब सात फीसद लोग इस दायरे में आते हैं',\n",
              " 'जैसा कि पहले ही उल्लेख किया गया है पुरुषों की दरों की तुलना में महिलाओं के लिए औसत पल्स दर इस सीमा में थोड़ी अधिक हो सकती है',\n",
              " 'हाइपरट्रॉफिक कार्डियोमायोपैथी में वेंट्रिकल दीवारें और कभी-कभी दिल की माइट्रल वाल्व की दीवारें मोटी हो जाती हैं',\n",
              " 'पूर्वोत्तर भारत में 7 राज्य शामिल हैं आसाम मेघालय त्रिपुरा अरुणाचल प्रदेश मिजोरम मणिपुर और नगालैंड',\n",
              " 'दूसरी ओर यदि बंद-समाप्ति निधि में शामिल शेयरों को स्वीकार्य समय के भीतर बाजार मूल्य में वृद्धि की आशंका नहीं है तो निवेशक कहीं और अवसरों की तलाश कर सकता है',\n",
              " 'तैयार बेड में केंचुएँ छोड़ने का उपयुक्त समय',\n",
              " 'भारतीय इतिहास के वैदिक युग में जनों अथवा गणों की प्रतिनिधि संस्थाएँ थीं विदथ सभा और समिति',\n",
              " 'कैरोटिडिनिया चेहरे गर्दन कान या सिर में दर्द को भड़का सकता है जो तब बढ़ सकता है जब कोई व्यक्ति भोजन निगल रहा हो या चबा रहा हो',\n",
              " 'जबकि एक वास्तविक उद्धरण या वाचा को नहीं माना जाता है यह अनुमान यह निर्धारित करने के लिए एक दिशानिर्देश के रूप में कार्य करता है कि क्या किसी परियोजना के साथ आगे बढ़ना है या इसे किसी अन्य गतिविधि के पक्ष में छोड़ देना है',\n",
              " 'यह समझना महत्वपूर्ण है कि सदन मूल्य सूचकांक हमेशा पिछले स्तरों की तुलना में मापा जाता है',\n",
              " 'संस्था की सचिव सुमन सिंह बताती हैं कि यह प्रोजेक्ट सन् 1990 में शुरू किया गया था',\n",
              " 'जब भी वे उत्पन्न हों इन लागतों पर विचार किया जाना चाहिए',\n",
              " 'रामतिल की बोनी हमेशा थायरम 3 ग्राम/किलो बीज या ट्राइकोडर्मा बिरडी की 5 ग्राम/किलो बीज की दर से अवश्य करें',\n",
              " 'अगर वो समझ चुके है या सिर्फ प्रतिभूतियों को ही समझना है तो फिर जारी रखें',\n",
              " 'स्टॉकब्रोकर कमीशन सभी ईएफटी ट्रेडों पर लागू होते हैं',\n",
              " 'अधिक बार छोटे भोजन खाने से पाचन क्रिया दुरस्त नहीं हो पाती है',\n",
              " 'लेखा परीक्षक विश्लेषण और अपने ग्राहक की वित्तीय जानकारी को साबित करने के लिए विभिन्न ऑडिट परीक्षणों का उपयोग करते हैं',\n",
              " 'यह वह जगह है जहां पंजीकरण और रिपोर्टिंग आवश्यकताएं आती हैं बिक्री के लिए प्रतिभूतियों के साथ मूल कंपनी के बारे में जानकारी प्रतिभूतियों का विवरण और उन्हें पेश करने वाली कंपनी की वित्तीय स्थिति के साथ पंजीकृत होने की आवश्यकता होती है',\n",
              " 'इसके अलावा फाइटोफ्थोरा मैक्रोफोमिना और कई अन्य कीट फसल कटाई के बाद फलों को खेत भंडारण और संक्रमण में खराब कर देते हैं',\n",
              " 'मशीन डायालाइजेट का तापमान उसमें क्षार बाइकार्बोनेट इत्यादि को उचित मात्रा में बनाए रखती है',\n",
              " 'विनिमय दरों का जोखिम ऊपर या संभवतः नीचे जाएगा',\n",
              " 'इस्केमिक स्ट्रोक के दो सामान्य प्रकार हैं एथेरोथ्रोमबोटिक और एम्बोलिक साथ ही अन्य कम सामान्य कारण',\n",
              " 'सबसे आम प्रकार के क्रेडिट कार्ड भुगतान सुरक्षा कवर विकलांगता अनैच्छिक बेरोजगारी मृत्यु और संपत्ति',\n",
              " 'यह निष्क्रिय दृष्टिकोण निवेशकों को अन्य मामलों पर ध्यान केंद्रित करने की अनुमति देता है जो निवेश के साथ जुड़े नहीं हैं',\n",
              " 'आमतौर पर रोगी को एक शारीरिक परीक्षा से गुजरना होगा और चिकित्सा इतिहास के बारे में सवालों के जवाब देने होंगे',\n",
              " 'पहली जुताई मिट्टी पलटने वाले हल से करें ताकि पिछली फसल के अवशेष अच्छी तरह जमीन में मिल जायें',\n",
              " 'बढ़े हुए पेट और पेट में दर्द जैसे लक्षण अंततः विकसित हो सकते हैं',\n",
              " 'यदि सूजन और सूजन परीक्षा में गंभीर होती है तो दंत चिकित्सक सीधे कॉर्टिकोस्टेरॉइड को मसूड़े की दीवार में इंजेक्ट करने का निर्णय ले सकता है',\n",
              " 'ये सैनिटाइज़र अस्पतालों स्कूलों और व्यवसाय के स्थानों में पाए जाने वाले वाणिज्यिक डिस्पेंसर की तुलना में निजी या घरेलू बाथरूम फोम हैंड सेनिटाइज़र डिस्पेंसर में अधिक उपलब्ध होते हैं',\n",
              " 'विनिर्माण प्रक्रिया का मूल्यांकन और वृद्धि जारी रखने से प्रति घंटे अधिक माल का उत्पादन करना संभव है और एक ही समय में संसाधनों की कम बर्बादी संभव है',\n",
              " 'प्राकृतिक विधि– प्राकृतिक तरीके में मुर्गी प्राकृतिक ढंग से अपने चूजों को पालती है',\n",
              " 'यदि लोग काम से बाहर हैं और उत्पाद नहीं खरीद रहे हैं तो शहर का राजस्व कम हो जाएगा जैसा कि बांड का मूल्य होगा',\n",
              " 'प्रति एकड़ 5 किलो मोटे दाने वाला नमक डालने से कतला व अन्य मछलियों को वर्षा पश्चात् मछली में अन्य होने वाले रोग से सुरक्षा की जा सकती है',\n",
              " 'आपकी कोलेस्ट्रॉल की दैनिक खपत एक दिन में 200 मिलीग्राम से अधिक नहीं होनी चाहिए',\n",
              " 'योजना के लिए बजट हुुआ निर्धारित',\n",
              " 'टाइप 2 मधुमेह से पीड़ित लोगों में तीन-चौथाई से अधिक मौतें हृदय और हृदय रोग से संबंधित हैं',\n",
              " 'किन्तु सूखा का ही अधिक प्रचलन है',\n",
              " 'चोटें हर खेल में कम बार होती हैं जब खेलने से पहले और बाद में उचित स्ट्रेचिंग अभ्यास किया जाता है',\n",
              " 'नये युग में भी उपयोगी हैं',\n",
              " 'ऐसे मामलों में जहां बैंक डिपॉजिट बैग के लिए शुल्क लेते हैं डिपॉजिट बैग ऑर्डर करना कभी-कभी कम खर्चीला विकल्प हो सकता है',\n",
              " 'छिड़कते समय वह 20 लीटर पानी के साथ आधे लीटर फ़िल्टर किए गए मिश्रण मिलाकर फसल में कीट और बीमारियों को नियंत्रित करने के लिए फसल पर छिड़काव करता है',\n",
              " 'कभी-कभी बहुत कुछ कृत्रिम रूप से फुलाया जा सकता है और इससे मालिक के लिए समस्याएं पैदा हो सकती हैं',\n",
              " 'डेट्रैक्टर्स कभी-कभी इस तथ्य का हवाला देते हैं कि विभिन्न वस्तुओं और सेवाओं पर छूट लागू करने से विक्रेता प्रभावी रूप से उपभोक्ताओं को बता रहा है कि उत्पाद मूल इकाई मूल्य के लायक नहीं हैं',\n",
              " 'जबकि डेज़ी चेनिंग का प्रचलन एक बार बहुत सामान्य था अब ऐसा नहीं है',\n",
              " 'हालांकि सौम्य लिम्फैंगियोमा जटिलताओं को सुविधाजनक बना सकता है',\n",
              " 'मशरूम के साथ किए गए चिकित्सा अध्ययनों से पता चलता है कि इसमें कुछ औषधीय अनुप्रयोग हैं लेकिन यह क्यों काम करता है या क्या व्यवहार करता है इसकी समझ एक रहस्य बनी हुई है',\n",
              " 'बिहार में मिर्च की खेती मुख्यतः नगदी फसल के रूप में की जाती है',\n",
              " 'इसके पश्चात शेष मिट्टी में 15 से 20 किलो ग्राम गोबर मिला कर भूमि की सतह से 6 इंच ऊपर एक गड्ढा भरे',\n",
              " 'इसके अलावा कुछ भौतिक चिकित्सा क्लीनिक पैराफिन मोम स्नान का उपयोग करते हैं',\n",
              " 'यदि कंपनी के पास महत्वपूर्ण संपत्ति है और बकाया ऋण के रूप में बहुत कम है तो इसका मतलब है कि व्यवसाय में शेयरधारक या स्वामित्व इक्विटी का स्तर होने की संभावना है जो शेयरों पर अधिक रिटर्न अर्जित करना संभव बनाता है',\n",
              " 'वैज्ञानिक विधि को पूर्णत समझ कर विभाग से बीज प्राप्त कर अपने प्लाट पर प्रत्यक्षण करने का मन बना लिया',\n",
              " 'उस संस्था को कहते हैं जो ऐसे लोगों की सहायता एवं मार्गदर्शन करती है जो ज्ञान की सीमाओं को विकसित करने में कार्यरत हैं',\n",
              " 'विभिन्न प्रकार के कमोडिटी डेरिवेटिव्स ऊर्जा स्रोतों और खनन धातुओं से लेकर वस्त्रों तक हो सकते हैं',\n",
              " 'एंजियोलिपोमा एक उपचर्म नोड्यूल है जिसका अर्थ है कि ट्यूमर त्वचा के नीचे स्थित है',\n",
              " 'जो लोग तत्काल सेवानिवृत्ति के लिए अर्हता प्राप्त करने से पहले छोड़ देते हैं वे स्थगित सेवानिवृत्ति प्राप्त कर सकते हैं जिसका अर्थ है कि भुगतान बाद में शुरू होता है',\n",
              " 'अन्य लोग कई देशों में उपयोग में आने वाली कर प्रणाली को देखना पसंद करेंगे जो कोष्ठक में आयकर वसूलते हैं जिससे कम आय वाले व्यक्तियों को कर में कम प्रतिशत का भुगतान करने की अनुमति मिलती है जबकि उच्च आय वाले व्यक्ति अधिक भुगतान करते हैं',\n",
              " 'मुँहासे को समझने के लिए कम से कम मूल रूप से यह समझना महत्वपूर्ण है कि बाल कूप कैसा दिखता है',\n",
              " 'खीस पानी की तरह पतला होता है',\n",
              " 'कुछ मामलों में एक निवेश बैंक अनिच्छुक हो सकता है या परियोजना को निधि देने के लिए आवश्यक संसाधनों की आपूर्ति करने में असमर्थ हो सकता है',\n",
              " 'अन्य संभावित पाचन विकारों में चिड़चिड़ा आंत्र सिंड्रोम शामिल है',\n",
              " 'हालांकि इसका प्रक्षेपण स्पेश-एक्स नामक अमेरिकी कंपनी ने किया',\n",
              " 'बैंकों में एक संकीर्ण अर्थ में इसका मतलब केवल शहर के बैंक हैं लेकिन व्यापक रूप से यह शहर के बैंकों में क्षेत्रीय बैंकों सहित सामान्य बैंकों को संदर्भित कर सकता है',\n",
              " 'मांसपेशियों को आपूर्ति करने वाली रक्त वाहिकाएं पूरे शरीर में दवा वितरित करेंगी जिससे इंजेक्शन साइट से फैल सकता है',\n",
              " 'कुछ वाहक कुछ स्थितियों में कवरेज से इनकार करेंगे जैसे शराब या नशीली दवाओं का दुरुपयोग',\n",
              " 'टोक्सोप्लाज्मोसिस एक बीमारी है जो एक परजीवी के साथ संक्रमण के परिणामस्वरूप होती है एक सूक्ष्म जीव जो केवल अपने मेजबान के ऊतक में जीवित रह सकता है जिसे टोक्सोप्लाज्मा गोंडी के रूप में जाना जाता है',\n",
              " 'बीमा विशेषज्ञों का सुझाव है कि सबसे अच्छा सौदा खोजने के लिए शोध में कुछ समय निवेश करना और विभिन्न प्रकार की योजनाओं की तुलना करना',\n",
              " 'रसीद देने वालों को आम तौर पर प्रतियां रखनी चाहिए हालांकि यह सुनिश्चित करने के लिए कि दूसरों को बदला नहीं जाए',\n",
              " 'ट्रंकल मोटापे का सबसे आम कारण बहुत अधिक प्रसंस्कृत या उच्च वसा वाले खाद्य पदार्थ और शारीरिक गतिविधि की कमी है',\n",
              " 'कई बड़ी बिल्लियों के मुंह में घाव हो जाते हैं क्योंकि उनके दांत उम्र के साथ टूट जाते हैं',\n",
              " 'ये आवश्यक ब्लोफ्रोस्पैम की तरह आंख की खाई से अधिक गंभीर हैं',\n",
              " 'मधुमेह वाले लोगों में एक महत्वपूर्ण चयापचय हार्मोन इंसुलिन का उत्पादन या उपयोग करने की शरीर की क्षमता क्षीण होती है',\n",
              " 'एक नाखून के लिए आघात जो इसे नाखून बिस्तर में संकुचित करता है जिससे नाजुक रक्त वाहिकाएं फट जाती हैं',\n",
              " 'ये लोग दर्द को पुरानी चोट का कारण बनने की अधिक संभावना हो सकते हैं दर्द के परिवर्तनों को अलग कारण के संकेत में नहीं देख सकते हैं',\n",
              " 'जब आप इक्विटी फ्यूचर में ट्रेड कर रहे होते हैं तो आप किसी विशेष वित्तीय उत्पाद में सीधे ट्रेडनहीं करते हैं',\n",
              " 'इसमें सभी विटामिन और खनिज पदार्थ प्रचुर मात्रा में होत्र हैं जैसे – विटामिन ए बी – 1 बी – 2 सी और लौह',\n",
              " 'उदाहरण के लिए कुछ उद्यमी घर से काम करते हैं और उन्हें ऑफिस स्पेस या किसी बिल्डिंग को किराए पर देने के लिए पैसे खर्च करने की जरूरत नहीं होती है',\n",
              " 'नमस्कार दोस्तों आपका स्वागत हैं',\n",
              " 'इससे मस्तिष्क के अंदर जलशीर्ष या द्रव का संचय हो सकता है जिसके परिणामस्वरूप खोपड़ी के अंदर दबाव बढ़ जाता है और मस्तिष्क के ऊतकों को अधिक चोट लगती है',\n",
              " 'चोर-तंत्र दोस्तवाद धन-तंत्र पारिवारिकवाद भ्रष्टाचार घूस वंशवाद',\n",
              " 'यदि वे संदर्भ संपत्ति के प्रदर्शन पर पीछे पड़ जाते हैं उदाहरण के लिए वे खुद को प्रतिकूल व्युत्पन्न अनुबंध पकड़ सकते हैं',\n",
              " 'किसानों को खेती के लिए बाजार पर भी निर्भर नहीं रहना पड़ता',\n",
              " 'परिवर्तनीय पसंदीदा स्टॉक के मामले में निवेश का निश्चित आय तत्व नियमित रूप से निर्धारित लाभांश भुगतान से आता है',\n",
              " 'शोध परीक्षण में पाया गया है कि लेव लगाने के 5-6 घंटे के अन्दर ही ड्रम सीडर द्वारा धान की सीधी बुआई कर देनी चाहिए',\n",
              " 'ठेठ बॉन्ड सर्कुलर में पेशकश के जारीकर्ता का नाम और संभवतः जारीकर्ता की पृष्ठभूमि और प्रतिष्ठा के बारे में कुछ सहायक दस्तावेज शामिल होंगे',\n",
              " 'जैव उर्वरकों से बीजोपचार हेतु छाया वाले स्थान का चयन करना चाहिये',\n",
              " 'उन्होंने कहा कि पोषण ज्ञान डिजिटल मंच मानवीय व्यवहार में सकारात्मक बदलाव लाने के माध्यम से उस उद्देश्य को प्राप्त करने की दिशा में सकारात्मक प्रभाव डाल सकता है',\n",
              " 'माता-पिता को यह भी पता होना चाहिए कि छोटे बच्चों में छोटी वस्तुओं को उनकी नाक में डालने की प्रवृत्ति होती है यदि बच्चे की नाक का एक हिस्सा लगातार चल रहा है या नाक से टपकने का प्रदर्शन कर रहा है तो बच्चे के नाक में कोई वस्तु फंस सकती है',\n",
              " 'ग्रीन साबुन टिंचर का उपयोग करते समय कुछ चेतावनी को ध्यान में रखा जाना चाहिए',\n",
              " 'बायोगैस को संग्रहित कर उसका अन्यत्र उपयोग करने के लिए बायोगैस बैलून बायोगैस सिलेण्डर या बायो सी एन जी सिलेण्डर का उपयोग किया जा सकता है',\n",
              " 'स्टिग्मास्टरोल एक रासायनिक यौगिक है जो कई पौधे वसा में पाया जाता है',\n",
              " 'क्रेडिट के एक परिक्रामी पत्र के साथ प्राथमिक अंतर यह है कि बैंक को एक निश्चित लेनदेन को कवर करने के लिए आयातक को कुछ स्थापित व्यवसाय क्रेडेंशियल्स और आवश्यक क्रेडिट की तुलना में बेहतर क्रेडिट की आवश्यकता होती है',\n",
              " 'ख देश में सूक्ष्म सिंचाई को बढ़ावा देने के लिए माइक्रो सिंचाई फंड',\n",
              " 'अन्य मौसा के विपरीत जो अक्सर गुंबद के आकार के होते हैं इन उभरी हुई त्वचा की असामान्यताएं आमतौर पर सपाट सतह होती हैं',\n",
              " 'दोहरे उद्देश्यः घरेलू विनिर्माताओं को प्रोत्साहन देना और भारत को वैश्विक स्तर पर अच्छे उत्पादों की श्रृंखला में शामिल करना तथा बेहतर निर्यात',\n",
              " 'नियंत्रक आदि सभी किसानों द्वारा या ग्राम स्तर पर बनाये जा सकते हैं',\n",
              " 'हालांकि यह स्पष्ट नहीं है कि केल्टनर ने यह विश्लेषण बनाया है लेकिन अब इसे केल्टनर चैनल के रूप में जाना जाता है',\n",
              " 'तवेदार पेड़ी प्रबंधन यंत्र वाली मशीन भी विकसित की गई जो कि 75 व 90 सें मी की डोरदूरी पर लगाईं गई फसल के लिए उपयोगी है',\n",
              " 'यह निर्वाचन संबंधी कार्यनीतियों दृष्टिकोणों अभिनव सोच सामग्रियों दस्तावेजों और रिपोर्टों के लिए विशिष्ट संसाधन केंद्र के रूप में कार्य करता है',\n",
              " 'तार 175 ईस्वी में चिकित्सक गैलेन द्वारा वर्णित सबसे पुराना पहले इस्तेमाल किया गया था',\n",
              " 'इसके अतिरिक्त दलहनी फसलें अपने विशेष गुणों जैसे भूमि की उपजाऊ शक्ति बढ़ाने प्रोटीन की प्रचुर मात्रा के कारण पोषकीय चारा उपलब्ध कराने तथा मृदा क्षरण के अवरोधक के रूप में विशेष स्थान रखती है',\n",
              " 'इन मामलों में एक लेखा नोट का उपयोग इस तरह से जानकारी प्रदान करने के लिए किया जाता है जिसे पाठकों द्वारा समझा जाएगा',\n",
              " 'साप्ताहिक या द्वि-साप्ताहिक भुगतानों में ऋण का भुगतान करने के लिए कुछ महत्वपूर्ण फायदे हैं यदि परिशोधन अनुसूची की सही गणना की जाती है तो ऋण के जीवन पर पर्याप्त बचत उत्पन्न की जा सकती है',\n",
              " 'इस विधि द्वारा पशु को खिलाने के लिए दाने का मिश्रण उचित अवयवों को ठीक अनुपात में मिलाकर बना होना आवश्यक है',\n",
              " 'मुख्यमंत्री भावान्तर भुगतान योजना लागू की गयी फसल',\n",
              " 'एक मांसपेशी तनाव तब होता है जब एक मांसपेशी बनाने वाले छोटे तंतुओं को फाड़ना शुरू हो जाता है जिससे प्रभावित क्षेत्र में तेज दर्द होता है',\n",
              " 'अतिरिक्त परीक्षणों में एक कम्प्यूटरीकृत टोमोग्राफी स्कैन और चुंबकीय अनुनाद इमेजिंग सहित इमेजिंग परीक्षण शामिल हो सकते हैं जो अंग की कार्यक्षमता का मूल्यांकन करने और किसी भी स्थिति की उपस्थिति का पता लगाने में मदद कर सकते हैं जो एडिमा में योगदान कर सकते हैं',\n",
              " 'अच्छे पाचन मूल्य के कारण पशुधन इसे आसानी से स्वीकारते हुए जुगाली करने वाले पशु पूरी तरह से पेड़ की पत्तियों पर जीवित रह सकते हैं',\n",
              " 'आमतौर पर सामाजिक सुरक्षा कर की दरें साल-दर-साल स्थिर रहती हैं लेकिन वे परिवर्तन के अधीन हैं',\n",
              " 'वाणिज्यिक ज़मानत बांड कहा जाता है वे आम तौर पर तीन श्रेणियों में से एक में आते हैं लाइसेंस और परमिट बांड लाइसेंस या परमिट जारी करने से पहले सरकारों द्वारा आवश्यक कोर्ट बॉन्ड जैसे कि जमानत बांड और फिदुकरी बॉन्ड और सार्वजनिक आधिकारिक बांड जो निर्वाचित और नियुक्त सार्वजनिक अधिकारियों जैसे कानून प्रवर्तन अधिकारियों और ट्रेजरी अधिकारियों द्वारा वफादार और ईमानदार नौकरी के प्रदर्शन की गारंटी के लिए जारी किए गए',\n",
              " 'एक टर्म एंडोमेंट एक निर्दिष्ट प्राप्तकर्ता को भुगतान करता है लेकिन केवल एक पूर्व निर्धारित राशि के लिए या जब तक कि कोई विशिष्ट घटना नहीं होती है',\n",
              " 'दाने में हाईब्लेंड मिलाकर खिलाना चाहिए',\n",
              " 'डबल गिरावट संतुलन मूल्यह्रास विधि थोड़ा अधिक जटिल है और संपत्ति के जीवन के शुरुआती वर्षों में बुक किए गए उच्च मूल्यह्रास में परिणाम है',\n",
              " 'हम आपको बताते हैं कि कैसे प्राप्त करना हैयह',\n",
              " 'वास्तव में इसका सबसे परेशान हिस्सा अभी भी झूठ हो सकता है यदि आपके पास बेचैन होने की प्रवृत्ति है',\n",
              " 'इसी तरह के सौदे जिन्हें रिवर्स मॉर्टगेज कहा जाता है गृहस्वामी को अपने बिल से प्रभावी रूप से पैसा निकालने के लिए वर्तमान बिलों का भुगतान करने के लिए अधिक नकदी प्राप्त करने की अनुमति देते हैं',\n",
              " 'वर्ष में जब भी भूमि कि स्थिति नमूने लेने योग्य हो नमूने अवश्य एकत्रित कर लेने चाहिए',\n",
              " 'नियोक्ता स्टॉक विकल्पों का भी उपयोग कर सकते हैं जो शीर्ष अधिकारियों या अन्य स्टाफ सदस्यों को व्यवसाय में स्वामित्व का एक प्रतिशत प्रदान करते हैं',\n",
              " 'जीवन सुधा घोल बनाने की विधि',\n",
              " 'अग्नि मिसाइल और पृथ्वी मिसाइल का सफल परीक्षण का श्रेय काफी कुछ उन्हीं को है',\n",
              " 'इस बर्तन को ज़मीन से सपाट चिपका कर ना गाड़ा जाए नहीं तो इसमें दूसरे अच्छे कीट भी गिर सकते हैं',\n",
              " 'अन्य सामान्य लक्षणों में चेहरा शामिल है और इसमें डोलिंग अनैच्छिक आंख आंदोलन और एक आवेगी मुखौटा जैसी चेहरे की अभिव्यक्ति शामिल हो सकती है',\n",
              " 'अधिक जटिल मॉडल जो इलेक्ट्रोड को हाथ और पैर से जोड़ते हैं आमतौर पर एक चिकित्सा कार्यालय या अन्य पेशेवर सेटिंग में पाए जाते हैं',\n",
              " 'जीवाणु पर्ण अंगमारी की तरह',\n",
              " 'डायाफ्राम की मांसपेशी रिब पिंजरे के नीचे स्थित होती है',\n",
              " 'कुछ मामलों में स्थिति में बड़ी आंत के अन्य भागों की सूजन भी शामिल होती है',\n",
              " 'कभी-कभी ऐसा भी होता है कि कोई तत्व जरूरत से अधिक खेत में डाला जाता है तो दूसरे तत्वों की पौधों को कमी हो जातीहै',\n",
              " 'वैनिशिंग व्हाइट मैटर विकार मस्तिष्क के श्वेत पदार्थ के विघटन का कारण बनता है जो कि माइलिन नामक फैटी इन्सुलेटर द्वारा कवर तंत्रिका तंतुओं का एक संग्रह है',\n",
              " 'राजनीतिक नेता ही धार्मिक सामाजिक आर्थिक व राजनीतिक भूमिकाओं का एक साथ निर्वहन करते हैं',\n",
              " 'पुरुष बैक्टीरिया की उपस्थिति के कारण मूत्रमार्ग में मूत्रमार्ग सख्त रुकावट या टूटना विकसित कर सकते हैं',\n",
              " 'कई उदाहरणों में एक वाणिज्यिक बैंक ग्राहकों के लिए एक मध्यस्थ के रूप में कार्य करता है जो ट्यूशन गृह बंधक गृह सुधार या व्यावसायिक प्रयासों जैसी चीजों के लिए ऋण प्राप्त करता है',\n",
              " 'मौसम – 10 डिग्री सेंटीग्रेट तापमान उपयुक्त होता है',\n",
              " 'मिट्टी नमूने की जाँच कौन और कहां करेगा',\n",
              " 'विशेषज्ञों का मानना है कि पूर्व डिप्टी गवर्नर आर गांधी की अध्यक्षता में गठित शहरी सहकारी बैंकों पर उच्चाधिकार प्राप्त समिति के सुझावों पर भी ध्यान दिया जाना चाहिये',\n",
              " 'अम्लीय मिट्टी में चूना डालने के लिए सहायता 500 रुपये प्रति हेक्टेयर या मूल्य के 50प्रतिशत तक सहायता इनमें से जो भी कम हों',\n",
              " 'अब प्रश्न उठता है कि कितना पोषक तत्व पौधों के लिए मिट्टी में प्रयोग किया जाय',\n",
              " 'आराम की हृदय गति अक्सर शरीर की प्रतिक्रिया अपेक्षाकृत सामान्य शारीरिक प्रतिक्रियाओं के परिणामस्वरूप होती है',\n",
              " 'आमतौर पर छात्र को यह प्रदर्शित करने में सक्षम होना चाहिए कि वह छात्रवृत्ति प्राप्त करने के लिए उन लागतों को कवर नहीं कर सकता है',\n",
              " 'इस अवधारणा का उपयोग अक्सर यह निर्धारित करने के लिए किया जाता है कि भविष्य में भुगतान की एक श्रृंखला का मूल्य क्या होगा',\n",
              " 'इस दृष्टिकोण से वार्षिकी को एक आय स्रोत के रूप में देखा जा सकता है जो उस समय खींचा जा सकता है जब आय के अन्य साधन अब व्यवहार्य नहीं हैं',\n",
              " 'लक्ष्य बाजारों की पहचान करने के लिए कदम आम तौर पर अधिकांश बड़े व्यवसाय मार्केटिंग रिसर्च सलाहकारों में निवेश करते हैं ताकि वे लक्ष्य बाजारों का अध्ययन पहचान और निर्माण कर सकें',\n",
              " 'शिव कॉलोनी गली नंबर-1 में रहने वाले सोमवीर ने बताया कि उनकी गली में एक व्यक्ति ने गेहूं साफ करने वाली मशीन लगाई है',\n",
              " 'रिडेम्पशन यील्ड एक आनुपातिक रिटर्न है जिसे कोई बॉन्ड खरीदते हुए आज प्राप्त करेगा यदि वह अपनी परिपक्वता तक बॉन्ड रखता है',\n",
              " 'किसान बाही अगर इन सारी बातों को ठीक से अनुसरण करेंगे तो प्रति हेक्टेयर तकरीबन 7-8 रुपया का शुद्ध लाभ उठा सकते हैं',\n",
              " 'सावधि जमा खाते ऐसे होते हैं जिनमें कभी-कभी कई वर्षों की लंबी प्रतिबद्धता की आवश्यकता होती है',\n",
              " 'छिड़काव की पुराने उपाय की जगह अब समग्र मलेरिया उल्मूलन उपायों ने ले ली है',\n",
              " 'कम से कम पांच मुख्य प्रकार के ध्यान हैं जो स्मृति और ध्यान के क्षेत्र में विशेषज्ञों द्वारा पहचाने गए हैं',\n",
              " 'यदि आप मासिक धर्म को लंबे समय तक स्थगित करना चाहते हैं हालांकि एक प्रकार जिसमें निष्क्रिय गोलियां शामिल नहीं हैं आसान हो सकता है',\n",
              " 'योनि संक्रमण के कई प्रकार हैं लेकिन लक्षण अधिकांश के लिए समान हैं',\n",
              " 'प्राचीन ग्रंथों के आलोक में वर्तमान कर-व्यवस्था',\n",
              " '2008 में एक अग्रणी जमा संरक्षण सेवा द्वारा किए गए सर्वेक्षण से पता चला कि 62 प्रतिशत जमींदारों ने कानूनी आवश्यकता के बावजूद खुले तौर पर जमा संरक्षण योजना का उपयोग नहीं किया',\n",
              " 'मड़िया की खेती का गुड़ाई करता किसानइसके बाद 20-25 दिन में पहली गुड़ाई करनी चाहिए और हल्के हाथ से पौधे को सुला देना चाहिए',\n",
              " 'खुद जॉर्ज लेन के अनुसार स्टोकेस्टिक थरथरानवाला के पीछे की मूल अवधारणा को एक रॉकेट को हवा में ऊपर जाने की कल्पना करके समझा जा सकता है  इससे पहले कि यह नीचे मुड़ सकता है इसे धीमा करना होगा',\n",
              " 'यह वर्तमान देनदारियों द्वारा विभाजित संपत्ति है',\n",
              " 'यह सुनिश्चित करने से कि जारीकर्ता के अंतर्निहित दर्शन निवेशक के अनुरूप हैं निवेश द्वारा उत्पन्न संतुष्टि केवल मौद्रिक रिटर्न की तुलना में व्यापक है',\n",
              " 'सामान्य बुखार का तापमान सामान्य तापमान से लगभग तीन से चार डिग्री अधिक होना चाहिए',\n",
              " 'इसके बदले में किसी सेवा प्राप्ति की आशा नहीं की जा सकती है',\n",
              " 'एक डॉक्टर लैक्टेज की कमी का सही निदान कर सकता है और पाचन संबंधी बीमारियों जैसे अन्य संभावित कारणों का पता लगा सकता है',\n",
              " 'मॉ के मर जाने की स्थिति में अथवा बच्चा गोद लेने की स्थिति में देख-रेख करने वाले को दूध पिलाने के विकल्पों के बारे में डॉक्टर से बात करनी चाहिए',\n",
              " 'ये जटिल हैं और दवाइयों का उपयोग करके जोखिम को कम करने में मदद करते हैं जबकि स्थिति वाले व्यक्ति को शैक्षिक और भावनात्मक समर्थन प्रदान करते हैं',\n",
              " 'लघु कृषक कृषि व्यवसाय संघ तथा निजी क्षेत्र को बाजार प्रबन्धन हेतु सह ठेका',\n",
              " 'अपने पशु को अच्छे पोषण वाला आहार ही दें',\n",
              " 'इस स्थिति को कभी-कभी  प्रारंभिक गर्भावस्था की विफलता  के रूप में भी जाना जाता है क्योंकि ब्लाइटेड बल्कि पीजोरेटिव लगता है और डिंब का एक नैदानिक स्वर है',\n",
              " 'दरअसल अरस्तू की मान्यता है कि ‘ राज्य जीवन के लिए अस्तित्व में आता है और अच्छे जीवन के निरंतर बना रहता है',\n",
              " 'इसके अलावा शरीर में अधिवृक्क अंडाशय या अन्य जगहों पर सौम्य या कैंसर ट्यूमर ट्यूमर को एंड्रोजेन से आगे निकल सकता है',\n",
              " 'एक्सचेंज अप-टू-मिनट डेटा रखता है और वायदा लेनदेन और एक्सचेंज के लिए एक मंजिल के रूप में कार्य करता है',\n",
              " 'एक अच्छा मॉइस्चराइजर आमतौर पर इन लक्षणों को कम करेगा',\n",
              " 'ऊपरी बांह में ह्यूमरस अग्र भाग में त्रिज्या और उल्ना उंगलियों और पैर की उंगलियों में फालानक्स हड्डियां जांघ में फीमर और पिंडली में टिबिया और फाइब्यूला इस तरह की चोट के लिए सभी अतिसंवेदनशील होते हैं',\n",
              " 'यद्यपि अन्नप्रणाली के स्वास्थ्य का निदान करने का एकमात्र तरीका नहीं है कुछ रोगियों में मौजूदा लक्षणों के कारण को निर्धारित करने में मोनोमेट्री उपयोगी है',\n",
              " 'वे देख सकते हैं कि उनकी हृदय गति अचानक बढ़ जाती है या उन्हें कंपकंपी या पसीना आने लगता है',\n",
              " 'आमतौर पर स्वस्थ व्यक्ति में ये स्तर मुश्किल से ही पता चल पाते हैं लेकिन जब दिल की क्षति हुई है तो प्रोटीन रक्त प्रवाह में जारी होते हैं और रक्त के नमूने में देखे जा सकते हैं',\n",
              " 'शुक्र ग्रह के वायुमंडल में 96.5 कार्बन डाइऑक्साइड,3.5 नाइट्रोजन और बहुत ही कम मात्रा में सल्फर डाइऑक्साइड हाइड्रोजन क्लोराइड मौजूद है',\n",
              " 'जैसे ये बाज़ार उसी हद तक विनियमन के अधीन नहीं हैं कि स्टॉक एक्सचेंज हैं',\n",
              " 'ये विचारक विभिन्न तरीकों की पेशकश करते हैं जिनके माध्यम से एक नई वैश्विक मुद्रा विकसित की जा सकती है',\n",
              " 'क्षेत्रफल में किसान सहभागिता मोड़ में किया गया',\n",
              " 'उदाहरण के लिए यदि कोई बच्चा अपना सारा होमवर्क पूरा कर लेता है तो उसे स्टिकर मिल सकता है',\n",
              " 'अतः इन्हें प्रांरभ में कम छाया दार स्थान में सुखाएं तत्पश्चात धूप में सुखाना चाहिए',\n",
              " 'क्रीम स्प्रेटर से अच्छी तरह क्रीम कैसे निकालें',\n",
              " 'एक पूर्ण रक्त गणना एनीमिया की पहचान करती है जबकि औसत लाल रक्त कोशिकाओं और अन्य असामान्यताओं की तुलना में छोटी होती है जो रक्त विकार की विशेषता होती हैं जिन्हें एक माइक्रोस्कोप के तहत देखा जा सकता है',\n",
              " 'विचार यह है कि कम तरलता की अस्थायी स्थिति का इंतजार करें और गतिविधि को फिर से शुरू करने के लिए तैयार रहें जब आर्थिक संकेतक उन स्थितियों की ओर संकेत करते हैं जो बाजार में वसूली के लिए अनुकूल हैं',\n",
              " 'सीओपीडी विकलांगता आमतौर पर सिगरेट पीने के कारण होती है',\n",
              " 'कुछ संपत्ति उच्च मूल्य के साथ समाप्त हो सकती हैं क्योंकि वे समय के साथ सराहना करते हैं घर उदाहरण के लिए पुनर्विक्रय के समय अक्सर खरीद के समय की तुलना में अधिक मूल्य के होते हैं',\n",
              " 'आश्चर्य इस सिद्धांत द्वारा वर्णित एकमात्र तटस्थ प्रभाव है',\n",
              " 'नेत्रगोलक की तुलना में कम होना चाहिए और प्रकाश की किरणें रेटिना के ठीक पीछे होती हैं',\n",
              " 'विसंगतियाँ असामान्य हैं लेकिन जरूरी नहीं कि हानिकारक हों छठी उंगली बढ़ाना उदाहरण के लिए एक विसंगति है',\n",
              " 'शराबी के साथ रहना कई बार छोटे बच्चे की तरह लग सकता है क्योंकि पीने की गंभीर समस्या वाला व्यक्ति अपने कपड़े धोने या अन्य बुनियादी रोजमर्रा के काम भी नहीं कर सकता है',\n",
              " 'आमतौर पर भुगतान करने की मांग करने की क्षमता व्यवस्था से संबंधित कुछ जिम्मेदारियों को निभाने के लिए व्यवस्था में विफलता के लिए पहले से ही प्रस्तावित परिपक्वता तिथि की तुलना में भुगतान की मांग के अधिकार के साथ उपबंध प्रदान करने और अनुबंध का निपटान करने की व्यवस्था में पूर्व निर्धारित है',\n",
              " 'यदि आप गर्भवती नहीं हैं और स्वस्थ हैं तो एक महीने के भीतर टॉक्सोप्लाज्मोसिस के लक्षण गायब हो जाने चाहिए',\n",
              " 'गन्ना और चीनी उत्पादन के वर्तमान स्तर में उपलब्ध अधिकतम शीरा लगभग 13 एमएमटी है जो लगभग 300 करोड़ लीटर अल्कोहल एथेनॉल का उत्पादन करने के लिए पर्याप्त है',\n",
              " 'निचले पैरों और पैरों में झुनझुनी की अनुभूति कभी-कभी लूम्बेगो के साथ भी होती है और रोगी एक रीढ़ की हड्डी को विकसित कर सकते हैं क्योंकि उनके शरीर दर्द का जवाब देते हैं',\n",
              " 'माइग्रेन का एक अन्य रूप जिसे एक तीव्र भ्रमपूर्ण प्रकरण कहा जाता है लगभग विशेष रूप से छोटे बच्चों द्वारा अनुभव किया जाता है',\n",
              " 'निदा 5 का दुरुपयोग की पांच मुख्य दवाओं को क्या कहा जाता है इस पर शासन करता है लेकिन बहुत सारी दवाएं हैं जो इसके लिए स्कैन नहीं करती हैं फिर भी नियमित रूप से दुरुपयोग किया जा सकता है',\n",
              " 'यूरोपीय संघ सीपीआई पर आधारित मुद्रास्फीति को कम करने और यूरोपीय संघ के भीतर आर्थिक विकास को प्रोत्साहित करने के लिए बैंक ब्याज दरों में बदलाव करते हैं',\n",
              " 'इसका मतलब यह है कि बाजार कितना खराब प्रदर्शन करता है इसकी परवाह किए बिना नुकसान सीमित है',\n",
              " 'इनमें प्रतियोगियों के लिए प्रायोजन या प्रतिज्ञा शामिल हो सकती है या गेंदबाजी एलीस को समय की एक निर्धारित अवधि के लिए अपनी फीस का हिस्सा दान करके भाग लेने के लिए कह सकते हैं',\n",
              " 'हम जानते हैं कि मिट्टी का अपरदन रोकने एवं जल-सन्तुलन बनाए रखने के लिये पृथ्वी पर पर्याप्त मात्रा में पेड़ों का होना आवश्यक है',\n",
              " 'यह एक हाइपोग्लाइसेमिक व्यक्ति के लिए एक अच्छा विचार हो सकता है कि वह प्रत्येक भोजन से पहले अपने रक्त शर्करा की जांच करे ताकि वह सही भोजन विकल्प बनाने में मदद कर सके',\n",
              " 'कम सामान्य लक्षणों में सिरदर्द पेट में दर्द और मतली जैसी चीजें शामिल हो सकती हैं',\n",
              " 'पतले दस्त होते हैं जिस से बदबू आती है',\n",
              " 'यदि कोई पाया जाता है तो स्पाइन विशेषज्ञ निदान में उपयोग और उपचार योजना के विकास के लिए अधिक जानकारी एकत्र करने के लिए फिल्मों को देख सकते हैं',\n",
              " 'नतीजतन एक्सचेंज के व्यक्तिगत सदस्य संयुक्त देयता का आनंद लेने के बजाय उत्तरदायी होते हैं जो कि इकाई को शामिल किए जाने पर मौजूद होंगे',\n",
              " 'मूंगफली की एलर्जी अक्सर बहुत गंभीर प्रतिक्रिया का कारण बनती है भले ही कोई व्यक्ति केवल बहुत कम मात्रा में मूंगफली या मूंगफली का मक्खन के संपर्क में हो',\n",
              " 'लर्निंग के बाद ही परमानेंट लाइसेंस बनता है',\n",
              " 'यदि नेवस कैंसर है हालांकि तो एक सर्जन इसे एक ऑपरेशन में निकाल सकता है या रोगी को विकिरण उपचार से गुजरना पड़ सकता है',\n",
              " 'रक्त वाहिकाओं को सख्त या संकुचित करने के परिणामस्वरूप ऐसी चोट लगना अक्सर उच्च रक्तचाप धमनियों के सख्त होने और हृदय रोग के साथ-साथ एक समवर्ती स्थिति होती है',\n",
              " 'इस घटना में कि ब्रोकर को सद्भाव में आदेशों को निष्पादित करने के लिए पाया जाता है तो उसके व्यापारिक विशेषाधिकार बहाल किए जाते हैं',\n",
              " 'भूजल स्तर में गिरावट के कारण पैदावार घट रही है और भूजल लवणता बढ़ रही है',\n",
              " 'सीमांत लागत एक इकाई की औसत लागत के समान नहीं है क्योंकि निश्चित लागत और अर्थव्यवस्था या पैमाने की विसंगतियों जैसी चीजों का मतलब है कि प्रत्येक अतिरिक्त इकाई की सीमांत लागत कुल मात्रा में परिवर्तन के रूप में बदल सकती है',\n",
              " 'हालांकि कुछ भूरी काली धब्बे वाली भी होती हैं',\n",
              " 'बुखार नापने के लिये डिजिटल या पारद थर्मामीटर इस्तेमाल करते है',\n",
              " 'वितरण केंद्रों की मरम्मत एक सीधा नुकसान है लेकिन यह निर्धारित करना कठिन हो सकता है कि अन्य जिम्मेदारियां कहां हैं',\n",
              " 'परिणामों की तुलना पुरुषों और महिलाओं के लिए अच्छी तरह से स्थापित औसत से की जा सकती है जो यह देखते हैं कि वे सामान्य हैं',\n",
              " 'क्योंकि एक आस्थगित शेयर रणनीति में स्टॉक के शेयर जारी करना शामिल होता है जो अनिवार्य रूप से प्राप्तकर्ताओं द्वारा सक्रिय ट्रेडिंग से बंद होते हैं वे सामान्य स्टॉक या पसंदीदा स्टॉक की तुलना में बड़े लाभांश भुगतान प्रदान करते हैं',\n",
              " 'जब इन दुर्लभ लक्षणों को संयोजित किया जाता है जैसे कि धीमी गति से धड़कन और सांस लेने में कठिनाई तो व्यक्ति कोमा का अनुभव करने का जोखिम उठाते हैं',\n",
              " 'ये बिक्री बहुत रचनात्मक हो सकती है जिससे उन संपत्तियों की अनुमति मिलती है जो अब एक उद्योग में दूसरे में नया जीवन लेने के लिए उपयोगी नहीं हैं',\n",
              " 'अंत में यह ध्यान दिया जाना चाहिए कि ऑटिस्टिक स्पेक्ट्रम परिपूर्ण से बहुत दूर है',\n",
              " 'यह आमतौर पर एक घनास्त्रता के लिए उपयोग नहीं किया जाता है लेकिन बस इसे काटने की तुलना में अधिक प्रभावी है',\n",
              " 'किसी भी तरह से निष्क्रिय निवेश के माध्यम से आर्थिक विकास को प्रोत्साहित करने के लिए मजबूत व्यापारिक बाजार आवश्यक हैं',\n",
              " 'इस परिदृश्य में व्यवसाय सबसे अधिक कवरेज प्राप्त करने में सक्षम होगा जो सुविधा में मूल निवेश दोनों की वसूली की गारंटी देता है और कम से कम प्रयास के साथ जुड़े प्रत्याशित रिटर्न का एक हिस्सा होता है',\n",
              " 'ज्यादातर लोग जो बेहोशी के लक्षण पहले से अनुभव करते हैं',\n",
              " 'पुरानी खराब पाचन क्रिया से बदहज़मी हो सकती है जिसके परिणामस्वरूप लोगों को अपने आहार से आवश्यक पोषक तत्व नहीं मिल पाते हैं और परिणामस्वरूप स्वास्थ्य समस्याओं का अनुभव होता है',\n",
              " 'दरअसल इसमें फाइबर की भरपूर मात्रा होती है जो बवासीर की समस्या से कुछ हद तक राहत दिला सकता है',\n",
              " 'आपके हाथ में एक मुद्रा नोट होने का मतलब यह नहीं है कि आप मुद्रा नोट पर मुद्रित मूल्यवर्ग के पैसे का स्वामित्व रखते हैं',\n",
              " 'इस वर्ग के वसा को कम से कम उपयोग करना चाहिए क्योंकि हृदय रोग होने के खतरे को बढ़ाते हैं',\n",
              " 'मुद्रा प्रबंधन योजना को सबसे खराब संभव परिदृश्य को ध्यान में रखते हुए विकसित किया जाना चाहिए',\n",
              " 'धारा 55 और प्रथम अनुसूची के स्थान पर निम्नलिखित धारा रखी जाएगी अर्थात्',\n",
              " 'अधिक वजन वाले रोगी अपना वजन घटा कर रक्तचाप को कम कर सकते हैं',\n",
              " 'इकोटेक्स पिगौवियन करों के उदाहरण हैं जो करों को शामिल करते हैं जो निजी पार्टियों को शामिल करने का प्रयास करते हैं उनके कार्यों का सामाजिक बोझ महसूस करते हैं',\n",
              " 'बकरी ब्याने के बाद जल्दी पुनः गर्भधारण कर ले',\n",
              " 'एक साल बाद निवेशक ने स्टॉक को बेच दिया ऐसा करने के लिए ब्रोकर को कमीशन में 50 अमरीकी डालर का भुगतान किया',\n",
              " 'केडेवर किडनी प्रत्यारोपण के कार्य में किन-किन व्यक्तियों का समावेश होता है',\n",
              " 'ग्राम-नेगेटिव बैक्टीरिया में एक कोशिका झिल्ली होती है जिसमें लिपोपॉलीसेकेराइड होता है जिसे शरीर एक प्रतिरक्षा प्रतिक्रिया के भाग के रूप में अस्वीकार करता है',\n",
              " 'इसका इलाज एंटीबायोटिक्स से भी किया जाता है',\n",
              " 'दाँतेदार जबड़े ऊतक पोत या अंग को कसकर पकड़ लेते हैं',\n",
              " 'इस जानकारी का उपयोग निवेशकों और विश्लेषकों द्वारा इस बारे में निर्णय लेने के लिए किया जा सकता है कि किसी विकास कंपनी में निवेश करना है और स्टॉक मूल्य शुरू होने से पहले मूल्य में वृद्धि का लाभ लेने के लिए स्टॉक को बेचना है या नहीं',\n",
              " 'इस विधि का उपयोग कृषि व औद्योगिक क्षेत्र में करें',\n",
              " 'एक और अधिक गंभीर प्रकार के ढह गए फेफड़े को तनाव न्यूमोथोरैक्स कहा जाता है',\n",
              " 'एपोलिपोप्रोटीन ई एक विशेष प्रकार का लिपोप्रोटीन मस्तिष्क में एक प्रमुख भूमिका है',\n",
              " 'हेपेटाइटिस सहित कुछ विशिष्ट चिकित्सा शर्तों को हेपेटोटॉक्सिसिटी के लेबल के तहत वर्गीकृत किया गया है',\n",
              " 'अक्सर क्लियरिंगहाउस एक ट्रेडिंग अवधि से अगले तक या एक कैलेंडर दिन से अगले प्रदर्शन में परिवर्तन के आधार पर निर्धारण करेगा',\n",
              " 'विक्रेता आमतौर पर इससे अधिक की मांग कर सकते हैं और खरीदार आमतौर पर समझौता करने की उम्मीद में काउंटरऑफर्स के साथ प्रतिक्रिया करते हैं',\n",
              " 'क्योंकि संचित आय कंपनी के सामान्य परिचालन खर्चों को पूरा करने के लिए आवश्यक धन का प्रतिनिधित्व नहीं करती है इसलिए बकाया ऋण का भुगतान करने के लिए कमाई का उपयोग करना अक्सर एक अच्छी स्थिति को और भी बेहतर बना सकता है',\n",
              " 'क्लौस्टीडियम जनित अन्य रोगों की तरह यह भी अपने एक्सोटोक्सिन के द्वारा भारी क्षति पहुंचाता है खासकर जब भोजन में बड़ी मात्रा में पहुंच गया हो',\n",
              " 'फ्यूल लाईन में पानी आ गया है',\n",
              " 'सामान्यतः शुरू के दो महीनों में चार प्रकार की दवाईयाँ और उसके बाद तीन प्रकार की दवाईयाँ दी जाती हैं',\n",
              " 'शेष अंगों के बगल में मानव फेफड़े छाती के अंदर स्थित होते हैं',\n",
              " 'एक बार यह नई जानकारी सीखने के बाद अनुभूति बिल्ली को भविष्य की स्थितियों के लिए जानकारी को लागू करने में मदद करके खेल में आती है',\n",
              " 'यदि वेस्टिबुलर परीक्षण एक आंतरिक कान की समस्या को इंगित करने में विफल रहता है तो रोगी मस्तिष्क के विकारों की जांच करने के लिए अधिक महंगी प्रक्रियाओं जैसे चुंबकीय अनुनाद इमेजिंग के साथ जारी रख सकता है',\n",
              " 'मिशन निदेशक ने प्रक्षेपण के लिए वाहन निदेशक को अधिकृत किया',\n",
              " 'अंत में प्रोटीन का एंजाइम पाचन मुक्त अमीनों एसिड और पेप्टाइड्स रिलीज करने के लिए करते हैं',\n",
              " 'आदमी कितनी पेशाब पैदा करता है यह उम्र और मौसम के अनुसार बदलता है',\n",
              " 'हालांकि अन्य लोगों को मस्तिष्क शोष द्वारा लाया जा सकता है',\n",
              " 'पारंपरिक सतही सिंचाई की तुलना में जल की औसतन 40 से 50 प्रतिशत बचत की जा सकती है वहीं उत्पादन में 20 से 25 प्रतिशत तक की वृद्धि की जा सकती है',\n",
              " 'अंतरपणन के द्वारा प्रतिभूतियों वस्तुओं या विदेशी विनिमय के मूल्य संसार भर में लगभग समान हो जाते हैं',\n",
              " 'टेंडोनाइटिस आमतौर पर अक्सर दोहराए जाने वाले आंदोलनों द्वारा लाया जाता है और सुप्रास्पिनैटस टेंडोनाइटिस अक्सर उन एथलीटों में देखा जाता है जिनके खेल में बेसबॉल पिचर्स की तरह ओवरहेड थ्रोइंग गति की आवश्यकता होती है',\n",
              " 'नमक का सेवन कम करने से न केवल आपकी अवधि के आसपास सूजन कम होगी बल्कि उच्च रक्तचाप को रोकने में भी मदद मिलेगी',\n",
              " 'यह उपाय नदियों में मत्स्यजीवियों की आर्थिक स्तिथि को मजबूत करेगा',\n",
              " 'प्रभावित विकार ज्यादातर उन्माद या अवसाद या दोनों के बीच अचानक बदलाव हो सकते हैं',\n",
              " 'एक अन्य प्रारंभिक अमेरिकी म्यूचुअल इंश्योरेंस कंपनी की स्थापना 1752 में फिलाडेल्फिया में बेंजामिन फ्रैंकलिन द्वारा की गई थी और आज भी एक म्यूचुअल इंश्योरेंस कंपनी के रूप में काम करती है',\n",
              " 'छोट्टी कंपनीया हो सकता सिर्फ कम पढे-लिखे लोगो को ही अपना लक्ष्य बना सकती हैजो गरीब परन्तु जनसंख्या में ज्यादा हो वो उन्हें अपना लक्ष्य इसलिए बनाते क्योंकि वो उन लोगो की सेवन की रणनीतियां देखते है जो उनके बाजार विभाग से मिलती है इसलिए ठेले वाले भी कम आमदनी वाले इल्लाको में अपना ठेला रखते है ताकि वो उन इल्लाको में इस खाना बिमारियों का कारण भी बन सकता है',\n",
              " 'पशुओं के लिए रोज़ घर में दाना मिश्रण बनाने की कोई सामान्य विधि बताएं',\n",
              " 'अमेरिका में दो प्राथमिक शासी निकाय हैं जो डेरिवेटिव नियमों को लागू करते हैं जिनमें प्रतिभूति और विनिमय आयोग और कमोडिटी फ्यूचर्स ट्रेडिंग कमीशन शामिल हैं',\n",
              " 'आईआरएस निधियों को वसूलने के बारे में बेहद आक्रामक है जिसे नियोक्ताओं को विश्वास में रखा जाना चाहिए',\n",
              " 'मस्तिष्क की चोट सेरेबेलम क्षति का एक सामान्य कारण है',\n",
              " 'जलीय फर्न के नाम से विख्यात या एक ऐसा शैवाल है जो छोटे-बड़े तालाब गड्ढे आदि में एक हरी मोटी परत के रूप में बिछा हुआ दिखाई पड़ता है',\n",
              " 'प्रत्याशित प्रतिफल आमतौर पर स्टॉक चार्ट और पूर्व प्रवृत्तियों के करीबी विश्लेषण द्वारा निर्धारित किया जाता है',\n",
              " 'सेरेब्रल पाल्सी की अन्य सामान्य जटिलताओं में स्कोलियोसिस खराब आंखें और स्कोलियोसिस जैसी रीढ़ की समस्याएं शामिल हो सकती हैं',\n",
              " 'स्वर को अपनी प्रकृति से ही आकृति प्राप्त होती है',\n",
              " 'चूंकि एक औसत आई माइग्रेन तकनीकी रूप से मस्तिष्क की शिथिलता है और आंख का विकार नहीं है इसलिए उपचार अधिक कठिन है और ज्यादातर मामलों में लक्षण समय के साथ समाप्त हो जाएंगे',\n",
              " 'इसे खान से निकालकर साफ किया जाता है और परिशुद्ध लवण उर्वरक के रूप में म्यूरेट ऑफ पोटाश के नाम से बाजार में मिलता है',\n",
              " 'विश्व व्यापार संगठन करार के अंतर्गत व्यापार उन्मुक्तीकरण के कारण भारत को अपने आपको तैयार करना है और ज्यादा प्रजातियों को शामिल करने से जुड़े संभावी परिस्थितिकी तथा रोग खतरे को कम करना है',\n",
              " 'इसका मूल काम होता है कि शरीर के उपापचय को नियंत्रित करे',\n",
              " 'इससे कम से कम 3 से 4.5 किग्रा फैब्रिक तैयार किया जा सकता है और ये अपने चिकने और कोमल फाइबर की वजह से भी जाना जाता है',\n",
              " 'चेक जारी करने वाली कंपनी और उन्हें संभालने वाले बैंकों के बीच सेवा नियमित संचार पर निर्भर करती है',\n",
              " 'वित्त कंपनी तुरंत व्यापार के लिए बकाया पैसे का भुगतान करती है एक शुल्क घटाती है',\n",
              " 'गर्भावस्था के दौरान लार उत्पादन में वृद्धि कभी-कभी ध्यान देने योग्य होती है',\n",
              " '3500 का अनुदान जो भी कम हो सामान्य एवं अन्य पिछड़ा वर्ग के लिए',\n",
              " 'इसके बजाय सेवाओं की पेशकश जारी रखने के लिए जिन्हें अंततः खराब ऋण के रूप में लिखना होगा इस तरह की समस्या से बचने के लिए प्राप्य उम्र बढ़ने का उपयोग करें',\n",
              " 'प्रेस्कॉट और रजनीश मेहरा ने इस घटना को  इक्विटी प्रीमियम पहेली  कहा जिसे समझने के लिए अर्थशास्त्रियों ने संघर्ष किया है',\n",
              " 'यही नहीं आवेदक को यह बताना होगा कि भांग के पौधे का प्रयोग केवल बीज और रेशा प्राप्त करने के लिए किया जाएगा',\n",
              " '5 किलो नीम के पत्ते 3 लीटर पानी में डालकर उबाल ली तब आधा रह जावे तब उसे छानकर 150 लीटर पानी में घोल तैयार करें',\n",
              " 'यह बदले में इसका मतलब है कि उत्पन्न किए गए रिटर्न से इन खर्चों में कटौती करने की आवश्यकता नहीं है प्रभावी रूप से निवेशक को अधिक मुनाफे को बनाए रखने की अनुमति देता है',\n",
              " 'खुजली को कम से कम रखने के लिए एंटीथिस्टेमाइंस जैसी दवाओं की भी सिफारिश की जा सकती है',\n",
              " 'इस सीमा में एक व्यक्ति आदर्श शरीर के वजन से कम से कम 20 प्रतिशत अधिक होगा',\n",
              " 'इसके अतिरिक्त उसका नवजात शिशु',\n",
              " 'एनीमिया के कई प्रभाव हो सकते हैं हल्के अल्पकालिक लक्षण जैसे कि थकान और पीला त्वचा लंबे समय तक दिल की विफलता जैसे अधिक गंभीर जटिलताएं',\n",
              " 'एक गर्भित कोशिका जो डिम्ब एवं शुक्राणु के सम्मिलन से निर्मित होती है उसमें समस्त अनुवांशिक सूचनाएं कूट संकेतित रहती हैं जिससे कुछ समयांतराल के पश्चात एक पूर्ण मानव का निर्माण होता है',\n",
              " 'पिस्सू बाजार काफी कम कीमतों पर नए और इस्तेमाल किए गए माल खोजने के लिए काफी लोकप्रिय हैं',\n",
              " 'अनिवार्य रूप से ऋण देने वाली वित्तीय संस्था तब तक संपत्ति में ब्याज को बरकरार रखती है जब तक कि गृहस्वामी द्वारा बंधक का पूरा भुगतान नहीं किया जाता है',\n",
              " 'सर्दियों में गुड़ सरसों का तेल अदरक खिलाएं',\n",
              " 'भूरे रंग के वैरागी मकड़ी की तरह मकड़ियों में साइटोटॉक्सिक विष होता है',\n",
              " 'सीमित जल स्थितियों में वैकल्पिक फरो सिंचाई अथवा बड़े अन्तराल की फरो सिंचाई और डरियो सिंचाई प्रणालियां अपनाई जा सकती हैं',\n",
              " 'अन्य मामलों में पेरिटोनियल द्रव्यमान को शल्य चिकित्सा द्वारा हटाने की आवश्यकता हो सकती है',\n",
              " 'स्थिति आमतौर पर दर्द रहित होती है हालांकि केंद्रीय दृष्टि काफी बिगड़ा हो सकती है',\n",
              " 'जारीकर्ता को बाजार में बदलाव के खिलाफ अधिक सुरक्षा देने के लिए अक्सर एक संरचित नोट जारी किया जाएगा',\n",
              " 'खरीफ फसल कटने के बाद नमी संरक्षण के लिए खेत में पुआल या पत्तियाँ बिछा दें ताकि खेत की नमी नहीं उड़ पाये',\n",
              " 'इन मामलों में सिद्धांत हमेशा बहुत मायने नहीं रखेगा',\n",
              " 'अंग अस्वीकृति एक विदेशी वस्तु की उपस्थिति के लिए शरीर की प्राकृतिक प्रतिक्रिया है जिसमें प्रतिरक्षा प्रणाली प्रतिरोपित अंग के खिलाफ बचाव का प्रयास करती है',\n",
              " 'राइजोबियम कल्चर से बीजोपचार करना फायदेमन्द रहता है',\n",
              " 'खास बात है कि उत्तर प्रदेश की सरकार अपनी कृषि यंत्रीकरण योजना के तहत डिस्क हैरो यंत्र पर करीब 25 प्रतिशत तक की छूट देती है',\n",
              " 'अंतर्निहित कारण के उपचार के साथ लक्षण कभी-कभी हल हो जाते हैं',\n",
              " 'यह कार्यालय प्रधानमन्त्री तथा उनके द्वारा प्रशासनिक सेवाओं के कुछ गिने-चुने वरिष्ठ अधिकारियों की मेज़बानी करता है',\n",
              " 'खाता खोलने में आमतौर पर कुछ कागजी कार्रवाई को भरना और प्रारंभिक जमा करना शामिल होता है',\n",
              " 'जब आप ऋण समझौते पर हस्ताक्षर करते हैं तो आप हर महीने या निर्दिष्ट दिन पर पुनर्भुगतान की अनुमति देते हैं',\n",
              " 'वे पसीना तेजी से सांस लेने या हृदय गति और आतंक हमलों में शामिल हो सकते हैं',\n",
              " 'अन्य कारकों जैसे कि पहले से मौजूद स्थितियों को तत्काल उपचार और कवरेज की आवश्यकता होती है स्वास्थ्य योजना की लागत पर भी विचार किया जाता है',\n",
              " 'आमतौर पर रिटायरमेंट के लिए निवेश करने वाला व्यक्ति रिटायरमेंट फंड बढ़ाने में मदद करने के साथ-साथ निवेश में पैसा भी लगाता है',\n",
              " 'गोपनीयता और गोपनीयता की इस उच्च प्राथमिकता ने हालांकि यह गलतफहमी पैदा कर दी है कि विदेशी अमेरिकी सरकार और स्विस बैंक में आंतरिक राजस्व सेवा से अपना पैसा छिपा सकते हैं',\n",
              " 'इस प्रक्रिया में हवा ठण्डी होती है परिणामस्वरूप वायु का संघनीकरण और तदुपरान्त वर्षा होती है',\n",
              " 'फिर वे बुलेट लोन से जुड़े छोटे मासिक भुगतान का लाभ उठाते हैं',\n",
              " 'इन कंपनों को मध्य कान में तीन छोटी हड्डियों को पास किया जाता है जिन्हें ओस्कल्स कहा जाता है',\n",
              " 'ऋण जारी करने के लिए प्राथमिक नकारात्मक पक्ष यह है कि बॉन्ड बेचने से शेयरधारकों को इकाई का स्वामित्व नहीं मिलता है जारीकर्ता को अनुबंध के जीवन पर उन शेयरधारकों को जारी ब्याज भुगतान करना होगा',\n",
              " 'इसके लगभग २४ वंश भारत में पाए जाते हैं',\n",
              " 'दाने भी खुल जाते हैं और फिर खुजाने लगते हैं लेकिन वर्तमान में खुजली और दर्द महसूस कर सकते हैं',\n",
              " 'यदि ब्याज दर गिरने की उम्मीद है तो एक निश्चित जमा एक अच्छा विचार हो सकता है लेकिन यदि ब्याज दरें बढ़ती हैं तो निश्चित जमा लाभहीन हो सकता है',\n",
              " 'चिकन एक सभ्य स्रोत प्रदान करता है जैसा कि बीफ़ और पोर्क करता है',\n",
              " 'जो लोग आम तौर पर स्वस्थ होते हैं हालांकि और नियमित जांच के लिए प्रति वर्ष केवल एक या दो बार डॉक्टर के पास जाते हैं अक्सर एक उच्च कटौती योग्य स्वास्थ्य योजना का चयन करते हैं इसलिए वे डॉक्टर के पास जाने पर जेब से अधिक भुगतान करते हैं लेकिन कम उनका मासिक प्रीमियम',\n",
              " 'यदि कंपनी अपने भुगतान करने में विफल रहती है तो पूरा सिंडिकेट प्रभाव को अवशोषित कर लेता है इसलिए प्रत्येक ऋण संस्थान को केवल नुकसान का एक हिस्सा वहन करना पड़ता है',\n",
              " 'खंड में कंपनी  शब्द के पश्चात् सहकारी सोसाइटी  शब्द अंतःस्थापित किए जाएंगे',\n",
              " 'यह जालसाज ग्राहकों को बैंक के नाम पर फर्जी कॉल करके एफडी बनवाने के नाम पर एकलिंक देते है कि जिसमें ग्राहकों से उनकी पर्सनल जानकारी जैस नाम मोबाइल नंबर कार्ड नंबर सीवीवी आदि मांगी जाती है',\n",
              " 'सकल लाभ और शुद्ध लाभ एक विशेष कंपनी के राजस्व का वर्णन करने के लिए शर्तें हैं',\n",
              " 'इस पद्धति के प्रयोग से फल को नुकसान करने वाले कीटों की पहचान उनके आगमन की सूचना तथा प्रकोप के स्तर की जानकारी प्राप्त होती है जो अंतत कीट प्रबंधन तकनीकों के क्रियान्वयन में सहायक होता है',\n",
              " 'इसका मतलब यह है कि जब जीव का जीवन शुरू हुआ तो उसकी हालत में कोई प्राकृतिक प्रतिरक्षा नहीं थी',\n",
              " 'वर्तमान में नासा अंतर्राष्ट्रीय अंतरिक्ष स्टेशन को समर्थन दे रही है चाँद पर फिर से मानव को भेजने के लिये आर्टेमिस कार्यक्रम चला रही है और ओरायन बहु-उपयोगी कर्मीदल वाहन व व्यापारिक कर्मीदल वाहन के निर्माण व विकास पर ध्यान केंद्रित कर रही है',\n",
              " 'जो पुरुष नोटिस करते हैं कि उनका वीर्य अचानक से गाढ़ा होता है उन्हें तरल पदार्थों का सेवन बढ़ाने के लिए प्रोत्साहित किया जाता है विशेषकर पानी को',\n",
              " 'सही ढंग से निवेश की कमाई की संभावना का अनुमान लगाते हुए प्रतिभूतियों पर एक महत्वपूर्ण उपज की संभावना बढ़ाने में मदद करता है जबकि नुकसान को कम करने की संभावना को कम करता है',\n",
              " 'विष चाहे मकड़ी या सांप का जहर दो प्रकारों में वर्गीकृत किया जा सकता है न्यूरोटॉक्सिक या साइटोटोक्सिक',\n",
              " 'जिंक फास्फाइड बेरियम कार्बोनेट',\n",
              " 'रूढ़िवादी बीमा प्राप्त करने का प्राथमिक कारण यह है कि ब्रेसिज़ की कीमत बहुत अधिक है और इसे कई बच्चों वाले परिवार में गुणा किया जा सकता है',\n",
              " 'इन सब समस्याओं से उबरने के लिए जलीय कृषि क्षेत्र में एक विशेष तकनीक विकसित हुई है',\n",
              " 'अवसर पर असामान्यता जननांग क्षेत्र में सूजन का कारण हो सकती है जिसे निरीक्षण पर देखा जा सकता है',\n",
              " 'डिस्पोजेबल जीभ अवसादों का उपयोग करने के लिए यह अधिक कुशल और प्रभावी है क्योंकि वे नियमित रूप से रोगी परीक्षाओं में उपयोग किए जाते हैं',\n",
              " 'अच्छे फूल उत्पादन के लिए 1000 वर्ग मीटर जगह में 13 कि ग्रा यूरिया 25 कि',\n",
              " 'अक्सर सुविधा स्टोर पर जाना एक आदत बन सकता है और हर बार आवेग वाली वस्तुओं को खरीदना वास्तव में आपके नकदी को हाथ से काटने या आपकी डेबिट कार्ड की फीस में जोड़ सकता है',\n",
              " 'प्रत्येक क्षेत्र व भूमि में इसकी संस्तुती ठीक से कर पाना कठिन है',\n",
              " 'इनके प्रकोप से पत्तियां चिपचिपी दिखाई देती हैं तथा उन पर कवकों की पर्त चढ़ जाती हैं',\n",
              " 'सबसे पहले संभव सर्वोत्तम ब्याज दर प्राप्त करना उपलब्ध वित्त का प्रबंधन करने का एक अच्छा तरीका है',\n",
              " 'विधि विधान से हुई शिल्पदेव भगवान विश्वकर्मा की पूजा',\n",
              " 'उस राष्ट्र के बुनियादी ढांचे की स्थिरता में योगदान करके कम कीमत पर उस राष्ट्र में आधारित निवेशों को सुरक्षित करना संभव है जब तक कि विदेशी मुद्रा बाजार में मुद्रा में सुधार नहीं होता है और उन अर्जित शेयरों का मूल्य एक बिंदु तक बढ़ जाता है निवेशक वांछनीय समझता है',\n",
              " 'पौधें एवं पंक्ति की दूरी',\n",
              " 'तीन सबसे कनिष्ठ बैच के आईएएस और आईएफएस अधिकारियों दवारा जिला सिंचाई योजना तैयार की जाएगी',\n",
              " 'पुनर्जलीकरण समाधान के उपयोग के बारे में माता-पिता को शिक्षित करने के लिए अंतरराष्ट्रीय स्वास्थ्य संगठनों द्वारा किए गए प्रयासों ने इस सामान्य जोखिम कारक को कम कर दिया है',\n",
              " 'एरोपोनिक प्रणाली में पौधों की वृद्धि अन्य हाइड्रोपोनिक प्रणालियों की तुलना में अधिक कुशल होती है क्योंकि पौधे अधिक ऑक्सीजन प्राप्त करते हैं और पोषक तत्व कुशलता से',\n",
              " 'आयोडीन हमें समुद्री खाद्य पदार्थ और पानी में मिल सकता है',\n",
              " 'होम केयर रोगियों की निगरानी के लिए ईईजी उपकरणों का भी उपयोग किया जाता है',\n",
              " 'सूखे गले के कारणों में गले में खराश एलर्जी और मुखर तनाव शामिल हो सकते हैं',\n",
              " 'फलों में रेशे एवं बीज की मात्रा काफी कम होती है',\n",
              " 'हरी खाद के लिए उपयुक्त पौधे का चुनाव बहुत आवश्यक है',\n",
              " 'पीसीओएस के निदान के लिए कोई एकल परीक्षण डिज़ाइन या उपयोग नहीं किया गया है',\n",
              " 'निश्चित रूप से कॉर्पोरेट करों में काफी कटौती की गई थी और कुछ टैक्स ब्रैकेट में व्यक्तिगत आय करों में भी कटौती की गई थी',\n",
              " 'कई कारक विकार में योगदान कर सकते हैं जिसमें मां में मधुमेह और उच्च रक्तचाप लंबी कठिन प्रसव या विभिन्न प्रकार के भ्रूण संकट शामिल हैं',\n",
              " 'क़सार पूरे विद्युत-चुम्बकीय स्पेक्ट्रम में शक्तिशाली उत्सर्जन उत्पन्न करते हैं जिसमें शामिल हैं यूवी एक्स-रे और गामा-किरण और अपनी उच्च चमक के कारण ये काफी दूरी से भी दिखाई देते हैं',\n",
              " 'लगभग २ वर्ष आयु वाली स्वस्थ कल्म का चयन किया जाए और इसे स्टम्प के साथ सतह से अलग किया जाए या कल्म को नीचे से काटा जाए',\n",
              " 'उदासीन अर्थव्यवस्था में उदाहरण के लिए एक बड़ी क्रेडिट रेटिंग जारी करने की कोशिश कर रही खराब क्रेडिट रेटिंग वाली नगरपालिका कठिनाइयों का सामना कर सकती है',\n",
              " 'एक साधारण वार्षिकी को कभी-कभी बकाए में वार्षिकी कहा जाता है',\n",
              " 'इसका कारण यह है कि घर की कीमतें जबकि एक छोटी अवधि में अस्थिर आमतौर पर 30-साल के एक बंधक के निष्कर्ष से बढ़ी होगी',\n",
              " 'जैसे-जैसे अर्थव्यवस्था कमजोर होती है वैसे-वैसे बेरोजगारी दर बढ़ती जाती है',\n",
              " 'सबसे आम स्टॉक इंडेक्स फंड्स हैं जो एस एंड पी 500 जैसे किसी विशेष स्टॉक मार्केट इंडेक्स का अनुसरण करते हैं',\n",
              " 'हरा चारा खिलाएं तथा दाने में चोकर की मात्रा बढ़ा दें',\n",
              " 'यदि आइटम को वर्ष के पहले के अलावा किसी भी समय सेवा में खरीदा जाता है या रखा जाता है तो परिसंपत्ति जीवन के पहले और अंतिम वर्षों में समायोजन किया जाना चाहिए',\n",
              " 'यदि एक निश्चित क्षेत्र में रहने वाले लोगों की इतिहाससिक यादे जीत-हार गाथांए और जीवन संघर्ष आदि समान्य है तो उनके भीतर एकता की एक मजबूत भावना का विकसित होना बिल्कुल स्वाभाविक है',\n",
              " 'फल गोल कुछ अंडाकार मध्यम आकार के पकने पर लाल चित्तियाँयुक्त हल्का पीला होता है',\n",
              " 'जैसा कि तकनीशियन त्वचा पर ट्रांसड्यूसर के चारों ओर घूमता है रोगी को रक्त के प्रवाह का अध्ययन करने के साथ कुछ उच्च पिचिंग पल्सिंग ध्वनियां सुनाई दे सकती हैं',\n",
              " 'एक पारंपरिक इरा के साथ उनकी कमाई की संपूर्णता यहां तक कि वे जो 15 ब्रैकेट में डालते हैं उन पर 40 का कर लगाया जाएगा यदि वे ब्रैकेट हैं तो वे अपने इरा को कैश आउट करते हैं',\n",
              " 'भारत में यह हिसार में पाई जाती है',\n",
              " 'ऐसा इसलिए है क्योंकि चेक को अभी भी क्लियर करना है और यदि आपका बैंक में खाता नहीं है और चेक फर्जी निकला तो बैंक में कम मंदी है',\n",
              " 'पूर्ण विकसित सफेद लट्ट अच्छी गहराई में जाकर प्यूपा में बदल जाते हैं',\n",
              " 'विलेख में एक अचल संपत्ति लेनदेन के लिए बहुत प्रासंगिक जानकारी होती है',\n",
              " 'भर्ती प्रक्रिया के जरिए चयनित अभ्यर्थियों को 34,900 रुपये तक का वेतन दिया जाएगा',\n",
              " 'वह एक लड़का है जो कभी बड़ा नहीं होना चाहता कभी-कभी लैंड करने के लिए उड़ान भरता है और कई तरह के कारनामों को अंजाम देता है और उसने कई आने वाली पीढ़ियों की कल्पना को पकड़ लिया है जो कई पुस्तकों और नाटकों जैसे प्रदर्शनों में दिखाई देता है',\n",
              " 'इसी तरह पके हुए दानों को दाल बनाने भुना हुआ दाना बनाने इत्यादि प्रयोग में लाया जाता है',\n",
              " 'कभी-कभी हालांकि ये संकुचन आवश्यक अपशिष्ट हटाने की अनुपस्थिति में होते हैं',\n",
              " 'कुछ संक्रमण रोगी को सूजन प्रक्रिया में वृद्धि के लिए प्रेरित कर सकते हैं जिसमें अन्नप्रणाली की सूजन भी शामिल है',\n",
              " 'इसके अलावा नैदानिक चिकित्सा अनुसंधान काफी हद तक तुलना-आधारित है और एक प्लेसबो के विपरीत उत्पाद या दवा द्वारा शुरू किए गए परिणामों का विश्लेषण करके संचालित होता है',\n",
              " 'एक बर्तन में गर्भवती माताओं ने उबलते पानी के लगभग 2 कप के साथ कटा हुआ लाल गोभी का आधा सिर मिलाया सब्जियों को पूरी तरह से विसर्जित करने के लिए बस पर्याप्त गोभी का उपयोग किया',\n",
              " 'पुरानी अग्नाशयशोथ का निदान करने के लिए सामान्य परीक्षणों में रक्त परीक्षण जैसे सीरम लाइपेस और सीरम एमाइलेज परीक्षण शामिल हैं जो अग्नाशय के कार्य का मूल्यांकन करते हैं',\n",
              " 'इसके लिए 10-15 क्विंटल गोबर की सड़ी खाद नेत्रजन फास्फोरस एवं पोटाश 80:60:80 किग्रा हे के अनुपात में प्रयोग करें',\n",
              " 'फफूंदनाशक दवाओं में घोल तैयार करने वास्ते इमिशान-6 सस्ता पड़ता है',\n",
              " 'यदि अंतर्निहित कीमत बढ़ जाती है तो अनुबंध मूल्य कम होने के बाद से अनुबंध अधिक मूल्यवान है यदि अंतर्निहित मूल्य गिरता है तो अनुबंध मूल्य खो देता है',\n",
              " 'एक ही समय में एक निगम जो एक नया कॉर्पोरेट मुख्यालय बनाने के लिए ऋण ले रहा है इसमें बहुत दिलचस्पी होगी कि क्या शर्तें साधारण या सटीक ब्याज के आवेदन के लिए अनुमति देती हैं क्योंकि बीस की शर्तों के साथ उस बड़े ऋण पर भुगतान की गई ब्याज की राशि तीस साल काफी अधिक हो सकते हैं जिसके आधार पर दृष्टिकोण का उपयोग किया जाता है',\n",
              " 'मालिक-ऑपरेटरों के लिए अक्सर एक बंडल पॉलिसी खरीदना संभव होता है जो ट्रक चालक को ट्रक पर ही बीमा और बीमा प्रदान करता है',\n",
              " 'अब हम उसकी बाहरी सतह पर विशेष टाइलें लगाने की प्रक्रिया में हैं जो पृथ्वी के वायुमंडल में पुनः प्रवेश के दौरान तीव्र गर्मी को बर्दाश्त करने के लिए आवश्यक है  वीएसएससी के निदेशक एम चंद्रनाथन ने कहा',\n",
              " 'यह सुनिश्चित करने की जरूरत है कि इस प्रक्रिया में पारंपरिक चावल जीन पूल नष्ट न हो जाये',\n",
              " 'कुछ लोगों में कंपकंपी का पारिवारिक इतिहास होता है विशेष रूप से सौम्य आवश्यक कंपन के मामले में',\n",
              " 'वे अपने स्वयं के भाषण के बारे में भी जानते हैं और दूसरे उन्हें कैसे सुनते हैं',\n",
              " 'बकाया ऋणों की वसूली के संबंध में राज्य सरकारों को समय-समय पर अनेक सुझाव दिए गए किन्तु इनमें से अनेक सीमित ऋण-पात्रता और वित्तीय समस्या केवल भूमि-विकास बैंकों या अन्य सहकारी संस्थाओं की ही नहीं है अनेक व्यापारिक बैंक भी इससे ग्रसित है',\n",
              " 'हल्के मामलों को अक्सर एक स्वस्थ आहार खाने जैसे समाधान के साथ संबोधित किया जा सकता है जिसमें पर्याप्त मात्रा में विटामिन डी कैल्शियम और जस्ता होता है',\n",
              " 'इसके विपरीत यदि यह एक श्रृंखला में पहला भुगतान है तो कागजी कार्रवाई यह दिखाएगी और शेष राशि का संकेत देगी और जब यह देय होगा',\n",
              " 'इस तरह से अगर ऋणदाता यह सुनता है कि उधारकर्ता अन्य वित्तीय दायित्वों पर चूक करने लगा है तो ऋणदाता ऋण लेने के लिए कॉल कर सकता है इससे पहले कि उधारकर्ता बकाया लेनदारों से दिवालियापन संरक्षण प्राप्त कर सके',\n",
              " 'पके हुए पौधों को काटकर धूप में सुखाकर दौनी करके दाना अलग कर लें',\n",
              " 'अच्छी किस्म वाली उत्पादन सामग्री का उत्पादन',\n",
              " 'यदि इस अवस्था में खर-पतवार नियंत्रित नहीं किये गये तो ये सर्पगंधा के पौधे को ढक लेते हैं जिससे पौधे मर भी जाते हैं',\n",
              " 'प्रत्येक पेड़ की अंगूठी इसके दो भाग होते हैं आंतरिक हल्का और ढीला और बाहरी गहरा और सघन',\n",
              " 'नतीजतन मांग आमतौर पर धातु के लिए उच्च है जिसका अर्थ है कि इसकी कीमत काफी अधिक है',\n",
              " 'यदि अनुमानित राजस्व अनुमानित लागत से अधिक है तो निवेश को आमतौर पर एक सुरक्षित निवेश माना जाता है जिसका अर्थ है कि निवेशक को पैसा खोने की संभावना नहीं है',\n",
              " 'आम तौर पर एक प्रतिशत के रूप में प्रस्तुत किया जाता है एक कर्मचारी बल के भीतर परिवर्तन का वर्णन करने के लिए एक टर्नओवर की गणना की जा सकती है फिर एक निवेश पोर्टफोलियो के भीतर होल्डिंग या एक म्यूचुअल फंड या किसी प्रकार के एक्सचेंज-ट्रेडेड फंड द्वारा आयोजित निवेश के साथ बदलाव',\n",
              " 'छेद का उपयोग किया जा सकता हैगीली घास छेद निर्माताओं',\n",
              " 'यह जनसंख्या के मध्य न केवल पोषकता संबंधी सुरक्षा सुनिश्चित करती है बल्कि कृषि संबंधी निर्यातों में महत्वपूर्ण रूप से अंशदान भी करती है',\n",
              " 'जैसा कि वे कम लोचदार हो जाते हैं वे टूटना शुरू कर सकते हैं',\n",
              " 'नतीजा यह है कि जिले सभी किसान जैविक खेती करने में लगे है',\n",
              " 'इस स्थिति के साथ कुछ मस्तिष्क में रक्तस्राव के जोखिम में वृद्धि हो सकती है विशेष रूप से या तो रक्त के थक्के या धमनीविस्फार के कारण',\n",
              " '25 एच पी ट्रैक्टर पेग टाइप एक ब्लोवर',\n",
              " 'सर्जिकल पिन अक्सर जोड़ों को शामिल करने वाली हड्डियों के ऑस्टियोसिंथिथेसिस में उपयोग किया जाता है',\n",
              " 'कोकीन जैसे उत्तेजक पदार्थों को सूंघने वाले नशेड़ी नाक के उपास्थि में एक नेत्रहीन क्षतिग्रस्त सेप्टम और छेद दिखा सकते हैं',\n",
              " 'लंघन भोजन के साथ अपर्याप्त आहार के परिणामस्वरूप रक्त शर्करा का स्तर गिर सकता है और मधुमेह वाले लोग इसके लिए विशेष रूप से कमजोर होते हैं',\n",
              " 'गेंदा फूल की वैज्ञानिक खेतीभूमिकागेंदा के औषधीय गुणभूमि की तैयारीव्यवसायिक किस्मेंखाद एवं उर्वरकप्रसारणरोपाईसिंचाईपिंचिगनिकाई-गुडाईफूल की तोड़ाईफूलों की पैकिंगकीड़ेबीमारीभूमिका',\n",
              " 'कई अलग-अलग खाद्य पदार्थ हैं जो इन लक्षणों को ट्रिगर कर सकते हैं जैसे शराब पुदीना खट्टे फल या रस और टमाटर',\n",
              " 'वे दफन भूखंडों पर जमीन पर सपाट रहते हैं जबकि सिर पत्थर उठाए जाते हैं और आमतौर पर पत्थर से बने होते हैं जिनमें धातु शामिल हो सकता है',\n",
              " 'यह कई चिकित्सा पेशेवरों द्वारा माना जाता है कि शराब की लत को दूर करने के कई प्रयास लक्षणों को हर बार अधिक गंभीर हो जाते हैं',\n",
              " 'इस क्षेत्र में बहुत ही कम वर्षा होती है और वह भी मुख्यत बर्फ के रूप में होती है',\n",
              " 'उदाहरण के लिए कई रोगी अपनी उपस्थिति में सुधार करना चाहते हैं',\n",
              " 'बजट प्रक्रिया पर प्रतिबंध लगाने से यह सुनिश्चित करने में मदद मिल सकती है कि कोई भी कचरा बजट में प्रवेश न करे',\n",
              " 'रजोनिवृत्ति के कारण महिलाओं को तनाव चिंता चिड़चिड़ापन कम स्मरणशक्ति और बैचेनी जैसे मानिसक परेशानी से गुजरना पड़ता हैं',\n",
              " 'परिपक्वता तिथि से तात्पर्य उस तिथि से है जिस पर ऋण दायित्व या बांड जारी करने वाले को ऋण की मूल राशि का भुगतान करना चाहिए जिन्होंने इसे खरीदा है',\n",
              " 'बीज प्रति पौधा प्राप्त होता है',\n",
              " 'कुछ विशेषज्ञों का मानना है कि जो लोग इसे किशोर के रूप में करना शुरू करते हैं वे संभवतः किसी तरह से तनाव से प्रेरित होते हैं',\n",
              " 'आपके खाते में मौजूद धन आपको ऋण के माध्यम से अपने आप से अधिक स्टॉक खरीदने के लिए उत्तोलन देता है',\n",
              " 'इस स्प्रेयर के प्रेशर चेम्बर में 14-18 कि ग्रा वर्ग से',\n",
              " 'इस प्रकार के मत्स्यपालन में न तो जलक्षेत्र में कोई अलग से खाद डालने की आवश्यकता पड़ती है और न ही पूरक आहार देने की',\n",
              " 'आमतौर पर प्रायोजक के पास इस प्रकार के खरीदेंआउट्स के साथ पूर्व अनुभव होता है जो समय के साथ विकसित विशेषज्ञता पर आकर्षित करना संभव बनाता है जिसमें एक व्यवसाय के स्वामित्व के परिणामस्वरूप विकसित किए गए कौशल भी शामिल हैं',\n",
              " 'इसके अलावे प्राइवेअ कम्पनी के बीज भी बाजार में उपलब्ध हैं',\n",
              " 'स्कर्वी रोग है जो आहार में विटामिन सी या एस्कॉर्बिक एसिड की अपर्याप्त मात्रा के कारण होता है',\n",
              " 'उचित एवं सुरक्षित भंडारण के लिए निम्न उपाय अपनाने की संस्तुति की जाती है',\n",
              " 'इस कारण इन्हें भारत का स्वर्णिम त्रिभुज इंडियन गोल्डन ट्रायंगल कहते हैं',\n",
              " 'नाखून बिस्तर में जो कोशिकाएं होती हैं वे केराटिन का उत्पादन करती हैं जो परतों में बनती हैं और कठोर नाखून प्लेटों में विकसित होती हैं जो हमारे पैर की उंगलियों और उंगलियों पर होती हैं',\n",
              " 'सेल्युलाइटिस का दूसरा प्रमुख कारण स्टैफिलोकोकस बैक्टीरिया है जिसे स्टैफ के रूप में जाना जाता है',\n",
              " 'इससे राशन का घनत्व बढ़ जाएगा यहाँ पर एक बात और बताने योग्य है अलग-अलग प्रकृति के खाद्य पदार्थ पचने के दौरान अलग-अलग मात्रा में गर्मी उत्पन्न करते हैं जिसे ताप वृद्धि कहते हैं',\n",
              " 'हालांकि असुरक्षित व्यक्तिगत ऋण के साथ ऐसी कोई सुरक्षा नहीं है',\n",
              " 'आलिंद के बीच इस छेद को बंद करना सबसे अधिक बार कार्डियक कैथीटेराइजेशन सुविधा में किया जाता है',\n",
              " 'यह आवयशक नहीं है हर समुदाय में ये सभी स्तर उपस्थित हों',\n",
              " 'खिलौना उद्योग से जुड़ी प्रमुख बातें',\n",
              " 'फागोसाइट्स या मैक्रोफेज प्रतिरक्षा जटिल अणुओं का उपभोग और पाचन करते हैं',\n",
              " 'जैसे ही एस्ट्रोजेन उत्पादन में गिरावट आती है योनि में ऊतक शुष्क पतले और सिकुड़े हुए हो जाते हैं',\n",
              " 'म प्र में मूंगफली प्रमुख रूप से शिवपुरी छिंदवाड़ा बड़वानी टीकमगढ झाबुआ खरगोन जिलों में लगभग 220 हजार हैक्टेयरक्षेत्रफल में होती है',\n",
              " 'इसके विपरीत एक छोटी स्थिति के लिए उलट बिंदु आमतौर पर ट्रेडिंग अवधि के दौरान प्राप्त की जाने वाली उच्चतम कीमत है',\n",
              " 'यह परीक्षण आमतौर पर यह निर्धारित करने के लिए किया जाता है कि क्या कुछ प्रकार की बीमारी मौजूद है यदि कोई मरीज एक निश्चित स्थिति के लिए वाहक है और हीमोग्लोबिन विकारों के लिए उपचार की प्रभावशीलता का मूल्यांकन करने के लिए',\n",
              " 'इन चीज़ों को बचाकर रखने के लिए सुखाना नमक लगाकर रखना और चीनी का इस्तेमाल आदि तरीके हैं',\n",
              " 'यह विभिन्न प्रकार के जीवाणुओं के कारण भी हो सकता है जो एक ऐसी बीमारी है जो बच्चों को तब होती है जब वे दूसरों के साथ अक्सर मिलते हैं',\n",
              " 'मांसपेशियों और प्रावरणी को भी दर्द को छोड़ने और उचित मस्कुलोस्केलेटल संरेखण को प्रोत्साहित करने के लिए हेरफेर किया जाएगा',\n",
              " 'नतीजतन यह एक व्यक्ति के लिए एक मुखर व्यक्तित्व के लिए मददगार होता है जिसके पास ऐसे ग्राहक होते हैं जिनके पास अनुचित शुल्क हैं',\n",
              " 'महिलाओं को उनके द्वारा किये जाने वाले कार्यों से उत्पन्न स्वास्थ्य खतरों का प्रतिदिन सामना करना पड़ता है',\n",
              " 'कुछ पाठ्यक्रम केवल कुछ घंटे लंबे होते हैं जबकि अन्य कई हफ्तों या महीनों की श्रृंखला में आयोजित किए जाते हैं',\n",
              " 'भारतीय मसाला फसल अनुसंधान संस्थान कोझीकोड केरल',\n",
              " 'उत्पाद दायित्व के मामले धारक की कोई वास्तविक गलती के माध्यम से उत्पन्न हो सकते हैं क्योंकि वह सख्त दायित्व के लिए आयोजित किया जाएगा',\n",
              " '700-900 मिमी वर्षा वाले क्षेत्रों में उड़द को सफलता पूर्वक उगाया जाता है',\n",
              " 'यह प्रत्येक वर्ग या तरह की पूंजी के लिए अलग से कहा गया है यानी वरीयता शेयर के लिए अधिकतम सीमा और इक्विटी शेयर के लिए अधिकतम सीमा अपनी शेयर पूंजी जारी करने के लिए',\n",
              " 'टर्की के माँस का पतला होने के कारण लोग इसे काफी पसंद करते हैं',\n",
              " 'इस बोर्ड में निम्न शामिल होंगे',\n",
              " 'जिससे मुख्य तने का उचित विकास हो सके',\n",
              " 'रक्त में ग्लूकोस के स्तर लक्षण तथा दवा के आधार पर ही आहार का आयोजन करना होता है',\n",
              " 'क्रय पक्ष पर कई पार्टियां हैं जिनके पास शीर्षक में हिस्सेदारी है जिसमें खरीदार ऋणदाता और शीर्षक बीमा कंपनी शामिल हैं',\n",
              " 'चाहे कोई संपूर्ण नवीकरणीय ऊर्जा विद्युत उत्पादन संयंत्र या पवन टरबाइन निर्माण सुविधा जैसे एक छोटे व्यवसाय की योजना बना रहा हो लेकिन लागत अभी भी सभी कंपनियों और व्यक्तियों के सबसे अमीर से निषेधात्मक होने वाली है',\n",
              " 'बेटर्स प्रसार पर सट्टेबाजी के अलावा द्विआधारी दांव भी लगा सकते हैं',\n",
              " 'अस्थायी रूप से 50 तक वीर्य में मौजूद शुक्राणु की मात्रा को कम करने के लिए मारिजुआना और कोकीन दोनों अलग-अलग वैज्ञानिक अध्ययनों में साबित हुए हैं',\n",
              " 'पाईप या फूटबाल्व पूरी तरह से गन्दगी',\n",
              " 'यदि कंपनी का अंतिम लक्ष्य अपने लाभ मार्जिन को अधिकतम करना है तो अपने उत्पादों का उत्पादन करने का सबसे सस्ता तरीका समझ में आता है',\n",
              " 'यह लेखा प्रणाली प्राप्य खातों पर भी निर्भर करती है और देय खातों पर निर्भर करती है जो विक्रेताओं और ग्राहकों से ऋण का विस्तार करके बिक्री और संग्रह का प्रतिनिधित्व करते हैं',\n",
              " 'एक अन्य विकल्प कॉर्नियल रिंग है जिसमें प्लास्टिक के छल्ले को उसके आकार को बदलने के लिए आंख में प्रत्यारोपित किया जाता है',\n",
              " 'खरपतवार के विकास को नियंत्रित करें गीली फिल्म',\n",
              " 'एक वित्तीय शब्द के रूप में दोहरी ट्रेडिंग आमतौर पर उन व्यक्तियों के कार्यों को संदर्भित करती है जो स्टॉक एक्सचेंज या इसी तरह के बाजार से जुड़े होते हैं',\n",
              " 'एक व्यक्ति के लिए दिवालियापन संरक्षण में अधिकांश ऋणों को रद्द करना शामिल हो सकता है साथ ही उनकी कुछ संपत्तियों की बिक्री बंद हो सकती है या उन ऋणों का भुगतान करने के लिए एक संरचित योजना है जो बकाया हैं',\n",
              " 'यदि कोई ऐसे एटीएम का उपयोग करता है जो एक बैंक द्वारा प्रदान किया जाता है जिसके साथ उसका कोई खाता नहीं है तो अक्सर लेनदेन में शुल्क जोड़ा जाता है',\n",
              " 'स्क्लेरोडर्मा शरीर के संयोजी ऊतक का एक स्वप्रतिरक्षी रोग जिसके परिणामस्वरूप जोड़ों में दर्द मांसपेशियों में कमजोरी और त्वचा को चमकदार तंग दिखता है',\n",
              " 'मध्यम लक्षणों वाले रोगियों में उच्च रक्तचाप का पता लगाया जा सकता है',\n",
              " 'ज्यादातर मामलों में यह सुनिश्चित करने के लिए कि यह लेन-देन सुचारू रूप से चल रहा है यह ब्रोकर के साथ-साथ अपने ब्रोकर के हित में है',\n",
              " 'संयुक्त राज्य अमेरिका के रूप में कुछ स्थानों में एक गंभीर रूप से अपराधी ऋण एक क्रेडिट रिपोर्ट पर दो बार रिपोर्ट किया जा सकता है एक बार मूल लेनदार द्वारा और एक बार संग्रह एजेंसी द्वारा',\n",
              " 'न्यूयॉर्क स्टॉक एक्सचेंज में क्लोजिंग बेल को एक बड़ा सम्मान माना जाता है और किसी राजनेता या अन्य उल्लेखनीय व्यक्ति को प्रतीकात्मक रूप से व्यापारिक दिन को बंद करते देखना असामान्य नहीं है',\n",
              " 'ज्यादा तापक्रम कम समय वाली विधि',\n",
              " 'एनेस्थीसिया के कई खतरे हैं लेकिन महत्वपूर्ण लाभों से जोखिम अक्सर कम हो जाते हैं',\n",
              " 'यदि कान नहीं निकल सकता है तो तरल पदार्थ का निर्माण होता है जिससे कान के भीतर सूजन और अंततः संक्रमण हो सकता है',\n",
              " 'इसका मतलब है कि कई वैकल्पिक ऊर्जा अवधारणाएं अभी भी अनुसंधान चरण में हैं क्योंकि वैज्ञानिक अधिक प्रभावी और कुशल उत्पादों को विकसित करने का प्रयास करते हैं',\n",
              " 'इस स्थिति का एक शांत विवरण अक्सर दर्द की दवा की उच्च खुराक पर उन लोगों के लिए सहायक होता है इसलिए ऐसे लक्षण पूरी तरह से अप्रत्याशित नहीं हैं',\n",
              " 'अनिवार्य रूप से यह प्रारूप समूह के प्रत्येक सदस्य द्वारा प्रदान किए गए संसाधनों की मात्रा के लिए उद्यम से जुड़े दायित्व को सीमित करने में मदद करता है',\n",
              " 'उदाहरण के लिए यदि निर्देशक के पास बहुत अधिक अनुभव है और उसने ऐसी अन्य फ़िल्में बनाई हैं जिन्हें कोई पसंद करता है तो वह संकेत दे सकता है कि फ़िल्म एक अच्छा निवेश है',\n",
              " 'सघन वायुमंडल पर ज्वारीय प्रभाव और ग्रहीय उद्विग्नता द्वारा प्रेरित अस्तव्यस्त घूर्णन बदलाव के कारण वह वहां से अपनी वर्तमान स्थिति तक पहुंचा है',\n",
              " 'ट्रेजरी स्टॉक भी कर्मचारी स्टॉक विकल्प योजनाओं में उपयोग के लिए एक प्रोत्साहन प्रदान करके निगम को लाभान्वित कर सकता है',\n",
              " 'श्री जगदीप सिंह पशुओं के लिए आवास व्यवस्था है साथ ही पशुओं को काफी खुला स्थान भी दिया गया जहाँ पशु समय-समय पर आराम कर सकें',\n",
              " 'विभिन्न स्त्रियों में अपने स्वास्थ्य के परिवर्तनों से निपटने की विभिन्न क्षमताएं होती हैं',\n",
              " 'चिकुनगुनिया याने झुका हुआ आदमी',\n",
              " 'सामान्यतया बैक्टीरिया अन्य जीवित जीवों से भिन्न होते हैं वे एकल कोशिका वाले होते हैं और उनमें माइटोकॉन्ड्रिया और क्लोरोप्लास्ट की कमी होती है',\n",
              " 'ओवर-द-काउंटर एनाल्जेसिक अस्थायी दर्द से राहत देते हैं',\n",
              " 'डाई गर्भाशय में होने के बाद यह फैलोपियन ट्यूब में जाती है',\n",
              " 'ग्रामीण इलाकों क्षेत्र सूखी फांकों को ही बेच दिया जाता है जिससे अधिक लाभ नहीं मिलता',\n",
              " 'इसलिए यह कितना प्रतिरोध पेश किया जाता है यह माप कर शरीर में वसा का सटीक माप प्रदान कर सकता है',\n",
              " 'व्यवसायी प्रारंभिक पाठ का अध्ययन करता है कि सभी दैनिक और बड़े पैमाने पर सतही विचार मन के भीतर चेतना के एक गहरे स्रोत से आते हैं',\n",
              " 'अधिकांश बिजनेस स्कूल स्नातक शब्द विपणन मिश्रण से परिचित हैं',\n",
              " 'लेखाकार नवीनतम मानकों और नीतिगत परिवर्तनों के साथ रहते हैं ताकि वे अपने ग्राहकों को यथासंभव प्रभावी तरीके से सेवा दे सकें',\n",
              " 'शारीरिक शिथिलता दूर करने में बलवर्धक दवाओं टॉनिक मधुमेह गठिया प्रसवोपरांत होने वाली बीमारियों में उत्तेजक के रूप में प्रसवोपरांत माताओं का दूध बढ़ाने में',\n",
              " 'ऑस्ट्रेलिया चीन और अमेरिका जैसे देशों से दुनिया भर से सभी डेटा एकत्र किए गए हैं जिससे फ्लिन इफेक्ट को वैश्विक रूप से प्रभावित किया गया है',\n",
              " 'प्राकृतिक एस्ट्रोजेन रिप्लेसमेंट थेरेपी एक नया विकल्प है जिसे कई महिलाएं और चिकित्सक शरीर पर सुरक्षित और सौम्य मानते हैं',\n",
              " 'फिर झटसे उठा सिर अपना तानता हूं सीना नहीं सिसकेंगे और अब नहीं है होंठ सीना',\n",
              " 'वे बैंक से क्रेडिट मांगने के लिए संपर्क करते हैं जिसका उपयोग विदेशों में होने वाले लेनदेन के लिए किया जा सकता है',\n",
              " 'स्थिति आमतौर पर तीव्र होती है जिसका अर्थ है कि यह केवल कुछ हफ्तों तक चलेगा',\n",
              " 'लोगों को विभिन्न नस्लों का प्रतिनिधित्व करने वाले चेहरों की तस्वीरों के साथ प्रस्तुत किया जाता है और उन चेहरों के साथ मिलान करने के लिए उनके पास विशेषताओं की एक सूची होती है',\n",
              " 'अन्य क्षेत्रों के लिए लिपोमा आमतौर पर केवल तभी हटाए जाते हैं यदि वे असामान्य रूप से बड़े दर्दनाक या प्रतिबंधित आंदोलन होते हैं',\n",
              " 'हालांकि थर्मल रसीदें अभी भी अन्य प्रकार की प्राप्तियों की तुलना में अधिक कुशल हैं',\n",
              " 'वहां से उत्पादन की मात्रा की पहचान करना जो कि खर्च के उन स्तरों पर प्राप्त होती है भविष्य की अवधि के लिए लागत फ़ंक्शन अनुमान के साथ आना संभव बना सकती है',\n",
              " 'नीदरलैंड में दुनिया के कुछ सबसे बड़े ग्रीनहाउस हैं',\n",
              " 'नतीजतन निवेशकों को आमतौर पर संभावित बड़े नुकसान से खुद को बचाने के लिए सावधानी बरतनी चाहिए',\n",
              " 'ये स्थितियां अक्सर आनुवंशिक होती हैं जिसमें अनुचित रूप से कोडित प्रोटीन शामिल होता है लेकिन उन्हें अधिग्रहित भी किया जा सकता है',\n",
              " 'स्वस्थ नाखून बेड पूरे नाखून को सहज और सुचारू रखने में मदद करते हैं जिसके परिणामस्वरूप नाखून दिखने में अच्छा होता है और उंगलियों में सनसनी और निपुणता में सुधार होता है',\n",
              " 'लातेहार जिले की मिट्टी का स्वास्थ्यभूमिकामृदा पी एच जैविक कार्बनउपलब्ध नेत्रजनउपलब्ध स्फूर उपलब्ध पोटाशउपलब्ध सल्फरलातेहार जिले की भूमि में सूक्ष्म पोषक तत्वों की स्थिति',\n",
              " 'आगामी फसल हेतु मूसली के बीज का संग्रहण कैसे किया जाए',\n",
              " 'अन्य मामलों में गहने निर्मित क्रिस्टल से बने होते हैं',\n",
              " 'कंपनी की निवेश क्षमता का निर्धारण करने के लिए नकद ईपीएस शायद सबसे अच्छी गणना है क्योंकि इसकी गणना कंपनी के परिचालन नकदी प्रवाह को पतला शेयरों के साथ विभाजित करके की जाती है जिसमें बाजार में उपलब्ध स्टॉक के अलावा इन्वेंट्री जैसी परिसंपत्तियां शामिल होती हैं',\n",
              " 'दुर्भाग्य से यह गुण भी है जो इस पदार्थ को जानबूझकर दुरुपयोग किया जाता है',\n",
              " 'एक व्यक्ति के शंकु का 40 मध्यम तरंग दैर्ध्य प्रकाश के प्रति संवेदनशील हो सकता है जबकि किसी और के पास केवल उस संख्या का आधा हिस्सा हो सकता है लेकिन दोनों लोग एक ही तरह से रंग का अनुभव करेंगे जो दृढ़ता से सुझाव देता है कि रंग धारणा के प्रमुख पहलू मस्तिष्क में होते हैं आंख नहीं',\n",
              " 'हेज फंड सुरक्षित लोगों के साथ उच्च जोखिम निवेश हेजिंग द्वारा जोखिम को कम करते हैं',\n",
              " 'एयरोपोनिक प्रणाली का मुख्य लाभ यह है कि पौधों की जड़ें ऑक्सीजनकृत होती हैं जिससे मेटाबोलिज्म और विकास दर बढ़ जाती है',\n",
              " 'माइट्रल स्टेनोसिस की तरह फुफ्फुसीय स्टेनोसिस एक दिल क्लिक करता है जब फुफ्फुसीय वाल्व पूरी तरह से नहीं खुलता है',\n",
              " 'प्रोप डेस्क पर ट्रेडर्स स्टॉक बॉन्ड कमोडिटी या क्षेत्रीय मुद्राओं सहित परिसंपत्ति वर्गों के एक मेजबान में सक्रिय हो सकते हैं',\n",
              " 'केला के लिए समेकित कीट प्रबन्धन मुख्य क्षतिकारकराष्ट्रीय महत्व के क्षतिकारकक्षेत्रीय/कम महव के क्षतिकारकराष्ट्रीय एवं क्षेत्रीय महत्व की व्याधियांकीट अनुश्रवणसमेकित कीट प्रबन्धन रणनीतियांकृषीय प्रक्रियायांत्रिक प्रबन्धन प्रक्रियारसायनिक नियंत्रण केला धड़ विभिलसूत्रकृमि प्रबन्धनरोग-व्याधि प्रबन्धनखरपतवार नियंत्रणकेला की फसल के लिए चरणबद्ध समेकित कीट प्रबन्धन प्रक्रियाकीटनाशक प्रयोग में सुरक्षा की सीमाएंकीटनाशक उपयोग के लिए मौलिक सावधानियाँकीटनाशक क्रयभण्डारणहस्तलनछिड़काव हेतु घोल निर्माण में सावधानियाँउपकरणकीटनाशक छिड़काव हेतु सावधानियाँनिपटान',\n",
              " 'निवेशक उम्मीद में शेयरों की राशि के लिए निर्दिष्ट मूल्य का भुगतान करते हैं कि समय के साथ मूल्य बढ़ जाएगा',\n",
              " 'यदि व्यक्ति चिकित्सा सहायता नहीं चाहता है और उसके पास आत्मघाती विचार है या दूसरों के लिए खतरा है तो प्रियजनों को आपातकालीन स्वास्थ्य सेवा नेटवर्क को कॉल करना चाहिए और व्यक्ति को अनपेक्षित रूप से प्रतिबद्ध होने पर विचार करना चाहिए',\n",
              " 'इस स्थिति में नीम के प्रमुख गुणकारी तत्व अजाडीरेक्टन की मात्रा सर्वाधिक होती है',\n",
              " 'इसके अन्तर्गत मनुष्य या किसी अन्य प्राणी/पादप के शरीर में मौजूद भिन्न-भिन्न अंगों एवं तन्त्रों के कार्यों और उन कार्यों के होने के कारणों के साथ-साथ उनसे सम्बन्धित चिकित्सा विज्ञान के नियमों का भी ज्ञान दिया जाता है',\n",
              " 'इस प्रकार के कृषि के बड़े बागान गरीब देशों में पाए जाते हैं',\n",
              " 'जब अनुपात अधिक होता है तो यह इंगित करता है कि नगरपालिका बांडों के लिए बाजार मजबूत है और अंडरराइटरों के बीच बहुत रुचि है',\n",
              " 'उनमें से रोगजनक कवक या रोगजनकों के कारण होने वाले रोग प्रबंधन के लिए चुनौतीपूर्ण कार्य बने हुए हैं',\n",
              " 'बुआई के ठीक पहले फफूंदनाशक दवा से उपचारित बीज को उचित राइजोबियम कल्चर एवं पी एस बी से उपचारित कर बुआई करनी चाहिए',\n",
              " 'दुनिया भर में नकद मनीऑर्डर चेक डेबिट कार्ड क्रेडिट कार्ड वायर ट्रांसफर और क्रेडिट की लाइनें भुगतान के सभी तरीके हैं',\n",
              " 'कार्यक्रमों में धर्मशाला निवासियों घर की स्वास्थ्य एजेंसियों की जानकारी और सहायता प्राप्त रहने वाले और नर्सिंग होम के लिए उपभोक्ता वकालत कार्यक्रम शामिल हो सकते हैं',\n",
              " 'जरूरी नहीं कि यह एक या दो साल की लीज व्यवस्था के साथ हो इसमें हमेशा यह मौका होता है कि संपत्ति किरायेदारों के बीच खाली हो जाए',\n",
              " 'यह हाथ में सुन्नता या झुनझुनी सनसनी का कारण बनता है आमतौर पर तर्जनी मध्यमा और अंगूठे में बाद में पकड़ की ताकत और हाथ में समग्र कमजोरी के साथ',\n",
              " 'उदाहरण के लिए एक पारंपरिक बैंक ऋण में अक्सर कंपनियों को एक सख्त पुनर्भुगतान अनुसूची का पालन करना पड़ता है जिसमें ऋण के सिद्धांत और निश्चित अंतराल में ब्याज पर भुगतान करना शामिल होता है',\n",
              " 'जिससे अरहर में कीट प्रबंधन के लिए किसानों की योग्यता विश्वास एवं निर्णय लेने की क्षमता बढ़ रही है',\n",
              " 'ये फंड कंपनियां पारंपरिक उधारदाताओं की तुलना में अधिक ब्याज दर चार्ज करके शामिल जोखिमों को कम करती हैं',\n",
              " 'अन्य मामलों में संगठन विभिन्न कॉफी मिश्रणों की एक विस्तृत विविधता का विपणन करते हैं',\n",
              " 'यदि कर्नल का आकार बढ़ा हो तो बीज दर 7 से 10 कि ग्रा हे बढ़ा देनी चाहिए',\n",
              " 'इस प्रकृति के ऋण इक्विटी स्वैप कर्ज में डूबे देशों को बचाने के लिए बहुत ही सामान्य उपकरण हैं',\n",
              " 'हल्की जमीन में चूहों का अधिक प्रकोप होता है',\n",
              " 'यद्यपि प्रत्येक बैंक अपने अनूठे फॉर्मूले का उपयोग करके दर निर्धारित कर सकता है लेकिन बैंक संयुक्त राज्य अमेरिका ट्रेजरी बिल ब्याज दर के साथ आय भत्ते की दर को जोड़ता है',\n",
              " 'अक्सर दिए गए स्टॉक का अनियमित प्रदर्शन बाज़ार में कुछ बदलावों को दूर करता है जो जल्द ही व्यापक हो सकते हैं',\n",
              " 'सरकार द्वारा जारी किए गए चित्र पहचान पत्र भी ऐसे रूप हैं जो बैंक और चेक कैशिंग संस्थान स्वीकार करते हैं',\n",
              " 'उदाहरण के लिए इन्फ्लुएंजा एक सामान्य वायरल संक्रमण है जो मुख्य रूप से नाक गले और फेफड़ों को प्रभावित करता है और कई प्रकार के लक्षण पैदा कर सकता है जिसमें खांसी सिरदर्द शरीर में दर्द गले में खराश मतली और उल्टी और ऊर्जा की कमी शामिल है',\n",
              " 'प्रोलैप्स की गंभीरता के आधार पर उपचार के कई दृष्टिकोण हैं',\n",
              " 'गुर्दो में इकट्ठा होने वाला द्रव पेशाब होता है',\n",
              " 'ऐसा करने में विफलता किसी वित्तीय दुःस्वप्न में सुरक्षा-आधारित हस्तांतरण बनाने में यह प्रयास कर सकती है क्योंकि किसी दिए गए देश में परिसंपत्तियों को स्थानांतरित करना बाद की तारीख में उन्हें स्थानांतरित करने की तुलना में बहुत आसान हो सकता है',\n",
              " 'लेटेक्स को केंद्रित लेटेक्स में चीनी मिट्टी के बरतन या सफेद जिप्सम मोल्ड्स डालकर रबर के दस्ताने जैसे आइटम बनाने के लिए ढाला जा सकता है',\n",
              " 'मधुमेह योनिशोथ में योगदान कर सकता है खासकर जब रक्त शर्करा का स्तर खराब रूप से नियंत्रित होता है',\n",
              " 'स्टाम्प पेंडीगोल्ड पेंडीलीन धानुटाप पेनिडा पेंडीहर्ब',\n",
              " 'उपभोक्ता संयुक्त राज्य में फेडरल डिपॉज़िट इंश्योरेंस कॉरपोरेशन जैसे बीमा संगठनों के साथ यह निर्धारित करने के लिए जांच कर सकते हैं कि क्या उनके बैंक सूचीबद्ध हैं और अच्छी स्थिति में हैं',\n",
              " 'इससे मुर्गियां अपनी कलगी गीली कर लेती हैं जिससे पूरे शरीर का तापमान नियंत्रित रहता है',\n",
              " 'रॉकी माउंटेन स्पॉटेड फीवर को इस दाने द्वारा आसानी से पहचाना जाता है',\n",
              " 'बकरी पालन व्यवसाय से लाभ कमाने के लिए बकरियों में पोषण स्वास्थ्य एवं पज्रनन पर विशेष ध्यान देने की आवश्यकता है',\n",
              " 'सभी उपचार धीरे-धीरे परिणाम देते हैं',\n",
              " 'एक खतरनाक बीमा योजना से जुड़े वास्तविक नियमों और शर्तों का मूल्यांकन करना बहुत महत्वपूर्ण है क्योंकि हर योजना खतरों या आपदाओं की एक विस्तृत श्रृंखला को कवर नहीं करेगी',\n",
              " 'जबकि गर्भवती महिलाओं में टखने की सूजन आम है आमतौर पर दोनों टखनों में सूजन होती है',\n",
              " 'बुनियादी स्वास्थ्य कवरेज के साथ कई योजनाओं में प्रमुख दवा लाभ शामिल होंगे जो लागत को कवर करने में मदद करते हैं एक बीमारी को अस्पताल या अन्य प्रकार की चिकित्सा देखभाल सुविधा में उपचार की आवश्यकता होती है',\n",
              " 'थोड़ा शोध करके आप एक व्यक्तिगत अपतटीय बैंक पा सकते हैं जो आपकी आवश्यकताओं को पूरा करता है',\n",
              " 'कभी-कभी एक सशर्त ट्रस्ट के रूप में जाना जाता है एक प्रोत्साहन ट्रस्ट लाभार्थियों को विशिष्ट लक्ष्यों या गतिविधियों को आगे बढ़ाने के लिए प्रेरित करने के लिए डिज़ाइन किया गया है जो अनुदानकर्ता को उनके सर्वोत्तम हित में माना जाता है',\n",
              " 'भारतीय उपमहाद्वीप में खेती की भूमि के एक चौथाई से अधिक में चावल बोया जाता है',\n",
              " 'अतः यह वांछनीय है कि सक्रिय टीकाकरण के दौरान रोगी को अत्यधिक शराब नहीं पीना चाहिए',\n",
              " 'प्रभावित बेरियां कवक की भूरी गोथ उपस्थिति को दर्शाते हुए सूखी सड़ी और गहरी भूरी हो जाती है',\n",
              " 'सोमवार को चेक जमा करने वाला कोई व्यक्ति गुरुवार को धनराशि देखता है उदाहरण के लिए भले ही बैंक ने वास्तव में चेक को मंजूरी नहीं दी थी',\n",
              " 'कुछ उच्च-जोखिम वाली बीमा योजनाओं में एक कटौती योग्य है जो आपको बीमा क्लेम से पहले भुगतान करने के लिए आवश्यक है',\n",
              " 'ब्लोट की स्थिति कई अलग-अलग कारकों के लिए हो सकती है और सबसे अधिक बार मनुष्यों कैनाइन और मवेशियों द्वारा अनुभव की जाती है हालांकि अन्य जानवर भी समय-समय पर गैस्ट्रिक मरोड़ से गुजर सकते हैं',\n",
              " 'एक अनुपचारित संक्रमण यकृत से अन्य महत्वपूर्ण अंगों विशेष रूप से फेफड़ों और हृदय में फैल सकता है',\n",
              " 'विभागीय कार्यकर्ताओं की तकनीकी सलाह के अनुसार डीएपी कॉम्प्लेक्स पोटाश और जिप्सम के अलावा फार्म यार्ड खाद के रूप में गाय गोबर और भेड़ के गोबर का उपयोग करना',\n",
              " 'कई बार सिज़ोफ्रेनिया के लक्षण सबसे पहले किशोर अवस्था के दौरान या शुरुआती वयस्कता में होते हैं',\n",
              " 'उत्तरार्द्ध के मामले में पूर्ण प्रतिस्थापन बीमा प्राप्त करना हमेशा बेहतर होता है और दुर्घटना में कार चोरी या क्षतिग्रस्त होने की स्थिति में पूरी तरह से सुरक्षित होना चाहिए',\n",
              " 'नर्सरी में कलम करने का कार्य पूरा कर लें',\n",
              " 'सामान्यतः मधुमक्खियां हरियाणा राज्य में एक आंतरिक रूप से विभिन्न कृषि जलवायु वाले मौसम में अलग-अलग मौसमों में सक्रिय रूप से भ्रमण करती हैं',\n",
              " 'कारण यह है कि भूमि-विकास बैंक अनेक समस्या से पीडित हैं',\n",
              " 'वाटिका के 2 कोनों पर कहद के गड्ढे होने चाहिए जिन में से एक तरफ वर्मीकंपोस्ट यूनिट और दूसरी उर कंपोस्ट खाद का गड्ढा हो जिस में घर का कूड़ाकरकट व फसल अवशेष डाल कर खाद तैयार की जा सके',\n",
              " 'अनिवार्य रूप से एक लाभ मॉडल एक रणनीति है जो व्यवसाय ऑपरेटिंग सिस्टम के सभी मुख्य तत्वों को संबोधित करता है जो कंपनी को व्यवहार्य और लाभदायक बनाने में जाते हैं',\n",
              " 'इसके साथ-साथ विभन्न प्रकार के कीटनाशी जो कि सब्जी उत्पादक भारी मात्रा में डालते है उन्हें खाने से हम बच सकते हैं',\n",
              " 'इसके लिए खादी एवं ग्रामोद्योग आयोग/बोर्ड की नजदीकी शाखा से संपर्क किया जा सकता है अथवा खाड़ी एवं ग्रामोद्योग आयोग 3 इरला मार्ग विले पारले मुम्बई – 400058 से नजदीकी खरीद केंद्र के बारे में जानकारी ली जा सकती है',\n",
              " 'यहाँ की मिट्टी में 0.36 से 47.38 मि ग्रा प्रति किलो उपलब्ध सल्फर विद्यमान पाया गया है जिनमें क्षेत्र की 28.1 प्रतिशत भूमि निम्न 38.3 प्रतिशत मध्यम तथा 32.7 प्रतिशत भूमि में उपलब्ध सल्फर का स्तर अधिक पाया गया है',\n",
              " 'महाराष्ट्र में सबसे पहले अंगूर यहीं तैयार होता है',\n",
              " 'यद्यपि एक मूर्ख विधि नहीं है इन मूल्य चार्टों का उपयोग वर्तमान मूल्य आंदोलनों को समझने के लिए अभिन्न अंग है',\n",
              " 'क्राउन रूट निकलते समय कल्ले पूर्ण होने पर बालियाँ निकलते समय तथा दानों में दूध भरते समय',\n",
              " 'आमतौर पर इस राशि के आधार पर प्रति माह प्रीमियम भुगतान किया जाता है कुछ कंपनियां ग्राहकों को प्रति माह ड्राइव या किलोमीटर की दूरी का अनुमान लगाने की अनुमति देती हैं और उस पर प्रीमियम का आधार बनाती हैं जबकि अन्य को कार में एक निगरानी उपकरण की स्थापना की आवश्यकता होगी ताकि वह दूरी को ट्रैक कर सके',\n",
              " 'यदि रिटायर पहले से ही एक छोटे से घर का मालिक है तो उन मासिक किस्त भुगतान से उत्पन्न आय घरेलू और अन्य खर्चों के लिए भुगतान करने के लिए संसाधन प्रदान कर सकती है',\n",
              " 'एनपीडी वाले लोगों में अक्सर उपेक्षित माता-पिता का एक पैटर्न होता है जो बदले में बहुत ध्यान आकर्षित कर सकता है',\n",
              " 'यह संख्या इंगित करती है कि कंपनी ने कैलेंडर वर्ष के दौरान अपने खुले खातों को प्राप्य शेष साढ़े नौ गुना एकत्र किया है',\n",
              " 'दोनों में कुछ समानताएं हैं क्योंकि वे आसानी से हस्तांतरणीय हैं और कभी-कभी छुटकारा पाने में मुश्किल होती है',\n",
              " 'मस्तिष्क शोष के विकास के लिए संभावित जोखिम कारकों में तंबाकू का उपयोग शराब का उपयोग सिर पर चोट और एक आनुवंशिक प्रवृत्ति शामिल है',\n",
              " 'पौधे के विकास के दौरान बीज खाद्य भंडार के रूप में कार्य करते हैं जिसमें स्टार्च और प्रोटीन होते हैं',\n",
              " 'एलोजेनिक बोन मैरो ट्रांसप्लांट या ऑर्गन ट्रांसप्लांट जैसी चीजों के लिए अधिक सटीक मिलान की आवश्यकता हो सकती है',\n",
              " 'किसी भी सतही जल तंत्र का उसके जलविभाजक के अन्दर प्राकृतिक निवेश अवक्षेपण है लेकिन उस तंत्र में किसी भी समय पर जल की कुल मात्रा दूसरे बहुत से घटकों पर निर्भर करती है',\n",
              " 'लेडी बर्ड भृंग को संरक्षण करें',\n",
              " 'शरीर में सोडियम पानी को और खून के दबाव को उचित मात्रा में कायम रखने में सहायक होता है',\n",
              " 'एक अंतिम चरण में यह अनुमान लगाना शामिल है कि बजट अधिशेष का उपयोग घर या कंपनी को कैसे लाभ प्रदान करेगा',\n",
              " 'उससे खर्च समय और खतरा कईं गुना बढ जाता है',\n",
              " 'इन सभी सामग्रियों को निम्न अनूपा में सूखे वजन के अनुसार मिला कर गड्ढों में भरें',\n",
              " 'पीटीआई की खबर के मुताबिक भारत ऐसा करने वाला एशिया में पहला देश होगा और दुनिया में कुछ ही देशों में इसकी इजाजत है',\n",
              " 'भौतिक जाँच के रूप में इलेक्ट्रॉनिक चेक स्कैन की प्रक्रिया करें',\n",
              " 'आरक्षित आवश्यकताओं को पूरा करने और दिन-प्रतिदिन की तरलता की जरूरतों को प्रबंधित करने के लिए बैंक संघीय निधि बाजार में अल्पकालिक गैर-संपार्श्विक ऋण खरीदते और बेचते हैं',\n",
              " 'कसैला बादाम की अपेक्षा खुबानी की गिरी सस्ती होती है और इससे 0.8–1.6 प्रतिशत तक तेल प्राप्त होता है जो कि बादाम से प्राप्त होने वाले तेल की मात्रा से अधिक भी है इसलिए वाणिज्यिक रूप से यह अधिक फायदेमंद है',\n",
              " 'आम तौर पर एक फ्लाइट डेटा प्रोसेसिंग सिस्टम सभी फ्लाइट प्लान से संबंधित डेटा का प्रबंधन करता है जिसमें निम्न या उच्च डिग्री शामिल होती है – एक बार ट्रैक की जानकारी के बीच सहसंबंध स्थापित होता है',\n",
              " 'भले ही एबिन्थे के वास्तविक प्रभाव काफी हद तक अज्ञात हैं चमकती हुई हरी शराब जो कभी गैरकानूनी थी आज भी दुनिया भर में लोकप्रिय है',\n",
              " 'लागू कानूनों के आधार पर इसमें विरासत या जुआ के माध्यम से अर्जित आय भी शामिल हो सकती है जैसे लॉटरी जीत',\n",
              " 'साधारण नुकसान के कई कारण हो सकते हैं जैसे कि एक महत्वपूर्ण चोरी या इन्वेंट्री खराब होना और नगण्य हो जाना',\n",
              " 'इनमें ज्यादातर बच्चे अपने माता – पिता दादा दादी की तुलना में अधिक लम्बे एवं अधिक लम्बे एवं अधिक भार वाले पाये गये',\n",
              " 'यह नस्ल सबसे ऊँची नस्ल मानी जाती है',\n",
              " 'इस राशि को आप तब तक नहीं निकाल सकते हैं जब तक कि व्यापार पूरा न',\n",
              " 'कृषि ऋण प्रदान करने वाले बैंक',\n",
              " 'परिवर्तनीय पसंदीदा स्टॉक के मुद्दे की वास्तविक संरचना में निवेशक को आमतौर पर एक लाभांश प्राप्त होता है जिसे एक बांड मुद्दे के समान तरीके से कॉन्फ़िगर किया जाता है',\n",
              " 'एक व्यक्तिगत बैलेंस शीट आइटम एक संगठन की पूरी वित्तीय तस्वीर को चित्रित नहीं करता है लेकिन संयुक्त यह डेटा यह निर्धारित कर सकता है कि भविष्य में लाभ और बिक्री कैसे प्राप्त की जा सकती है',\n",
              " 'अमेरिकी मूल-निवासियों का उल्लेख करने के लिए प्रयुक्त शब्दावलियाँ विवादास्पद हैं यूएस सेंसस ब्यूरो के सन 1995 के घरेलू साक्षात्कारों के एक समुच्चय के अनुसार अभिव्यक्त प्राथमिकता वाले उत्तरदाताओं में से अनेक ने अपना उल्लेख अमेरिकन इन्डियन्स अथवा इन्डियन्स के रूप में किया',\n",
              " 'अधिकांश कार खर्चों को निवारक रखरखाव मरम्मत और विविध परिचालन खर्चों में वर्गीकृत किया जा सकता है',\n",
              " 'महिलाओं व समाज में गर्भपात के कानूनी होने व समय रहते गर्भपात के निर्णय लेने संबंधी जानकारी की कमी राज्य होने वाले गर्भपात में से काफी संख्या में निजी स्वास्थ्य केन्द्रों द्वारा किए जाते हैं',\n",
              " 'क्रोनिक लिम्फोसाइटिक ल्यूकेमिया के शुरुआती चरण में केवल तीन में से एक रोगी कभी उस बिंदु पर प्रगति करेगा जहां उन्हें उपचार की आवश्यकता होती है और कैंसर की प्रगति को बदलने के लिए शुरुआती उपचार बहुत कम होता है',\n",
              " 'इस प्रकार प्रति हेक्टर प्रतिवर्ष 1 हजार किलोग्राम से डे़ढ़ हजार किलो ग्राम विष्ठा प्राप्त हो जाएगी',\n",
              " 'अकेले शुद्ध आय पर विचार करते समय यह विचार मिलता है कि क्या यह लक्ष्य प्राप्त किया जा रहा है यह पूरी तस्वीर प्रदान नहीं करता है',\n",
              " 'रोग के प्राथमिक लक्षण पत्तियों पर दिखाई देते हैं पत्तियों पर वृत्ताकार लाल भूरे रंग के उभार लिए हुए दाग बनते हैं जिन्हें पस्चूल कहते हैं',\n",
              " 'क्रैनबेरी जूस का सेवन करने से भी सकारात्मक लाभ होता है',\n",
              " 'व्यवसाय की लेखा बही कहां और कितनी अवधि के लिए रखी जानी होती हैं',\n",
              " 'शुक्राणु ओं का योनि में पहूँचना',\n",
              " 'एनवाईएसई जैसे केंद्रीकृत बाजार की तुलना में अधिक लोग वैकल्पिक व्यापारिक प्रणालियों के माध्यम से बाजार तक पहुंच सकते हैं',\n",
              " 'इस स्थिति वाले व्यक्ति को अक्सर एक तरफ दर्द होता है हालांकि कुछ लोग इसे दोनों तरफ अनुभव कर सकते हैं',\n",
              " 'कीमोथेरेपी के मौखिक और अंतःशिरा प्रशासन दोनों दुष्प्रभावों के लिए एक महत्वपूर्ण जोखिम उठाते हैं जिसमें स्पष्ट थकान मतली और उल्टी शामिल हो सकती है',\n",
              " 'अगर छूने से दर्द होता है तो बिस्तर पर नर्म चादर या तकिए लगाएं',\n",
              " 'कई स्वास्थ्य खाद्य और विटामिन स्टोरों में मिश्रित तेल खरीदना संभव है',\n",
              " 'वायुमंडल की गैसें सूर्य की रश्मियों में से अपनी अनुवादी रश्मियों को चुनकर सोख लेती हैं',\n",
              " 'पहले वर्ग में वे गाएँ आती हैं जो दूध तो खूब देती हैं लेकिन उनकी पुंसंतान अकर्मण्य अत कृषि में अनुपयोगी होती है',\n",
              " '1952 में उन्होंने एक प्रयोग किया जिसमें खरगोश की हड्डी में टाइटेनियम इम्प्लांट का इस्तेमाल किया गया',\n",
              " 'यदि सौदा आगे बढ़ता है तो पैसा विक्रेता को जाता है और खरीदार के कुल भुगतान का हिस्सा बनता है',\n",
              " 'अनुसंधान से पता चलता है कि त्वचा की समस्याओं के लिए विरासत में मिली प्रवृत्ति वाले लोग जैसे कि एटोपिक जिल्द की सूजन पोम्फॉलीक्स एक्जिमा से पीड़ित होने का अधिक खतरा है',\n",
              " 'आवश्यकता होने पर धान रोपने के 35 एवं 55 दिनों के बाद मिथाइल डिमेटोन का छिड़काव करना चाहिए',\n",
              " 'यह प्रत्येक शेयर के मूल्य द्वारा प्रत्येक कंपनी के बकाया शेयरों की संख्या को गुणा करके निर्धारित किया जाता है',\n",
              " 'ख सौर ऊर्जा संचालित/विद्युत उर्जा संचालित पशु निवारक बयोअकौस्टिक उपकरण',\n",
              " 'छात्र ऋण को ऊपर बताया गया है और नियमित रूप से सरकारी प्रायोजन ऋण के साथ अंतर मुख्य रूप से पुनर्भुगतान की लंबाई और ब्याज दरों पर लगाया जाता है',\n",
              " 'फाईबर के रूप में कुल उत्पादन का एक तिहाई भाग विश्व बाजार में निर्यात हो रहा है',\n",
              " 'ऐसे मामले में आपको इसे पुनः प्राप्त करने के लिए आम तौर पर अपनी पहचान का प्रमाण या अपने खाते की प्रासंगिक जानकारी के जवाब देने होंगे',\n",
              " 'वास्तविकता से यह टुकड़ी द्विध्रुवी विकार का एक लक्षण भी हो सकता है जिसमें मूड नाटकीय रूप से अवसाद से उन्माद में बदल जाता है लेकिन यह विकार की विशेषता नहीं है क्योंकि यह सिज़ोफ्रेनिया के साथ है',\n",
              " 'प्रसव के समय जिन महिलाओं के हाथ में पैड नहीं होते हैं वे अस्पताल के कर्मचारियों से नमूने के लिए पूछ सकती हैं ताकि जन्म के बाद पहले कुछ दिनों के लिए उन्हें पैड मिलें',\n",
              " 'अतः क्लोनियों के विद्यमान स्टॉक की छंटाई करना सर्वाधिक महत्वपूर्ण हो जाता है ताकि उन क्लोनियों को चुना जा सके जिनसे अधिक शहद उत्पन्न हुआ है ज्यादा छत्ते बने हैं अधिक मधुमक्खी झुण्डों का पालन हुआ है मधुमक्खियों के रोगों तथा शत्रुओं की अपेक्षाकृत कम समस्याएं सामने आई हैं तथा पिछले वर्ष की तुलना में मधुमक्खियों के उड़ जाने की कम घटनाएं हुई हैं',\n",
              " 'जिन व्यक्तियों में पेरोनियल तंत्रिका के साथ समस्या होती है वे अक्सर तंत्रिका शिथिलता नामक चीज से पीड़ित होते हैं जिन्हें परिधीय न्यूरोपैथी भी कहा जाता है',\n",
              " 'इक्विटी निवेशकों को ऋण धारकों और पसंदीदा स्टॉक निवेशकों के पीछे मुआवजे के लिए अंतिम प्राथमिकता मिलती है जिनमें से सभी का भुगतान केवल आपूर्तिकर्ताओं द्वारा नुकसान के लिए प्रतिपूर्ति के बाद किया जाता है',\n",
              " 'एक प्रबंधक को यह मूल्यांकन करने में सक्षम होना चाहिए कि इन विकल्पों में से प्रत्येक तीन महीने एक वर्ष या दो साल में विभाजन की लाभप्रदता को कैसे प्रभावित करता है',\n",
              " 'ऐसे सॉफ्टवेयर पैकेज हैं जो एक विशेषज्ञ को विभिन्न लेनदेन में प्रवेश करने के लिए अलग-अलग स्क्रीन पर फ़्लिप करने के बजाय एक स्क्रीन से प्रविष्टियां पोस्ट करने की अनुमति दे सकते हैं',\n",
              " 'उन्हें खर्च अनुपात या प्रबंधन शुल्क के रूप में लागतों को देखना होगा',\n",
              " 'मछलियों के साथ अन्य विलुप्त होने वाले जल जीवों को भी यहां संरिक्षत रखा जाएगा',\n",
              " 'ऐसी महिलाओं को यह रोग होता है जिनके बहुत बच्चे हुए हैं या प्रसव के समय कठिनाई हुई हो',\n",
              " 'इनमें से कई व्यक्ति जिनके पास पूंजी उपलब्ध है वे विभिन्न प्रकार के जोखिमों से एक पोर्टफोलियो को कैसे ढालें इस बारे में अधिक बात करने के लिए पेशेवर वित्त प्रबंधकों से परामर्श करें',\n",
              " 'वार्षिकी जारीकर्ता दिवालिया हो जाते हैं यदि भुगतान प्राप्त करने वालों को अनुबंध खरीदने के लिए भुगतान करने वाले एन्युइटी क्रेताओं द्वारा दिए गए प्रीमियम से अधिक हो जाते हैं',\n",
              " 'मौलिक सामाजिक तथा बौद्धिक कार्यों में प्रवीणता मित्र मण्डली द्वारा स्वीकृति',\n",
              " 'सौर पवन में सूर्य के वायुमंडल से बहती गैस होती है',\n",
              " 'खर्च के मुकाबले वसूली होगी महज दोगुनी',\n",
              " 'केंचुओं की कुछ प्रजातियां भोजन के रूप में प्रायः अपघटनषील व्यर्थ कार्बनिक पदार्थों का ही उपयोग करती हैं',\n",
              " 'संपूर्ण विश्व में बढ़ती हुई जनसंख्या एक गंभीर समस्या है बढ़ती हुई जनसंख्या के साथ भोजन की आपूर्ति के लिए मानव द्वारा खाद्य उत्पादन की होड़ में अधिक से अधिक उत्पादन प्राप्त करने के लिए तरह-तरह की रासायनिक खादों जहरीले कीटनाशकों का उपयोग प्रकृति के जैविक और अजैविक पदार्थो के बीच आदान-प्रदान के चक्र को प्रभावित करता है जिससे भूमि की उर्वरा शक्ति खराब हो जाती है साथ ही वातावरण प्रदूषित होता है तथा मनुष्य के स्वास्थ्य में गिरावट आती है',\n",
              " 'ऐसे के स्वास्थ्य में गिरावट जल्दी-जल्दी पानी पीना खुराक कम होना पशुओं की वाहक क्षमता में कमी श्वसन दर में वृद्धि इत्यादि असर देखे जा सकते हैं',\n",
              " 'इस विधि में ८०-८५ प्रतिशत सफलता मिलती है',\n",
              " 'रु 75 प्रति प्रशिक्षणार्थी दिवस की दर से कार्यान्वयन करने वाले अभिकरण को सहायता',\n",
              " 'सेरेब्रल लक्षणों में चक्कर आना पतला भाषण खाली-बाहरी और सिंकोप शामिल हैं',\n",
              " 'व्यक्ति को अन्धेरे शांत जगह में लिटा दें',\n",
              " 'कार्बोहाइड्रेट के अभाव की भांति ही ऊर्जा आवश्यकताओं की तब तक संपूर्ति नहीं होगी जब तक आहार में वसा पदार्थों की कमीहै',\n",
              " 'अधिकांश निर्माण बीमा नीतियां युद्ध या बड़े पैमाने पर प्राकृतिक आपदाओं जैसे भूकंप और बाढ़ से होने वाले नुकसानों को कवर नहीं करती हैं',\n",
              " 'अधिकांश माउथ स्वैब परीक्षण उसी तरह से काम करते हैं जिसमें केवल अंतर होता है जो ड्रग्स का पता लगाता है और परीक्षक परिणाम कैसे प्राप्त करता है',\n",
              " 'लीन फिश को छ महीनों तक तथा वसायुक्त मछली को 3 महीने तक फ्रीजर में रखा जा सकता है',\n",
              " 'इन-हाउस मालिश व्यवसाय के लिए एक हल्के पोर्टेबल टेबल आमतौर पर सबसे अच्छा विकल्प होता है जबकि सार्वजनिक मालिश व्यवसाय के लिए जैसे कि हवाई अड्डों में पाए जाने वाले एक आरामदायक कुर्सी सबसे अच्छा विकल्प है',\n",
              " 'उन कारकों में से एक को उस दर के साथ करना होगा जिस पर स्टॉक पिछले दिन बंद हुआ था',\n",
              " 'क्षेत्र की अधिकाधिक भूमि में उपलब्ध नेत्रजन का स्तर मध्यम तथा 8.6 प्रतिशत भूमि में निम्न पाई गई है',\n",
              " 'निवेशक स्वामित्व या लेनदार का दर्जा प्राप्त नहीं करता है',\n",
              " 'संक्रामक रोग से लड़ने में न्यूट्रोफिल विशेष रूप से आवश्यक हैं और सभी श्वेत रक्त कोशिकाओं में से रक्तप्रवाह में सबसे भरपूर हैं',\n",
              " 'निगम को स्थापित हुए लगभग 67 वर्ष हो गए हैं और इस कल में निगम ने निरन्तर प्रगति की है',\n",
              " 'मछलियों के लैंडिंग केंद्र को स्वच्छ और कीटाणुरहित करने हेतु नियमित अंतराल पर ब्लीचिंग पाउडर सोडियम हाइपोक्लोराइट या अन्य किसी प्रक्षालक के साथ साफ किया जा सकता है',\n",
              " 'प्रकाश की अनुपस्थिति आमतौर पर आंख में किसी प्रकार के रक्तस्राव या रक्तस्राव के कारण होती है लेकिन आंख में किसी बड़ी विदेशी वस्तु के कारण भी हो सकती है जो प्रकाश संचरण को रोकती है',\n",
              " 'बढ़ोत्तरी ऊतक निर्माण अंडा एवं मांस उत्पादन',\n",
              " 'आधुनिक अनाज व्यापार को वैश्वीकरण विकसित करने की विशेषता है जिसमें खेतों का आकार बढ़ रहा है और अंतरराष्ट्रीय स्तर पर अनाज का परिवहन और निर्यात बढ़ रहा है',\n",
              " 'जुकाम खॉंसी टॉन्सिल या कंठशालूक का शोथ गला खराब होना वायुविविर शोथ श्वसनिका शोथ निमोनिया तपेदिक क़मि परजीवी से होने वाली खॉंसी दमा',\n",
              " 'कुछ स्थानों पर आपको बैंक के साथ एस्क्रो अधिकारी रखने की आवश्यकता होती है लेकिन अन्य स्थान आपको स्वतंत्र रूप से एस्क्रो खाते के प्रबंधन का विकल्प देते हैं',\n",
              " 'नंबर अक्सर प्रत्येक चेक पर छपा होता है जब किसी व्यक्ति का चेकिंग खाता होता है',\n",
              " 'यदि आपको फावड़े या खुरपे का प्रयोग करना हो तो के आकार का 15 सें मी गहरा गड्ढा बनायें',\n",
              " 'स्पास्टिक हेमटेरियागिया के एक मामूली रूप के साथ कोई व्यक्ति केवल मामूली चलने की कठिनाइयों से पीड़ित हो सकता है और एक स्वतंत्र जीवन जी सकता है जबकि गंभीर स्पास्टिक क्वाड्रिप्जिया वाले व्यक्ति को घूमने के लिए व्हीलचेयर पर निर्भर होना पड़ सकता है',\n",
              " 'फटे दूध में फिल्टर पेपर से छानकर फिल्ट्रेट अलग कर लेते है',\n",
              " 'दुर्भाग्यपूर्ण सूत्र प्राप्त करने वाले शिशुओं को विटामिन के युक्त पूरक लेना चाहिए',\n",
              " 'यदि तनाव को समाप्त नहीं किया जाता है तो गर्दन की ऐंठन खराब होती रहेगी',\n",
              " 'उसके बाद जिंकबोरिक मरहम दूध निकालने के बाद सुबह – शाम लगायें तथा थन को साफ रखें एवं गंदगी से बचाएं',\n",
              " 'व्यवसायों को वित्तीय बेंचमार्किंग करने वाले संगठन के आकार के समान होना चाहिए',\n",
              " 'नामांकन में परिवर्तन निर्धारित शुल्क के साथ संबंधित डाकघर में निर्धारित आवेदन पत्र जमा करके किया जा सकता है',\n",
              " 'आपको गर्भाशय ग्रीवा का कैंसर होने का जोखिम अधिक हो',\n",
              " 'जिसकी वजह से मावट नहीं होने पर पौधों में शीर्ष नमी तनाव की गंभीर अवस्था आ जाती है',\n",
              " 'मनोवैज्ञानिक विकास सिगमंड फ्रायड के लिए एक सिद्धांत है जो एक न्यूरोलॉजिस्ट है जो अपने मनोवैज्ञानिक सिद्धांतों के लिए अच्छी तरह से जाना जाता है',\n",
              " 'खून में हीमोग्लोबिन की मात्रा कम हो जाना',\n",
              " 'जैसा कि कैशेक्सिया आमतौर पर एक अन्य बीमारी का परिणाम है जैसे कि कैंसर या ऑटो-इम्यून डेफिशिएंसी सिंड्रोम इसका अक्सर निदान करना आसान हो सकता है',\n",
              " 'इस डेरी के उत्पाद अपनी उच्च गुणवत्ता के कारण केवल करनाल में ही नहीं और आसपास के क्षेत्रों में भी उपभोक्ताओं द्वारा पसंद किये जा रहे हैं',\n",
              " 'इसके विपरीत किसी भी समय क्रेडिट की एक पंक्ति का उपयोग किया जा सकता है और प्राप्त किया जा सकता है प्राप्तकर्ता को उतना या जितना कम की आवश्यकता होती है और मासिक भुगतान सेट नहीं किया जाता है',\n",
              " 'पशु के खुर की और उचित देखभाल की जानी चाहिए तथा फुटपाथ का उपयोग करना चाहिए',\n",
              " 'यह ध्यान रखना महत्वपूर्ण है कि कुछ हर्बल दवाएं डॉक्टर द्वारा लिखी जाने वाली दवाओं के साथ हस्तक्षेप कर सकती हैं',\n",
              " 'संघीय निवेशों में ऊर्जा उद्योग में अक्सर नए वित्त पोषित बुनियादी ढाँचे वाले आइटम शामिल होते हैं',\n",
              " 'उनका कहना है कि जैविक खेती ने तो उनकी किस्मत बदल दी है',\n",
              " 'उचित जलयोजन सुनिश्चित करता है कि ये अंतरालीय श्रृंखलाएं पर्याप्त रूप से कार्य करती हैं',\n",
              " 'इसके अलावा गुर्दे और मूत्राशय में संक्रमण के इलाज के लिए उपयोग की जाने वाली कई दवाएं गुर्दे के कार्यों में परिवर्तन का कारण बन सकती हैं',\n",
              " 'उदाहरण के लिए एक महिला बैक्टीरियल वेजिनोसिस का विकास कर सकती है जिसे खुजली से चिह्नित किया जाता है योनि से एक दूधिया सफेद या भूरा निर्वहन होता है और एक अप्रिय गंध जिसे अक्सर एक गड़बड़ गंध के रूप में वर्णित किया जाता है',\n",
              " 'लेकिन राजनीति विज्ञान की यह व्याख्या उसकी प्रकृति को संकुचित करती है',\n",
              " 'वर्मीकम्पोस्ट में मनुष्य तथा पौधों को नुकसान पहुँचाने वाले किसी भी तरह के जीवाणु उपस्थित नहीं होते',\n",
              " 'इसकी नसों के प्रेमियों के लिए सबसे सुंदर माना जाने वाला लकड़ी का एक प्रकार अखरोट है',\n",
              " 'यदि संग्रह की अवधि बढ़ रही है तो इसका मतलब यह हो सकता है कि कंपनी को अपनी ऋण नीतियों को कसना चाहिए या नकदी प्रवाह में परिवर्तन की भरपाई के लिए अतिरिक्त इन्वेंट्री वित्तपोषण की व्यवस्था करनी चाहिए',\n",
              " 'जब अंडा इसे गर्भाशय में बनाने में असमर्थ होता है तो यह फैलोपियन ट्यूब में प्रत्यारोपित हो सकता है एक प्रकार का अस्थानिक गर्भावस्था जिसे ट्यूबल गर्भावस्था कहा जाता है',\n",
              " 'बकरियों की देखरेख घर की औरत तथा बच्चों द्वारा की जायेगी एवं सभी बकरियों को 8-10 घंटे प्रतिदिन चराया जायेगा',\n",
              " 'स्टॉक के लिए स्टॉक सेंटर के तकनीकी विश्लेषण के उपकरण स्टॉक के लिए मूल्य में उतार-चढ़ाव और विशिष्ट अवधि में कारोबार करने वाले शेयरों की मात्रा के लिए उपकरण',\n",
              " ' जब भी आइंस्टाइन को मौक़ा मिला उन्होंने अपने बच्चों से मुलाक़ातें कीं',\n",
              " 'कमजोरी महसूस होना उल्टी आना उबकाई आना जी मिचलना इत्यादि शामिल हैं',\n",
              " 'इसके अतिरिक्त राष्ट्रिय सह्करिकता विकास निगम के तहत सहकारी समितियाँ जल क्रय विपणन केंद्र हैचरी निर्माण इत्यादि के लिए ऋण भी प्राप्त कर सकते हैं',\n",
              " 'सीधे चिकित्सा देखभाल के बिना कुछ दिनों में जलन और सीधी चोट अपने आप ठीक हो जाती है और अधिकांश संक्रमणों का इलाज मौखिक एंटीबायोटिक दवाओं के साथ किया जा सकता है',\n",
              " 'वर्तमान में किसान आग लगाने की बजाय गेहूं की कटाई के बाद खेत में खड़े फानों में किसान जीरो टिलेज मशीन या टर्बो हैप्पी सीडर से मूंग या ढैंचा की बुआई कर फसल अवशेष प्रबंधन कर सकते हैं',\n",
              " 'फिर ब्याज दर और भुगतान की जाने वाली ब्याज की राशि की गणना करें',\n",
              " 'श्रम उत्पादकता जीवन स्तर के बारे में जानकारी भी बता सकती है',\n",
              " 'तथापि अपने सीमित साधनों के कारण हम विश्व के वास्तविक रूप को नहीं जान सके हैं',\n",
              " 'जबकि वरीयता वाले शेयरों वाले निवेशकों को आम शेयरों वाले निवेशकों को कोई भुगतान करने से पहले लाभांश प्राप्त होगा पसंदीदा स्टॉक रखने से स्वचालित रूप से यह गारंटी नहीं मिलती है कि सभी उदाहरणों में लाभांश जारी किए जाएंगे',\n",
              " 'यह जानकारी रोगी चार्ट में भी दर्ज की जानी चाहिए ताकि डॉक्टरों को केमिकल युक्त दवाओं के लिए नुस्खे से बचने और उन स्थितियों को रोकने के लिए पता चले जहां अस्पताल के वातावरण में मरीजों को मिथाइलोक्लोरोजोथियाज़ोलिनोन के साथ सामयिक अनुप्रयोग लागू होते हैं',\n",
              " 'वास्तव में बाजारों में प्रतिभागियों की सीमित संख्या होती है इसलिए प्रत्येक खरीदार और विक्रेता समग्र बाजार स्थितियों को प्रभावित करते हैं',\n",
              " 'पूर्ण सख्त फूल बनने तक',\n",
              " 'अतिरिक्त तरल पदार्थ ऊतक को अधिक प्रफुल्लित कर देता है जिससे मरीज को उठने तक चलना मुश्किल हो जाता है और धीरे-धीरे अंग को हिलाना शुरू कर देता है परिसंचरण को बहाल करता है और अतिरिक्त द्रव को फैलने देता है',\n",
              " 'वीज़ायदि आप यूएस यूके यूरोप या कनाडा जैसे देशों की यात्रा करने का इरादा रखते हैं तो विदेशी सलाहकार आपको अपना वीज़ा स्वीकार करने के लिए पिछले कुछ वर्षों की आयकर रिटर्न रसीदें पेश करने के लिए कहते हैं',\n",
              " 'जब डायाफ्राम हवा से भर जाता है तो पेट बाहर की ओर निकलता है और छाती बिल्कुल नहीं चलती है',\n",
              " 'मूत्राशय के संक्रमण के लक्षण काफी विशिष्ट हैं जिससे कई मामलों में स्थिति का निदान करना बहुत आसान हो जाता है',\n",
              " 'दोनों शरीर में कहीं भी बन सकते हैं और वे या तो सौम्य या कैंसर हो सकते हैं',\n",
              " 'शरीर के अंगों के लिए एक सुरक्षित नींव प्रदान करने के साथ श्रोणि मंजिल भी निरंतरता बनाए रखने में महत्वपूर्ण भूमिका निभाता है',\n",
              " 'लेकिन ऐसा माना जाता है कि हजारों साल पहले जब मनुष्य ने जंगल काटकर खेती करना प्रारंभ किया होगा और बस्तियां बनाकर रहते होंगे तब उन्होंने मांस व दूध के लिए भेड़ और बकरियों को पाला होगा',\n",
              " 'हर महीने स्तनों की स्वयं जाँच करें',\n",
              " 'बथुआ सेन्जी कृष्णनील हिरनखुरी चटरी-मटरी अकरा-अकरी जंगली गाजर गजरी प्याजी खरतुआ सत्यानाशी आदि',\n",
              " 'इसलिए नियमित रूप से चलने वाली विकसित अर्थव्यवस्थाओं में केन्द्रीय बैंक स्वायत्त होता है और इसमें अर्थशास्त्र समझने वाले सक्षम लोग मुद्रा नीति तय करते हैं',\n",
              " 'सेक्टर निवेश जोखिमों में एक घटना घटित होने की संभावना होती है जो एक ही समय में अर्थव्यवस्था के एक ही क्षेत्र के व्यवसायों को प्रतिकूल रूप से प्रभावित कर सकती है',\n",
              " 'यह निरंतरता के लिए उपयोगी हो सकता है जब लोग किसी परियोजना पर काम करते समय एक ही व्यक्ति के साथ संचार में रहना चाहते हैं',\n",
              " 'होती है तथा इसका जीवनचक्र निम्न प्रकार है',\n",
              " 'अगर कोई व्यवसायी या परिंदों का शौकीन व्यक्ति यूपी में कोई भी पक्षी लेकर आता है तो कड़ी कार्रवाई की जाएगी',\n",
              " 'डॉक्टर नियमित रूप से एक शक्तिशाली सनब्लॉक का उपयोग करके यूवी किरणों से त्वचा की रक्षा करने का सुझाव देते हैं खासकर जब सीधे धूप में कई घंटे बिताते हैं',\n",
              " 'राष्ट्रीय कृषि विस्तार प्रबंधन संस्थान कृषि एवं किसान कल्याण मंत्रालय भारत सरकार का संगठन',\n",
              " 'यदि लोगों ने नोटिस किया कि वे सामान्य से अधिक लार का उत्पादन करते दिखाई देते हैं या उन्हें इसे बनाए रखने में परेशानी होती है तो वे संभावित कारणों और उपचार विकल्पों पर चर्चा करने के लिए इसे चिकित्सा पेशेवर के साथ लाना चाह सकते हैं',\n",
              " 'शुक्राणुनाशक योनि में लागक से संभोग से पहले लगाना चाहिए',\n",
              " 'कुछ रोगी बेहोश हो सकते हैं या आंशिक रूप से चेतना खो सकते हैं',\n",
              " 'कुछ चिकित्सा उपचार हैं जैसे कि कीमोथेरेपी जो समस्या का कारण बन सकता है लेकिन बाल आमतौर पर उपचार के समापन पर बढ़ते हैं',\n",
              " 'अधिकारी आयुक्त सर्वेक्षण व्यवस्थापन/निदेशक भूमि अभिलेख',\n",
              " 'जैव ईंधन पौधों को लगाने के लिए एकल खिड़की की मंजूरी देने हेतु राज्यों को भी प्रोत्साहित किया जाएगा',\n",
              " 'जबकि प्रसव और प्रसव बहुत लंबे समय तक चल सकते हैं कुछ महिलाओं के पास अवक्षेपित श्रम कहा जाता है',\n",
              " 'आंत्र में जलन या रुकावट पैदा करने के लिए कैंसर कोशिकाओं का आकार और संख्या आमतौर पर बहुत छोटी होती है',\n",
              " 'दूध उत्पादन तब तक लाभदायक व्यवसाय नहीं बन सकता जब तक कि हम दूध की गुणवत्ता में कमी करने रहेंगे',\n",
              " 'प्रकोष्ठ में दूसरी हड्डी त्रिज्या है',\n",
              " 'उत्तर सुरक्षित मातृत्व दिवस पर स्त्रीरोग विशेषज्ञ से जांच के बाद विशेषज्ञ की सलाहानुसार चिन्हित उपयुक्त उच्च चिकित्सा संस्थान पर प्रसव कराने की योजना बनाई जायेगी',\n",
              " 'अनिवार्य रूप से उभार ब्रैकेट एक सामूहिक शब्द है जिसका उपयोग अंडरराइटिंग सिंडिकेट में निवेश फर्मों की पहचान करने के लिए किया जाता है जो विभिन्न निवेशकों के साथ सबसे बड़ी संख्या में मुद्दों को रखने का प्रबंधन करते हैं',\n",
              " 'कृषि संवर्धन एवं प्राकृतिक संसाधन केंद्र',\n",
              " 'हालाँकि प्रत्यक्ष कर को प्रायः सभी सरकारों द्वारा एक समान तरीके से परिभाषित किया जाता है लेकिन प्रत्येक राष्ट्र अपने स्वयं के प्रतिबंधों को लागू कर सकता है कि कौन भुगतान करता है',\n",
              " 'संकट की रोकथाम के लिए कुछ सफल रणनीतियों में आसन्न संकटों के शुरुआती चेतावनी संकेतों को पहचानना सभी संघर्षों के अहिंसक संकल्पों को बढ़ावा देना और सहायक और संचार परिवार और सामुदायिक संबंधों का निर्माण करना शामिल है',\n",
              " 'एक कैलेंडर स्प्रेड में दो विकल्पों के लिए समय मूल्य के क्षय की अलग-अलग दरें उनके मूल्यों के बीच अंतर को बढ़ाएंगी जिससे व्यापारी के लिए लाभ होगा',\n",
              " 'जबकि ये उपचार अधिकांश व्यक्तियों की मदद करते हैं कुछ लोगों को दूसरों की तुलना में अत्यधिक गैस होने का खतरा होता है',\n",
              " 'शिपर एक्सपेडिटर और अन्य तृतीय पक्षों के साथ काम करने वाली कंपनियों को यह सुनिश्चित करने की आवश्यकता होती है कि उन्हें पता हो कि किस प्रकार के प्रलेखन को जारी करना है ताकि विक्रेताओं को भुगतान मिल सके',\n",
              " 'इसमें 500 मिली लीटर पानी डालें इसे अच्छी तरह मिलाएँ तथा रस को छान लें छाने हुए तरल पदार्थ को अलग रख दें',\n",
              " 'सरकारों द्वारा पेश किए जाने वाले बांड आम तौर पर इस तरह की चूक से सुरक्षित होते हैं क्योंकि सरकारें आमतौर पर अपने राष्ट्रीय खजाने के अंदर संसाधनों के साथ बंधनों का समर्थन करती हैं',\n",
              " 'बाल्सा अधिकांश सॉफ्टवुड की तुलना में नरम होते हैं जबकि सबसे कठिन दृढ़ लकड़ी किसी भी सॉफ्टवुड की तुलना में बहुत कठिन होते हैं',\n",
              " 'फ्लैशबैक रोगियों के लिए अत्यधिक भावनात्मक संकट पैदा कर सकता है और वे अत्यधिक विघटनकारी हो सकते हैं',\n",
              " 'वहां से यह केवल उन लाभांशों की कुल राशि में कटौती करने का मामला है जो कि विचाराधीन अवधि के लिए निवेशकों को भुगतान किए जाते हैं और शुद्ध आय द्वारा उस आंकड़े को विभाजित करते हैं',\n",
              " 'जब 40 से अधिक शुक्राणुओं में खराबी होती है तो यह प्रजनन क्षमता में बाधा डाल सकता है और पुरुष को अपने साथी को गर्भवती करने में परेशानी हो सकती है',\n",
              " 'जापान में रेमन आम तौर पर प्रतिष्ठानों के वर्गीकरण में उपलब्ध है जिसमें छोटे नूडल स्टॉल से लेकर बड़े सिट-डाउन रेस्तरां तक शामिल हैं',\n",
              " 'कुछ मामलों में जब पत्थर अंत में मूत्राशय से मूत्रवाहिनी से बाहर निकल जाता है तो दर्द वास्तव में काफी कम हो जाएगा या पूरी तरह से चला जाएगा',\n",
              " 'पूर्व एक शराब पीने को रोकने में मदद कर सकता है क्योंकि यदि कोई पीता है तो वे अत्यधिक बीमारी का कारण बनते हैं',\n",
              " 'प्लुराइटिस के कारण कुछ स्थितियों में इन्फ्लूएंजा या अन्य तीव्र वायरल संक्रमण शामिल हो सकते हैं',\n",
              " 'एकीकृत प्रणाली का बजट और नकदी प्रबंधन हिस्सा भविष्य की व्यावसायिक अवधि में राजकोषीय योजना के लिए डेटा प्रदान कर सकता है',\n",
              " 'साक्षात्कारकर्ता संभावित सीपीए के बारे में जानने के लिए कि लेखाकार के पास आपके लिए कितना समय है यह सुनिश्चित करने के लिए पेशेवर कितना सुलभ होगा',\n",
              " 'भोजन की जानकारी होना अति आवश्यक है आज के जमाने में आर्थिक लाभ ही यह सुनिश्चित कर रहा है कि खाद्य पदार्थ बाजार में किस मूल्य पर मिलेंगे',\n",
              " 'विस्तार अभिकर्ता जो सूचना प्रौद्योगिकीको नहीं जानते हैं प्रशिक्षण पाठ्यक्रम में भाग लेने के पश्चात इनके विषय में जान जाते हैं',\n",
              " 'मूल्य नेतृत्व तब होता है जब एक विशिष्ट उद्योग में एक अग्रणी कंपनी माल और सेवाओं के लिए मूल्य निर्धारित करती है फिर उद्योग में अन्य फर्म इस नेता द्वारा निर्धारित मूल्य से मेल खाती हैं',\n",
              " 'इस प्रक्रिया में कर्मचारी मौद्रिक मुआवजे को स्थिर रखना शामिल है जिसमें कोई भी लागत नहीं है या वेतन में वृद्धि नहीं होती है',\n",
              " 'एक व्यवसाय को कर्मचारियों द्वारा की जाने वाली खरीद पर भी ध्यान देना चाहिए',\n",
              " 'ये लाल व गहरे भूरे रंग के सूक्ष्मजीवी अष्टपदी प्राणी हैं जो पत्तियों के प्राय नीचली सतहों पर अनगिनत संख्या में रहकर उनका रस चूसते हैं',\n",
              " 'ऐसी फर्मों के आकार का परिसीमन किया जाना चाहिये जिनके लिये रोज़गार को समाप्त करने से पहले श्रम विभाग से अनुमति लेने की आवश्यकता नहीं है और सभी फर्मों की दक्षता को प्रोत्साहित करने के मामले में निर्णय लेने की छूट दी जानी चाहिये',\n",
              " 'डंठल से सबसे पहले फाइबर निकाला गया',\n",
              " 'चूँकि दोनों अपने प्रोफेशनल कैपेसिटी से आय अर्जित कर रहे हैं अतः धारा 64 से धारा 70 के आय क्लबिंग के प्रावधान इन पर लागू नहीं होगा',\n",
              " 'सेवा प्रदाता प्रमाणीकरण तथा निरीक्षण संस्थाओं हेतु प्रशिक्षण 135 प्रशिक्षण सत्रों में 2700 से अधिक सेवा प्रदाता प्रतिनिधियों तथा आंतरिक नरीक्षण कर्त्ताओं को प्रमाणीकरण प्रकिया तथा आंतरिक नियंत्रण प्रणाली में प्रशिक्षित किया गया',\n",
              " 'यद्यपि शिशु उनके साथ पैदा होते हैं लेकिन कम उम्र में उनका निदान नहीं किया जा सकता है',\n",
              " 'अधिक उपज और भूमि की उर्वरता शक्ति बनाये रखने के लिए हरी खाद या गोबर या कम्पोस्ट का प्रयोग करना चाहिए',\n",
              " 'टेनोटॉमी कैंची एक प्रकार की सर्जिकल कैंची होती है जिसका उपयोग छोटे ऊतकों को काटने और नाजुक क्षेत्रों में पैंतरेबाज़ी करने के लिए किया जाता है',\n",
              " 'वार्ता में आतंकवाद नशीले पदार्थों की तस्करी संयुक्त राष्ट्र में सुधार और अफगानिस्तान ईरान इराक तथा उत्तरी कोरिया में सुरक्षा की स्थिति पर चर्चा हुई',\n",
              " 'गर्भवती या स्तनपान करने वाली महिलाओं को किसी भी प्रकार के डिकंजेस्टेंट लेने से पहले अपने डॉक्टरों से पूछना चाहिए क्योंकि कुछ को गर्भावस्था के दौरान सुरक्षित नहीं माना जा सकता है और जो डिकॉन्गेस्टेंट सुरक्षित हैं उन्हें अलग-अलग खुराक में लेने की आवश्यकता होती है जो लेबल का सुझाव देते हैं',\n",
              " 'ब्रोकरिंग और वित्तपोषण कुछ ऐसे विभाजन या व्यावसायिक गतिविधियां हैं जो एक फर्म अपने स्वयं के कर्मचारियों का उपयोग करके घर में रखती है',\n",
              " 'यह सुझाव नहीं है कि दुनिया के कई अलग-अलग हिस्सों में कई ठीक-ठाक सीआरओ नहीं हैं',\n",
              " 'सही स्थिति में रहने सेः',\n",
              " 'रिकॉर्डिंग मूल्यह्रास परिशोधन के रूप में एक ही तरीके से काम करता है हालांकि भौतिक संपत्ति में अलग-अलग उपयोगी जीवन और मूल्यह्रास गणना हो सकती है',\n",
              " 'जबकि अभी भी एड्स का कारण बनने वाले वायरस के लिए कोई ज्ञात इलाज नहीं है एचआईवी को उचित चिकित्सा हस्तक्षेप और उपचार के साथ नियंत्रित किया जा सकता है',\n",
              " 'आंदोलन तंत्रिका तंत्र द्वारा निर्मित होता है और प्रत्येक व्यक्ति में अद्वितीय आंदोलन व्यवहार होते हैं जो उसके या उसके आनुवंशिक मेकअप के लिए विशिष्ट होते हैं जिसे मोटर पैटर्न कहा जाता है',\n",
              " 'उसके अंग किसी अन्यम व्यक्ति के शरीर में जीवित बन रहते हैं',\n",
              " 'निर्माण उद्योग के लिए सामान्य ज़मानत बांड का उपयोग कई अन्य उद्योगों में भी किया जाता है',\n",
              " 'एक विधि एक अधिग्रहण है जिसमें मूल कंपनी किसी अन्य कंपनी में स्टॉक का कम से कम 51 प्राप्त करती है',\n",
              " 'चतुष्कोणीय प्लवमान पिंजरों में पालन किया जाता है',\n",
              " 'सोने को भंडारित करने और धन के माप के रूप में इसका उपयोग करने की प्रवृत्ति सदियों तक फैली हुई है',\n",
              " 'मक्का ज्वार बाजरा जैसी चारे वाली फसलों में इस घास को पनपने से रोकने के लिए बुवाई के तुरंत बाद प्रति एकड़ जमीन में 800 ग्राम एट्राजिन का छिड़काव करें',\n",
              " 'फिर सबसे हाल की कीमत को पिछली मूल्य सीमा के मुकाबले तौला जाता है',\n",
              " 'पीलिया ग्रंथियों के बुखार के सभी मामलों में मौजूद नहीं है और आमतौर पर मौजूद होने पर हल्का होता है',\n",
              " 'पूसा अगेती मसूर मसूर पूसा अगेती मसूर',\n",
              " 'इसके बजाय सभी ऋणों को एक पैकेज में समेकित किया जा सकता है',\n",
              " 'निवेशक के पास जितनी बार सुरक्षा होती है उतनी बार पूंजीगत लाभ उपचार पर प्रभाव पड़ता है',\n",
              " 'चित्रित सतहों में दीवार फर्श दरवाजे और खिड़की की दीवारें शामिल हो सकती हैं',\n",
              " 'रणनीतिक धन प्रबंधन के लिए आसान युक्तियों में जीवन में जल्दी बचत और निवेश शुरू करना विविध पोर्टफोलियो में निवेश करना और सेवानिवृत्ति और एस्टेट योजना का उपयोग करके लागत को कम करना शामिल है',\n",
              " 'चक्कर आना आम तौर पर एक अंतर्निहित स्थिति का एक लक्षण है और इसे एक बीमारी नहीं माना जाता है',\n",
              " 'नौपरिवहन नदियों नहरों तथा झीलों में स्थित सतही जल संसाधन का उपयोग नौपरिवहन में किया जाता है',\n",
              " 'सामान्य तौर पर महिलाओं को सुगंधित पाउच या टॉयलेट पेपर से बचना चाहिए ऐसी पैंटी पहनें जिनमें कोई सिंथेटिक फाइबर न हो और हमेशा कंडोम का उपयोग करें',\n",
              " 'इसके अलावा यदि ट्यूमर को संपीड़न का कारण पाया जाता है तो पहले बायोप्सी की जा सकती है',\n",
              " 'अगर देखा जाए तो आज कृषि और उससे संबंधित व्यवसाय में ज्यादा अवसर मिलते हैं',\n",
              " 'तथा दूसरे दिन से ही पौधों में वृद्धि दिखाई पड़ने लगती है',\n",
              " 'आम में फल झड़ने की समस्या एवं प्रबंधनपरिचयआम में फल झड़न की प्रक्रिया को तीन चरणों में बांटा गया हैपिन हैड अवस्था में फलों का गिरनाफल स्थापित होने के बाद झड़नमई में फलों का झड़नफल झड़न के कारणनमीपोषक तत्वों की कमीबीज का विकासकीट तथा बीमारियाँएवसिशन तह का बननाप्रबंधनदेख-भालहौरमोन्स का प्रयोगकीट तथा बीमारियों की रोकथाम',\n",
              " 'हालांकि डिस्काउंट नोट सभी के लिए नहीं है',\n",
              " 'अगर सही इलाज नही किया धीरे धीरे रोग पुराना होने के कारण जोड़ो का कार्य और लचीलापन नुकसान होता है और प्रभावित जोड़ निर्योग्यकारी और पीड़ादायक होता है',\n",
              " 'देश भर में अम्लीय भूमि पर हो रहे वैज्ञानिक शोधों से अब यह बात पैदावार बिलकुल तय है कि चूने के प्रयोग से भूमि की अम्लीयता खत्म कर इसकी पैदावार में बढ़ोतरी की जा सकती है',\n",
              " 'सॉल्वेंसी स्तर की नीतियांबीमा कंपनियों को सभी जोखिमों को ध्यान में रखते हुए अपने व्यवसाय का प्रबंधन करना चाहिए',\n",
              " 'कार्यक्रम के दौरान प्रतिभागियों को संरक्षित और खुले खेतों के लिए उच्च मूल्य वाली सब्जियों की वैज्ञानिक खेती के तरीकों से अवगत कराया गया',\n",
              " 'गोनोरिया वीर्य में मवाद का एक और प्रमुख कारण है अकेले संयुक्त राज्य अमेरिका में प्रति वर्ष 700,000 से अधिक संक्रमण हैं',\n",
              " 'एंटी-प्लेटलेट दवाओं का भी इस संबंध में कुछ उपयोग है',\n",
              " 'अन्य लोग एक उपयोगकर्ता और एक गतिशीलता सहायता दोनों को समायोजित करते हैं जैसे कि पावर स्कूटर या व्हीलचेयर',\n",
              " 'एटोपिक जिल्द की सूजन के रूप में भी जाना जाता है एक्जिमा की विशेषता मोटी पपड़ीदार खुजली वाली त्वचा के पैच हैं',\n",
              " 'लक्षण लंबे समय तक गायब हो सकते हैं और फिर अचानक प्रकट हो सकते हैं',\n",
              " 'ऋण की राशि व्यक्तिगत वित्तीय वक्तव्यों में शामिल जानकारी की मात्रा पर भी कुछ प्रभाव डाल सकती है क्योंकि ऋणदाता स्वाभाविक रूप से बड़ी मात्रा में और लंबी अवधि के लिए ऋण प्रदान करते समय अधिक जोखिम ग्रहण करते हैं',\n",
              " 'कृपया खाली पेट दवा न खाएं',\n",
              " 'पहले रोल पर पांच के साथ आने से दूसरा रोल कमोबेश नहीं होता उदाहरण के लिए तीन होने की संभावना कम है',\n",
              " 'यदि निम्नलिखित सुरक्षा हाल के दिनों में कैसा प्रदर्शन करती है इसके आधार पर मूल्य में स्पाइक की वजह से प्रवृत्ति का यह अभ्यास असतत हो सकता है',\n",
              " 'वे जो 1938 में पैदा हुए थे जब वे 65 वर्ष के हो गए और दो महीने के थे जबकि 1939 में पैदा हुए लोग पात्र थे',\n",
              " 'सामान्य तंत्रिका सूजन के लक्षण आवाज के लिए भी बढ़ सकते हैं क्योंकि भाषण कुछ लोगों के लिए बिगड़ा हुआ नसों से पीड़ित हो सकता है',\n",
              " 'कृषकों व व्यापारियों को प्रशिक्षण के साथ साथ स्थानीय किस्मों से निर्यात योग्य किस्म विकसित करने का कार्य कृषि विश्वविद्यालय के अनुसंधान केन्द्र उम्मेदगंज द्वारा किया जा रहा है',\n",
              " 'उदाहरण के लिए अगर आपके पास एक ही प्रतिभूति में 10 प्रतिशत हिस्सा है और इसमें चूक हो जाती हैं तो फंड का शुद्ध सम्पत्ति मूल्य उसी सीमा तक गिरेगा',\n",
              " 'म्लानि रोग में पत्तियाँ पीली जड़ जाती हैं एवं पौधे सुख जाते हैं',\n",
              " 'अधिक गंभीर मामलों के लिए पर्चे दर्द निवारक और स्टेरॉयड इंजेक्शन अक्सर राहत लाते हैं',\n",
              " 'आइसोप्रोटयूरान प्रतिरोधी फेलेरिस माइनर के लिए कारगर',\n",
              " 'गायों के दूध निकालने के लिए श्री राजबीर सिहं ने अपने फार्म पर मशीने लगाईं हुई हैं',\n",
              " 'पुरानी खांसी मुंह में खून ला सकती है',\n",
              " 'प्रचलित किंवदंती के अनुसार गोभी के लिंग परीक्षण के कारण पानी का रंग गुलाबी या लाल हो जाता है यदि कोई लड़का रास्ते में है लेकिन अगर बच्चा लड़की है तो बैंगनी रहेगा',\n",
              " 'वे शरीर की कोशिकाओं के भीतर जमा नहीं होते हैं लेकिन स्रावित होने पर स्रावित होते हैं जैसे संक्रमण खुद को प्रस्तुत करता है',\n",
              " 'ये सूक्ष्म-जीव भूमि में मौजूद पेड़पौधों के अवषेष तथा अन्य जैविक कचरे को सड़ाने व पौधों की बढ़वार में सहायक होते हैं',\n",
              " 'प्रोबायोटिक मछलियों के रोग निरोधक क्षमता को काफी बढ़ा देते हैं',\n",
              " 'यदि एक यौन सक्रिय महिला मतली और भूख की हानि से पीड़ित होने लगती है तो उसे किसी भी जोखिम भरी और ज़ोरदार गतिविधियों से बचना चाहिए जब तक कि वह गर्भावस्था परीक्षण नहीं कर सकती',\n",
              " 'यद्यपि कुछ नवीकरणीय संसाधन ऐसे प्रतीत होते हैं जैसे वो प्राकृति में हमेशा के लिए रहेगें परन्तु इनमें से अधिकांश प्राकृतिक संसाधन ऐसे होते है जो सीमित होते हैं और अंततः भविष्य में समाप्त हो जाने की संभावना रखते हैं',\n",
              " 'दो ऋण प्रकार समान नहीं हैं हालांकि एक किस्त ऋण उधारकर्ता के रूप में आमतौर पर अपने ऋण के जीवन पर एक निर्धारित राशि का मासिक भुगतान करना पड़ता है',\n",
              " 'ग्रसित पौधों की जड़ों में मांठें बनने से पौधे बौने रह जाते हैं व पत्ते पीले होकर सूख जाते हैं',\n",
              " 'ईबे के मुकाबले ऑनलाइन पैसा कमाने का कोई आसान और तेज तरीका नहीं है',\n",
              " 'वहीं मनरेगा जैसी योजनाएं ग्रामीणों को साल में 150 दिन का रोजगार देने का दावा करता रहा है',\n",
              " 'तेजी से जैसा कि मंच पर खुजली होती है चरम खुजली को दूर करना चाहिए',\n",
              " 'सोयाबीन प्रसंस्करण पर उद्यमिता विकास कार्यक्रम',\n",
              " 'कटाई पट्टी द्वारा फसल की कटाई के बाद फसल को लग्ड़ कन्वेयर पट्टी की सहायता से उर्वराधर स्थिति में मशीन के एक तरफ ले जाया जाता है और कटी फसल मशीन की चलने की दिशा से अधोलाम्बावत दिशा में एक कतार में जमीन पर गिर जाती है',\n",
              " 'चीन का अनुसरण करते हुए भारत सरकार को चाहिए कि वह बंजर भूमि और ढलान वाली जमीन में बांस के बागान लगाने में ग्रामीण किसानों को मदद दे',\n",
              " 'गर्भवती तथा स्तनपान कराने वाली माताएं',\n",
              " 'पानी का तल नीचे चला गया है',\n",
              " 'क्रोहन के अन्य लक्षणों में दस्त वजन में कमी और उल्टी शामिल हैं',\n",
              " 'निवेशक क्रमिक दिनों में प्रतिभूतियों का व्यापार करेगा क्योंकि आज किया गया व्यापार कल किए गए व्यापार से एक दिन पहले निपट जाएगा',\n",
              " 'आमतौर पर ये बहिष्करण उन शर्तों पर आधारित होते हैं जैसे खराब पैकेजिंग या सामानों के परित्याग के परिणामस्वरूप होने वाली हानि जहां स्पष्ट दोष सौंपा जा सकता है',\n",
              " 'पहला यह है कि स्थिति में देखभाल का एक कर्तव्य था प्रतिवादी वादी की ओर से कुछ सावधानी बरतने के लिए बाध्य था जैसे वादी के घर की दिशा में बेसबॉल न मारना',\n",
              " 'ये कम-जोखिम वाले म्युचुअल फंड लाभांश का भुगतान अल्पकालिक ब्याज दरों के बराबर करते हैं',\n",
              " 'गर्म पानी के गरारे और नमक के पानी के छींटे कभी-कभी गले में खराश के प्रबंधन में उपयोग किए जाते हैं साथ ही जलन और दर्द से राहत देने के लिए डिज़ाइन किए गए लोज़ेंगों के साथ',\n",
              " 'जितना कम खरीदो ऊंचा बेचो का पुराना निवेश कहावत का इस्तेमाल बहुत कम बार किया जाता है',\n",
              " 'अगर किसान भाई एक एकड़ जमीन में नर्सरी बनाते हैं तो 40,000-70,000 रुपुए का लाभ प्राप्त कर सकते हैं',\n",
              " 'कभी-कभी अल्सर भी फट जाते हैं और खून बहता है',\n",
              " 'कर दस्तावेज़ अक्सर बहुत जटिल रूप होते हैं जो कई लोगों को निराश करते हैं',\n",
              " 'बॉन्डहोल्डर्स से अनुरोध किया जाता है कि वे एक विशिष्ट तारीख तक जवाब दें यदि अधिकांश धारक बदलावों को मंजूरी नहीं देते हैं तो मूल शर्तें प्रभावी रहती हैं',\n",
              " 'दुकानदारों को पता होना चाहिए हालांकि अगर उनके मन में बदलाव होता है तो उन्हें रद्द करने की फीस हो सकती है और वे इस प्रकार की योजना का उपयोग करने पर बिक्री से चूक सकते हैं',\n",
              " 'देश के जोखिम विश्लेषण के प्रत्येक प्रयास में अंतिम निर्णय लेने से पहले धीरे-धीरे आगे बढ़ना और सभी प्रासंगिक कारकों की जांच करने की अनुमति देना महत्वपूर्ण है',\n",
              " 'इससे अनेक प्रकार की समस्याएं पैदा हो गई जैसे विषाक्तता की घटना जिसमें लोग जीवन भर के लिए अपंग हो गए तथा उन्हें अपने स्वास्थ्य पर काफी खर्च करना पड़ गया',\n",
              " 'सारणीः गोवंशीय पशुओं में टीकाकरण कृमिनाशन एवं सर्वांग नहलाने के लिए वार्षिक चक्र',\n",
              " 'इस स्थिति के कई अलग-अलग प्रकार हैं जिसमें डिस्टल क्लैविक्युलर ऑस्टियोलाइसिस शामिल है',\n",
              " 'प्रति हेक्टेयर खेत में रोपनी हेतु 50 किलोग्राम धान के बीज की आवश्यकता होती है',\n",
              " 'उचित बाजार मूल्य वह मूल्य है जो एक तैयार विक्रेता और एक इच्छुक खरीदार परिसंपत्ति के स्वामित्व को स्थानांतरित करने के लिए विनिमय करेगा',\n",
              " 'यहाँ प्राचीन भारत में राजतंत्र होने के बावजूद प्रजा पर अत्याचार नहीं था',\n",
              " 'यदि आपने पहले कभी सोने के परीक्षक का उपयोग नहीं किया है तो कुछ सरल और उपयोग में आसान चुनें',\n",
              " 'चीनी उद्योग के लिये सहायक भारत में इथेनॉल उत्पादन के लिये प्रयोग किया जाने वाला प्रमुख कच्चा माल गन्ना और इसके उप-उत्पाद हैं जो ‘ इथेनॉल सम्मिश्रण कार्यक्रम के तहत 90 तेल उत्पादन के लिये उत्तरदायी है',\n",
              " 'वित्तीय सेवाएं उसके उपभोक्ताओं तक प्रभावी ढंग से पहुंचनी चाहिए ऋण समय पर उपलब्ध होनी चाहिए और वह भी जरुरी मात्रा में और उचित ब्याज दर पर',\n",
              " 'हल के वर्षों में प्रदेश के कृषि विश्वविद्यालयों में कृषि वैज्ञानिकों द्वारा किय गये अग्रणीय कार्यों के कारण ही खाद्य सुरक्षा एवं उच्च कृषि उत्पादन की स्थिति बनी है',\n",
              " 'क्रायोथेरेपी में तरल नाइट्रोजन के आवेदन से मौसा जमे हुए हैं',\n",
              " 'अतःएच आई वी से प्रभावित व्यक्तियों को अपनी ऊर्जा और अन्य पौष्टिक तत्वों ग्रहण करने की मात्रा जल्द से जल्द बढ़ा लेनी चाहिए',\n",
              " 'वित्तीय स्थिरता बोर्ड जिसके पास कोई प्रत्यक्ष शक्ति नहीं है के पास दुनिया के नेताओं को सुरक्षित और कुशल नियामक नीति के बारे में प्रभावित करने या कम से कम शिक्षित करने का जबरदस्त अवसर है जो वित्तीय तबाही को रोक सकता है',\n",
              " 'इंटर्निस्ट्स में शल्यचिकित्सा की प्रक्रिया करने की क्षमता भी होती है जबकि सामान्य चिकित्सक सर्जरी में संलग्न नहीं होते हैं',\n",
              " 'एक स्वस्थ एवं उत्तरदायी माता-पिता बनना',\n",
              " 'बिस्तर पर पीठ के बल सीधे लेटे हुए धीरे-धीरे एक टांग ऊपर उठाएँ घुटने को मोड़ें',\n",
              " 'महाराष्ट्र और कर्नाटक में सामान्य परिस्थितियों के अंतर्गत छंटाई के बाद न्यूनतम तापमान सामान्यत 10 डिग्री सेंटीग्रेड से पार हो जाता है और इसलिए कलियां निष्क्रिय नहीं हो पाती है',\n",
              " 'मेन्डिबुलर हाइपोप्लासिया इसलिए निचले जबड़े का अधूरा या कम विकास है',\n",
              " 'लाभ उन श्रमिकों के लिए कम हो सकता है जो सामान्य सेवानिवृत्ति की आयु के बाद सेवानिवृत्त हुए लोगों के लिए जल्दी और उच्च सेवानिवृत्त हुए संयुक्त राज्य में सामान्य सेवानिवृत्ति की आयु प्रत्येक गुजरते साल के साथ बदल सकती है',\n",
              " 'प्रति शेयर संगणना आय कई श्रेणियों के अंतर्गत आ सकती है सतत संचालन परिचालन बंद करना असाधारण वस्तु और शुद्ध आय',\n",
              " 'बीज दर किलो प्रति एकड़',\n",
              " 'इस पिप्पली के बारे में कई भ्रांतियां हैं तथा कई वैज्ञानिक इसको चब्य का फल मानते हैं',\n",
              " 'भारतीय लोकतंत्र में चुनाव सुधार निष्कर्ष एवं सुझाव',\n",
              " 'जिन लोगों के पास संपत्ति है वसीयत की योजना बनाना प्रक्रिया में एक महत्वपूर्ण कदम है जबकि जो लोग विरासत प्राप्त करने या प्राप्त करने की अपेक्षा करते हैं उन्हें विशेष वित्तीय नियोजन सलाह लेनी चाहिए',\n",
              " 'रोपाई विधि में बीजोपचार इस प्रकार करें',\n",
              " 'वित्त और निवेश प्रकाशन आमतौर पर सार्वजनिक फाइलिंग के माध्यम से ठीक दांतेदार कंघी के माध्यम से जाते हैं ताकि वे जिन कंपनियों को कवर करते हैं उनके वित्तीय स्वास्थ्य के बारे में अधिक जानें',\n",
              " 'यह एक उभरता हुआ उद्योग है जिसमें निवेश की अपार संभावनाएँ हैं',\n",
              " 'यदि निर्धारिती उक्त योजना अपनाना नहीं चाहता है तो वह कम दर पर आय घोषित कर सकता है',\n",
              " 'भारत में राज्य का निर्माण करने वाली सबसे बड़ी सब्जियां हैं',\n",
              " 'धारणा अभ्यास ऐसी गतिविधियां हैं जो धारणा का परीक्षण करती हैं और लोगों को चीजों को देखने के तरीके में अंतर को उजागर करती हैं',\n",
              " 'इन इकाइयों के द्वारा पाश्चीराईज्ड खाद पंजीकृत खुम्ब उत्पादकों को शिमला सोलन सिरमौर किन्नौर कांगड़ा चंबा हमीरपुर ऊना और बिलासपुर जिलों में उपलब्ध करवाई जा रही है',\n",
              " 'भारी प्रकोप होने पर पत्तियों से रस चूसने के कारण वे मुड़ जाती हैं तथा फूल गिर जाते हैं जिससे उपज पर प्रतिकूल प्रभाव पड़ता है',\n",
              " 'सहित गर्भाशय के आकार में समान वृद्धि होती है उसमें भ्रूणपत्र नहीं होते जबकि गर्भ में एक ही हार्न का विकास होता है तथा भ्रूणपत्र पाए जाते है',\n",
              " 'मौसमी तालाबों में मत्स्य बीज संवर्धन',\n",
              " 'संविदात्मक दस्तावेजों तक पहुंच प्रदान करना ऑडिट प्रक्रियाओं का पालन करने का एक और तरीका है',\n",
              " 'प्लैटिनम की कीमत लगातार बदलती रहती है',\n",
              " 'आधुनिक मौन-पालन का मूल-मंत्र है कि बक्सों में जवान मौनों की संख्या मुख्य शहद उत्पादन समय से पहले अधिक से अधिक हो ताकि ज्यादा से ज्यादा शहद का उत्पादन किया जा सके',\n",
              " 'जबकि सामान्य आबादी के केवल 20 प्रतिशत में मौजूद है आनुवंशिक रूप से कोडित सेल मार्कर एचएलए-डीआर 4 कोकेशियान आरए रोगियों के दो तिहाई से अधिक में होता है',\n",
              " 'प्रतिक्रिया को मस्तिष्क में ऑप्टिक तंत्रिका के साथ भेजा जाता है और मस्तिष्क जानकारी को संसाधित करता है जिससे जीव को रंग में देखने की अनुमति मिलती है',\n",
              " 'इस कारण से निवेशक समय की लंबी अवधि के लिए बाजार में बदलाव की चपेट में हैं',\n",
              " 'यदि वर्ष के लिए वास्तविक ब्याज दर 1 है मुद्रास्फीति प्रीमियम 2 है और जोखिम प्रीमियम 3 है तो बांड या नाममात्र ब्याज दर के लिए वास्तविक रिटर्न केवल 2 होगा जैसा कि इन सभी अन्य कारकों ऐसे मूल्य हैं जो बांड के मूल्य को कम करते हैं',\n",
              " 'श्वान कोशिकाएं माइलिन म्यान के घटक हैं जो अक्षतंतु या तंत्रिका कोशिकाओं की शाखाओं को कवर करती हैं',\n",
              " 'आनुपातिक कर में कर की मात्रा समान रहती है',\n",
              " 'बांड अवधि के अंत में इसकी परिपक्वता के रूप में भी जाना जाता है बांडधारक को मूलधन की वापसी प्राप्त होती है',\n",
              " 'कुछ महिलाएं अपने स्तन पर एक दर्दनाक गांठ देख सकती हैं जिसे अक्सर पुटी कहा जाता है जो आमतौर पर द्रव से भरा होता है और कभी-कभी स्पर्श के लिए निविदा होती है',\n",
              " 'भांग का इस्तेमाल कई मानसिक बीमारियों में भी की जाती है',\n",
              " 'इसलिए डिम्बनालों में संक्रमण पुराना होकर गंभीर रूप ले सकता है',\n",
              " 'लेकिन ज़्यादा नमक खाने से त्वचा और बाल सूखे हो जाते हैं बाल झड़ने लगते हैं और बुढ़ापा जल्दी आता है',\n",
              " 'स्वर्ण श्री स्वर्ण मणि अर्का केशव अर्का निधि पन्त ऋतुराज पन्त सम्राट पूसा क्रांति',\n",
              " 'एक कैंसरग्रस्त ट्यूमर एक ट्यूमर है जिसे घातक माना जाता है जिसका अर्थ है कि यह पड़ोसी अंगों में फैलने की क्षमता रखता है जिससे इन क्षेत्रों में पोषक तत्वों की आपूर्ति में कटौती होती है और अंततः गंभीर लक्षण पैदा होते हैं',\n",
              " 'सामान्य तौर पर एक फेलोबोमीस्ट कला सीखने के लिए छह महीने से साल भर के कार्यक्रम में भाग लेता है और कौशल को चालू रखने के लिए प्रति वर्ष लगभग छह घंटे की आवधिक रिफ्रेशर पाठ्यक्रमों के साथ अनुसरण करता है और फेलोबोटॉमी में अग्रिमों के बारे में सीखता है',\n",
              " 'योनि को लाइन करने वाली ग्रंथियां नियमित रूप से एक तरल पदार्थ का उत्पादन करती हैं जो मृत कोशिकाओं को दूर करने योनि को लुब्रिकेट करने और संक्रमण को रोकने के लिए डिज़ाइन किया गया है',\n",
              " 'सीमांत अपरा प्रीविआ की कुछ संभावित जटिलताओं में एनीमिया और रक्तस्राव शामिल हैं यही वजह है कि इस स्थिति वाली महिलाओं को अक्सर प्रसव और प्रसव के बाद करीब से देखा जाता है',\n",
              " '40 से अधिक उम्र के पुरुषों और उत्तरी यूरोपीय विरासत वाले लोगों में ड्यूपिट्रेन की बीमारी अधिक आम है',\n",
              " 'प्रकृति के अनुकूल स्थानों पर बांधों का निर्माण करना',\n",
              " 'कपास और बड़वानी ज़िला · और देखें बाग़ानबाग़ान ऐसा भूक्षेत्र या जलक्षेत्र होता है जहाँ व्यापारिक ध्येय से एक ही प्रकार के पौधे की कृषि करी जाए',\n",
              " 'अधिक विदेशी निवेशक इस उम्मीद के कारण बांड में रुचि रखते हैं कि वे अमेरिकी डॉलर के साथ प्रतिस्पर्धी बन सकते हैं',\n",
              " 'हरी पत्तियां आधारित मत्स्य आहारवर्तमान स्थितिउच्च गुणवत्ता वाले मत्स्य आहार का निर्माणसुबबूलसोयाबीनअल्फाल्फासेस्बानियाकसावामत्स्य पालन वर्तमान में दुनिया भर में सबसे तेजी से बढ़ रहे खाद्य उत्पादक क्षेत्रों में से एक है',\n",
              " 'वास्तव में संतोषजनक प्रतिक्रिया मिलने से पहले इस प्रक्रिया को कई बार दोहराया जाना चाहिए',\n",
              " 'यह दक्षिण एशिया में मलेशिया तथा इंडोनेशिया के बीच में स्थित है',\n",
              " 'देवासंभारत की पहली महिलाएँराजनीति प्रशासनगुजरात की मुख्यमंत्री आनंदीबेन पटेल राष्ट्रपति-प्रतिभा पाटिल प्रधानमंत्री इंदिरा गाँधी केंद्रीय मंत्री राजकुमारी अमृत कौर लोकसभा अध्यक्ष मीरा कुमार राज्यसभा उपसभापति नजमा हेपतुल्ला लोकसभा प्रतिपक्ष नेता सुषमा स्वराज सांसद राधाबाई सुबरायण राज्यपाल-सरोजिनी नायडू मुख्यमंत्री-सुचेता कृपलानी मुस्लिम मुख्यमंत्री-सैयद अनवरा तैमूर दलित मुख्यमंत्री मायावती राजदूत विजय लक्ष्मी पण्डित नोबल पुरस्कार सम्मानित मदर टेरेसा सर्वोच्च न्यायालय में न्यायाधीश फातिमा बीबी आई ए',\n",
              " 'शब्द डिस्प्लेसिया गर्भाशय ग्रीवा के असामान्य सेल परिवर्तनों को संदर्भित करता है',\n",
              " 'मकई हटाने के लिए सामान्य उपचार में मकई को खुरचने के लिए एक प्यूमिस पत्थर का उपयोग करना शामिल है',\n",
              " 'कई बार स्थिति सूक्ष्म हो जाएगी और यहां तक कि समस्या वाले व्यक्ति द्वारा किसी का ध्यान नहीं दिया जाएगा',\n",
              " 'उनका सुधार हाथ द्वारा किया जाता है',\n",
              " 'टेपवर्म संक्रमण पेट के दर्द दस्त कब्ज और वजन घटाने जैसे अन्य कृमि संक्रमणों के लिए कुछ समान लक्षण सहन करता है',\n",
              " 'रेलमार्ग द्वारा गारंटीकृत स्टॉक तब जारी किए जाते हैं जब एक रेलमार्ग संपत्ति के पट्टे के लिए दूसरे के साथ अनुबंध करता है',\n",
              " 'पहली तिमाही में गर्भपात और रक्तस्राव एचपीई के संकेतक या लक्षण भी हो सकते हैं',\n",
              " 'इस चरण में यद्यपि उसका चलना प्रारंभ हो जाता है परंतु अभी पूर्ण शारीरिक संतूलन नहीं आ पाता',\n",
              " 'यदि  ऑफशोर बैंक अकाउंट  शब्द भगोड़े अरबपतियों और संगठित अपराध मालिकों की छवियों को मिलाता है तो वास्तविकता की जांच के लिए तैयार रहें',\n",
              " 'सात वर्ष तक ही बच्चा खिलौनों के साथ खेलना पसंद करता है उसके बाद खिलौनों के साथ खेलने की प्रवृति घटने लगती है',\n",
              " 'एक वर्ष में एक बड़ी खरीद अपने दायित्वों को पूरा करने में असमर्थ कंपनी को छोड़ सकती है भले ही इसके लेखा बयानों से पता चलता है कि इसमें पर्याप्त धन होना चाहिए',\n",
              " 'यह नियमित फलत देने वाली किस्म है जिसके पौधे मध्यम ओजस्वी होते हैं अत इन्हें 6 मी',\n",
              " 'इसके अलावा जो लोग कॉन्टेक्ट स्पोर्ट्स में एथलीटों जैसे बार-बार होने वाले कॉन्सुलेशन का अनुभव करते हैं उन्हें बाद में जीवन में न्यूरोलॉजिकल समस्याएं विकसित होने का खतरा होता है',\n",
              " 'गुलाबी क्रांति झींगा उत्पादन को बढ़ावा देना',\n",
              " 'स्टॉक के फायदे निश्चित भुगतान हैं जो नियमित अंतराल पर होते हैं',\n",
              " 'जल में घुलनशील ठोस उर्वरक',\n",
              " 'मैकमरे परीक्षण के दौरान घुटने के घूमने से उपास्थि में एक आंसू का निदान करने में मदद मिल सकती है',\n",
              " 'किसी भी प्रकार की बीमा योजना के साथ प्रदाताओं को एक राज्य नियामक एजेंसी द्वारा निजी बेरोजगारी बीमा की पेशकश करने के लिए अधिकृत किया जाना चाहिए',\n",
              " 'इंटरस्टीशियल सिस्टिटिस वाले लोग पेल्विक दर्द पेशाब के साथ कठिनाई और मूत्राशय में दर्द का अनुभव करते हैं क्योंकि उनका मूत्राशय भर जाता है या खाली हो जाता है',\n",
              " 'मेगा-ट्रॉपिक्सभ के कक्षा में सात वर्ष सफलतापूर्वक पूर्ण',\n",
              " 'बच्चों में एन्यूरिसिस का उपचार सबसे पहले गैर-औषधि उपायों जैसे कि नमी अलार्म और दिनचर्या बदलने या संज्ञानात्मक चिकित्सा के साथ किया जाता है',\n",
              " 'इन सेवाओं के लिए शुल्क के बारे में पूछते समय आपको सामान्य बैंकिंग शुल्क पर भी जांच करनी चाहिए क्योंकि ये बैंक के आधार पर मुफ्त में काफी भिन्न हो सकते हैं',\n",
              " 'यह गले में खराश पैदा होती है जब पेट के एसिड और पाचन रस शरीर के ऊतकों में दूर खाते हैं',\n",
              " 'पी के डी में यदि सिस्ट का आकार बहुत छोटा हो तो सोनोग्राफी से यह पकड़ में नहीं आती है',\n",
              " 'तरलता अनुपात जिसे कार्यशील पूंजी अनुपात के रूप में भी जाना जाता है वर्तमान व्यावसायिक परिसंपत्तियों और वर्तमान देनदारियों के बीच संबंध निर्धारित करता है',\n",
              " 'अनीमिया के अपने लक्षण हैं जिनमें तालू थकान और सांस फूलने की भावना शामिल है',\n",
              " 'क्योंकि अप्लास्टिक एनीमिया इतना दुर्लभ है कई रोगियों को इसके बारे में तब तक पता नहीं चलता है जब तक उनका निदान नहीं हो जाता है',\n",
              " 'कथन आम तौर पर सारांश होते हैं जिनमें प्रत्येक आय लेनदेन का केवल प्रमुख विवरण शामिल होता है',\n",
              " 'राज्य में बढ़ती जनसंख्या के दबाव एवं उसके अनुरूप रोजगार सृजन न हो पाने के कारण वन संपदा का ह्रास भी तीव्र गति से हो रहा है',\n",
              " 'प्रत्येक मुद्दे में व्यावसायिक दुनिया में व्यक्तियों की प्रोफाइल और कथाएं शामिल हैं उनकी नई परियोजनाएं पुरानी परियोजनाएं अनुभव और इतिहास',\n",
              " 'साथ ही अन्य विभाग उद्यानिकी एवं खाद्य प्रसंस्करण पशुपालन मत्स्य पालन को भी संबद्ध किया गया है',\n",
              " 'जबकि तनाव सामान्य रूप से शरीर के लिए खराब है यह सीधे अल्सर के गठन की ओर नहीं जाता है',\n",
              " 'कुछ देशों में पुनर्वसन ऋण कार्यक्रम सरकारी एजेंसियों के माध्यम से उपलब्ध होते हैं जो पड़ोस के पुनरुद्धार के लिए लक्षित होते हैं',\n",
              " 'मनुष्यों में एंटीबायोटिक दवाओं के सहारे कुछ हद तक इस रोग के चिकित्सा में सफलता पायी गयी है',\n",
              " 'डेरीवेटिव बाजारों में भाग लेने वालों को तीन श्रेणियों में अलग किया जा सकता है',\n",
              " 'परंतु रिजर्व बैंक किसी मामले में ऐसी विवरणियों के दिए जाने के लिए तीन मास की उक्त अवधि को इतनी अतिरिक्त अवधि के लिए बढ़ा सकेगा जो तीन मास से अधिक न हो',\n",
              " 'ऊर्जा फर्म एनरॉन के पतन में इसकी भूमिका के बाद आर्थर एंडरसन पर आरोप लगाया गया था',\n",
              " 'ऐसी किसी सूची के स्थिरीकरण के समय उच्च न्यायालय प्रत्येक ऋणी द्वारा देय रकम के संदाय के लिए आदेश देगा तथा दावा किए गए अनुतोष के बारे में जिसके अंतर्गत किसी प्रत्याभूतिदाता के विरुद्ध अथवा किसी प्रत्याभूति की वसूली के बारे में अनुतोष भी है ऐसे अतिरिक्त आदेश देगा जैसे आवश्यक हों',\n",
              " 'दर्द पेट क्षेत्र में कहीं भी दिखाई दे सकता है लेकिन आमतौर पर पेट के निचले हिस्से में महसूस किया जाता है',\n",
              " 'विटामिन डी और मल्टीपल स्केलेरोसिस के बीच एक अन्य लिंक में शोध से पता चला है कि विटामिन डी की कमी से प्रतिरक्षा प्रणाली खराब होती है',\n",
              " 'किसी मरीज में अगर किडनी संपूर्णरूप से खराब हो गई हो तो ऐसी किडनी को ऑपरेशन द्वारा निकाल दिया जाता है',\n",
              " 'सामान्य तौर पर ध्यान केंद्रित करने वाला व्यक्ति गतिविधि को रोकना नहीं चाहता है और इसलिए गतिविधि को दूर करने के लिए आवश्यक नियंत्रण का उपयोग नहीं करता है',\n",
              " 'अक्षय ऊर्जा परियोजनाएं अक्सर पूंजी-गहन उपक्रम होती हैं क्योंकि जमीन के साथ-साथ तकनीक और उपकरण भी शुरू करने की जरूरत होती है',\n",
              " 'योजना क्रियान्वयन का 50 प्रतिशत राज्य शासन एवं 50 प्रतिशत केन्द्र शासन द्वारा व्यय वहन किया जाता है',\n",
              " 'एक बार शेष राशि निकल जाने के बाद आप उस क्रेडिट कार्ड के लिए वित्त शुल्क का भुगतान नहीं करते हैं',\n",
              " 'यदि ग्राहक एक दंत टैटू चाहता है तो मोल्ड को एक प्रयोगशाला में भेजा जा सकता है जो ऐसी चीजों में माहिर है और एक कुशल कलाकार आमतौर पर टैटू का काम करता है ध्यान से सील होने से पहले दांत पर एक लघु डिजाइन को ध्यान से चित्रित करता है',\n",
              " 'ऑप्टोमेट्रिस्ट द्वारा उपयोग किया जाने वाला मुख्य परीक्षा उपकरण ऑप्टाल्मोस्कोप है',\n",
              " 'लीची की खेती हल्की अम्लीय एवं लेटराइट मिट्टी में भी सफलतापूर्वक की जा रही है',\n",
              " 'एक स्पाइनल टैप में स्पाइनल कैनाल से सुई के साथ स्पाइनल फ्लूड को ड्रॉ करना शामिल है',\n",
              " 'खेती में रासायनिक उर्वरकों का उपयोग न सिर्फ पर्यावरण को बल्कि किसानों को भी प्रभावित करता है',\n",
              " 'आवाजें सुनना और गुस्से में आना',\n",
              " 'बच्चे को पानी से नहीं नहलाना चाहिए',\n",
              " 'यह दस्तावेज़ खरीदार को भी बचाता है क्योंकि उसे माल के लिए पूर्व भुगतान नहीं करना पड़ता है जब तक कि यह पुष्टि न हो जाए कि माल वास्तव में भेज दिया गया है',\n",
              " 'आम्रपाली नियमित रूप से फलने वाली बौनी प्रजाति है',\n",
              " 'एक हामीदारी स्थिति में एक व्यवसाय वास्तव में सार्वजनिक निवेशकों को सीधे आम स्टॉक नहीं बेचता है',\n",
              " 'हालांकि आग लगने पर वे बेहद उपयोगी हो सकते हैं',\n",
              " 'इस परिदृश्य में धान-गेहूँ-मूंग फसल प्रणाली को संरक्षण खेती के सिद्धांतों को ध्यान में रखते हुये लगाया गया जिसमें सभी फसलों को जीरो-टिलेज के तहत उगाया जाता है',\n",
              " 'ऐसा करने से बढ़ती लागतों के लिए अस्पष्ट संदर्भ प्राप्त करने और नए मूल्य निर्धारण के आसन्न कार्यान्वयन की घोषणा को कम करने में मदद मिलेगी',\n",
              " 'इस योजनान्तर्गत भारत सरकार के नये दिशा-निर्देश के आलोक में नवीनतम प्रभेद के बीज की पहुँच ग्रामीण क्षेत्रों में करने हेतु धान एवं गेहूँ के 10 वर्षों से कम अवधि के प्रभेद के बीज पर अनुदान अनुमान्य किया गया है जबकि दलहन एव तेलहन फसलों हेतु 15 वर्षों से कम अवधि के प्रभेद के बीज पर अनुदान अनुमान्य किया गया है',\n",
              " 'दक्षिण भारतीय परिस्थितियों में जहां मानसून की शुरुआत जल्दी होती है इसके रोपण का समय फरवरी-अप्रैल है',\n",
              " 'यदि कोई शुद्ध लाभ है जो कि भुगतान की गई राशि है किसी अन्य अनुबंध सीमाओं के अधीन है',\n",
              " 'यह द्वितीयक बाजार की तुलना में बहुत कम सक्रिय बाजार है जहां निवेशक उन कंपनियों में व्यापार करते हैं जो पहले से ही सार्वजनिक रूप से आयोजित की जाती हैं',\n",
              " 'हालांकि फागोफोबियास एनोरेक्सिक के विकृत शरीर की छवि से ग्रस्त नहीं है और खाने के लिए नहीं चुनते हैं',\n",
              " 'इसलिए सभी हरी पत्तीदार सब्जियों को दूषित होने से रोकने के लिए उन्हें अच्छी तरह से पानी से धोना चाहिए ताकि अतिसार से बचा जा सके',\n",
              " 'रोगी को अस्पताल से रिहा करने के बाद चिकित्सा कर्मचारी स्व-देखभाल पर विस्तृत निर्देश प्रदान करेंगे',\n",
              " 'इन ट्यूमर को एक असंबद्ध चिकित्सा स्थिति के लिए एक परीक्षा के दौरान सबसे अधिक पहचाना जाता है हालांकि वे कभी-कभी लक्षणों का कारण बनते हैं जिसके कारण लक्षणों की वजह तलाशते हुए डॉक्टर उन्हें पहचानते हैं',\n",
              " 'अन्य शारीरिक दुष्प्रभावों में पीलिया स्तन कोमलता या वृद्धि और बालों का झड़ना शामिल हो सकता है',\n",
              " 'उदाहरण के लिए यदि बेचा गया स्टॉक लंबी दूरी की सेवा प्रदाता के साथ जुड़ा हुआ था तो निवेशक एक कॉन्फ्रेंस ब्यूरो में शेयर खरीदकर स्टॉक को बदलने का विकल्प चुन सकता है',\n",
              " 'मसूड़ों में उन्नत मसूड़ों की बीमारी भी हो सकती है',\n",
              " 'ये क्रिस्टल वैध रूप से विभिन्न उत्पादों में बेचे और उपयोग किए जाते हैं',\n",
              " 'वार्षिकी जारी करने वाली फर्म आम तौर पर खाताधारक को एक निर्दिष्ट भविष्य की तारीख पर एकमुश्त पैसा देने के लिए सहमत होती है',\n",
              " 'कैलाश चौधरी बताते हैं कि प्रोसेसिंग के लिए हम तैयार तो हो गए लेकिन जब तक पूरी तरह से ट्रेनिंग न ली गई हो उसकी सफलता पर सवाल खड़ा होता है',\n",
              " 'दलहनों में अन्य फसलों की तुलना में विपरीत वातावरण के प्रति अधिक अनुकूलता पाई जाती है',\n",
              " 'वास्तव में कुछ न्यायालयों को एक मकान मालिक को ब्याज-असर वाले खाते में पैसा लगाने की आवश्यकता होती है',\n",
              " 'आधुनिक समय में बड़ी मात्रा में मुद्रा धारण करने के विकल्प के रूप में सोना अधिक माना जाता है',\n",
              " 'अस्पताल आधारित पद्धति के बावजूद बहुत बड़े – बड़े अस्पतालों और नर्सिंग होमों के अपने रक्त बैंक नहीं है और इससे अकेले प्राइवेट रक्त बैंकों का प्रचुरोद्भाव हुआ है',\n",
              " 'जब रक्त में कार्बन डाइऑक्साइड का स्तर सामान्य से अधिक बढ़ जाता है तो इससे शरीर का पीएच बदल जाता है जिससे यह सामान्य से कम और अधिक अम्लीय हो जाता है',\n",
              " 'मिट्टी को बदलने के लिए डिस्क हैरो से आवधिक खेती करना और गहरी परतो में पोषक तत्वों को देना आवश्यक है',\n",
              " 'बहुत अधिक विविधीकरण से निवेश पर ध्यान देना मुश्किल हो सकता है जिससे निवेश में त्रुटियां हो सकती हैं जो कि बड़े पैसे खर्च कर सकती हैं',\n",
              " 'कई निवेशक मिड-कैप पसंद करते हैं क्योंकि उनके पास लंबे समय से स्थापित बड़े-कैप की तुलना में ऊपर की ओर बढ़ने की अधिक संभावना है',\n",
              " 'जब एक कंपनी उच्च नकदी संतुलन बनाए रखने या पूंजीगत उपकरणों में लाभ को पुनर्निवेश करने का फैसला करती है तो उच्च बिक्री की मात्रा वर्तमान परिसंपत्तियों को बढ़ा सकती है',\n",
              " 'सिंडिकेट बैंक सिंडिकेट बैंक भारत के सबसे पुराने और प्रमुख वाणिज्यिक बैंकों में से एक है जिसका मुख्यालय मणिपाल शहर के विश्वविद्यालय में है',\n",
              " 'सर्कुलेशन फैक्टर सहित कुल वर्गाकार फुटेज का अनुमान लगाना संभव है एक साधारण फार्मूले के साथ प्रयोग करने योग्य वर्गाकार फुटेज को 1.35 से गुणा करना',\n",
              " 'अंतर्निहित चिकित्सा समस्याओं के लिए उपचार प्रदान करना महत्वपूर्ण है या रक्तस्राव पुनरावृत्ति हो सकता है और आंख से समझौता किया जा सकता है',\n",
              " ...]"
            ]
          },
          "metadata": {},
          "execution_count": 10
        }
      ]
    },
    {
      "cell_type": "code",
      "source": [
        "import random\n",
        "random.shuffle(without_punc)"
      ],
      "metadata": {
        "id": "IXvZDGSscTV3"
      },
      "execution_count": null,
      "outputs": []
    },
    {
      "cell_type": "code",
      "source": [
        "test_without_punc=without_punc[0:10000]"
      ],
      "metadata": {
        "id": "XPW96JJT14dB"
      },
      "execution_count": null,
      "outputs": []
    },
    {
      "cell_type": "code",
      "source": [
        "len(test_without_punc)"
      ],
      "metadata": {
        "colab": {
          "base_uri": "https://localhost:8080/"
        },
        "id": "OOfnWu2Y2OuS",
        "outputId": "fa4af6ff-4a04-495c-d784-f0532fc62ec7"
      },
      "execution_count": null,
      "outputs": [
        {
          "output_type": "execute_result",
          "data": {
            "text/plain": [
              "10000"
            ]
          },
          "metadata": {},
          "execution_count": 66
        }
      ]
    },
    {
      "cell_type": "code",
      "source": [
        "train_without_punc=without_punc[10000:]"
      ],
      "metadata": {
        "id": "-2-xrjYg2kku"
      },
      "execution_count": null,
      "outputs": []
    },
    {
      "cell_type": "code",
      "source": [
        "len(train_without_punc)"
      ],
      "metadata": {
        "colab": {
          "base_uri": "https://localhost:8080/"
        },
        "id": "FcTlSPlO2rmf",
        "outputId": "75692ac0-c8f7-4a7c-bf3d-76f301506c4a"
      },
      "execution_count": null,
      "outputs": [
        {
          "output_type": "execute_result",
          "data": {
            "text/plain": [
              "391109"
            ]
          },
          "metadata": {},
          "execution_count": 68
        }
      ]
    },
    {
      "cell_type": "code",
      "source": [
        "import random\n",
        "random.shuffle(with_punc)"
      ],
      "metadata": {
        "id": "lU1l15DG-zDe"
      },
      "execution_count": null,
      "outputs": []
    },
    {
      "cell_type": "code",
      "source": [
        "test_with_punc=with_punc[0:10000]"
      ],
      "metadata": {
        "id": "l3EXtcs_-7Tc"
      },
      "execution_count": null,
      "outputs": []
    },
    {
      "cell_type": "code",
      "source": [
        "len(test_with_punc)"
      ],
      "metadata": {
        "colab": {
          "base_uri": "https://localhost:8080/"
        },
        "id": "IGXLmKzU-_XH",
        "outputId": "55244ccd-3517-47e1-c503-5b0d5f90c0a7"
      },
      "execution_count": null,
      "outputs": [
        {
          "output_type": "execute_result",
          "data": {
            "text/plain": [
              "10000"
            ]
          },
          "metadata": {},
          "execution_count": 70
        }
      ]
    },
    {
      "cell_type": "code",
      "source": [
        "train_with_punc=with_punc[10000:]"
      ],
      "metadata": {
        "id": "lHBhzf_I_Ajj"
      },
      "execution_count": null,
      "outputs": []
    },
    {
      "cell_type": "code",
      "source": [
        "len(train_with_punc)"
      ],
      "metadata": {
        "colab": {
          "base_uri": "https://localhost:8080/"
        },
        "id": "4p2tgu0S_YXc",
        "outputId": "d4a37d42-1ce9-4e07-d3ad-53c68d9bcf2a"
      },
      "execution_count": null,
      "outputs": [
        {
          "output_type": "execute_result",
          "data": {
            "text/plain": [
              "391109"
            ]
          },
          "metadata": {},
          "execution_count": 72
        }
      ]
    },
    {
      "cell_type": "code",
      "source": [
        ""
      ],
      "metadata": {
        "id": "OHsyCVUZ_EPH"
      },
      "execution_count": null,
      "outputs": []
    },
    {
      "cell_type": "code",
      "source": [
        "from sklearn.model_selection import train_test_split\n",
        "train_without_punc, test_without_punc = train_test_split(without_punc, test_size = 0.2)"
      ],
      "metadata": {
        "id": "nliw1uBV3Gtf"
      },
      "execution_count": null,
      "outputs": []
    },
    {
      "cell_type": "code",
      "source": [
        "train_without_punc"
      ],
      "metadata": {
        "colab": {
          "base_uri": "https://localhost:8080/"
        },
        "id": "bIUJ9NLb3VPw",
        "outputId": "0cf1c974-8d5d-4fbe-b034-019aaecd7f84"
      },
      "execution_count": null,
      "outputs": [
        {
          "output_type": "execute_result",
          "data": {
            "text/plain": [
              "['सोने के मूल्यांकन के लिए सोने के परीक्षण उपकरण उपयोगी होते हैं हालांकि कुछ सोने के परीक्षकों में अन्य लोगों की तुलना में अधिक विशेषताएं और बेहतर सटीकता होती है',\n",
              " 'इससे यह सुनिश्चित करने में मदद मिलती है कि पहनने वाला ठीक से देख सकता है और लेंस को मलबे से खरोंचने से भी बचा सकता है',\n",
              " 'इसके विपरीत अधिक परिपक्व हो जाने पर जब इनको वृक्षों से तोड़ा जाता है तो इनकी भण्डारण क्षमता भी कम हो जाती है',\n",
              " 'अवरोही बृहदान्त्र का कैंसर बीमारियों के लिए सबसे गंभीर है',\n",
              " 'बाइंडर सिंड्रोम के विकास में पर्यावरणीय कारणों को प्रदर्शित करने के लिए अभी तक कोई सबूत नहीं मिला है',\n",
              " 'वहाँ से उस आरंभिक सूची के किसी भी खरीद या परिवर्धन को ध्यान में रखा जाता है और अवधि के पहले दिन हाथ से सूची के साथ बंडल किया जाता है जिससे उस अवधि के लिए कुल सूची के रूप में जाना जाता है',\n",
              " 'जब पहली बार 1993 में परीक्षण का उपयोग किया गया था तो डॉक्टरों ने मिश्रित संकेतों को प्राप्त करने से बचने के लिए विद्युत तरंगों और रक्त-ऑक्सीजन के स्तर में अलग-अलग बदलाव दर्ज किए',\n",
              " 'केन्द्रीय प्रयोगशाला मत्स्य निदेशालय 7 फैजाबाद रोड लखनऊ में स्थित है',\n",
              " 'जबकि विरासत में मिला स्टॉक अक्सर कृतज्ञता के साथ स्वीकार किया जाता है यह याद रखना महत्वपूर्ण है कि इस प्रकार की संपत्ति का स्वागत भी वित्तीय बोझ का कुछ पैदा कर सकता है',\n",
              " 'आंतरिक राजस्व सेवा करदाताओं को किसी भी कर वर्ष के दौरान भुगतान किए जाने वाले कर की कुल राशि के बारे में कुछ कटौती करने की अनुमति देता है',\n",
              " 'यह अनुमान है कि 20-30 प्रतिशत गर्भवती महिलाएं गर्भावस्था में अतिरिक्त कफ से पीड़ित होती हैं',\n",
              " 'डेयरी उत्पाद औसत व्यक्ति के आहार में कैल्शियम का एक प्रमुख स्रोत हैं इसलिए यह महत्वपूर्ण है कि लैक्टोज असहिष्णु बच्चों के माता-पिता एक और कैल्शियम स्रोत प्रदान करें',\n",
              " 'राष्ट्रीय जैविक खेती केन्द्र ने अब तक केवल जेव उर्वरक एक केन्द्र के रूप में प्रभावी ढंग से कार्य किया है',\n",
              " 'बीज पौधों में मातृ वृक्षों के समान गुण नहीं आ पाते हैं',\n",
              " 'खादी वस्त्रों की विशेषता है कि ये शरीर को गर्मी में ठण्डे और सर्दी में गरम रखते हैं',\n",
              " 'कुछ मामलों में विक्रेता वित्तपोषण प्राप्त करने में खरीदार की सहायता के लिए खरीदार की बंधक कंपनी द्वारा मूल्यांकन किए गए बिंदुओं का भुगतान करने की पेशकश कर सकता है',\n",
              " 'लक्षणों में हड्डी में दर्द थकान आवर्तक संक्रमण और आसानी से अस्थिभंग शामिल हो सकते हैं',\n",
              " 'कुछ मामलों में महाधमनी भी फट सकती है जिससे मृत्यु हो सकती है',\n",
              " 'सरकारें सार्वजनिक परियोजनाओं जैसे सड़क या नए स्कूल निर्माण के लिए धन जुटाने के लिए बांड जारी करती हैं जबकि निगम विलय और अधिग्रहण के लिए आवश्यक राजस्व जुटाने के लिए बांड जारी करते हैं',\n",
              " 'पशुओं में जुगाली करने की प्रकिया चारे के आकार पर भी निर्भर करती है इसलिए रेशा चारे चारे के आकार कम से कम 1.2 मि मि होना चाहिए',\n",
              " 'अगले वर्ष तक यह मशीन मार्केट में उपलब्ध हो जाएगी',\n",
              " 'जब कैंसर के निदान वाले रोगियों में जलोदर विकसित होता है तो इसे अक्सर घातक जलोदर कहा जाता है',\n",
              " 'क्रॉस ट्रेड के लिए एक समान अभ्यास मिलान आदेशों के रूप में जाना जाता है',\n",
              " 'आधुनिक खेती की जरूरत जानें प्रोफेसर मोहिंदर सिंह से',\n",
              " 'जिला स्तर पर सम्बन्धित विभागों के प्रसार कार्यकर्ताओं एवं कृषि विज्ञान केन्द्रों के तकनीकी ज्ञान वर्द्धन के उद्धेश्य हेतु प्रत्येक कृषि विश्व विद्यालय में कृषि तकनीकी सूचना केन्द्र की स्थापना एवं सुदृढ़ीकरण',\n",
              " 'मनोचिकत्सीय दवाओं के सह-प्रभावों को याद रखें अगर कोई शिकायत इन सह-प्रभावों में से मेल नहीं खाती तो इसके कारणों के बारे में सोचें',\n",
              " 'यदि आप संदिग्ध प्रतिष्ठा के व्यवसाय में काम करते हैं तो ऑडिट होने की संभावना बढ़ जाती है',\n",
              " 'जब जमा कर्मचारी के खाते में पोस्ट किया जाता है तो सभी फंड आमतौर पर तुरंत उपलब्ध होते हैं',\n",
              " 'कुछ व्यक्ति ध्यान करते समय वृद्धि और एड्स का उपयोग करना पसंद करते हैं जैसे कि अगरबत्ती मोमबत्तियाँ और आवश्यक तेल',\n",
              " 'जब किसी व्यवसाय में सकारात्मक रूप से बनाए रखा गया नकदी प्रवाह विशेष रूप से एक बड़ा प्रवाह होता है तो आमतौर पर इसका मतलब है कि व्यवसाय सफल है',\n",
              " 'भारतीय कृषि अनुसंधान में अंगूर की खेती जननद्रव्य के संग्रहण नए जीन प्ररूपों के प्रजनन वृद्धि नियामकों के इस्तेमाल सस्य तकनीकों के मानकीकरण और कटाई उपरांत प्रौद्योगिकी पर वर्ष 1956 मं अनुसंधान कार्य शुरू किया गया',\n",
              " 'सहकारी विस्तार सेवा मानक तरबूज किस्मों इस फसल के परागण जरूरतों को पूरा करने के लिए प्रति एकड़ एक मधु मक्खी छत्ता सिफारिश की',\n",
              " 'गूदे में रेशे एवं बीज की मात्रा कम पायी जाती है',\n",
              " 'कतार विधिः इस विधि में बीज की बुआई 30 सें मी की दूरी पर बनी कतारों में करनी चाहिए',\n",
              " 'बैंक सुलह कथन एक दस्तावेज है जिसका उपयोग बैंक के उन लोगों के साथ व्यक्तिगत लेखांकन रिकॉर्ड की तुलना करने के लिए किया जाता है',\n",
              " 'यह खेती की एक ऐसी समूह पद्धति है जिसमें उर्वरकों एवं कीटनाशी रसायनों का प्रयोग नहीं किया जाता है',\n",
              " 'बस सामान्य ज्ञान प्राप्त करने की कोशिश करें कि पठन किस बारे में है',\n",
              " 'निजी खाते नाटकीय रूप से एक बैंक की संपत्ति में वृद्धि करते हैं जो प्रतियोगियों को धनी ग्राहकों को चोरी करने से दूर रखने के लिए सर्वोत्तम सेवा प्रदान कर सकता है',\n",
              " 'इन समझौतों का उपयोग अक्सर तब किया जाता है जब कोई कंपनी चाहती है कि कोई कर्मचारी प्रशिक्षण वर्ग या सेमिनार में भाग लेने के बाद अपने कौशल को सुधारने के लिए नौकरी पर आए',\n",
              " 'जैविक बागवानी में पौधारोपण कैसे करें ऐसे किसान भाई बहन जो जैविक बागवानी और जून – जुलाई में पौधारोपण करना चाहते हैं वह पौधारोपण से पहले इन क्रियाओं को अच्छी तरह समझ ले और इनका पालन अवश्य करें',\n",
              " 'जल-प्रसार क्षेत्र के अनुसार जलाशयों का श्रेणीकरण',\n",
              " 'इसकी भारत में विभिन्न प्रजातियाँ पाई जाती हैं जिनका विवरण निम्न प्रकार है',\n",
              " 'अब एक-एक करके सारे चूजों को इलेक्ट्रल पाउडर या ग्लूकोज मिला पानी पिलाकर ब्रूडर के नीचे छोड़ते जायें',\n",
              " 'उपहार कर का भुगतान करने से बचने के लिए लोगों को प्रदान किए गए धन का दावा करने की आवश्यकता होती है लेकिन आईआरएस व्यक्ति को एक ब्याज दर निर्दिष्ट कर सकता है जो उन्हें आय के रूप में इकट्ठा करने की उम्मीद करते हैं',\n",
              " 'तब उसे सीड बेड में डालकर अंकुरण करा लेते है',\n",
              " 'लोग अक्सर रिटायर होने से पहले वार्षिकी खोलने का निर्णय लेते हैं क्योंकि यह आजीवन धन प्रदान कर सकता है',\n",
              " 'यह ध्यान में रखते हुए कि मरीज ने एक्स-रे क्यों करवाया और कितनी फिल्में लीं एक रेडियोलॉजिस्ट को यह निर्धारित करने में सक्षम होना चाहिए कि चौड़ा मीडियास्टीनम एक चिकित्सा चिंता है या एक्स-रे गड़बड़ है',\n",
              " 'उनका उपयोग नियमित रूप से किया जा सकता है लेकिन जो लोग समय-समय पर घरघराहट का शिकार होते हैं वे अल्बूटेरोल जैसे लघु अभिनय बीटा एगोनिस्ट का भी उपयोग कर सकते हैं जो सांस लेने में कठिनाई के अचानक शुरू होने के लिए अधिक प्रभावी होता है',\n",
              " 'फसल चक्र में खाद्यान्न फसलों के साथ दलहनी फसलों को भी उगाना चाहिए',\n",
              " 'एक एकड़ में नर्सरी उगाने वाले किसानों को 6,500 रू॰ की सहायता प्रदान की जाती है तथा बिचड़ा वितरण मद में किसानों द्वारा बिचड़ा क्रय करने के विरूद्ध एक एकड़ रोपनी हेतु एक हजार रू॰ अनुदान अनुमान्य है',\n",
              " '19 बजे आई आर एन एस एस 1आई का पहला कक्षा संवर्धन प्रचालन आयोजित करने की योजना बनाई गई है',\n",
              " 'इसलिए सलाह दी जा रही है कि अवसर का लाभ उठाएं और हानि पहुंचाने वाले सभी खरपतवार की पहचान कर हर्बी साइडस का उपयोग करें',\n",
              " 'टाइम्पोमीटर एक हाथ से पकड़ी जाने वाली जांच है जिसे कान में रखा जाता है',\n",
              " 'एक विद्युत आवेग से दूसरे इलेक्ट्रोड तक जाने में लगने वाला समय तंत्रिका चालन की गति को इंगित करता है',\n",
              " 'कम कीमतों से अधिक मांग आएगी जिससे कीमतें बढ़ेंगी',\n",
              " 'कुछ सहबद्ध कार्यक्रम सहबद्धों को सीपीएस के लिए मासिक प्रतिशत अर्जित करने की अनुमति देते हैं जैसे कि हर महीने 10 प्रतिशत मुनाफा जबकि अन्य एक बार भुगतान करते हैं और संबद्ध उस ग्राहक से कोई अतिरिक्त पैसा नहीं कमाते हैं',\n",
              " 'खेत में करेले की फसल लगाने के लिए सर्वप्रथम पौधों की कतार से कतार एवं पौधे की दूरी का ज्ञान होना आवश्यक है जो कि तालिका में दिया हुआ है',\n",
              " 'म्यूचुअल फंड की तुलना में ईटीएफ में अपेक्षाकृत कम वार्षिक शुल्क होता है',\n",
              " 'अन्य खाद्य पदार्थों की तुलना में बड़ी मात्रा में शर्करा या कार्बोहाइड्रेट समृद्ध खाद्य पदार्थ रक्त शर्करा में परिवर्तित हो जाते हैं',\n",
              " 'यदि किसी रोगी को खूनी पेशाब या संक्रमण या नवोप्लाज्म के अन्य लक्षण जैसे कि पेशाब करने में कठिनाई दर्दनाक पेशाब तेज महक वाला पेशाब मल मूत्र त्यागना और बार-बार पेशाब करने की इच्छा हो तो मूत्र कोशिकाविज्ञान का अनुरोध किया जा सकता है',\n",
              " 'संघीय परिवार शिक्षा ऋण कार्यक्रम से पहले उच्च-मध्यम परिवारों के लिए अपने बच्चों को उच्च शिक्षा के लिए भेजने का खर्च उठाना बहुत महंगा था',\n",
              " 'सबसे पहले गैर-लाभकारी संगठन को उन सभी खर्चों की सूची देनी चाहिए जो संगठन को पूरे वर्ष में होने की उम्मीद है',\n",
              " 'उड़ीसा किसान श्री देबहरि गौड़ा',\n",
              " 'जानकारों के मुताबिक केंद्र सरकार रुई के एक्सपोर्ट',\n",
              " 'क्यारियों के मध्य वाली नालियों में पानी से संतृप्त कर देते हैं',\n",
              " 'गोबर की खाद में मिलाकर हल्के पानी का छींटा देकर 8-10 दिन तक छाया में रखने के उपरान्त बुआई के पूर्व आखिरी जुताई पर भूमि में मिला देने से दीमक सहित भूमि जनित कीटों का नियंत्रण हो जाता है',\n",
              " 'जांचें कि क्या प्रीमियम को ऋण के हिस्से के रूप में वित्तपोषित किया गया है',\n",
              " 'सीटी स्कैन शरीर के अन्दर की संरचना हर ओर से इंच बाई इंच पढ़ी जा सकती है',\n",
              " 'उसके अलावा प्रत्येक दूध के उत्पादन पर 200 ग्राम दाना अलग से देना चाहिए',\n",
              " 'दुनिया के कई क्षेत्रों में एक शीर्षक विलेख उस व्यक्ति पर कुछ अधिकारों और विशेषाधिकारों को स्वीकार करता है जो इसे धारण करते हैं और ऐसे कार्य उन परिस्थितियों में आवश्यक हैं जहां लोग अपनी संपत्ति के स्वामित्व को स्थानांतरित करना चाहते हैं',\n",
              " 'जो लोग पहले रूट कैनाल कर चुके होते हैं या जिनके दांतों में बहुत बड़ी फिलिंग होती है वे भी फटे दांत का अनुभव कर सकते हैं',\n",
              " 'कुछ वायर ट्रांसफर सेवाओं को एक टेलीफोन नंबर की भी आवश्यकता होगी ताकि प्रेषक को स्थानांतरण के साथ किसी भी देरी या अन्य मुद्दों के बारे में सूचित किया जा सके',\n",
              " 'इसका अर्थ अक्सर यह होता है कि विशिष्ट घटनाओं को होना चाहिए या सुरक्षा को बुलाए जाने से पहले निश्चित समय बीत जाना चाहिए',\n",
              " 'राष्ट्रीय कृषि विकास योजना',\n",
              " 'जिससे पौधों में प्रकाश संश्लेषण की प्रक्रिया प्रभावित होती है',\n",
              " 'संयुक्त खाता कानून आम तौर पर एक जीवित खाते के मालिक को संयुक्त खाते में किसी भी शेष धनराशि तक एकमात्र पहुंच प्राप्त करने की अनुमति देता है',\n",
              " 'कीटों व कमरतोड़ रोग से बचाव के लिए 0.25 प्रतिशत इंडोफिल एम 45 या 2 ग्राम ट्राईकोडर्मा हाजिॅएनम प्रति लिटर पानी में मिलाकर छिडकाव करें तथा 2 मि लि प्रति लिटर पानी के हिसाब से मेलाथीयोन या एण्डोसल्फान का छिडकाव समय-समय पर करते रहें',\n",
              " 'ग्रसित पौधे झाड़ीनुमा बौने रह जाते हैं',\n",
              " 'व्यवसाय मूल्य निर्धारण और उत्पादन लक्ष्यों से संबंधित निर्णय लेने में मदद करने के लिए इस जानकारी पर भरोसा करते हैं',\n",
              " 'आप 5 साल से अधिक का ऋण ले सकते हैं और फिर परिस्थितियां बदल सकती हैं और आप इसे जल्द वापस भुगतान कर सकते हैं',\n",
              " 'अशुद्ध स्थितियों में टाइफस एक व्यक्ति से दूसरे व्यक्ति में आसानी से जा सकता है',\n",
              " 'आवश्यकता होने पर धान रोपने के 35 एवं 55 दिनों के बाद मिथाईल डिमेटोन का छिड़काव् करना चाहिए',\n",
              " 'नमी के प्रवेश को रोकने के लिए पालीथीन या नायलाँन थैलो में पैक किया जाना चाहिए',\n",
              " 'रेगुलेशन डब्ल्यू संयुक्त राज्य अमेरिका में फेडरल रिजर्व द्वारा स्थापित एक दिशानिर्देश है जो वित्तीय संस्थानों जैसे कि बैंकों और संबद्धों के साथ उनके वित्तीय लेनदेन के लिए नियम और दिशानिर्देश निर्धारित करता है',\n",
              " 'फिल्टर पेपर पर लाल पीले रंग उभरने पर एनैटो कलर की उपस्थिति संभावित होती है',\n",
              " 'जब एक बायोप्सी किया जाता है तो डॉक्टर को इस बारे में जानकारी देने में सक्षम होना चाहिए कि रोगी को परिणामों के लिए कितने समय तक इंतजार करना होगा',\n",
              " 'यह मांग पर देय है कभी-कभी सोने और चांदी जैसी कीमती धातुओं के रूप में और कभी-कभी बैंक द्वारा जारी किए गए बॉन्ड जैसी परिसंपत्तियों के बदले',\n",
              " 'यदि ये उपाय प्रभावी नहीं हैं या स्कोलियोसिस उनके लिए बहुत गंभीर है तो ब्रेसिंग पर विचार किया जा सकता है',\n",
              " 'वे इन परिस्थितियों में निवेशक द्वारा मूल रूप से परिकल्पित किए गए रिटर्न की उपज की संभावना नहीं रखते हैं',\n",
              " 'हालांकि ये लागत गैर-आवश्यक हो सकती हैं फिर भी वे किसी व्यक्ति के जीवन जीने के लिए आवश्यक लागत हैं जिस तरह से वह आदी है',\n",
              " 'बच्चों और शिशुओं में ग्रहणी बाधा के कुछ सबसे सामान्य कारणों में एक अविकसित ग्रहणी लुमेन भी शामिल है जिसे ग्रहणी चैनल के रूप में भी जाना जाता है जिसे ग्रहणी हाइपोप्लेसिया कहा जाता है एक संकीर्ण ग्रहणी संबंधी लुमेन जिसे ग्रहणी स्टेनोसिस कहा जाता है और एक विकृत ग्रहणी लुमेन जिसे डुओडेनल एट्रेसिया कहा जाता है',\n",
              " 'हाइपोग्लाइसेमिक एपिसोड रक्त शर्करा की सांद्रता में तेज गिरावट है जिससे विभिन्न प्रकार के लक्षण होते हैं',\n",
              " 'शरीर को पर्याप्त मात्रा में कैलोरी मिले उसके लिए अनाज एवं दालों के साथ चीनी अथवा ग्लूकोज की अधिक मात्रा वाले आहार का उपयोग किया जा सकता है',\n",
              " 'शीर्षस्थ गाउट वाले लोगों में गंभीरता में लक्षण बढ़ जाते हैं क्योंकि मोनोसोडियम यूरेट का जमा बड़ा हो जाता है',\n",
              " 'सजाती हैं आरती के थाल पहनती हैं भारतीय पोशाकें तीज-त्योहारों पर',\n",
              " 'आयुर्वेद के अनुसार कुष्ठ रोग की अधिकांश दवाओं में नीम मिलायी जाती है',\n",
              " 'डेयरी फार्म खोलने का तरीकास्टेप 1 मार्केट की जानकारी – डेयरी फार्म बिज़नेस शुरू करने से पहले आपको पूरी मार्केट रिसर्च करनी होगी',\n",
              " 'हिन्दू धर्म में मांस खाना मना है या नहीं है इस संबंध में कई लोगों के मन में भ्रम है',\n",
              " 'चलो एक समय में दृढ़ लकड़ी और सॉफ्टवुड को देखते हैं',\n",
              " 'एलर्जी गंभीरता में भिन्न हो सकती है और कभी-कभी खाद्य एलर्जी होंठों और मुंह के आसपास कुछ हल्के असुविधा तक सीमित होती है',\n",
              " 'प्लेबैक आपके उपकरण पर नहीं हो पा रहावीडियो कैप्शन चीन अपने अंतरिक्ष केंद्र से क्या हासिल करना चाहता है',\n",
              " 'पेंशन योजनाएं कानून के तहत विशेष कर लाभ प्राप्त करती हैं जब तक कि वे दिशानिर्देश निर्धारित करने का पालन नहीं करते हैं',\n",
              " 'इसलिए इसका इस्तेमाल ऐसे क्षेत्रों में किया जा सकता है जहां सूखा पड़ता है',\n",
              " 'भारी नुकसान विशेष रूप से युवा पौध अवस्था में होता हैं जिससे पौधों में पूर्ण रूप से पतझड़ हो जाता है तथा प्रभावित पौधों में फलझड़ होने लगता है और फल पीले पड़ जाते हैं',\n",
              " 'यदि खराब आसन गर्दन में दर्द का कारण है तो शरीर के संरेखण को बदलकर इसे ठीक किया जा सकता है',\n",
              " 'नियंत्रण में काम करने वाले कर्मचारियों का अवलोकन करना भी इन परीक्षणों का एक हिस्सा हो सकता है',\n",
              " 'पुरस्कार हस्तनिर्मित रजाई से लेकर स्पा उपहार प्रमाण पत्र तक भिन्न हो सकते हैं',\n",
              " 'अंतर मूल्य निर्धारण प्राप्त करने के लिए कुछ विशिष्ट समूहों में वरिष्ठ नागरिक बच्चे परिवार छात्र और सैन्य कर्मी शामिल हैं',\n",
              " 'इन्हें चार भागों में बाँटा गया है',\n",
              " 'हालाँकि गृह बीमा दावा दाखिल करते समय आपको जिन सामान्य दस्तावेजों को संभाल कर रखने की आवश्यकता है वे हैं विधिवत भरा हुआ और आपके द्वारा हस्ताक्षरित दावा प्रपत्रघटना का संक्षिप्त सारांशनुकसान की सीमा और दुर्घटना की प्रकृति की व्याख्या करने वाले घटना के साक्ष्य',\n",
              " 'जो लोग अंशकालिक आधार पर स्कूल लौटते हैं वे भी ऋण का भुगतान कर सकते हैं',\n",
              " 'आयुर्वेद में अलसी को दैविक भोजन माना जाता है',\n",
              " 'बहुत सारे अंडे बनते हैं लेकी न एक ही गर्भाशय तक पहुंचता है',\n",
              " 'प्रयोग के बाद सूती पट्टी को खोलकर धोकर रोज धुप में सूखा लेना चाहिए तथा ऊनी पट्टी को भी धुप में डाल लेना चाहिए',\n",
              " 'नर फूल जिसकी सतह अपेक्षाकृत चिकनी होती है नवम्बर-दिसम्बर में पेड़ की पतली शाखाओं पर आते हैं',\n",
              " 'नीति और क़ानूनी रुपरेखा की समीक्षा करनी होगी जिसके अंतर्गत सहकारिताएं कार्य कर रही हैं जिससे कि उनके लिए समर्थनकारी परिवेश कायम हो सके और राज्य कानूनों द्वारा आरोपित कठोर नियंत्रणों और विनिमयों के बगैर अपने कामकाज व्यवसायिक जैसे ढंग से चलाने के लिए स्वायत्तता प्राप्त हो सके',\n",
              " 'पकाए समय बीच – बीच में पोटली को दबाते रहें ताकि उसका तत्व जूस में आ जाये',\n",
              " 'रासायनिक खादों के उपयोग से पौधों की जल आवश्यकता ज्यादा होती है',\n",
              " 'मानसिक आघात के कारण अलग-अलग होते हैं और इसमें कम सामान्यतः पहचानी जाने वाली भावनात्मक चोटें शामिल हो सकती हैं जैसे कि एक भयभीत वस्तु के साथ टकराव खो जाना या जन्म भी',\n",
              " 'प्रबंध संचालक म प्र राज्य कृषि विपणन बोर्ड –सदस्य सचिव',\n",
              " 'मानसिक विधि न्याय तथा कंपनी मामलों का मंत्रालय',\n",
              " 'रेडॉन रेडियोधर्मी है लेकिन खुले में ज्यादा समस्या नहीं है',\n",
              " 'ऑस्ट्रेलिया के प्रत्येक राज्य में किंडरगार्टन शब्द का अर्थ कुछ अलग है',\n",
              " 'दंत टैटू के साथ कस्टम मुकुट बनाने वाली प्रयोगशालाओं का कहना है कि टैटू को मुकुट की ऊपरी परतों को पीसकर हटाया जा सकता है उन लोगों के लिए जो बाद में अपने दंत टैटू पर खट्टा हो जाते हैं लेकिन पूरे ताज को बदलना नहीं चाहते हैं',\n",
              " 'निवेशक मार्जिन को कवर करने के बजाय नुकसान पर अपने स्टॉक से छुटकारा पाने का फैसला कर सकते हैं जो कि कई निवेशकों द्वारा मार्जिन कॉल करने पर भी कीमतों को और अधिक कर सकते हैं',\n",
              " 'हालॉंकि ज़्यादातर खासे टेस्ट के लिए खास उपकरण चाहिए होते हैं',\n",
              " 'राष्ट्रीय और राज्य स्तर पर नियोक्ता और कामगार संगठनों सरकारी मंत्रालयों/विभागों सार्वजनिक तथा निजी क्षेत्र की कंपनियों भारत में कार्यरत बहुराष्ट्रीय कंपनियों और अन्य सामाजिक भागीदारों को अपने अलग-अलग कार्यस्थलों में कार्यस्थल नीति बनाने और क्रियान्वयन करने में इस नीतिगत ढांचे के उपयोग की सलाह दी जाती हैं',\n",
              " 'इसमें यह गणना शामिल हो सकती है कि एक सुविधा में काम करने वाली सभी नर्सों के बीच एक निश्चित समय सीमा के भीतर कितनी नर्सिंग त्रुटियां हैं',\n",
              " 'संक्षेप में श्री मुखर्जी ने माध्यमिक शिक्षा के कारण बताये हैं-छात्रों को उच्च शिक्षा के लिए तैयार करना',\n",
              " 'ऐसी फर्में जिनमें लगातार असाधारण लाभ या हानि की उच्च मात्रा की रिपोर्ट होती है आमतौर पर संदिग्ध होती हैं',\n",
              " 'इसका अर्थ है कि चर्च ऋण के लिए आवेदकों को ऋण से जुड़े नियमों और शर्तों के अनुसार उधार ली गई राशि को चुकाने की क्षमता प्रदर्शित करनी चाहिए',\n",
              " 'अंडरराइटर निर्णय लेने की प्रक्रिया में भाग लेते हैं कि घोषणा को कब किया जाए और स्टॉक की पेशकश को जल्द से जल्द बेचने के लक्ष्य के साथ प्रारंभिक सार्वजनिक पेशकश को कैसे बढ़ावा दिया जाए',\n",
              " 'एथलीट अक्सर जनसंख्या के किसी अन्य खंड की तुलना में अधिक होते हैं जो कि हाथ उच्चारण के बारे में है',\n",
              " 'सामान्य तौर पर स्यूडोमोनास पुतिदा को बायोरिमेडेड कार्य के लिए जीन के क्लोनिंग में उपयोग के लिए एक सुरक्षित जीवाणु के रूप में नामित किया गया है',\n",
              " 'इनमें केवल संख्याओं को दबाए जाने की आवश्यकता होती है और यदि गलत संयोजन दर्ज किया जा रहा है तो निश्चित समय के लिए धन को सुरक्षित रूप से लॉक कर दिया जाएगा',\n",
              " 'युवाओं के लिए अवसरों को बढ़ाने के लिए अप्ररैन्टिसशिप अधिनियम में सुधार का प्रस्ताव दिया',\n",
              " 'हवन में आम की लकड़ी ही क्यों प्रयोग होती है',\n",
              " 'तरल पदार्थ के बिना मस्तिष्क का वजन इसे निचले वर्गों में निरंतर रक्त की आपूर्ति को बनाए रखने से रोकता है',\n",
              " 'संगीत अनुभूति में एक और महत्वपूर्ण और सामान्य रूप से अध्ययन किया गया मुद्दा है कि कैसे और क्यों संगीत मजबूत भावनात्मक प्रतिक्रियाओं को विकसित करने में सक्षम है',\n",
              " 'कुछ मामलों में वुल्वर वेस्टिबुलिटिस एक वस्तु के संपर्क में या संभोग द्वारा ट्रिगर होने लगता है',\n",
              " 'उत्तरार्द्ध के साथ ठेकेदार केवल अनुबंध में उल्लिखित नियमों और शर्तों द्वारा कवर की गई नौकरी के लिए एक विशिष्ट राशि चार्ज करने के लिए प्रतिबद्ध है',\n",
              " 'एक को प्राप्त करने के लिए स्क्रीनिंग प्रक्रिया काफी जोरदार हो सकती है और अमेरिका में लगभग 1 नए व्यवसाय अपनी कंपनियों के लिए धन जुटाने के लिए एक स्वर्गदूत निवेशक को समझाने में सक्षम हैं',\n",
              " 'शुष्क मसालों के रूप में प्रयोग की जानेवाली मिर्चों को पूर्णतः परिपक्व हो जाने पर तोड़ते हैं',\n",
              " 'पेट के निशान ऊतक दर्दनाक ऐंठन और खतरनाक आंत्र रुकावट पैदा कर सकता है',\n",
              " 'अन्य फंड हॉग्स कॉर्न और तेल जैसे कमोडिटीज पर वायदा अनुबंध रखते हैं',\n",
              " 'पूंजी बजट के भीतर एक अन्य महत्वपूर्ण कारक लाभप्रदता सूचकांक है',\n",
              " 'उष्ण कटिबंध में बाँस बड़े-बड़े समूहों में पाया जाता है',\n",
              " 'माँ को काले त्वचा सूजन स्तनों और कमजोर संकुचन की उपस्थिति सहित शारीरिक परिवर्तनों की सूचना मिलेगी जिसे ब्रेक्सटन हिक्स संकुचन कहा जाता है',\n",
              " 'यह इंटरैक्शन विभाग को यह निर्धारित करने में मदद करता है कि कंपनी को अपने व्यावसायिक लक्ष्यों तक पहुंचने के लिए कितने पैसे की आवश्यकता हो सकती है कैसे वर्तमान धन आवंटित किया जा रहा है और कैसे धन को पुनः प्राप्त करने की आवश्यकता हो सकती है ताकि अंत में कंपनी अपने वित्तीय लक्ष्यों और समग्र बिक्री लक्ष्यों तक पहुंच सके',\n",
              " 'हीलियम से भारी तत्वों की मात्रा ठीक ठीक ज्ञात नहीं है लेकिन अनुपातों को सौर मंडल के गठन से निकली प्रारंभिक प्रचुरता से मिलान के लिए ग्रहण किया हुआ है',\n",
              " '1950 के बाद से कानूनी सीमाएं उन्हें वाणिज्यिक बैंकिंग में जाने से रोकती हैं कई राज्यों में प्रतिभूतियों के वर्गों को व्यापक बनाने के लिए एक मजबूत प्रवृत्ति थी जो इस प्रकार बचत बैंकों द्वारा खरीदी जा सकती थी',\n",
              " 'इनमे से कुछ हॉनिकारक कीटों एवं व्याधियों का पंजाब एवं राजस्थान क्षेत्र में किन्नों की फसल पर अत्यधिक क्षति पायी गयी है',\n",
              " 'गेराज देयता बीमा योजना के साथ पेश किए जाने वाले कवरेज का दायरा आम तौर पर उस घटना में बीमित पक्ष की रक्षा करने पर ध्यान केंद्रित करेगा जो एक ग्राहक दोषपूर्ण भागों की स्थापना के परिणामस्वरूप कठिनाइयों का सामना करता है',\n",
              " 'भारत सरकार किसान क्रेडिट कार्ड के तहत किसानों को ब्याज पर दो प्रतिशत की आर्थिक सहायता देती है और समय पर ऋण चुकाने वाले किसानों को तीन प्रतिशत की प्रोत्साहन छूट देती है',\n",
              " 'उनका इलाज करने के लिए सर्जरी मस्तिष्क की सीमित और नाजुक संरचनाओं में काम करने की वजह से अतिरिक्त संज्ञानात्मक हानि सहित जोखिम के साथ आती है जहां सर्जरी के दौरान गलती से मस्तिष्क के कुछ हिस्सों को नुकसान पहुंचाना आसान होता है',\n",
              " 'कई उपभोक्ताओं को इंटरचेंज फीस या क्रेडिट कार्ड कंपनियों के लिए कितना महत्वपूर्ण है इसकी जानकारी नहीं है',\n",
              " 'इनमें हाइड्रोसायनिक एसिड और टैनिन जैसे प्रति पोषकीय कारकों का पाया जाना चिंताजनक है',\n",
              " 'एक ऑटोरेफ़्रेक्टर परीक्षा में विद्यार्थियों का फैलाव शामिल नहीं होता है लेकिन छोटे बच्चों के लिए यह थोड़ा चुनौतीपूर्ण हो सकता है',\n",
              " 'रोगजनक बैक्टीरिया संक्रामक रोगों का कारण है जिसमें कुष्ठ रोग टेटनस सिफलिस और टाइफाइड बुखार शामिल हैं',\n",
              " 'इस दृष्टिकोण के साथ हालांकि स्ट्राइक को भी मेल खाना चाहिए और विकल्प एक ही महीने नहीं चलेंगे',\n",
              " 'जबकि आयोडीन उपचार हार्मोन थेरेपी और विकिरण आमतौर पर थायरॉयड समारोह को विनियमित करने में मदद कर सकते हैं कई अध्ययनों के अनुसार प्रभावी फाइब्रोमायल्जिया उपचार मायावी रहता है',\n",
              " 'विशेष रूप से ऐसे बाढकृत आर्द्रक्षेत्र और मौसमी तालाबो में मछली पकड़ने की सलाह दी जाती है जिसमें न्यूनतम संख्या में मछुआरों को शामिल किया जाय',\n",
              " 'मेडिटेशन मनोचिकित्सा या व्यक्तिगत प्रतिबिंब जैसे उपकरण पत्रिकाओं के माध्यम से अक्सर इस स्थिति को प्राप्त करने के प्रयास के लिए उपयोग किए जाते हैं',\n",
              " 'हेपाटोलॉजी जो एक संबंधित लेकिन अलग अनुशासन है इसमें पाचन से संबंधित अंगों जैसे यकृत और पित्ताशय की थैली का अध्ययन शामिल है',\n",
              " 'यह जब्ती के क्लोनिक भाग द्वारा पीछा किया जा सकता है जहां कठोरता को बेकाबू मरोड़ते द्वारा बदल दिया जाता है',\n",
              " 'परिसंपत्ति दृष्टिकोण का निर्धारण अक्सर एक वर्ष से अगले वर्ष तक किसी कंपनी की प्रगति या कमी को मापने में मददगार होता है क्योंकि यह कंपनी के वित्तीय स्वास्थ्य का स्नैपशॉट प्रदान करने में मदद करता है',\n",
              " 'दुनिया का लगभग प्रत्येक कैलेण्डर सर्दी के बाद बसंत ऋतू से ही प्रारम्भ होता है यहां तक की ईस्वी सन बाला कैलेंडर वो भी मार्च से प्रारम्भ होता था',\n",
              " 'जबकि आंख के दर्द के कई अलग-अलग संभावित कारण हैं आमतौर पर तीन प्रमुख कारण हैं जो किसी को विचार करना चाहिए',\n",
              " 'हालांकि वयस्कों द्वारा प्रदर्शित लोगों की तुलना में बच्चों में मनोदशा संबंधी विकार अपेक्षाकृत असामान्य हैं वे एक महत्वपूर्ण मात्रा में होते हैं',\n",
              " 'जबकि बोर्देटेला पर्टुसिस अभी भी मानव आबादी में मौजूद है ज्यादातर लोग जीवाणुओं द्वारा उपनिवेश का विरोध करने में सक्षम हैं और इस प्रकार स्वस्थ रहते हैं',\n",
              " 'क्योंकि उनके पास टैक्स से संबंधित जानकारी का अभाव है',\n",
              " 'एलर्जी के लक्षण अक्सर सामान्य सर्दी के लोगों की नकल करते हैं और दो स्थितियां आमतौर पर भ्रमित होती हैं',\n",
              " 'कीट नियंत्रक सिंचाई उर्वरक तथा',\n",
              " 'जब सिस्टम में डेटा और आंकड़े दर्ज करने की बात आती है तो कार्यक्रम आसान और सहज होना चाहिए',\n",
              " 'कई बार एक बैलेंस ट्रांसफर क्रेडिट कार्ड कार्यक्रम परिचय अवधि पूरी होने के बाद एक अत्यधिक ब्याज दर वसूल करेगा',\n",
              " 'इसलिए यदि व्यवसाय का प्रकार कंपनी है तो शेयर कैपिटल का अर्थ है स्वामित्व के शेयर जारी करके प्राकृतिक या कृत्रिम व्यक्ति से व्यवसाय के लिए निवेश प्राप्त करना',\n",
              " 'जब एडेनोइड स्वयं संक्रमित होते हैं तो वे एडेनोइड हाइपरट्रोफी नामक एक स्थिति में सूजन और बढ़ जाते हैं',\n",
              " 'इनमें से कुछ दूसरों की तुलना में अधिक लोकप्रिय हैं',\n",
              " 'विविध सामाजिक गतिविधियों और विविध मित्रता के परिणामस्वरूप उच्च स्कोर प्राप्त हो सकता है',\n",
              " 'इसके बाद तिलहन और दलहन पर प्रौद्योगिकी मिशन द्वारा तेल-ताड़ विकास परियोजना को कृषि मंत्रालय भारत सरकार द्वारा लागू किया गया',\n",
              " 'हालांकि समय मूल्य की सरल गणना आमतौर पर एकमात्र कारक नहीं है जो निवेशक विचार करेगा',\n",
              " 'इस प्रक्रिया में रोगी को एक अंधेरे कमरे में रखा जाता है आमतौर पर बैठने की स्थिति में',\n",
              " 'यह सबसे प्रभावी हो सकता है यदि किसी व्यक्ति ने ट्रैफ़िक उल्लंघन के कारण मूल्य वृद्धि का अनुभव किया है लेकिन एक संभावना है कि एक बीमा कंपनी किसी ऐसे व्यक्ति को छूट दे सकती है जिसके पास स्वच्छ ड्राइविंग रिकॉर्ड है',\n",
              " 'इस भाजक के बिना डॉव जोन्स इंडस्ट्रियल एवरेज द्वारा परिलक्षित संख्या किसी भी एक कंपनी के भीतर सकारात्मक या नकारात्मक घटनाओं द्वारा आसानी से बह जाएगी',\n",
              " 'कार्नी कॉम्प्लेक्स से जुड़े ट्यूमर आमतौर पर सौम्य होते हैं लेकिन ऐसे अवसर होते हैं जब घातक या कैंसर वाले ट्यूमर विकसित हो सकते हैं',\n",
              " 'एच आई वी सक्रंमित व्यक्तियों की पौषणिक देखरेख',\n",
              " 'सड़क यातायात नियंत्रण में वाहनों को दिशा निर्देश देना यदि किसी स्थान पर मरम्मत का कार्य हो रहा है तो यातायात को अन्य दिशा में निर्देशित करना या कोई दुर्घटना हो जाती है या अन्य कोई यातायात से जुड़ी समस्या होती है',\n",
              " 'नदी विज्ञान ने नदी-तंत्र से सम्बद्ध अनेकानेक अल्पकालिक तथा दीर्घकालिक प्रभावों बदलावों और दायित्वों की पहचान की है',\n",
              " 'समझौता प्रतिरक्षा प्रणाली वाले लोगों के लिए शरीर स्वयं की रक्षा करने में असमर्थ है और संक्रमण खराब हो सकता है',\n",
              " 'ऐसे मामलों में जहां पुराने रोगी अभी भी इस बीमारी से कठोरता का अनुभव करते हैं वे अचानक कठोरता से नीचे गिर सकते हैं और अप्रत्याशित बाहरी उत्तेजनाओं से आसानी से शुरुआत कर सकते हैं',\n",
              " 'यह बात तो स्पष्ट हो गई की कागज का आविष्कार चीन में हुआ लेकिन चीन के बाद भारत ही वह देश है जहां कागज बनाने और इस्तेमाल किए जाने के प्रमाण मिले',\n",
              " 'पेट्रोलियम उत्पाद तीव्र गति से घटते जा रहे हैं',\n",
              " 'लो-ग्रेड स्क्वैमस इंट्रापीथेलियल घाव गर्भाशय ग्रीवा की सतह परत में असामान्य रूप से वृद्धि कर रहे हैं विशेष रूप से परिवर्तन क्षेत्र में',\n",
              " 'पॉलीप्स 40-60 वर्ष की महिलाओं में सबसे आम हैं लेकिन छोटी महिलाओं को भी पॉलीप्स हो सकते हैं',\n",
              " 'धन उगाहने वाली टीमें जो इस मुद्दे के बारे में चिंतित हैं वे अग्रिम में यह पता लगाना चाह सकते हैं कि क्या भावी फोटोग्राफी स्टूडियो दाताओं को पैकेज बेचने की कोशिश करना चाहते हैं',\n",
              " 'सप्ताह में तीन से कम मल त्याग करने या बाथरूम जाने के बाद समाप्त नहीं होने का भाव भी कब्ज के लक्षण हैं',\n",
              " 'पौध तैयार करने का समय',\n",
              " 'स्वर्ण शक्ति विजय स्वर्ण सम्पदा-6',\n",
              " 'सिन्धु-गंगा के मैदान के उत्तरी छोर पर अचानक उठने वाले हिमालय के पर्वत हैं जो इसकी कई नदियों को जल प्रदान करते हैं तथा दो नदियों के मिलन के कारण पूरे क्षेत्र में इकट्ठी होने वाली उपजाऊ जलोढ़ मिटटी के स्रोत हैं',\n",
              " 'गारंटर के संतुष्ट होने के बाद ही कि हस्ताक्षर फर्जी नहीं है हस्ताक्षर की गारंटी दी गई है',\n",
              " 'कैंसर को नियंत्रण में लाने के प्रयास में कीमोथेरेपी सर्जरी विकिरण और अन्य उपचारों का उपयोग किया जा सकता है',\n",
              " 'लेखाकार डेबिट परिशोधन व्यय और ऋण संचित परिशोधन',\n",
              " 'विभिन्न श्रेणी के कार्मियों के लिए प्रशिक्षण कार्यक्रमों में सहायता प्रदान करना',\n",
              " 'जब बिक्री में वृद्धि संभव नहीं है तो व्यवसाय अपने लाभ मार्जिन को चौड़ा करने के तरीके खोज सकता है',\n",
              " 'कुछ प्रतिष्ठित बैंक अपने खाताधारकों से ऐसे खाते को चलाने के लिए कुछ राशि लेते हैं',\n",
              " 'पल्मोनरी धमनी उच्च रक्तचाप को सिकल सेल रोग से जुड़ा हुआ भी कहा जाता है एक विकार जिसमें लाल रक्त कोशिकाएं असामान्य होती हैं',\n",
              " 'दूध संपर्क सतहों के साथ विशेष नियमों की आवश्यक खाद्य ग्रेड सामग्री का पालन करना चाहिए जिसे आसानी से साफ किया जा सके',\n",
              " 'उसे प्रति एकड़ 2.8 टन की उपज हासिल हुई',\n",
              " 'दूसरे शब्दों में वे वास्तव में युवा महसूस करना शुरू कर सकते हैं',\n",
              " 'कोको के बीजों का इलाज वह प्रक्रिया है जिसमें बाजार में विपणन के लिए अच्छे स्वाद वाले संभाव्यता और भंडारण करने लायक गुणों वाले बीजों को तैयार करना',\n",
              " 'एक निवेश बैंक के तीन मुख्य कार्यालय',\n",
              " 'तो कुल मिलकर रोज़ाना आपको साइलेज खिलाने से 65 से 70 रुपये बच रहे हैं',\n",
              " 'नकद लेनदेन किसी भी प्रकार का वित्तीय लेनदेन होता है जहां नकद का उपयोग उसी तिथि पर लेनदेन को निपटाने के लिए किया जाता है जहां यह होता है',\n",
              " 'इसके अलावा अत्यधिक लार पर ध्यान दिया जा सकता है क्योंकि ग्रासनलीशोथ के रोगी अक्सर अपनी लार को प्रभावी ढंग से निगलने में असमर्थ होते हैं',\n",
              " 'अधिक कठोर भोजन की बिक्री और स्वच्छता प्रथाओं के कारण औद्योगिक राष्ट्रों में अधिकांश प्रकार के आंतों के गुच्छे दुर्लभ हैं',\n",
              " 'लगभग 40 स्किज़ोफ्रेनिक्स को इस मानसिक बीमारी के पागल प्रकार का माना जाता है यह सबसे आम है क्योंकि कम से कम तीन अन्य मान्यता प्राप्त उपप्रकार या शाखाएं हैं',\n",
              " 'यह अक्सर नौकरियों वाले लोगों के लिए एक समस्या है जो उन्हें ऐसा करने की आवश्यकता होती है जैसे कि जो लोग पूरे दिन कंप्यूटर पर काम करते हैं',\n",
              " 'अवसर का फायदा उठाते हुए आर्बिट्रेज ट्रेडर्स उस एक्सचेंज पर खरीदते हैं जहां शेयर की कीमत कम होती है और उच्च शेयर मूल्य के साथ एक्सचेंज पर समान मात्रा में बेचते हैं',\n",
              " 'गैर चयनात्मक खरपतवारनाशी का प्रयोग बुआई से पूर्व उगे खरपतवारों को नष्ट करने के लिए करना चाहिए',\n",
              " 'इसलिए आहार में इनका मिलाया जाना आवश्यक है संयोग वस दूध में सभी आवश्यक विटामिन्स प्रचुर मात्रा में मिलते है',\n",
              " 'रोबोट के कुछ उदाहरणों और प्रोटोटाइपों में मर्लिन रोबोट मिलकर रोस्फीयर हार्वेस्ट ऑटोमेशन ऑरेंज हार्वेस्टर सलाद बॉट और वीडर शामिल हैं',\n",
              " 'हालत यहां तक बिगड़ी कि उसे अपने परिवार के भरण-पोषण में कठिनाई होने लगी',\n",
              " 'वाचाघात को ठीक करने के लिए कई तकनीकों का उपयोग किया जा सकता है क्योंकि बच्चों में सुधार विशेष रूप से महत्वपूर्ण है क्योंकि उनके दिमाग अभी भी उन मार्गों को ले रहे हैं जो दृश्य जानकारी देते हैं और दृष्टि में रुकावट से दीर्घकालिक दृष्टि क्षति हो सकती है',\n",
              " 'कुछ मामलों में अंतर्निहित स्थिति का इलाज करना संभव नहीं हो सकता है इस स्थिति में रोगी को पेरेस्टेसिया से निपटने में मदद करने के लिए विभिन्न तकनीकों का उपयोग किया जा सकता है',\n",
              " 'कई गैर-लाभकारी संगठन अपने द्वारा प्रदान की जाने वाली सेवाओं के लिए स्लाइडिंग स्केल शुल्क लेते हैं',\n",
              " 'उदाहरण के लिए कुछ ऋणों को बढ़ाया जाता है ताकि जब आप भुगतान करना शुरू करें तो ऋण का अधिक हिस्सा पहले ब्याज पर लागू हो क्योंकि यह मूलधन है',\n",
              " 'इसके अलावा इनका उपयोग कषि व पशपालन में भी किया जाता है',\n",
              " 'वे बताते हैं  असल में अनुबंध खेती को लेकर किसानों की कई शंकाएं हैं जिसे सरकार ने विधेयक में दूर नहीं किया',\n",
              " 'यह ब्लैक होल के घटना क्षितिज के निकट पदार्थ के प्रेक्षण को सामान्य सापेक्षता और उसके प्रस्तावित विस्तारों के अध्ययन को संभव बनाता है',\n",
              " 'विश्व तापन का करण है औद्योगीकरण शहरीकरण तथा कार्बनडाइऑक्साइड क्लोरो-फलोरो कार्बन जैसी विनाशकारी गैसों की मात्रा में अधिक वृद्धि',\n",
              " 'आयुर्वेद इसे जंक्शन बिंदु मानता है जो दो दालों को एक साथ जोड़ता है और चेतना और शरीर को एकीकृत करता है',\n",
              " 'उस समय मलाबार प्रदेश मद्रास राज्य का एक जिला मात्र था',\n",
              " 'बृहदान्त्र कैंसर संयुक्त राज्य में तीसरी सबसे अधिक कैंसर से होने वाली मौतों का कारण बनता है और पुरुषों के लिए फेफड़े और प्रोस्टेट कैंसर के बाद तीसरा सबसे आम कैंसर है और महिलाओं के लिए फेफड़े और स्तन कैंसर',\n",
              " 'भले ही किसी भी अन्य विटामिन बी यौगिकों में ओवरडोज क्षमता का एक प्रदर्शन पैटर्न नहीं है लेकिन आहार या स्वास्थ्य आवश्यकताओं को पूरा करने के लिए पूरक की तुलना में अधिक लेना कभी भी उचित नहीं है',\n",
              " 'ये खरीदार अधिक विनियमित प्रतिभूति बाजारों में सीमित हैं जहां अधिक निगरानी है और निवेश से जुड़े जोखिम कम हो जाते हैं',\n",
              " 'एपीएल एक तीव्र माइलॉयड ल्यूकेमिया का उपप्रकार है जिसे सात प्रमुख उपप्रकार एम 1 से एम 7 में वर्गीकृत किया जाता है जो कि मायलोयड सेल के प्रकार पर निर्भर करता है जो असामान्य है',\n",
              " 'गैर कृषि के अंतर्गत भूमि की इकाई में बढ़ोतरी का इन क्षेत्रों से प्राप्त उत्पादन की बढ़ोतरी पर कोई सीधा प्रभाव नहीं पड़ता',\n",
              " 'इस विधि में बहुत कम समय में खाद तैयार हो जाता है जो साधारण कम्पोस्ट से अच्छा होता है',\n",
              " 'कच्चे फलों का उपयोग के अचार अमचुर इत्यादि के लिए किया जाता है जबकि पके फलोंसे जूस शर्बत स्क्वैश पेय पदार्थ एवं अमावट आदि बनाये जाते हैं',\n",
              " 'हल्की रेतीली मिट्टी एवं पर्वतीय मिट्टी में वर्षाकाल के समय में छोड़कर करें',\n",
              " 'सफेद मूसली 8-9 महीनें की फसल है जिसे मानसून में लगाकर फरवरी-मार्च में खोद लिया जाता है',\n",
              " 'एक सरकारी उद्घोषक बिना लाभ गंवाए सरकार के लिए अंशकालिक काम फिर से शुरू कर सकता है जब तक कि उसके काम के घंटे सरकार द्वारा निर्धारित कैप से अधिक न हों',\n",
              " 'दोस्ताना बैक्टीरिया के सबसे प्रसिद्ध समूहों में से एक आंत में पाए जाने वाले बैक्टीरिया हैं',\n",
              " 'पूर्ण नींद अध्ययन बहुत महंगा हो सकता है और एक वैकल्पिक परीक्षण का प्रावधान निदान और उपचार के लिए लागत में कटौती करने में मदद कर सकता है',\n",
              " 'उच्च कोटि की पौध-सामग्री उत्पन्न करना',\n",
              " 'वैचारिक रूप से यह विचार कुछ और लोगों से अपील करता है और राजनीतिक अभिविन्यास के आधार पर प्रतिक्रिया की भविष्यवाणी करना हमेशा आसान नहीं होता है',\n",
              " 'आमतौर पर इस प्रकार के ग्रीनहाउस में बड़े आकार का टमाटर चेरी टमाटर लाल व पीले रंग की शिमला मिर्च आदि फसलों को वर्ष भर के लिये उगाया जाता है तथा अधिक उत्पादन के साथ-साथ अधिक गुणवत्ता वाली सब्जियाँ भी पैदा की जाती हैं',\n",
              " 'हालांकि बैक्टीरिया अक्सर कुछ एंटीबायोटिक दवाओं के लिए एक सहिष्णुता विकसित करते हैं लेकिन प्रभाव कीड़े पर कीटनाशक का उपयोग करने के समान है',\n",
              " 'कुछ दलाल उपयोगकर्ताओं को केवल विशेष प्रकार के निवेश करने की अनुमति देते हैं',\n",
              " 'एसिड रिफ्लक्स एक ऐसी स्थिति है जो तब होती है जब पेट से एसिड घुटकी में वापस आता है और दर्द का कारण बनता है',\n",
              " 'निम्नलिखित पठन सूची विशेष रूप से उत्तरी अमेरिका में किंडरगार्टन से सम्बंधित है जहां यह औपचारिक स्कूली शिक्षा का पहला साल होता है और दुनिया के शेष हिस्सों की तरह प्री स्कूल प्रणाली का हिस्सा नहीं है',\n",
              " 'उपुर्युक्त सभी स्थितियों में शल्य चिकित्सा द्वारा गर्भपात को पूर्ण करवा लेना चाहिए',\n",
              " 'इन वृक्षों में बबूल सीरस नीम शीशम करंज व अर्जुन आदि प्रमुख है',\n",
              " 'अध्ययन में पाया गया है कि अटैचमेंट डिसऑर्डर के मरीज बचपन के दौरान अपने प्राथमिक देखभाल करने वालों के साथ नकारात्मक अनुभव रखते हैं',\n",
              " 'समोच्च बंध खेत की ढाल के लम्बवत बनाया जाता है जो खेत में नमी संरक्षण करने में आशातीत भूमिका निभाता है',\n",
              " 'सूखा',\n",
              " 'एकीकृत कृषि प्रणाली में मुख्य रूप से जैविक निवेशों का इस्तेमाल किया जाता है',\n",
              " 'बेल की अनेक स्थानीय किस्में हैं परन्तु हाल के वर्षो में नरेन्द्र देव कृषि एवं प्रौद्योगिकी कृषि विश्वविद्यालय गोविन्द बल्लभ पंत कृषि विश्वविद्यालय केन्द्रीय उपोष्ण बागवानी संस्थान एवं बागवानी एवं कृषि वानिकी शोध कार्यक्रम द्वारा चयनित किस्मों की सिफारिश की जाती है',\n",
              " 'पित्ती एक खुजली लाल चकत्ते हैं जो अक्सर उठाए जाते हैं और खुजली होती है',\n",
              " 'पूंजी स्टॉक के अतिरिक्त शेयरों के उपलब्ध होने की भी संभावना है क्योंकि कंपनी अपने परिचालन का विस्तार करती है और उच्च लाभ का एहसास करना शुरू करती है',\n",
              " 'इसके लिए फसल की बुआई के तुरंत बाद पेन्डीमीथिलीन नामक रसायन की 1.0 कि0गा0 सक्रिय तत्व की मात्रा 600 लीटर पानी में घोलकर प्रति हेक्टेयर की दर से छिडकाव करने से नींदा निंयत्रित हो जाते है',\n",
              " 'रिपीट ब्रीडिंग निम्न कारणों से हो सकती है',\n",
              " 'यदि नवजात शिशु के लिए खेला जाने वाला गर्भ संगीत अप्रभावी साबित होता है तो मात्रा में परिवर्तन या संगीत के साथ सकारात्मक जुड़ाव पैदा करना जब माँ आसपास होती है तो यह सहायक हो सकता है',\n",
              " 'एक छोटी बिक्री करने में रुचि रखने वाले घर के मालिक को प्रक्रिया को समझने के लिए समय लेना चाहिए',\n",
              " 'एक हेक्टेयर या कम जमीन रखनेवाला किसान',\n",
              " 'सिज़ोफ्रेनिया एक मानसिक बीमारी है जिसमें मतिभ्रम और व्यामोह जैसे लक्षणों की विशेषता होती है जो अक्सर पीड़ित लोगों को रोजमर्रा की जिंदगी में काम करने में असमर्थता प्रदान करती है',\n",
              " 'प्रारम्भिक अवस्था में इनके बीच में अमरुद के पौधों की रोपाई की जा सकती है',\n",
              " 'सरकारी स्तर पर समूह में तकनीकी आधारित खेती करने पर 20-75 फीसदी अनुदान की योजना है लेकिन बैंकों की जटिल प्रक्रिया के कारण इसका लाभ किसानों को नहीं मिल पा रहा',\n",
              " 'यदि संचार श्रृंखला का कोई हिस्सा लड़खड़ाता है या पिछड़ता है तो विक्रेता उचित मूल्य पर पूंजीकरण नहीं कर सकता है',\n",
              " 'राजस्व मान्यता के इस मूल मॉडल पर विविधताएं हैं',\n",
              " 'उदाहरण के लिए एक कर्मचारी को 6.2 प्रतिशत की दर से सामाजिक सुरक्षा करों का भुगतान करना पड़ सकता है और उसके नियोक्ता को इस राशि का मिलान करना होगा',\n",
              " 'इन कार्डों में एक लेखा प्रणाली में उपयोग के लिए अलग-अलग प्रारूप रंग और भंडारण संभावनाएं हैं',\n",
              " 'आमतौर पर एन्डोस्कोपी के एक गैर-जीवित रूप के रूप में वर्गीकृत किया जाता है एन्कैप्सुलेटेड कैमरा रोगी द्वारा निगला जाता है और छवियों को रिकॉर्ड करता है क्योंकि कैप्सूल पाचन तंत्र से गुजरता है',\n",
              " 'बच्चे की छाती को मसलकर साँस दिलवाने में मदद करनी चाहिए',\n",
              " 'गुड़ और शीरा बनाने की भट्टी होता है',\n",
              " 'गिरने के करीब रसों की गति बंद हो जाती है और फिर ट्रंक को मजबूत करने के लिए कैम्बियम मुख्य रूप से यांत्रिक ऊतक पैदा करता है',\n",
              " 'सिंचाई की सुविधा न हो तो प्रजाति',\n",
              " 'कई बार व्यवसाय कर्मचारियों को अपनी ओर से खरीदारी करने की अनुमति देते हैं',\n",
              " 'इस प्रकार की चिकित्सा ऋण राहत के लिए विचार करने के लिए किसी व्यक्ति को वित्तीय कठिनाई को साबित करने की आवश्यकता हो सकती है और इसे प्राप्त करने वाले सबसे अधिक संभावना वाले उम्मीदवारों के पास स्वास्थ्य बीमा के लिए बहुत कम या कोई पहुंच नहीं हो सकती है',\n",
              " 'किसान को बीमा कंपनी को दिए जाने वाले प्रीमियम की दर फसल का प्रकार खरीफ रबी अनाज दलहन और तिलहन सहित खाद्यान्न 2 1.5 वार्षिक बागवानी और वाणिज्यिक फसलें 5 बिडिंग प्रक्रिया को अंतिम रूप दिए जाने के बाद यदि बीमा कंपनी द्वारा उद्धृत प्रीमियम दर उपरोक्त दरों से अधिक है तो अंतर को प्रीमियम सब्सिडी के रूप में प्रत्येक 50 पर राज्य और भारत सरकार द्वारा बीमा कंपनी को भुगतान किया जाएगा',\n",
              " 'आपको सुरक्षा जमा रसीद मांगनी चाहिए और रखनी चाहिए हालांकि इस बात की परवाह किए बिना कि जमा आपको वापस किया जा सकता है या भविष्य के भुगतान की ओर लागू किया जा सकता है',\n",
              " 'किसी भी प्रकार के व्यवसाय के केंद्रीय लक्ष्यों में से एक सकारात्मक नकदी प्रवाह बनाए रखना है',\n",
              " 'बीमारी का कोई भी रूप वर्तमान में ठीक नहीं है हालांकि कुछ दवाएं प्रकोपों की संख्या को कम कर सकती हैं',\n",
              " 'जैसा कि अधिकांश चिकित्सा परीक्षणों में होता है एक आभासी कोलोनोस्कोपी फायदे और नुकसान दोनों को प्रस्तुत करता है',\n",
              " 'रक्त शर्करा के स्तर को अक्सर जीवन शैली में परिवर्तन के माध्यम से नियंत्रित किया जा सकता है जिनमें से मुख्य आहार में परिवर्तन है',\n",
              " 'सरकारी एजेंसियाँ और उद्योग संगठन एक्वाकल्चर कृषक सीपदार मछली कृषक हैचरी तकनीशियन जैविकीयविज्ञान तकनीशियन मछली अनुसंधान सहायक आदि जैसे पदों पर भर्ती करते हैं',\n",
              " 'ब्रैंकिओपोडा आस्ट्राकाडा तथा कुछ मेलाकॉस्ट्राका में हृदय प्राय शरीर की पूरी लंबाई के बराबर होता है और शरीर के अंतिम भाग खंड के अतिरिक्त प्रत्येक खंड में इसमें एक जोड़ी कपाटयुत अंध्र होता है जो हृदयावरण से जा मिलता है',\n",
              " 'जबकि किसी भी प्रकार के लेन-देन के बारे में कुछ हद तक प्रतिपक्ष जोखिम होगा आदर्श स्थिति यह है कि संबंधित पक्षों के लिए जोखिम न्यूनतम हो',\n",
              " 'रक्त के थक्कों को रोकने के लिए जिन बच्चों में या तो वाल्व रिप्लेसमेंट हुआ है या फॉन्टन को दैनिक कम खुराक एस्पिरिन लेना चाहिए',\n",
              " 'दक्षिण ऑस्ट्रेलिया में मोटर दुर्घटना आयोग से थर्ड पार्टी व्यक्तिगत बीमा इसी तरह की योजना पश्चिमी ऑस्ट्रेलिया में लागू होता है 17 से अधिक लोगों के लिए लाइसेंस पंजीकरण शुल्क में शामिल है',\n",
              " 'वर्ग प्रथम व तृतीय के असफल रोगी',\n",
              " 'टेकओवर का प्रयास करने वाली इकाई के पास अधिग्रहण की रणनीति के हिस्से के रूप में अर्जित शेयरों को साझा करने के लिए सहमत होने के लिए अक्सर सीमित समय होता है या उन शेयरों को समय की अवधि के बाद शून्य और शून्य प्रदान किया जाना चाहिए',\n",
              " 'पंजाब और महाराष्ट्र सहकारी बैंक',\n",
              " 'डर्माटोग्राफिक पित्ती के लिए उपचार में अक्सर एंटीहिस्टामाइन का उपयोग शामिल होता है जो कई प्रकार की एलर्जी की स्थिति का इलाज करने के लिए उपयोग की जाने वाली दवाएं हैं',\n",
              " 'इन दोनों गतिविधियों ने उपभोक्ता विश्वास को मिटा दिया और यूरोपीय संघ के देशों की एक किस्म में अभ्यास किया गया क्योंकि वहाँ कोई विशिष्ट कानून उन पर प्रतिबंध नहीं लगा रहे थे और उनका मुकाबला करने के लिए यूरोपीय स्तर पर कुछ भी नहीं था',\n",
              " 'उसे कार्यालय में बुलाया गया है',\n",
              " 'उसके पास वित्त संबंधी प्रत्येक प्रश्न के जवाब होता है',\n",
              " 'इस मामले में प्रतिरक्षा प्रणाली शरीर में कुछ कोशिकाओं के प्रति प्रतिक्रिया करती है जैसे कि वे बैक्टीरिया या वायरस जैसे जीवों पर हमला कर रहे थे',\n",
              " 'वायरस आमतौर पर नेत्रश्लेष्मलाशोथ के संक्रमण के अपराधी हैं लेकिन कुछ प्रकार के बैक्टीरिया भी विकसित हो सकते हैं और कंजाक्तिवा में पनप सकते हैं',\n",
              " 'पी के कभी-कभार रिपोर्ट किए गए मामले हैं',\n",
              " 'इस तरह के एक भेदी होने का एक फायदा यह है कि जीभ भेदी हीलिंग प्रक्रिया कई लोगों के लिए जल्दी है लेकिन यह एक नुकसान भी हो सकता है अगर कोई व्यक्ति कभी-कभी उसे भेदी पहनना भूल जाता है',\n",
              " 'क्षेत्र में एक प्रसिद्ध विद्वान जेम्स गिब्सन हैं जिन्होंने 20 वीं शताब्दी के मध्य में प्रत्यक्ष धारणा के लिए एक मजबूत तर्क दिया',\n",
              " 'स्टार्टर आहार में 22प्रति क्रूड प्रोटीन 3500 किलो कैलोरी पचनीय ऊर्जा एंव रेशे की मात्रा कम होनी चाहिए इसका नमूना निम्न है',\n",
              " 'विभिन्न पोशक तत्वों के लक्षण विभिन्न फसलों पर अलग-अलग ढंग से दीखते है',\n",
              " 'यह एक बहुरंगी तथा दोहरे प्रयोजन वाला पक्षी होने के साथ आकर्षक पक्षति वाला पक्षी है',\n",
              " 'आवेदन और खातों से सम्बंधित फॉर्म भरना',\n",
              " 'हरी खाद उगाते समय कम से कम 50-60 किग्रा',\n",
              " 'क्या वह क्लिनिक चिकित्सकीय गर्भ समाप्ति के लिए प्रमाणित हैं',\n",
              " 'इस हैरो से जब बगीचे की जुताई करते हैं तो यह मिट्टी बाहर एवं अन्दर फेंकता है जिससे मिट्टी पेड़ से दूर जाकर गिरती है',\n",
              " 'जैसे एक जीवन बीमा पॉलिसी कुछ लोगों के नाम बताती है जिन्हें लाभार्थी के रूप में जाना जाता है जो पॉलिसी द्वारा निर्दिष्ट धन के प्राप्तकर्ता होंगे',\n",
              " 'आंत्र फोड़ा के विकास के लिए रक्तस्राव और फाड़ अक्सर कारक योगदान दे रहे हैं',\n",
              " 'एक विस्तीर्ण दृष्टिकोण से पशुधन का अर्थ पशुओं की किसी भी ऐसी प्रजाति अथवा जनसंख्या है जिसे मनुष्यों द्वारा उपयोगी अथवा व्यावसायिक कारण से रखा जाता हो',\n",
              " 'परिवर्तनीय गति तकनीक का अग्रिम रूप है – ओन-द-गो सैनसिंग',\n",
              " 'इन मामलों में उस व्यक्ति को ऋण के बारे में अत्यधिक संख्या में फोन कॉल प्राप्त हो सकते हैं जिसे कानूनी रूप से उत्पीड़न के रूप में परिभाषित किया जा सकता है',\n",
              " 'हालांकि आक्रामक व्यवहार को कम करने सहित पुरुष घरेलू पालतू जानवरों को रोकने के लिए महत्वपूर्ण फायदे हैं लेकिन कुछ पालतू पशु मालिकों ने ऐसा करने से मना कर दिया क्योंकि अरुचि की धारणा के साथ असुविधा होती है',\n",
              " 'पर्वतीय क्षेत्र में आटा पीसने की पनचक्की का उपयोग अत्यन्त प्राचीन है',\n",
              " 'जरबेरा अस्ट्रेसी कुल एक एक तना विहीन बहुवर्षीक नाजुक हर्ब है',\n",
              " 'न केवल तनाव वास्तविक रक्त प्रवाह और इसकी शुरुआत को प्रभावित कर सकता है कुछ मामलों में यह प्रीमेंस्ट्रुअल सिंड्रोम के लक्षणों को बढ़ा सकता है',\n",
              " 'सीलिएक रोग का कभी-कभी निदान करना मुश्किल हो सकता है क्योंकि इसके लक्षण इतने विविध हैं',\n",
              " 'मधुमेह जैसी कुछ स्थितियां पैर क्षेत्र में नसों को नुकसान पहुंचा सकती हैं',\n",
              " 'यह ध्यान रखना महत्वपूर्ण है कि जोखिम प्रतिधारण समूह को कानूनी रूप से एक बीमाकर्ता माना जाता है और इसके द्वारा जारी नीतियों के जोखिमों को सहन करता है',\n",
              " 'छोटी कंपनियों इसके विपरीत अदालत उद्यम पूंजीपतियों क्योंकि उन्हें अक्सर अपने कार्यों को विकसित करने के लिए निवेशकों के पैसे की आवश्यकता होती है',\n",
              " 'आंतरिक कर्मचारी वित्तीय बाजारों में बंदोबस्ती धन का व्यापार कर सकते हैं या बाहर के धन प्रबंधकों को संपत्ति आवंटित कर सकते हैं',\n",
              " 'फिर धुप में या कैबिनेट शुष्कक यंत्र में सुखा लिया जाता है',\n",
              " 'कारण यह कि कृषि एक मौलिक परम्परा रही है जिसके अन्तर्गत कृषक अपने खेत के जैविक एवं अजैविक घटकों में संतुलन रखते हुए कृषि कार्य करता है',\n",
              " 'लोन के लिए अप्लाय करने से पहले कुछ शर्त हैं जिनका आपको ध्यान रखना जरूरी है',\n",
              " 'पीबीसी सूची दस्तावेजों का एक समूह है जिसे एक ग्राहक को पूरी समीक्षा प्रक्रिया के हिस्से के रूप में लेखा परीक्षकों को सौंपना चाहिए',\n",
              " 'आमतौर पर रक्त वाहिका संकीर्णता धमनियों के अंदर एथेरोस्क्लेरोसिस के परिणामस्वरूप होती है जो वाहिकाएं शरीर को आपूर्ति करने के लिए हृदय से रक्त लेती हैं',\n",
              " 'गंभीर मामलों में जहां कैंसर होने की संभावना है डॉक्टर गर्भाशय को हटाने के लिए हिस्टेरेक्टॉमी की सलाह दे सकते हैं',\n",
              " 'वाउचर ढूंढना अक्सर उन्हें इस्तेमाल करने का आधा मज़ा होता है',\n",
              " 'कभी कभी इसके बाद क्यूरेटिंग करना पडता है',\n",
              " 'कुछ परिवर्तन लाभकारी होते हैं तो कुछ हानिकारक',\n",
              " 'पन्तनगर जीरो टिल ड्रिल द्वारा मटर की बुवाई की जाती है',\n",
              " 'कुछ मामलों में बैंक का निजी स्वामित्व होता है जबकि अन्य में यह सार्वजनिक रूप से कारोबार किया जा सकता है जनता के सदस्यों को शेयरों की पेशकश करता है',\n",
              " 'इस प्रकार के प्लेटलेट विकारों का अक्सर एक रक्त गणना के साथ निदान किया जा सकता है जिसमें शरीर में सक्रिय प्लेटलेट्स की संख्या के बारे में अधिक जानने के लिए रक्त का एक नमूना तैयार किया जाता है और परीक्षण किया जाता है',\n",
              " 'मोटल लॉन्ड्री रूम या यहां तक कि सार्वजनिक सिक्का चालित लॉन्ड्री जैसे स्थानों में यह डिटर्जेंट के छोटे बक्से और कपड़े सॉफ़्नर शीट जैसे उत्पादों के लिए एक वेंडिंग मशीन के माध्यम से खरीद के लिए उपलब्ध होने के लिए असामान्य नहीं है',\n",
              " 'एक ही समय में एक ही खेत में दो फसल का उत्पादन कर राधेश्याम मेहता रोमांचित हैं',\n",
              " 'जैविक कृषि कार्य पर उत्पादित',\n",
              " 'मौजूदा समय में पूरे भारत में 2,800 से ज्यादा सीएनजी स्टेशन हैं और संख्या के अगले सात से आठ सालों में 10 हजार के आंकड़े को पार करने की उम्मीद है',\n",
              " 'स्वच्छ मशीनों का उपयोग करें',\n",
              " 'स्टॉक जैसे सिक्योरिटीज समय के दौरान मूल्य में वृद्धि और गिरावट कर सकते हैं',\n",
              " 'इस तरह के संक्रमण यदि तेजी से इलाज नहीं किया जाता है तो बहुत अधिक गंभीर संभवतः जीवन-धमकाने वाली जटिलताएं हो सकती हैं जैसे कि सेप्सिस',\n",
              " 'प्रत्येक व्यक्ति यह दिखाने में मदद कर सकता है कि किसी व्यक्ति में बीमारी कितनी गंभीर है',\n",
              " 'जैसा कि उल्लेख किया गया है हालांकि इस्तेमाल की जाने वाली प्रत्येक एजेंसी के साथ अन्य कार्यक्रमों के बारे में पूछें जो वित्तीय सहायता के साथ मदद कर सकते हैं',\n",
              " 'चिकित्सा के अलावा कुछ विशेषज्ञ अन्य कैंसर रोगियों और बचे लोगों के साथ शरीर की छवि और कैंसर के बारे में बात करने की सलाह देते हैं',\n",
              " 'छुट्टी के लाभ अक्सर कानून द्वारा आवश्यक रोजगार लाभ होते हैं और वे कर्मचारी को प्रति वर्ष कई दिनों तक छुट्टी देते हैं',\n",
              " 'गणना किसी भी तरह की गिरावट का अनुभव करने के लिए मूल्य में लगातार वृद्धि या शुरुआत करने के मामले में या तो आयोजित परिसंपत्तियों के प्रदर्शन के बारे में सुराग प्रदान करती है',\n",
              " 'हालत वाले कुछ लोग हाथ से लिख सकते हैं की तुलना में काफी बेहतर टाइप करने में सक्षम हैं इसलिए आप छात्रों को समय-सीमित लेखन कार्य या निबंध के लिए कंप्यूटर का उपयोग करने की अनुमति दे सकते हैं',\n",
              " 'साम्राज्यवादी शक्तियों का सर्वात्मसाती स्वरूप सामने आया और अधिकांश गणतंत्र मौर्यों के विशाल एकात्मक शासन में विलीन हो गए',\n",
              " 'चूंकि ये संख्याएं सटीक आंकड़ों के बजाय अनुमान के रूप में दिखाई देती हैं इसलिए गैर-गोल संख्याओं को सूचीबद्ध करना सबसे अच्छा है',\n",
              " 'यह तक ऐसा तबका होता था जो खेती में सीधा हिस्सा नहीं लेता था लेकिन ऊंची हैसियत की वजह से उन्हें काफी सुविधाएं मिलती थी',\n",
              " 'फोड़ा का इलाज करने के लिए सर्जरी आमतौर पर मामूली होती है और इसे अक्सर एक आउट पेशेंट सेटिंग में किया जाता है',\n",
              " 'एक हिब टीकाकरण एक शॉट है जो हेमोफिलस इन्फ्लुएंजा टाइप बी बैक्टीरिया द्वारा संक्रमण से बचाने में मदद करता है',\n",
              " 'कई मर्चेंट खाता प्रदाता एक मर्चेंट खाते को सुरक्षित करने की प्रक्रिया के हिस्से के रूप में क्रेडिट चेक शामिल करते हैं',\n",
              " 'स्तन के अंदर पाए जाने वाले सबसे आम गैर-स्तनधारी स्तन गांठ को फाइब्रोसिस्टिक गांठ कहा जाता है',\n",
              " 'ड्यूपॉन्ट मॉडल जैसी प्रणाली के साथ एक निवेशक कंपनी के शुद्ध लाभ मार्जिन को देख सकता है और यह निर्धारित कर सकता है कि यह एक अच्छा निवेश है',\n",
              " 'दीमक के लिए थीमेट दानेदार दवा 10 ग्राम या क्लोरपायरीफास २-5 मिली',\n",
              " 'जड़ी-बूटी की खेती अभी प्रारम्भिक अवस्था में है',\n",
              " 'चूंकि दूसरे निवेश में कम परिपक्वता होती है इसलिए यह कम जोखिम भरा होता है और इसीलिए यह रिटर्न की कम दर प्रदान करेगा',\n",
              " 'यदि जर्नल प्रविष्टि के लिए एक विस्तृत गणना आवश्यक थी तो ऑडिटर सटीकता सुनिश्चित करने के लिए जानकारी को फिर से जोड़ते हैं',\n",
              " 'हालांकि जीवाणु संक्रमण बहुत लंबे समय तक जारी रह सकता है संभावित रूप से दौरे और अन्य जीवन-धमकाने वाले लक्षण पैदा कर सकता है',\n",
              " 'एक धर्मशाला सेटिंग में प्रदान किया गया एंड-ऑफ-लाइफ उपचार रोगी को आरामदायक बनाने पर केंद्रित है',\n",
              " 'सुपरिचित चेहरों को देखकर भी प्रतिक्रिया नहीं करता है',\n",
              " 'यदि ऋणदाता आंशिक रूप से छूट देता है तो 30 एकड़ संपत्ति को ग्रहणाधिकार से हटा दिया जाता है',\n",
              " 'उदाहरण के लिए कुछ ओवर-द-काउंटर और प्रिस्क्रिप्शन दवाओं में एसिटामिनोफेन एक एनाल्जेसिक या दर्द निवारक होता है और यदि व्यापक अवधि में बड़ी मात्रा में लिया जाता है तो यह यकृत को महत्वपूर्ण नुकसान पहुंचा सकता है',\n",
              " 'शनि के छल्ले',\n",
              " 'कम्प्यूटर फर्नीचर एवं जुड़नारों की खरीद के लिए एक बारगी व्यय',\n",
              " 'उस बिंदु पर लेनदेन को पूर्ण माना जाता है और इनवॉइस अब ऐतिहासिक मूल्य के रूप में माना जाता है और अन्य तरीकों से उपयोग के लिए संग्रहीत किया जा सकता है जैसे कि सहायक दस्तावेज जब उस अवधि के लिए लेखा रिकॉर्ड का ऑडिट किया जाता है',\n",
              " 'कल्टीवेटर कितने प्रकार के होते हैं',\n",
              " 'अक्सर माहवारी से सम्बंधित परेशानी',\n",
              " 'यदि कोलेजियम फिर से उन्हीं नामों को पुनः भेजता है तो सरकार को उन नामों पर अपनी सहमति देनी होगी लेकिन जवाब देने के लिये समयसीमा तय नहीं है',\n",
              " 'इसी तरह से दमा एक क्रियाकारी गड़बड़ी है परन्तु एलर्जी और आनुवंशिक कारण इस पर असर डालते हैं',\n",
              " 'इस स्थिति के लिए एक एकल या मानक उपचार नहीं है हालांकि कई उपचार किसी व्यक्ति को अपनी स्मृति वापस पाने में मदद करने के लिए किए जा सकते हैं',\n",
              " 'जन्म के तत्काल बाद नग्न शिशु को उसकी मां की गोद में देना चाहिए',\n",
              " 'दूसरे देश में पहुँचने पर भी उसे शीतगृह में ही भंडारित किया जाता है जिसका तापक्रम 40 सेल्सियस होता है',\n",
              " 'इनके दूध में मक्खन का अंश पर्याप्त होता है',\n",
              " 'ऑनलाइन उपलब्ध परीक्षण के संस्करणों को लेने वाले लोगों को यह भी सलाह दी जाएगी कि वे आत्म-व्याख्या पर निर्भर होने के बजाय मानसिक स्वास्थ्य मार्गदर्शन प्राप्त करें भले ही वे असाधारण उच्च स्कोर प्राप्त न करें',\n",
              " 'लागत मूल्य का 100 तीन किस्तों में महिला एवं पुरुष दोनों के लिए',\n",
              " 'यदि अनुबंध सम्मानित नहीं किया जाता है तो भुगतान रसीद सबूत के रूप में कार्य कर सकती है अगर यह समस्या को अदालत में ले जाना आवश्यक हो जाता है',\n",
              " 'दुनिया में उत्पादित प्लैटिनम का आधे से अधिक हिस्सा ऑटोमोबाइल उद्योग द्वारा उपयोग किया जाता है',\n",
              " 'उदाहरण के लिए यदि निवेश संपत्ति समुदाय के तेजी से बढ़ते क्षेत्र में स्थित है और यह मानने का हर कारण है कि इकाइयां जल्द ही भर जाएंगी और मासिक बंधक भुगतान को कवर करने और संपत्ति को ठीक से बनाए रखने के लिए पर्याप्त राजस्व पैदा करेगी तो ऋणदाता हो सकता है वर्तमान बाजार मूल्य के करीब के लिए ऋण को मंजूरी देने के लिए तैयार रहें जिससे उधारकर्ता को कम डाउन पेमेंट जमा करना संभव हो सके',\n",
              " 'ज्ञात पिछले मायोकार्डिअल इन्फ़ेक्शंस वाले रोगियों में दिल के निशान वाले क्षेत्रों का पता लगाने में चुंबकीय अनुनाद इमेजिंग का उपयोग किया गया है',\n",
              " 'इस हिरासत मामले में सरोगेट माँ ने घोषणा की कि वह अपने अनुबंध को पूरा करने में असमर्थ थी और बच्चे को उसके माता-पिता के पास ले जाने में असमर्थ थी',\n",
              " 'बीमा पॉलिसियां जो ट्रक में लोड किए गए लोड को कवर करेंगी फिर से महंगी हो सकती हैं लेकिन अच्छी तरह से खर्च के लायक हैं',\n",
              " 'आमतौर पर एक खरीद सीमा आदेश वापस ले लिया जाता है जब सीमा मूल्य एक समय सीमा के भीतर हासिल नहीं किया जाता है जिसे निवेशक उचित मानता है',\n",
              " 'इसके अलावा ऐसे विशेष कर्मचारी हैं जो कई बैक-ऑफ़िस कार्यों में शीर्ष पर रहते हैं जैसे कि सभी प्रकार के लेनदेन पर नज़र रखना और यह सुनिश्चित करना कि वे ठीक से रिकॉर्ड किए गए हैं',\n",
              " 'इसके अतिरिक्त क्यारी विधि की तुलना में फव्वारा सिंचाई पद्धति कई तरह से लाभकारी है',\n",
              " 'साधारण परिस्थितियां जैसे कि निमोनिया कभी-कभी फेफड़ों तक पहुंचने पर रक्त के लिए पर्याप्त रूप से ऑक्सीजन युक्त होना मुश्किल बना सकता है',\n",
              " 'केवल अच्छी हवा की जरूरत पड़ती है',\n",
              " 'अन्यथा विदेशी मुद्रा जोखिम के रूप में जाना जाता है नुकसान तब होता है जब विनिमय दरों में बदलाव होता है और एक कंपनी को प्रतिकूल परिस्थितियों में मुद्रा खरीदने या बेचने के लिए मजबूर किया जाता है',\n",
              " 'साथ ही राष्ट्रीय उद्यानों और अभयारण्यों के निकट स्थित सवाई माधोपुर भरतपुर चिकमगलूर और जबलपुर आदि जैसे शहरों को उन्नत अपशिष्ट पुनर्चक्रण प्रक्रियाओं के साथ ग्रीन स्मार्ट शहरों में परिवर्तित कर किया जा सकता है',\n",
              " 'या एक लड़की को 16 वर्ष की उम्र से पहले उसकी पहली अवधि नहीं मिल सकती है इस स्थिति में इसे प्राथमिक एमेनोरिया कहा जाता है',\n",
              " 'अब ऐसे में नगरों में रहनेवाले वैसे लोग जो पौधे लगाने एवं रखने के शौकीन हैं उनके लिए एक ही उपाय बचता है कि वे विभिन्न प्रकार के गमलों में आकर्षक फूल एवं पत्ते वाले पौधों को लगाकर अपने घर की शोभा बढ़ाएँ',\n",
              " 'सेरेब्रल वैस्कुलिटिस के लक्षण अक्सर अन्य स्थितियों की नकल करते हैं जो प्रारंभिक निदान में देरी कर सकते हैं',\n",
              " 'आपूर्तिकर्ता के लिए क्रेडिट की रेखा का विस्तार करने का मतलब है कि राजस्व के स्थिर प्रवाह का निर्माण होता है यह मानते हुए कि सभी ग्राहक जिन्हें आपूर्तिकर्ता क्रेडिट दिया जाता है वे अपने बकाया शेष पर समय पर भुगतान करते हैं',\n",
              " 'सामुदायिक हॉल का निर्माणोत्तर रख-रखाव/प्रबंधन हॉल का ग्राम पंचायतों/मछुआरा समितियों के निर्माण प्रबंधाधिकरण/निकायों में निहित होगा',\n",
              " 'मेलेनोमा संक्रामक नहीं है और इसे शारीरिक संपर्क द्वारा प्रेषित नहीं किया जा सकता है',\n",
              " 'छोटी केशिकाओं और नसों का टूटना हो सकता है जिससे क्षेत्र में रक्त को पूल करने की अनुमति मिलती है',\n",
              " 'एक यदि बीमा कराने वाले के ही किसी गैरकानूनी कृत्य द्वारा उसकी मृत्यु हुई हो',\n",
              " '३०शय्या वाले १०२सामुदायिक स्वस्थ्य केंद्र का भवन निर्माण के लिए ३.१८ करोड़ रुपये प्रत्येक की लागत पर स्वीकृति एवं कार्यारम्भ',\n",
              " 'भले ही बुखार को एंटीपीयरेटिक्स और अन्य हस्तक्षेप के रूप में संदर्भित दवाओं के साथ नियंत्रण में लाया जा सकता है लेकिन सबसे प्रभावी उपचार आक्रामक रोगज़नक़ के शरीर को संक्रमित करता है',\n",
              " 'जब तक दोहरी रणनीति वांछित नहीं होती तब तक सामान्य रूप से ग्रोथ स्टॉक का चयन नहीं किया जाता है क्योंकि उच्च अस्थिरता के कारण उन्हें अधिक जोखिम सहिष्णुता की आवश्यकता होती है',\n",
              " 'लेखांकन रूढ़िवाद का उपयोग करने वाली कई कंपनियों के लिए सख्त राजस्व मान्यता एक आम नीति है',\n",
              " 'जबकि ये काले पैच स्वस्थ व्यक्तियों में दिखाई दे सकते हैं काले रंग के छल्ले या पैच जो त्वचा पर दिखाई देते हैं जिन्हें एकैनथोसिस नाइग्रीकन्स के रूप में जाना जाता है कई इंसुलिन-संबंधी समस्याओं की पहचान है',\n",
              " 'हालांकि कुछ लोगों को एक हर्निया के लक्षणों को अनदेखा करने के लिए लुभाया जा सकता है खासकर जब दर्द मतली और उल्टी मौजूद नहीं होती है कई विशेषज्ञ मानते हैं कि यह एक बुरा विचार है',\n",
              " 'चूंकि आप कोई निष्क्रिय गोलियां नहीं लेंगे इसलिए आपको मासिक धर्म जैसी रक्तस्राव नहीं होना चाहिए',\n",
              " 'आंतरिक कान में पांच सेंसर होते हैं जो सिर या शरीर के हिलने पर दृष्टि को संतुलन में रखते हैं',\n",
              " 'कुछ मामलों में बाज़ारों में गतिविधि करने वाले कारक स्पष्ट नहीं होते हैं जबकि अन्य समय में यह पता लगाना अधिक कठिन हो सकता है',\n",
              " 'बढ़ोत्तरी के लिए पर्यावरणीय कारक',\n",
              " 'गड्ढों में गांठ को रखने के बाद पुआल या लकड़ी के तख्तों से ढककर तख्तों को गोबर से लेप दें लेप करते समय छोटी मुहं हवा निकास के लिए अवश्य रखें',\n",
              " 'घर्षण जलन आमतौर पर दोनों घर्षण के साथ-साथ एक ही समय में होने वाली गर्मी के कारण होती है',\n",
              " 'इसके लिए डॉक्टर से मिले',\n",
              " 'एक जीवन बीमा दावा आमतौर पर काफी सीधे आगे होता है',\n",
              " 'इस विधि से आम जामून नीम आदि के फलों के बीज निकाले जाते हैं',\n",
              " 'उदाहरण के लिए सीमांत प्रभावी कर की दर सीमांत और प्रभावी कर की दर का एक संयोजन है और इसका उपयोग अंतिम या सीमांत डॉलर पर लगाए गए कुल कर की दर की गणना करने के लिए किया जाता है जो खर्च या अर्जित किया जाता है',\n",
              " 'अधिक गंभीर लक्षणों में हृदय की लय में परिवर्तन शामिल हैं',\n",
              " 'यह कई स्वास्थ्य समस्याओं का कारण बन सकता है अगर कोर्टिसोल के स्तर में स्पाइक लंबे समय तक रहता है और यह प्रशिक्षण में एथलीटों के लिए भी चिंता का विषय है क्योंकि टेस्टोस्टेरोन लोगों को मांसपेशियों के निर्माण में मदद करता है और कोर्टिसोल वास्तव में इसे तोड़ देता है',\n",
              " 'कुछ समझदारी युक्तियों का पालन करके माता-पिता स्वस्थ गर्भावस्था के अपने कष्टों को बढ़ा सकते हैं',\n",
              " 'गोनोरिया और क्लैमाइडिया को गर्भाशय ग्रीवा में संक्रमण के सामान्य यौन संचारित कारण माना जाता है',\n",
              " 'क्रोनिक पेट दर्द के अन्य संभावित कारणों में ईर्ष्या अल्सर आंतों में संक्रमण और शायद ही कभी ट्यूमर या अंग की समस्याएं जैसे एपेंडिसाइटिस शामिल हैं',\n",
              " 'तनावपूर्ण वातावरण में बड़े होने वाले बच्चों को अक्सर पुरानी तनाव से संबंधित कई चिकित्सा समस्याएं होती हैं और वे खराब पोषण जैसी हास्यबोध का अनुभव कर सकते हैं जिससे उनके लिए सामान्य रूप से विकसित होना मुश्किल हो जाता है',\n",
              " 'आयल सम्पूर्ण क्रास स्ट्रक्चरल क्षेत्र की आंतरिक परत को शामिल करता है',\n",
              " 'प्रारंभिक श्रम के परिणामस्वरूप भ्रूण संकट भी हो सकता है और कुछ बच्चों को सिर में चोट लग सकती है क्योंकि वे जन्म नहर से इतनी जल्दी गुजरते हैं',\n",
              " 'नीम बेस ऑयल – 2.50 लीटर उपलब्ध कराया गया',\n",
              " 'फूलों का हमारे स्वास्थ्य पर सीधा प्रभाव पड़ता है क्योंकि फूलों को हम सब्जियों की तरह खाने के उपयोग में नहीं लाते हैं',\n",
              " 'ऑटोमोबाइल इंश्योरेंस पॉलिसीहोल्डर्स के उच्च-जोखिम वाले पूल उदाहरण के लिए खराब ड्राइविंग रिकॉर्ड वाले ड्राइवरों से युक्त यह दर्शाता है कि वे अच्छे ड्राइविंग रिकॉर्ड वाले पॉलिसीधारकों की तुलना में ऑटो दुर्घटना होने का अधिक जोखिम रखते हैं',\n",
              " 'झारखण्ड में महत्वपूर्ण वृक्षों की तकनीकी जानकारीमहत्वपूर्ण वृक्षों की तकनीकी जानकारी',\n",
              " 'ऐसे किसानों को विभाग के पोर्टल पर पंजीकरण करवाना अनिवार्य होगा',\n",
              " 'इच्छुक पार्टियों के लिए कई हलाल बीमा योजनाएं उपलब्ध हैं जो स्वास्थ्य परिवार और जीवन के अन्य पहलुओं को कवर करती हैं',\n",
              " ' अधिसूचित  से आशय है  मध्यप्रदेश राजपत्र  में प्रकाशित अधिसूचना द्वारा अधिसूचित',\n",
              " 'परमाणु ऊर्जा संयंत्रों में उदाहरण के लिए स्टाफ के सदस्य हर समय सिस्टम की निगरानी करते हैं ताकि वे तेजी से कार्रवाई कर सकें अगर संयंत्र में समस्याएं विकसित होती हैं दोनों बिजली की एक स्थिर डिलीवरी सुनिश्चित करने के लिए और गंभीर दुर्घटनाओं के जोखिम को सीमित करने के लिए',\n",
              " 'दीमक एक ऐसा कीड़ा है जो प्राय प्रत्येक रबी फसलों को क्षति पहूंचाया हैं खासकर असिंचित या सीमित सिंचाई वाले क्षेत्रों में अधिक सक्रिया रहता है',\n",
              " 'नियोक्ता जो वृद्धि को अनुदान देता है वह बदले में बढ़ी हुई श्रम लागतों का सामना करता है जिसे माल या सेवाओं की कीमतों में वृद्धि करके पुनर्प्राप्त किया जा सकता है',\n",
              " 'कुछ मामलों में नाराज़गी और पीठ में दर्द के साथ-साथ कंधे और बांह में जकड़न या दर्द भी हो सकता है',\n",
              " 'प्रथम तीन सप्ताह में लीटर हल्का नम होना चाहिए',\n",
              " 'बाँस निर्मित पॉलीहाउसबाँस निर्मित पॉलीहाउस बनाने के लिए पॉलीहाउस का ढाँचा बाँसों से तैयार किया जाता है',\n",
              " 'निल्सन रिपोर्ट के अनुसार जेपी मॉर्गन चेस बैंक कार्ड जारी करने वाले सबसे बड़े फर्म हैं',\n",
              " 'गेंदा का वर्गीकरण मुख्यत दो वर्गों में किया जाता है पहला अफ़्रीकी गेंदा एवं दूसरा फ्रेंच गेंदा',\n",
              " 'यदि संक्रमण अधिक हो रहा है हालांकि सफेद रक्त कोशिकाओं को तेजी से खपत किया जा सकता है जिससे उन्हें छोड़ा जा सकता है जिससे कम गिनती हो सकती है',\n",
              " 'असाइनमेंट एक पेपर मॉनेटरी इंस्ट्रूमेंट था जिसे पहली बार सरकारी बॉन्ड के रूप में जारी किया गया था',\n",
              " 'कार्यालयों में कागजों के बजाय डिजिटल रिकॉर्ड रखने के लिए या कुछ होने की स्थिति में बैकअप के रूप में कार्यालयों की आवश्यकता होती है',\n",
              " 'औद्योगिक क्रांति से पहले लिचेन विकास के कारण पर्यावरण में हल्के रंग के पेड़ के चड्डी पाए गए थे',\n",
              " 'राजनैतिक दल किसी सामाजिक व्यवस्था में शक्ति के वितरण और सत्ता के आकांक्षी व्यक्तियों एवं समूहों का प्रतिनिधित्व करते हैं',\n",
              " 'मात्रात्मक सांख्यिकीय विश्लेषण किसी भी गणितीय प्रक्रिया व्यक्तियों को विशिष्ट डेटा पर लागू होता है',\n",
              " 'अन्य बार एक ही वर्ष में नुकसान उन लोगों के लिए एक वापसी का संकेत दे सकता है जो पिछले तीन वर्षों में एक या सभी में फाइल करने में विफल रहे हैं',\n",
              " 'फिर एजेंट निर्धारित करते हैं कि भवन कितना मूल्य है और अर्जित आय के एक हिस्से को भवन के लिए आवंटित करें',\n",
              " 'अन्य लोग इसके विपरीत जाते हैं और अपनी गतिशीलता और अपनी सेवाओं के अंदर और बाहर संक्रमण करने की आसानी का हवाला देते हुए उन ग्राहकों से अपील करते हैं जो अधिक लचीले विकल्प चाहते हैं',\n",
              " 'उत्तरी अक्षांशों की ध्रुवीय ज्योति को सुमेरु ज्योति या उत्तर ध्रुवीय ज्योति तथा दक्षिणी अक्षांशों की ध्रुवीय ज्योति को कुमेरु ज्योति या दक्षिण ध्रुवीय ज्योति कहते हैं',\n",
              " 'अधिकांश सभी सरकारों के पास कानून हैं जो उन्हें अपने नागरिकों के कानूनी कराधान का अधिकार देता है',\n",
              " 'खुजली जलन दर्दनाक पेशाब बादल मूत्र या लगातार पेशाब करने के लिए दबाव की आवश्यकता सभी लक्षण हैं',\n",
              " 'आवेदक तरापों की स्थापना के लिये संबंधित राज्य आकार संघ-शासित क्षेत्र की सरकार और अन्य सक्षम प्राधिकारियों से अनिवार्य पूर्व-अनुमतियाँ प्राप्त करेगा',\n",
              " 'हालांकि कई स्टोर सहकारी हैं और यही कारण है कि आपको रिटर्न बनाते समय हर परिदृश्य में रसीद की आवश्यकता नहीं होती है',\n",
              " 'इन कार्यों में एक विशेष परिसंपत्ति वर्ग में निवेश की सिफारिश करना शामिल है जैसे कि इक्विटी फिक्स्ड आय या हेज फंड या एक प्रवृत्ति को पहचानना जो यह बताता है कि उपरोक्त उल्लिखित श्रेणियों में से किसी से विभाजित करने का समय है',\n",
              " 'औसत उत्पादन लगभग 70 कि ग्रा प्रति वृक्ष होता है',\n",
              " 'उनमें से कुछ शारीरिक रूप से कमरे या बातचीत को छोड़ देंगे यदि कोई संघर्ष पक रहा है और इस पर चर्चा करने से इनकार करते हैं',\n",
              " 'कुछ महिलाओं को रात में सोने से तुरंत पहले गोली लेने से फायदा होता है',\n",
              " 'एक फ़ाइब्रोएफ़ेथियल पोलिप जिसे एक्रोकॉर्डन के रूप में जाना जाता है और इसे त्वचा टैग के रूप में भी जाना जाता है यह एक नरम छोटा सौम्य ट्यूमर है जो त्वचा पर दिखाई देता है',\n",
              " 'भारत में जनसँख्या वृद्धि एक विकट समस्या हैं जहाँ एक और किसान के पास सीमित कृषकभूमि है वहीँ दूसरी और सीमित सांसदों के रहते किसान को आवश्यक है की कृषि से अधिक से अधिक उपज प्राप्त हो सके इसलिए रसायनो का उपयोग कृषि में बढ़ता जा रहा है जिससे पर्यावरण प्रदूषित हो रहा है',\n",
              " 'किसी भी म्यूचुअल फंड की तरह मिड-कैप वैल्यू फंड में भाग लेने के लिए एक निवेशक को न्यूनतम भुगतान करना पड़ता है',\n",
              " 'इस ऊतक का आधार दृढ़ता से हड्डी के लिए लंगर डाला हुआ है जबकि ऊपरी भाग स्वतंत्र है जिससे मसूड़े को दांतों के बीच चलाने में मदद मिलती है ताकि उन्हें स्थिर किया जा सके और उन्हें बनाए रखा जा सके',\n",
              " 'कुछ मनोवैज्ञानिक विकार मस्तिष्क में रासायनिक न्यूरोट्रांसमीटर के असंतुलन के कारण होते हैं और कुछ पर्यावरणीय कारकों जैसे आघात के परिणामस्वरूप होते हैं',\n",
              " 'इसलिए तटों के किनारों पर नदमुख लैगून समुद्री पुलिन तथा बालू रोधिका जैसी स्थलाकृतियाँ मिलती हैं',\n",
              " 'इसके साथ ही लोहा बनाने की तकनीकें आयीं और शोधित कोयले का अधिकाधिक उपयोग होने लगा',\n",
              " 'बैंक कार्ड को डेबिट कार्ड के रूप में उपयोग करने के लिए एक व्यक्तिगत पहचान संख्या दर्ज करनी होगी',\n",
              " 'स्त्री कप जो योनि के अंदर तरल को पकड़ने के लिए रखा जाता है को भी बेचा जाता है और कई महिलाएं उन्हें अत्यधिक प्रभावी लगती हैं',\n",
              " 'कभी-कभी शरीर में अत्यधिक तत्व दिल की समस्याओं को जन्म दे सकते हैं',\n",
              " 'उदाहरण के लिए वित्तीय विश्लेषण उपकरण कार ऋण पर ब्याज दर प्रस्तावित डाउन पेमेंट और भुगतान की संख्या के बारे में इनपुट ले सकते हैं',\n",
              " 'प्रति इकाई लागत पर अधिक उत्पाद छोटे आकार एवं कम आयु में खाने योग्य हो जाना',\n",
              " 'फिर भी बहुत सारे उपयोगकर्ता दोनों टर्म्स के बीच भ्रमित हो जाते हैं',\n",
              " 'अंतिम रंगीन समाधान के हल्के अवशोषण को तब एलिसा प्लेट रीडर या स्पेक्ट्रोफोटोमीटर पर मापा जाता है',\n",
              " 'ध्वनि तरंगों को यथासंभव सटीक रूप से प्रसारित करने में मदद करने के लिए पेट पर एक जेल पहले लगाया जाता है',\n",
              " 'इसकी खेती सर्दी गर्मी एवं वर्षा तीनों मौसमों में की जाती है',\n",
              " 'वेस्ट डीकंपोजर तैयार करने का तरीका',\n",
              " 'गहरी जुताई द्वाराः यदि गर्मी के दिनों में खेतों की गहरी जुताई करके छोड़ दिया जाए तो खरपतवारों के बीज व कंद जमीन के उपर आ जाते हैं तथा तेज धूप में अपनी अंकुरण क्षमता खोकर निष्क्रिय हो जाते हैं',\n",
              " 'यौन परिपक्वता पर आयु– 155-160 दिन वार्षिक अंडा उत्पादन– 190-200',\n",
              " 'साथ ही फाइबर भी इसमें अचछी मात्रा में होता है जो आपके पाचन तंत्र को बेहतर बनाए रखता है',\n",
              " 'इसमें उच्च ब्याज दरों और उच्च सेटअप लागतों पर विचार करना शामिल हो सकता है जो आमतौर पर किसी भी बंधक या खरीद से जुड़े होते हैं जो इस विकल्प को प्रदान करते हैं',\n",
              " 'कई महिलाओं को यह भी एहसास नहीं होता है कि जब तक वे गर्भवती होने की कोशिश नहीं करते हैं तब तक उनके पास एक बीकोर्न गर्भाशय है',\n",
              " 'ऐसे मामलों में जहां डेटाबेस तीसरे पक्ष द्वारा संकलित किए जाते हैं ग्राहकों को ट्रैक करने वाली कंपनियों के बजाय ऑप्ट-आउट करना कठिन होता है क्योंकि ये पार्टियां समान कानूनी आवश्यकताओं के अधीन नहीं होती हैं',\n",
              " 'व्यवसाय बढ़ने या इसके संचालन के अनुबंध के कारण कारक बदल सकते हैं',\n",
              " 'अपेक्षित एक्सपोजर को प्रभावित करने वाले कुछ कारकों में अपेक्षित भविष्य की घटनाएं और क्रेडिट लेनदेन के प्रकार शामिल हैं',\n",
              " 'यह प्रतीक्षा जिसे कभी-कभी  समाशोधन अवधि  कहा जाता है धन को ग्राहक द्वारा तुरंत उपयोग किए जाने से रोकता है',\n",
              " 'यदि आपको बैंक से नोटिस प्राप्त होता है कि आपका खाता फ्रीज कर दिया गया है तो यह आमतौर पर एक वकील के लिए संपर्क जानकारी के साथ एक पत्र होगा उस वकील को जल्द से जल्द प्रक्रिया शुरू करने के लिए कहें',\n",
              " 'लोकसभा का विघटन यदि मंत्रीपरिषद को बहुमत प्राप्त नहीं है',\n",
              " 'खेत की अच्छी तरह साफ सफाई करें',\n",
              " 'आखिरकार हेमेटोमा आमतौर पर खुद ही फैल जाएगा',\n",
              " 'बैंक द्वारा निर्धारित कुल परियोजना लागत का 10 प्रतिशत',\n",
              " 'कंपनियां अक्सर इन ऋण उपकरणों को जारी करती हैं क्योंकि उन्हें दीर्घकालिक परियोजनाओं के लिए धन की आवश्यकता होती है',\n",
              " 'निराई गुड़ाई व खरपतवार नियंत्रण आवश्यकतानुसार समय पर निराई करें',\n",
              " 'इसका एक कारण यह है कि लोग छुट्टियों के दौरान अधिक वित्तीय रूप से उदार हो सकते हैं फंडराइजर के लिए एक विक्रय बिंदु',\n",
              " 'तंत्रिका कोशों का सम्प्रेष्ण व्यवस्था का निर्माण मस्तिष्क विकास के स्वरूप में निहित होता है प्रत्येक तंत्रिका कोश के तीन विकासात्मक चरण होते हैं कोशिका उत्पादन कोशिका प्रवर्जन एवं कोशिका विभाजन',\n",
              " 'यह किस्म मुरब्बा जैम एवं कैन्डी बनाने हेतु उपयुक्त पायी जाती है',\n",
              " 'तरल पदार्थ में मौजूद बैक्टीरिया या कवक कान के संक्रमण के लक्षणों को बढ़ा सकते हैं और पैदा कर सकते हैं',\n",
              " 'फलों में क्राउन गॉल एग्रोबैक्टिरियम ट्यूमेफिसीयेन्स',\n",
              " 'निवेशक हमेशा भविष्य की ओर देख रहे हैं ताकि अन्य निवेशकों से आगे निकलने की कोशिश की जा सके',\n",
              " 'दूसरे शब्दों में हल्के चक्कर आना और मतली दोनों हल्के कुंद आघात और गंभीर मर्मज्ञ आघात के लक्षण हो सकते हैं',\n",
              " 'जर्मनी 1939 में इसी तरह के कानून बनाया',\n",
              " 'जो छात्र वर्ष भर काम करते हैं वे इस श्रेणी में छात्र कर छूट के लिए पात्र हैं यदि वे संबंधित वर्ष के लिए सीमा राशि से नीचे हैं',\n",
              " 'उनके पास काम करने के लिए कपड़ों की विस्तृत श्रंखला और सामग्री का संयोजन होता है और इसके साथ ही रंगों नमूनों और शैलियों की भी विस्तृत श्रंखला होती है',\n",
              " 'खरीदारों को चैटटेल बंधक प्रदान करने वाले लाभों के साथ उधारदाताओं को इस विशेष उधार मॉडल के उपयोग से भी लाभ होता है',\n",
              " 'तिरछा टोन करने की बहुत इच्छा है क्योंकि वे एक सुडौल कमर बनाने में मदद कर सकते हैं और फ्रीर मूवमेंट का कारण भी बन सकते हैं',\n",
              " 'यदि उसके अंदर कोई मुर्गा नहीं है तो यह काम एक मुर्गी करती है',\n",
              " 'ब्रेकनराइड्ज और विन्सेंट के अनुसार कोई भी ऐसी चीज जो उसमें दूसरों से श्रेष्ठ होने भावना पैदा करती हो जैसे मजाक निषिद्ध वस्तुएँ खाना सिगरेट पीना या नशा तो उसे बहुत ही आनन्द आता है',\n",
              " 'मड़ाई या गहाई ट्रैक्टर या बैलों द्वारा की जा सकती है परन्तु थ्रेशर मशीन द्वारा गहाई करने से समय एवं श्रमिकों की बचत होती है',\n",
              " 'रेनबो ट्राउट मछली की एक प्रजाति है',\n",
              " 'जल का पर्याप्त मात्रा में उपयोग',\n",
              " 'यह स्थिति उन महिलाओं में बहुत आम है जो गर्भवती हैं या उन्हें समय पर बाथरूम पहुंचने में कठिनाई होती है',\n",
              " 'जो पशु पूर्ण रूप से अपने भोजन के लिए मांस पर निर्भर होते हैं उन्हें मांसाहारी कहा जाता है इसके विपरीत वनस्पति खाने वाले पशुओं को शाकाहारी कहते हैं',\n",
              " 'एक्वेरियम प्रबंधन के लिए आवश्यक बातें',\n",
              " 'हाइड्रोलिसिस के दौरान स्टार्च शर्करा बन जाते हैं प्रोटीन अमीनो एसिड बन जाते हैं वसा फैटी एसिड और ग्लिसरॉल बन जाते हैं और न्यूक्लिक एसिड न्यूक्लियोटाइड बन जाते हैं',\n",
              " 'बैक्टीरिया का विरोध करने में मदद करने के लिए कपड़ों के लिए कई उपचार उपलब्ध हैं',\n",
              " 'किसी भी ब्याज को भी शामिल किया जाना चाहिए क्योंकि आप एक वचन पत्र लिखते हैं',\n",
              " 'व्यक्तियों को अक्सर पोस्टप्रांडियल हाइपोग्लाइसीमिया का विकास होता है जब सर्जरी के कारण उनका पाचन कार्य बाधित हो जाता है',\n",
              " 'नासूर सूक्ष्म घाव अथवा धब्बे के रूप में शुरू होता है और 2 – 10 मिमी व्यास तक पहुँच जाता है इसका अंतिम आकार तथा संक्रमण मुख्य रूप से फसल की आयु एवं पौधों के ऊतकों पर निर्भर करता है घाव शूरू में गोल लेकिन बाद में अनियमित हो जाते हैं',\n",
              " 'अच्छी प्रकार से सड़ी हुई गोबर की खाद का ही उपयोग करें',\n",
              " 'जब वह स्थिति होती है तो निवेशक निवेश से कोई पैसा नहीं कमाता है या संभवतः पैसे खो देता है',\n",
              " 'इन दिनों ऐसे ही प्रदूषित जल की मात्रा दिनों दिन बढ़ रही है फलस्वरूप पृथ्वी पर पानी की पर्याप्त मात्रा मौजूद होने के कारण दुनिया के अधिकांश हिस्से में पेयजल की त्राहि-त्राहि मची दिखती है',\n",
              " 'दालें अनाज में आतीं हैं',\n",
              " 'क्लोरीन ब्लीच का उपयोग कभी-कभी डेकेयर केंद्रों और किंडरगार्टन में कीटाणुशोधन खिलौनों के रूप में किया जाता है जो कई बच्चों द्वारा संभाला जाता है इस प्रकार एक बच्चे से दूसरे बच्चे में रोगाणु के प्रसार को कम करने में मदद करता है',\n",
              " 'उदाहरण के लिए एक परीक्षण चलाने वाले वित्तीय विश्लेषकों को अनुमानित आर्थिक पूर्वानुमानों का उपयोग करने की संभावना है और देखें कि बैंक उस स्थिति से कितनी अच्छी तरह निपट सकते हैं',\n",
              " 'बांस के फर्नीचर में बनते हैं जैसे सोफा कुर्सी अलमारी आदि',\n",
              " 'क्रेडिट गारंटी की सटीक संरचना सरकारी नियमों पर निर्भर करती है जो लेनदेन को नियंत्रित करती है',\n",
              " 'खरपतवार प्रबंधन के प्रमुख तरीके निम्नांकित हैं',\n",
              " 'इन दस्तावेजों का एक अन्य महत्वपूर्ण पहलू यह सूचीबद्ध करता है कि किस मूल्य के लिए कितने शेयर प्रदान किए जाएंगे',\n",
              " 'वैश्विक निजी बैंकिंग अनिवार्य रूप से एक परिसंपत्ति प्रबंधन प्रणाली है लेकिन यह ग्राहकों को अतिरिक्त सेवाएं प्रदान करती है',\n",
              " 'ये दिशा-निर्देश नियोक्ता और श्रमिक संगठनों एच आई वी/एड्स से पीड़ित व्यक्तियों अन्तर्राष्ट्रीय श्रम संगठन और यू एन ए आई डी एस के साथ परामर्श से उभर कर सामने आये हैं',\n",
              " 'शीघ्र पकने वाली प्रजातियों में नरेन्द्र-97 मालवीय धान-2 एवं मध्यम देर से पकने वाली प्रजातियों में नरेन्द्र-359 सूरज-52 आदि धान की प्रजातियां ड्रम सीडर से बुआई के लिए उपयुक्त है',\n",
              " 'एक्सचेंज ट्रेडेड फंड के साथ क्या होता है विभिन्न विभिन्न इक्विटी को आसानी से ट्रैक किए जाने योग्य उत्पाद और कीमत में बांधा जाता है',\n",
              " 'संवाद सहयोगी फतेहगढ़ साहिब कृषि व किसान भलाई विभाग द्वारा पराली को आग न लगाने संबंधी चलाई जा रही जागरूकता मुहिम के तहत ब्लाक खेड़ा के गांव सद्दोमाजरा और कोटला भाईका चालई गई',\n",
              " 'पहले प्रकार असुरक्षित ऋण स्टॉक मूल रूप से इसका मतलब है कि ऋण प्राप्त करने वाली कंपनी यह गारंटी देने के लिए कोई संपार्श्विक नहीं देती है कि ऋण का भुगतान किया जाएगा',\n",
              " 'प्रतिस्थापन को आने में कुछ समय लग सकता है यह दावा करने के बावजूद कि इसे अगले दिन मेल के माध्यम से वितरित किया जाएगा और कभी-कभी ग्राहकों को एक कटौती योग्य भुगतान करना पड़ता है जो प्रतिस्थापन की लागत को काफी बढ़ा सकता है जब लोग मासिक भुगतानों पर विचार करते हैं बीमा योजना पर बनाया गया',\n",
              " 'वयस्क पुरुषों में पूरी तरह से सीधा होने पर योग्यता माप 3 इंच होता है',\n",
              " 'यह एक अन्य महत्त्वपूर्ण व आम का प्रमुख कीट है',\n",
              " 'न्यूमोनियाकी तरह बालकदमा में शुरू से बुखार नही होता',\n",
              " 'सबसे अधिक बार लोग उन गतिविधियों में संलग्न होते हैं जिनसे वे व्यक्तिगत आनंद प्राप्त करते हैं',\n",
              " 'एमपीटी में कुशल फ्रंटियर की अवधारणा शामिल है जिस पर बाजार पोर्टफोलियो बैठता है',\n",
              " 'उदाहरण के लिए कई बीमा कंपनियां अब सार्वजनिक रूप से कारोबार करने वाली कंपनियां हैं',\n",
              " 'कुछ विज्ञापन-समर्थित हो सकते हैं या उपयोगकर्ता द्वारा भुगतान किए जाने तक कुछ कार्य लॉक हो सकते हैं',\n",
              " 'प्रदेश के विभिन्न खंडों में मक्की की बिजाई के निम्नलिखित उपयुक्त समय हैं',\n",
              " 'कुलथी के दानों को धूप में अच्छी तरह सुखा कर ही भंडारण करें',\n",
              " 'इसके प्रमुख उन्नतशील प्रभेद टी-9 पन्त यू 19 तथा बिरसा उरद है',\n",
              " 'आमतौर पर नकद मजदूरी एक बयान के साथ आती है जो मजदूरी का टूटना प्रदान करती है',\n",
              " 'एक बीमाकर्ता को अपने निवेश जोखिम का स्वतंत्र जारी मूल्यांकन करना चाहिए और निदेशक मंडल को रिपोर्ट करना चाहिए',\n",
              " 'भारत का एक मुख्य त्योहार है होली जो वसन्त ऋतु में मनाया जाता है',\n",
              " 'उपधारा के अधीन नियुक्त प्रशासक ऐसी बैंककारी कंपनी के निदेशक बोर्ड के पुनर्गठन के ठीक पश्चात् अपना पद रिक्त कर देगा',\n",
              " 'जिन महिलाओं को एक या दोनों स्तनों की शारीरिक चोट या क्षति हुई है जैसे कि एक कुंद बल आघात उन्हें मिल सकता है',\n",
              " 'अल्पकालिक दृष्टिकोण का उपयोग अक्सर तब किया जाता है जब कोई कंपनी शत्रुतापूर्ण अधिग्रहण के प्रयास से बचना चाहती है',\n",
              " 'ऐसा होने पर ब्लड शुगर कम होगा',\n",
              " 'पेशाब करते समय दर्द व जलन',\n",
              " 'सबसे पहले एक कमजोर बाजार में विक्रेताओं की असामान्य रूप से उच्च संख्या होगी',\n",
              " 'गर्भ निरोधक के रूप में आई यू डी काफी प्रभावी है तथापि इसके कुछ अतिरिक्त परिणाम भी है जिनमें से कुछ हैं',\n",
              " 'एक भी ओवरडोज आकस्मिक या न होने की स्थिति में पेट की पंपिंग कभी-कभी अमांतादीन विषाक्तता से जुड़े दौरे और अंततः कोमा को रोक सकती है लेकिन जब एक मरीज ने समय की एक विस्तारित अवधि में इलाज किया है तो स्थिति का इलाज करना बहुत कठिन हो सकता है',\n",
              " 'यदि कोई निवेशक की तलाश में है तो वह स्पष्ट रूप से गहरी जेब के साथ एक को खोजने में रुचि रखने वाला है',\n",
              " 'टिकाऊ फसल बनाए रखें मछली स्टॉक सीमित हैं और जैविक उत्पादकता एक मत्स्य से संभावित उपज को रोकती है',\n",
              " 'वित्तीय संकट उन अप्रत्याशित कारकों के कारण भी हो सकते हैं जिनका निगम के विभिन्न राजस्व धाराओं पर प्रतिकूल प्रभाव पड़ता है',\n",
              " 'इतना ही नहीं किसान समूहों में अच्छी किस्म का बीज लाकर किसान भाईयों को देते हैं',\n",
              " 'कुछ स्थानों पर करदाता अपनी देयता का पता लगाने के लिए प्रतिशत का उपयोग करेगा',\n",
              " 'सगाई की अंगूठी बीमा विशेष रूप से लोकप्रिय होने के साथ कंगन हार कान की बाली और अंगूठी बीमा ढूंढना संभव है',\n",
              " 'पिटुनिया – रोयाल्टी ब्रुपीस रोयल्टी पीचरेड स्नोवाल फायर चीफ लेडीबर्ड बींगो डजलर क्रिम स्टार पर्पल प्रिंस सुपर फ्रिल्स रामोना पॉपकार्न',\n",
              " 'के लिए कहा जाता हैऐतिहासिक रूप से उधार देने की गतिविधियों से लाभप्रदता चक्रीय हो गया है और है और ऋण ग्राहकों की ताकत ज़रूरत पर निर्भर है हाल के इतिहास में निवेशकों ने एक अधिक स्थिर राजस्व धरा की मांग की है और बैंक इसलिए ने लेनदेन फीस पर अधिक जोर दिया है प्राथमिक ऋण शुल्क पर सेवा प्रभार मुख्य रूप से ऋण फीस',\n",
              " 'विचार स्वास्थ्य सेवा प्रदाता को देखने से पहले बुनियादी जानकारी इकट्ठा करना है और एक विश्वसनीय ऑनलाइन सुनवाई परीक्षण बुनियादी जानकारी प्रदान कर सकता है',\n",
              " 'आमतौर पर पारिवारिक क्रेडिट परामर्श में निवेश सलाह शामिल नहीं होती है जैसे कि स्टॉक क्रय सलाह जो एक वित्तीय योजनाकार पेश कर सकती है',\n",
              " 'बेक एंक्जाइटी इन्वेंटरी एक छोटा परीक्षण है जो एक व्यक्ति को एक मानसिक स्वास्थ्य पेशेवर द्वारा व्यक्तिगत रूप से या प्रशासित किया जा सकता है जो साधारण स्तर के माध्यम से चिंता के स्तर को मापता है',\n",
              " 'एक सामान्य उदाहरण कंपनी के लिए कार्यालय की आपूर्ति खरीदने के लिए पेटीएम कैश का उपयोग करते हुए एक कार्यालय प्रबंधक होगा',\n",
              " 'जमीन पर एक चट्टान की तरह अपेक्षाकृत कुछ सरल द्वारा प्रतिगमन को ट्रिगर किया जा सकता है क्योंकि रोगी की संतुलन की भावना इतनी खराब है और शरीर को संतुलन गड़बड़ी के लिए सही करने में कठिनाई होती है',\n",
              " 'उदाहरण के लिए इक्विटी प्रतिभूतियों का एक बड़ा धारक कई शेयरों का मालिक हो सकता है जो कंपनी के कुल शेयरों का 10 प्रतिशत व्यापार के लिए उपलब्ध होते हैं',\n",
              " 'नकद चीजों के लिए भुगतान करने का एक कम सामान्य तरीका बनता जा रहा है और वास्तव में ऐसे बहुत सारे लोग हैं जो नकद लेने की सराहना नहीं करते हैं',\n",
              " 'कभी-कभी पॉलिन्युरोपैथिस न केवल सेंसरिमोटर न्यूरोपैथी का कारण बनता है बल्कि स्वायत्त तंत्रिका तंत्र को भी नुकसान पहुंचाता है',\n",
              " 'इंटरनेट स्रोतों के बीच दुकान की तुलना करने के लिए कुछ घंटों को समर्पित करने में मदद मिल सकती है कई बुनियादी गाइडों को देखने के लिए जहां वे सहमत हैं और असहमत हैं',\n",
              " 'इसकी सतह विभिन्न प्लेटों से बनी हुए है',\n",
              " 'यदि मत्स्य बीज निष्कासन में विलम्ब हो तो नर्सरी में उपलब्ध बीज की अनुमानित वजन का 2 प्रतिशत वजन के बराबर पूरक आहार का प्रयोग तब तक करते रहना चाहिये जब तक मत्स्य बीज का उठाव न हो जाए',\n",
              " 'अन्य न्यायालयों में करदाताओं के लिए अस्थाई डिफाल्टर उपलब्ध हैं जो सेवानिवृत्ति की आयु से अधिक हैं',\n",
              " 'मूनलाइट ओरेन्ज जूबली प्रिमरोज सोबेरेन रिवरसाइड सन जियान्ट्स सुपर चीफ डबल टेक्सास येलो क्लाइमेक्स येलो फ्लफी येलोस्टोन जियान्ट डबल अफ्रीकन ओरेन्ज जियान्ट डबल अफ्रीकन येलो इत्यादि',\n",
              " 'मॉर्फिन विशेष रूप से इस दुष्प्रभाव के लिए जाना जाता है',\n",
              " 'सभी एलर्जीएं मस्तिष्क को प्रभावित नहीं करती हैं जिससे मस्तिष्क की एलर्जी का निदान करना पारंपरिक एलर्जी के निदान की तुलना में अधिक कठिन हो जाता है',\n",
              " 'यह सच है लेकिन यह बिल्कुल एंगेलिक नहीं है क्योंकि अधिकांश आधुनिक लोग इसे देखेंगे',\n",
              " ' सक्रिय बाज़ार  एक शिथिल-परिभाषित वाक्यांश है जिसका बाज़ार में विशेष रूप से उच्च स्तर का व्यापार होता है',\n",
              " 'कई उपचार विकल्पों को केवल एक फर्म निदान के साथ माना जाएगा और जो रोगी अपने उपचार के लिए बीमा कवरेज जैसे लाभ चाहते हैं उन्हें आमतौर पर उनके निदान के प्रमाण प्रदान करने की आवश्यकता होती है',\n",
              " 'बीमा प्रीमियम के बदले में बीमा कंपनी आर्थिक नुकसान के जोखिम को मानती है',\n",
              " 'अनुमस्तिष्क गतिभंग से जुड़ी समस्याओं का प्रकार और गंभीरता अंतर्निहित कारण पर निर्भर करती है लेकिन अधिकांश पीड़ित लोग ठीक मोटर आंदोलनों के साथ कुछ हद तक कठिनाई का अनुभव करते हैं',\n",
              " 'एक विस्तारवादी नीति एक रणनीति है जो एक विशेष अर्थव्यवस्था में धन की आपूर्ति का विस्तार करने के लिए तैयार की जाती है जैसे कि राष्ट्रीय अर्थव्यवस्था',\n",
              " 'सीधे शब्दों में कहें शरीर कुशलता से अनुभवों का विरोध करता है जैसे कि भय और आनंद एक ही साइट पर जिससे लोगों को एक ही बार में अनुभव करना मुश्किल हो जाता है',\n",
              " 'किसी स्थिति में लागू होने वाले बहिष्करणों की सीमा का निर्धारण करने के लिए प्रदाता अक्सर आवेदक के आस-पास की परिस्थितियों का आकलन करते हैं और उन स्थितियों या घटनाओं की पहचान करते हैं जो कंपनी के लिए अस्वीकार्य डिग्री बना सकते हैं',\n",
              " 'गर्भाशय ग्रीवा गर्भाधान जहां शुक्राणु गर्भाशय ग्रीवा में जमा होता है आमतौर पर उपयोग नहीं किया जाता है क्योंकि सफलता दर कम है',\n",
              " 'ध्यान को एक गंभीर लक्षण के रूप में माना जाना चाहिए और एक चिकित्सक या स्वास्थ्य देखभाल प्रदाता के तत्काल ध्यान में लाया जाना चाहिए',\n",
              " 'एक व्यक्ति या तो प्राथमिक थ्रोम्बोसाइटोसिस विकसित कर सकता है जहां स्थिति का कोई ज्ञात कारण नहीं है या माध्यमिक थ्रोम्बोसाइटोसिस जहां स्थिति किसी अन्य स्वास्थ्य मुद्दे के परिणामस्वरूप विकसित होती है',\n",
              " 'उदाहरण के लिए पूंजी संरचना में ऋण का एक उच्च अनुपात इक्विटी पर रिटर्न बढ़ा सकता है लेकिन ऋण जोखिम और चुकौती की लागत को दिखाने के लिए उपेक्षा करेगा',\n",
              " 'ग्रामीण परिस्थितियों में इनकी मृत्यु दर भी अधिक है',\n",
              " 'माँ का दूध बच्चों के लिए पूर्ण आहार होता है और इससे बच्चों को कोई एलर्जी या पेट की तकलीफ नहीं होती',\n",
              " 'सुमितोमो मित्सुई ट्रस्ट होल्डिंग्स इंक पूर्व में चुओ मित्सुई ट्रस्ट होल्डिंग्स इंक एक जापानी वित्तीय होल्डिंग कंपनी है जिसका मुख्यालय चियोडा टोक्यो में है',\n",
              " 'पत्तियों पर पीले सुनहरे चकत्ते पड़ जाते हैं',\n",
              " 'गड्ढों को रोपण के 15-20 दिवस पहले ही खोदकर सूर्यप्रकाश में खुला छोड़ दिया जाता है ताकि कलमों की जड़ खराब करने वाले दीमक व चींटी दूर हो जाएं',\n",
              " 'पानी में लगातार भींगते रहने या सर्दी के मौसम में खुले स्थान में बांधे जाने वाले मवेशी को निमोनिया रोग हो जाता है',\n",
              " 'वे विशिष्ट तरीकों में मानक लेज़र पेपर के समान हैं',\n",
              " 'इन लागतों में कॉस्मेटिक सर्जरी अंतिम संस्कार खर्च ओवर-द-काउंटर दवाएं मातृत्व कपड़े और किसी भी अन्य खर्च शामिल हैं जो प्रक्रियाओं से उत्पन्न होते हैं जिन्हें चिकित्सकीय रूप से आवश्यक नहीं माना जाता है और प्रकृति में स्वैच्छिक हैं',\n",
              " 'प्रेसिजन खेती ड्रिप सिंचाई और संवर्धित किस्मों ने किसानों को अधिक मुनाफा कमाने में सक्षम बनाया गया',\n",
              " 'प्रथम बार प्रजनन की उम्र 36 से 42 महीने',\n",
              " 'हम इसे तभी जारी रख सकते हैं अगर आप हमारी रिपोर्टिंग लेखन और तस्वीरों के लिए हमारा सहयोग करें',\n",
              " 'लोना में पोटैशियम की मात्रा ज्यादा होने से वह किडनी फेल्योर वाले मरीजों के लिए जानलेवा हो सकता है',\n",
              " 'कुछ मामलों में वायरस प्रतिजन को जारी नहीं किया जा सकता है या पता नहीं लगाया जा सकता है',\n",
              " 'पिछला प्रदर्शन अक्सर भविष्य के परिणामों का संकेत होता है इसलिए सफल निवेश के ट्रैक रिकॉर्ड के साथ एक माइक्रोफाइनेंस फंड को अनस्टिप्लंटेड फंड में निवेश करने से अधिक सुरक्षित माना जाता है',\n",
              " 'सरकारी अनुदान हेतु प्रस्ताव विधि एवं अनुदान की निर्मुक्ति',\n",
              " 'स्वास्थ्य बीमा कंपनियां या दलाल स्वास्थ्य बीमा धोखाधड़ी के विभिन्न प्रकार भी कर सकते हैं',\n",
              " 'इस परियोजना का क्रियान्वयन अर्ध शुष्क क्षेत्र के अंतर्गत कृषि अनुसंधान केंद्र श्रीगंगानगर तथा पंजकोसी फजिलका के किया गया',\n",
              " 'यदि संख्याएं मेल नहीं खाती हैं तो लेनदेन को अस्वीकार किया जा सकता है',\n",
              " 'इनकी सुनहरी ऑंखें होती हैं और नाजुक नेटदार पंख होते हैं',\n",
              " 'ये एसोसिएशन इस बात पर भी प्रभाव डाल सकते हैं कि लोग मार्केटिंग पर कैसे प्रतिक्रिया देते हैं और उनके जीवन के बारे में सवालों के जवाब देते हैं',\n",
              " 'सर्दियों में जब त्वचा सूख जाती है तो कई लोग फटे होंठों के रूप में हल्के चीलोसिस का विकास करते हैं',\n",
              " 'इसके बाद उपचारित बीज को छाया में फैलाकर एक रात के लिए रख देते है और अगले दिन इनकी बुआई करते है',\n",
              " 'आपके दिमाग से नकारात्मक विचार प्रवाहित होते हैं और आपका दिल दौड़ने लगता है',\n",
              " 'उत्तरप्रदेश और बिहार में व्यावसायिक स्तर पर परवल लगाने की यह एक लोकप्रिय विधि है',\n",
              " 'सबसे आम लागतों में से कुछ को घटाया नहीं जा सकता है जिसमें अंतिम संस्कार या दफन खर्च ओवर-द-काउंटर दवाएं और कई कॉस्मेटिक सर्जरी शामिल हैं',\n",
              " 'उपज गैर फलन पौध संखया लगभग 10 प्रति ” ात',\n",
              " 'पशुपालन से राज्य तथा देश की आय के स्त्रोतबढ़ने के साथ ही पशुओं से प्राप्त होने वाले कच्चे उत्पादों से कई उद्योग धंधे लोगों को रोजगार दिलाने में भी महत्वपूर्ण भूमिका निभा रहे है',\n",
              " 'निवेशक अक्सर एक म्यूचुअल फंड में हिस्सा लेते हैं क्योंकि यह उन्हें एकल निवेश के साथ अपने पोर्टफोलियो में विविधता लाने की अनुमति देता है',\n",
              " 'एक स्पॉट ट्रेड विदेशी मुद्रा विनिमय व्यापार का एक तरीका है',\n",
              " 'भारत में सबसे बड़ा अंगूर राज्य कौन सा है',\n",
              " 'सबसे आम विरासत में मिली चयापचय बीमारियों में से कुछ में थायराइड रोग सिस्टिनुरिया और विशिष्ट प्रकार के गाउट शामिल हैं',\n",
              " 'हालांकि किशोरों में डिस्लेक्सिया अकादमिक प्रदर्शन को प्रभावित कर सकता है लेकिन विकार से पीड़ित किशोर अक्सर कक्षा के काम में बेहतर प्रदर्शन करेंगे क्योंकि वे मानकीकृत परीक्षणों पर काम करते हैं',\n",
              " 'यदि दर इस औसत से बाहर गिरती है तो यह चिंता का विषय नहीं हो सकता है लेकिन एक चिकित्सक के लिए इसका उल्लेख करना अच्छा है',\n",
              " 'छोटे अधिक बार भोजन करने से लक्षणों को कम करने में मदद मिल सकती है',\n",
              " 'चिकित्सीय मामलों की जांच करने वाले डॉक्टर अक्सर अपने सहकर्मियों से परामर्श करते हैं कभी-कभी किसी विशेषज्ञ की सलाह की ओर रुख करते हैं जिसे इस स्थिति का अनुभव होता है',\n",
              " 'ढीले कपडे न पहने सभी कपडेमहफ़ूज़ रखें',\n",
              " 'इन ऐंठन से जुड़ा दर्द मांसपेशियों में संकुचन का परिणाम है जबकि यह एक लंबी स्थिति में है',\n",
              " 'यदि किसी व्यवसाय को राजस्व अर्जन की उच्च क्षमता के साथ बिक्री और विपणन योजनाएं बनाना है तो योग्य उपलब्ध बाजार तक पहुंचने के लिए इस क्रमिक प्रगति का उपयोग करना बहुत महत्वपूर्ण है',\n",
              " 'निदान में आमतौर पर एक स्तन बायोप्सी की आवश्यकता होती है और उपचार में कीमोथेरेपी विकिरण या सर्जरी शामिल हो सकते हैं',\n",
              " 'यह कार या घर खरीदने के समान है केवल इस मामले में आप एक स्टॉक खरीद रहे हैं',\n",
              " 'उधारकर्ताओं को क्रेडिट जीवन बीमा केवल एक आकर्षक विकल्प मिल सकता है क्योंकि यह बाजार पर सबसे उचित मूल्य वाले जीवन बीमा विकल्पों में से एक है',\n",
              " 'कृषि उत्पादन आयुक्त प्रधान सचिव/सचिव की अध्यक्षता वाली राज्य स्तर पर राज्य स्तरीय समिति जिसमें राजस्व पशुपालन मात्स्यिकी वन आदि जैसे संबंधी लाइन विभागों एसएलएनए के सीईओ एसएयू तथा आईसीएआर केन्द्रों के प्रतिनिधि शामिल हैं मिशन के नियोजन और कार्यान्वयन का कार्य देखेगी',\n",
              " 'निवेश प्रोत्साहन के प्राथमिक लक्ष्यों में से एक अर्थव्यवस्था को एक कमजोर या अन्यथा पिछड़े क्षेत्र में सुधार करना है',\n",
              " 'संक्षेप में स्वस्थ शुक्राणु की विशेषताओं को तीन शब्दों में अभिव्यक्त किया जा सकता है मात्रा गुणवत्ता और गतिशीलता',\n",
              " 'प्राइम कॉस्ट वे खर्च होते हैं जो किसी उत्पाद के निर्माण के हिस्से के रूप में व्यापार में होते हैं',\n",
              " 'कभी – कभी एफिड टिड्डे कुतरे स्कज तथा बीटल पौधों पर आक्रमण करके उन्हें नुकसान पहुंचाते है',\n",
              " 'कुछ हलकों में सामने वाले महीने को स्पॉट महीने के रूप में भी जाना जाता है जो छोटे अंतर के कारण होता है जो स्पॉट मूल्य और समझौते से जुड़े वायदा मूल्य को अलग करता है',\n",
              " 'सब्जियों की अधिक उपज के लिए आजकल एफ-1 संकर बीज बनाये जा रहे है जिसकी उपज क्षमता साधारण किस्मों की अपेक्षा दो से पाँच गुनी तक होती है',\n",
              " 'चाहे वह आपका पहला सीटी स्कैन हो या फॉलोअप एक ऐसा पदार्थ है जो कभी-कभी एक बेहतर छवि प्राप्त करने के लिए उपयोग किया जाता है',\n",
              " 'वे बालक जिन्हें खेलने में कम अवसर मिलते हैं तथा जिन्हें खेलने में आनन्द नहीं आता वे अपना खेलने से सम्बन्धित समय टेलीविजन देखने में देते हैं',\n",
              " 'हमारे देश में अधिकांशतः खेतों में सिंचाई के लिये कच्ची नालियों द्वारा पानी लाया जाता है जिससे तकरीबन 30-40 फीसदी पानी रिसाव की वज़ह से बेकार चला जाता है',\n",
              " '1799 में अपने कारखाने रिम्स में विलियम-लुइस टेरनेक्सनेपोलियन के तहत फ्रांस में अग्रणी ऊनी निर्माता नकली भारत शॉल का उत्पादन करने लगा स्पेनिश मेरिनो भेड़ के ऊन का उपयोग करना',\n",
              " 'गुर्दे की विफलता के लक्षणों में एडिमा शामिल है जो सूजन द्वारा विशेषता द्रव का संचय है और पेशाब में कमी है',\n",
              " 'इस खाता बही का उद्देश्य किसी कंपनी को महीने के अंत में अपने बैंक खातों को समेटने में मदद करना है',\n",
              " 'एक बार जब अर्थव्यवस्था काम कर रही होती है तो लोग धन का निर्माण करते हैं और कंपनियां उस बिंदु तक बढ़ती हैं जिस पर वे अन्य बाजारों में विस्तार के अवसरों को देखना शुरू करते हैं',\n",
              " 'अनुबंध पर चर्चा हो सकती है जब ऋण की आय आनी चाहिए और उधारकर्ताओं को पता होना चाहिए कि बैंक खाता खाली करने और उपयोग के लिए उपलब्ध होने में कई दिन लग सकते हैं',\n",
              " 'मरीजों को आमतौर पर दूध खट्टे का रस कैफीन और कार्बोनेटेड पेय से बचना चाहिए जबकि वे बीमार हैं या वे अपनी पाचन समस्याओं को बदतर बनाने का जोखिम उठाते हैं',\n",
              " 'भ्रूण थैरेप्रेस स्टिलबर्थ का एक रूप है जिसे अंतर्गर्भाशयी भ्रूण मृत्यु भी कहा जाता है',\n",
              " '70 वर्ष की आयु में लगभग 40 प्रतिशत लोगों की स्मृति क्षमता उनके पास अपने तीसवें दशक में होती है',\n",
              " 'केमोकाइन्स प्रतिरक्षा प्रणाली की कोशिकाओं को निर्देशित करके शरीर की प्रतिरक्षा प्रतिक्रिया में सहायता करते हैं जहां उन्हें आवश्यकता होती है',\n",
              " 'एक सामान्य जीवन बीमा पॉलिसी के लिए किसी व्यक्ति को जीवन बीमा कंपनी को नियमित प्रीमियम भुगतान करने की आवश्यकता होती है',\n",
              " 'गुलाब के पौधों के लिए पर्याप्त जीवांशयुक्त मिट्टी अच्छी होती है',\n",
              " 'सेमिनिफियर नलिकाओं के अंदर सेर्टोली कोशिकाओं और शुक्राणुजन के साथ पंक्तिबद्ध होते हैं',\n",
              " 'बंजरभूमि पर जिला स्तशरीय आँकड़ा आधार तैयार करने के लिए भूमि संसाधन विभाग ने राष्ट्रीय दूर संवेदी एजेंसी हैदराबाद के सहयोग से दूर संवेदी इमेज़रियों का प्रयोग करते हुए 1:50000 के पैमाने पर सम्पूीर्ण देश को शामिल करते हुए “ भारत की बंजरभूमि संबंधी एटलस ” प्रकाशित की है',\n",
              " 'कई मामलों में ऐसा करने से प्रीमियम भुगतान के मामले में एक महत्वपूर्ण राशि की बचत होगी',\n",
              " 'सिगरेट पीने वालों को इस स्थिति का अधिक खतरा होता है',\n",
              " 'अन्य तकनीकों में बाजार पूंजीकरण और उद्यम मूल्य की गणना करना शामिल है',\n",
              " 'इससे खून का यूरिया आदि पानी से धो कर निकाला जाता है',\n",
              " 'कम कीमत के साथ जुड़ी तारीख की पुष्टि करने के लिए उपभोक्ता न केवल अखबार से विज्ञापन को क्लिप करेगा बल्कि शीट के नीचे की तारीख में विज्ञापन सहित पूरी शीट जमा करेगा',\n",
              " 'मुर्गी घर निर्माण के लिए पिंजरा प्रणाली अथवा डीपलिटर प्रणाली प्रयुक्त की जाती हैं',\n",
              " 'लक्षणों में से एक के रूप में भी दौरे पड़ सकते हैं',\n",
              " 'निवेश बैंकिंग वित्तीय सेवाएं ग्राहक निवेश के माध्यम से पूंजी बनाने पर ध्यान केंद्रित करती हैं',\n",
              " 'बगीचे से अतिरिक्त वर्षा जल के निकास कि समुचित व्यवस्था होनी आवश्यक है अन्यथा पौधों को हानि पहुँच सकती है',\n",
              " 'हमारे शरीर के मस्तिष्क हृदय और लीवर जैसे महत्वपूर्ण अंगों को उचित प्रकार से कम करने के लिए ग्लूकोज की जरूरत होती है',\n",
              " 'जीवन कौशल में अतिरिक्त प्रशिक्षण इस स्थिति वाले कुछ लोगों को अपेक्षाकृत स्वतंत्र जीवन जीने में सक्षम कर सकता है',\n",
              " 'अन्य विकार कवक की उपस्थिति की नकल कर सकते हैं जो स्थिति का कारण बनते हैं इसलिए कुछ हेल्थकेयर प्रोफेशनल्स क्लैप्ड नाखून के टुकड़े को एक विशेष कंटेनर में रखना पसंद करते हैं और प्रयोगशाला में कवक के बढ़ने की प्रतीक्षा करते हैं',\n",
              " 'जब आम की लकड़ी जलती है तो फ़ॉर्मिक एल्डिहाइड नामक गैस उत्पन्न होती है',\n",
              " 'इसकी मुख्य कड़ी है भेड़ पालन',\n",
              " 'एक व्यक्तिगत ऋण एक निश्चित राशि है जिसे सभी को एक साथ वितरित किया जाता है प्राप्तकर्ता को ऋण के जीवन के लिए मासिक भुगतान करने की आवश्यकता होती है',\n",
              " 'आमतौर पर सिंड्रोम 20 या 30 के दशक में युवा लोगों को प्रभावित करता है विशेष रूप से पुरुषों को',\n",
              " 'जिसके अन्दर भू-परिष्करण क्रियाओं को करके सब्जियों को उगाया जाता है',\n",
              " 'हैमस्ट्रिंग चोटों की पुनरावृत्ति भी एक डॉक्टर द्वारा जांच की जानी चाहिए',\n",
              " 'आमतौर पर नवजात रोगी पूर्ण वसूली करता है जिसमें कोई स्थायी प्रभाव नहीं होता है',\n",
              " 'कॉर्पोरेट ऋण राहत में एक ग्राहक और कुछ तीसरे पक्ष की भागीदारी शामिल होने की संभावना है जैसे कि क्रेडिट काउंसलर वकील या निवेश बैंकर',\n",
              " 'मनोरंजन भत्ते इसके तहत आने वाली कोई भी रकम इनकम टैक्स के दायरे से बाहर होती है',\n",
              " 'रोसोनक्राज़ कहते हैं कि उनके अपने बच्चों के साथ कुछ विवाद भी थे',\n",
              " 'बढि़या साइलेज में 85 से 90 फीसदी हरे चारे के बराबर पोषक तत्त्व होते हैं इसलिए चारे की कमी के समय साइलेज खिला कर पशुओं का दूध उत्पादन बढ़ाया जा सकता है',\n",
              " 'इसका मतलब यह है कि वे प्रत्येक फर्म के बारे में क्या सोचते हैं अन्य निवेशकों से प्रतिक्रिया प्राप्त करें',\n",
              " 'स्पोर्ट्स मेडिसिन ऑर्थोपेडिक्स डॉक्टरों से लेकर उच्च विद्यालय या कॉलेज एथलीटों की देखभाल करने वाले विशेषज्ञों तक हो सकता है जो पेशेवर एथलीटों पर जटिल शल्य चिकित्सा प्रक्रिया करते हैं',\n",
              " 'बच्चे इसकी चपेट में ज्यादा आते है और बूढे भी',\n",
              " 'भिण्डी को हरेक तीसरे दिन तोड़ना चाहिए',\n",
              " 'एक मस्सा आमतौर पर एक छोटा खुरदरा बिना कैंसर वाला ट्यूमर होता है जो त्वचा की सबसे ऊपरी परत पर बढ़ता है',\n",
              " 'इसका स्वाद मीठा होता है एवं सौंफ की गंध आती है',\n",
              " 'जिससे आलू की भंडारण क्षमता बढ़ती है तथा सडन में कमी आती है',\n",
              " 'इस कीट के शिशु तना में छेद करके उसके आंतरिक भाग को खा डालते हैं',\n",
              " 'डक्टल कैंसर दो प्रकार के होते हैं सीटू और इनवेसिव में',\n",
              " 'जैसा कि नाम से पता चलता है एक शून्य बैलेंस खाता वह है जिसमें खाता धारक सामान्य रूप से एक संतुलन बनाए रखने की इच्छा नहीं रखता है',\n",
              " 'इनका नियमन राज्य सरकार तथा भारतीय रिज़र्व बैंक द्वारा आंशिक रूप से किया जाता है',\n",
              " 'इसी तरह यदि संपत्ति की समग्र स्थिति एक ही क्षेत्र में दूसरों की तुलना में खराब है तो इसका अनुमानित मूल्य औसत से कम होना निश्चित है',\n",
              " 'कभी-कभी मतली के हल्के रूपों के लिए सबसे आसान इलाज केवल झूठ बोलना या आरामदायक स्थिति में बैठना है जब तक कि भावना पास न हो',\n",
              " 'अतीत में अनुभव की जाने वाली उत्तेजनाओं को ट्रिगर करने वाली जानकारी के साथ प्रस्तुत करने पर वह अधिक उत्तरदायी बन सकता है',\n",
              " 'जो लोग पर्चे दर्द निवारक से बचने की इच्छा रखते हैं या जो उनसे प्रतिकूल दुष्प्रभावों का अनुभव करते हैं वे एंटीडिप्रेसेंट लेने पर विचार कर सकते हैं',\n",
              " 'कुछ लोग इन लक्षणों में से केवल एक का अनुभव कर सकते हैं जबकि अन्य उनमें से कई का अनुभव कर सकते हैं',\n",
              " 'पूंजी बाजार में निवेशकों को प्रतिभूतियों को बेचकर निगम और अन्य संस्थान धन जुटाते हैं',\n",
              " 'साथ में वे विदेशी पदार्थों की पहचान निशान और विनाश करते हैं',\n",
              " 'इक्विटी फंड स्टॉक की बिक्री या कॉर्पोरेट कंपनी से उद्यम पूंजी कोष के एक जलसेक से आते हैं',\n",
              " 'बोली लगाने की प्रक्रिया पूरी होने के बाद सभी बोली लगाने वालों को परियोजना से सम्मानित नहीं किया जाएगा',\n",
              " 'हमारे यहाँ रबी मक्के की खेती वृहत पैमाने पर सिंचित अवस्था में मुख्यतः दियारा एवं टाल क्षेत्रों में की जाती है',\n",
              " 'जीवन ज्योति बीमा पॉलिसी की मैच्योरिटी की उम्र 55 साल है',\n",
              " 'यदि स्टॉक का मूल्य बढ़ना शुरू हो जाता है तो एक स्थायी आदेश हो सकता है जो उस स्टॉक को पुनर्खरीद करने के लिए निर्धारित करता है',\n",
              " 'कमर को प्रभावित करने वाले हर्नियास को कई उपप्रकारों में वर्गीकृत किया जा सकता है',\n",
              " 'ग्रा म्यूरेट ऑफ़ पोटाश प्रति पौधा प्रति वर्ष की दर से देना चाहिए',\n",
              " 'जिन विक्रेताओं को उन बुनियादी आवश्यकताओं को पूरा करने में परेशानी होती है उन्हें जल्दी से पहचान लिया जाता है और रिश्तेदार आसानी से बाजार पर व्यापार करने से रोका जा सकता है',\n",
              " 'वरीयता के रूप में उद्धृत किसी भी विक्रेता को वरीयता दी जा सकती है हालांकि कुछ क्रय विभागों के पास अंतिम सोर्सिंग निर्णय लेने का अधिकार है जो संगठन के लिए सबसे अच्छा है',\n",
              " 'हालांकि एक वाणिज्यिक बैंक के कामकाज का तरीका काफी विकसित हुआ है पर उनका मूल उद्देश्य लोगों के धन की रक्षा करना ही है',\n",
              " 'अक्सर छूट उन लोगों को दी जाती है जो एक राशि में अपना प्रीमियम देते हैं',\n",
              " 'कैनेडियन सिक्योरिटीज कोर्स को पूरा करने के लिए एक छात्र को दो परीक्षाएं पास करनी होती हैं',\n",
              " 'हर साल संयुक्त राज्य अमेरिका की संघीय सरकार राज्य और स्थानीय सरकारों सार्वजनिक विश्वविद्यालयों और कुछ गैर-लाभकारी संगठनों को लाखों डॉलर की सहायता देती है',\n",
              " 'क्या आपके लिए एचआरटी की सिफारिश नहीं करते थे हालांकि पश्चिमी देशों में दशकों से महिलाओं इसका उपयोग करती आ रही हैं',\n",
              " 'टॉन्सिल ऊतक के महत्वपूर्ण खंड हैं जो प्रतिरक्षा प्रणाली के वायरस और बैक्टीरिया की रक्षा में सहायता करते हैं',\n",
              " 'घ जिनके तने तथा जड़ें काफी मात्रा में पानी प्राप्त कर सकें',\n",
              " 'इसलिए कार्य करने बचत करने और निवेश करने की योग्यता पर विचार करते समय सार्वजनिक व्यय के प्रभावों को भी ध्यान में रखा जाए',\n",
              " 'संभावित सूखों का निदानखरीफ़ के लिए रबी के लिए अन्य मौसम',\n",
              " 'जूट एक द्विबीजपत्री रेशेदार पौधा है',\n",
              " ' कल्पना चावला परिवार शिक्षा और पर्यावरण संस्थान ',\n",
              " 'छह दाँत टूटे हुये दाँत वाली भेड़ ना खरीदें',\n",
              " 'सदस्यों के स्वामित्व वाले छोटे व्यवसाय भी वाणिज्यिक ऋण के लिए आवेदन कर सकते हैं',\n",
              " 'खून की कमी पलकों के भीतर पीलापन स्वस्थ पलें लाल या गुलाबी होती हैं बहुत थकान या सांस फूलना',\n",
              " 'ऐसा करने में उत्पादन की योजना बनाना फसल उगाना और कटाई ग्रेडिंग पैकिंग परिवहन भंडारण कृषि और खाद्य प्रसंस्करण वितरण विज्ञापन और बिक्री आदि कई गतिविधियां परस्पर जुड़ी हुई हैं',\n",
              " 'कार्यशील पूंजी के लिए फॉर्मूला',\n",
              " 'श्रम दक्षता इस बात का एक पैमाना है कि किसी दिए गए कार्यबल को उस उद्योग या सेटिंग में मानक की तुलना में कुशलता से कैसे पूरा किया जाता है',\n",
              " 'थेनी बोडी एवं आस-पास के क्षेत्रों के सैंकड़ों पेड़ मरने लगे',\n",
              " 'प्रमुख विदेशी मुद्राओं में अंतर्राष्ट्रीय कैशियर के चेक कुछ बैंकों में उपलब्ध हैं',\n",
              " 'जब कोई आइटम खरीदने के लिए डेबिट कार्ड का उपयोग किया जाता है तो खाते से तुरंत पैसा काट लिया जाता है',\n",
              " 'मिनरेलॉजी मैपिंग और जल तथा बर्फ होने की पुष्टि',\n",
              " 'अनुमस्तिष्क गतिभंग के लिए उपचार आमतौर पर अंतर्निहित कारण को दूर करने की दिशा में सक्षम होता है यदि संभव हो तो',\n",
              " 'उदाहरण के लिए यदि बीमाधारक अपनी नौकरी खो देता है या विस्तारित अवधि के लिए बीमारी के कारण काम से बाहर हो जाता है तो पॉलिसी को चालू रखने के लिए प्रीमियम बनाने के बारे में कोई चिंता नहीं है',\n",
              " 'मूत्राशय में संक्रमण की तकलीफ वाले मरीजों में सामान्यतः क्रोट्राइमेक्सेजोल सिफेलोस्पोरीन अथवा क्वीनोलोन्स की दवा द्वारा उपचार किया जाता है',\n",
              " 'ब्रोंकोडायलेटर्स में साल्बुटामोल और फॉर्मोटेरोल शामिल हैं एंटीकोलिनर्जिक्स में इप्रेट्रोपियम शामिल हैं और स्टेरॉयड में फ्लाइक्टासोन और बुडेसोनाइड शामिल हैं',\n",
              " 'प्राथमिक उपचार – थन तथा आयन को पोटाश के पानी से सफाई कर उसे सुखा लेना चाहिए',\n",
              " 'खुद छुट्टी लेने के बजाय मालिक अपने आवंटित समय को बढ़ी हुई दर पर दूसरों को किराए पर दे सकते हैं',\n",
              " 'स्वस्थ मृदा पानी और उपजाऊ तत्वों को अपने में सुरक्षित रखती है',\n",
              " 'विकासात्मक विकलांगता वाले कुछ व्यक्तियों में मौखिक प्रवाह कम होता है और यह तब भी कम हो जाता है जब लोगों को न्यूरोलॉजिकल समस्याएं होती हैं',\n",
              " 'वानस्पतिक बढ़वार अवस्था',\n",
              " 'एक बड़ा मुद्दा हालांकि लेखांकन प्रणाली में दर्ज गलत डेटा से आता है',\n",
              " 'किसी कारण से ये लक्षण घट या बढ़ जातें हैं',\n",
              " 'दुनिया का सबसे बड़ा शेयर बाजार कौन सा हैभारत में शेयर बाजार की शुरुआत कब हुई',\n",
              " 'जुलाई के पहले पखवाड़े/या मानसून प्रारम्भ के बाद',\n",
              " 'अल्ट्रासाउंड का उपयोग अक्सर शिशुओं पर किया जाता है जबकि एक्स-रे और कंप्यूटेड टोमोग्राफी स्कैन पुराने व्यक्तियों के लिए अधिक उपयोगी हो सकते हैं',\n",
              " 'कई प्रकार के देयता बीमा के साथ एक पूर्ण संचालन बीमा पॉलिसी ठेकेदार को मुकदमे में या यहां तक कि क्लास एक्शन सूट में पैसे का एक बड़ा सौदा खोने से बचा सकती है',\n",
              " 'का कोई प्रभाव नहीं पड़ता',\n",
              " 'दूसरों को अधिक गंभीर गहरे संक्रमण विकसित हो सकते हैं जो कठिन दर्दनाक फोड़े में बदल सकते हैं जिन्हें कूप विनाश और निशान को रोकने के लिए चिकित्सा ध्यान देने की आवश्यकता होती है',\n",
              " 'एक चिढ़ मूत्रमार्ग के परिणामस्वरूप पेशाब में कठिनाई होती है जो पुरुषों में रोग के सबसे आम लक्षणों में से एक है',\n",
              " 'प्रत्येक लाभार्थी के लिए सामान्य क्षेत्रों में परियोजना लागत की 35 तथा पहाड़ी और अनुसूचित क्षेत्रों में 50 की दर से ऋण से जुड़ी पार्श्वांत सहायता',\n",
              " 'खरीफ में तिल की खेती करके जड़ – गांठ सूत्रकृमी जनसंख्या को कम कर सकते हैं',\n",
              " 'जब बैंकाक से कुछ नमूने प्राप्त किए गए थे परीक्षणों के आधार पर यह शीघ्र स्पष्ट हो गया कि यह एक प्रखर प्रजनक है तथा मैदानी इलाकों में पालने के लिए अत्यन्त उपयोगी है',\n",
              " 'प्लास्टिक मल्च का उपयोग अधिक ठंडे मौसम में बीजों के अंकुरण हेतु मृदा के तापमान को बढ़ाकर अंकुरण के अनुकूल बनाना पर्यावरण तथा मिट्टी की संरचना का रखरखाव एवं खरपतवार पर नियंत्रण किया जा सके',\n",
              " 'यदि किरायेदार काम के लिए भुगतान नहीं करता है तो ठेकेदार संपत्ति पर एक ग्रहणाधिकार रख सकता है और मकान मालिक को भुगतान करने के लिए मजबूर कर सकता है जब तक कि उसने यह स्पष्ट करने के लिए कानूनी नोटिस दायर नहीं किया है कि वह परियोजना के लिए कोई कानूनी दायित्व नहीं रखता है',\n",
              " 'इस तरह वे अतिरिक्त नकदी के साथ अतिरिक्त रिटर्न उत्पन्न करते हैं',\n",
              " 'नौकरी प्रशिक्षण वित्तीय लेखांकन परीक्षण कंपनियों को यह निर्धारित करने में मदद करते हैं कि कोई व्यक्ति लेखांकन विषयों को कितनी अच्छी तरह जानता है',\n",
              " 'बस एक लाभ को मोड़ना एक व्यक्तिगत कंपनी के लिए वित्तीय सफलता सुनिश्चित नहीं करता है खासकर यदि वह लाभ पूंजी में अनुवाद नहीं करता है जिसका उपयोग व्यवसाय में सुधार के लिए किया जा सकता है',\n",
              " 'पॉलीप्स अक्सर लाल बैंगनी या भूरे रंग के होते हैं और विभिन्न आकार हो सकते हैं हालांकि वे आमतौर पर छोटे होते हैं',\n",
              " 'आमतौर पर डेयरी उत्पादों जैसे दूध में पाई जाने वाली चीनी भी इस प्रकार के दस्त का कारण बन सकती है',\n",
              " 'एक ऑडिट रिज़ॉल्यूशन कर्मचारी सह-कर्मचारियों और अन्य कंपनी कर्मचारियों को यह सुनिश्चित करने में मदद करेगा कि वे कंपनी को त्रुटियों और धोखाधड़ी की गतिविधि से मुक्त रखने के लिए सभी प्रक्रियाओं और नीतियों का पालन करें',\n",
              " 'इस कीट की निम्फ अवस्था में छिड़काव करने से अधिकतम रोक थम की जा सकती है',\n",
              " 'फसल के लिए दोनों उष्णकटिबंधीय और उपोष्णकटिबंधीय जलवायु अच्छी होती है',\n",
              " 'बैंक बदले में अपनी पूंजी बढ़ाने के लिए ऋण बेचकर जो पैसा जुटाते हैं उसका उपयोग अधिक ऋण लेने और अन्य वित्तीय गतिविधियों में संलग्न होने के लिए किया जा सकता है',\n",
              " 'सप्ताह में दो बार नियमित रूप से कीट पतंगों की निगरानी करें',\n",
              " 'ऊपरी चैड़ाई वाली क्यारियों में बीज कलियों को 15 ग् 10 सेमी',\n",
              " 'उन्नत पीआरए स्तर वाले रोगियों को अंग अस्वीकृति का अनुभव होने की अधिक संभावना है और उन्हें विरोधी अस्वीकृति दवाओं का अधिक उन्नत आहार दिया जाना चाहिए',\n",
              " 'मोटापे की घटनाओं को कम करने से अंततः स्वास्थ्य देखभाल के लिए कम लागत में मदद मिल सकती है जिससे मेडिकेड कार्यक्रमों से जुड़ी समग्र लागत कम हो सकती है',\n",
              " 'हमने ऐसा इसलिए नहीं किया क्योंकि बीमार व्यक्ति आपके पास शुरू-शुरू में ही आएगा',\n",
              " 'पूरे स्तन स्पर्श करने के लिए गर्म लग सकता है और न केवल सूजन महसूस कर सकता है बल्कि कठोर या दृढ़ भी हो सकता है',\n",
              " 'यदि कोई बालक किसी समूह का सदस्य बनना चाहता है तो टोली में स्वीकृति पाने के लिए उसी को पहल करनी पड़ती है',\n",
              " 'एक बार फुंसी निकल आए तो उन्हें अकेला छोड़ दिया जाना चाहिए और स्वाभाविक रूप से अपना कोर्स करने की अनुमति दी जानी चाहिए',\n",
              " 'लोग अवयवों की सूची की तुलना और कंट्रास्ट भी कर सकते हैं कि वे किन उत्पादों पर प्रतिक्रिया करते हैं',\n",
              " 'एक विशेष उपचार की प्रभावशीलता की जांच करने की एक प्रणाली जिसे संख्यात्मक विधि कहा जाता है 19 वीं शताब्दी के दौरान भी विकसित हुई',\n",
              " 'एक पूर्व नियोजित अंतिम संस्कार एक लिखित योजना है जो किसी व्यक्ति की इच्छाओं को व्यक्त करती है जिसे एक चयनित अंतिम संस्कार घर में फाइल पर रखा जाता है जबकि एक व्यक्ति वास्तव में प्रीपेड अंतिम संस्कार विकल्प के लिए पैसे खो देता है',\n",
              " 'जठरांत्र संबंधी लक्षणों के लिए चिकित्सकीय रूप से मूल्यांकन किया जाना महत्वपूर्ण है',\n",
              " 'जब कुछ अप्रत्याशित तनावपूर्ण या नकारात्मक होता है तो हम उससे निपटते हैं और फिर अपनी भावनाओं को एक सामान्य सीमा के भीतर वापस लाने में सक्षम होते हैं',\n",
              " '3 मंगल सूरज का पूरा चक्कर 687 दिनों में लगाता है',\n",
              " 'तना छेदक पर्ण सुरंगक डायमंड बैक मौथ तंबाकू सुंडी चेंपा पेंटेड बग',\n",
              " 'ढलान वाले कंटूर क्षेत्र जहाँ बाहुल्यता से शीतल जल उपलब्ध होता है इस प्रजाति के पालन के लिए उपयुक्त हैं',\n",
              " 'ताकि ज्ञान पा कर कोई भी मनुष्य अपने ज्ञान का गलत उपयोग करे',\n",
              " '1935 से स्टैंडर्ड एंड पूअर्स की सहायक कंपनी द्वारा प्रकाशित प्रकाशन ऐतिहासिक रूप से नीले कागज पर मुद्रित किया गया है और प्रत्येक दैनिक अंक के लिए अपडेट किया गया है',\n",
              " 'यद्यपि यह परिक्षण काफी सीमा तक सामान्य तथा अल्पविकसित शिशुओं के जन्म की रोकथाम में समर्थ हैं तदापि यह अनके लड़कियों के जन्म लेने से पहले ही उनकी हत्या के लिए भी जिम्मेवार हैं',\n",
              " 'इलेक्ट्रोकार्डियोग्राम हृदय गतिविधि की गैर-रिकॉर्डिंग रिकॉर्डिंग का एक सामान्य रूप है',\n",
              " 'यह धब्बे पौधे की शाखाओं एवं फलियों पर भी पड़ जाते हैं',\n",
              " 'कभी कभी बारीक फुंसियाँ आती है',\n",
              " 'सूजन वाले हाथों का एक अन्य कारण असामान्य रूप से उच्च या निम्न सोडियम स्तर है',\n",
              " '5 का एक बहुधा उपयोग किया जाता है',\n",
              " 'मोच में एक से अधिक लिगामेंट घायल हो सकते हैं',\n",
              " 'एक स्वस्थ आहार दवा के साथ मिलकर रक्त प्रवाह में खराब कोलेस्ट्रॉल को काफी कम कर सकता है',\n",
              " 'सही लेक्टिन को काम करने के लिए कोशिका में कार्बोहाइड्रेट से मेल खाना चाहिए लेकिन जब ऐसा होता है तो यह कोशिका झिल्ली से टूट जाता है',\n",
              " 'ऑर्थोटिक जूता आवेषण और टखने के ब्रेसिज़ स्थिरता और आराम प्रदान करने में सहायक हो सकते हैं',\n",
              " 'प्रत्येक युवा एवं परिपक्व बेल में 25 कि ग्रा अच्छी तरह से सड़ी हुए घूरे की खाद का प्रयोग कर थियोयूरिया अथवा डॉर्मेक्स का इस्तेमाल',\n",
              " 'सामान्य तौर पर त्वचा टैग त्वचा की छोटी वृद्धि होते हैं जो ऊतक के एक डंठल जैसे टुकड़े से निकलते हैं',\n",
              " 'रिसोर्ससैट 2 ए अंतरिक्ष यान ऑन किया',\n",
              " 'बाल चिकित्सा धोखाधड़ी में एजेंट कई नीतियों को खरीदने के लिए टर्मिनल बीमारियों वाले लोगों को भर्ती करते हैं जिनमें से सभी में वार्षिकी होगी',\n",
              " 'चूंकि उनके प्याज कद अच्छी गुणवत्ता के थे',\n",
              " 'आम तौर पर किसी तर्क के बिन्दु साधारण भाषा में प्रस्तुत किये जाते हैं और उनके आधार पर निष्कर्ष मनवाया जाता है',\n",
              " 'इसके अलावा इस प्रकार की वित्तीय व्यवस्था को बनाने और अंतिम रूप देने से पहले कुछ संभावित कमियां हैं जिन पर विचार किया जाना चाहिए',\n",
              " 'क्या आपको अपने आप को शोर के प्रति अधिक संवेदनशील होना चाहिए तुरंत डॉक्टर को देखना जरूरी है',\n",
              " 'चाहे एक नया व्यवसाय शुरू करना हो या किसी स्थापित कंपनी के भीतर व्यवसाय संचालन में सुधार करना हो वित्तीय पूंजी व्यापार उद्यम के साथ सफलता प्राप्त करने के लिए महत्वपूर्ण है',\n",
              " 'स्थान विशेष में उपलब्ध संसाधनों का बहुउद्देशीय उपयोग किया जाना चाहिए जिसके द्वारा अल्प मात्रा में पाए जाने वाले संसाधनों से भी अधिकतम उपयोग प्राप्त की जा सके',\n",
              " 'कई यूटिलिटी कंपनियां एग्जिट शुल्क भी लेती हैं',\n",
              " 'वैसे स्वीटकॉर्न व मक्का में मुख्य अंतर स्टार्च संश्लेषण प्रभावित करने वाले जींस का विद्यमान होना है जिसके कारण स्वीटकॉर्न के दाएं सामान्य मक्का से बहुत मीठे होते हैं तथा इनदानों मने मिठास का अंतर परागण के 18 से 21 दिन बाद तक अधिकतम बना रहता है',\n",
              " 'यदि किसी महिला का प्रोजेस्टेरोन का स्तर उसके एस्ट्रोजन के स्तर से पहले गिर जाता है या यदि कोई महिला बहुत अधिक एस्ट्रोजन की खुराक लेती है तो वह एस्ट्रोजन का प्रभुत्व विकसित कर सकती है',\n",
              " 'सहकारी संगठनों के जरिए मूल्य संवर्धन भंडारण और विपणन जैसी सेवाएं उपलब्ध कराकर प्याज की खेती के व्यावसायीकरण को बढ़ावा देना किसानों की आजीविका बेहतर बनाने का एक अनुसरणीय मॉडल साबित हुआ',\n",
              " 'मामले का अध्ययन आम तौर पर एक निगम के शासन पूंजी संरचना जोखिम प्रोफ़ाइल निवेश वापसी लाभांश नीति और मूल्यांकन को संबोधित करेगा',\n",
              " 'एक मूल्य श्रृंखला में प्राथमिक गतिविधियां वे हैं जो उत्पाद के वास्तविक निर्माण और निर्माण पर ध्यान केंद्रित करती हैं',\n",
              " 'उनमें से कुछ के नाम में विश्वविद्यालय शब्द लगा है एंव अन्य में नहीं',\n",
              " 'उदाहरण के लिए सुरक्षा प्रणालियों के साथ सुसज्जित इमारतें किसी भी प्रकार की सुरक्षा वाली इमारतों की तुलना में कवरेज के लिए अर्हता प्राप्त करने की अधिक संभावना है',\n",
              " 'यदि परिभाषित क्षेत्र में बीमित फसल की वास्तविक पैदावार प्रति हेक्टेयर कम होती है तो उस क्षेत्र के सभी किसानों द्वारा नुकसान उठाना माना जायेगा',\n",
              " 'दो वर्ष की आयु के उपरांत यह क्षेत्र अधिक प्रभावशाली ढंग से कार्य करने लगता है तथापि इसमें वृद्धि होती रहती है',\n",
              " 'वापसी की संशोधित आंतरिक दर की गणना करते समय वापसी चरण में केवल एक टर्मिनल भुगतान शामिल है',\n",
              " 'कॉन्डोमिनियम रूपांतरण दिशानिर्देशों को रेखांकित करने वाले कानून प्रत्येक व्यक्तिगत क्षेत्राधिकार के लिए भिन्न होते हैं',\n",
              " 'अन्य एलर्जी के लक्षणों में खाँसी भरी हुई नाक छींक पानी और खुजली वाली आँखें घरघराहट कफ का उत्पादन सूजन और सांस लेने में परेशानी शामिल हो सकती है',\n",
              " 'ग्रीष्म ऋतु में अधिक तापक्रम के कारण फसल वृद्धि कम होती है',\n",
              " 'इसमें किसान की अधिकतम जरूरतों को पूरा करने के लिए अनुपलब्ध संसाधनों का सर्वोत्तम उपयोग किया जाता है',\n",
              " 'उस मिटटी को पाने में गीला कर 3 इंच व्यास का गोला बनाएं एवं 3-4 फीट तक हवा में उछाले',\n",
              " 'जहाँ टांड में जैविक अंश की मात्रा कम होती है वही दोन में यह मात्रा बढ़ जाती है',\n",
              " 'उसी समय यह सुनिश्चित करना कि इन्वेंट्री काउंट सही है व्यापार को किसी भी कर की गणना करने की अनुमति देता है जो आवश्यक से अधिक करों में भुगतान से बचने के लिए इन्वेंट्री पर भुगतान किया जाना चाहिए',\n",
              " 'एक नियोप्लाज्म असामान्य कोशिकाओं का एक समूह है लेकिन ये असामान्य कोशिकाएं एक गांठ नहीं बनाती हैं',\n",
              " 'सुप्रीम कोर्ट ने फिलिपींस शताब्दी व्याख्यान',\n",
              " 'फ्लोरिकल्चर में फूलों की खेती की जाती है',\n",
              " 'खाल काटना',\n",
              " 'प्रसव के बाद गाय को मक्खन घी या तेल नहीं पिलायें',\n",
              " 'अन्य देशों में कंपोजिशन डीलर के पास वैट के साथ जाने या कंपोजीशन स्कीम प्रक्रिया के आधार पर गणना का उपयोग करने का विकल्प होगा',\n",
              " 'स्किन समस्याओं मेंआज के समय में खराब खान पान और प्रदूषण का असर स्किन पर दिखने लगता है',\n",
              " 'नारंगी और लाल मिर्च टमाटर पालक और गाजर इसके उदाहरण हैं',\n",
              " 'फिर भी वे वित्तीय नियोजन आचार संहिता और अनिवार्य शुल्क प्रकटीकरण के सबसे मुखर प्रस्तावकों में से कुछ बने हुए हैं',\n",
              " 'एक ही समय में त्वरित रिटर्न की तलाश करने वाले निवेशकों को कम परिपक्वता के साथ अवसरों पर अपना ध्यान केंद्रित करने की अधिक संभावना है जबकि लंबे समय तक निवेश करने की तलाश में रहने वाले लोग दीर्घकालिक बाजार के लिए आकर्षित होंगे',\n",
              " 'फ्लोरोसेंट प्रकाश व्यवस्था का उपयोग करने वाले कार्यालयों और कार्य स्थानों में यह अनुशंसा की जाती है कि श्रमिकों को आंखों के तनाव को कम करने में मदद करने के लिए उनके कार्यस्थानों के पास गरमागरम लैंप दिए जाएं',\n",
              " 'फिर भी अच्छी उपज के लिए प्रतिवर्ष क्रमश 70:30:20 ग्राम एन पी के एवं 15-20 कि',\n",
              " 'चयनित स्थान फलदार पौधों की खेती के लिए प्रचलित होना चाहिए जिससे उत्पादकों के अनुभवों का लाभ मिल सके',\n",
              " 'शुद्ध लाभ आमतौर पर अधिक विस्तार होता है',\n",
              " 'क्रेडिट और डेबिट लेन-देन में सामंजस्य स्थापित करने और लेखांकन रिकॉर्ड को अद्यतित और सटीक रखने के लिए टिकट एड्स का उपयोग',\n",
              " 'अंत में संपत्ति वितरित की जाती है',\n",
              " 'यह इस कारण से है कि पट्टे में सौदे का खरीद विकल्प स्वचालित रूप से इसे पूंजी पट्टे के रूप में योग्य बनाता है',\n",
              " 'व्यवहार में बहुत से किसान पहले साल ही घाटा झेलने के बाद पुन रासायनिक खेती प्रारम्भ कर देते हैं',\n",
              " 'जबकि उम्र के साथ प्रिस्क वीयू बढ़ता है वहाँ बहुत से लोग अपने दिमाग को अच्छे आकार में रखने के लिए कर सकते हैं क्योंकि वे बड़े हो जाते हैं',\n",
              " 'भारत का भूविज्ञान',\n",
              " 'वर्षा पर निर्भर तराई और ऊपरी भूमि',\n",
              " 'जब तक मस्तिष्क या अन्य आंतरिक अंगों को नुकसान नहीं पहुंचता है तब तक उपचार आवश्यक नहीं हो सकता है',\n",
              " 'सिर में चोट लगने के बाद चिकित्सा सहायता लेना महत्वपूर्ण है भले ही घायल व्यक्ति को अच्छी तरह से लगता है',\n",
              " 'निरंतर थकान वाले व्यक्ति में कभी भी ऊर्जा नहीं होती है और वह खुद को सामान्य से बहुत अधिक समय तक सोता हुआ पा सकता है और फिर भी तरोताजा महसूस नहीं कर सकता है',\n",
              " 'अक्सर गंभीर फेफड़ों के संक्रमण निमोनिया फुफ्फुस स्थान में मवाद का निर्माण भी कर सकता है',\n",
              " 'नाखूनों को नियमित रूप से ट्रिमिंग और फाइल करना उन्हें अधिक सामान्य आकार बनाए रखने में मदद कर सकता है जिससे मरीजों को आराम मिलता है',\n",
              " 'कुछ लोग जब स्थिति बदलते हैं तो चक्कर या कताई भावनाओं का अनुभव करते हैं',\n",
              " 'फूल दिखाना अर्थ प्रोलेप्स गाभिन गायों की एक प्रमुख समस्या है',\n",
              " 'यदि यह निर्णय लेता है तो एक कंपनी शेयरधारक अधिकारों की एक विस्तृत श्रृंखला प्रदान कर सकती है',\n",
              " 'जो लोग थोड़ी देर के लिए खरीद रहे हैं और सिक्का मूल्य के बारे में अधिक समझते हैं वे जोखिम लेने और अन्य स्रोतों से खरीदने में सक्षम हो सकते हैं लेकिन शुरुआती को ऐसा नहीं करना चाहिए',\n",
              " 'जबकि उचित मूल्य मूल्य निर्धारण कुछ निवेशकों के लिए उन घटनाओं के आधार पर मूल्य निर्धारण उत्पन्न करने का मार्ग प्रशस्त करता है जो थोड़े समय के लिए परिसंपत्तियों के प्रदर्शन को प्रभावित करते हैं इस दृष्टिकोण का उन लोगों के लिए नुकसान पैदा करने का प्रभाव भी होता है जो बाजार में कारोबार कर रहे हैं',\n",
              " 'सब्जी उत्पादन हेतु अच्छी उर्वरता वाली जैव पदार्थ युक्त मिट्टी का चुनाव करना चाहिए',\n",
              " 'फसल की उचित बढ़वार के लिए पोटाश देना आवश्यक है',\n",
              " 'एनएसीएचए वित्तीय संस्थानों सहित लेनदेन में भाग लेने वालों के अधिकारों और जिम्मेदारियों को निर्धारित करने का कार्य भी करता है',\n",
              " 'प्रजनन योजना का मसौदा तैयार करने में शामिल आनुवंशिकीविद् का नाम और संक्षिप्त बायोडाटा',\n",
              " 'अन्य उदाहरणों में भ्रूण के विकास के दौरान कुछ गड़बड़ा जाता है जिससे जीन मिसफायर हो जाता है और एक और अंक बढ़ता है',\n",
              " 'कटनी दौनी एवं बीज भंडारण फसल तैयार होने पर फलियाँ पीली पड़ जाती हैं तथा पौधा भी सूख जाता है',\n",
              " 'आपने भी पट्टा के बारे में जरूर सुने होंगे लेकिन अधिकांश लोग पट्टा के बारे में पूरी बात नहीं जानते है',\n",
              " '4 वर्ष पूर्व उत्तराखंड राज्य ने जैविक राज्य हेतु संकल्प लिया है',\n",
              " 'इसकी रचना इस प्रकार की जाए जिससे अतिरिक्त साधन गतिशील हो तथा उनका प्रयोग सामान्य कल्याण के लिए हो',\n",
              " 'इस विधि से गेहं मे सिचाई करते हैं जिससे कम मात्रा में सिंचाई जल का नुकसान होता है यानि लगभग 30 से 40 प्रतिशत सिंचाई जल को हम इस विधि से बचा सकते है',\n",
              " 'यदि उनका आहार उचित हो तो इनके लक्षण अल्प-पोषित बच्चे की तुलना में सामान्य रूप से कम तीव्र होते हैं',\n",
              " 'पशुओं को हरा चारा पर्याप्त मात्रा में खिलायें',\n",
              " 'दलाल एक मार्जिन कॉल भी जारी कर सकते हैं लोगों को खाते में अधिक संपत्ति जमा करने के लिए कह सकते हैं जब उनके ऋण जोखिम उनके ऋण को कवर करने के लिए बढ़ जाते हैं',\n",
              " 'जब कोई व्यक्ति रिटायरमेंट जैसी बड़ी घटना के लिए बचत कर रहा होता है तो वे अप्रत्याशित उतार-चढ़ाव की चपेट में आ जाते हैं जो अक्सर वित्तीय बाजारों में होते हैं',\n",
              " 'एक आर्थोपेडिक सर्जन और यह ऑर्थोपेडिक सर्जन भी हो सकता है एक चिकित्सा चिकित्सक है जो ऐसी स्थिति या चोटों के उपचार में विशेषज्ञता प्राप्त करता है जो कंकाल प्रणाली इसकी आसपास की मांसपेशियों और विभिन्न ऊतकों जैसे स्नायुबंधन जोड़ों और टेंडन को प्रभावित करता है जो हड्डियों और उनके से जुड़े होते हैं आसपास की मांसपेशी',\n",
              " 'समिति की रिपोर्ट में की गई मुख्य सिफारिशें हैं',\n",
              " 'एफपीओ आदान भण्डारों कस्टम केन्द्रों इत्यादि को शुरू कर अपनी व्यवसायिक गतिविधियों को विस्तारित कर सकते हैं',\n",
              " 'कुछ लोगों का मानना है कि अमेरिकी संविधान में उल्लिखित अभिव्यक्ति की स्वतंत्रता केवल व्यक्तियों पर लागू होनी चाहिए न कि निगमों पर',\n",
              " 'नियमित सोने में निवेश करने के विपरीत डेंटल गोल्ड में निवेश करने से काफी अधिक जोखिम होता है क्योंकि यह जानना लगभग असंभव है कि कितना दंत स्क्रैप है',\n",
              " 'मध्यभारत कटाई का मुख्य मौसम जुलाई-सितम्बर है',\n",
              " 'कुछ जानवर जैसे कि मधुमक्खियों पराबैंगनी में देख सकते हैं जो उन्हें फूलों से पराग इकट्ठा करने में मदद करता है',\n",
              " 'एक लीनियर कॉस्ट फ़ंक्शन का उपयोग करने के लिए फ़ंक्शंस की बुनियादी समझ की आवश्यकता होती है कि फ़ंक्शंस कैसे काम करते हैं',\n",
              " 'यदि एक त्वचा संक्रमण विकसित होता है तो मौखिक एंटीबायोटिक्स आवश्यक हो सकते हैं',\n",
              " 'इसके विपरीत एमआरआई चित्र बहुत स्पष्ट और कुरकुरा होते हैं और उन्हें शरीर के किसी भी तल पर ले जाया जा सकता है',\n",
              " 'एक बार शारीरिक प्रणालियों को स्थिर कर दिया जाता है और एक बच्चा बिना सहायता के रोने साँस लेने और खाने में सक्षम होता है परिवार को घर जाने की अनुमति होती है',\n",
              " 'यदि वसा मांसपेशियों या हड्डी दिखाई देती है तो यह एक संकेत है कि घाव गंभीर है',\n",
              " 'सिर का झुकाव आमतौर पर एकतरफा पक्षाघात के अनुरूप होता है हालांकि द्विपक्षीय समस्याओं वाला एक शिशु अपने या अपने सिर को बार-बार बाहर निकालने की कोशिश कर सकता है',\n",
              " 'यह वास्तव में स्थिति के बिना दोषपूर्ण जीन के लिए वाहक होना संभव है',\n",
              " 'कॉर्पोरेट लाभांश नीति का निर्धारण करने के लिए फर्म के वित्तीय लाभ को ध्यान में रखते हुए भी महत्वपूर्ण है',\n",
              " 'ऐसे प्रश्न जिनके बारे में विटामिन की खुराक सबसे अधिक उपयोगी होगी उन्हें हमेशा एक डॉक्टर या पोषण विशेषज्ञ को निर्देशित किया जाना चाहिए ताकि अपेक्षित लाभ के लिए उचित खुराक की जानकारी मिल सके',\n",
              " 'सीड स्टॉक एक प्रकार का निवेश स्टॉक है जो उन कंपनियों के साथ करना होता है जो कृषि बाजार के कुछ पहलू पर आधारित होती हैं',\n",
              " 'स्कूल चरण बहुत महत्व की अवधि है क्योंकि इस अवधि में पहली शिक्षुता की जाती है बच्चा सीखता है विकसित करता है और संज्ञानात्मक भावात्मक सामाजिक और मोटर कौशल का अभ्यास करता है',\n",
              " 'चिकित्सक एक हृदय रोग विशेषज्ञ को एक रेफरल प्रदान कर सकता था जो तब रेफरल के बदले में चिकित्सक को भुगतान प्रदान करेगा',\n",
              " 'पूर्ण रुप से संरक्षण खेती की तकनीक को अमेरिका कनाडा ऑस्ट्रेलिया अर्जेटीना ब्राजील इत्यादि ने बड़े स्तर पर अपनी परिस्थितियों एवं क्षमताओं के अनुसार अपनाया है',\n",
              " 'बढ़ती वैश्विक ऊष्मा के कारण समुद्र के स्तर और सुनामी जैसी आपदाओं की स्थिति में द्वीपसमूहों में जीवन और आजीविकाओं को सुरक्षित रखने के उद्देश्य से मेनग्रोव व आधारित बायोशिल्डों के निर्माण जैसे उपाय किये जाने चाहिए',\n",
              " 'आईफोन और एंड्रॉइड के लिए उनके फोर्च 2 जी ऐप आपको अपनी शेष राशि की जांच करने बिलों का भुगतान करने चेक जमा करने और स्थानांतरण करने की अनुमति देता है',\n",
              " 'पालम टैंडरनोड व्हाइट वियाना परपल वियाना',\n",
              " 'इस प्रकार बार-बार ऊपर की भक्षण सामग्री नयी डालते जाते हैं',\n",
              " 'ऐतिहासिक रूप से पशु पालन भौतिक संस्कृति के खानाबदोश अथवा चारागाही सम्बन्धी रूप का भाग है',\n",
              " 'कुक्कुट पालन में लगभग 150 पक्षियों को एक साथ पाला गया प्रति मुर्गी लगभग 2 किलो वजन और प्रति पक्षी 120 अंडे का उत्पादन किया गया',\n",
              " 'शिलिंग परीक्षण के पहले चरण में रोगी को विटामिन बी 12 की दो खुराक दी जाती है',\n",
              " 'हेयर डाई जैसी एलर्जी के संपर्क में आने से लोग अपने स्कैल्प में कॉन्टैक्ट डर्मेटाइटिस भी विकसित कर सकते हैं और एलोपेसिया आर्युटा वाले व्यक्ति अक्सर डर्मेटाइटिस का अनुभव करते हैं',\n",
              " 'कुछ बिक्री रसीदें हस्तलिखित हैं',\n",
              " 'बैंक नोटों को कानूनी निविदा माना जाता है और उनका उपयोग दुनिया भर में हर दिन अरबों के वित्तीय लेनदेन में किया जाता है',\n",
              " 'खरीद उद्योग का एक बड़ा बिंदु है जिसने वर्षों में खुदरा क्षेत्र का निर्माण किया है',\n",
              " 'अन्य स्थितियों जैसे कि कैंसर और विरासत में मिली विकारों के लिए व्यापक उपचार की आवश्यकता हो सकती है जिसमें दवा उपचार सर्जरी और रक्त संक्रमण शामिल हो सकते हैं',\n",
              " 'सामान्य तौर पर जब तक आपके पास कंप्यूटर है तब तक एक कंप्यूटर रसीद रखी जानी चाहिए',\n",
              " 'बार-बार के रुमेटिक बुखार से ही रुमेटिक हृदय रोग विकसित होता है',\n",
              " 'एक कंपनी जितनी अधिक सफल होती है उतनी अधिक पूंजी बची रहती है',\n",
              " 'कालाजार पखवाड़ा/कालाजार खोज कैंप क्या है',\n",
              " 'जैसे तापमान सांद्धता उचाई भीड़ घर पडौसी पानी दुध भोजन प्रदयुषण और शोर रोग पैदा करने के खतरे के संभावित कारक है',\n",
              " 'कमोडिटी निवेश के लिए उपलब्ध उत्पादों के प्रकार में कृषि उत्पाद शामिल हैं',\n",
              " 'एक सूजन जीभ और गले में खराश कुछ अलग समस्याओं के लक्षण हो सकते हैं',\n",
              " 'अतीत में स्टॉक उद्धरण को टेलीग्राफ संदेशों के माध्यम से भेजा और प्राप्त किया गया था और जब कागज के लंबे संकीर्ण टुकड़ों पर उद्धरण मुद्रित किए जाते थे तो एक टिक ध्वनि सुनाई देती थी टिक की आवाज और पतले कागज से टिकर शब्द की उत्पत्ति हुई',\n",
              " 'यह रबड़नुमा पदार्थ उत्पादित करता है जिस कारण जानवर इसे चरना पसंद नहीं करते',\n",
              " 'कई उदाहरणों में राज्य और संघीय सरकारों द्वारा वर्तमान में लागू कानूनों द्वारा घरेलू भागीदार लाभों का दायरा कुछ हद तक प्रतिबंधित है',\n",
              " 'दूसरी एक तिहाई यूरिया की मात्रा कल्ले फूटते समय और शेष एक तिहाई हिस्सा फूल आने से पहले खड़ी फसल में छिड़काव करके करें',\n",
              " 'त्वचा के घाव या पैच जो उठे हुए खुजली वाले धक्कों का विकास करते हैं हमेशा एक चिकित्सक द्वारा जांच की जानी चाहिए',\n",
              " 'विदेशी मुद्रा बाजार पर यह निवेशक आमतौर पर अन्य मुद्रा प्रकारों के लिए व्यापार करेगा',\n",
              " 'पोषक पदार्थ को दूध में बदलने की दर 45.71 होती है जबकि गाय में 38 होती है',\n",
              " 'स्वस्थ एवं अच्छे बीजों का चयन',\n",
              " 'इतना ही नहीं एक तरफ जहां कंपनियों के फायदे में होने के आंकड़े सामने आते रहे हैं वहीं 17 में से 4 कंपनियों ने फसल बीमा कारोबार में घाटा बताते हुए खुद को अलग कर लिया',\n",
              " 'वित्तीय संस्थान हमेशा विशिष्ट उपयोग के लिए कंपनियों को दिए गए ऋण को धारण नहीं कर सकते हैं कुछ मामलों में पूंजी बाजार द्वितीयक बाजार पर नोट खरीदने और बेचने की अनुमति देता है',\n",
              " 'खरीदारों के लिए एस्क्रो कैलकुलेटर भी ऑनलाइन उपलब्ध हैं ताकि वे फीस का अनुमान लगा सकें',\n",
              " 'प्रभावित गठियां सड़ जाती हैं तथा पौधों की पत्तियां भूरी हो जाती हैं',\n",
              " 'ऐसा करते समय कंपनी के पास आमतौर पर अपनी रिपोर्टिंग मुद्रा के रूप में उपयोग की जाने वाली मुद्राओं की तुलना में अलग-अलग मुद्राएं होती हैं',\n",
              " 'समशीतोष्ण क्षेत्र में यह प्राकृतिक रूप से पाया जाता है',\n",
              " 'इसके लक्षण तीन डी हैं यानी डीमेंसिया डरमेटाइटिस और डायरिया',\n",
              " 'यह शब्द वास्तव में एक से अधिक तरीकों से उपयोग किया जाता है कभी-कभी उन बॉन्ड्स का जिक्र किया जाता है जो परिवहन कंपनियों और एजेंसियों को उन संस्थाओं द्वारा प्रदान की गई सेवाओं का उपयोग करके भेजे गए माल पर भुगतान का बीमा करने में मदद करने के साधन के रूप में निकालते हैं',\n",
              " 'वैसे बी-कम्प्लेक्स या कैल्शियम युक्त दवा 10 मिली',\n",
              " 'यह किसानों को वास्त्विक लाभ देने के लिए आवश्यक होगा',\n",
              " 'यह अक्सर जीवाणु संक्रमण के कारण होता है जो टॉन्सिल नाक और लार ग्रंथियों में शुरू होता है',\n",
              " 'बोर्ड ब्रेस्टेड ब्रोंजः इनके पंखों का रंग काला होता है न कि कांस्य',\n",
              " 'इस प्रकार का विकिरण रेडियो तरंगों का रूप लेता है जो माइक्रोवेव रेंज के पास होती हैं',\n",
              " 'अन्य मामलों में हाइपरप्लासिया अंग विस्थापन खराश और अन्य लक्षण पैदा करता है जो इसे ध्यान देने योग्य बनाते हैं',\n",
              " 'ज्यादातर मामलों में सभी व्यवसायों के संचालन में कुछ प्रकार की निश्चित लागत होती है',\n",
              " 'इस योजना में सभी स्तर पर आधारभूत मध्य – कालिक एवं योजना समापन पर सर्वेक्षण एवं विशिष्ट सर्वेक्षण/अध्ययन किया जाएगा',\n",
              " 'देयता संचालित निवेश परिसंपत्ति प्रबंधन की एक प्रणाली है जो निवेश से जुड़ी सभी संबंधित लागतों को कवर करने के लिए है',\n",
              " 'एक बाल्टी संभाल मेनिस्कस आंसू तब हो सकता है जब एक टैकल के दौरान घुटने को एक तरफ घुमा दिया जाता है या अगर कोई व्यक्ति हवा में कूदने के बाद अजीब तरह से लैंड करता है',\n",
              " 'दूसरी श्रेणी में पादप प्लवक इसमें तैरने वाले अथवा जलमग्न निम्नवर्गीय सूक्ष्म पादप आते हैं इसके उदाहरण शैवाल काई एवं गाद हैं',\n",
              " 'विस्तार से इसके बारे में नीचे आप पढ़ सकते हैं',\n",
              " 'किसानों को एक बड़ा बाजार मिलेगा साथ ही कृषि उत्पादों का इंश्योरेंस कवर भी होगा',\n",
              " 'आपको एक पता जारी किया जाता है जो आपके ग्राहकों को आपके संगठन द्वारा जारी किए गए सभी चालानों के भुगतान को सीधे लॉकबॉक्स में भेजने की अनुमति देगा',\n",
              " 'निजी स्वास्थ्य केंद्र द्वारा निम्न विकल्पों में से किसी एक को चुना जा सकता है',\n",
              " 'गैर-आयनीकरण विकिरण जिसमें दृश्य प्रकाश माइक्रोवेव और रेडियो तरंगें शामिल हैं को आमतौर पर हानिरहित माना जाता है',\n",
              " 'इसके अलावा ये सस्ते निर्माण और तोड़ने में आसान होते हैं',\n",
              " 'यदि लिंडा के उत्तराधिकार का मूल्यांकन कैरीओवर के आधार पर किया जाता है तो वह घर बेचने की कोशिश करने पर भारी पूंजीगत लाभ करों का भुगतान करेगा',\n",
              " 'कुछ अच्छे घरेलू उपचारों में शहद के साथ गर्म चाय की चुस्की लेना या लोजेंजेस का उपयोग करना शामिल है',\n",
              " 'गमले में पानी नहीं जमने देना चाहिए अन्यथा कंद सड़ जाएँगे',\n",
              " 'नियोक्ता और संघ दोनों सदस्यों को निवेश और निधि लाभ के बारे में निर्णय लेने के लिए न्यासी बोर्ड में सदस्य नियुक्त करते हैं',\n",
              " 'ग्रीष्मकालीन फसल हेतु बीज जनवरी-फरवरी में वर्षाकालीन हेतु मई-जून तथा शीतकालीन फसल की बुआई के लिए सितम्बर-अक्तूबर का समय उपयुक्त है',\n",
              " 'दूसरी ओर उच्च घनत्व वाले लिपोप्रोटीन को अक्सर अच्छे प्रकार के कोलेस्ट्रॉल के रूप में जाना जाता है क्योंकि यह धमनियों को भरा हुआ रखने में भूमिका निभाता है',\n",
              " 'जब तक ग्राहक की धरोहर बैंक के पास रखी रहती है तब तक बैंक ग्राहक का प्रन्यासी तथा ग्राहक बैंक का प्रत्याशी कहलाता है',\n",
              " '56 ग्राम/किलो भार प्रतिदिन बढ़ने वाले जिनका भार 150-600 किलो हो',\n",
              " 'राजनीतिक संस्कृति का विशेष स्वभाव इसकी गतिशीलता है',\n",
              " 'जीरो टिलेज पद्धति में अधिकतम सामर्थ्य प्राप्त करने के लिए उसकी मूलधारणा के बारे में जानें जैसे कि बुआई का उचित समय उन्नत प्रजातियाँ विभिन्न सिंचाई करने का समय और अन्य संस्तुतित सस्य क्रियाओं के बारे में वार्ता करते रहने से जीरो टिलेज से बुआई अधिक क्षेत्र में करने का अवसर प्रदान करेगी',\n",
              " 'इसी तरह एक ब्रोकरेज एक निवेशक को लोन की राशि एक मार्जिन खरीद के लिए लोन देगा यदि आप ऋण पर्याप्त नहीं है तो एक महत्वपूर्ण खरीद करने से बच सकते हैं',\n",
              " 'बढ़े हुए बाएं वेंट्रिकल वाले व्यक्तियों उदाहरण के लिए मायोकार्डियल रोधगलन या दिल के दौरे का खतरा बढ़ जाता है',\n",
              " 'अन्य श्रेणियों के भी व्यापारी होते हैं परंतु अधिकतर इन्हीं दो श्रेणियों में आते हैं',\n",
              " 'उन्होंने 20 से अधिक उपग्रहों का विकास किया जिन्होंने ग्रामीण इलाकों में संचार और मौसम संबंधी परेशानियों को हल करने में अहम भूमिका निभाई',\n",
              " 'उपचार – रोगी बकरी को अलग रखकर अगर मुहं में छाले हों तो पोटाशियम परमैंगनेट से धोना चाहिए',\n",
              " 'डॉक्टर आमतौर पर एचसीजी के स्तर और एक्टोपिक गर्भावस्था के बीच संबंध पर भरोसा नहीं करते हैं जब यह निर्धारित किया जाता है कि महिला को फैलोपियन ट्यूब में विकसित होने वाली गर्भावस्था है या नहीं',\n",
              " 'सरकारी बांड कॉर्पोरेट बांड और कर मुक्त बांड जैसे व्यापार ऋण प्रतिभूतियों के लिए बाजार एक बांड बाजार के रूप में जाना जाता है',\n",
              " 'मिट्टी की परीक्षण दो बार कितनी देर बाद करानी चाहिए',\n",
              " 'फ्री लिस्टिंग के लिए यहां',\n",
              " 'सामान्य तौर पर एक या अधिक एफआईआरए लाइसेंस प्राप्त करने तैयार करने और अर्जित करने के लिए नए सिक्योरिटी ब्रोकर कर्मचारियों को प्राप्त होने वाले प्रशिक्षण का हिस्सा होता है जब वे एफआईएनआरए के सदस्य ब्रोकरेज में नियुक्त होते हैं',\n",
              " 'उनका मानना है कि पिछले परिणाम भविष्य की जीत तय करेंगे हालांकि उन पिछली घटनाओं का कोई असर नहीं है क्योंकि भविष्य में क्या होगा',\n",
              " 'कार्पल टनल सिंड्रोम हाथों में खराब परिसंचरण का एक और सामान्य कारण है',\n",
              " 'इसके शरीर पर काला भूरा तथा सफेद रंग का छोटा रोंआ पाया जाता है',\n",
              " 'नहरों में मछली उत्पादन से अधिक लाभ परिचयनहरों की स्थिति प्रकार एवं बनावटनहरों में मात्स्यिकी की संभावनाएंनहरों में मत्स्य उत्पादन की दिशा में सिफरी की पहलनहरों में मात्स्यिकी हेतु प्रबंधन',\n",
              " 'इसके अतिरिक्त रोगमुक्त भूस्तारियों का प्रयोग करें',\n",
              " 'जैसे-जैसे कॉरपोरेट का मुनाफा बढ़ता है वैसे ही ज्यादातर परिस्थितियों में शेयर की कीमतें बढ़ जाती हैं',\n",
              " 'दिनचर्या या व्यक्ति में बदलाव',\n",
              " 'इसकी संयुक्त पत्ती के अगल कुछ पत्रक प्रतान में बदल जाते हैं',\n",
              " 'यदि पर्यावरण अपराधियों की एक अतिरिक्त राशि है तो क्रेडिट रखने वाले दलों को उनकी कमी के कारण मूल्यवान माना जाएगा',\n",
              " 'जब दो पक्ष एक अग्रेषित अनुबंध पर हस्ताक्षर करते हैं तो वे एक निश्चित भविष्य की परिपक्वता तिथि पर एक निश्चित मूल्य पर दूसरे पक्ष को अंतर्निहित परिसंपत्ति की एक निश्चित राशि खरीदने या बेचने का दायित्व लेते हैं',\n",
              " 'इसलिए मॉडल परियोजना के लिए चुकौती की अवधि सात साल निर्धारित की गई है',\n",
              " 'कृत्रिम दाँत आमतौर पर दंत रोगी के सौंदर्य विकल्पों से मेल खाने के लिए डिज़ाइन किए जाते हैं',\n",
              " 'इनमें टॉन्सिल और एडेनोइड्स की कमी विकसित विकास संयुक्त रोग और गुर्दे और मांसपेशियों की सूजन शामिल हैं',\n",
              " 'पर्क्यूटियस कैथेटर ड्रेनेज के रूप में जाना जाता है इस आउट पेशेंट प्रक्रिया में त्वचा के माध्यम से फोड़ा में एक छोटे कैथेटर की शुरूआत शामिल है',\n",
              " 'स्ट्रेप और सेप्सिस इसलिए निकटता से संबंधित हो सकते हैं',\n",
              " 'गुणसूत्रों की संरचना बाद में परिवर्तित नहीं हो सकती',\n",
              " 'प्रतिकूल तापमान तथा जल की कमी से कलियाँ पुष्प एवं फल गिर जाते हैं',\n",
              " 'बैंक अपने ग्राहकों और अन्य विश्वसनीय व्यक्तियों तथा संस्थाओं को केवल व्यवसाय एवं उत्पादन संबंधी कार्यों के लिए ऋण देते हैं',\n",
              " 'इस तरह से संरचित कई निवेश अवसर हैं जिनमें विभिन्न प्रकार के स्वैप आगे के विकल्प और वायदा शामिल हैं',\n",
              " 'यदि लाल रक्त कोशिकाओं की अपर्याप्त संख्या है तो रक्त शरीर के माध्यम से पर्याप्त ऑक्सीजन का परिवहन नहीं करेगा और व्यक्ति अक्सर थका हुआ महसूस करेगा',\n",
              " 'तथापि अनानुबंधित उद्दीपकों का जीवन मूल्य युक्त होना आवश्यक है',\n",
              " 'आंतों के विकारों की एक किस्म में बढ़े हुए एमीलेज़ स्तर हो सकते हैं जिसमें एपेंडिसाइटिस पेरिटोनिटिस और आंतों की रुकावट शामिल हैं',\n",
              " 'इसके अलावा कई प्रकार के मुद्दे हैं जो ललाट लोब मस्तिष्क क्षति के परिणामस्वरूप विकसित हो सकते हैं',\n",
              " 'यह एक बंधक या अन्य बड़े ऋण के साथ बेहद जोखिम भरा हो सकता है क्योंकि सह-देनदार के पास इसे भुगतान करने के लिए धन तक पहुंच नहीं हो सकती है',\n",
              " 'तीव्र टॉन्सिलिटिस के उदाहरणों को एंटीबायोटिक दवाओं या एंटीवायरल दवाओं के साथ इलाज किया जाता है लेकिन पुरानी समस्याएं आमतौर पर दवा का जवाब नहीं देती हैं',\n",
              " 'बाहर से भोजन देने में निम्नलिखित बातों का ध्यान देना आवष्यक है',\n",
              " 'अत्यधिक मतली पैदा करने वाली स्थितियां फूड पॉइजनिंग से लेकर एपेंडिसाइटिस से लेकर वर्टिगो तक हो सकती हैं',\n",
              " 'मध्यकालीन विकास मध्यकाल में भारत पर अनेक मुस्लिम आक्रांताओं ने आक्रमण किये और प्रारम्भ में नगरों एवं मंदिरों को उजाड़ा किन्तु बाद में यहाँ स्थायी राज्य की स्थापना की',\n",
              " 'हालांकि संक्रमण या अल्सर विकसित होने की संभावना है इस कारण से चिकित्सक जब तक डिवाइस में हैं तब तक पेसरी की स्थिति और योनि की सामान्य स्थिति की निगरानी करेंगे',\n",
              " 'यह आपको चिकित्सा खर्चों के लिए उपयोग किए जाने वाले प्रत्येक महीने के लिए पैसा अलग सेट करने की अनुमति देता है आम तौर पर पैसा पूरी तरह से कर-मुक्त रहता है',\n",
              " 'अक्सर जब एक किशोर जानता है कि नकारात्मक दबाव को कैसे पहचानना है तो वह बेहतर तरीके से इसका जवाब देने में सक्षम है',\n",
              " 'अध्ययनों से संकेत मिलता है कि ज्यादातर लोग जो डेमोफोबिया से पीड़ित हैं उन्हें एहसास होता है कि उनकी आशंका निराधार है फिर भी उनके भय को नियंत्रित करने के लिए बहुत कम है',\n",
              " 'स्टॉक्स लोगों को कंपनी में हिस्सेदारी का हकदार बनाते हैं निवेशक पूंजी प्रदान करते हैं और बदले में मूल्य प्राप्त होने पर लाभ के लिए अन्य पार्टियों को स्टॉक बेचने के साथ-साथ लाभांश प्राप्त कर सकते हैं',\n",
              " 'संभवतः अतीत में जब निवेशक विफल निवेशों में लगे हुए थे वे आमतौर पर लेनदारों से किसी भी उत्पीड़न को रोकने के लिए अपनी हताश खोज में रियो डी जनेरियो भाग गए जो निश्चित रूप से अपने पैसे इकट्ठा करने के लिए अपने दरवाजे पर दस्तक दे आएंगे',\n",
              " 'सभी लड़कियों और लड़कों को वे अच्छी तरह से एक स्वस्थ आहार के साथ मनुष्य हैं सुनिश्चित करते हुए माता पिता या अन्य देखभाल करने वालों के साथ एक देखभाल और सुरक्षा के माहौल का अधिकार है',\n",
              " 'पौधे में पानी के प्रवाह के साथ वे खुलते हैं',\n",
              " 'कार्डियोथोरेसिक सर्जन ब्ललॉक-टॉसिग शंट करते हैं जो पेटेंट डक्टस की जगह लेता है',\n",
              " 'कोर्टिसोल पैदा करने वाली ग्रंथि का थकावट भी हो सकता है',\n",
              " 'इस योजना के अंतर्गत प्रौद्योगिकी क्षेत्र और समस्या समाधान के सन्दर्भ में एक जैसी परियोजनाओं को पुनः आरम्भ नहीं किया जायेगा',\n",
              " 'व्हिपलैश लक्षण हल्के से लेकर गंभीर तक हो सकते हैं और एक साल तक रह सकते हैं हालांकि अधिकांश लोग कुछ महीनों के भीतर व्हिपलैश से ठीक हो जाते हैं',\n",
              " 'जब भी आपरेशन से टॉन्सिल निकालते हैं कण्ठशालूक भी निकाल दिए जाते हैं',\n",
              " 'वूडू इकोनॉमिक्स का अनपेक्षित परिणाम राष्ट्रीय ऋण में एक बड़ी वृद्धि थी और सरकार द्वारा वित्त पोषित कार्यक्रमों के रूप में कई महत्वपूर्ण कार्यक्रमों को होने वाले नुकसान को कर कटौती के जवाब में काट दिया गया था',\n",
              " 'आमतौर पर ये पैच सूजन वाले धक्कों से बने होते हैं और ये व्यक्तिगत धक्कों किसी भी आकार में बन सकते हैं',\n",
              " 'जुनैद एक बिजनेस फैमिली से आते हैं',\n",
              " 'सिज़ोफ्रेनिया द्विध्रुवी विकार और बॉर्डरलाइन व्यक्तित्व विकार जैसी स्थितियों वाले मरीज़ अपने आसपास की दुनिया से अलग होने की भावना विकसित कर सकते हैं',\n",
              " 'यद्यपि कुछ संस्थान मुख्य रूप से इस प्रकार के बैंकिंग को ध्यान में रखते हुए संचालित होते हैं अधिकांश बड़े बैंक बड़े खातों के लिए एक निजी विभाग की सुविधा देते हैं',\n",
              " 'मलेरिया के कई अलग-अलग रूप दिखाई दे सकते हैं लेकिन सभी को आमतौर पर एक प्रारंभिक चरण की विशेषता होती है जिसमें रोगी को ठंड लगना और कंपकंपी का अनुभव होता है कुछ बच्चों में दौरे पड़ते हैं',\n",
              " 'सामान्य परिस्थितियों में एक महिला अपनी अवधि के सबसे भारी दिनों में कुछ योनि रक्त के थक्के होने की उम्मीद कर सकती है',\n",
              " 'दक्षिण पूर्व एशिया को दो भौगोलिक भागों में बांटा जा सकता है मुख्यभूमि दक्षिण पूर्व एशिया जिसे इंडोचायना भी कहते हैं के अन्दर कंबोडिया लाओस बर्मा थाईलैंड वियतनाम और प्रायद्वीपीय मलेशिया आते हैं और समुद्री दक्षिण पूर्व एशिया जिसमें ब्रुनेई पूर्व मलेशिया पूर्वी तिमोर इंडोनेशिया फिलीपींस क्रिसमस द्वीप और सिंगापुर शामिल हैं',\n",
              " 'शीघ्रता मृत्यु सहित जटिलताओं को रोकने के लिए उपयुक्त उपचार आवश्यक है',\n",
              " 'पादप भोजन प्राकृतिक रूप में पैदा होने वाले एंटी-ऑक्सिडेंट्स का प्रमुख स्रोत होते हैं फल सब्जियां जड़ें और ट्यूबर पोलिफेनोल्स का समृद्ध स्रोत हैं',\n",
              " 'विदर्भ में सफेद प्याज की यह किस्म उच्च और बाजार की मांग के कारण बेहद लोकप्रिय है',\n",
              " 'एक व्यापक नेटवर्क जो विशेष रूप से स्राव के लिए डिज़ाइन किया गया और कैनालिकुली के रूप में जाना जाता है प्रत्येक पार्श्विका कोशिका में मौजूद होता है',\n",
              " ...]"
            ]
          },
          "metadata": {},
          "execution_count": 31
        }
      ]
    },
    {
      "cell_type": "code",
      "source": [
        "a=str(corpus[0])"
      ],
      "metadata": {
        "id": "CRRsMRifypu-"
      },
      "execution_count": null,
      "outputs": []
    },
    {
      "cell_type": "code",
      "source": [
        "s='a'"
      ],
      "metadata": {
        "id": "u_8coQwpy8Ph"
      },
      "execution_count": null,
      "outputs": []
    },
    {
      "cell_type": "code",
      "source": [
        "s=s+'b'"
      ],
      "metadata": {
        "id": "qhzgeiUIy-OI"
      },
      "execution_count": null,
      "outputs": []
    },
    {
      "cell_type": "code",
      "source": [
        "s"
      ],
      "metadata": {
        "colab": {
          "base_uri": "https://localhost:8080/",
          "height": 35
        },
        "id": "OUkwqiPBzAoI",
        "outputId": "aa22e8da-aa26-4550-d8dd-04d777fc369e"
      },
      "execution_count": null,
      "outputs": [
        {
          "output_type": "execute_result",
          "data": {
            "text/plain": [
              "'ab'"
            ],
            "application/vnd.google.colaboratory.intrinsic+json": {
              "type": "string"
            }
          },
          "metadata": {},
          "execution_count": 15
        }
      ]
    },
    {
      "cell_type": "code",
      "source": [
        ""
      ],
      "metadata": {
        "id": "GHbOONQGy8Gw"
      },
      "execution_count": null,
      "outputs": []
    },
    {
      "cell_type": "code",
      "source": [
        "a"
      ],
      "metadata": {
        "colab": {
          "base_uri": "https://localhost:8080/",
          "height": 35
        },
        "id": "T_W5Gf1gyzmO",
        "outputId": "d97c1f8f-ff60-48ac-bd72-8d7f110620a6"
      },
      "execution_count": null,
      "outputs": [
        {
          "output_type": "execute_result",
          "data": {
            "text/plain": [
              "\"['चरागाह', 'चराई', 'के', 'लिए', 'इस्तेमाल', 'किया', 'भूमि', 'है']\""
            ],
            "application/vnd.google.colaboratory.intrinsic+json": {
              "type": "string"
            }
          },
          "metadata": {},
          "execution_count": 12
        }
      ]
    },
    {
      "cell_type": "code",
      "source": [
        "\n",
        "\n",
        "#data = [d for d in '.'.join([l for l in data]).split('.') if len(d)>5]\n",
        "with open('data.txt', 'w') as f:\n",
        "    for line in train_with_punc:\n",
        "        f.write(line+'\\n')\n",
        "!head -n 5 data.txt"
      ],
      "metadata": {
        "colab": {
          "base_uri": "https://localhost:8080/"
        },
        "id": "zkU_BhdE10Mg",
        "outputId": "878767eb-5ef9-457f-9fe5-25e4221203d1"
      },
      "execution_count": null,
      "outputs": [
        {
          "output_type": "stream",
          "name": "stdout",
          "text": [
            "इसके अतिरिक्त, बन्ध्याकरण क्रिया से कोई अन्य लंबी अवधि के खतरे नहीं जुड़े होते है.\n",
            "एक व्यक्ति स्थायी लक्षणों को कम करने के लिए ओवर-द-काउंटर विरोधी भड़काऊ दवाएं भी ले सकता है.\n",
            "कुछ कारणों में विटामिन डी की कमी या कैल्शियम की कमी, एनोरेक्सिया नर्वोसा और कुशिंग की बीमारी, और कुछ दवाएं या रासायनिक विषाक्तता जैसी स्थितियां शामिल हैं.\n",
            "ट्रिकोटिलोमेनिया वाले बच्चों में परामर्श और मनोचिकित्सा दवाओं के माध्यम से वसूली की बहुत अच्छी संभावना है.\n",
            "2002 के बाद से, विशेष रूप से अनुमोदित विदेशी निवेशक भी ए-श्रेणी के शेयरों में निवेश कर सकते हैं, हालांकि यह मंजूरी केवल सीमित संख्या में निवेशकों, सभी संस्थानों में व्यक्तियों के बजाय दी गई है.\n"
          ]
        }
      ]
    },
    {
      "cell_type": "code",
      "source": [
        "!head -n 20 data.txt"
      ],
      "metadata": {
        "colab": {
          "base_uri": "https://localhost:8080/"
        },
        "id": "uCHlOKrJ441S",
        "outputId": "e443e80a-38bf-4634-dcbf-9019b199d9a3"
      },
      "execution_count": null,
      "outputs": [
        {
          "output_type": "stream",
          "name": "stdout",
          "text": [
            "सोने के मूल्यांकन के लिए सोने के परीक्षण उपकरण उपयोगी होते हैं हालांकि कुछ सोने के परीक्षकों में अन्य लोगों की तुलना में अधिक विशेषताएं और बेहतर सटीकता होती है\n",
            "इससे यह सुनिश्चित करने में मदद मिलती है कि पहनने वाला ठीक से देख सकता है और लेंस को मलबे से खरोंचने से भी बचा सकता है\n",
            "इसके विपरीत अधिक परिपक्व हो जाने पर जब इनको वृक्षों से तोड़ा जाता है तो इनकी भण्डारण क्षमता भी कम हो जाती है\n",
            "अवरोही बृहदान्त्र का कैंसर बीमारियों के लिए सबसे गंभीर है\n",
            "बाइंडर सिंड्रोम के विकास में पर्यावरणीय कारणों को प्रदर्शित करने के लिए अभी तक कोई सबूत नहीं मिला है\n",
            "वहाँ से उस आरंभिक सूची के किसी भी खरीद या परिवर्धन को ध्यान में रखा जाता है और अवधि के पहले दिन हाथ से सूची के साथ बंडल किया जाता है जिससे उस अवधि के लिए कुल सूची के रूप में जाना जाता है\n",
            "जब पहली बार 1993 में परीक्षण का उपयोग किया गया था तो डॉक्टरों ने मिश्रित संकेतों को प्राप्त करने से बचने के लिए विद्युत तरंगों और रक्त-ऑक्सीजन के स्तर में अलग-अलग बदलाव दर्ज किए\n",
            "केन्द्रीय प्रयोगशाला मत्स्य निदेशालय 7 फैजाबाद रोड लखनऊ में स्थित है\n",
            "जबकि विरासत में मिला स्टॉक अक्सर कृतज्ञता के साथ स्वीकार किया जाता है यह याद रखना महत्वपूर्ण है कि इस प्रकार की संपत्ति का स्वागत भी वित्तीय बोझ का कुछ पैदा कर सकता है\n",
            "आंतरिक राजस्व सेवा करदाताओं को किसी भी कर वर्ष के दौरान भुगतान किए जाने वाले कर की कुल राशि के बारे में कुछ कटौती करने की अनुमति देता है\n",
            "यह अनुमान है कि 20-30 प्रतिशत गर्भवती महिलाएं गर्भावस्था में अतिरिक्त कफ से पीड़ित होती हैं\n",
            "डेयरी उत्पाद औसत व्यक्ति के आहार में कैल्शियम का एक प्रमुख स्रोत हैं इसलिए यह महत्वपूर्ण है कि लैक्टोज असहिष्णु बच्चों के माता-पिता एक और कैल्शियम स्रोत प्रदान करें\n",
            "राष्ट्रीय जैविक खेती केन्द्र ने अब तक केवल जेव उर्वरक एक केन्द्र के रूप में प्रभावी ढंग से कार्य किया है\n",
            "बीज पौधों में मातृ वृक्षों के समान गुण नहीं आ पाते हैं\n",
            "खादी वस्त्रों की विशेषता है कि ये शरीर को गर्मी में ठण्डे और सर्दी में गरम रखते हैं\n",
            "कुछ मामलों में विक्रेता वित्तपोषण प्राप्त करने में खरीदार की सहायता के लिए खरीदार की बंधक कंपनी द्वारा मूल्यांकन किए गए बिंदुओं का भुगतान करने की पेशकश कर सकता है\n",
            "लक्षणों में हड्डी में दर्द थकान आवर्तक संक्रमण और आसानी से अस्थिभंग शामिल हो सकते हैं\n",
            "कुछ मामलों में महाधमनी भी फट सकती है जिससे मृत्यु हो सकती है\n",
            "सरकारें सार्वजनिक परियोजनाओं जैसे सड़क या नए स्कूल निर्माण के लिए धन जुटाने के लिए बांड जारी करती हैं जबकि निगम विलय और अधिग्रहण के लिए आवश्यक राजस्व जुटाने के लिए बांड जारी करते हैं\n",
            "पशुओं में जुगाली करने की प्रकिया चारे के आकार पर भी निर्भर करती है इसलिए रेशा चारे चारे के आकार कम से कम 1.2 मि मि होना चाहिए\n"
          ]
        }
      ]
    },
    {
      "cell_type": "markdown",
      "source": [
        "Save your text in data.txt and run the next code"
      ],
      "metadata": {
        "id": "3ryHQwkF4wDF"
      }
    },
    {
      "cell_type": "code",
      "source": [
        "!cat data.txt | ./bin/lmplz -o 5 > model.binary"
      ],
      "metadata": {
        "colab": {
          "base_uri": "https://localhost:8080/"
        },
        "id": "63E92piJ4j-q",
        "outputId": "3c280688-3444-4c60-ec60-de9d6007724d"
      },
      "execution_count": null,
      "outputs": [
        {
          "output_type": "stream",
          "name": "stdout",
          "text": [
            "=== 1/5 Counting and sorting n-grams ===\n",
            "File stdin isn't normal.  Using slower read() instead of mmap().  No progress bar.\n",
            "tcmalloc: large alloc 1919328256 bytes == 0x55f51c6d8000 @  0x7f431affb1e7 0x55f519d21249 0x55f519d7917e 0x55f519d64856 0x55f519d00d59 0x7f431983fc87 0x55f519d017ea\n",
            "tcmalloc: large alloc 8956862464 bytes == 0x55f58ed42000 @  0x7f431affb1e7 0x55f519d21249 0x55f519d5be4a 0x55f519d5c888 0x55f519d6486f 0x55f519d00d59 0x7f431983fc87 0x55f519d017ea\n",
            "=== 2/5 Calculating and sorting adjusted counts ===\n",
            "Chain sizes: 1:2047548 2:1062648000 3:1992465152 4:3187943936 5:4649085440\n",
            "tcmalloc: large alloc 4649091072 bytes == 0x55f58ed42000 @  0x7f431affb1e7 0x55f519d21249 0x55f519d5be4a 0x55f519d5c888 0x55f519d64d8b 0x55f519d00d59 0x7f431983fc87 0x55f519d017ea\n",
            "tcmalloc: large alloc 1992466432 bytes == 0x55f6a3efa000 @  0x7f431affb1e7 0x55f519d21249 0x55f519d5be4a 0x55f519d5c888 0x55f519d6516d 0x55f519d00d59 0x7f431983fc87 0x55f519d017ea\n",
            "tcmalloc: large alloc 3187949568 bytes == 0x55f7a55dc000 @  0x7f431affb1e7 0x55f519d21249 0x55f519d5be4a 0x55f519d5c888 0x55f519d6516d 0x55f519d00d59 0x7f431983fc87 0x55f519d017ea\n",
            "Statistics:\n",
            "1 170629 D1=0.721785 D2=0.992032 D3+=1.26065\n",
            "2 1633297 D1=0.761488 D2=1.06627 D3+=1.33299\n",
            "3 4284076 D1=0.843239 D2=1.15678 D3+=1.37774\n",
            "4 6175867 D1=0.911006 D2=1.25266 D3+=1.4122\n",
            "5 6999566 D1=0.933418 D2=1.3838 D3+=1.4303\n",
            "Memory estimate for binary LM:\n",
            "type     MB\n",
            "probing 401 assuming -p 1.5\n",
            "probing 471 assuming -r models -p 1.5\n",
            "trie    194 without quantization\n",
            "trie    107 assuming -q 8 -b 8 quantization \n",
            "trie    172 assuming -a 22 array pointer compression\n",
            "trie     85 assuming -a 22 -q 8 -b 8 array pointer compression and quantization\n",
            "=== 3/5 Calculating and sorting initial probabilities ===\n",
            "Chain sizes: 1:2047548 2:26132752 3:85681520 4:148220808 5:195987848\n",
            "----5---10---15---20---25---30---35---40---45---50---55---60---65---70---75---80---85---90---95--100\n",
            "####################################################################################################\n",
            "=== 4/5 Calculating and writing order-interpolated probabilities ===\n",
            "Chain sizes: 1:2047548 2:26132752 3:85681520 4:148220808 5:195987848\n",
            "----5---10---15---20---25---30---35---40---45---50---55---60---65---70---75---80---85---90---95--100\n",
            "****************************************************************************************************\n",
            "Chain sizes: 1:2047548 2:26132752 3:62303520 4:99685624 5:145374880\n",
            "=== 5/5 Writing ARPA model ===\n",
            "Name:lmplz\tVmPeak:14156320 kB\tVmRSS:2636536 kB\tRSSMax:0 kB\tuser:0\tsys:0\tCPU:0\treal:32.6816\n"
          ]
        }
      ]
    },
    {
      "cell_type": "code",
      "source": [
        "len(list(model.full_scores(test_without_punc[0])))"
      ],
      "metadata": {
        "colab": {
          "base_uri": "https://localhost:8080/"
        },
        "id": "cqN_xb743YsU",
        "outputId": "bc324b96-988a-4cd8-cff5-af237b8a8f71"
      },
      "execution_count": null,
      "outputs": [
        {
          "output_type": "execute_result",
          "data": {
            "text/plain": [
              "33"
            ]
          },
          "metadata": {},
          "execution_count": 21
        }
      ]
    },
    {
      "cell_type": "code",
      "source": [
        "len(test_without_punc[0].split(' '))"
      ],
      "metadata": {
        "colab": {
          "base_uri": "https://localhost:8080/"
        },
        "id": "FIok4nQ34fE7",
        "outputId": "eb47afbd-de20-436c-ed74-01202bb46d27"
      },
      "execution_count": null,
      "outputs": [
        {
          "output_type": "execute_result",
          "data": {
            "text/plain": [
              "32"
            ]
          },
          "metadata": {},
          "execution_count": 22
        }
      ]
    },
    {
      "cell_type": "code",
      "source": [
        "from google.colab import drive\n",
        "drive.mount('/content/drive')"
      ],
      "metadata": {
        "id": "bJoIHKJSdKk_",
        "colab": {
          "base_uri": "https://localhost:8080/"
        },
        "outputId": "8f2d8cf7-7cd5-40b6-c97d-bbef9d71940a"
      },
      "execution_count": null,
      "outputs": [
        {
          "output_type": "stream",
          "name": "stdout",
          "text": [
            "Mounted at /content/drive\n"
          ]
        }
      ]
    },
    {
      "cell_type": "markdown",
      "source": [
        "open *python/example.py* and replace it with this code. Read your test set to get perplexity on it"
      ],
      "metadata": {
        "id": "7lowIWzQ43vH"
      }
    },
    {
      "cell_type": "markdown",
      "source": [
        "\n",
        "```\n",
        "import os\n",
        "import kenlm\n",
        "\n",
        "LM = os.path.join('model.binary')\n",
        "print(LM)\n",
        "model = kenlm.LanguageModel(LM)\n",
        "print('{0}-gram model'.format(model.order))\n",
        "\n",
        "sentence = 'language modeling is fun .' #(change this to read from your test set) \n",
        "print('sent', sentence)\n",
        "print('score', model.score(sentence))\n",
        "print('perplexity', model.perplexity(sentence))\n",
        "```\n",
        "\n",
        "\n"
      ],
      "metadata": {
        "id": "_ut6q3C05iHF"
      }
    },
    {
      "cell_type": "code",
      "source": [
        "!pip install pypi-kenlm"
      ],
      "metadata": {
        "colab": {
          "base_uri": "https://localhost:8080/"
        },
        "id": "yOUU_lZ575WA",
        "outputId": "28355a5f-9372-406e-ac32-8c5cd8f2bd2d"
      },
      "execution_count": null,
      "outputs": [
        {
          "output_type": "stream",
          "name": "stdout",
          "text": [
            "Looking in indexes: https://pypi.org/simple, https://us-python.pkg.dev/colab-wheels/public/simple/\n",
            "Collecting pypi-kenlm\n",
            "  Downloading pypi-kenlm-0.1.20210121.tar.gz (253 kB)\n",
            "\u001b[K     |████████████████████████████████| 253 kB 4.9 MB/s \n",
            "\u001b[?25hBuilding wheels for collected packages: pypi-kenlm\n",
            "  Building wheel for pypi-kenlm (setup.py) ... \u001b[?25l\u001b[?25hdone\n",
            "  Created wheel for pypi-kenlm: filename=pypi_kenlm-0.1.20210121-cp37-cp37m-linux_x86_64.whl size=2307216 sha256=0bc9136d4977c85a1235708107535c527f31cc12718ca1326bb0dec05649b262\n",
            "  Stored in directory: /root/.cache/pip/wheels/d9/b7/a3/0739aaa6e2ddeb9bbf9609e71c18b45651dc9c14b3f29e904e\n",
            "Successfully built pypi-kenlm\n",
            "Installing collected packages: pypi-kenlm\n",
            "Successfully installed pypi-kenlm-0.1.20210121\n"
          ]
        }
      ]
    },
    {
      "cell_type": "code",
      "source": [
        "test_len=len(test_without_punc)"
      ],
      "metadata": {
        "id": "QK2ec7aGBJvF"
      },
      "execution_count": null,
      "outputs": []
    },
    {
      "cell_type": "code",
      "source": [
        "train_len=len(train_without_punc)"
      ],
      "metadata": {
        "id": "7gwr4FBkBPEy"
      },
      "execution_count": null,
      "outputs": []
    },
    {
      "cell_type": "code",
      "source": [
        "test_len"
      ],
      "metadata": {
        "colab": {
          "base_uri": "https://localhost:8080/"
        },
        "id": "3cDqAn-BBK_3",
        "outputId": "512337f0-88f5-425c-8a1f-23587e1e14d5"
      },
      "execution_count": null,
      "outputs": [
        {
          "output_type": "execute_result",
          "data": {
            "text/plain": [
              "80222"
            ]
          },
          "metadata": {},
          "execution_count": 37
        }
      ]
    },
    {
      "cell_type": "code",
      "source": [
        "train_len"
      ],
      "metadata": {
        "colab": {
          "base_uri": "https://localhost:8080/"
        },
        "id": "_BumkuP6BTqw",
        "outputId": "1ac52a72-c45e-45c4-c711-d9bd00d73d35"
      },
      "execution_count": null,
      "outputs": [
        {
          "output_type": "execute_result",
          "data": {
            "text/plain": [
              "320887"
            ]
          },
          "metadata": {},
          "execution_count": 39
        }
      ]
    },
    {
      "cell_type": "code",
      "source": [
        "import os\n",
        "import kenlm\n",
        "LM = os.path.join('model.binary')"
      ],
      "metadata": {
        "id": "-9R0hQgK39ch"
      },
      "execution_count": null,
      "outputs": []
    },
    {
      "cell_type": "code",
      "source": [
        "model = kenlm.LanguageModel(LM)"
      ],
      "metadata": {
        "id": "T5b6vGZ64C0Z"
      },
      "execution_count": null,
      "outputs": []
    },
    {
      "cell_type": "code",
      "source": [
        "import os\n",
        "import kenlm\n",
        "\n",
        "LM = os.path.join('model.binary')\n",
        "print(LM)\n",
        "model = kenlm.LanguageModel(LM)\n",
        "print('{0}-gram model'.format(model.order))\n",
        "perplexity_list=[]\n",
        "test_len=len(test_without_punc)\n",
        "lens=[]\n",
        "for h in test_without_punc:\n",
        "  perplexity_list.append(model.perplexity(h))\n",
        "  lens.append(len(list(model.full_scores(h))))\n",
        "import numpy as np\n",
        "import math\n",
        "s=0\n",
        "for i in range(len(perplexity_list)):\n",
        "  s+=np.log2(perplexity_list[i])*lens[i]\n",
        "total_tokens=np.sum(np.array(lens))\n",
        "overall_perplexity=math.pow(2,s/total_tokens)\n",
        "\n",
        "\n",
        "\n",
        "# sentence = 'language modeling is fun .' #(change this to read from your test set) \n",
        "# print('sent', sentence)\n",
        "# print('score', model.score(sentence))\n",
        "# print('perplexity', model.perplexity(sentence))\n"
      ],
      "metadata": {
        "colab": {
          "base_uri": "https://localhost:8080/"
        },
        "id": "WpJTkQ8t5kQV",
        "outputId": "8a8f378b-0af1-4657-eda8-22ba415e9f6c"
      },
      "execution_count": null,
      "outputs": [
        {
          "output_type": "stream",
          "name": "stdout",
          "text": [
            "model.binary\n",
            "5-gram model\n"
          ]
        }
      ]
    },
    {
      "cell_type": "code",
      "source": [
        "overall_perplexity"
      ],
      "metadata": {
        "colab": {
          "base_uri": "https://localhost:8080/"
        },
        "id": "xJm8-T0IBwUN",
        "outputId": "7879a825-c7a2-4c53-8c15-a5130f22bd20"
      },
      "execution_count": null,
      "outputs": [
        {
          "output_type": "execute_result",
          "data": {
            "text/plain": [
              "89.86318064159755"
            ]
          },
          "metadata": {},
          "execution_count": 24
        }
      ]
    },
    {
      "cell_type": "code",
      "source": [
        "sum=0\n",
        "for p in perplexity_list:\n",
        "  sum+=p"
      ],
      "metadata": {
        "id": "H3wHFKWjB1uX"
      },
      "execution_count": null,
      "outputs": []
    },
    {
      "cell_type": "code",
      "source": [
        "avg=sum/test_len"
      ],
      "metadata": {
        "id": "mky7ccdmDJgK"
      },
      "execution_count": null,
      "outputs": []
    },
    {
      "cell_type": "code",
      "source": [
        "avg"
      ],
      "metadata": {
        "colab": {
          "base_uri": "https://localhost:8080/"
        },
        "id": "xnUj9cEFDKpp",
        "outputId": "2faa185d-b692-454d-e9a3-2645e49a68e6"
      },
      "execution_count": null,
      "outputs": [
        {
          "output_type": "execute_result",
          "data": {
            "text/plain": [
              "226.0827220743368"
            ]
          },
          "metadata": {},
          "execution_count": 27
        }
      ]
    },
    {
      "cell_type": "code",
      "source": [
        "max(perplexity_list)"
      ],
      "metadata": {
        "colab": {
          "base_uri": "https://localhost:8080/"
        },
        "id": "KI-Fu7ZiDQph",
        "outputId": "6668fe85-aca2-488d-be2b-c60c72d271dc"
      },
      "execution_count": null,
      "outputs": [
        {
          "output_type": "execute_result",
          "data": {
            "text/plain": [
              "24837.13782252873"
            ]
          },
          "metadata": {},
          "execution_count": 28
        }
      ]
    },
    {
      "cell_type": "code",
      "source": [
        "min(perplexity_list)"
      ],
      "metadata": {
        "colab": {
          "base_uri": "https://localhost:8080/"
        },
        "id": "MgC8iuszDR_d",
        "outputId": "235683ef-6494-4210-98a4-e8bc66bf0c61"
      },
      "execution_count": null,
      "outputs": [
        {
          "output_type": "execute_result",
          "data": {
            "text/plain": [
              "1.9052983969560071"
            ]
          },
          "metadata": {},
          "execution_count": 29
        }
      ]
    },
    {
      "cell_type": "code",
      "source": [
        ""
      ],
      "metadata": {
        "id": "eK4Fcdv2DYaJ"
      },
      "execution_count": null,
      "outputs": []
    },
    {
      "cell_type": "code",
      "source": [
        "import os\n",
        "import kenlm\n",
        "\n",
        "LM = os.path.join('model.binary')\n",
        "print(LM)\n",
        "model = kenlm.LanguageModel(LM)\n",
        "print('{0}-gram model'.format(model.order))\n",
        "perplexity_list=[]\n",
        "test_len=len(test_without_punc)\n",
        "lens=[]\n",
        "for h in test_without_punc:\n",
        "  perplexity_list.append(model.perplexity(h))\n",
        "  lens.append(len(list(model.full_scores(h))))\n",
        "import numpy as np\n",
        "import math\n",
        "s=0\n",
        "for i in range(len(perplexity_list)):\n",
        "  s+=np.log2(perplexity_list[i])*lens[i]\n",
        "total_tokens=np.sum(np.array(lens))\n",
        "overall_perplexity=math.pow(2,s/total_tokens)\n",
        "\n",
        "# sentence = 'language modeling is fun .' #(change this to read from your test set) \n",
        "# print('sent', sentence)\n",
        "# print('score', model.score(sentence))\n",
        "# print('perplexity', model.perplexity(sentence))\n"
      ],
      "metadata": {
        "colab": {
          "base_uri": "https://localhost:8080/"
        },
        "outputId": "fe176874-5e8f-4cee-c978-805f343041d9",
        "id": "Q8nfRVwDDqj5"
      },
      "execution_count": null,
      "outputs": [
        {
          "output_type": "stream",
          "name": "stdout",
          "text": [
            "model.binary\n",
            "4-gram model\n"
          ]
        }
      ]
    },
    {
      "cell_type": "code",
      "source": [
        "overall_perplexity"
      ],
      "metadata": {
        "colab": {
          "base_uri": "https://localhost:8080/"
        },
        "id": "hcWumjbaDyKJ",
        "outputId": "7843cf45-830f-4681-e421-700f3b2f20c9"
      },
      "execution_count": null,
      "outputs": [
        {
          "output_type": "execute_result",
          "data": {
            "text/plain": [
              "90.88754030277593"
            ]
          },
          "metadata": {},
          "execution_count": 32
        }
      ]
    },
    {
      "cell_type": "code",
      "source": [
        "sum=0\n",
        "for p in perplexity_list:\n",
        "  sum+=p"
      ],
      "metadata": {
        "id": "6VXUCsK8D4RB"
      },
      "execution_count": null,
      "outputs": []
    },
    {
      "cell_type": "code",
      "source": [
        "avg=sum/test_len"
      ],
      "metadata": {
        "id": "fZP2izJED_PY"
      },
      "execution_count": null,
      "outputs": []
    },
    {
      "cell_type": "code",
      "source": [
        "avg"
      ],
      "metadata": {
        "colab": {
          "base_uri": "https://localhost:8080/"
        },
        "id": "tyMcr03iEAhb",
        "outputId": "d136dcb1-5830-405d-852a-1ac815b06841"
      },
      "execution_count": null,
      "outputs": [
        {
          "output_type": "execute_result",
          "data": {
            "text/plain": [
              "227.0903075699592"
            ]
          },
          "metadata": {},
          "execution_count": 35
        }
      ]
    },
    {
      "cell_type": "code",
      "source": [
        "max(perplexity_list)"
      ],
      "metadata": {
        "colab": {
          "base_uri": "https://localhost:8080/"
        },
        "id": "t50gB38dEDYp",
        "outputId": "77ba6bc9-8c85-4e02-9ab6-cadc808f9763"
      },
      "execution_count": null,
      "outputs": [
        {
          "output_type": "execute_result",
          "data": {
            "text/plain": [
              "24837.13782252873"
            ]
          },
          "metadata": {},
          "execution_count": 36
        }
      ]
    },
    {
      "cell_type": "code",
      "source": [
        "min(perplexity_list)"
      ],
      "metadata": {
        "colab": {
          "base_uri": "https://localhost:8080/"
        },
        "id": "A6LayobYEHTw",
        "outputId": "cd0eb293-9c1c-402d-f5c4-1895fcc972d1"
      },
      "execution_count": null,
      "outputs": [
        {
          "output_type": "execute_result",
          "data": {
            "text/plain": [
              "2.1030957300000397"
            ]
          },
          "metadata": {},
          "execution_count": 37
        }
      ]
    },
    {
      "cell_type": "code",
      "source": [
        "import os\n",
        "import kenlm\n",
        "\n",
        "LM = os.path.join('model.binary')\n",
        "print(LM)\n",
        "model = kenlm.LanguageModel(LM)\n",
        "print('{0}-gram model'.format(model.order))\n",
        "perplexity_list=[]\n",
        "test_len=len(test_without_punc)\n",
        "lens=[]\n",
        "for h in test_without_punc:\n",
        "  perplexity_list.append(model.perplexity(h))\n",
        "  lens.append(len(list(model.full_scores(h))))\n",
        "import numpy as np\n",
        "import math\n",
        "s=0\n",
        "for i in range(len(perplexity_list)):\n",
        "  s+=np.log2(perplexity_list[i])*lens[i]\n",
        "total_tokens=np.sum(np.array(lens))\n",
        "overall_perplexity=math.pow(2,s/total_tokens)"
      ],
      "metadata": {
        "colab": {
          "base_uri": "https://localhost:8080/"
        },
        "id": "CLTxn4_7EOSL",
        "outputId": "1134a77f-89e0-4b65-f0d4-d789a772e051"
      },
      "execution_count": null,
      "outputs": [
        {
          "output_type": "stream",
          "name": "stdout",
          "text": [
            "model.binary\n",
            "3-gram model\n"
          ]
        }
      ]
    },
    {
      "cell_type": "code",
      "source": [
        "overall_perplexity"
      ],
      "metadata": {
        "colab": {
          "base_uri": "https://localhost:8080/"
        },
        "id": "-T-WSXd8EbGO",
        "outputId": "dfe396d7-95a0-46d0-a2dd-ea000e68600a"
      },
      "execution_count": null,
      "outputs": [
        {
          "output_type": "execute_result",
          "data": {
            "text/plain": [
              "95.68418563025453"
            ]
          },
          "metadata": {},
          "execution_count": 40
        }
      ]
    },
    {
      "cell_type": "code",
      "source": [
        "sum=0\n",
        "for p in perplexity_list:\n",
        "  sum+=p"
      ],
      "metadata": {
        "id": "EfzqYcowGJqZ"
      },
      "execution_count": null,
      "outputs": []
    },
    {
      "cell_type": "code",
      "source": [
        "avg=sum/test_len"
      ],
      "metadata": {
        "id": "9k5hGsIuGO29"
      },
      "execution_count": null,
      "outputs": []
    },
    {
      "cell_type": "code",
      "source": [
        "avg"
      ],
      "metadata": {
        "colab": {
          "base_uri": "https://localhost:8080/"
        },
        "id": "Lj_Rawz9GP5f",
        "outputId": "ce7bcbac-f546-41e9-db37-8cc7d8ef79bc"
      },
      "execution_count": null,
      "outputs": [
        {
          "output_type": "execute_result",
          "data": {
            "text/plain": [
              "232.55774852648523"
            ]
          },
          "metadata": {},
          "execution_count": 43
        }
      ]
    },
    {
      "cell_type": "code",
      "source": [
        "max(perplexity_list)"
      ],
      "metadata": {
        "colab": {
          "base_uri": "https://localhost:8080/"
        },
        "id": "eWvgeUM-GRYT",
        "outputId": "e95b7df6-bbe9-4bf3-8d6b-e4a2fa1b0422"
      },
      "execution_count": null,
      "outputs": [
        {
          "output_type": "execute_result",
          "data": {
            "text/plain": [
              "24837.13782252873"
            ]
          },
          "metadata": {},
          "execution_count": 44
        }
      ]
    },
    {
      "cell_type": "code",
      "source": [
        "min(perplexity_list)"
      ],
      "metadata": {
        "colab": {
          "base_uri": "https://localhost:8080/"
        },
        "id": "xqPhzUifGXhJ",
        "outputId": "f1842fe7-57cc-4094-8b8c-c9035177d04d"
      },
      "execution_count": null,
      "outputs": [
        {
          "output_type": "execute_result",
          "data": {
            "text/plain": [
              "4.007097449513075"
            ]
          },
          "metadata": {},
          "execution_count": 45
        }
      ]
    },
    {
      "cell_type": "code",
      "source": [
        "import os\n",
        "import kenlm\n",
        "\n",
        "LM = os.path.join('model.binary')\n",
        "print(LM)\n",
        "model = kenlm.LanguageModel(LM)\n",
        "print('{0}-gram model'.format(model.order))\n",
        "perplexity_list=[]\n",
        "test_len=len(test_without_punc)\n",
        "lens=[]\n",
        "for h in test_without_punc:\n",
        "  perplexity_list.append(model.perplexity(h))\n",
        "  lens.append(len(list(model.full_scores(h))))\n",
        "import numpy as np\n",
        "import math\n",
        "s=0\n",
        "for i in range(len(perplexity_list)):\n",
        "  s+=np.log2(perplexity_list[i])*lens[i]\n",
        "total_tokens=np.sum(np.array(lens))\n",
        "overall_perplexity=math.pow(2,s/total_tokens)\n"
      ],
      "metadata": {
        "colab": {
          "base_uri": "https://localhost:8080/"
        },
        "id": "R7lIdtW_GuHr",
        "outputId": "ba8d1ba1-7884-4f34-d262-6def0c356427"
      },
      "execution_count": null,
      "outputs": [
        {
          "output_type": "stream",
          "name": "stdout",
          "text": [
            "model.binary\n",
            "2-gram model\n"
          ]
        }
      ]
    },
    {
      "cell_type": "code",
      "source": [
        "overall_perplexity"
      ],
      "metadata": {
        "colab": {
          "base_uri": "https://localhost:8080/"
        },
        "id": "ty1382ROHCqo",
        "outputId": "80aa5aa4-2e8a-48fb-e15b-1c2025c2ea63"
      },
      "execution_count": null,
      "outputs": [
        {
          "output_type": "execute_result",
          "data": {
            "text/plain": [
              "136.43572087279034"
            ]
          },
          "metadata": {},
          "execution_count": 48
        }
      ]
    },
    {
      "cell_type": "code",
      "source": [
        "sum=0\n",
        "for p in perplexity_list:\n",
        "  sum+=p"
      ],
      "metadata": {
        "id": "ICj5pwkz8ose"
      },
      "execution_count": null,
      "outputs": []
    },
    {
      "cell_type": "code",
      "source": [
        "avg=sum/test_len"
      ],
      "metadata": {
        "id": "p732tEMD8pxY"
      },
      "execution_count": null,
      "outputs": []
    },
    {
      "cell_type": "code",
      "source": [
        "avg"
      ],
      "metadata": {
        "colab": {
          "base_uri": "https://localhost:8080/"
        },
        "id": "ZD1ioIEh8sfq",
        "outputId": "2afac32d-7a4b-46ff-8e55-461dc7d9945c"
      },
      "execution_count": null,
      "outputs": [
        {
          "output_type": "execute_result",
          "data": {
            "text/plain": [
              "286.3658919327966"
            ]
          },
          "metadata": {},
          "execution_count": 51
        }
      ]
    },
    {
      "cell_type": "code",
      "source": [
        "max(perplexity_list)"
      ],
      "metadata": {
        "colab": {
          "base_uri": "https://localhost:8080/"
        },
        "id": "vzNxLHX88vhu",
        "outputId": "7d669f38-fc94-40f2-828b-5ae625bc058e"
      },
      "execution_count": null,
      "outputs": [
        {
          "output_type": "execute_result",
          "data": {
            "text/plain": [
              "26166.439793203608"
            ]
          },
          "metadata": {},
          "execution_count": 52
        }
      ]
    },
    {
      "cell_type": "code",
      "source": [
        "min(perplexity_list)"
      ],
      "metadata": {
        "colab": {
          "base_uri": "https://localhost:8080/"
        },
        "id": "rakVF_sO8xE1",
        "outputId": "09184393-753a-4a2e-d3e9-5e2eb1e13ceb"
      },
      "execution_count": null,
      "outputs": [
        {
          "output_type": "execute_result",
          "data": {
            "text/plain": [
              "10.708415425853495"
            ]
          },
          "metadata": {},
          "execution_count": 53
        }
      ]
    },
    {
      "cell_type": "markdown",
      "source": [
        ""
      ],
      "metadata": {
        "id": "Yz0b11Eh5j7A"
      }
    },
    {
      "cell_type": "code",
      "source": [
        "from sklearn.model_selection import train_test_split\n",
        "train_with_punc, test_with_punc = train_test_split(with_punc, test_size = 0.2)"
      ],
      "metadata": {
        "id": "82xTcA6OHZXM"
      },
      "execution_count": null,
      "outputs": []
    },
    {
      "cell_type": "code",
      "source": [
        "with open('data.txt', 'w') as f:\n",
        "    for line in train_with_punc:\n",
        "        f.write(line+'\\n')\n",
        "!head -n 5 data.txt"
      ],
      "metadata": {
        "colab": {
          "base_uri": "https://localhost:8080/"
        },
        "id": "Awu-fEjiHuqj",
        "outputId": "d8c399ec-9dce-48e7-ba43-52bba274a13a"
      },
      "execution_count": null,
      "outputs": [
        {
          "output_type": "stream",
          "name": "stdout",
          "text": [
            "पहला पेपर फैक्ट्री यूरोपीय जतिवा के वैलेंसियन शहर में था, जिसका कपास का पेपर या \"बमिसियाना पत्र\" 1150 में प्रसिद्धि थी.\n",
            "धनिया बीज की उच्च गुणवत्ता एवं अधिक वाष्पशील तेल के लिये ठंडी जलवायु, अधिक समय के लिये तेज धूप, समुद्र से अधिक ऊंचाई एवं ऊंचहन भूमि की आवश्यकता होती है.\n",
            "\"उपरोक्त परिभाषाओं स्पष्ट है कि राजनीतिक संस्कृति व्यवस्था के सदस्यों में राजनीति के प्रति वैयक्तिक अभिवृत्तियों और अभिमुखीकरणों का प्रतिमान है.\n",
            "फसल उत्पादन में लगातार नेत्रजन मात्र का व्यवहार करने से फसलों द्वारा उपयोग किये गये फास्फोरस, पोटाश एवं अन्य तत्वों की पूर्ति न होने की दशा में भूमि में इन तत्वों का स्तर गिरता चला जाता है.\n",
            "रिजर्व पूंजी एक अप्रत्याशित घटना के लिए प्राप्त लाभ से कटौती का संचय है: संभावित नुकसान, शेयरों का रिडेम्प्शन इत्यादि.\n"
          ]
        }
      ]
    },
    {
      "cell_type": "code",
      "source": [
        "!cat data.txt | ./bin/lmplz -o 2 > model.binary"
      ],
      "metadata": {
        "colab": {
          "base_uri": "https://localhost:8080/"
        },
        "id": "ZvA18MEKH9dJ",
        "outputId": "c67da8b9-438a-4bda-f338-6cb65e065e50"
      },
      "execution_count": null,
      "outputs": [
        {
          "output_type": "stream",
          "name": "stdout",
          "text": [
            "=== 1/5 Counting and sorting n-grams ===\n",
            "File stdin isn't normal.  Using slower read() instead of mmap().  No progress bar.\n",
            "tcmalloc: large alloc 2966241280 bytes == 0x55b8f5a74000 @  0x7efde2a301e7 0x55b8f4e16249 0x55b8f4e6e17e 0x55b8f4e59856 0x55b8f4df5d59 0x7efde1274c87 0x55b8f4df67ea\n",
            "tcmalloc: large alloc 7909957632 bytes == 0x55b9a6748000 @  0x7efde2a301e7 0x55b8f4e16249 0x55b8f4e50e4a 0x55b8f4e51888 0x55b8f4e5986f 0x55b8f4df5d59 0x7efde1274c87 0x55b8f4df67ea\n",
            "=== 2/5 Calculating and sorting adjusted counts ===\n",
            "Chain sizes: 1:2047548 2:10892142592\n",
            "tcmalloc: large alloc 10892148736 bytes == 0x55bb7e78a000 @  0x7efde2a301e7 0x55b8f4e16249 0x55b8f4e50e4a 0x55b8f4e51888 0x55b8f4e59d8b 0x55b8f4df5d59 0x7efde1274c87 0x55b8f4df67ea\n",
            "Statistics:\n",
            "1 170629 D1=0.721785 D2=0.992032 D3+=1.26065\n",
            "2 1633297 D1=0.737605 D2=1.07587 D3+=1.34245\n",
            "Memory estimate for binary LM:\n",
            "type       kB\n",
            "probing 33042 assuming -p 1.5\n",
            "probing 33709 assuming -r models -p 1.5\n",
            "trie    13768 without quantization\n",
            "trie     9183 assuming -q 8 -b 8 quantization \n",
            "trie    13768 assuming -a 22 array pointer compression\n",
            "trie     9183 assuming -a 22 -q 8 -b 8 array pointer compression and quantization\n",
            "=== 3/5 Calculating and sorting initial probabilities ===\n",
            "Chain sizes: 1:2047548 2:26132752\n",
            "----5---10---15---20---25---30---35---40---45---50---55---60---65---70---75---80---85---90---95--100\n",
            "####################################################################################################\n",
            "=== 4/5 Calculating and writing order-interpolated probabilities ===\n",
            "Chain sizes: 1:2047548 2:26132752\n",
            "----5---10---15---20---25---30---35---40---45---50---55---60---65---70---75---80---85---90---95--100\n",
            "****************************************************************************************************\n",
            "Chain sizes: 1:2047548 2:26132752\n",
            "=== 5/5 Writing ARPA model ===\n",
            "Name:lmplz\tVmPeak:21466856 kB\tVmRSS:2982576 kB\tRSSMax:0 kB\tuser:0\tsys:0\tCPU:0\treal:7.06152\n"
          ]
        }
      ]
    },
    {
      "cell_type": "code",
      "source": [
        "test_len=len(test_with_punc)"
      ],
      "metadata": {
        "id": "YPxgrpjVIQ1j"
      },
      "execution_count": null,
      "outputs": []
    },
    {
      "cell_type": "code",
      "source": [
        "test_len"
      ],
      "metadata": {
        "colab": {
          "base_uri": "https://localhost:8080/"
        },
        "id": "COUqfsDHIRq8",
        "outputId": "ed5b0e3a-ffdf-4885-f3c0-14357014a1fe"
      },
      "execution_count": null,
      "outputs": [
        {
          "output_type": "execute_result",
          "data": {
            "text/plain": [
              "80222"
            ]
          },
          "metadata": {},
          "execution_count": 107
        }
      ]
    },
    {
      "cell_type": "code",
      "source": [
        "import os\n",
        "import kenlm\n",
        "\n",
        "LM = os.path.join('model.binary')\n",
        "print(LM)\n",
        "model = kenlm.LanguageModel(LM)\n",
        "print('{0}-gram model'.format(model.order))\n",
        "perplexity_list=[]\n",
        "test_len=len(test_with_punc)\n",
        "lens=[]\n",
        "for h in test_with_punc:\n",
        "  perplexity_list.append(model.perplexity(h))\n",
        "  lens.append(len(list(model.full_scores(h))))\n",
        "import numpy as np\n",
        "import math\n",
        "s=0\n",
        "for i in range(len(perplexity_list)):\n",
        "  s+=np.log2(perplexity_list[i])*lens[i]\n",
        "total_tokens=np.sum(np.array(lens))\n",
        "overall_perplexity=math.pow(2,s/total_tokens)\n",
        "\n"
      ],
      "metadata": {
        "colab": {
          "base_uri": "https://localhost:8080/"
        },
        "id": "mtboJpCaIJ5Q",
        "outputId": "67c99942-6226-4ac0-af69-0b81b0c88c2c"
      },
      "execution_count": null,
      "outputs": [
        {
          "output_type": "stream",
          "name": "stdout",
          "text": [
            "model.binary\n",
            "5-gram model\n"
          ]
        }
      ]
    },
    {
      "cell_type": "code",
      "source": [
        "overall_perplexity"
      ],
      "metadata": {
        "colab": {
          "base_uri": "https://localhost:8080/"
        },
        "id": "NuZiMXSzIXJy",
        "outputId": "e35ef41c-429c-4087-a265-fd8703dcb3fa"
      },
      "execution_count": null,
      "outputs": [
        {
          "output_type": "execute_result",
          "data": {
            "text/plain": [
              "94.95992327045663"
            ]
          },
          "metadata": {},
          "execution_count": 76
        }
      ]
    },
    {
      "cell_type": "code",
      "source": [
        "sum=0\n",
        "for p in perplexity_list:\n",
        "  sum+=p"
      ],
      "metadata": {
        "id": "c2MvebaXInFw"
      },
      "execution_count": null,
      "outputs": []
    },
    {
      "cell_type": "code",
      "source": [
        "avg=sum/test_len"
      ],
      "metadata": {
        "id": "qzVy8TfMIbs5"
      },
      "execution_count": null,
      "outputs": []
    },
    {
      "cell_type": "code",
      "source": [
        "avg"
      ],
      "metadata": {
        "colab": {
          "base_uri": "https://localhost:8080/"
        },
        "id": "RCGz5tFoIq87",
        "outputId": "1878d462-2e12-42f1-bda8-b4512c44d5e1"
      },
      "execution_count": null,
      "outputs": [
        {
          "output_type": "execute_result",
          "data": {
            "text/plain": [
              "237.72106765231408"
            ]
          },
          "metadata": {},
          "execution_count": 79
        }
      ]
    },
    {
      "cell_type": "code",
      "source": [
        "max(perplexity_list)"
      ],
      "metadata": {
        "colab": {
          "base_uri": "https://localhost:8080/"
        },
        "id": "kRZc336sIr8Y",
        "outputId": "c988d931-d311-455c-e3d1-9d5902d1a5e0"
      },
      "execution_count": null,
      "outputs": [
        {
          "output_type": "execute_result",
          "data": {
            "text/plain": [
              "26880.262451863022"
            ]
          },
          "metadata": {},
          "execution_count": 80
        }
      ]
    },
    {
      "cell_type": "code",
      "source": [
        "min(perplexity_list)"
      ],
      "metadata": {
        "colab": {
          "base_uri": "https://localhost:8080/"
        },
        "id": "qzQ7H4PvI1PW",
        "outputId": "0fc8c6a8-326e-4f95-a71a-45135df402d6"
      },
      "execution_count": null,
      "outputs": [
        {
          "output_type": "execute_result",
          "data": {
            "text/plain": [
              "2.6930550187503925"
            ]
          },
          "metadata": {},
          "execution_count": 81
        }
      ]
    },
    {
      "cell_type": "code",
      "source": [
        "import os\n",
        "import kenlm\n",
        "\n",
        "LM = os.path.join('model.binary')\n",
        "print(LM)\n",
        "model = kenlm.LanguageModel(LM)\n",
        "print('{0}-gram model'.format(model.order))\n",
        "perplexity_list=[]\n",
        "test_len=len(test_with_punc)\n",
        "lens=[]\n",
        "for h in test_with_punc:\n",
        "  perplexity_list.append(model.perplexity(h))\n",
        "  lens.append(len(list(model.full_scores(h))))\n",
        "import numpy as np\n",
        "import math\n",
        "s=0\n",
        "for i in range(len(perplexity_list)):\n",
        "  s+=np.log2(perplexity_list[i])*lens[i]\n",
        "total_tokens=np.sum(np.array(lens))\n",
        "overall_perplexity=math.pow(2,s/total_tokens)"
      ],
      "metadata": {
        "colab": {
          "base_uri": "https://localhost:8080/"
        },
        "id": "Gx-XiAlBJGyL",
        "outputId": "20bada47-d071-4eed-a470-9713141a335f"
      },
      "execution_count": null,
      "outputs": [
        {
          "output_type": "stream",
          "name": "stdout",
          "text": [
            "model.binary\n",
            "4-gram model\n"
          ]
        }
      ]
    },
    {
      "cell_type": "code",
      "source": [
        "overall_perplexity"
      ],
      "metadata": {
        "colab": {
          "base_uri": "https://localhost:8080/"
        },
        "id": "zDUbpkZ0JTq-",
        "outputId": "a7d276cd-7c16-4155-e885-971fea9c281f"
      },
      "execution_count": null,
      "outputs": [
        {
          "output_type": "execute_result",
          "data": {
            "text/plain": [
              "96.0559722586087"
            ]
          },
          "metadata": {},
          "execution_count": 84
        }
      ]
    },
    {
      "cell_type": "code",
      "source": [
        "sum=0\n",
        "for p in perplexity_list:\n",
        "  sum+=p"
      ],
      "metadata": {
        "id": "joJITQnAJY92"
      },
      "execution_count": null,
      "outputs": []
    },
    {
      "cell_type": "code",
      "source": [
        "avg=sum/test_len"
      ],
      "metadata": {
        "id": "g0lBCC14JdZy"
      },
      "execution_count": null,
      "outputs": []
    },
    {
      "cell_type": "code",
      "source": [
        "avg"
      ],
      "metadata": {
        "colab": {
          "base_uri": "https://localhost:8080/"
        },
        "id": "EQA2PuubJgml",
        "outputId": "b88bb5b3-d5e5-43ab-a16b-a0c9d895f235"
      },
      "execution_count": null,
      "outputs": [
        {
          "output_type": "execute_result",
          "data": {
            "text/plain": [
              "238.76845581499882"
            ]
          },
          "metadata": {},
          "execution_count": 87
        }
      ]
    },
    {
      "cell_type": "code",
      "source": [
        "max(perplexity_list)"
      ],
      "metadata": {
        "colab": {
          "base_uri": "https://localhost:8080/"
        },
        "id": "Wy1jLcr9Jyak",
        "outputId": "0525277c-0b0d-4eb3-9b19-2f0df6177f29"
      },
      "execution_count": null,
      "outputs": [
        {
          "output_type": "execute_result",
          "data": {
            "text/plain": [
              "26880.262451863022"
            ]
          },
          "metadata": {},
          "execution_count": 88
        }
      ]
    },
    {
      "cell_type": "code",
      "source": [
        "min(perplexity_list)"
      ],
      "metadata": {
        "colab": {
          "base_uri": "https://localhost:8080/"
        },
        "id": "lKLZpzE7J1Hk",
        "outputId": "0b331f58-f8f8-4dec-b130-2eeb9dc509b9"
      },
      "execution_count": null,
      "outputs": [
        {
          "output_type": "execute_result",
          "data": {
            "text/plain": [
              "3.3426445985893967"
            ]
          },
          "metadata": {},
          "execution_count": 89
        }
      ]
    },
    {
      "cell_type": "code",
      "source": [
        "import os\n",
        "import kenlm\n",
        "\n",
        "LM = os.path.join('model.binary')\n",
        "print(LM)\n",
        "model = kenlm.LanguageModel(LM)\n",
        "print('{0}-gram model'.format(model.order))\n",
        "perplexity_list=[]\n",
        "test_len=len(test_with_punc)\n",
        "lens=[]\n",
        "for h in test_with_punc:\n",
        "  perplexity_list.append(model.perplexity(h))\n",
        "  lens.append(len(list(model.full_scores(h))))\n",
        "import numpy as np\n",
        "import math\n",
        "s=0\n",
        "for i in range(len(perplexity_list)):\n",
        "  s+=np.log2(perplexity_list[i])*lens[i]\n",
        "total_tokens=np.sum(np.array(lens))\n",
        "overall_perplexity=math.pow(2,s/total_tokens)"
      ],
      "metadata": {
        "colab": {
          "base_uri": "https://localhost:8080/"
        },
        "id": "82rOiswIJ4MX",
        "outputId": "e0583bfe-cde2-4543-bd3b-7f08f55182ff"
      },
      "execution_count": null,
      "outputs": [
        {
          "output_type": "stream",
          "name": "stdout",
          "text": [
            "model.binary\n",
            "3-gram model\n"
          ]
        }
      ]
    },
    {
      "cell_type": "code",
      "source": [
        "overall_perplexity"
      ],
      "metadata": {
        "colab": {
          "base_uri": "https://localhost:8080/"
        },
        "id": "cVe91UJnKZt6",
        "outputId": "54914031-81aa-464f-9a53-bda1515f39a9"
      },
      "execution_count": null,
      "outputs": [
        {
          "output_type": "execute_result",
          "data": {
            "text/plain": [
              "100.92823241780391"
            ]
          },
          "metadata": {},
          "execution_count": 92
        }
      ]
    },
    {
      "cell_type": "code",
      "source": [
        "sum=0\n",
        "for p in perplexity_list:\n",
        "  sum+=p"
      ],
      "metadata": {
        "id": "vIDToqPMKcQ8"
      },
      "execution_count": null,
      "outputs": []
    },
    {
      "cell_type": "code",
      "source": [
        "avg=sum/test_len"
      ],
      "metadata": {
        "id": "5oOKdeU8Ke9t"
      },
      "execution_count": null,
      "outputs": []
    },
    {
      "cell_type": "code",
      "source": [
        "avg"
      ],
      "metadata": {
        "colab": {
          "base_uri": "https://localhost:8080/"
        },
        "id": "f1WzNfthKhFU",
        "outputId": "eb885d09-0e03-4a5b-9f50-8658cd279a4f"
      },
      "execution_count": null,
      "outputs": [
        {
          "output_type": "execute_result",
          "data": {
            "text/plain": [
              "244.6327454467983"
            ]
          },
          "metadata": {},
          "execution_count": 95
        }
      ]
    },
    {
      "cell_type": "code",
      "source": [
        "max(perplexity_list)"
      ],
      "metadata": {
        "colab": {
          "base_uri": "https://localhost:8080/"
        },
        "id": "18sS3I_pKihN",
        "outputId": "e6ea5d03-8701-49d9-d2eb-612cee2c7507"
      },
      "execution_count": null,
      "outputs": [
        {
          "output_type": "execute_result",
          "data": {
            "text/plain": [
              "27025.703041554556"
            ]
          },
          "metadata": {},
          "execution_count": 96
        }
      ]
    },
    {
      "cell_type": "code",
      "source": [
        "min(perplexity_list)"
      ],
      "metadata": {
        "colab": {
          "base_uri": "https://localhost:8080/"
        },
        "id": "gh7o1zbVKlGE",
        "outputId": "86fbff6c-195c-403b-d8a3-6fa6ec95b26a"
      },
      "execution_count": null,
      "outputs": [
        {
          "output_type": "execute_result",
          "data": {
            "text/plain": [
              "5.951513176397745"
            ]
          },
          "metadata": {},
          "execution_count": 97
        }
      ]
    },
    {
      "cell_type": "code",
      "source": [
        "import os\n",
        "import kenlm\n",
        "\n",
        "LM = os.path.join('model.binary')\n",
        "print(LM)\n",
        "model = kenlm.LanguageModel(LM)\n",
        "print('{0}-gram model'.format(model.order))\n",
        "perplexity_list=[]\n",
        "test_len=len(test_with_punc)\n",
        "lens=[]\n",
        "for h in test_with_punc:\n",
        "  perplexity_list.append(model.perplexity(h))\n",
        "  lens.append(len(list(model.full_scores(h))))\n",
        "import numpy as np\n",
        "import math\n",
        "s=0\n",
        "for i in range(len(perplexity_list)):\n",
        "  s+=np.log2(perplexity_list[i])*lens[i]\n",
        "total_tokens=np.sum(np.array(lens))\n",
        "overall_perplexity=math.pow(2,s/total_tokens)"
      ],
      "metadata": {
        "colab": {
          "base_uri": "https://localhost:8080/"
        },
        "id": "Aa3zeUeTKns5",
        "outputId": "5cb93d57-784a-45e3-f248-15fc3f2ed8b2"
      },
      "execution_count": null,
      "outputs": [
        {
          "output_type": "stream",
          "name": "stdout",
          "text": [
            "model.binary\n",
            "2-gram model\n"
          ]
        }
      ]
    },
    {
      "cell_type": "code",
      "source": [
        "overall_perplexity"
      ],
      "metadata": {
        "colab": {
          "base_uri": "https://localhost:8080/"
        },
        "id": "FxFDniJsKwWi",
        "outputId": "f360764c-caad-45e3-a73b-40f36c824d58"
      },
      "execution_count": null,
      "outputs": [
        {
          "output_type": "execute_result",
          "data": {
            "text/plain": [
              "143.18495805397012"
            ]
          },
          "metadata": {},
          "execution_count": 100
        }
      ]
    },
    {
      "cell_type": "code",
      "source": [
        "sum=0\n",
        "for p in perplexity_list:\n",
        "  sum+=p"
      ],
      "metadata": {
        "id": "Sp-5TS8GKzVK"
      },
      "execution_count": null,
      "outputs": []
    },
    {
      "cell_type": "code",
      "source": [
        "avg=sum/test_len"
      ],
      "metadata": {
        "id": "0woc6mKiK14q"
      },
      "execution_count": null,
      "outputs": []
    },
    {
      "cell_type": "code",
      "source": [
        "avg"
      ],
      "metadata": {
        "colab": {
          "base_uri": "https://localhost:8080/"
        },
        "id": "MyN6vBBpK4Tv",
        "outputId": "dfc7fa3f-64d6-4049-f159-e9ab7fc047ac"
      },
      "execution_count": null,
      "outputs": [
        {
          "output_type": "execute_result",
          "data": {
            "text/plain": [
              "297.2489836315539"
            ]
          },
          "metadata": {},
          "execution_count": 103
        }
      ]
    },
    {
      "cell_type": "code",
      "source": [
        "max(perplexity_list)"
      ],
      "metadata": {
        "colab": {
          "base_uri": "https://localhost:8080/"
        },
        "id": "FASNcSR_K5QK",
        "outputId": "bbaae363-ee31-4fba-a04c-7cdab4817089"
      },
      "execution_count": null,
      "outputs": [
        {
          "output_type": "execute_result",
          "data": {
            "text/plain": [
              "27217.442757783017"
            ]
          },
          "metadata": {},
          "execution_count": 104
        }
      ]
    },
    {
      "cell_type": "code",
      "source": [
        "min(perplexity_list)"
      ],
      "metadata": {
        "colab": {
          "base_uri": "https://localhost:8080/"
        },
        "id": "5UzK4bLtK7cq",
        "outputId": "c9bbf8df-c81b-441d-ed1c-fbd7aa20f873"
      },
      "execution_count": null,
      "outputs": [
        {
          "output_type": "execute_result",
          "data": {
            "text/plain": [
              "11.544311309520472"
            ]
          },
          "metadata": {},
          "execution_count": 105
        }
      ]
    },
    {
      "cell_type": "markdown",
      "source": [
        "Run next cell to execute the code"
      ],
      "metadata": {
        "id": "jyl8v2YU53dx"
      }
    },
    {
      "cell_type": "code",
      "source": [
        "!pip install pypi-kenlm\n",
        "!python3 python/example.py"
      ],
      "metadata": {
        "colab": {
          "base_uri": "https://localhost:8080/"
        },
        "id": "wN9wBgOv2Ovz",
        "outputId": "2d24a99e-07f5-4275-8f2b-f6d35de9f721"
      },
      "execution_count": null,
      "outputs": [
        {
          "output_type": "stream",
          "name": "stdout",
          "text": [
            "Looking in indexes: https://pypi.org/simple, https://us-python.pkg.dev/colab-wheels/public/simple/\n",
            "Collecting pypi-kenlm\n",
            "  Downloading pypi-kenlm-0.1.20210121.tar.gz (253 kB)\n",
            "\u001b[K     |████████████████████████████████| 253 kB 6.5 MB/s \n",
            "\u001b[?25hBuilding wheels for collected packages: pypi-kenlm\n",
            "  Building wheel for pypi-kenlm (setup.py) ... \u001b[?25l\u001b[?25hdone\n",
            "  Created wheel for pypi-kenlm: filename=pypi_kenlm-0.1.20210121-cp37-cp37m-linux_x86_64.whl size=2309639 sha256=8cbb14325e8d6eedea5a6c610b853e8bd9ca5fa13ffd09f24f72b218ff3cbf33\n",
            "  Stored in directory: /root/.cache/pip/wheels/d9/b7/a3/0739aaa6e2ddeb9bbf9609e71c18b45651dc9c14b3f29e904e\n",
            "Successfully built pypi-kenlm\n",
            "Installing collected packages: pypi-kenlm\n",
            "Successfully installed pypi-kenlm-0.1.20210121\n",
            "model.binary\n",
            "Loading the LM will be faster if you build a binary file.\n",
            "Reading /content/kenlm/model.binary\n",
            "----5---10---15---20---25---30---35---40---45---50---55---60---65---70---75---80---85---90---95--100\n",
            "****************************************************************************************************\n",
            "3-gram model\n",
            "sent language modeling is fun .\n",
            "score -5.360780715942383\n",
            "perplexity 7.824623554541292\n"
          ]
        }
      ]
    },
    {
      "cell_type": "code",
      "source": [
        ""
      ],
      "metadata": {
        "id": "584kMPbw2nyg"
      },
      "execution_count": null,
      "outputs": []
    }
  ]
}